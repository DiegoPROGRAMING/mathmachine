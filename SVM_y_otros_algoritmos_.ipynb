{
  "nbformat": 4,
  "nbformat_minor": 0,
  "metadata": {
    "colab": {
      "provenance": []
    },
    "kernelspec": {
      "name": "python3",
      "display_name": "Python 3"
    },
    "language_info": {
      "name": "python"
    }
  },
  "cells": [
    {
      "cell_type": "markdown",
      "source": [
        "# Code Assigment 1\n",
        "\n",
        "Desarrollado por: Diego Alejandro Sánchez \n",
        "\n",
        "For this assignment you will use the following SVM implementation for classifying these datasets:\n",
        "https://archive.ics.uci.edu/ml/datasets/banknote+authentication\n",
        "\n",
        "\n",
        "https://archive.ics.uci.edu/ml/datasets/Occupancy+Detection+\n",
        "\n",
        "You should:\n",
        "\n",
        "1) Specify which Machine Learning problem are you solving.\n",
        "\n",
        "2) Provide a short summary of the features and the labels you are working on.\n",
        "\n",
        "3) Please answer the following questions: a) Are these datasets linearly separable? b) Are these datasets randomly chosen and c) The sample size is enough to guarantee generalization.\n",
        "\n",
        "4) Provide an explanation how and why the code is working. You can add comments and/or formal explanations into the notebook.\n",
        "\n",
        "5) Show some examples to illustrate that the method is working properly.\n",
        "\n",
        "6) Provide quantitative evidence for generalization using the provided dataset.\n"
      ],
      "metadata": {
        "id": "gt8009wzQGCf"
      }
    },
    {
      "cell_type": "markdown",
      "source": [
        "**Conclusiones generales**\n",
        "\n",
        "1. SVM machine es el medelo mas imparcial en terminos de generación de valores falsos positivos y falsos negativos.\n",
        "\n",
        "2. El arbol de decisión predijo el 100% porciento de los datos. Esto principalmente se debe a su nivel de sobre aprendizaje de los datos. Es aqui donde es clave el tamaño de las muestras y poder garantizar aleatoriedad de los datos. \n",
        "\n",
        "3. Es importante definir con el usuario si quiere minimizar el numero de falsos positivos o el numero de falsos negativos. uso de algoritmos como la regresión o la regresión logistica minimizan el numero de falsos negativos.\n",
        "\n",
        "4. La diferencia en este modelo en tre SVM y el SVM REvisitado, con la perdida de loss, no es muy alto, pero me miniza el numero de falsos negativos al usar el SVM revisitado.\n",
        "\n",
        "5. El codigo inicial dato no logra encontrar un optimo por su formulación en especial porque no esta configurado para más de 2 características, en su regla de optimización.\n",
        "\n",
        "6. En la evaluación de algoritmos evaluamos 2 cosas, su precisión de predicicón y los errores del modelo, en terminos de falsos positivos y falsos negativos.\n",
        "\n",
        "7. En el modelo de billetes tecnicamente es más facil de generalizar. Partiendo del suspuesto que las tecnicas para falsificación de billetes hayan sido captadas en la muestra. Adicionalmente es importante tener caracteristicas como el lote de fabricación, pues permiten controlar diferencias entre los billetes buenos.\n",
        "\n",
        "8. En el modelo de ocupación el modelo generaliza para otra muestra tomada para esos dias, pero, bajo las condiciones es muy probable que no generalice para muestras tomadas en otros dias.\n",
        "\n",
        "9. Para ambos modelos es importante tener cuidado con los puntos de frontera y los outliers, En especial si teno un modelo de regresión lineal, porque puede que una caracteristica outlier me clasifique mal el modelo y puede que una regla de frontera me amplie falsos positivos o falsos negativos.\n",
        "\n",
        "10. Siempre es deseable tener más datos para estar más tranquilo del modelo obtenido.\n",
        "\n",
        "\n"
      ],
      "metadata": {
        "id": "ZriOwHe2Oml6"
      }
    },
    {
      "cell_type": "code",
      "source": [
        "# apertura de paquetes \n",
        "import matplotlib.pyplot as plt\n",
        "from matplotlib import style\n",
        "import pandas as pd\n",
        "import numpy as np\n",
        "import os\n",
        "from google.colab import drive\n",
        "style.use('ggplot')"
      ],
      "metadata": {
        "id": "xxS38r5RTi3-"
      },
      "execution_count": 1,
      "outputs": []
    },
    {
      "cell_type": "code",
      "source": [
        "\n",
        "# lectura base de datos \n",
        "\n",
        "# primer base de datos\n",
        "a = pd.read_csv('/content/drive/Shareddrives/Python universe/DATA/1datatest2.txt', sep = \",\")\n",
        "a1 = pd.read_csv(r'/content/drive/Shareddrives/Python universe/DATA/1datatest.txt', sep = \",\")\n",
        "a2 = pd.read_csv(r'/content/drive/Shareddrives/Python universe/DATA/1datatraining.txt', sep = \",\")\n",
        "\n",
        "# segunda base de datos\n",
        "b = pd.read_csv('/content/drive/Shareddrives/Python universe/DATA/2data.txt', sep = \",\")"
      ],
      "metadata": {
        "id": "ToeiClmpY3JA"
      },
      "execution_count": 2,
      "outputs": []
    },
    {
      "cell_type": "markdown",
      "source": [
        "Las siguientes lineas se usaron para estimar la data de entrenamiento y la data de testeo del modelo de billetes"
      ],
      "metadata": {
        "id": "EMYI3MtgXqG6"
      }
    },
    {
      "cell_type": "code",
      "source": [
        "b"
      ],
      "metadata": {
        "colab": {
          "base_uri": "https://localhost:8080/",
          "height": 423
        },
        "id": "jFENLsWA174J",
        "outputId": "f3f832c9-1153-4812-e0ea-c6aa0604a02c"
      },
      "execution_count": 3,
      "outputs": [
        {
          "output_type": "execute_result",
          "data": {
            "text/plain": [
              "      varianza imagen  sesgo imagen  curtosis  entropias  clasificación\n",
              "0             3.62160       8.66610   -2.8073   -0.44699              0\n",
              "1             4.54590       8.16740   -2.4586   -1.46210              0\n",
              "2             3.86600      -2.63830    1.9242    0.10645              0\n",
              "3             3.45660       9.52280   -4.0112   -3.59440              0\n",
              "4             0.32924      -4.45520    4.5718   -0.98880              0\n",
              "...               ...           ...       ...        ...            ...\n",
              "1367          0.40614       1.34920   -1.4501   -0.55949              1\n",
              "1368         -1.38870      -4.87730    6.4774    0.34179              1\n",
              "1369         -3.75030     -13.45860   17.5932   -2.77710              1\n",
              "1370         -3.56370      -8.38270   12.3930   -1.28230              1\n",
              "1371         -2.54190      -0.65804    2.6842    1.19520              1\n",
              "\n",
              "[1372 rows x 5 columns]"
            ],
            "text/html": [
              "\n",
              "  <div id=\"df-b63002c3-ff73-42a0-be80-5a466c6ac8a0\">\n",
              "    <div class=\"colab-df-container\">\n",
              "      <div>\n",
              "<style scoped>\n",
              "    .dataframe tbody tr th:only-of-type {\n",
              "        vertical-align: middle;\n",
              "    }\n",
              "\n",
              "    .dataframe tbody tr th {\n",
              "        vertical-align: top;\n",
              "    }\n",
              "\n",
              "    .dataframe thead th {\n",
              "        text-align: right;\n",
              "    }\n",
              "</style>\n",
              "<table border=\"1\" class=\"dataframe\">\n",
              "  <thead>\n",
              "    <tr style=\"text-align: right;\">\n",
              "      <th></th>\n",
              "      <th>varianza imagen</th>\n",
              "      <th>sesgo imagen</th>\n",
              "      <th>curtosis</th>\n",
              "      <th>entropias</th>\n",
              "      <th>clasificación</th>\n",
              "    </tr>\n",
              "  </thead>\n",
              "  <tbody>\n",
              "    <tr>\n",
              "      <th>0</th>\n",
              "      <td>3.62160</td>\n",
              "      <td>8.66610</td>\n",
              "      <td>-2.8073</td>\n",
              "      <td>-0.44699</td>\n",
              "      <td>0</td>\n",
              "    </tr>\n",
              "    <tr>\n",
              "      <th>1</th>\n",
              "      <td>4.54590</td>\n",
              "      <td>8.16740</td>\n",
              "      <td>-2.4586</td>\n",
              "      <td>-1.46210</td>\n",
              "      <td>0</td>\n",
              "    </tr>\n",
              "    <tr>\n",
              "      <th>2</th>\n",
              "      <td>3.86600</td>\n",
              "      <td>-2.63830</td>\n",
              "      <td>1.9242</td>\n",
              "      <td>0.10645</td>\n",
              "      <td>0</td>\n",
              "    </tr>\n",
              "    <tr>\n",
              "      <th>3</th>\n",
              "      <td>3.45660</td>\n",
              "      <td>9.52280</td>\n",
              "      <td>-4.0112</td>\n",
              "      <td>-3.59440</td>\n",
              "      <td>0</td>\n",
              "    </tr>\n",
              "    <tr>\n",
              "      <th>4</th>\n",
              "      <td>0.32924</td>\n",
              "      <td>-4.45520</td>\n",
              "      <td>4.5718</td>\n",
              "      <td>-0.98880</td>\n",
              "      <td>0</td>\n",
              "    </tr>\n",
              "    <tr>\n",
              "      <th>...</th>\n",
              "      <td>...</td>\n",
              "      <td>...</td>\n",
              "      <td>...</td>\n",
              "      <td>...</td>\n",
              "      <td>...</td>\n",
              "    </tr>\n",
              "    <tr>\n",
              "      <th>1367</th>\n",
              "      <td>0.40614</td>\n",
              "      <td>1.34920</td>\n",
              "      <td>-1.4501</td>\n",
              "      <td>-0.55949</td>\n",
              "      <td>1</td>\n",
              "    </tr>\n",
              "    <tr>\n",
              "      <th>1368</th>\n",
              "      <td>-1.38870</td>\n",
              "      <td>-4.87730</td>\n",
              "      <td>6.4774</td>\n",
              "      <td>0.34179</td>\n",
              "      <td>1</td>\n",
              "    </tr>\n",
              "    <tr>\n",
              "      <th>1369</th>\n",
              "      <td>-3.75030</td>\n",
              "      <td>-13.45860</td>\n",
              "      <td>17.5932</td>\n",
              "      <td>-2.77710</td>\n",
              "      <td>1</td>\n",
              "    </tr>\n",
              "    <tr>\n",
              "      <th>1370</th>\n",
              "      <td>-3.56370</td>\n",
              "      <td>-8.38270</td>\n",
              "      <td>12.3930</td>\n",
              "      <td>-1.28230</td>\n",
              "      <td>1</td>\n",
              "    </tr>\n",
              "    <tr>\n",
              "      <th>1371</th>\n",
              "      <td>-2.54190</td>\n",
              "      <td>-0.65804</td>\n",
              "      <td>2.6842</td>\n",
              "      <td>1.19520</td>\n",
              "      <td>1</td>\n",
              "    </tr>\n",
              "  </tbody>\n",
              "</table>\n",
              "<p>1372 rows × 5 columns</p>\n",
              "</div>\n",
              "      <button class=\"colab-df-convert\" onclick=\"convertToInteractive('df-b63002c3-ff73-42a0-be80-5a466c6ac8a0')\"\n",
              "              title=\"Convert this dataframe to an interactive table.\"\n",
              "              style=\"display:none;\">\n",
              "        \n",
              "  <svg xmlns=\"http://www.w3.org/2000/svg\" height=\"24px\"viewBox=\"0 0 24 24\"\n",
              "       width=\"24px\">\n",
              "    <path d=\"M0 0h24v24H0V0z\" fill=\"none\"/>\n",
              "    <path d=\"M18.56 5.44l.94 2.06.94-2.06 2.06-.94-2.06-.94-.94-2.06-.94 2.06-2.06.94zm-11 1L8.5 8.5l.94-2.06 2.06-.94-2.06-.94L8.5 2.5l-.94 2.06-2.06.94zm10 10l.94 2.06.94-2.06 2.06-.94-2.06-.94-.94-2.06-.94 2.06-2.06.94z\"/><path d=\"M17.41 7.96l-1.37-1.37c-.4-.4-.92-.59-1.43-.59-.52 0-1.04.2-1.43.59L10.3 9.45l-7.72 7.72c-.78.78-.78 2.05 0 2.83L4 21.41c.39.39.9.59 1.41.59.51 0 1.02-.2 1.41-.59l7.78-7.78 2.81-2.81c.8-.78.8-2.07 0-2.86zM5.41 20L4 18.59l7.72-7.72 1.47 1.35L5.41 20z\"/>\n",
              "  </svg>\n",
              "      </button>\n",
              "      \n",
              "  <style>\n",
              "    .colab-df-container {\n",
              "      display:flex;\n",
              "      flex-wrap:wrap;\n",
              "      gap: 12px;\n",
              "    }\n",
              "\n",
              "    .colab-df-convert {\n",
              "      background-color: #E8F0FE;\n",
              "      border: none;\n",
              "      border-radius: 50%;\n",
              "      cursor: pointer;\n",
              "      display: none;\n",
              "      fill: #1967D2;\n",
              "      height: 32px;\n",
              "      padding: 0 0 0 0;\n",
              "      width: 32px;\n",
              "    }\n",
              "\n",
              "    .colab-df-convert:hover {\n",
              "      background-color: #E2EBFA;\n",
              "      box-shadow: 0px 1px 2px rgba(60, 64, 67, 0.3), 0px 1px 3px 1px rgba(60, 64, 67, 0.15);\n",
              "      fill: #174EA6;\n",
              "    }\n",
              "\n",
              "    [theme=dark] .colab-df-convert {\n",
              "      background-color: #3B4455;\n",
              "      fill: #D2E3FC;\n",
              "    }\n",
              "\n",
              "    [theme=dark] .colab-df-convert:hover {\n",
              "      background-color: #434B5C;\n",
              "      box-shadow: 0px 1px 3px 1px rgba(0, 0, 0, 0.15);\n",
              "      filter: drop-shadow(0px 1px 2px rgba(0, 0, 0, 0.3));\n",
              "      fill: #FFFFFF;\n",
              "    }\n",
              "  </style>\n",
              "\n",
              "      <script>\n",
              "        const buttonEl =\n",
              "          document.querySelector('#df-b63002c3-ff73-42a0-be80-5a466c6ac8a0 button.colab-df-convert');\n",
              "        buttonEl.style.display =\n",
              "          google.colab.kernel.accessAllowed ? 'block' : 'none';\n",
              "\n",
              "        async function convertToInteractive(key) {\n",
              "          const element = document.querySelector('#df-b63002c3-ff73-42a0-be80-5a466c6ac8a0');\n",
              "          const dataTable =\n",
              "            await google.colab.kernel.invokeFunction('convertToInteractive',\n",
              "                                                     [key], {});\n",
              "          if (!dataTable) return;\n",
              "\n",
              "          const docLinkHtml = 'Like what you see? Visit the ' +\n",
              "            '<a target=\"_blank\" href=https://colab.research.google.com/notebooks/data_table.ipynb>data table notebook</a>'\n",
              "            + ' to learn more about interactive tables.';\n",
              "          element.innerHTML = '';\n",
              "          dataTable['output_type'] = 'display_data';\n",
              "          await google.colab.output.renderOutput(dataTable, element);\n",
              "          const docLink = document.createElement('div');\n",
              "          docLink.innerHTML = docLinkHtml;\n",
              "          element.appendChild(docLink);\n",
              "        }\n",
              "      </script>\n",
              "    </div>\n",
              "  </div>\n",
              "  "
            ]
          },
          "metadata": {},
          "execution_count": 3
        }
      ]
    },
    {
      "cell_type": "code",
      "source": [
        "filtro1 = b['clasificación']==0\n",
        "b.loc[filtro1, 'clasificación'] =-1\n",
        "b"
      ],
      "metadata": {
        "id": "_iP_gZwHdsrh"
      },
      "execution_count": 4,
      "outputs": []
    },
    {
      "cell_type": "code",
      "source": [
        "# creación de base de entrenamiento y de testeo\n",
        "\"\"\"\n",
        "msk = np.random.rand(len(b)) < 0.8\n",
        "\n",
        "b1 = b[msk]\n",
        "bt = b[~msk]\n",
        "b1.to_csv(r'/content/drive/Shareddrives/Python universe/DATA/billetesentrenamiento.csv')\n",
        "bt.to_csv(r'/content/drive/Shareddrives/Python universe/DATA/billetestesteo.csv')\n",
        "\"\"\""
      ],
      "metadata": {
        "id": "K5jP31uWePNR",
        "colab": {
          "base_uri": "https://localhost:8080/",
          "height": 55
        },
        "outputId": "57940924-7f05-4181-a0e7-b592701f6626"
      },
      "execution_count": 118,
      "outputs": [
        {
          "output_type": "execute_result",
          "data": {
            "text/plain": [
              "\"\\nmsk = np.random.rand(len(b)) < 0.8\\n\\nb1 = b[msk]\\nbt = b[~msk]\\nb1.to_csv(r'/content/drive/Shareddrives/Python universe/DATA/billetesentrenamiento.csv')\\nbt.to_csv(r'/content/drive/Shareddrives/Python universe/DATA/billetestesteo.csv')\\n\""
            ],
            "application/vnd.google.colaboratory.intrinsic+json": {
              "type": "string"
            }
          },
          "metadata": {},
          "execution_count": 118
        }
      ]
    },
    {
      "cell_type": "code",
      "source": [
        "b1 = pd.read_csv(r'/content/drive/Shareddrives/Python universe/DATA/billetesentrenamiento.csv', sep = \",\")\n",
        "bt = pd.read_csv(r'/content/drive/Shareddrives/Python universe/DATA/billetestesteo.csv', sep = \",\")"
      ],
      "metadata": {
        "id": "JY956ANJXHaX"
      },
      "execution_count": 117,
      "outputs": []
    },
    {
      "cell_type": "code",
      "source": [
        "data = bt"
      ],
      "metadata": {
        "id": "5_l9ss1Kub70"
      },
      "execution_count": 7,
      "outputs": []
    },
    {
      "cell_type": "code",
      "source": [
        "transforms = [[1,1],\n",
        "                      [-1,1],\n",
        "                      [-1,-1],\n",
        "                      [1,-1]]"
      ],
      "metadata": {
        "id": "U6iYltpWW82v"
      },
      "execution_count": 8,
      "outputs": []
    },
    {
      "cell_type": "code",
      "source": [
        "class Support_Vector_Machine:\n",
        "    def __init__(self, visualization=True):\n",
        "        self.visualization = visualization\n",
        "        self.colors = {1:'r',-1:'b'}\n",
        "        if self.visualization:\n",
        "            self.fig = plt.figure()\n",
        "            self.ax = self.fig.add_subplot(1,1,1)\n",
        "    # train\n",
        "    def fit(self, data):\n",
        "        self.data = data\n",
        "        # { ||w||: [w,b] }\n",
        "        opt_dict = {}\n",
        "\n",
        "        transforms = [[1,1],\n",
        "                      [-1,1],\n",
        "                      [-1,-1],\n",
        "                      [1,-1]]\n",
        "\n",
        "        all_data = []\n",
        "        for yi in self.data:\n",
        "            for featureset in self.data[yi]:\n",
        "                for feature in featureset:\n",
        "                    all_data.append(feature)\n",
        "\n",
        "        self.max_feature_value = max(all_data)\n",
        "        self.min_feature_value = min(all_data)\n",
        "        all_data = None\n",
        "\n",
        "        # support vectors yi(xi.w+b) = 1\n",
        "        \n",
        "\n",
        "        step_sizes = [self.max_feature_value * 0.1,\n",
        "                      self.max_feature_value * 0.01,\n",
        "                      # point of expense:\n",
        "                      self.max_feature_value * 0.001,\n",
        "                      ]\n",
        "\n",
        "        \n",
        "        \n",
        "        # extremely expensive\n",
        "        b_range_multiple = 2\n",
        "        # we dont need to take as small of steps\n",
        "        # with b as we do w\n",
        "        b_multiple = 5\n",
        "        latest_optimum = self.max_feature_value*10\n",
        "        \n",
        "        for step in step_sizes:\n",
        "            w = np.array([latest_optimum,latest_optimum])\n",
        "            # we can do this because convex\n",
        "            optimized = False\n",
        "            while not optimized:\n",
        "                for b in np.arange(-1*(self.max_feature_value*b_range_multiple),\n",
        "                                   self.max_feature_value*b_range_multiple,\n",
        "                                   step*b_multiple):\n",
        "                    for transformation in transforms:\n",
        "                        w_t = w*transformation\n",
        "                        found_option = True\n",
        "                        # weakest link in the SVM fundamentally\n",
        "                        # SMO attempts to fix this a bit\n",
        "                        # yi(xi.w+b) >= 1\n",
        "                        # \n",
        "                        # #### add a break here later..\n",
        "                        for i in self.data:\n",
        "                            for xi in self.data[i]:\n",
        "                                yi=i\n",
        "                                if not yi*(np.dot(w_t,xi)+b) >= 1:\n",
        "                                    found_option = False\n",
        "                                    #print(xi,':',yi*(np.dot(w_t,xi)+b))\n",
        "                                    \n",
        "                        if found_option:\n",
        "                            opt_dict[np.linalg.norm(w_t)] = [w_t,b]\n",
        "\n",
        "                if w[0] < 0:\n",
        "                    optimized = True\n",
        "                    print('Optimized a step.')\n",
        "                else:\n",
        "                    w = w - step\n",
        "\n",
        "            print(opt_dict)\n",
        "            norms = sorted([n for n in opt_dict])\n",
        "            #||w|| : [w,b]\n",
        "            opt_choice = opt_dict[norms[0]]\n",
        "            self.w = opt_choice[0]\n",
        "            self.b = opt_choice[1]\n",
        "            latest_optimum = opt_choice[0][0]+step*2\n",
        "            \n",
        "        for i in self.data:\n",
        "            for xi in self.data[i]:\n",
        "                yi=i\n",
        "                print(xi,':',yi*(np.dot(self.w,xi)+self.b))            \n",
        "\n",
        "    def predict(self,features):\n",
        "        # sign( x.w+b )\n",
        "        classification = np.sign(np.dot(np.array(features),self.w)+self.b)\n",
        "        if classification !=0 and self.visualization:\n",
        "            self.ax.scatter(features[0], features[1], s=200, marker='*', c=self.colors[classification])\n",
        "        return classification\n",
        "\n",
        "    def visualize(self):\n",
        "        [[self.ax.scatter(x[0],x[1],s=100,color=self.colors[i]) for x in data_dict[i]] for i in data_dict]\n",
        "\n",
        "        # hyperplane = x.w+b\n",
        "        # v = x.w+b\n",
        "        # psv = 1\n",
        "        # nsv = -1\n",
        "        # dec = 0\n",
        "        def hyperplane(x,w,b,v):\n",
        "            return (-w[0]*x-b+v) / w[1]\n",
        "\n",
        "        datarange = (self.min_feature_value*0.9,self.max_feature_value*1.1)\n",
        "        hyp_x_min = datarange[0]\n",
        "        hyp_x_max = datarange[1]\n",
        "\n",
        "        # (w.x+b) = 1\n",
        "        # positive support vector hyperplane\n",
        "        psv1 = hyperplane(hyp_x_min, self.w, self.b, 1)\n",
        "        psv2 = hyperplane(hyp_x_max, self.w, self.b, 1)\n",
        "        self.ax.plot([hyp_x_min,hyp_x_max],[psv1,psv2], 'k')\n",
        "\n",
        "        # (w.x+b) = -1\n",
        "        # negative support vector hyperplane\n",
        "        nsv1 = hyperplane(hyp_x_min, self.w, self.b, -1)\n",
        "        nsv2 = hyperplane(hyp_x_max, self.w, self.b, -1)\n",
        "        self.ax.plot([hyp_x_min,hyp_x_max],[nsv1,nsv2], 'k')\n",
        "\n",
        "        # (w.x+b) = 0\n",
        "        # positive support vector hyperplane\n",
        "        db1 = hyperplane(hyp_x_min, self.w, self.b, 0)\n",
        "        db2 = hyperplane(hyp_x_max, self.w, self.b, 0)\n",
        "        self.ax.plot([hyp_x_min,hyp_x_max],[db1,db2], 'y--')\n",
        "\n",
        "        plt.show()"
      ],
      "metadata": {
        "id": "oeGrtCBIqeCG"
      },
      "execution_count": 9,
      "outputs": []
    },
    {
      "cell_type": "code",
      "source": [
        "bt"
      ],
      "metadata": {
        "colab": {
          "base_uri": "https://localhost:8080/",
          "height": 423
        },
        "id": "mR6MoOvfQoaJ",
        "outputId": "f8405b5f-f72f-4932-b4f8-b1bdebdd3b4d"
      },
      "execution_count": 10,
      "outputs": [
        {
          "output_type": "execute_result",
          "data": {
            "text/plain": [
              "      varianza imagen  sesgo imagen  curtosis  entropias  clasificación\n",
              "1            4.545900       8.16740  -2.45860  -1.462100             -1\n",
              "3            3.456600       9.52280  -4.01120  -3.594400             -1\n",
              "5            4.368400       9.67180  -3.96060  -3.162500             -1\n",
              "7            2.092200      -6.81000   8.46360  -0.602160             -1\n",
              "10           1.224700       8.77790  -2.21350  -0.806470             -1\n",
              "...               ...           ...       ...        ...            ...\n",
              "1347        -5.385700       9.12140  -0.41929  -5.918100              1\n",
              "1350        -0.218880      -2.20380  -0.09540   0.564210              1\n",
              "1351         1.318300       1.90170  -3.31110   0.065071              1\n",
              "1359         0.066129       2.49140  -2.94010  -0.621560              1\n",
              "1371        -2.541900      -0.65804   2.68420   1.195200              1\n",
              "\n",
              "[273 rows x 5 columns]"
            ],
            "text/html": [
              "\n",
              "  <div id=\"df-ea7fbe2a-0962-4f58-9f89-10aec75f5909\">\n",
              "    <div class=\"colab-df-container\">\n",
              "      <div>\n",
              "<style scoped>\n",
              "    .dataframe tbody tr th:only-of-type {\n",
              "        vertical-align: middle;\n",
              "    }\n",
              "\n",
              "    .dataframe tbody tr th {\n",
              "        vertical-align: top;\n",
              "    }\n",
              "\n",
              "    .dataframe thead th {\n",
              "        text-align: right;\n",
              "    }\n",
              "</style>\n",
              "<table border=\"1\" class=\"dataframe\">\n",
              "  <thead>\n",
              "    <tr style=\"text-align: right;\">\n",
              "      <th></th>\n",
              "      <th>varianza imagen</th>\n",
              "      <th>sesgo imagen</th>\n",
              "      <th>curtosis</th>\n",
              "      <th>entropias</th>\n",
              "      <th>clasificación</th>\n",
              "    </tr>\n",
              "  </thead>\n",
              "  <tbody>\n",
              "    <tr>\n",
              "      <th>1</th>\n",
              "      <td>4.545900</td>\n",
              "      <td>8.16740</td>\n",
              "      <td>-2.45860</td>\n",
              "      <td>-1.462100</td>\n",
              "      <td>-1</td>\n",
              "    </tr>\n",
              "    <tr>\n",
              "      <th>3</th>\n",
              "      <td>3.456600</td>\n",
              "      <td>9.52280</td>\n",
              "      <td>-4.01120</td>\n",
              "      <td>-3.594400</td>\n",
              "      <td>-1</td>\n",
              "    </tr>\n",
              "    <tr>\n",
              "      <th>5</th>\n",
              "      <td>4.368400</td>\n",
              "      <td>9.67180</td>\n",
              "      <td>-3.96060</td>\n",
              "      <td>-3.162500</td>\n",
              "      <td>-1</td>\n",
              "    </tr>\n",
              "    <tr>\n",
              "      <th>7</th>\n",
              "      <td>2.092200</td>\n",
              "      <td>-6.81000</td>\n",
              "      <td>8.46360</td>\n",
              "      <td>-0.602160</td>\n",
              "      <td>-1</td>\n",
              "    </tr>\n",
              "    <tr>\n",
              "      <th>10</th>\n",
              "      <td>1.224700</td>\n",
              "      <td>8.77790</td>\n",
              "      <td>-2.21350</td>\n",
              "      <td>-0.806470</td>\n",
              "      <td>-1</td>\n",
              "    </tr>\n",
              "    <tr>\n",
              "      <th>...</th>\n",
              "      <td>...</td>\n",
              "      <td>...</td>\n",
              "      <td>...</td>\n",
              "      <td>...</td>\n",
              "      <td>...</td>\n",
              "    </tr>\n",
              "    <tr>\n",
              "      <th>1347</th>\n",
              "      <td>-5.385700</td>\n",
              "      <td>9.12140</td>\n",
              "      <td>-0.41929</td>\n",
              "      <td>-5.918100</td>\n",
              "      <td>1</td>\n",
              "    </tr>\n",
              "    <tr>\n",
              "      <th>1350</th>\n",
              "      <td>-0.218880</td>\n",
              "      <td>-2.20380</td>\n",
              "      <td>-0.09540</td>\n",
              "      <td>0.564210</td>\n",
              "      <td>1</td>\n",
              "    </tr>\n",
              "    <tr>\n",
              "      <th>1351</th>\n",
              "      <td>1.318300</td>\n",
              "      <td>1.90170</td>\n",
              "      <td>-3.31110</td>\n",
              "      <td>0.065071</td>\n",
              "      <td>1</td>\n",
              "    </tr>\n",
              "    <tr>\n",
              "      <th>1359</th>\n",
              "      <td>0.066129</td>\n",
              "      <td>2.49140</td>\n",
              "      <td>-2.94010</td>\n",
              "      <td>-0.621560</td>\n",
              "      <td>1</td>\n",
              "    </tr>\n",
              "    <tr>\n",
              "      <th>1371</th>\n",
              "      <td>-2.541900</td>\n",
              "      <td>-0.65804</td>\n",
              "      <td>2.68420</td>\n",
              "      <td>1.195200</td>\n",
              "      <td>1</td>\n",
              "    </tr>\n",
              "  </tbody>\n",
              "</table>\n",
              "<p>273 rows × 5 columns</p>\n",
              "</div>\n",
              "      <button class=\"colab-df-convert\" onclick=\"convertToInteractive('df-ea7fbe2a-0962-4f58-9f89-10aec75f5909')\"\n",
              "              title=\"Convert this dataframe to an interactive table.\"\n",
              "              style=\"display:none;\">\n",
              "        \n",
              "  <svg xmlns=\"http://www.w3.org/2000/svg\" height=\"24px\"viewBox=\"0 0 24 24\"\n",
              "       width=\"24px\">\n",
              "    <path d=\"M0 0h24v24H0V0z\" fill=\"none\"/>\n",
              "    <path d=\"M18.56 5.44l.94 2.06.94-2.06 2.06-.94-2.06-.94-.94-2.06-.94 2.06-2.06.94zm-11 1L8.5 8.5l.94-2.06 2.06-.94-2.06-.94L8.5 2.5l-.94 2.06-2.06.94zm10 10l.94 2.06.94-2.06 2.06-.94-2.06-.94-.94-2.06-.94 2.06-2.06.94z\"/><path d=\"M17.41 7.96l-1.37-1.37c-.4-.4-.92-.59-1.43-.59-.52 0-1.04.2-1.43.59L10.3 9.45l-7.72 7.72c-.78.78-.78 2.05 0 2.83L4 21.41c.39.39.9.59 1.41.59.51 0 1.02-.2 1.41-.59l7.78-7.78 2.81-2.81c.8-.78.8-2.07 0-2.86zM5.41 20L4 18.59l7.72-7.72 1.47 1.35L5.41 20z\"/>\n",
              "  </svg>\n",
              "      </button>\n",
              "      \n",
              "  <style>\n",
              "    .colab-df-container {\n",
              "      display:flex;\n",
              "      flex-wrap:wrap;\n",
              "      gap: 12px;\n",
              "    }\n",
              "\n",
              "    .colab-df-convert {\n",
              "      background-color: #E8F0FE;\n",
              "      border: none;\n",
              "      border-radius: 50%;\n",
              "      cursor: pointer;\n",
              "      display: none;\n",
              "      fill: #1967D2;\n",
              "      height: 32px;\n",
              "      padding: 0 0 0 0;\n",
              "      width: 32px;\n",
              "    }\n",
              "\n",
              "    .colab-df-convert:hover {\n",
              "      background-color: #E2EBFA;\n",
              "      box-shadow: 0px 1px 2px rgba(60, 64, 67, 0.3), 0px 1px 3px 1px rgba(60, 64, 67, 0.15);\n",
              "      fill: #174EA6;\n",
              "    }\n",
              "\n",
              "    [theme=dark] .colab-df-convert {\n",
              "      background-color: #3B4455;\n",
              "      fill: #D2E3FC;\n",
              "    }\n",
              "\n",
              "    [theme=dark] .colab-df-convert:hover {\n",
              "      background-color: #434B5C;\n",
              "      box-shadow: 0px 1px 3px 1px rgba(0, 0, 0, 0.15);\n",
              "      filter: drop-shadow(0px 1px 2px rgba(0, 0, 0, 0.3));\n",
              "      fill: #FFFFFF;\n",
              "    }\n",
              "  </style>\n",
              "\n",
              "      <script>\n",
              "        const buttonEl =\n",
              "          document.querySelector('#df-ea7fbe2a-0962-4f58-9f89-10aec75f5909 button.colab-df-convert');\n",
              "        buttonEl.style.display =\n",
              "          google.colab.kernel.accessAllowed ? 'block' : 'none';\n",
              "\n",
              "        async function convertToInteractive(key) {\n",
              "          const element = document.querySelector('#df-ea7fbe2a-0962-4f58-9f89-10aec75f5909');\n",
              "          const dataTable =\n",
              "            await google.colab.kernel.invokeFunction('convertToInteractive',\n",
              "                                                     [key], {});\n",
              "          if (!dataTable) return;\n",
              "\n",
              "          const docLinkHtml = 'Like what you see? Visit the ' +\n",
              "            '<a target=\"_blank\" href=https://colab.research.google.com/notebooks/data_table.ipynb>data table notebook</a>'\n",
              "            + ' to learn more about interactive tables.';\n",
              "          element.innerHTML = '';\n",
              "          dataTable['output_type'] = 'display_data';\n",
              "          await google.colab.output.renderOutput(dataTable, element);\n",
              "          const docLink = document.createElement('div');\n",
              "          docLink.innerHTML = docLinkHtml;\n",
              "          element.appendChild(docLink);\n",
              "        }\n",
              "      </script>\n",
              "    </div>\n",
              "  </div>\n",
              "  "
            ]
          },
          "metadata": {},
          "execution_count": 10
        }
      ]
    },
    {
      "cell_type": "code",
      "source": [
        "import matplotlib as plt\n",
        "import seaborn as sns\n",
        "\n",
        "sns.boxplot(x='clasificación', y='varianza imagen', data=bt)"
      ],
      "metadata": {
        "colab": {
          "base_uri": "https://localhost:8080/",
          "height": 471
        },
        "id": "pzzELZI8SiB-",
        "outputId": "737ccbc1-9e69-408c-cb5e-9db01eea1886"
      },
      "execution_count": 11,
      "outputs": [
        {
          "output_type": "execute_result",
          "data": {
            "text/plain": [
              "<Axes: xlabel='clasificación', ylabel='varianza imagen'>"
            ]
          },
          "metadata": {},
          "execution_count": 11
        },
        {
          "output_type": "display_data",
          "data": {
            "text/plain": [
              "<Figure size 640x480 with 1 Axes>"
            ],
            "image/png": "[encoded data removed]"
          },
          "metadata": {}
        }
      ]
    },
    {
      "cell_type": "code",
      "source": [
        "sns.boxplot(x='clasificación', y='sesgo imagen', data=bt)"
      ],
      "metadata": {
        "colab": {
          "base_uri": "https://localhost:8080/",
          "height": 471
        },
        "id": "Oo4t5GO8TN0X",
        "outputId": "66e11024-8bed-42fb-98f2-bdd371887063"
      },
      "execution_count": 12,
      "outputs": [
        {
          "output_type": "execute_result",
          "data": {
            "text/plain": [
              "<Axes: xlabel='clasificación', ylabel='sesgo imagen'>"
            ]
          },
          "metadata": {},
          "execution_count": 12
        },
        {
          "output_type": "display_data",
          "data": {
            "text/plain": [
              "<Figure size 640x480 with 1 Axes>"
            ],
            "image/png": "[encoded data removed]"
          },
          "metadata": {}
        }
      ]
    },
    {
      "cell_type": "code",
      "source": [
        "sns.boxplot(x='clasificación', y='curtosis', data=bt)"
      ],
      "metadata": {
        "colab": {
          "base_uri": "https://localhost:8080/",
          "height": 471
        },
        "id": "R6GpqOcfTe2t",
        "outputId": "c9aedd00-e6ec-4bd2-d2d1-90dd1ad6143f"
      },
      "execution_count": 13,
      "outputs": [
        {
          "output_type": "execute_result",
          "data": {
            "text/plain": [
              "<Axes: xlabel='clasificación', ylabel='curtosis'>"
            ]
          },
          "metadata": {},
          "execution_count": 13
        },
        {
          "output_type": "display_data",
          "data": {
            "text/plain": [
              "<Figure size 640x480 with 1 Axes>"
            ],
            "image/png": "[encoded data removed]"
          },
          "metadata": {}
        }
      ]
    },
    {
      "cell_type": "code",
      "source": [
        "sns.boxplot(x='clasificación', y='entropias', data=bt)\n"
      ],
      "metadata": {
        "colab": {
          "base_uri": "https://localhost:8080/",
          "height": 471
        },
        "id": "57pg0sXRTxyB",
        "outputId": "d9b9bb35-8544-4d0c-b678-ce959ee47ce1"
      },
      "execution_count": 14,
      "outputs": [
        {
          "output_type": "execute_result",
          "data": {
            "text/plain": [
              "<Axes: xlabel='clasificación', ylabel='entropias'>"
            ]
          },
          "metadata": {},
          "execution_count": 14
        },
        {
          "output_type": "display_data",
          "data": {
            "text/plain": [
              "<Figure size 640x480 with 1 Axes>"
            ],
            "image/png": "[encoded data removed]"
          },
          "metadata": {}
        }
      ]
    },
    {
      "cell_type": "code",
      "source": [
        "b_11 = b1[[\"varianza imagen\",\"sesgo imagen\",\"curtosis\",\"entropias\"]]\n",
        "b_1Y = b1[[\"clasificación\"]]\n",
        "#,\"curtosis\",\"entropias\""
      ],
      "metadata": {
        "id": "g7le9GpFyNSw"
      },
      "execution_count": 15,
      "outputs": []
    },
    {
      "cell_type": "code",
      "source": [
        "b_11"
      ],
      "metadata": {
        "colab": {
          "base_uri": "https://localhost:8080/",
          "height": 423
        },
        "id": "KmCTavaYUJkT",
        "outputId": "28237f73-9275-4c42-adb9-3fb3ff1ed3c8"
      },
      "execution_count": 16,
      "outputs": [
        {
          "output_type": "execute_result",
          "data": {
            "text/plain": [
              "      varianza imagen  sesgo imagen  curtosis  entropias\n",
              "0             3.62160        8.6661  -2.80730   -0.44699\n",
              "2             3.86600       -2.6383   1.92420    0.10645\n",
              "4             0.32924       -4.4552   4.57180   -0.98880\n",
              "6             3.59120        3.0129   0.72888    0.56421\n",
              "8             3.20320        5.7588  -0.75345   -0.61251\n",
              "...               ...           ...       ...        ...\n",
              "1366         -2.41000        3.7433  -0.40215   -1.29530\n",
              "1367          0.40614        1.3492  -1.45010   -0.55949\n",
              "1368         -1.38870       -4.8773   6.47740    0.34179\n",
              "1369         -3.75030      -13.4586  17.59320   -2.77710\n",
              "1370         -3.56370       -8.3827  12.39300   -1.28230\n",
              "\n",
              "[1099 rows x 4 columns]"
            ],
            "text/html": [
              "\n",
              "  <div id=\"df-2141bb81-d2fa-48c9-951d-2c53685fe8cf\">\n",
              "    <div class=\"colab-df-container\">\n",
              "      <div>\n",
              "<style scoped>\n",
              "    .dataframe tbody tr th:only-of-type {\n",
              "        vertical-align: middle;\n",
              "    }\n",
              "\n",
              "    .dataframe tbody tr th {\n",
              "        vertical-align: top;\n",
              "    }\n",
              "\n",
              "    .dataframe thead th {\n",
              "        text-align: right;\n",
              "    }\n",
              "</style>\n",
              "<table border=\"1\" class=\"dataframe\">\n",
              "  <thead>\n",
              "    <tr style=\"text-align: right;\">\n",
              "      <th></th>\n",
              "      <th>varianza imagen</th>\n",
              "      <th>sesgo imagen</th>\n",
              "      <th>curtosis</th>\n",
              "      <th>entropias</th>\n",
              "    </tr>\n",
              "  </thead>\n",
              "  <tbody>\n",
              "    <tr>\n",
              "      <th>0</th>\n",
              "      <td>3.62160</td>\n",
              "      <td>8.6661</td>\n",
              "      <td>-2.80730</td>\n",
              "      <td>-0.44699</td>\n",
              "    </tr>\n",
              "    <tr>\n",
              "      <th>2</th>\n",
              "      <td>3.86600</td>\n",
              "      <td>-2.6383</td>\n",
              "      <td>1.92420</td>\n",
              "      <td>0.10645</td>\n",
              "    </tr>\n",
              "    <tr>\n",
              "      <th>4</th>\n",
              "      <td>0.32924</td>\n",
              "      <td>-4.4552</td>\n",
              "      <td>4.57180</td>\n",
              "      <td>-0.98880</td>\n",
              "    </tr>\n",
              "    <tr>\n",
              "      <th>6</th>\n",
              "      <td>3.59120</td>\n",
              "      <td>3.0129</td>\n",
              "      <td>0.72888</td>\n",
              "      <td>0.56421</td>\n",
              "    </tr>\n",
              "    <tr>\n",
              "      <th>8</th>\n",
              "      <td>3.20320</td>\n",
              "      <td>5.7588</td>\n",
              "      <td>-0.75345</td>\n",
              "      <td>-0.61251</td>\n",
              "    </tr>\n",
              "    <tr>\n",
              "      <th>...</th>\n",
              "      <td>...</td>\n",
              "      <td>...</td>\n",
              "      <td>...</td>\n",
              "      <td>...</td>\n",
              "    </tr>\n",
              "    <tr>\n",
              "      <th>1366</th>\n",
              "      <td>-2.41000</td>\n",
              "      <td>3.7433</td>\n",
              "      <td>-0.40215</td>\n",
              "      <td>-1.29530</td>\n",
              "    </tr>\n",
              "    <tr>\n",
              "      <th>1367</th>\n",
              "      <td>0.40614</td>\n",
              "      <td>1.3492</td>\n",
              "      <td>-1.45010</td>\n",
              "      <td>-0.55949</td>\n",
              "    </tr>\n",
              "    <tr>\n",
              "      <th>1368</th>\n",
              "      <td>-1.38870</td>\n",
              "      <td>-4.8773</td>\n",
              "      <td>6.47740</td>\n",
              "      <td>0.34179</td>\n",
              "    </tr>\n",
              "    <tr>\n",
              "      <th>1369</th>\n",
              "      <td>-3.75030</td>\n",
              "      <td>-13.4586</td>\n",
              "      <td>17.59320</td>\n",
              "      <td>-2.77710</td>\n",
              "    </tr>\n",
              "    <tr>\n",
              "      <th>1370</th>\n",
              "      <td>-3.56370</td>\n",
              "      <td>-8.3827</td>\n",
              "      <td>12.39300</td>\n",
              "      <td>-1.28230</td>\n",
              "    </tr>\n",
              "  </tbody>\n",
              "</table>\n",
              "<p>1099 rows × 4 columns</p>\n",
              "</div>\n",
              "      <button class=\"colab-df-convert\" onclick=\"convertToInteractive('df-2141bb81-d2fa-48c9-951d-2c53685fe8cf')\"\n",
              "              title=\"Convert this dataframe to an interactive table.\"\n",
              "              style=\"display:none;\">\n",
              "        \n",
              "  <svg xmlns=\"http://www.w3.org/2000/svg\" height=\"24px\"viewBox=\"0 0 24 24\"\n",
              "       width=\"24px\">\n",
              "    <path d=\"M0 0h24v24H0V0z\" fill=\"none\"/>\n",
              "    <path d=\"M18.56 5.44l.94 2.06.94-2.06 2.06-.94-2.06-.94-.94-2.06-.94 2.06-2.06.94zm-11 1L8.5 8.5l.94-2.06 2.06-.94-2.06-.94L8.5 2.5l-.94 2.06-2.06.94zm10 10l.94 2.06.94-2.06 2.06-.94-2.06-.94-.94-2.06-.94 2.06-2.06.94z\"/><path d=\"M17.41 7.96l-1.37-1.37c-.4-.4-.92-.59-1.43-.59-.52 0-1.04.2-1.43.59L10.3 9.45l-7.72 7.72c-.78.78-.78 2.05 0 2.83L4 21.41c.39.39.9.59 1.41.59.51 0 1.02-.2 1.41-.59l7.78-7.78 2.81-2.81c.8-.78.8-2.07 0-2.86zM5.41 20L4 18.59l7.72-7.72 1.47 1.35L5.41 20z\"/>\n",
              "  </svg>\n",
              "      </button>\n",
              "      \n",
              "  <style>\n",
              "    .colab-df-container {\n",
              "      display:flex;\n",
              "      flex-wrap:wrap;\n",
              "      gap: 12px;\n",
              "    }\n",
              "\n",
              "    .colab-df-convert {\n",
              "      background-color: #E8F0FE;\n",
              "      border: none;\n",
              "      border-radius: 50%;\n",
              "      cursor: pointer;\n",
              "      display: none;\n",
              "      fill: #1967D2;\n",
              "      height: 32px;\n",
              "      padding: 0 0 0 0;\n",
              "      width: 32px;\n",
              "    }\n",
              "\n",
              "    .colab-df-convert:hover {\n",
              "      background-color: #E2EBFA;\n",
              "      box-shadow: 0px 1px 2px rgba(60, 64, 67, 0.3), 0px 1px 3px 1px rgba(60, 64, 67, 0.15);\n",
              "      fill: #174EA6;\n",
              "    }\n",
              "\n",
              "    [theme=dark] .colab-df-convert {\n",
              "      background-color: #3B4455;\n",
              "      fill: #D2E3FC;\n",
              "    }\n",
              "\n",
              "    [theme=dark] .colab-df-convert:hover {\n",
              "      background-color: #434B5C;\n",
              "      box-shadow: 0px 1px 3px 1px rgba(0, 0, 0, 0.15);\n",
              "      filter: drop-shadow(0px 1px 2px rgba(0, 0, 0, 0.3));\n",
              "      fill: #FFFFFF;\n",
              "    }\n",
              "  </style>\n",
              "\n",
              "      <script>\n",
              "        const buttonEl =\n",
              "          document.querySelector('#df-2141bb81-d2fa-48c9-951d-2c53685fe8cf button.colab-df-convert');\n",
              "        buttonEl.style.display =\n",
              "          google.colab.kernel.accessAllowed ? 'block' : 'none';\n",
              "\n",
              "        async function convertToInteractive(key) {\n",
              "          const element = document.querySelector('#df-2141bb81-d2fa-48c9-951d-2c53685fe8cf');\n",
              "          const dataTable =\n",
              "            await google.colab.kernel.invokeFunction('convertToInteractive',\n",
              "                                                     [key], {});\n",
              "          if (!dataTable) return;\n",
              "\n",
              "          const docLinkHtml = 'Like what you see? Visit the ' +\n",
              "            '<a target=\"_blank\" href=https://colab.research.google.com/notebooks/data_table.ipynb>data table notebook</a>'\n",
              "            + ' to learn more about interactive tables.';\n",
              "          element.innerHTML = '';\n",
              "          dataTable['output_type'] = 'display_data';\n",
              "          await google.colab.output.renderOutput(dataTable, element);\n",
              "          const docLink = document.createElement('div');\n",
              "          docLink.innerHTML = docLinkHtml;\n",
              "          element.appendChild(docLink);\n",
              "        }\n",
              "      </script>\n",
              "    </div>\n",
              "  </div>\n",
              "  "
            ]
          },
          "metadata": {},
          "execution_count": 16
        }
      ]
    },
    {
      "cell_type": "code",
      "source": [
        "b_2 = b.loc[b['clasificación']==-1]\n",
        "b_22 = b_2[[\"varianza imagen\",\"sesgo imagen\"]]\n",
        "b_22"
      ],
      "metadata": {
        "colab": {
          "base_uri": "https://localhost:8080/",
          "height": 423
        },
        "id": "6sBqGJ4g10o_",
        "outputId": "ddc71317-278a-4069-e511-562322d2f3b0"
      },
      "execution_count": 17,
      "outputs": [
        {
          "output_type": "execute_result",
          "data": {
            "text/plain": [
              "     varianza imagen  sesgo imagen\n",
              "0            3.62160       8.66610\n",
              "1            4.54590       8.16740\n",
              "2            3.86600      -2.63830\n",
              "3            3.45660       9.52280\n",
              "4            0.32924      -4.45520\n",
              "..               ...           ...\n",
              "757          2.66060       3.16810\n",
              "758          3.93100       1.85410\n",
              "759          0.01727       8.69300\n",
              "760          3.24140       0.40971\n",
              "761          2.25040       3.57570\n",
              "\n",
              "[762 rows x 2 columns]"
            ],
            "text/html": [
              "\n",
              "  <div id=\"df-3a0a6043-6653-41f6-a900-7f8c413ef7a9\">\n",
              "    <div class=\"colab-df-container\">\n",
              "      <div>\n",
              "<style scoped>\n",
              "    .dataframe tbody tr th:only-of-type {\n",
              "        vertical-align: middle;\n",
              "    }\n",
              "\n",
              "    .dataframe tbody tr th {\n",
              "        vertical-align: top;\n",
              "    }\n",
              "\n",
              "    .dataframe thead th {\n",
              "        text-align: right;\n",
              "    }\n",
              "</style>\n",
              "<table border=\"1\" class=\"dataframe\">\n",
              "  <thead>\n",
              "    <tr style=\"text-align: right;\">\n",
              "      <th></th>\n",
              "      <th>varianza imagen</th>\n",
              "      <th>sesgo imagen</th>\n",
              "    </tr>\n",
              "  </thead>\n",
              "  <tbody>\n",
              "    <tr>\n",
              "      <th>0</th>\n",
              "      <td>3.62160</td>\n",
              "      <td>8.66610</td>\n",
              "    </tr>\n",
              "    <tr>\n",
              "      <th>1</th>\n",
              "      <td>4.54590</td>\n",
              "      <td>8.16740</td>\n",
              "    </tr>\n",
              "    <tr>\n",
              "      <th>2</th>\n",
              "      <td>3.86600</td>\n",
              "      <td>-2.63830</td>\n",
              "    </tr>\n",
              "    <tr>\n",
              "      <th>3</th>\n",
              "      <td>3.45660</td>\n",
              "      <td>9.52280</td>\n",
              "    </tr>\n",
              "    <tr>\n",
              "      <th>4</th>\n",
              "      <td>0.32924</td>\n",
              "      <td>-4.45520</td>\n",
              "    </tr>\n",
              "    <tr>\n",
              "      <th>...</th>\n",
              "      <td>...</td>\n",
              "      <td>...</td>\n",
              "    </tr>\n",
              "    <tr>\n",
              "      <th>757</th>\n",
              "      <td>2.66060</td>\n",
              "      <td>3.16810</td>\n",
              "    </tr>\n",
              "    <tr>\n",
              "      <th>758</th>\n",
              "      <td>3.93100</td>\n",
              "      <td>1.85410</td>\n",
              "    </tr>\n",
              "    <tr>\n",
              "      <th>759</th>\n",
              "      <td>0.01727</td>\n",
              "      <td>8.69300</td>\n",
              "    </tr>\n",
              "    <tr>\n",
              "      <th>760</th>\n",
              "      <td>3.24140</td>\n",
              "      <td>0.40971</td>\n",
              "    </tr>\n",
              "    <tr>\n",
              "      <th>761</th>\n",
              "      <td>2.25040</td>\n",
              "      <td>3.57570</td>\n",
              "    </tr>\n",
              "  </tbody>\n",
              "</table>\n",
              "<p>762 rows × 2 columns</p>\n",
              "</div>\n",
              "      <button class=\"colab-df-convert\" onclick=\"convertToInteractive('df-3a0a6043-6653-41f6-a900-7f8c413ef7a9')\"\n",
              "              title=\"Convert this dataframe to an interactive table.\"\n",
              "              style=\"display:none;\">\n",
              "        \n",
              "  <svg xmlns=\"http://www.w3.org/2000/svg\" height=\"24px\"viewBox=\"0 0 24 24\"\n",
              "       width=\"24px\">\n",
              "    <path d=\"M0 0h24v24H0V0z\" fill=\"none\"/>\n",
              "    <path d=\"M18.56 5.44l.94 2.06.94-2.06 2.06-.94-2.06-.94-.94-2.06-.94 2.06-2.06.94zm-11 1L8.5 8.5l.94-2.06 2.06-.94-2.06-.94L8.5 2.5l-.94 2.06-2.06.94zm10 10l.94 2.06.94-2.06 2.06-.94-2.06-.94-.94-2.06-.94 2.06-2.06.94z\"/><path d=\"M17.41 7.96l-1.37-1.37c-.4-.4-.92-.59-1.43-.59-.52 0-1.04.2-1.43.59L10.3 9.45l-7.72 7.72c-.78.78-.78 2.05 0 2.83L4 21.41c.39.39.9.59 1.41.59.51 0 1.02-.2 1.41-.59l7.78-7.78 2.81-2.81c.8-.78.8-2.07 0-2.86zM5.41 20L4 18.59l7.72-7.72 1.47 1.35L5.41 20z\"/>\n",
              "  </svg>\n",
              "      </button>\n",
              "      \n",
              "  <style>\n",
              "    .colab-df-container {\n",
              "      display:flex;\n",
              "      flex-wrap:wrap;\n",
              "      gap: 12px;\n",
              "    }\n",
              "\n",
              "    .colab-df-convert {\n",
              "      background-color: #E8F0FE;\n",
              "      border: none;\n",
              "      border-radius: 50%;\n",
              "      cursor: pointer;\n",
              "      display: none;\n",
              "      fill: #1967D2;\n",
              "      height: 32px;\n",
              "      padding: 0 0 0 0;\n",
              "      width: 32px;\n",
              "    }\n",
              "\n",
              "    .colab-df-convert:hover {\n",
              "      background-color: #E2EBFA;\n",
              "      box-shadow: 0px 1px 2px rgba(60, 64, 67, 0.3), 0px 1px 3px 1px rgba(60, 64, 67, 0.15);\n",
              "      fill: #174EA6;\n",
              "    }\n",
              "\n",
              "    [theme=dark] .colab-df-convert {\n",
              "      background-color: #3B4455;\n",
              "      fill: #D2E3FC;\n",
              "    }\n",
              "\n",
              "    [theme=dark] .colab-df-convert:hover {\n",
              "      background-color: #434B5C;\n",
              "      box-shadow: 0px 1px 3px 1px rgba(0, 0, 0, 0.15);\n",
              "      filter: drop-shadow(0px 1px 2px rgba(0, 0, 0, 0.3));\n",
              "      fill: #FFFFFF;\n",
              "    }\n",
              "  </style>\n",
              "\n",
              "      <script>\n",
              "        const buttonEl =\n",
              "          document.querySelector('#df-3a0a6043-6653-41f6-a900-7f8c413ef7a9 button.colab-df-convert');\n",
              "        buttonEl.style.display =\n",
              "          google.colab.kernel.accessAllowed ? 'block' : 'none';\n",
              "\n",
              "        async function convertToInteractive(key) {\n",
              "          const element = document.querySelector('#df-3a0a6043-6653-41f6-a900-7f8c413ef7a9');\n",
              "          const dataTable =\n",
              "            await google.colab.kernel.invokeFunction('convertToInteractive',\n",
              "                                                     [key], {});\n",
              "          if (!dataTable) return;\n",
              "\n",
              "          const docLinkHtml = 'Like what you see? Visit the ' +\n",
              "            '<a target=\"_blank\" href=https://colab.research.google.com/notebooks/data_table.ipynb>data table notebook</a>'\n",
              "            + ' to learn more about interactive tables.';\n",
              "          element.innerHTML = '';\n",
              "          dataTable['output_type'] = 'display_data';\n",
              "          await google.colab.output.renderOutput(dataTable, element);\n",
              "          const docLink = document.createElement('div');\n",
              "          docLink.innerHTML = docLinkHtml;\n",
              "          element.appendChild(docLink);\n",
              "        }\n",
              "      </script>\n",
              "    </div>\n",
              "  </div>\n",
              "  "
            ]
          },
          "metadata": {},
          "execution_count": 17
        }
      ]
    },
    {
      "cell_type": "code",
      "source": [
        "b_11 = b_11.to_numpy()\n",
        "b_22 = b_22.to_numpy()"
      ],
      "metadata": {
        "id": "SJsSqvBjaPRc"
      },
      "execution_count": 18,
      "outputs": []
    },
    {
      "cell_type": "code",
      "source": [
        "b_22"
      ],
      "metadata": {
        "colab": {
          "base_uri": "https://localhost:8080/"
        },
        "id": "72EU74Jtaim6",
        "outputId": "75d7488a-31e2-4edb-af4e-b44ba62ea5e3"
      },
      "execution_count": 19,
      "outputs": [
        {
          "output_type": "execute_result",
          "data": {
            "text/plain": [
              "array([[ 3.6216 ,  8.6661 ],\n",
              "       [ 4.5459 ,  8.1674 ],\n",
              "       [ 3.866  , -2.6383 ],\n",
              "       ...,\n",
              "       [ 0.01727,  8.693  ],\n",
              "       [ 3.2414 ,  0.40971],\n",
              "       [ 2.2504 ,  3.5757 ]])"
            ]
          },
          "metadata": {},
          "execution_count": 19
        }
      ]
    },
    {
      "cell_type": "code",
      "source": [
        "try:\n",
        "  import matplotlib.pyplot as plt\n",
        "  data_dict = {-1:b_11, 1:b_22}\n",
        "  svm1 = Support_Vector_Machine()\n",
        "  svm1.fit(data_dict)\n",
        "except:\n",
        "  print(\"la herramienta no logra optimizar\")"
      ],
      "metadata": {
        "colab": {
          "base_uri": "https://localhost:8080/",
          "height": 453
        },
        "id": "D0d_JL56swXC",
        "outputId": "61568c5d-2bfa-49d9-ccde-93dd4c7960b1"
      },
      "execution_count": 20,
      "outputs": [
        {
          "output_type": "stream",
          "name": "stdout",
          "text": [
            "la herramienta no logra optimizar\n"
          ]
        },
        {
          "output_type": "display_data",
          "data": {
            "text/plain": [
              "<Figure size 640x480 with 1 Axes>"
            ],
            "image/png": "[encoded data removed]"
          },
          "metadata": {}
        }
      ]
    },
    {
      "cell_type": "code",
      "source": [
        "try:\n",
        "  svm1.predict([7,3.5])\n",
        "except:\n",
        "  print(\"la herramienta no logra optimizar\")"
      ],
      "metadata": {
        "id": "HFf7cEvKQTnf",
        "colab": {
          "base_uri": "https://localhost:8080/"
        },
        "outputId": "4f0ef9c4-65c3-4b99-8d50-cf6a5d4c6b57"
      },
      "execution_count": 21,
      "outputs": [
        {
          "output_type": "stream",
          "name": "stdout",
          "text": [
            "la herramienta no logra optimizar\n"
          ]
        }
      ]
    },
    {
      "cell_type": "markdown",
      "source": [
        "# banknote authentication evaluación tecnicas"
      ],
      "metadata": {
        "id": "3_8cz9bVlTiG"
      }
    },
    {
      "cell_type": "markdown",
      "source": [
        "**1.1 ¿qué problema de machine learning estamos resolviendo?**"
      ],
      "metadata": {
        "id": "66uXZ2lFl0_D"
      }
    },
    {
      "cell_type": "markdown",
      "source": [
        "Los problemas de machine learning parten de un objetivo de clasificación. En este caso por medio de las caracteristicas de un conjunto de imagenes clasificadas de billetes intentaremos aprender de estes imagagenes para que nos pueda indicar si de acuerdo a las caracteristicas que billetes son buenos y cuales no."
      ],
      "metadata": {
        "id": "bvgWYQ6amTPY"
      }
    },
    {
      "cell_type": "markdown",
      "source": [
        "**1.2 Caracteristicas y etiquetas**"
      ],
      "metadata": {
        "id": "5ySOFPuMoiMH"
      }
    },
    {
      "cell_type": "code",
      "source": [
        "b1.describe()"
      ],
      "metadata": {
        "id": "jwcieS3DpB8V",
        "colab": {
          "base_uri": "https://localhost:8080/",
          "height": 300
        },
        "outputId": "73a092c1-8819-4657-c1fc-e68ff1d1488c"
      },
      "execution_count": 22,
      "outputs": [
        {
          "output_type": "execute_result",
          "data": {
            "text/plain": [
              "       varianza imagen  sesgo imagen     curtosis    entropias  clasificación\n",
              "count      1099.000000   1099.000000  1099.000000  1099.000000     1099.00000\n",
              "mean          0.451272      1.993999     1.380482    -1.223889       -0.10646\n",
              "std           2.848932      5.854436     4.317721     2.146508        0.99477\n",
              "min          -7.042100    -13.773100    -5.286100    -8.548200       -1.00000\n",
              "25%          -1.764800     -1.400900    -1.505350    -2.534050       -1.00000\n",
              "50%           0.519500      2.406600     0.553230    -0.586650       -1.00000\n",
              "75%           2.814650      6.819300     3.146050     0.400630        1.00000\n",
              "max           6.824800     12.951600    17.927400     2.162500        1.00000"
            ],
            "text/html": [
              "\n",
              "  <div id=\"df-ad5af6ef-8684-4295-a3df-a8811aa16aee\">\n",
              "    <div class=\"colab-df-container\">\n",
              "      <div>\n",
              "<style scoped>\n",
              "    .dataframe tbody tr th:only-of-type {\n",
              "        vertical-align: middle;\n",
              "    }\n",
              "\n",
              "    .dataframe tbody tr th {\n",
              "        vertical-align: top;\n",
              "    }\n",
              "\n",
              "    .dataframe thead th {\n",
              "        text-align: right;\n",
              "    }\n",
              "</style>\n",
              "<table border=\"1\" class=\"dataframe\">\n",
              "  <thead>\n",
              "    <tr style=\"text-align: right;\">\n",
              "      <th></th>\n",
              "      <th>varianza imagen</th>\n",
              "      <th>sesgo imagen</th>\n",
              "      <th>curtosis</th>\n",
              "      <th>entropias</th>\n",
              "      <th>clasificación</th>\n",
              "    </tr>\n",
              "  </thead>\n",
              "  <tbody>\n",
              "    <tr>\n",
              "      <th>count</th>\n",
              "      <td>1099.000000</td>\n",
              "      <td>1099.000000</td>\n",
              "      <td>1099.000000</td>\n",
              "      <td>1099.000000</td>\n",
              "      <td>1099.00000</td>\n",
              "    </tr>\n",
              "    <tr>\n",
              "      <th>mean</th>\n",
              "      <td>0.451272</td>\n",
              "      <td>1.993999</td>\n",
              "      <td>1.380482</td>\n",
              "      <td>-1.223889</td>\n",
              "      <td>-0.10646</td>\n",
              "    </tr>\n",
              "    <tr>\n",
              "      <th>std</th>\n",
              "      <td>2.848932</td>\n",
              "      <td>5.854436</td>\n",
              "      <td>4.317721</td>\n",
              "      <td>2.146508</td>\n",
              "      <td>0.99477</td>\n",
              "    </tr>\n",
              "    <tr>\n",
              "      <th>min</th>\n",
              "      <td>-7.042100</td>\n",
              "      <td>-13.773100</td>\n",
              "      <td>-5.286100</td>\n",
              "      <td>-8.548200</td>\n",
              "      <td>-1.00000</td>\n",
              "    </tr>\n",
              "    <tr>\n",
              "      <th>25%</th>\n",
              "      <td>-1.764800</td>\n",
              "      <td>-1.400900</td>\n",
              "      <td>-1.505350</td>\n",
              "      <td>-2.534050</td>\n",
              "      <td>-1.00000</td>\n",
              "    </tr>\n",
              "    <tr>\n",
              "      <th>50%</th>\n",
              "      <td>0.519500</td>\n",
              "      <td>2.406600</td>\n",
              "      <td>0.553230</td>\n",
              "      <td>-0.586650</td>\n",
              "      <td>-1.00000</td>\n",
              "    </tr>\n",
              "    <tr>\n",
              "      <th>75%</th>\n",
              "      <td>2.814650</td>\n",
              "      <td>6.819300</td>\n",
              "      <td>3.146050</td>\n",
              "      <td>0.400630</td>\n",
              "      <td>1.00000</td>\n",
              "    </tr>\n",
              "    <tr>\n",
              "      <th>max</th>\n",
              "      <td>6.824800</td>\n",
              "      <td>12.951600</td>\n",
              "      <td>17.927400</td>\n",
              "      <td>2.162500</td>\n",
              "      <td>1.00000</td>\n",
              "    </tr>\n",
              "  </tbody>\n",
              "</table>\n",
              "</div>\n",
              "      <button class=\"colab-df-convert\" onclick=\"convertToInteractive('df-ad5af6ef-8684-4295-a3df-a8811aa16aee')\"\n",
              "              title=\"Convert this dataframe to an interactive table.\"\n",
              "              style=\"display:none;\">\n",
              "        \n",
              "  <svg xmlns=\"http://www.w3.org/2000/svg\" height=\"24px\"viewBox=\"0 0 24 24\"\n",
              "       width=\"24px\">\n",
              "    <path d=\"M0 0h24v24H0V0z\" fill=\"none\"/>\n",
              "    <path d=\"M18.56 5.44l.94 2.06.94-2.06 2.06-.94-2.06-.94-.94-2.06-.94 2.06-2.06.94zm-11 1L8.5 8.5l.94-2.06 2.06-.94-2.06-.94L8.5 2.5l-.94 2.06-2.06.94zm10 10l.94 2.06.94-2.06 2.06-.94-2.06-.94-.94-2.06-.94 2.06-2.06.94z\"/><path d=\"M17.41 7.96l-1.37-1.37c-.4-.4-.92-.59-1.43-.59-.52 0-1.04.2-1.43.59L10.3 9.45l-7.72 7.72c-.78.78-.78 2.05 0 2.83L4 21.41c.39.39.9.59 1.41.59.51 0 1.02-.2 1.41-.59l7.78-7.78 2.81-2.81c.8-.78.8-2.07 0-2.86zM5.41 20L4 18.59l7.72-7.72 1.47 1.35L5.41 20z\"/>\n",
              "  </svg>\n",
              "      </button>\n",
              "      \n",
              "  <style>\n",
              "    .colab-df-container {\n",
              "      display:flex;\n",
              "      flex-wrap:wrap;\n",
              "      gap: 12px;\n",
              "    }\n",
              "\n",
              "    .colab-df-convert {\n",
              "      background-color: #E8F0FE;\n",
              "      border: none;\n",
              "      border-radius: 50%;\n",
              "      cursor: pointer;\n",
              "      display: none;\n",
              "      fill: #1967D2;\n",
              "      height: 32px;\n",
              "      padding: 0 0 0 0;\n",
              "      width: 32px;\n",
              "    }\n",
              "\n",
              "    .colab-df-convert:hover {\n",
              "      background-color: #E2EBFA;\n",
              "      box-shadow: 0px 1px 2px rgba(60, 64, 67, 0.3), 0px 1px 3px 1px rgba(60, 64, 67, 0.15);\n",
              "      fill: #174EA6;\n",
              "    }\n",
              "\n",
              "    [theme=dark] .colab-df-convert {\n",
              "      background-color: #3B4455;\n",
              "      fill: #D2E3FC;\n",
              "    }\n",
              "\n",
              "    [theme=dark] .colab-df-convert:hover {\n",
              "      background-color: #434B5C;\n",
              "      box-shadow: 0px 1px 3px 1px rgba(0, 0, 0, 0.15);\n",
              "      filter: drop-shadow(0px 1px 2px rgba(0, 0, 0, 0.3));\n",
              "      fill: #FFFFFF;\n",
              "    }\n",
              "  </style>\n",
              "\n",
              "      <script>\n",
              "        const buttonEl =\n",
              "          document.querySelector('#df-ad5af6ef-8684-4295-a3df-a8811aa16aee button.colab-df-convert');\n",
              "        buttonEl.style.display =\n",
              "          google.colab.kernel.accessAllowed ? 'block' : 'none';\n",
              "\n",
              "        async function convertToInteractive(key) {\n",
              "          const element = document.querySelector('#df-ad5af6ef-8684-4295-a3df-a8811aa16aee');\n",
              "          const dataTable =\n",
              "            await google.colab.kernel.invokeFunction('convertToInteractive',\n",
              "                                                     [key], {});\n",
              "          if (!dataTable) return;\n",
              "\n",
              "          const docLinkHtml = 'Like what you see? Visit the ' +\n",
              "            '<a target=\"_blank\" href=https://colab.research.google.com/notebooks/data_table.ipynb>data table notebook</a>'\n",
              "            + ' to learn more about interactive tables.';\n",
              "          element.innerHTML = '';\n",
              "          dataTable['output_type'] = 'display_data';\n",
              "          await google.colab.output.renderOutput(dataTable, element);\n",
              "          const docLink = document.createElement('div');\n",
              "          docLink.innerHTML = docLinkHtml;\n",
              "          element.appendChild(docLink);\n",
              "        }\n",
              "      </script>\n",
              "    </div>\n",
              "  </div>\n",
              "  "
            ]
          },
          "metadata": {},
          "execution_count": 22
        }
      ]
    },
    {
      "cell_type": "markdown",
      "source": [
        "**A. Transformada ondícula**\n",
        "\n",
        "La transformada ondiculá es una representación matematica usada para evaluar las caracteristicas de las imagenes, en este caso por medio de la Transformada ondicula se generan tres caracteristicas de la base; la varianza de la imagen, el sesgo de la imagen y la curtosis.\n",
        "\n",
        "Podemos obsevar una varianza baja en promedio y un mayor sesgo de las imagenes,esto se debe principalmente a los tonos de los billetes, no implican una alta varianza en las imagenes por la poca cantidad de colores que manejan los billetes\n",
        "\n",
        "**B. entropia de las imagenes**\n",
        "\n",
        "la entropia hace referencia a un indicador de intensidad de la imagen, uno esperaria que de los billetes buenos mantengan una entropia similar, mientras en los billetes malos exista una mayor varianza en dichos.\n",
        "\n",
        "\n",
        "**B. clasificación**\n",
        "\n",
        "en clasificación econtraremos por el indicador -1 los billetes buenos y por el otro lado los (con el valor 1) los billetes buenos. se puede observar que esta base que servira para testear tiene más billetes buenos que falsificados, de acuerdo a su media.\n",
        "\n",
        "\n",
        "\n"
      ],
      "metadata": {
        "id": "5jP0-iKhT8t_"
      }
    },
    {
      "cell_type": "markdown",
      "source": [
        "**1.3.A) son linealmente separables**"
      ],
      "metadata": {
        "id": "IBuEjBZDn_aD"
      }
    },
    {
      "cell_type": "code",
      "source": [
        "fig, ax = plt.subplots()\n",
        "colors = {1:'red', -1:'green'}\n",
        "ax.scatter(b['varianza imagen'], b['entropias'], c=b['clasificación'].map(colors))\n",
        "\n",
        "plt.show()"
      ],
      "metadata": {
        "colab": {
          "base_uri": "https://localhost:8080/",
          "height": 430
        },
        "id": "USjJdoBEnzrZ",
        "outputId": "a211b837-760a-43f8-ac05-8ca9b916dcdb"
      },
      "execution_count": 23,
      "outputs": [
        {
          "output_type": "display_data",
          "data": {
            "text/plain": [
              "<Figure size 640x480 with 1 Axes>"
            ],
            "image/png": "[encoded data removed]"
          },
          "metadata": {}
        }
      ]
    },
    {
      "cell_type": "markdown",
      "source": [
        "Bajo una mirada grafica pareciera que no fueran separables. sin embargo bajo un modelo multivariado como SVM se evidencia que son linealmente separables por un hiberplano."
      ],
      "metadata": {
        "id": "nwx2ghaGqZ8T"
      }
    },
    {
      "cell_type": "markdown",
      "source": [
        "**1.3.B) son estos datos aleatoriamente escogidos**"
      ],
      "metadata": {
        "id": "SCa4YboKT8pP"
      }
    },
    {
      "cell_type": "code",
      "source": [
        "b['varianza imagen'].hist(by=b['clasificación'])"
      ],
      "metadata": {
        "colab": {
          "base_uri": "https://localhost:8080/",
          "height": 500
        },
        "id": "RuHW8w7-rY4L",
        "outputId": "2f8fbe88-7c83-4694-99cf-2c217691deb3"
      },
      "execution_count": 24,
      "outputs": [
        {
          "output_type": "execute_result",
          "data": {
            "text/plain": [
              "array([<Axes: title={'center': '-1'}>, <Axes: title={'center': '1'}>],\n",
              "      dtype=object)"
            ]
          },
          "metadata": {},
          "execution_count": 24
        },
        {
          "output_type": "display_data",
          "data": {
            "text/plain": [
              "<Figure size 640x480 with 2 Axes>"
            ],
            "image/png": "[encoded data removed]"
          },
          "metadata": {}
        }
      ]
    },
    {
      "cell_type": "code",
      "source": [
        "b['sesgo imagen'].hist(by=b['clasificación'])"
      ],
      "metadata": {
        "colab": {
          "base_uri": "https://localhost:8080/",
          "height": 496
        },
        "id": "SAr0WSLxrlao",
        "outputId": "cce633ee-b7e9-4c1a-c34d-0c9482977f4b"
      },
      "execution_count": 25,
      "outputs": [
        {
          "output_type": "execute_result",
          "data": {
            "text/plain": [
              "array([<Axes: title={'center': '-1'}>, <Axes: title={'center': '1'}>],\n",
              "      dtype=object)"
            ]
          },
          "metadata": {},
          "execution_count": 25
        },
        {
          "output_type": "display_data",
          "data": {
            "text/plain": [
              "<Figure size 640x480 with 2 Axes>"
            ],
            "image/png": "[encoded data removed]"
          },
          "metadata": {}
        }
      ]
    },
    {
      "cell_type": "code",
      "source": [
        "b['curtosis'].hist(by=b['clasificación'])"
      ],
      "metadata": {
        "colab": {
          "base_uri": "https://localhost:8080/",
          "height": 487
        },
        "id": "ZCuUvgnMrtg6",
        "outputId": "50879f94-8bd6-4cee-ee33-c5d197232471"
      },
      "execution_count": 26,
      "outputs": [
        {
          "output_type": "execute_result",
          "data": {
            "text/plain": [
              "array([<Axes: title={'center': '-1'}>, <Axes: title={'center': '1'}>],\n",
              "      dtype=object)"
            ]
          },
          "metadata": {},
          "execution_count": 26
        },
        {
          "output_type": "display_data",
          "data": {
            "text/plain": [
              "<Figure size 640x480 with 2 Axes>"
            ],
            "image/png": "[encoded data removed]"
          },
          "metadata": {}
        }
      ]
    },
    {
      "cell_type": "code",
      "source": [
        "b['entropias'].hist(by=b['clasificación'])"
      ],
      "metadata": {
        "colab": {
          "base_uri": "https://localhost:8080/",
          "height": 500
        },
        "id": "ElVCp_NTr9Ig",
        "outputId": "305ae0ae-e874-4ca8-937f-1a6a75a09ec5"
      },
      "execution_count": 27,
      "outputs": [
        {
          "output_type": "execute_result",
          "data": {
            "text/plain": [
              "array([<Axes: title={'center': '-1'}>, <Axes: title={'center': '1'}>],\n",
              "      dtype=object)"
            ]
          },
          "metadata": {},
          "execution_count": 27
        },
        {
          "output_type": "display_data",
          "data": {
            "text/plain": [
              "<Figure size 640x480 with 2 Axes>"
            ],
            "image/png": "[encoded data removed]"
          },
          "metadata": {}
        }
      ]
    },
    {
      "cell_type": "markdown",
      "source": [
        "**1.3.C) El tamaño de la muestra garantiza generalización**\n",
        "\n",
        "No necesariamente es el más ideal, sin embargo nos permite no obtener una restricción para que no aprenda los datos."
      ],
      "metadata": {
        "id": "gaQoOIC8txBF"
      }
    },
    {
      "cell_type": "code",
      "source": [
        "from sklearn.svm import LinearSVC\n",
        "from sklearn.pipeline import make_pipeline\n",
        "from sklearn.preprocessing import StandardScaler\n",
        "from sklearn.datasets import make_classification\n"
      ],
      "metadata": {
        "id": "YGfN_4DJYlCF"
      },
      "execution_count": 28,
      "outputs": []
    },
    {
      "cell_type": "code",
      "source": [
        "b_t11 = b1[[\"varianza imagen\",\"sesgo imagen\",\"curtosis\",\"entropias\"]]\n",
        "b_t1y = b1[[\"clasificación\"]]\n",
        "X = b_t11.to_numpy()\n",
        "y = np.ravel(b_t1y)\n",
        "clf = make_pipeline(StandardScaler(), LinearSVC(random_state=0, tol=1e-5))\n",
        "clf.fit(X, y)"
      ],
      "metadata": {
        "colab": {
          "base_uri": "https://localhost:8080/",
          "height": 127
        },
        "id": "XPz6VRKOU9Yn",
        "outputId": "694e7221-874d-4a55-eba4-a3b197712df0"
      },
      "execution_count": 29,
      "outputs": [
        {
          "output_type": "execute_result",
          "data": {
            "text/plain": [
              "Pipeline(steps=[('standardscaler', StandardScaler()),\n",
              "                ('linearsvc', LinearSVC(random_state=0, tol=1e-05))])"
            ],
            "text/html": [
              "<style>#sk-container-id-1 {color: black;background-color: white;}#sk-container-id-1 pre{padding: 0;}#sk-container-id-1 div.sk-toggleable {background-color: white;}#sk-container-id-1 label.sk-toggleable__label {cursor: pointer;display: block;width: 100%;margin-bottom: 0;padding: 0.3em;box-sizing: border-box;text-align: center;}#sk-container-id-1 label.sk-toggleable__label-arrow:before {content: \"▸\";float: left;margin-right: 0.25em;color: #696969;}#sk-container-id-1 label.sk-toggleable__label-arrow:hover:before {color: black;}#sk-container-id-1 div.sk-estimator:hover label.sk-toggleable__label-arrow:before {color: black;}#sk-container-id-1 div.sk-toggleable__content {max-height: 0;max-width: 0;overflow: hidden;text-align: left;background-color: #f0f8ff;}#sk-container-id-1 div.sk-toggleable__content pre {margin: 0.2em;color: black;border-radius: 0.25em;background-color: #f0f8ff;}#sk-container-id-1 input.sk-toggleable__control:checked~div.sk-toggleable__content {max-height: 200px;max-width: 100%;overflow: auto;}#sk-container-id-1 input.sk-toggleable__control:checked~label.sk-toggleable__label-arrow:before {content: \"▾\";}#sk-container-id-1 div.sk-estimator input.sk-toggleable__control:checked~label.sk-toggleable__label {background-color: #d4ebff;}#sk-container-id-1 div.sk-label input.sk-toggleable__control:checked~label.sk-toggleable__label {background-color: #d4ebff;}#sk-container-id-1 input.sk-hidden--visually {border: 0;clip: rect(1px 1px 1px 1px);clip: rect(1px, 1px, 1px, 1px);height: 1px;margin: -1px;overflow: hidden;padding: 0;position: absolute;width: 1px;}#sk-container-id-1 div.sk-estimator {font-family: monospace;background-color: #f0f8ff;border: 1px dotted black;border-radius: 0.25em;box-sizing: border-box;margin-bottom: 0.5em;}#sk-container-id-1 div.sk-estimator:hover {background-color: #d4ebff;}#sk-container-id-1 div.sk-parallel-item::after {content: \"\";width: 100%;border-bottom: 1px solid gray;flex-grow: 1;}#sk-container-id-1 div.sk-label:hover label.sk-toggleable__label {background-color: #d4ebff;}#sk-container-id-1 div.sk-serial::before {content: \"\";position: absolute;border-left: 1px solid gray;box-sizing: border-box;top: 0;bottom: 0;left: 50%;z-index: 0;}#sk-container-id-1 div.sk-serial {display: flex;flex-direction: column;align-items: center;background-color: white;padding-right: 0.2em;padding-left: 0.2em;position: relative;}#sk-container-id-1 div.sk-item {position: relative;z-index: 1;}#sk-container-id-1 div.sk-parallel {display: flex;align-items: stretch;justify-content: center;background-color: white;position: relative;}#sk-container-id-1 div.sk-item::before, #sk-container-id-1 div.sk-parallel-item::before {content: \"\";position: absolute;border-left: 1px solid gray;box-sizing: border-box;top: 0;bottom: 0;left: 50%;z-index: -1;}#sk-container-id-1 div.sk-parallel-item {display: flex;flex-direction: column;z-index: 1;position: relative;background-color: white;}#sk-container-id-1 div.sk-parallel-item:first-child::after {align-self: flex-end;width: 50%;}#sk-container-id-1 div.sk-parallel-item:last-child::after {align-self: flex-start;width: 50%;}#sk-container-id-1 div.sk-parallel-item:only-child::after {width: 0;}#sk-container-id-1 div.sk-dashed-wrapped {border: 1px dashed gray;margin: 0 0.4em 0.5em 0.4em;box-sizing: border-box;padding-bottom: 0.4em;background-color: white;}#sk-container-id-1 div.sk-label label {font-family: monospace;font-weight: bold;display: inline-block;line-height: 1.2em;}#sk-container-id-1 div.sk-label-container {text-align: center;}#sk-container-id-1 div.sk-container {/* jupyter's `normalize.less` sets `[hidden] { display: none; }` but bootstrap.min.css set `[hidden] { display: none !important; }` so we also need the `!important` here to be able to override the default hidden behavior on the sphinx rendered scikit-learn.org. See: https://github.com/scikit-learn/scikit-learn/issues/21755 */display: inline-block !important;position: relative;}#sk-container-id-1 div.sk-text-repr-fallback {display: none;}</style><div id=\"sk-container-id-1\" class=\"sk-top-container\"><div class=\"sk-text-repr-fallback\"><pre>Pipeline(steps=[(&#x27;standardscaler&#x27;, StandardScaler()),\n",
              "                (&#x27;linearsvc&#x27;, LinearSVC(random_state=0, tol=1e-05))])</pre><b>In a Jupyter environment, please rerun this cell to show the HTML representation or trust the notebook. <br />On GitHub, the HTML representation is unable to render, please try loading this page with nbviewer.org.</b></div><div class=\"sk-container\" hidden><div class=\"sk-item sk-dashed-wrapped\"><div class=\"sk-label-container\"><div class=\"sk-label sk-toggleable\"><input class=\"sk-toggleable__control sk-hidden--visually\" id=\"sk-estimator-id-1\" type=\"checkbox\" ><label for=\"sk-estimator-id-1\" class=\"sk-toggleable__label sk-toggleable__label-arrow\">Pipeline</label><div class=\"sk-toggleable__content\"><pre>Pipeline(steps=[(&#x27;standardscaler&#x27;, StandardScaler()),\n",
              "                (&#x27;linearsvc&#x27;, LinearSVC(random_state=0, tol=1e-05))])</pre></div></div></div><div class=\"sk-serial\"><div class=\"sk-item\"><div class=\"sk-estimator sk-toggleable\"><input class=\"sk-toggleable__control sk-hidden--visually\" id=\"sk-estimator-id-2\" type=\"checkbox\" ><label for=\"sk-estimator-id-2\" class=\"sk-toggleable__label sk-toggleable__label-arrow\">StandardScaler</label><div class=\"sk-toggleable__content\"><pre>StandardScaler()</pre></div></div></div><div class=\"sk-item\"><div class=\"sk-estimator sk-toggleable\"><input class=\"sk-toggleable__control sk-hidden--visually\" id=\"sk-estimator-id-3\" type=\"checkbox\" ><label for=\"sk-estimator-id-3\" class=\"sk-toggleable__label sk-toggleable__label-arrow\">LinearSVC</label><div class=\"sk-toggleable__content\"><pre>LinearSVC(random_state=0, tol=1e-05)</pre></div></div></div></div></div></div></div>"
            ]
          },
          "metadata": {},
          "execution_count": 29
        }
      ]
    },
    {
      "cell_type": "code",
      "source": [
        "print(clf.named_steps['linearsvc'].coef_)"
      ],
      "metadata": {
        "colab": {
          "base_uri": "https://localhost:8080/"
        },
        "id": "Lgpg8CNDZOtw",
        "outputId": "cf379f3f-615c-42fa-873b-9350671d458e"
      },
      "execution_count": 30,
      "outputs": [
        {
          "output_type": "stream",
          "name": "stdout",
          "text": [
            "[[-2.41976081 -2.71182082 -2.44746842  0.0221678 ]]\n"
          ]
        }
      ]
    },
    {
      "cell_type": "code",
      "source": [
        "b_test11 = bt[[\"varianza imagen\",\"sesgo imagen\",\"curtosis\",\"entropias\"]]\n",
        "b_test1y = bt[[\"clasificación\"]]\n",
        "Xtest = b_test11.to_numpy()\n",
        "ytest = b_test1y.to_numpy()\n",
        "ypredict = clf.predict(Xtest)"
      ],
      "metadata": {
        "id": "0t1aWsBJZVrg"
      },
      "execution_count": 31,
      "outputs": []
    },
    {
      "cell_type": "code",
      "source": [
        "ypredict"
      ],
      "metadata": {
        "colab": {
          "base_uri": "https://localhost:8080/"
        },
        "id": "IQ7wK9tiaEnD",
        "outputId": "2a000e95-d0b4-448d-edd9-81f0976c85ed"
      },
      "execution_count": 32,
      "outputs": [
        {
          "output_type": "execute_result",
          "data": {
            "text/plain": [
              "array([-1, -1, -1, -1, -1, -1,  1, -1, -1, -1, -1, -1, -1, -1, -1, -1, -1,\n",
              "       -1, -1, -1, -1, -1, -1, -1, -1, -1, -1, -1, -1, -1, -1, -1, -1, -1,\n",
              "       -1, -1, -1, -1, -1, -1, -1, -1, -1, -1, -1, -1, -1, -1, -1, -1, -1,\n",
              "       -1, -1, -1, -1, -1, -1, -1, -1, -1, -1, -1, -1, -1, -1, -1, -1, -1,\n",
              "       -1,  1, -1, -1, -1, -1, -1, -1, -1, -1, -1, -1, -1, -1, -1, -1, -1,\n",
              "       -1, -1, -1, -1, -1, -1, -1, -1, -1, -1, -1, -1, -1, -1, -1, -1,  1,\n",
              "       -1, -1, -1, -1, -1, -1, -1, -1, -1, -1, -1, -1, -1, -1, -1, -1, -1,\n",
              "       -1, -1, -1, -1, -1, -1, -1, -1, -1, -1, -1, -1, -1, -1, -1, -1, -1,\n",
              "       -1, -1, -1,  1, -1, -1, -1, -1, -1, -1, -1,  1, -1, -1, -1, -1, -1,\n",
              "       -1,  1,  1,  1,  1,  1,  1,  1,  1,  1,  1,  1,  1,  1,  1,  1,  1,\n",
              "        1,  1,  1,  1,  1,  1,  1,  1,  1,  1,  1,  1,  1,  1,  1,  1,  1,\n",
              "        1,  1,  1,  1,  1,  1,  1,  1,  1,  1,  1,  1,  1,  1,  1,  1,  1,\n",
              "        1,  1,  1,  1,  1,  1,  1,  1,  1,  1,  1,  1, -1,  1,  1,  1,  1,\n",
              "        1,  1,  1,  1,  1,  1,  1,  1,  1,  1,  1,  1,  1,  1,  1,  1,  1,\n",
              "        1,  1,  1,  1,  1,  1,  1,  1,  1,  1,  1,  1,  1,  1,  1,  1,  1,\n",
              "        1,  1,  1,  1,  1,  1,  1,  1,  1,  1,  1,  1,  1,  1,  1,  1,  1,\n",
              "        1])"
            ]
          },
          "metadata": {},
          "execution_count": 32
        }
      ]
    },
    {
      "cell_type": "code",
      "source": [
        "list_2 = ypredict.tolist()\n",
        "print(list_2)"
      ],
      "metadata": {
        "colab": {
          "base_uri": "https://localhost:8080/"
        },
        "id": "_YPiWniVixUA",
        "outputId": "2110b208-c5c7-435c-a040-c7ce6a4be709"
      },
      "execution_count": 33,
      "outputs": [
        {
          "output_type": "stream",
          "name": "stdout",
          "text": [
            "[-1, -1, -1, -1, -1, -1, 1, -1, -1, -1, -1, -1, -1, -1, -1, -1, -1, -1, -1, -1, -1, -1, -1, -1, -1, -1, -1, -1, -1, -1, -1, -1, -1, -1, -1, -1, -1, -1, -1, -1, -1, -1, -1, -1, -1, -1, -1, -1, -1, -1, -1, -1, -1, -1, -1, -1, -1, -1, -1, -1, -1, -1, -1, -1, -1, -1, -1, -1, -1, 1, -1, -1, -1, -1, -1, -1, -1, -1, -1, -1, -1, -1, -1, -1, -1, -1, -1, -1, -1, -1, -1, -1, -1, -1, -1, -1, -1, -1, -1, -1, -1, 1, -1, -1, -1, -1, -1, -1, -1, -1, -1, -1, -1, -1, -1, -1, -1, -1, -1, -1, -1, -1, -1, -1, -1, -1, -1, -1, -1, -1, -1, -1, -1, -1, -1, -1, -1, -1, -1, 1, -1, -1, -1, -1, -1, -1, -1, 1, -1, -1, -1, -1, -1, -1, 1, 1, 1, 1, 1, 1, 1, 1, 1, 1, 1, 1, 1, 1, 1, 1, 1, 1, 1, 1, 1, 1, 1, 1, 1, 1, 1, 1, 1, 1, 1, 1, 1, 1, 1, 1, 1, 1, 1, 1, 1, 1, 1, 1, 1, 1, 1, 1, 1, 1, 1, 1, 1, 1, 1, 1, 1, 1, 1, 1, 1, 1, -1, 1, 1, 1, 1, 1, 1, 1, 1, 1, 1, 1, 1, 1, 1, 1, 1, 1, 1, 1, 1, 1, 1, 1, 1, 1, 1, 1, 1, 1, 1, 1, 1, 1, 1, 1, 1, 1, 1, 1, 1, 1, 1, 1, 1, 1, 1, 1, 1, 1, 1, 1, 1, 1, 1, 1, 1]\n"
          ]
        }
      ]
    },
    {
      "cell_type": "code",
      "source": [
        "list_1 = bt[\"clasificación\"].values.tolist()\n",
        "print(list_1)"
      ],
      "metadata": {
        "colab": {
          "base_uri": "https://localhost:8080/"
        },
        "id": "FKkHcJvzkyOc",
        "outputId": "5268ad23-883a-4852-94c1-08f2b84c2556"
      },
      "execution_count": 34,
      "outputs": [
        {
          "output_type": "stream",
          "name": "stdout",
          "text": [
            "[-1, -1, -1, -1, -1, -1, -1, -1, -1, -1, -1, -1, -1, -1, -1, -1, -1, -1, -1, -1, -1, -1, -1, -1, -1, -1, -1, -1, -1, -1, -1, -1, -1, -1, -1, -1, -1, -1, -1, -1, -1, -1, -1, -1, -1, -1, -1, -1, -1, -1, -1, -1, -1, -1, -1, -1, -1, -1, -1, -1, -1, -1, -1, -1, -1, -1, -1, -1, -1, -1, -1, -1, -1, -1, -1, -1, -1, -1, -1, -1, -1, -1, -1, -1, -1, -1, -1, -1, -1, -1, -1, -1, -1, -1, -1, -1, -1, -1, -1, -1, -1, -1, -1, -1, -1, -1, -1, -1, -1, -1, -1, -1, -1, -1, -1, -1, -1, -1, -1, -1, -1, -1, -1, -1, -1, -1, -1, -1, -1, -1, -1, -1, -1, -1, -1, -1, -1, -1, -1, -1, -1, -1, -1, -1, -1, -1, -1, -1, -1, -1, -1, -1, -1, -1, 1, 1, 1, 1, 1, 1, 1, 1, 1, 1, 1, 1, 1, 1, 1, 1, 1, 1, 1, 1, 1, 1, 1, 1, 1, 1, 1, 1, 1, 1, 1, 1, 1, 1, 1, 1, 1, 1, 1, 1, 1, 1, 1, 1, 1, 1, 1, 1, 1, 1, 1, 1, 1, 1, 1, 1, 1, 1, 1, 1, 1, 1, 1, 1, 1, 1, 1, 1, 1, 1, 1, 1, 1, 1, 1, 1, 1, 1, 1, 1, 1, 1, 1, 1, 1, 1, 1, 1, 1, 1, 1, 1, 1, 1, 1, 1, 1, 1, 1, 1, 1, 1, 1, 1, 1, 1, 1, 1, 1, 1, 1, 1, 1, 1, 1, 1, 1, 1, 1]\n"
          ]
        }
      ]
    },
    {
      "cell_type": "code",
      "source": [
        "testeo = pd.DataFrame({'valor_verdadero':list_1, 'valor_estimado':list_2})"
      ],
      "metadata": {
        "id": "Pj8yBHVXk_tW"
      },
      "execution_count": 35,
      "outputs": []
    },
    {
      "cell_type": "markdown",
      "source": [
        "5. texteo con datos generalizados"
      ],
      "metadata": {
        "id": "aDj4Xp4IWC3L"
      }
    },
    {
      "cell_type": "code",
      "source": [
        "testeo\n",
        "filtro2 = testeo['valor_verdadero'] == testeo['valor_estimado']\n",
        "filtro3 = testeo['valor_verdadero'] != testeo['valor_estimado']\n",
        "testeo.loc[filtro2, 'resultado'] = 'acerto'\n",
        "testeo.loc[filtro3, 'resultado'] = 'no acerto'\n",
        "testeo"
      ],
      "metadata": {
        "colab": {
          "base_uri": "https://localhost:8080/",
          "height": 423
        },
        "id": "EFv5PM0Qlqqb",
        "outputId": "95fbad47-89ca-4788-ca46-c3437fe765b2"
      },
      "execution_count": 36,
      "outputs": [
        {
          "output_type": "execute_result",
          "data": {
            "text/plain": [
              "     valor_verdadero  valor_estimado resultado\n",
              "0                 -1              -1    acerto\n",
              "1                 -1              -1    acerto\n",
              "2                 -1              -1    acerto\n",
              "3                 -1              -1    acerto\n",
              "4                 -1              -1    acerto\n",
              "..               ...             ...       ...\n",
              "268                1               1    acerto\n",
              "269                1               1    acerto\n",
              "270                1               1    acerto\n",
              "271                1               1    acerto\n",
              "272                1               1    acerto\n",
              "\n",
              "[273 rows x 3 columns]"
            ],
            "text/html": [
              "\n",
              "  <div id=\"df-1dff48d6-6605-481a-a1a6-4a3495840001\">\n",
              "    <div class=\"colab-df-container\">\n",
              "      <div>\n",
              "<style scoped>\n",
              "    .dataframe tbody tr th:only-of-type {\n",
              "        vertical-align: middle;\n",
              "    }\n",
              "\n",
              "    .dataframe tbody tr th {\n",
              "        vertical-align: top;\n",
              "    }\n",
              "\n",
              "    .dataframe thead th {\n",
              "        text-align: right;\n",
              "    }\n",
              "</style>\n",
              "<table border=\"1\" class=\"dataframe\">\n",
              "  <thead>\n",
              "    <tr style=\"text-align: right;\">\n",
              "      <th></th>\n",
              "      <th>valor_verdadero</th>\n",
              "      <th>valor_estimado</th>\n",
              "      <th>resultado</th>\n",
              "    </tr>\n",
              "  </thead>\n",
              "  <tbody>\n",
              "    <tr>\n",
              "      <th>0</th>\n",
              "      <td>-1</td>\n",
              "      <td>-1</td>\n",
              "      <td>acerto</td>\n",
              "    </tr>\n",
              "    <tr>\n",
              "      <th>1</th>\n",
              "      <td>-1</td>\n",
              "      <td>-1</td>\n",
              "      <td>acerto</td>\n",
              "    </tr>\n",
              "    <tr>\n",
              "      <th>2</th>\n",
              "      <td>-1</td>\n",
              "      <td>-1</td>\n",
              "      <td>acerto</td>\n",
              "    </tr>\n",
              "    <tr>\n",
              "      <th>3</th>\n",
              "      <td>-1</td>\n",
              "      <td>-1</td>\n",
              "      <td>acerto</td>\n",
              "    </tr>\n",
              "    <tr>\n",
              "      <th>4</th>\n",
              "      <td>-1</td>\n",
              "      <td>-1</td>\n",
              "      <td>acerto</td>\n",
              "    </tr>\n",
              "    <tr>\n",
              "      <th>...</th>\n",
              "      <td>...</td>\n",
              "      <td>...</td>\n",
              "      <td>...</td>\n",
              "    </tr>\n",
              "    <tr>\n",
              "      <th>268</th>\n",
              "      <td>1</td>\n",
              "      <td>1</td>\n",
              "      <td>acerto</td>\n",
              "    </tr>\n",
              "    <tr>\n",
              "      <th>269</th>\n",
              "      <td>1</td>\n",
              "      <td>1</td>\n",
              "      <td>acerto</td>\n",
              "    </tr>\n",
              "    <tr>\n",
              "      <th>270</th>\n",
              "      <td>1</td>\n",
              "      <td>1</td>\n",
              "      <td>acerto</td>\n",
              "    </tr>\n",
              "    <tr>\n",
              "      <th>271</th>\n",
              "      <td>1</td>\n",
              "      <td>1</td>\n",
              "      <td>acerto</td>\n",
              "    </tr>\n",
              "    <tr>\n",
              "      <th>272</th>\n",
              "      <td>1</td>\n",
              "      <td>1</td>\n",
              "      <td>acerto</td>\n",
              "    </tr>\n",
              "  </tbody>\n",
              "</table>\n",
              "<p>273 rows × 3 columns</p>\n",
              "</div>\n",
              "      <button class=\"colab-df-convert\" onclick=\"convertToInteractive('df-1dff48d6-6605-481a-a1a6-4a3495840001')\"\n",
              "              title=\"Convert this dataframe to an interactive table.\"\n",
              "              style=\"display:none;\">\n",
              "        \n",
              "  <svg xmlns=\"http://www.w3.org/2000/svg\" height=\"24px\"viewBox=\"0 0 24 24\"\n",
              "       width=\"24px\">\n",
              "    <path d=\"M0 0h24v24H0V0z\" fill=\"none\"/>\n",
              "    <path d=\"M18.56 5.44l.94 2.06.94-2.06 2.06-.94-2.06-.94-.94-2.06-.94 2.06-2.06.94zm-11 1L8.5 8.5l.94-2.06 2.06-.94-2.06-.94L8.5 2.5l-.94 2.06-2.06.94zm10 10l.94 2.06.94-2.06 2.06-.94-2.06-.94-.94-2.06-.94 2.06-2.06.94z\"/><path d=\"M17.41 7.96l-1.37-1.37c-.4-.4-.92-.59-1.43-.59-.52 0-1.04.2-1.43.59L10.3 9.45l-7.72 7.72c-.78.78-.78 2.05 0 2.83L4 21.41c.39.39.9.59 1.41.59.51 0 1.02-.2 1.41-.59l7.78-7.78 2.81-2.81c.8-.78.8-2.07 0-2.86zM5.41 20L4 18.59l7.72-7.72 1.47 1.35L5.41 20z\"/>\n",
              "  </svg>\n",
              "      </button>\n",
              "      \n",
              "  <style>\n",
              "    .colab-df-container {\n",
              "      display:flex;\n",
              "      flex-wrap:wrap;\n",
              "      gap: 12px;\n",
              "    }\n",
              "\n",
              "    .colab-df-convert {\n",
              "      background-color: #E8F0FE;\n",
              "      border: none;\n",
              "      border-radius: 50%;\n",
              "      cursor: pointer;\n",
              "      display: none;\n",
              "      fill: #1967D2;\n",
              "      height: 32px;\n",
              "      padding: 0 0 0 0;\n",
              "      width: 32px;\n",
              "    }\n",
              "\n",
              "    .colab-df-convert:hover {\n",
              "      background-color: #E2EBFA;\n",
              "      box-shadow: 0px 1px 2px rgba(60, 64, 67, 0.3), 0px 1px 3px 1px rgba(60, 64, 67, 0.15);\n",
              "      fill: #174EA6;\n",
              "    }\n",
              "\n",
              "    [theme=dark] .colab-df-convert {\n",
              "      background-color: #3B4455;\n",
              "      fill: #D2E3FC;\n",
              "    }\n",
              "\n",
              "    [theme=dark] .colab-df-convert:hover {\n",
              "      background-color: #434B5C;\n",
              "      box-shadow: 0px 1px 3px 1px rgba(0, 0, 0, 0.15);\n",
              "      filter: drop-shadow(0px 1px 2px rgba(0, 0, 0, 0.3));\n",
              "      fill: #FFFFFF;\n",
              "    }\n",
              "  </style>\n",
              "\n",
              "      <script>\n",
              "        const buttonEl =\n",
              "          document.querySelector('#df-1dff48d6-6605-481a-a1a6-4a3495840001 button.colab-df-convert');\n",
              "        buttonEl.style.display =\n",
              "          google.colab.kernel.accessAllowed ? 'block' : 'none';\n",
              "\n",
              "        async function convertToInteractive(key) {\n",
              "          const element = document.querySelector('#df-1dff48d6-6605-481a-a1a6-4a3495840001');\n",
              "          const dataTable =\n",
              "            await google.colab.kernel.invokeFunction('convertToInteractive',\n",
              "                                                     [key], {});\n",
              "          if (!dataTable) return;\n",
              "\n",
              "          const docLinkHtml = 'Like what you see? Visit the ' +\n",
              "            '<a target=\"_blank\" href=https://colab.research.google.com/notebooks/data_table.ipynb>data table notebook</a>'\n",
              "            + ' to learn more about interactive tables.';\n",
              "          element.innerHTML = '';\n",
              "          dataTable['output_type'] = 'display_data';\n",
              "          await google.colab.output.renderOutput(dataTable, element);\n",
              "          const docLink = document.createElement('div');\n",
              "          docLink.innerHTML = docLinkHtml;\n",
              "          element.appendChild(docLink);\n",
              "        }\n",
              "      </script>\n",
              "    </div>\n",
              "  </div>\n",
              "  "
            ]
          },
          "metadata": {},
          "execution_count": 36
        }
      ]
    },
    {
      "cell_type": "markdown",
      "source": [
        "6. evidencia de generalización"
      ],
      "metadata": {
        "id": "UEgmVYt7VO9o"
      }
    },
    {
      "cell_type": "code",
      "source": [
        "# metricas de calificación del modelo\n",
        "\n",
        "def metricas_cal(data):\n",
        "  df2 = len(data[data[\"resultado\"]==\"acerto\"])\n",
        "  #print(df2)\n",
        "  df3 = len(data[data[\"resultado\"]==\"no acerto\"])\n",
        "  #print(df2)\n",
        "  total = df2+df3\n",
        "  # precisión\n",
        "  exactitud = df2/total*100\n",
        "  exactitud = round(exactitud, 3)\n",
        "  a = str(exactitud)\n",
        "  print('la exactitud del spv es de: '+a+'%')\n",
        "  \n",
        "  # verdaderos negativos\n",
        "  df2 = len(data[(data[\"valor_verdadero\"]==-1) & (data[\"valor_estimado\"]==-1)])\n",
        "  exactitud = df2/total*100\n",
        "  exactitud = round(exactitud, 3)\n",
        "  a = str(exactitud)\n",
        "  print('los valores verdaderos negativos son '+a+'% de la población de testeo ')\n",
        "  # falsos negativo\n",
        "  df2 = len(data[(data[\"valor_verdadero\"]==1) & (data[\"valor_estimado\"]==-1)])\n",
        "  exactitud = df2/total*100\n",
        "  exactitud = round(exactitud, 3)\n",
        "  a = str(exactitud)\n",
        "  print('los valores falsos negativos son '+a+'% de la población de testeo ')\n",
        "  # falsos positivos\n",
        "  df2 = len(data[(data[\"valor_verdadero\"]==-1) & (data[\"valor_estimado\"]==1)])\n",
        "  exactitud = df2/total*100\n",
        "  exactitud = round(exactitud, 3)\n",
        "  a = str(exactitud)\n",
        "  print('los valores falsos positivos son '+a+'% de la población de testeo ')\n",
        "  # verdaderos positivos\n",
        "  df2 = len(data[(data[\"valor_verdadero\"]==1) & (data[\"valor_estimado\"]==1)])\n",
        "  exactitud = df2/total*100\n",
        "  exactitud = round(exactitud, 3)\n",
        "  a = str(exactitud)\n",
        "  print('los valores verdaderos positivos son '+a+'% de la población de testeo ')\n"
      ],
      "metadata": {
        "id": "Bm1dTd1g0HO8"
      },
      "execution_count": 37,
      "outputs": []
    },
    {
      "cell_type": "code",
      "source": [
        "metricas_cal(testeo)"
      ],
      "metadata": {
        "colab": {
          "base_uri": "https://localhost:8080/"
        },
        "id": "GOJt05DXdvJH",
        "outputId": "45fdf84b-5305-4a3f-aea7-6e716d595148"
      },
      "execution_count": 38,
      "outputs": [
        {
          "output_type": "stream",
          "name": "stdout",
          "text": [
            "la exactitud del spv es de: 97.802%\n",
            "los valores verdaderos negativos son 54.579% de la población de testeo \n",
            "los valores falsos negativos son 0.366% de la población de testeo \n",
            "los valores falsos positivos son 1.832% de la población de testeo \n",
            "los valores verdaderos positivos son 43.223% de la población de testeo \n"
          ]
        }
      ]
    },
    {
      "cell_type": "markdown",
      "source": [
        "En todos los casos pareciera que provienen de la misma distribución, sin embargo para el caso de la curtosis pareciera que existiera un sesgo por el comportamiento de la distribución. sin embargo para la muestra y para el aprendizaje se debe seleccionar una muestra aleatoria de billetes falsos, esto puede generar que en cierta medida ya no sea aleatoria, adicionalmente por la impresiones de billetes, no podemos identificar si provienen del mismo lote, lo cual ya genera diferencias en el analisis a obtener."
      ],
      "metadata": {
        "id": "Li6tbemnsiG-"
      }
    },
    {
      "cell_type": "markdown",
      "source": [
        "# Creación de codigo y testeo de otros algoritmos para estimar el modelo."
      ],
      "metadata": {
        "id": "2tmpdUbfuY0d"
      }
    },
    {
      "cell_type": "markdown",
      "source": [
        "**SVM revisitado**"
      ],
      "metadata": {
        "id": "QgMrXZpBfEuW"
      }
    },
    {
      "cell_type": "code",
      "source": [
        "from sklearn import svm\n",
        "from sklearn.metrics import hinge_loss\n",
        "b_t11 = b1[[\"varianza imagen\",\"sesgo imagen\",\"curtosis\",\"entropias\"]]\n",
        "b_t1y = b1[[\"clasificación\"]]\n",
        "X = b_t11.to_numpy()\n",
        "y = np.ravel(b_t1y)\n",
        "clf = make_pipeline(StandardScaler(), LinearSVC(random_state=0, tol=1e-5, loss=\"hinge\"))\n",
        "clf.fit(X, y)\n"
      ],
      "metadata": {
        "colab": {
          "base_uri": "https://localhost:8080/",
          "height": 127
        },
        "id": "fU6t5DkPMUqh",
        "outputId": "9d36a0f3-7ca0-4d32-e47f-05e86e3ca85e"
      },
      "execution_count": 39,
      "outputs": [
        {
          "output_type": "execute_result",
          "data": {
            "text/plain": [
              "Pipeline(steps=[('standardscaler', StandardScaler()),\n",
              "                ('linearsvc',\n",
              "                 LinearSVC(loss='hinge', random_state=0, tol=1e-05))])"
            ],
            "text/html": [
              "<style>#sk-container-id-2 {color: black;background-color: white;}#sk-container-id-2 pre{padding: 0;}#sk-container-id-2 div.sk-toggleable {background-color: white;}#sk-container-id-2 label.sk-toggleable__label {cursor: pointer;display: block;width: 100%;margin-bottom: 0;padding: 0.3em;box-sizing: border-box;text-align: center;}#sk-container-id-2 label.sk-toggleable__label-arrow:before {content: \"▸\";float: left;margin-right: 0.25em;color: #696969;}#sk-container-id-2 label.sk-toggleable__label-arrow:hover:before {color: black;}#sk-container-id-2 div.sk-estimator:hover label.sk-toggleable__label-arrow:before {color: black;}#sk-container-id-2 div.sk-toggleable__content {max-height: 0;max-width: 0;overflow: hidden;text-align: left;background-color: #f0f8ff;}#sk-container-id-2 div.sk-toggleable__content pre {margin: 0.2em;color: black;border-radius: 0.25em;background-color: #f0f8ff;}#sk-container-id-2 input.sk-toggleable__control:checked~div.sk-toggleable__content {max-height: 200px;max-width: 100%;overflow: auto;}#sk-container-id-2 input.sk-toggleable__control:checked~label.sk-toggleable__label-arrow:before {content: \"▾\";}#sk-container-id-2 div.sk-estimator input.sk-toggleable__control:checked~label.sk-toggleable__label {background-color: #d4ebff;}#sk-container-id-2 div.sk-label input.sk-toggleable__control:checked~label.sk-toggleable__label {background-color: #d4ebff;}#sk-container-id-2 input.sk-hidden--visually {border: 0;clip: rect(1px 1px 1px 1px);clip: rect(1px, 1px, 1px, 1px);height: 1px;margin: -1px;overflow: hidden;padding: 0;position: absolute;width: 1px;}#sk-container-id-2 div.sk-estimator {font-family: monospace;background-color: #f0f8ff;border: 1px dotted black;border-radius: 0.25em;box-sizing: border-box;margin-bottom: 0.5em;}#sk-container-id-2 div.sk-estimator:hover {background-color: #d4ebff;}#sk-container-id-2 div.sk-parallel-item::after {content: \"\";width: 100%;border-bottom: 1px solid gray;flex-grow: 1;}#sk-container-id-2 div.sk-label:hover label.sk-toggleable__label {background-color: #d4ebff;}#sk-container-id-2 div.sk-serial::before {content: \"\";position: absolute;border-left: 1px solid gray;box-sizing: border-box;top: 0;bottom: 0;left: 50%;z-index: 0;}#sk-container-id-2 div.sk-serial {display: flex;flex-direction: column;align-items: center;background-color: white;padding-right: 0.2em;padding-left: 0.2em;position: relative;}#sk-container-id-2 div.sk-item {position: relative;z-index: 1;}#sk-container-id-2 div.sk-parallel {display: flex;align-items: stretch;justify-content: center;background-color: white;position: relative;}#sk-container-id-2 div.sk-item::before, #sk-container-id-2 div.sk-parallel-item::before {content: \"\";position: absolute;border-left: 1px solid gray;box-sizing: border-box;top: 0;bottom: 0;left: 50%;z-index: -1;}#sk-container-id-2 div.sk-parallel-item {display: flex;flex-direction: column;z-index: 1;position: relative;background-color: white;}#sk-container-id-2 div.sk-parallel-item:first-child::after {align-self: flex-end;width: 50%;}#sk-container-id-2 div.sk-parallel-item:last-child::after {align-self: flex-start;width: 50%;}#sk-container-id-2 div.sk-parallel-item:only-child::after {width: 0;}#sk-container-id-2 div.sk-dashed-wrapped {border: 1px dashed gray;margin: 0 0.4em 0.5em 0.4em;box-sizing: border-box;padding-bottom: 0.4em;background-color: white;}#sk-container-id-2 div.sk-label label {font-family: monospace;font-weight: bold;display: inline-block;line-height: 1.2em;}#sk-container-id-2 div.sk-label-container {text-align: center;}#sk-container-id-2 div.sk-container {/* jupyter's `normalize.less` sets `[hidden] { display: none; }` but bootstrap.min.css set `[hidden] { display: none !important; }` so we also need the `!important` here to be able to override the default hidden behavior on the sphinx rendered scikit-learn.org. See: https://github.com/scikit-learn/scikit-learn/issues/21755 */display: inline-block !important;position: relative;}#sk-container-id-2 div.sk-text-repr-fallback {display: none;}</style><div id=\"sk-container-id-2\" class=\"sk-top-container\"><div class=\"sk-text-repr-fallback\"><pre>Pipeline(steps=[(&#x27;standardscaler&#x27;, StandardScaler()),\n",
              "                (&#x27;linearsvc&#x27;,\n",
              "                 LinearSVC(loss=&#x27;hinge&#x27;, random_state=0, tol=1e-05))])</pre><b>In a Jupyter environment, please rerun this cell to show the HTML representation or trust the notebook. <br />On GitHub, the HTML representation is unable to render, please try loading this page with nbviewer.org.</b></div><div class=\"sk-container\" hidden><div class=\"sk-item sk-dashed-wrapped\"><div class=\"sk-label-container\"><div class=\"sk-label sk-toggleable\"><input class=\"sk-toggleable__control sk-hidden--visually\" id=\"sk-estimator-id-4\" type=\"checkbox\" ><label for=\"sk-estimator-id-4\" class=\"sk-toggleable__label sk-toggleable__label-arrow\">Pipeline</label><div class=\"sk-toggleable__content\"><pre>Pipeline(steps=[(&#x27;standardscaler&#x27;, StandardScaler()),\n",
              "                (&#x27;linearsvc&#x27;,\n",
              "                 LinearSVC(loss=&#x27;hinge&#x27;, random_state=0, tol=1e-05))])</pre></div></div></div><div class=\"sk-serial\"><div class=\"sk-item\"><div class=\"sk-estimator sk-toggleable\"><input class=\"sk-toggleable__control sk-hidden--visually\" id=\"sk-estimator-id-5\" type=\"checkbox\" ><label for=\"sk-estimator-id-5\" class=\"sk-toggleable__label sk-toggleable__label-arrow\">StandardScaler</label><div class=\"sk-toggleable__content\"><pre>StandardScaler()</pre></div></div></div><div class=\"sk-item\"><div class=\"sk-estimator sk-toggleable\"><input class=\"sk-toggleable__control sk-hidden--visually\" id=\"sk-estimator-id-6\" type=\"checkbox\" ><label for=\"sk-estimator-id-6\" class=\"sk-toggleable__label sk-toggleable__label-arrow\">LinearSVC</label><div class=\"sk-toggleable__content\"><pre>LinearSVC(loss=&#x27;hinge&#x27;, random_state=0, tol=1e-05)</pre></div></div></div></div></div></div></div>"
            ]
          },
          "metadata": {},
          "execution_count": 39
        }
      ]
    },
    {
      "cell_type": "code",
      "source": [
        "b_test11 = bt[[\"varianza imagen\",\"sesgo imagen\",\"curtosis\",\"entropias\"]]\n",
        "b_test1y = bt[[\"clasificación\"]]\n",
        "Xtest = b_test11.to_numpy()\n",
        "ytest = b_test1y.to_numpy()\n",
        "ypredict = clf.predict(Xtest)\n",
        "ypredict"
      ],
      "metadata": {
        "colab": {
          "base_uri": "https://localhost:8080/"
        },
        "id": "gfnBV5S-TD4y",
        "outputId": "4ebf3d3d-a879-4241-dae7-f22e0c0b3a34"
      },
      "execution_count": 40,
      "outputs": [
        {
          "output_type": "execute_result",
          "data": {
            "text/plain": [
              "array([-1, -1, -1, -1, -1, -1,  1, -1, -1, -1, -1, -1, -1, -1, -1, -1, -1,\n",
              "       -1, -1, -1, -1, -1, -1, -1, -1, -1, -1, -1, -1, -1, -1, -1, -1, -1,\n",
              "       -1, -1, -1, -1, -1, -1, -1, -1, -1, -1, -1, -1, -1, -1, -1, -1, -1,\n",
              "       -1, -1, -1, -1, -1, -1, -1, -1, -1, -1, -1, -1, -1, -1, -1, -1, -1,\n",
              "       -1,  1, -1, -1, -1, -1, -1, -1, -1, -1, -1, -1, -1, -1, -1, -1, -1,\n",
              "       -1, -1, -1, -1, -1, -1, -1, -1, -1, -1, -1, -1, -1, -1, -1, -1,  1,\n",
              "       -1, -1, -1, -1, -1, -1, -1, -1, -1, -1, -1, -1, -1, -1, -1, -1, -1,\n",
              "       -1, -1, -1, -1, -1, -1, -1, -1, -1, -1, -1, -1, -1, -1, -1, -1, -1,\n",
              "       -1, -1, -1,  1, -1, -1, -1, -1, -1, -1, -1,  1, -1, -1, -1, -1, -1,\n",
              "       -1,  1,  1,  1,  1,  1,  1,  1,  1,  1,  1,  1,  1,  1,  1,  1,  1,\n",
              "        1,  1,  1,  1,  1,  1,  1,  1,  1,  1,  1,  1,  1,  1,  1,  1,  1,\n",
              "        1,  1,  1,  1,  1,  1,  1,  1,  1,  1,  1,  1,  1,  1,  1,  1,  1,\n",
              "        1,  1,  1,  1,  1,  1,  1,  1,  1,  1,  1,  1,  1,  1,  1,  1,  1,\n",
              "        1,  1,  1,  1,  1,  1,  1,  1,  1,  1,  1,  1,  1,  1,  1,  1,  1,\n",
              "        1,  1,  1,  1,  1,  1,  1,  1,  1,  1,  1,  1,  1,  1,  1,  1,  1,\n",
              "        1,  1,  1,  1,  1,  1,  1,  1,  1,  1,  1,  1,  1,  1,  1,  1,  1,\n",
              "        1])"
            ]
          },
          "metadata": {},
          "execution_count": 40
        }
      ]
    },
    {
      "cell_type": "code",
      "source": [
        "list_2 = ypredict.tolist()\n",
        "print(list_2)\n",
        "list_1 = bt[\"clasificación\"].values.tolist()\n",
        "print(list_1)\n",
        "testeo = pd.DataFrame({'valor_verdadero':list_1, 'valor_estimado':list_2})"
      ],
      "metadata": {
        "colab": {
          "base_uri": "https://localhost:8080/"
        },
        "id": "KR_F2y9ueL-i",
        "outputId": "affa2342-0416-4e8d-d1ac-f4091637ee44"
      },
      "execution_count": 41,
      "outputs": [
        {
          "output_type": "stream",
          "name": "stdout",
          "text": [
            "[-1, -1, -1, -1, -1, -1, 1, -1, -1, -1, -1, -1, -1, -1, -1, -1, -1, -1, -1, -1, -1, -1, -1, -1, -1, -1, -1, -1, -1, -1, -1, -1, -1, -1, -1, -1, -1, -1, -1, -1, -1, -1, -1, -1, -1, -1, -1, -1, -1, -1, -1, -1, -1, -1, -1, -1, -1, -1, -1, -1, -1, -1, -1, -1, -1, -1, -1, -1, -1, 1, -1, -1, -1, -1, -1, -1, -1, -1, -1, -1, -1, -1, -1, -1, -1, -1, -1, -1, -1, -1, -1, -1, -1, -1, -1, -1, -1, -1, -1, -1, -1, 1, -1, -1, -1, -1, -1, -1, -1, -1, -1, -1, -1, -1, -1, -1, -1, -1, -1, -1, -1, -1, -1, -1, -1, -1, -1, -1, -1, -1, -1, -1, -1, -1, -1, -1, -1, -1, -1, 1, -1, -1, -1, -1, -1, -1, -1, 1, -1, -1, -1, -1, -1, -1, 1, 1, 1, 1, 1, 1, 1, 1, 1, 1, 1, 1, 1, 1, 1, 1, 1, 1, 1, 1, 1, 1, 1, 1, 1, 1, 1, 1, 1, 1, 1, 1, 1, 1, 1, 1, 1, 1, 1, 1, 1, 1, 1, 1, 1, 1, 1, 1, 1, 1, 1, 1, 1, 1, 1, 1, 1, 1, 1, 1, 1, 1, 1, 1, 1, 1, 1, 1, 1, 1, 1, 1, 1, 1, 1, 1, 1, 1, 1, 1, 1, 1, 1, 1, 1, 1, 1, 1, 1, 1, 1, 1, 1, 1, 1, 1, 1, 1, 1, 1, 1, 1, 1, 1, 1, 1, 1, 1, 1, 1, 1, 1, 1, 1, 1, 1, 1, 1, 1]\n",
            "[-1, -1, -1, -1, -1, -1, -1, -1, -1, -1, -1, -1, -1, -1, -1, -1, -1, -1, -1, -1, -1, -1, -1, -1, -1, -1, -1, -1, -1, -1, -1, -1, -1, -1, -1, -1, -1, -1, -1, -1, -1, -1, -1, -1, -1, -1, -1, -1, -1, -1, -1, -1, -1, -1, -1, -1, -1, -1, -1, -1, -1, -1, -1, -1, -1, -1, -1, -1, -1, -1, -1, -1, -1, -1, -1, -1, -1, -1, -1, -1, -1, -1, -1, -1, -1, -1, -1, -1, -1, -1, -1, -1, -1, -1, -1, -1, -1, -1, -1, -1, -1, -1, -1, -1, -1, -1, -1, -1, -1, -1, -1, -1, -1, -1, -1, -1, -1, -1, -1, -1, -1, -1, -1, -1, -1, -1, -1, -1, -1, -1, -1, -1, -1, -1, -1, -1, -1, -1, -1, -1, -1, -1, -1, -1, -1, -1, -1, -1, -1, -1, -1, -1, -1, -1, 1, 1, 1, 1, 1, 1, 1, 1, 1, 1, 1, 1, 1, 1, 1, 1, 1, 1, 1, 1, 1, 1, 1, 1, 1, 1, 1, 1, 1, 1, 1, 1, 1, 1, 1, 1, 1, 1, 1, 1, 1, 1, 1, 1, 1, 1, 1, 1, 1, 1, 1, 1, 1, 1, 1, 1, 1, 1, 1, 1, 1, 1, 1, 1, 1, 1, 1, 1, 1, 1, 1, 1, 1, 1, 1, 1, 1, 1, 1, 1, 1, 1, 1, 1, 1, 1, 1, 1, 1, 1, 1, 1, 1, 1, 1, 1, 1, 1, 1, 1, 1, 1, 1, 1, 1, 1, 1, 1, 1, 1, 1, 1, 1, 1, 1, 1, 1, 1, 1]\n"
          ]
        }
      ]
    },
    {
      "cell_type": "code",
      "source": [
        "testeo\n",
        "filtro2 = testeo['valor_verdadero'] == testeo['valor_estimado']\n",
        "filtro3 = testeo['valor_verdadero'] != testeo['valor_estimado']\n",
        "testeo.loc[filtro2, 'resultado'] = 'acerto'\n",
        "testeo.loc[filtro3, 'resultado'] = 'no acerto'\n",
        "testeo"
      ],
      "metadata": {
        "colab": {
          "base_uri": "https://localhost:8080/",
          "height": 423
        },
        "id": "Ndqj5Woqe8Fc",
        "outputId": "0629e2ed-873c-43be-d526-1bbf58506fa6"
      },
      "execution_count": 42,
      "outputs": [
        {
          "output_type": "execute_result",
          "data": {
            "text/plain": [
              "     valor_verdadero  valor_estimado resultado\n",
              "0                 -1              -1    acerto\n",
              "1                 -1              -1    acerto\n",
              "2                 -1              -1    acerto\n",
              "3                 -1              -1    acerto\n",
              "4                 -1              -1    acerto\n",
              "..               ...             ...       ...\n",
              "268                1               1    acerto\n",
              "269                1               1    acerto\n",
              "270                1               1    acerto\n",
              "271                1               1    acerto\n",
              "272                1               1    acerto\n",
              "\n",
              "[273 rows x 3 columns]"
            ],
            "text/html": [
              "\n",
              "  <div id=\"df-9b460fe6-a38f-4072-b7ad-49e57d1409ad\">\n",
              "    <div class=\"colab-df-container\">\n",
              "      <div>\n",
              "<style scoped>\n",
              "    .dataframe tbody tr th:only-of-type {\n",
              "        vertical-align: middle;\n",
              "    }\n",
              "\n",
              "    .dataframe tbody tr th {\n",
              "        vertical-align: top;\n",
              "    }\n",
              "\n",
              "    .dataframe thead th {\n",
              "        text-align: right;\n",
              "    }\n",
              "</style>\n",
              "<table border=\"1\" class=\"dataframe\">\n",
              "  <thead>\n",
              "    <tr style=\"text-align: right;\">\n",
              "      <th></th>\n",
              "      <th>valor_verdadero</th>\n",
              "      <th>valor_estimado</th>\n",
              "      <th>resultado</th>\n",
              "    </tr>\n",
              "  </thead>\n",
              "  <tbody>\n",
              "    <tr>\n",
              "      <th>0</th>\n",
              "      <td>-1</td>\n",
              "      <td>-1</td>\n",
              "      <td>acerto</td>\n",
              "    </tr>\n",
              "    <tr>\n",
              "      <th>1</th>\n",
              "      <td>-1</td>\n",
              "      <td>-1</td>\n",
              "      <td>acerto</td>\n",
              "    </tr>\n",
              "    <tr>\n",
              "      <th>2</th>\n",
              "      <td>-1</td>\n",
              "      <td>-1</td>\n",
              "      <td>acerto</td>\n",
              "    </tr>\n",
              "    <tr>\n",
              "      <th>3</th>\n",
              "      <td>-1</td>\n",
              "      <td>-1</td>\n",
              "      <td>acerto</td>\n",
              "    </tr>\n",
              "    <tr>\n",
              "      <th>4</th>\n",
              "      <td>-1</td>\n",
              "      <td>-1</td>\n",
              "      <td>acerto</td>\n",
              "    </tr>\n",
              "    <tr>\n",
              "      <th>...</th>\n",
              "      <td>...</td>\n",
              "      <td>...</td>\n",
              "      <td>...</td>\n",
              "    </tr>\n",
              "    <tr>\n",
              "      <th>268</th>\n",
              "      <td>1</td>\n",
              "      <td>1</td>\n",
              "      <td>acerto</td>\n",
              "    </tr>\n",
              "    <tr>\n",
              "      <th>269</th>\n",
              "      <td>1</td>\n",
              "      <td>1</td>\n",
              "      <td>acerto</td>\n",
              "    </tr>\n",
              "    <tr>\n",
              "      <th>270</th>\n",
              "      <td>1</td>\n",
              "      <td>1</td>\n",
              "      <td>acerto</td>\n",
              "    </tr>\n",
              "    <tr>\n",
              "      <th>271</th>\n",
              "      <td>1</td>\n",
              "      <td>1</td>\n",
              "      <td>acerto</td>\n",
              "    </tr>\n",
              "    <tr>\n",
              "      <th>272</th>\n",
              "      <td>1</td>\n",
              "      <td>1</td>\n",
              "      <td>acerto</td>\n",
              "    </tr>\n",
              "  </tbody>\n",
              "</table>\n",
              "<p>273 rows × 3 columns</p>\n",
              "</div>\n",
              "      <button class=\"colab-df-convert\" onclick=\"convertToInteractive('df-9b460fe6-a38f-4072-b7ad-49e57d1409ad')\"\n",
              "              title=\"Convert this dataframe to an interactive table.\"\n",
              "              style=\"display:none;\">\n",
              "        \n",
              "  <svg xmlns=\"http://www.w3.org/2000/svg\" height=\"24px\"viewBox=\"0 0 24 24\"\n",
              "       width=\"24px\">\n",
              "    <path d=\"M0 0h24v24H0V0z\" fill=\"none\"/>\n",
              "    <path d=\"M18.56 5.44l.94 2.06.94-2.06 2.06-.94-2.06-.94-.94-2.06-.94 2.06-2.06.94zm-11 1L8.5 8.5l.94-2.06 2.06-.94-2.06-.94L8.5 2.5l-.94 2.06-2.06.94zm10 10l.94 2.06.94-2.06 2.06-.94-2.06-.94-.94-2.06-.94 2.06-2.06.94z\"/><path d=\"M17.41 7.96l-1.37-1.37c-.4-.4-.92-.59-1.43-.59-.52 0-1.04.2-1.43.59L10.3 9.45l-7.72 7.72c-.78.78-.78 2.05 0 2.83L4 21.41c.39.39.9.59 1.41.59.51 0 1.02-.2 1.41-.59l7.78-7.78 2.81-2.81c.8-.78.8-2.07 0-2.86zM5.41 20L4 18.59l7.72-7.72 1.47 1.35L5.41 20z\"/>\n",
              "  </svg>\n",
              "      </button>\n",
              "      \n",
              "  <style>\n",
              "    .colab-df-container {\n",
              "      display:flex;\n",
              "      flex-wrap:wrap;\n",
              "      gap: 12px;\n",
              "    }\n",
              "\n",
              "    .colab-df-convert {\n",
              "      background-color: #E8F0FE;\n",
              "      border: none;\n",
              "      border-radius: 50%;\n",
              "      cursor: pointer;\n",
              "      display: none;\n",
              "      fill: #1967D2;\n",
              "      height: 32px;\n",
              "      padding: 0 0 0 0;\n",
              "      width: 32px;\n",
              "    }\n",
              "\n",
              "    .colab-df-convert:hover {\n",
              "      background-color: #E2EBFA;\n",
              "      box-shadow: 0px 1px 2px rgba(60, 64, 67, 0.3), 0px 1px 3px 1px rgba(60, 64, 67, 0.15);\n",
              "      fill: #174EA6;\n",
              "    }\n",
              "\n",
              "    [theme=dark] .colab-df-convert {\n",
              "      background-color: #3B4455;\n",
              "      fill: #D2E3FC;\n",
              "    }\n",
              "\n",
              "    [theme=dark] .colab-df-convert:hover {\n",
              "      background-color: #434B5C;\n",
              "      box-shadow: 0px 1px 3px 1px rgba(0, 0, 0, 0.15);\n",
              "      filter: drop-shadow(0px 1px 2px rgba(0, 0, 0, 0.3));\n",
              "      fill: #FFFFFF;\n",
              "    }\n",
              "  </style>\n",
              "\n",
              "      <script>\n",
              "        const buttonEl =\n",
              "          document.querySelector('#df-9b460fe6-a38f-4072-b7ad-49e57d1409ad button.colab-df-convert');\n",
              "        buttonEl.style.display =\n",
              "          google.colab.kernel.accessAllowed ? 'block' : 'none';\n",
              "\n",
              "        async function convertToInteractive(key) {\n",
              "          const element = document.querySelector('#df-9b460fe6-a38f-4072-b7ad-49e57d1409ad');\n",
              "          const dataTable =\n",
              "            await google.colab.kernel.invokeFunction('convertToInteractive',\n",
              "                                                     [key], {});\n",
              "          if (!dataTable) return;\n",
              "\n",
              "          const docLinkHtml = 'Like what you see? Visit the ' +\n",
              "            '<a target=\"_blank\" href=https://colab.research.google.com/notebooks/data_table.ipynb>data table notebook</a>'\n",
              "            + ' to learn more about interactive tables.';\n",
              "          element.innerHTML = '';\n",
              "          dataTable['output_type'] = 'display_data';\n",
              "          await google.colab.output.renderOutput(dataTable, element);\n",
              "          const docLink = document.createElement('div');\n",
              "          docLink.innerHTML = docLinkHtml;\n",
              "          element.appendChild(docLink);\n",
              "        }\n",
              "      </script>\n",
              "    </div>\n",
              "  </div>\n",
              "  "
            ]
          },
          "metadata": {},
          "execution_count": 42
        }
      ]
    },
    {
      "cell_type": "code",
      "source": [
        "metricas_cal(testeo)"
      ],
      "metadata": {
        "id": "lCdITMpNfcg5",
        "outputId": "e6348b03-9c32-4f10-fd56-7887bc281cf6",
        "colab": {
          "base_uri": "https://localhost:8080/"
        }
      },
      "execution_count": 43,
      "outputs": [
        {
          "output_type": "stream",
          "name": "stdout",
          "text": [
            "la exactitud del spv es de: 98.168%\n",
            "los valores verdaderos negativos son 54.579% de la población de testeo \n",
            "los valores falsos negativos son 0.0% de la población de testeo \n",
            "los valores falsos positivos son 1.832% de la población de testeo \n",
            "los valores verdaderos positivos son 43.59% de la población de testeo \n"
          ]
        }
      ]
    },
    {
      "cell_type": "markdown",
      "source": [
        "**Regresión lineal**"
      ],
      "metadata": {
        "id": "uXdI-qincfmc"
      }
    },
    {
      "cell_type": "code",
      "source": [
        "from sklearn.linear_model import LinearRegression\n",
        "b_t11 = b1[[\"varianza imagen\",\"sesgo imagen\",\"curtosis\",\"entropias\"]]\n",
        "b_t1y = b1[[\"clasificación\"]]\n",
        "X = b_t11.to_numpy()\n",
        "y = np.ravel(b_t1y)\n",
        "reg = LinearRegression().fit(X, y)\n",
        "reg\n",
        "print(reg.coef_)\n",
        "print(reg.intercept_)"
      ],
      "metadata": {
        "colab": {
          "base_uri": "https://localhost:8080/"
        },
        "id": "uYptjda1EiLw",
        "outputId": "0314e593-9ecf-46b6-d8d2-38c06a47e4e6"
      },
      "execution_count": 44,
      "outputs": [
        {
          "output_type": "stream",
          "name": "stdout",
          "text": [
            "[-0.28637173 -0.15644611 -0.20474641  0.00099835]\n",
            "0.618595081670794\n"
          ]
        }
      ]
    },
    {
      "cell_type": "code",
      "source": [
        "b_test11 = bt[[\"varianza imagen\",\"sesgo imagen\",\"curtosis\",\"entropias\"]]\n",
        "b_test1y = bt[[\"clasificación\"]]\n",
        "Xtest = b_test11.to_numpy()\n",
        "ytest = b_test1y.to_numpy()\n",
        "ypredict = reg.predict(Xtest)\n",
        "ypredict"
      ],
      "metadata": {
        "colab": {
          "base_uri": "https://localhost:8080/"
        },
        "id": "Ji8jqAQ8FObB",
        "outputId": "441df6ba-ba8b-4a3b-da74-3a569643aeb4"
      },
      "execution_count": 45,
      "outputs": [
        {
          "output_type": "execute_result",
          "data": {
            "text/plain": [
              "array([-1.45905031, -1.04339216, -1.33774535, -0.64864665, -0.65299168,\n",
              "       -1.15045584,  0.28427345, -0.28700614, -0.71584515, -0.75764953,\n",
              "       -0.75081765, -1.04681377, -1.11614032, -0.57174609, -1.17624875,\n",
              "       -1.1972617 , -0.85164787, -0.91737197, -1.56349014, -0.43057669,\n",
              "       -1.36871371, -0.84758494,  0.25597832, -1.28391856, -1.01274571,\n",
              "       -0.75299787, -0.71280233, -0.47514507, -1.61650671, -0.78894795,\n",
              "       -0.73534238, -1.56914257, -0.80589065, -0.70412181, -0.83323317,\n",
              "       -0.71440395, -1.34099162, -0.57680896, -0.85909959, -0.51770144,\n",
              "       -0.96757886, -0.98059547, -0.37039777, -0.00451547, -1.08137584,\n",
              "       -0.01671706, -1.16168242, -0.69626756, -0.56021062, -0.79961727,\n",
              "       -1.35467957, -0.77313662, -1.17062856, -0.9447745 , -0.01671706,\n",
              "       -0.85338112, -1.31046347, -0.92164418, -0.83111138, -0.08213987,\n",
              "       -0.23420965, -1.43642499, -0.85365185, -0.98464348, -0.5849947 ,\n",
              "       -1.27478899, -0.8826339 ,  0.25597832, -0.80098676,  0.28427345,\n",
              "       -0.96587483, -1.17298708, -0.36005617, -0.54863736, -1.4169165 ,\n",
              "       -1.06272689, -0.81023422, -1.23631334, -1.24536962, -0.70847475,\n",
              "       -0.89013404, -0.91470548, -0.74850724, -0.87737407, -0.86869557,\n",
              "       -0.69193486, -0.90646956, -1.15381676, -1.215345  , -0.50333338,\n",
              "       -1.48784076, -0.66252388, -0.82508881, -1.09823527, -1.07489415,\n",
              "       -0.70750311, -0.77797239, -0.6938214 , -0.6702771 , -0.92676237,\n",
              "       -1.02980098,  0.243308  , -1.03620235, -1.10380488, -0.60047836,\n",
              "       -1.51638708, -1.00645648, -0.81389081, -0.66796708, -0.92020336,\n",
              "       -0.57419079, -0.8355848 , -0.75064219, -0.56291385, -0.97698484,\n",
              "       -0.56160856, -0.72184784, -0.92307588, -0.68591075, -0.66789946,\n",
              "       -0.24714666, -1.20777368, -0.90278797,  0.05797775, -1.08983802,\n",
              "        0.05632086, -0.57407238, -0.84950214, -0.83127087, -0.63027431,\n",
              "       -0.10689099, -1.14221077, -1.06593329, -0.7841921 ,  0.05632086,\n",
              "       -0.62749825, -0.61150275, -0.86574526, -0.44405807,  0.34681685,\n",
              "       -1.0397761 , -0.90653786, -0.66515723, -0.94275494, -1.0548771 ,\n",
              "       -1.43515524, -0.4111636 ,  0.24331255, -0.83176918, -0.49222166,\n",
              "       -0.81393926, -0.49903064, -0.9804745 , -1.04046813,  0.86179801,\n",
              "        1.20972745,  0.7508731 ,  0.93840284,  0.80495955,  0.80435731,\n",
              "        1.01762693,  0.60823722,  0.89256263,  0.91664953,  1.14038477,\n",
              "        0.90201384,  1.07141032,  0.93213208,  1.35690221,  1.06154819,\n",
              "        1.17170267,  0.52402203,  0.85040984,  1.19606972,  1.04319734,\n",
              "        0.67899873,  0.85072618,  0.94772343,  0.77752247,  0.4554187 ,\n",
              "        1.01076069,  1.16111337,  0.81667852,  0.8332067 ,  0.78216296,\n",
              "        0.79817171,  1.21355398,  0.92270951,  0.94482093,  1.01550428,\n",
              "        0.87771341,  0.54598659,  1.18465167,  1.16525737,  0.69841122,\n",
              "        0.6079616 ,  0.54691612,  1.21180046,  0.74700342,  0.74653402,\n",
              "        0.91400392,  1.05919394,  0.5063348 ,  0.80929688,  0.77871148,\n",
              "        0.96591587,  1.20655438,  1.06770336,  0.97289418,  0.54025464,\n",
              "        0.51774525,  0.6467776 ,  0.60291035,  0.75733011,  0.8303972 ,\n",
              "        0.93544066,  0.29443007,  1.09884576,  1.23040159,  1.14349671,\n",
              "        0.92018561,  0.91759277,  0.72639104,  0.17895814,  1.15441214,\n",
              "        0.89046837,  1.17961459,  0.98195164,  1.02801646,  1.12619337,\n",
              "        1.18808663,  1.22978118,  0.79013748,  1.35906881,  0.98724952,\n",
              "        1.14339357,  1.23595562,  0.66930289,  0.86219473,  0.49735489,\n",
              "        0.88688393,  0.69593809,  1.08803785,  1.07046101,  0.98286751,\n",
              "        1.2828438 ,  1.16498103,  1.02967584,  1.31228354,  1.33421001,\n",
              "        0.69813685,  1.33620212,  1.44879753,  0.93016365,  0.43857005,\n",
              "        0.97470349,  0.94872134,  0.82184672,  1.303142  ,  1.23612001,\n",
              "        1.22212556,  1.37578223,  1.10991794,  0.62730095,  0.51453789,\n",
              "        0.68702708,  0.92300707,  0.58243213,  0.8138395 ,  1.04614816,\n",
              "        0.62155845,  0.81124213,  0.9010841 ])"
            ]
          },
          "metadata": {},
          "execution_count": 45
        }
      ]
    },
    {
      "cell_type": "markdown",
      "source": [
        "**regla planteada para regresión lineal de clasificación**\n",
        "\n",
        "En las siguientes lineas cuando la regresión estime un volor negativo este tomara el valor de -1 y cuando estime un valor positiov tomara el valor de 1"
      ],
      "metadata": {
        "id": "BH_sLwqjFgQ3"
      }
    },
    {
      "cell_type": "code",
      "source": [
        "list_2 = ypredict.tolist()\n",
        "print(list_2)\n",
        "list_1 = bt[\"clasificación\"].values.tolist()\n",
        "print(list_1)\n",
        "testeo = pd.DataFrame({'valor_verdadero':list_1, 'valor_estimado':list_2})\n",
        "testeo\n",
        "testeo['valor_estimado_exacto'] = testeo['valor_estimado']\n",
        "filtro2 = testeo['valor_estimado'] > 0\n",
        "testeo.loc[filtro2, 'valor_estimado'] = 1\n",
        "filtro2 = testeo['valor_estimado'] <= 0\n",
        "testeo.loc[filtro2, 'valor_estimado'] = -1\n",
        "testeo"
      ],
      "metadata": {
        "colab": {
          "base_uri": "https://localhost:8080/",
          "height": 480
        },
        "id": "JayidGggFfLn",
        "outputId": "29c3e9ca-b6a7-44d5-daa0-1f64401aee1e"
      },
      "execution_count": 46,
      "outputs": [
        {
          "output_type": "stream",
          "name": "stdout",
          "text": [
            "[-1.45905030889806, -1.0433921571645541, -1.3377453498270278, -0.6486466516767245, -0.6529916824441445, -1.150455838932293, 0.2842734528083829, -0.2870061426450585, -0.7158451515062997, -0.7576495256427686, -0.7508176482857382, -1.046813774724931, -1.1161403161938401, -0.5717460874443742, -1.1762487453716433, -1.197261702737618, -0.8516478743205121, -0.9173719695974049, -1.5634901396645104, -0.43057669044243785, -1.3687137071220277, -0.8475849444264897, 0.25597832448044233, -1.2839185561894855, -1.012745708126079, -0.752997865727156, -0.7128023262210407, -0.47514507359055214, -1.6165067125186336, -0.7889479524795299, -0.7353423759049712, -1.569142565718375, -0.8058906477799438, -0.7041218053957553, -0.8332331709976281, -0.7144039543881896, -1.340991618575242, -0.576808961392881, -0.8590995905187987, -0.5177014407672845, -0.9675788577383942, -0.9805954699938372, -0.3703977674963981, -0.0045154710925008334, -1.0813758378772418, -0.01671705589103567, -1.1616824167803697, -0.6962675585775594, -0.5602106169407032, -0.7996172726899776, -1.3546795667604234, -0.7731366208441391, -1.1706285611935576, -0.9447744991384216, -0.01671705589103567, -0.8533811192109907, -1.3104634663936428, -0.9216441824030145, -0.8311113814624266, -0.08213987494372244, -0.23420964661797472, -1.4364249852862936, -0.8536518512963657, -0.9846434770430365, -0.5849946959012914, -1.2747889947099575, -0.8826338993053294, 0.25597832448044233, -0.8009867646892826, 0.2842734528083829, -0.965874831189876, -1.1729870790814774, -0.3600561727102074, -0.5486373603778777, -1.416916498949837, -1.062726886687357, -0.8102342211224721, -1.2363133419929984, -1.2453696200570983, -0.7084747486911135, -0.8901340390186184, -0.9147054819343624, -0.7485072373795213, -0.8773740741486226, -0.8686955690824597, -0.6919348600659806, -0.9064695592907458, -1.1538167648236004, -1.2153450042280638, -0.5033333825231946, -1.4878407649523204, -0.6625238806110388, -0.8250888074593782, -1.0982352654117173, -1.0748941457424053, -0.707503108750933, -0.7779723948259926, -0.6938214020488095, -0.6702771024445006, -0.9267623742740075, -1.029800981069346, 0.24330800458526747, -1.036202346284199, -1.103804877930219, -0.6004783572266591, -1.5163870831545458, -1.0064564845667845, -0.8138908105303445, -0.6679670750289176, -0.9202033591957391, -0.5741907910294876, -0.8355848047470419, -0.7506421875235453, -0.5629138464822506, -0.9769848363108545, -0.5616085632978346, -0.7218478444431634, -0.9230758835155558, -0.6859107451892784, -0.6678994551610452, -0.2471466569677322, -1.207773679263104, -0.9027879680845653, 0.05797774729150473, -1.0898380205394602, 0.05632085972981582, -0.5740723806794269, -0.8495021367506982, -0.8312708720958516, -0.6302743142629023, -0.10689099427935056, -1.1422107698308297, -1.065933293582109, -0.7841921046342323, 0.05632085972981582, -0.6274982520380997, -0.6115027469936459, -0.8657452573789947, -0.4440580670828328, 0.34681685203637813, -1.0397761006355184, -0.9065378633230247, -0.6651572276006986, -0.9427549367576845, -1.0548771024928247, -1.4351552397367473, -0.41116360125945584, 0.24331255189467105, -0.8317691770618137, -0.4922216561372431, -0.8139392587909505, -0.4990306394658931, -0.9804744988160462, -1.040468127585152, 0.8617980133483994, 1.2097274471954496, 0.7508731028553437, 0.9384028350337965, 0.8049595477630559, 0.8043573064687712, 1.017626927681511, 0.6082372195066605, 0.8925626277791828, 0.9166495268684257, 1.1403847717585505, 0.9020138407570086, 1.0714103155325794, 0.9321320791293186, 1.3569022136094853, 1.0615481871774926, 1.1717026684934342, 0.52402202811098, 0.8504098423543999, 1.196069721465209, 1.0431973435130595, 0.6789987263270779, 0.8507261767422523, 0.9477234313093161, 0.7775224698867532, 0.45541870055886446, 1.0107606941774994, 1.161113366863845, 0.8166785217068273, 0.8332067017252487, 0.7821629571829438, 0.79817171041935, 1.2135539813966534, 0.9227095113298429, 0.944820929098312, 1.0155042848240596, 0.87771340822477, 0.545986594637724, 1.1846516670641698, 1.1652573747608455, 0.6984112246802858, 0.6079615988772705, 0.5469161159762607, 1.211800462502226, 0.7470034238187998, 0.7465340196610379, 0.9140039246363995, 1.059193942793883, 0.5063348049164647, 0.8092968756612233, 0.7787114799408013, 0.9659158705454454, 1.2065543817682962, 1.0677033621222014, 0.9728941808150597, 0.5402546448857983, 0.5177452496320708, 0.6467776010483051, 0.6029103469310351, 0.7573301066070063, 0.8303971966147315, 0.9354406574950501, 0.2944300698268934, 1.0988457587603113, 1.2304015897748088, 1.14349671486613, 0.9201856079649955, 0.917592774111853, 0.726391041369217, 0.178958140008603, 1.1544121366780615, 0.8904683720934288, 1.179614592735096, 0.9819516358589602, 1.028016464055998, 1.12619336770145, 1.1880866275455846, 1.2297811826986775, 0.7901374800857686, 1.3590688102436639, 0.9872495223498501, 1.1433935747712358, 1.2359556229481956, 0.6693028894150326, 0.8621947340114502, 0.49735489157040724, 0.8868839282540544, 0.6959380904949123, 1.0880378529360393, 1.0704610088363555, 0.9828675093267241, 1.2828437996417827, 1.1649810332650703, 1.0296758353741757, 1.3122835355197922, 1.3342100129241217, 0.6981368533380737, 1.3362021159734674, 1.4487975281258545, 0.9301636454250786, 0.43857005142790395, 0.9747034929593325, 0.9487213445373884, 0.8218467219629995, 1.3031419964344386, 1.2361200134439336, 1.222125557166258, 1.375782225046243, 1.1099179367063785, 0.6273009544947508, 0.5145378908543973, 0.6870270817789076, 0.9230070675469175, 0.5824321311012843, 0.8138395044266141, 1.0461481554691772, 0.621558447653332, 0.8112421321268559, 0.9010840956176779]\n",
            "[-1, -1, -1, -1, -1, -1, -1, -1, -1, -1, -1, -1, -1, -1, -1, -1, -1, -1, -1, -1, -1, -1, -1, -1, -1, -1, -1, -1, -1, -1, -1, -1, -1, -1, -1, -1, -1, -1, -1, -1, -1, -1, -1, -1, -1, -1, -1, -1, -1, -1, -1, -1, -1, -1, -1, -1, -1, -1, -1, -1, -1, -1, -1, -1, -1, -1, -1, -1, -1, -1, -1, -1, -1, -1, -1, -1, -1, -1, -1, -1, -1, -1, -1, -1, -1, -1, -1, -1, -1, -1, -1, -1, -1, -1, -1, -1, -1, -1, -1, -1, -1, -1, -1, -1, -1, -1, -1, -1, -1, -1, -1, -1, -1, -1, -1, -1, -1, -1, -1, -1, -1, -1, -1, -1, -1, -1, -1, -1, -1, -1, -1, -1, -1, -1, -1, -1, -1, -1, -1, -1, -1, -1, -1, -1, -1, -1, -1, -1, -1, -1, -1, -1, -1, -1, 1, 1, 1, 1, 1, 1, 1, 1, 1, 1, 1, 1, 1, 1, 1, 1, 1, 1, 1, 1, 1, 1, 1, 1, 1, 1, 1, 1, 1, 1, 1, 1, 1, 1, 1, 1, 1, 1, 1, 1, 1, 1, 1, 1, 1, 1, 1, 1, 1, 1, 1, 1, 1, 1, 1, 1, 1, 1, 1, 1, 1, 1, 1, 1, 1, 1, 1, 1, 1, 1, 1, 1, 1, 1, 1, 1, 1, 1, 1, 1, 1, 1, 1, 1, 1, 1, 1, 1, 1, 1, 1, 1, 1, 1, 1, 1, 1, 1, 1, 1, 1, 1, 1, 1, 1, 1, 1, 1, 1, 1, 1, 1, 1, 1, 1, 1, 1, 1, 1]\n"
          ]
        },
        {
          "output_type": "execute_result",
          "data": {
            "text/plain": [
              "     valor_verdadero  valor_estimado  valor_estimado_exacto\n",
              "0                 -1            -1.0              -1.459050\n",
              "1                 -1            -1.0              -1.043392\n",
              "2                 -1            -1.0              -1.337745\n",
              "3                 -1            -1.0              -0.648647\n",
              "4                 -1            -1.0              -0.652992\n",
              "..               ...             ...                    ...\n",
              "268                1             1.0               0.813840\n",
              "269                1             1.0               1.046148\n",
              "270                1             1.0               0.621558\n",
              "271                1             1.0               0.811242\n",
              "272                1             1.0               0.901084\n",
              "\n",
              "[273 rows x 3 columns]"
            ],
            "text/html": [
              "\n",
              "  <div id=\"df-d7f95593-db11-4f95-b615-4392de4e56ee\">\n",
              "    <div class=\"colab-df-container\">\n",
              "      <div>\n",
              "<style scoped>\n",
              "    .dataframe tbody tr th:only-of-type {\n",
              "        vertical-align: middle;\n",
              "    }\n",
              "\n",
              "    .dataframe tbody tr th {\n",
              "        vertical-align: top;\n",
              "    }\n",
              "\n",
              "    .dataframe thead th {\n",
              "        text-align: right;\n",
              "    }\n",
              "</style>\n",
              "<table border=\"1\" class=\"dataframe\">\n",
              "  <thead>\n",
              "    <tr style=\"text-align: right;\">\n",
              "      <th></th>\n",
              "      <th>valor_verdadero</th>\n",
              "      <th>valor_estimado</th>\n",
              "      <th>valor_estimado_exacto</th>\n",
              "    </tr>\n",
              "  </thead>\n",
              "  <tbody>\n",
              "    <tr>\n",
              "      <th>0</th>\n",
              "      <td>-1</td>\n",
              "      <td>-1.0</td>\n",
              "      <td>-1.459050</td>\n",
              "    </tr>\n",
              "    <tr>\n",
              "      <th>1</th>\n",
              "      <td>-1</td>\n",
              "      <td>-1.0</td>\n",
              "      <td>-1.043392</td>\n",
              "    </tr>\n",
              "    <tr>\n",
              "      <th>2</th>\n",
              "      <td>-1</td>\n",
              "      <td>-1.0</td>\n",
              "      <td>-1.337745</td>\n",
              "    </tr>\n",
              "    <tr>\n",
              "      <th>3</th>\n",
              "      <td>-1</td>\n",
              "      <td>-1.0</td>\n",
              "      <td>-0.648647</td>\n",
              "    </tr>\n",
              "    <tr>\n",
              "      <th>4</th>\n",
              "      <td>-1</td>\n",
              "      <td>-1.0</td>\n",
              "      <td>-0.652992</td>\n",
              "    </tr>\n",
              "    <tr>\n",
              "      <th>...</th>\n",
              "      <td>...</td>\n",
              "      <td>...</td>\n",
              "      <td>...</td>\n",
              "    </tr>\n",
              "    <tr>\n",
              "      <th>268</th>\n",
              "      <td>1</td>\n",
              "      <td>1.0</td>\n",
              "      <td>0.813840</td>\n",
              "    </tr>\n",
              "    <tr>\n",
              "      <th>269</th>\n",
              "      <td>1</td>\n",
              "      <td>1.0</td>\n",
              "      <td>1.046148</td>\n",
              "    </tr>\n",
              "    <tr>\n",
              "      <th>270</th>\n",
              "      <td>1</td>\n",
              "      <td>1.0</td>\n",
              "      <td>0.621558</td>\n",
              "    </tr>\n",
              "    <tr>\n",
              "      <th>271</th>\n",
              "      <td>1</td>\n",
              "      <td>1.0</td>\n",
              "      <td>0.811242</td>\n",
              "    </tr>\n",
              "    <tr>\n",
              "      <th>272</th>\n",
              "      <td>1</td>\n",
              "      <td>1.0</td>\n",
              "      <td>0.901084</td>\n",
              "    </tr>\n",
              "  </tbody>\n",
              "</table>\n",
              "<p>273 rows × 3 columns</p>\n",
              "</div>\n",
              "      <button class=\"colab-df-convert\" onclick=\"convertToInteractive('df-d7f95593-db11-4f95-b615-4392de4e56ee')\"\n",
              "              title=\"Convert this dataframe to an interactive table.\"\n",
              "              style=\"display:none;\">\n",
              "        \n",
              "  <svg xmlns=\"http://www.w3.org/2000/svg\" height=\"24px\"viewBox=\"0 0 24 24\"\n",
              "       width=\"24px\">\n",
              "    <path d=\"M0 0h24v24H0V0z\" fill=\"none\"/>\n",
              "    <path d=\"M18.56 5.44l.94 2.06.94-2.06 2.06-.94-2.06-.94-.94-2.06-.94 2.06-2.06.94zm-11 1L8.5 8.5l.94-2.06 2.06-.94-2.06-.94L8.5 2.5l-.94 2.06-2.06.94zm10 10l.94 2.06.94-2.06 2.06-.94-2.06-.94-.94-2.06-.94 2.06-2.06.94z\"/><path d=\"M17.41 7.96l-1.37-1.37c-.4-.4-.92-.59-1.43-.59-.52 0-1.04.2-1.43.59L10.3 9.45l-7.72 7.72c-.78.78-.78 2.05 0 2.83L4 21.41c.39.39.9.59 1.41.59.51 0 1.02-.2 1.41-.59l7.78-7.78 2.81-2.81c.8-.78.8-2.07 0-2.86zM5.41 20L4 18.59l7.72-7.72 1.47 1.35L5.41 20z\"/>\n",
              "  </svg>\n",
              "      </button>\n",
              "      \n",
              "  <style>\n",
              "    .colab-df-container {\n",
              "      display:flex;\n",
              "      flex-wrap:wrap;\n",
              "      gap: 12px;\n",
              "    }\n",
              "\n",
              "    .colab-df-convert {\n",
              "      background-color: #E8F0FE;\n",
              "      border: none;\n",
              "      border-radius: 50%;\n",
              "      cursor: pointer;\n",
              "      display: none;\n",
              "      fill: #1967D2;\n",
              "      height: 32px;\n",
              "      padding: 0 0 0 0;\n",
              "      width: 32px;\n",
              "    }\n",
              "\n",
              "    .colab-df-convert:hover {\n",
              "      background-color: #E2EBFA;\n",
              "      box-shadow: 0px 1px 2px rgba(60, 64, 67, 0.3), 0px 1px 3px 1px rgba(60, 64, 67, 0.15);\n",
              "      fill: #174EA6;\n",
              "    }\n",
              "\n",
              "    [theme=dark] .colab-df-convert {\n",
              "      background-color: #3B4455;\n",
              "      fill: #D2E3FC;\n",
              "    }\n",
              "\n",
              "    [theme=dark] .colab-df-convert:hover {\n",
              "      background-color: #434B5C;\n",
              "      box-shadow: 0px 1px 3px 1px rgba(0, 0, 0, 0.15);\n",
              "      filter: drop-shadow(0px 1px 2px rgba(0, 0, 0, 0.3));\n",
              "      fill: #FFFFFF;\n",
              "    }\n",
              "  </style>\n",
              "\n",
              "      <script>\n",
              "        const buttonEl =\n",
              "          document.querySelector('#df-d7f95593-db11-4f95-b615-4392de4e56ee button.colab-df-convert');\n",
              "        buttonEl.style.display =\n",
              "          google.colab.kernel.accessAllowed ? 'block' : 'none';\n",
              "\n",
              "        async function convertToInteractive(key) {\n",
              "          const element = document.querySelector('#df-d7f95593-db11-4f95-b615-4392de4e56ee');\n",
              "          const dataTable =\n",
              "            await google.colab.kernel.invokeFunction('convertToInteractive',\n",
              "                                                     [key], {});\n",
              "          if (!dataTable) return;\n",
              "\n",
              "          const docLinkHtml = 'Like what you see? Visit the ' +\n",
              "            '<a target=\"_blank\" href=https://colab.research.google.com/notebooks/data_table.ipynb>data table notebook</a>'\n",
              "            + ' to learn more about interactive tables.';\n",
              "          element.innerHTML = '';\n",
              "          dataTable['output_type'] = 'display_data';\n",
              "          await google.colab.output.renderOutput(dataTable, element);\n",
              "          const docLink = document.createElement('div');\n",
              "          docLink.innerHTML = docLinkHtml;\n",
              "          element.appendChild(docLink);\n",
              "        }\n",
              "      </script>\n",
              "    </div>\n",
              "  </div>\n",
              "  "
            ]
          },
          "metadata": {},
          "execution_count": 46
        }
      ]
    },
    {
      "cell_type": "code",
      "source": [
        "filtro2 = testeo['valor_verdadero'] == testeo['valor_estimado']\n",
        "filtro3 = testeo['valor_verdadero'] != testeo['valor_estimado']\n",
        "testeo.loc[filtro2, 'resultado'] = 'acerto'\n",
        "testeo.loc[filtro3, 'resultado'] = 'no acerto'\n",
        "testeo"
      ],
      "metadata": {
        "colab": {
          "base_uri": "https://localhost:8080/",
          "height": 423
        },
        "id": "u5tePjsSGKNM",
        "outputId": "06d1c723-61f9-4595-cc36-14e1891d58fb"
      },
      "execution_count": 47,
      "outputs": [
        {
          "output_type": "execute_result",
          "data": {
            "text/plain": [
              "     valor_verdadero  valor_estimado  valor_estimado_exacto resultado\n",
              "0                 -1            -1.0              -1.459050    acerto\n",
              "1                 -1            -1.0              -1.043392    acerto\n",
              "2                 -1            -1.0              -1.337745    acerto\n",
              "3                 -1            -1.0              -0.648647    acerto\n",
              "4                 -1            -1.0              -0.652992    acerto\n",
              "..               ...             ...                    ...       ...\n",
              "268                1             1.0               0.813840    acerto\n",
              "269                1             1.0               1.046148    acerto\n",
              "270                1             1.0               0.621558    acerto\n",
              "271                1             1.0               0.811242    acerto\n",
              "272                1             1.0               0.901084    acerto\n",
              "\n",
              "[273 rows x 4 columns]"
            ],
            "text/html": [
              "\n",
              "  <div id=\"df-ee087220-e3f7-45a5-a68d-46ef727ab2f9\">\n",
              "    <div class=\"colab-df-container\">\n",
              "      <div>\n",
              "<style scoped>\n",
              "    .dataframe tbody tr th:only-of-type {\n",
              "        vertical-align: middle;\n",
              "    }\n",
              "\n",
              "    .dataframe tbody tr th {\n",
              "        vertical-align: top;\n",
              "    }\n",
              "\n",
              "    .dataframe thead th {\n",
              "        text-align: right;\n",
              "    }\n",
              "</style>\n",
              "<table border=\"1\" class=\"dataframe\">\n",
              "  <thead>\n",
              "    <tr style=\"text-align: right;\">\n",
              "      <th></th>\n",
              "      <th>valor_verdadero</th>\n",
              "      <th>valor_estimado</th>\n",
              "      <th>valor_estimado_exacto</th>\n",
              "      <th>resultado</th>\n",
              "    </tr>\n",
              "  </thead>\n",
              "  <tbody>\n",
              "    <tr>\n",
              "      <th>0</th>\n",
              "      <td>-1</td>\n",
              "      <td>-1.0</td>\n",
              "      <td>-1.459050</td>\n",
              "      <td>acerto</td>\n",
              "    </tr>\n",
              "    <tr>\n",
              "      <th>1</th>\n",
              "      <td>-1</td>\n",
              "      <td>-1.0</td>\n",
              "      <td>-1.043392</td>\n",
              "      <td>acerto</td>\n",
              "    </tr>\n",
              "    <tr>\n",
              "      <th>2</th>\n",
              "      <td>-1</td>\n",
              "      <td>-1.0</td>\n",
              "      <td>-1.337745</td>\n",
              "      <td>acerto</td>\n",
              "    </tr>\n",
              "    <tr>\n",
              "      <th>3</th>\n",
              "      <td>-1</td>\n",
              "      <td>-1.0</td>\n",
              "      <td>-0.648647</td>\n",
              "      <td>acerto</td>\n",
              "    </tr>\n",
              "    <tr>\n",
              "      <th>4</th>\n",
              "      <td>-1</td>\n",
              "      <td>-1.0</td>\n",
              "      <td>-0.652992</td>\n",
              "      <td>acerto</td>\n",
              "    </tr>\n",
              "    <tr>\n",
              "      <th>...</th>\n",
              "      <td>...</td>\n",
              "      <td>...</td>\n",
              "      <td>...</td>\n",
              "      <td>...</td>\n",
              "    </tr>\n",
              "    <tr>\n",
              "      <th>268</th>\n",
              "      <td>1</td>\n",
              "      <td>1.0</td>\n",
              "      <td>0.813840</td>\n",
              "      <td>acerto</td>\n",
              "    </tr>\n",
              "    <tr>\n",
              "      <th>269</th>\n",
              "      <td>1</td>\n",
              "      <td>1.0</td>\n",
              "      <td>1.046148</td>\n",
              "      <td>acerto</td>\n",
              "    </tr>\n",
              "    <tr>\n",
              "      <th>270</th>\n",
              "      <td>1</td>\n",
              "      <td>1.0</td>\n",
              "      <td>0.621558</td>\n",
              "      <td>acerto</td>\n",
              "    </tr>\n",
              "    <tr>\n",
              "      <th>271</th>\n",
              "      <td>1</td>\n",
              "      <td>1.0</td>\n",
              "      <td>0.811242</td>\n",
              "      <td>acerto</td>\n",
              "    </tr>\n",
              "    <tr>\n",
              "      <th>272</th>\n",
              "      <td>1</td>\n",
              "      <td>1.0</td>\n",
              "      <td>0.901084</td>\n",
              "      <td>acerto</td>\n",
              "    </tr>\n",
              "  </tbody>\n",
              "</table>\n",
              "<p>273 rows × 4 columns</p>\n",
              "</div>\n",
              "      <button class=\"colab-df-convert\" onclick=\"convertToInteractive('df-ee087220-e3f7-45a5-a68d-46ef727ab2f9')\"\n",
              "              title=\"Convert this dataframe to an interactive table.\"\n",
              "              style=\"display:none;\">\n",
              "        \n",
              "  <svg xmlns=\"http://www.w3.org/2000/svg\" height=\"24px\"viewBox=\"0 0 24 24\"\n",
              "       width=\"24px\">\n",
              "    <path d=\"M0 0h24v24H0V0z\" fill=\"none\"/>\n",
              "    <path d=\"M18.56 5.44l.94 2.06.94-2.06 2.06-.94-2.06-.94-.94-2.06-.94 2.06-2.06.94zm-11 1L8.5 8.5l.94-2.06 2.06-.94-2.06-.94L8.5 2.5l-.94 2.06-2.06.94zm10 10l.94 2.06.94-2.06 2.06-.94-2.06-.94-.94-2.06-.94 2.06-2.06.94z\"/><path d=\"M17.41 7.96l-1.37-1.37c-.4-.4-.92-.59-1.43-.59-.52 0-1.04.2-1.43.59L10.3 9.45l-7.72 7.72c-.78.78-.78 2.05 0 2.83L4 21.41c.39.39.9.59 1.41.59.51 0 1.02-.2 1.41-.59l7.78-7.78 2.81-2.81c.8-.78.8-2.07 0-2.86zM5.41 20L4 18.59l7.72-7.72 1.47 1.35L5.41 20z\"/>\n",
              "  </svg>\n",
              "      </button>\n",
              "      \n",
              "  <style>\n",
              "    .colab-df-container {\n",
              "      display:flex;\n",
              "      flex-wrap:wrap;\n",
              "      gap: 12px;\n",
              "    }\n",
              "\n",
              "    .colab-df-convert {\n",
              "      background-color: #E8F0FE;\n",
              "      border: none;\n",
              "      border-radius: 50%;\n",
              "      cursor: pointer;\n",
              "      display: none;\n",
              "      fill: #1967D2;\n",
              "      height: 32px;\n",
              "      padding: 0 0 0 0;\n",
              "      width: 32px;\n",
              "    }\n",
              "\n",
              "    .colab-df-convert:hover {\n",
              "      background-color: #E2EBFA;\n",
              "      box-shadow: 0px 1px 2px rgba(60, 64, 67, 0.3), 0px 1px 3px 1px rgba(60, 64, 67, 0.15);\n",
              "      fill: #174EA6;\n",
              "    }\n",
              "\n",
              "    [theme=dark] .colab-df-convert {\n",
              "      background-color: #3B4455;\n",
              "      fill: #D2E3FC;\n",
              "    }\n",
              "\n",
              "    [theme=dark] .colab-df-convert:hover {\n",
              "      background-color: #434B5C;\n",
              "      box-shadow: 0px 1px 3px 1px rgba(0, 0, 0, 0.15);\n",
              "      filter: drop-shadow(0px 1px 2px rgba(0, 0, 0, 0.3));\n",
              "      fill: #FFFFFF;\n",
              "    }\n",
              "  </style>\n",
              "\n",
              "      <script>\n",
              "        const buttonEl =\n",
              "          document.querySelector('#df-ee087220-e3f7-45a5-a68d-46ef727ab2f9 button.colab-df-convert');\n",
              "        buttonEl.style.display =\n",
              "          google.colab.kernel.accessAllowed ? 'block' : 'none';\n",
              "\n",
              "        async function convertToInteractive(key) {\n",
              "          const element = document.querySelector('#df-ee087220-e3f7-45a5-a68d-46ef727ab2f9');\n",
              "          const dataTable =\n",
              "            await google.colab.kernel.invokeFunction('convertToInteractive',\n",
              "                                                     [key], {});\n",
              "          if (!dataTable) return;\n",
              "\n",
              "          const docLinkHtml = 'Like what you see? Visit the ' +\n",
              "            '<a target=\"_blank\" href=https://colab.research.google.com/notebooks/data_table.ipynb>data table notebook</a>'\n",
              "            + ' to learn more about interactive tables.';\n",
              "          element.innerHTML = '';\n",
              "          dataTable['output_type'] = 'display_data';\n",
              "          await google.colab.output.renderOutput(dataTable, element);\n",
              "          const docLink = document.createElement('div');\n",
              "          docLink.innerHTML = docLinkHtml;\n",
              "          element.appendChild(docLink);\n",
              "        }\n",
              "      </script>\n",
              "    </div>\n",
              "  </div>\n",
              "  "
            ]
          },
          "metadata": {},
          "execution_count": 47
        }
      ]
    },
    {
      "cell_type": "code",
      "source": [
        "metricas_cal(testeo)"
      ],
      "metadata": {
        "colab": {
          "base_uri": "https://localhost:8080/"
        },
        "id": "NpW6kETmHBrY",
        "outputId": "003aa8f3-3cb5-425d-d635-b04be344748d"
      },
      "execution_count": 48,
      "outputs": [
        {
          "output_type": "stream",
          "name": "stdout",
          "text": [
            "la exactitud del spv es de: 96.337%\n",
            "los valores verdaderos negativos son 52.747% de la población de testeo \n",
            "los valores falsos negativos son 0.0% de la población de testeo \n",
            "los valores falsos positivos son 3.663% de la población de testeo \n",
            "los valores verdaderos positivos son 43.59% de la población de testeo \n"
          ]
        }
      ]
    },
    {
      "cell_type": "markdown",
      "source": [
        "**Regresión logistica**"
      ],
      "metadata": {
        "id": "xUc2fpaIc1U7"
      }
    },
    {
      "cell_type": "code",
      "source": [
        "from sklearn.linear_model import LogisticRegression\n",
        "b_t11 = b1[[\"varianza imagen\",\"sesgo imagen\",\"curtosis\",\"entropias\"]]\n",
        "b_t1y = b1[[\"clasificación\"]]\n",
        "X = b_t11.to_numpy()\n",
        "y = np.ravel(b_t1y)\n",
        "lreg = LogisticRegression(random_state=0).fit(X, y)\n",
        "lreg\n",
        "print(lreg.coef_)\n",
        "print(lreg.intercept_)"
      ],
      "metadata": {
        "colab": {
          "base_uri": "https://localhost:8080/"
        },
        "id": "KuKxG5ZIJYwc",
        "outputId": "abd7a123-e0d5-485d-d7da-3a1ea7a23907"
      },
      "execution_count": 49,
      "outputs": [
        {
          "output_type": "stream",
          "name": "stdout",
          "text": [
            "[[-3.18302249 -1.72853826 -2.13231394 -0.0193645 ]]\n",
            "[3.77747199]\n"
          ]
        }
      ]
    },
    {
      "cell_type": "code",
      "source": [
        "b_test11 = bt[[\"varianza imagen\",\"sesgo imagen\",\"curtosis\",\"entropias\"]]\n",
        "b_test1y = bt[[\"clasificación\"]]\n",
        "Xtest = b_test11.to_numpy()\n",
        "ytest = b_test1y.to_numpy()\n",
        "ypredict = lreg.predict(Xtest)\n",
        "ypredict\n",
        "list_2 = ypredict.tolist()\n",
        "print(list_2)\n",
        "list_1 = bt[\"clasificación\"].values.tolist()\n",
        "print(list_1)\n",
        "testeo = pd.DataFrame({'valor_verdadero':list_1, 'valor_estimado':list_2})\n",
        "testeo\n",
        "filtro2 = testeo['valor_verdadero'] == testeo['valor_estimado']\n",
        "filtro3 = testeo['valor_verdadero'] != testeo['valor_estimado']\n",
        "testeo.loc[filtro2, 'resultado'] = 'acerto'\n",
        "testeo.loc[filtro3, 'resultado'] = 'no acerto'\n",
        "testeo"
      ],
      "metadata": {
        "colab": {
          "base_uri": "https://localhost:8080/",
          "height": 480
        },
        "id": "NwjRgsuVJpwb",
        "outputId": "7ea6f940-5663-49cd-e7df-11f1556a03fc"
      },
      "execution_count": 50,
      "outputs": [
        {
          "output_type": "stream",
          "name": "stdout",
          "text": [
            "[-1, -1, -1, -1, -1, -1, 1, -1, -1, -1, -1, -1, -1, -1, -1, -1, -1, -1, -1, -1, -1, -1, -1, -1, -1, -1, -1, -1, -1, -1, -1, -1, -1, -1, -1, -1, -1, -1, -1, -1, -1, -1, -1, -1, -1, -1, -1, -1, -1, -1, -1, -1, -1, -1, -1, -1, -1, -1, -1, -1, -1, -1, -1, -1, -1, -1, -1, -1, -1, 1, -1, -1, -1, -1, -1, -1, -1, -1, -1, -1, -1, -1, -1, -1, -1, -1, -1, -1, -1, -1, -1, -1, -1, -1, -1, -1, -1, -1, -1, -1, -1, -1, -1, -1, -1, -1, -1, -1, -1, -1, -1, -1, -1, -1, -1, -1, -1, -1, -1, -1, -1, -1, -1, -1, -1, -1, -1, -1, -1, -1, -1, -1, -1, -1, -1, -1, -1, -1, -1, 1, -1, -1, -1, -1, -1, -1, -1, -1, -1, -1, -1, -1, -1, -1, 1, 1, 1, 1, 1, 1, 1, 1, 1, 1, 1, 1, 1, 1, 1, 1, 1, 1, 1, 1, 1, 1, 1, 1, 1, 1, 1, 1, 1, 1, 1, 1, 1, 1, 1, 1, 1, 1, 1, 1, 1, 1, 1, 1, 1, 1, 1, 1, 1, 1, 1, 1, 1, 1, 1, 1, 1, 1, 1, 1, 1, 1, -1, 1, 1, 1, 1, 1, 1, 1, 1, 1, 1, 1, 1, 1, 1, 1, 1, 1, 1, 1, 1, 1, 1, 1, 1, 1, 1, 1, 1, 1, 1, 1, 1, 1, 1, 1, 1, 1, 1, 1, 1, 1, 1, 1, 1, 1, 1, 1, 1, 1, 1, 1, 1, 1, 1, 1, 1]\n",
            "[-1, -1, -1, -1, -1, -1, -1, -1, -1, -1, -1, -1, -1, -1, -1, -1, -1, -1, -1, -1, -1, -1, -1, -1, -1, -1, -1, -1, -1, -1, -1, -1, -1, -1, -1, -1, -1, -1, -1, -1, -1, -1, -1, -1, -1, -1, -1, -1, -1, -1, -1, -1, -1, -1, -1, -1, -1, -1, -1, -1, -1, -1, -1, -1, -1, -1, -1, -1, -1, -1, -1, -1, -1, -1, -1, -1, -1, -1, -1, -1, -1, -1, -1, -1, -1, -1, -1, -1, -1, -1, -1, -1, -1, -1, -1, -1, -1, -1, -1, -1, -1, -1, -1, -1, -1, -1, -1, -1, -1, -1, -1, -1, -1, -1, -1, -1, -1, -1, -1, -1, -1, -1, -1, -1, -1, -1, -1, -1, -1, -1, -1, -1, -1, -1, -1, -1, -1, -1, -1, -1, -1, -1, -1, -1, -1, -1, -1, -1, -1, -1, -1, -1, -1, -1, 1, 1, 1, 1, 1, 1, 1, 1, 1, 1, 1, 1, 1, 1, 1, 1, 1, 1, 1, 1, 1, 1, 1, 1, 1, 1, 1, 1, 1, 1, 1, 1, 1, 1, 1, 1, 1, 1, 1, 1, 1, 1, 1, 1, 1, 1, 1, 1, 1, 1, 1, 1, 1, 1, 1, 1, 1, 1, 1, 1, 1, 1, 1, 1, 1, 1, 1, 1, 1, 1, 1, 1, 1, 1, 1, 1, 1, 1, 1, 1, 1, 1, 1, 1, 1, 1, 1, 1, 1, 1, 1, 1, 1, 1, 1, 1, 1, 1, 1, 1, 1, 1, 1, 1, 1, 1, 1, 1, 1, 1, 1, 1, 1, 1, 1, 1, 1, 1, 1]\n"
          ]
        },
        {
          "output_type": "execute_result",
          "data": {
            "text/plain": [
              "     valor_verdadero  valor_estimado resultado\n",
              "0                 -1              -1    acerto\n",
              "1                 -1              -1    acerto\n",
              "2                 -1              -1    acerto\n",
              "3                 -1              -1    acerto\n",
              "4                 -1              -1    acerto\n",
              "..               ...             ...       ...\n",
              "268                1               1    acerto\n",
              "269                1               1    acerto\n",
              "270                1               1    acerto\n",
              "271                1               1    acerto\n",
              "272                1               1    acerto\n",
              "\n",
              "[273 rows x 3 columns]"
            ],
            "text/html": [
              "\n",
              "  <div id=\"df-719583f3-3e64-4d56-a627-71074f3079c0\">\n",
              "    <div class=\"colab-df-container\">\n",
              "      <div>\n",
              "<style scoped>\n",
              "    .dataframe tbody tr th:only-of-type {\n",
              "        vertical-align: middle;\n",
              "    }\n",
              "\n",
              "    .dataframe tbody tr th {\n",
              "        vertical-align: top;\n",
              "    }\n",
              "\n",
              "    .dataframe thead th {\n",
              "        text-align: right;\n",
              "    }\n",
              "</style>\n",
              "<table border=\"1\" class=\"dataframe\">\n",
              "  <thead>\n",
              "    <tr style=\"text-align: right;\">\n",
              "      <th></th>\n",
              "      <th>valor_verdadero</th>\n",
              "      <th>valor_estimado</th>\n",
              "      <th>resultado</th>\n",
              "    </tr>\n",
              "  </thead>\n",
              "  <tbody>\n",
              "    <tr>\n",
              "      <th>0</th>\n",
              "      <td>-1</td>\n",
              "      <td>-1</td>\n",
              "      <td>acerto</td>\n",
              "    </tr>\n",
              "    <tr>\n",
              "      <th>1</th>\n",
              "      <td>-1</td>\n",
              "      <td>-1</td>\n",
              "      <td>acerto</td>\n",
              "    </tr>\n",
              "    <tr>\n",
              "      <th>2</th>\n",
              "      <td>-1</td>\n",
              "      <td>-1</td>\n",
              "      <td>acerto</td>\n",
              "    </tr>\n",
              "    <tr>\n",
              "      <th>3</th>\n",
              "      <td>-1</td>\n",
              "      <td>-1</td>\n",
              "      <td>acerto</td>\n",
              "    </tr>\n",
              "    <tr>\n",
              "      <th>4</th>\n",
              "      <td>-1</td>\n",
              "      <td>-1</td>\n",
              "      <td>acerto</td>\n",
              "    </tr>\n",
              "    <tr>\n",
              "      <th>...</th>\n",
              "      <td>...</td>\n",
              "      <td>...</td>\n",
              "      <td>...</td>\n",
              "    </tr>\n",
              "    <tr>\n",
              "      <th>268</th>\n",
              "      <td>1</td>\n",
              "      <td>1</td>\n",
              "      <td>acerto</td>\n",
              "    </tr>\n",
              "    <tr>\n",
              "      <th>269</th>\n",
              "      <td>1</td>\n",
              "      <td>1</td>\n",
              "      <td>acerto</td>\n",
              "    </tr>\n",
              "    <tr>\n",
              "      <th>270</th>\n",
              "      <td>1</td>\n",
              "      <td>1</td>\n",
              "      <td>acerto</td>\n",
              "    </tr>\n",
              "    <tr>\n",
              "      <th>271</th>\n",
              "      <td>1</td>\n",
              "      <td>1</td>\n",
              "      <td>acerto</td>\n",
              "    </tr>\n",
              "    <tr>\n",
              "      <th>272</th>\n",
              "      <td>1</td>\n",
              "      <td>1</td>\n",
              "      <td>acerto</td>\n",
              "    </tr>\n",
              "  </tbody>\n",
              "</table>\n",
              "<p>273 rows × 3 columns</p>\n",
              "</div>\n",
              "      <button class=\"colab-df-convert\" onclick=\"convertToInteractive('df-719583f3-3e64-4d56-a627-71074f3079c0')\"\n",
              "              title=\"Convert this dataframe to an interactive table.\"\n",
              "              style=\"display:none;\">\n",
              "        \n",
              "  <svg xmlns=\"http://www.w3.org/2000/svg\" height=\"24px\"viewBox=\"0 0 24 24\"\n",
              "       width=\"24px\">\n",
              "    <path d=\"M0 0h24v24H0V0z\" fill=\"none\"/>\n",
              "    <path d=\"M18.56 5.44l.94 2.06.94-2.06 2.06-.94-2.06-.94-.94-2.06-.94 2.06-2.06.94zm-11 1L8.5 8.5l.94-2.06 2.06-.94-2.06-.94L8.5 2.5l-.94 2.06-2.06.94zm10 10l.94 2.06.94-2.06 2.06-.94-2.06-.94-.94-2.06-.94 2.06-2.06.94z\"/><path d=\"M17.41 7.96l-1.37-1.37c-.4-.4-.92-.59-1.43-.59-.52 0-1.04.2-1.43.59L10.3 9.45l-7.72 7.72c-.78.78-.78 2.05 0 2.83L4 21.41c.39.39.9.59 1.41.59.51 0 1.02-.2 1.41-.59l7.78-7.78 2.81-2.81c.8-.78.8-2.07 0-2.86zM5.41 20L4 18.59l7.72-7.72 1.47 1.35L5.41 20z\"/>\n",
              "  </svg>\n",
              "      </button>\n",
              "      \n",
              "  <style>\n",
              "    .colab-df-container {\n",
              "      display:flex;\n",
              "      flex-wrap:wrap;\n",
              "      gap: 12px;\n",
              "    }\n",
              "\n",
              "    .colab-df-convert {\n",
              "      background-color: #E8F0FE;\n",
              "      border: none;\n",
              "      border-radius: 50%;\n",
              "      cursor: pointer;\n",
              "      display: none;\n",
              "      fill: #1967D2;\n",
              "      height: 32px;\n",
              "      padding: 0 0 0 0;\n",
              "      width: 32px;\n",
              "    }\n",
              "\n",
              "    .colab-df-convert:hover {\n",
              "      background-color: #E2EBFA;\n",
              "      box-shadow: 0px 1px 2px rgba(60, 64, 67, 0.3), 0px 1px 3px 1px rgba(60, 64, 67, 0.15);\n",
              "      fill: #174EA6;\n",
              "    }\n",
              "\n",
              "    [theme=dark] .colab-df-convert {\n",
              "      background-color: #3B4455;\n",
              "      fill: #D2E3FC;\n",
              "    }\n",
              "\n",
              "    [theme=dark] .colab-df-convert:hover {\n",
              "      background-color: #434B5C;\n",
              "      box-shadow: 0px 1px 3px 1px rgba(0, 0, 0, 0.15);\n",
              "      filter: drop-shadow(0px 1px 2px rgba(0, 0, 0, 0.3));\n",
              "      fill: #FFFFFF;\n",
              "    }\n",
              "  </style>\n",
              "\n",
              "      <script>\n",
              "        const buttonEl =\n",
              "          document.querySelector('#df-719583f3-3e64-4d56-a627-71074f3079c0 button.colab-df-convert');\n",
              "        buttonEl.style.display =\n",
              "          google.colab.kernel.accessAllowed ? 'block' : 'none';\n",
              "\n",
              "        async function convertToInteractive(key) {\n",
              "          const element = document.querySelector('#df-719583f3-3e64-4d56-a627-71074f3079c0');\n",
              "          const dataTable =\n",
              "            await google.colab.kernel.invokeFunction('convertToInteractive',\n",
              "                                                     [key], {});\n",
              "          if (!dataTable) return;\n",
              "\n",
              "          const docLinkHtml = 'Like what you see? Visit the ' +\n",
              "            '<a target=\"_blank\" href=https://colab.research.google.com/notebooks/data_table.ipynb>data table notebook</a>'\n",
              "            + ' to learn more about interactive tables.';\n",
              "          element.innerHTML = '';\n",
              "          dataTable['output_type'] = 'display_data';\n",
              "          await google.colab.output.renderOutput(dataTable, element);\n",
              "          const docLink = document.createElement('div');\n",
              "          docLink.innerHTML = docLinkHtml;\n",
              "          element.appendChild(docLink);\n",
              "        }\n",
              "      </script>\n",
              "    </div>\n",
              "  </div>\n",
              "  "
            ]
          },
          "metadata": {},
          "execution_count": 50
        }
      ]
    },
    {
      "cell_type": "code",
      "source": [
        "metricas_cal(testeo)"
      ],
      "metadata": {
        "colab": {
          "base_uri": "https://localhost:8080/"
        },
        "id": "DdjNxByhOYG9",
        "outputId": "ef6c9e22-4eb2-4b1b-f572-87daba3a1873"
      },
      "execution_count": 51,
      "outputs": [
        {
          "output_type": "stream",
          "name": "stdout",
          "text": [
            "la exactitud del spv es de: 98.535%\n",
            "los valores verdaderos negativos son 55.311% de la población de testeo \n",
            "los valores falsos negativos son 0.366% de la población de testeo \n",
            "los valores falsos positivos son 1.099% de la población de testeo \n",
            "los valores verdaderos positivos son 43.223% de la población de testeo \n"
          ]
        }
      ]
    },
    {
      "cell_type": "code",
      "source": [
        "list_2 = ypredict.tolist()\n",
        "print(list_2)\n",
        "list_1 = bt[\"clasificación\"].values.tolist()\n",
        "print(list_1)\n",
        "testeo = pd.DataFrame({'valor_verdadero':list_1, 'valor_estimado':list_2})\n"
      ],
      "metadata": {
        "colab": {
          "base_uri": "https://localhost:8080/"
        },
        "id": "LNnwN-K3KS5x",
        "outputId": "813a447b-e81c-4427-a564-8e426c121511"
      },
      "execution_count": 52,
      "outputs": [
        {
          "output_type": "stream",
          "name": "stdout",
          "text": [
            "[-1, -1, -1, -1, -1, -1, 1, -1, -1, -1, -1, -1, -1, -1, -1, -1, -1, -1, -1, -1, -1, -1, -1, -1, -1, -1, -1, -1, -1, -1, -1, -1, -1, -1, -1, -1, -1, -1, -1, -1, -1, -1, -1, -1, -1, -1, -1, -1, -1, -1, -1, -1, -1, -1, -1, -1, -1, -1, -1, -1, -1, -1, -1, -1, -1, -1, -1, -1, -1, 1, -1, -1, -1, -1, -1, -1, -1, -1, -1, -1, -1, -1, -1, -1, -1, -1, -1, -1, -1, -1, -1, -1, -1, -1, -1, -1, -1, -1, -1, -1, -1, -1, -1, -1, -1, -1, -1, -1, -1, -1, -1, -1, -1, -1, -1, -1, -1, -1, -1, -1, -1, -1, -1, -1, -1, -1, -1, -1, -1, -1, -1, -1, -1, -1, -1, -1, -1, -1, -1, 1, -1, -1, -1, -1, -1, -1, -1, -1, -1, -1, -1, -1, -1, -1, 1, 1, 1, 1, 1, 1, 1, 1, 1, 1, 1, 1, 1, 1, 1, 1, 1, 1, 1, 1, 1, 1, 1, 1, 1, 1, 1, 1, 1, 1, 1, 1, 1, 1, 1, 1, 1, 1, 1, 1, 1, 1, 1, 1, 1, 1, 1, 1, 1, 1, 1, 1, 1, 1, 1, 1, 1, 1, 1, 1, 1, 1, -1, 1, 1, 1, 1, 1, 1, 1, 1, 1, 1, 1, 1, 1, 1, 1, 1, 1, 1, 1, 1, 1, 1, 1, 1, 1, 1, 1, 1, 1, 1, 1, 1, 1, 1, 1, 1, 1, 1, 1, 1, 1, 1, 1, 1, 1, 1, 1, 1, 1, 1, 1, 1, 1, 1, 1, 1]\n",
            "[-1, -1, -1, -1, -1, -1, -1, -1, -1, -1, -1, -1, -1, -1, -1, -1, -1, -1, -1, -1, -1, -1, -1, -1, -1, -1, -1, -1, -1, -1, -1, -1, -1, -1, -1, -1, -1, -1, -1, -1, -1, -1, -1, -1, -1, -1, -1, -1, -1, -1, -1, -1, -1, -1, -1, -1, -1, -1, -1, -1, -1, -1, -1, -1, -1, -1, -1, -1, -1, -1, -1, -1, -1, -1, -1, -1, -1, -1, -1, -1, -1, -1, -1, -1, -1, -1, -1, -1, -1, -1, -1, -1, -1, -1, -1, -1, -1, -1, -1, -1, -1, -1, -1, -1, -1, -1, -1, -1, -1, -1, -1, -1, -1, -1, -1, -1, -1, -1, -1, -1, -1, -1, -1, -1, -1, -1, -1, -1, -1, -1, -1, -1, -1, -1, -1, -1, -1, -1, -1, -1, -1, -1, -1, -1, -1, -1, -1, -1, -1, -1, -1, -1, -1, -1, 1, 1, 1, 1, 1, 1, 1, 1, 1, 1, 1, 1, 1, 1, 1, 1, 1, 1, 1, 1, 1, 1, 1, 1, 1, 1, 1, 1, 1, 1, 1, 1, 1, 1, 1, 1, 1, 1, 1, 1, 1, 1, 1, 1, 1, 1, 1, 1, 1, 1, 1, 1, 1, 1, 1, 1, 1, 1, 1, 1, 1, 1, 1, 1, 1, 1, 1, 1, 1, 1, 1, 1, 1, 1, 1, 1, 1, 1, 1, 1, 1, 1, 1, 1, 1, 1, 1, 1, 1, 1, 1, 1, 1, 1, 1, 1, 1, 1, 1, 1, 1, 1, 1, 1, 1, 1, 1, 1, 1, 1, 1, 1, 1, 1, 1, 1, 1, 1, 1]\n"
          ]
        }
      ]
    },
    {
      "cell_type": "markdown",
      "source": [
        "**Vecino más cercano**"
      ],
      "metadata": {
        "id": "pmNpo2YnexK4"
      }
    },
    {
      "cell_type": "code",
      "source": [
        "from sklearn.neighbors import KNeighborsClassifier\n",
        "b_t11 = b1[[\"varianza imagen\",\"sesgo imagen\",\"curtosis\",\"entropias\"]]\n",
        "b_t1y = b1[[\"clasificación\"]]\n",
        "neigh = KNeighborsClassifier()\n",
        "X = b_t11.to_numpy()\n",
        "y = np.ravel(b_t1y)\n",
        "neigh = neigh.fit(X, y)"
      ],
      "metadata": {
        "id": "CXSd6evX1vb3"
      },
      "execution_count": 53,
      "outputs": []
    },
    {
      "cell_type": "code",
      "source": [
        "b_test11 = bt[[\"varianza imagen\",\"sesgo imagen\",\"curtosis\",\"entropias\"]]\n",
        "b_test1y = bt[[\"clasificación\"]]\n",
        "Xtest = b_test11.to_numpy()\n",
        "ytest = b_test1y.to_numpy()\n",
        "ypredict = neigh.predict(Xtest)\n",
        "ypredict\n",
        "list_2 = ypredict.tolist()\n",
        "print(list_2)\n",
        "list_1 = bt[\"clasificación\"].values.tolist()\n",
        "print(list_1)\n",
        "testeo = pd.DataFrame({'valor_verdadero':list_1, 'valor_estimado':list_2})\n",
        "testeo\n",
        "filtro2 = testeo['valor_verdadero'] == testeo['valor_estimado']\n",
        "filtro3 = testeo['valor_verdadero'] != testeo['valor_estimado']\n",
        "testeo.loc[filtro2, 'resultado'] = 'acerto'\n",
        "testeo.loc[filtro3, 'resultado'] = 'no acerto'\n",
        "testeo"
      ],
      "metadata": {
        "colab": {
          "base_uri": "https://localhost:8080/",
          "height": 480
        },
        "id": "J6i_DR6F7vaH",
        "outputId": "04709e26-02b2-4f5c-ba8f-2ff169f47e64"
      },
      "execution_count": 54,
      "outputs": [
        {
          "output_type": "stream",
          "name": "stdout",
          "text": [
            "[-1, -1, -1, -1, -1, -1, -1, -1, -1, -1, -1, -1, -1, -1, -1, -1, -1, -1, -1, -1, -1, -1, -1, -1, -1, -1, -1, -1, -1, -1, -1, -1, -1, -1, -1, -1, -1, -1, -1, -1, -1, -1, -1, -1, -1, -1, -1, -1, -1, -1, -1, -1, -1, -1, -1, -1, -1, -1, -1, -1, -1, -1, -1, -1, -1, -1, -1, -1, -1, -1, -1, -1, -1, -1, -1, -1, -1, -1, -1, -1, -1, -1, -1, -1, -1, -1, -1, -1, -1, -1, -1, -1, -1, -1, -1, -1, -1, -1, -1, -1, -1, -1, -1, -1, -1, -1, -1, -1, -1, -1, -1, -1, -1, -1, -1, -1, -1, -1, -1, -1, -1, -1, -1, -1, -1, -1, -1, -1, -1, -1, -1, -1, -1, -1, -1, -1, -1, -1, -1, -1, -1, -1, -1, -1, -1, -1, -1, -1, -1, -1, -1, -1, -1, -1, 1, 1, 1, 1, 1, 1, 1, 1, 1, 1, 1, 1, 1, 1, 1, 1, 1, 1, 1, 1, 1, 1, 1, 1, 1, 1, 1, 1, 1, 1, 1, 1, 1, 1, 1, 1, 1, 1, 1, 1, 1, 1, 1, 1, 1, 1, 1, 1, 1, 1, 1, 1, 1, 1, 1, 1, 1, 1, 1, 1, 1, 1, 1, 1, 1, 1, 1, 1, 1, 1, 1, 1, 1, 1, 1, 1, 1, 1, 1, 1, 1, 1, 1, 1, 1, 1, 1, 1, 1, 1, 1, 1, 1, 1, 1, 1, 1, 1, 1, 1, 1, 1, 1, 1, 1, 1, 1, 1, 1, 1, 1, 1, 1, 1, 1, 1, 1, 1, 1]\n",
            "[-1, -1, -1, -1, -1, -1, -1, -1, -1, -1, -1, -1, -1, -1, -1, -1, -1, -1, -1, -1, -1, -1, -1, -1, -1, -1, -1, -1, -1, -1, -1, -1, -1, -1, -1, -1, -1, -1, -1, -1, -1, -1, -1, -1, -1, -1, -1, -1, -1, -1, -1, -1, -1, -1, -1, -1, -1, -1, -1, -1, -1, -1, -1, -1, -1, -1, -1, -1, -1, -1, -1, -1, -1, -1, -1, -1, -1, -1, -1, -1, -1, -1, -1, -1, -1, -1, -1, -1, -1, -1, -1, -1, -1, -1, -1, -1, -1, -1, -1, -1, -1, -1, -1, -1, -1, -1, -1, -1, -1, -1, -1, -1, -1, -1, -1, -1, -1, -1, -1, -1, -1, -1, -1, -1, -1, -1, -1, -1, -1, -1, -1, -1, -1, -1, -1, -1, -1, -1, -1, -1, -1, -1, -1, -1, -1, -1, -1, -1, -1, -1, -1, -1, -1, -1, 1, 1, 1, 1, 1, 1, 1, 1, 1, 1, 1, 1, 1, 1, 1, 1, 1, 1, 1, 1, 1, 1, 1, 1, 1, 1, 1, 1, 1, 1, 1, 1, 1, 1, 1, 1, 1, 1, 1, 1, 1, 1, 1, 1, 1, 1, 1, 1, 1, 1, 1, 1, 1, 1, 1, 1, 1, 1, 1, 1, 1, 1, 1, 1, 1, 1, 1, 1, 1, 1, 1, 1, 1, 1, 1, 1, 1, 1, 1, 1, 1, 1, 1, 1, 1, 1, 1, 1, 1, 1, 1, 1, 1, 1, 1, 1, 1, 1, 1, 1, 1, 1, 1, 1, 1, 1, 1, 1, 1, 1, 1, 1, 1, 1, 1, 1, 1, 1, 1]\n"
          ]
        },
        {
          "output_type": "execute_result",
          "data": {
            "text/plain": [
              "     valor_verdadero  valor_estimado resultado\n",
              "0                 -1              -1    acerto\n",
              "1                 -1              -1    acerto\n",
              "2                 -1              -1    acerto\n",
              "3                 -1              -1    acerto\n",
              "4                 -1              -1    acerto\n",
              "..               ...             ...       ...\n",
              "268                1               1    acerto\n",
              "269                1               1    acerto\n",
              "270                1               1    acerto\n",
              "271                1               1    acerto\n",
              "272                1               1    acerto\n",
              "\n",
              "[273 rows x 3 columns]"
            ],
            "text/html": [
              "\n",
              "  <div id=\"df-2e13732a-b921-4cba-91ee-d09303acb4b6\">\n",
              "    <div class=\"colab-df-container\">\n",
              "      <div>\n",
              "<style scoped>\n",
              "    .dataframe tbody tr th:only-of-type {\n",
              "        vertical-align: middle;\n",
              "    }\n",
              "\n",
              "    .dataframe tbody tr th {\n",
              "        vertical-align: top;\n",
              "    }\n",
              "\n",
              "    .dataframe thead th {\n",
              "        text-align: right;\n",
              "    }\n",
              "</style>\n",
              "<table border=\"1\" class=\"dataframe\">\n",
              "  <thead>\n",
              "    <tr style=\"text-align: right;\">\n",
              "      <th></th>\n",
              "      <th>valor_verdadero</th>\n",
              "      <th>valor_estimado</th>\n",
              "      <th>resultado</th>\n",
              "    </tr>\n",
              "  </thead>\n",
              "  <tbody>\n",
              "    <tr>\n",
              "      <th>0</th>\n",
              "      <td>-1</td>\n",
              "      <td>-1</td>\n",
              "      <td>acerto</td>\n",
              "    </tr>\n",
              "    <tr>\n",
              "      <th>1</th>\n",
              "      <td>-1</td>\n",
              "      <td>-1</td>\n",
              "      <td>acerto</td>\n",
              "    </tr>\n",
              "    <tr>\n",
              "      <th>2</th>\n",
              "      <td>-1</td>\n",
              "      <td>-1</td>\n",
              "      <td>acerto</td>\n",
              "    </tr>\n",
              "    <tr>\n",
              "      <th>3</th>\n",
              "      <td>-1</td>\n",
              "      <td>-1</td>\n",
              "      <td>acerto</td>\n",
              "    </tr>\n",
              "    <tr>\n",
              "      <th>4</th>\n",
              "      <td>-1</td>\n",
              "      <td>-1</td>\n",
              "      <td>acerto</td>\n",
              "    </tr>\n",
              "    <tr>\n",
              "      <th>...</th>\n",
              "      <td>...</td>\n",
              "      <td>...</td>\n",
              "      <td>...</td>\n",
              "    </tr>\n",
              "    <tr>\n",
              "      <th>268</th>\n",
              "      <td>1</td>\n",
              "      <td>1</td>\n",
              "      <td>acerto</td>\n",
              "    </tr>\n",
              "    <tr>\n",
              "      <th>269</th>\n",
              "      <td>1</td>\n",
              "      <td>1</td>\n",
              "      <td>acerto</td>\n",
              "    </tr>\n",
              "    <tr>\n",
              "      <th>270</th>\n",
              "      <td>1</td>\n",
              "      <td>1</td>\n",
              "      <td>acerto</td>\n",
              "    </tr>\n",
              "    <tr>\n",
              "      <th>271</th>\n",
              "      <td>1</td>\n",
              "      <td>1</td>\n",
              "      <td>acerto</td>\n",
              "    </tr>\n",
              "    <tr>\n",
              "      <th>272</th>\n",
              "      <td>1</td>\n",
              "      <td>1</td>\n",
              "      <td>acerto</td>\n",
              "    </tr>\n",
              "  </tbody>\n",
              "</table>\n",
              "<p>273 rows × 3 columns</p>\n",
              "</div>\n",
              "      <button class=\"colab-df-convert\" onclick=\"convertToInteractive('df-2e13732a-b921-4cba-91ee-d09303acb4b6')\"\n",
              "              title=\"Convert this dataframe to an interactive table.\"\n",
              "              style=\"display:none;\">\n",
              "        \n",
              "  <svg xmlns=\"http://www.w3.org/2000/svg\" height=\"24px\"viewBox=\"0 0 24 24\"\n",
              "       width=\"24px\">\n",
              "    <path d=\"M0 0h24v24H0V0z\" fill=\"none\"/>\n",
              "    <path d=\"M18.56 5.44l.94 2.06.94-2.06 2.06-.94-2.06-.94-.94-2.06-.94 2.06-2.06.94zm-11 1L8.5 8.5l.94-2.06 2.06-.94-2.06-.94L8.5 2.5l-.94 2.06-2.06.94zm10 10l.94 2.06.94-2.06 2.06-.94-2.06-.94-.94-2.06-.94 2.06-2.06.94z\"/><path d=\"M17.41 7.96l-1.37-1.37c-.4-.4-.92-.59-1.43-.59-.52 0-1.04.2-1.43.59L10.3 9.45l-7.72 7.72c-.78.78-.78 2.05 0 2.83L4 21.41c.39.39.9.59 1.41.59.51 0 1.02-.2 1.41-.59l7.78-7.78 2.81-2.81c.8-.78.8-2.07 0-2.86zM5.41 20L4 18.59l7.72-7.72 1.47 1.35L5.41 20z\"/>\n",
              "  </svg>\n",
              "      </button>\n",
              "      \n",
              "  <style>\n",
              "    .colab-df-container {\n",
              "      display:flex;\n",
              "      flex-wrap:wrap;\n",
              "      gap: 12px;\n",
              "    }\n",
              "\n",
              "    .colab-df-convert {\n",
              "      background-color: #E8F0FE;\n",
              "      border: none;\n",
              "      border-radius: 50%;\n",
              "      cursor: pointer;\n",
              "      display: none;\n",
              "      fill: #1967D2;\n",
              "      height: 32px;\n",
              "      padding: 0 0 0 0;\n",
              "      width: 32px;\n",
              "    }\n",
              "\n",
              "    .colab-df-convert:hover {\n",
              "      background-color: #E2EBFA;\n",
              "      box-shadow: 0px 1px 2px rgba(60, 64, 67, 0.3), 0px 1px 3px 1px rgba(60, 64, 67, 0.15);\n",
              "      fill: #174EA6;\n",
              "    }\n",
              "\n",
              "    [theme=dark] .colab-df-convert {\n",
              "      background-color: #3B4455;\n",
              "      fill: #D2E3FC;\n",
              "    }\n",
              "\n",
              "    [theme=dark] .colab-df-convert:hover {\n",
              "      background-color: #434B5C;\n",
              "      box-shadow: 0px 1px 3px 1px rgba(0, 0, 0, 0.15);\n",
              "      filter: drop-shadow(0px 1px 2px rgba(0, 0, 0, 0.3));\n",
              "      fill: #FFFFFF;\n",
              "    }\n",
              "  </style>\n",
              "\n",
              "      <script>\n",
              "        const buttonEl =\n",
              "          document.querySelector('#df-2e13732a-b921-4cba-91ee-d09303acb4b6 button.colab-df-convert');\n",
              "        buttonEl.style.display =\n",
              "          google.colab.kernel.accessAllowed ? 'block' : 'none';\n",
              "\n",
              "        async function convertToInteractive(key) {\n",
              "          const element = document.querySelector('#df-2e13732a-b921-4cba-91ee-d09303acb4b6');\n",
              "          const dataTable =\n",
              "            await google.colab.kernel.invokeFunction('convertToInteractive',\n",
              "                                                     [key], {});\n",
              "          if (!dataTable) return;\n",
              "\n",
              "          const docLinkHtml = 'Like what you see? Visit the ' +\n",
              "            '<a target=\"_blank\" href=https://colab.research.google.com/notebooks/data_table.ipynb>data table notebook</a>'\n",
              "            + ' to learn more about interactive tables.';\n",
              "          element.innerHTML = '';\n",
              "          dataTable['output_type'] = 'display_data';\n",
              "          await google.colab.output.renderOutput(dataTable, element);\n",
              "          const docLink = document.createElement('div');\n",
              "          docLink.innerHTML = docLinkHtml;\n",
              "          element.appendChild(docLink);\n",
              "        }\n",
              "      </script>\n",
              "    </div>\n",
              "  </div>\n",
              "  "
            ]
          },
          "metadata": {},
          "execution_count": 54
        }
      ]
    },
    {
      "cell_type": "code",
      "source": [
        "metricas_cal(testeo)"
      ],
      "metadata": {
        "colab": {
          "base_uri": "https://localhost:8080/"
        },
        "id": "eTOfopid8fF3",
        "outputId": "ffa53b59-5ff6-4c1a-c5e9-15d4b34e1e26"
      },
      "execution_count": 55,
      "outputs": [
        {
          "output_type": "stream",
          "name": "stdout",
          "text": [
            "la exactitud del spv es de: 100.0%\n",
            "los valores verdaderos negativos son 56.41% de la población de testeo \n",
            "los valores falsos negativos son 0.0% de la población de testeo \n",
            "los valores falsos positivos son 0.0% de la población de testeo \n",
            "los valores verdaderos positivos son 43.59% de la población de testeo \n"
          ]
        }
      ]
    },
    {
      "cell_type": "markdown",
      "source": [
        "**ARBOL DE DECISIÓN**"
      ],
      "metadata": {
        "id": "nYLPwigeheRo"
      }
    },
    {
      "cell_type": "code",
      "source": [
        "from sklearn import tree\n",
        "b_test11 = bt[[\"varianza imagen\",\"sesgo imagen\",\"curtosis\",\"entropias\"]]\n",
        "b_test1y = bt[[\"clasificación\"]]\n",
        "filtro1 = b_test1y['clasificación']==-1\n",
        "b_test1y.loc[filtro1, 'clasificación'] ='billete bueno'\n",
        "filtro1 = b_test1y['clasificación']==1\n",
        "b_test1y.loc[filtro1, 'clasificación'] ='billete falso'\n",
        "Xtest = b_test11.to_numpy()\n",
        "ytest = b_test1y.to_numpy()\n",
        "clf = tree.DecisionTreeClassifier()\n",
        "clf = clf.fit(Xtest, ytest)\n",
        "ypredict = clf.predict(Xtest)"
      ],
      "metadata": {
        "colab": {
          "base_uri": "https://localhost:8080/"
        },
        "id": "HreqYWbnhlqr",
        "outputId": "1f6d2b13-566e-4285-9100-5464c2711fc7"
      },
      "execution_count": 56,
      "outputs": [
        {
          "output_type": "stream",
          "name": "stderr",
          "text": [
            "<ipython-input-56-bc8ce950b6e9>:5: SettingWithCopyWarning: \n",
            "A value is trying to be set on a copy of a slice from a DataFrame.\n",
            "Try using .loc[row_indexer,col_indexer] = value instead\n",
            "\n",
            "See the caveats in the documentation: https://pandas.pydata.org/pandas-docs/stable/user_guide/indexing.html#returning-a-view-versus-a-copy\n",
            "  b_test1y.loc[filtro1, 'clasificación'] ='billete bueno'\n",
            "<ipython-input-56-bc8ce950b6e9>:7: SettingWithCopyWarning: \n",
            "A value is trying to be set on a copy of a slice from a DataFrame\n",
            "\n",
            "See the caveats in the documentation: https://pandas.pydata.org/pandas-docs/stable/user_guide/indexing.html#returning-a-view-versus-a-copy\n",
            "  b_test1y.loc[filtro1, 'clasificación'] ='billete falso'\n"
          ]
        }
      ]
    },
    {
      "cell_type": "code",
      "source": [
        "tree.plot_tree(clf)"
      ],
      "metadata": {
        "colab": {
          "base_uri": "https://localhost:8080/",
          "height": 794
        },
        "id": "D2qkkB_8o7U0",
        "outputId": "801b6020-652d-4ebe-fdb2-aad51203eaf4"
      },
      "execution_count": 57,
      "outputs": [
        {
          "output_type": "execute_result",
          "data": {
            "text/plain": [
              "[Text(0.5, 0.9166666666666666, 'x[0] <= 0.274\\ngini = 0.492\\nsamples = 273\\nvalue = [154, 119]'),\n",
              " Text(0.3076923076923077, 0.75, 'x[1] <= 6.591\\ngini = 0.313\\nsamples = 134\\nvalue = [26, 108]'),\n",
              " Text(0.15384615384615385, 0.5833333333333334, 'x[2] <= 4.866\\ngini = 0.072\\nsamples = 107\\nvalue = [4, 103]'),\n",
              " Text(0.07692307692307693, 0.4166666666666667, 'gini = 0.0\\nsamples = 69\\nvalue = [0, 69]'),\n",
              " Text(0.23076923076923078, 0.4166666666666667, 'x[1] <= -2.984\\ngini = 0.188\\nsamples = 38\\nvalue = [4, 34]'),\n",
              " Text(0.15384615384615385, 0.25, 'gini = 0.0\\nsamples = 34\\nvalue = [0, 34]'),\n",
              " Text(0.3076923076923077, 0.25, 'gini = 0.0\\nsamples = 4\\nvalue = [4, 0]'),\n",
              " Text(0.46153846153846156, 0.5833333333333334, 'x[0] <= -3.596\\ngini = 0.302\\nsamples = 27\\nvalue = [22, 5]'),\n",
              " Text(0.38461538461538464, 0.4166666666666667, 'gini = 0.0\\nsamples = 5\\nvalue = [0, 5]'),\n",
              " Text(0.5384615384615384, 0.4166666666666667, 'gini = 0.0\\nsamples = 22\\nvalue = [22, 0]'),\n",
              " Text(0.6923076923076923, 0.75, 'x[2] <= -4.346\\ngini = 0.146\\nsamples = 139\\nvalue = [128, 11]'),\n",
              " Text(0.6153846153846154, 0.5833333333333334, 'gini = 0.0\\nsamples = 2\\nvalue = [0, 2]'),\n",
              " Text(0.7692307692307693, 0.5833333333333334, 'x[0] <= 1.617\\ngini = 0.123\\nsamples = 137\\nvalue = [128, 9]'),\n",
              " Text(0.6923076923076923, 0.4166666666666667, 'x[3] <= -0.158\\ngini = 0.343\\nsamples = 41\\nvalue = [32, 9]'),\n",
              " Text(0.5384615384615384, 0.25, 'x[2] <= -3.682\\ngini = 0.064\\nsamples = 30\\nvalue = [29, 1]'),\n",
              " Text(0.46153846153846156, 0.08333333333333333, 'gini = 0.0\\nsamples = 1\\nvalue = [0, 1]'),\n",
              " Text(0.6153846153846154, 0.08333333333333333, 'gini = 0.0\\nsamples = 29\\nvalue = [29, 0]'),\n",
              " Text(0.8461538461538461, 0.25, 'x[2] <= 0.741\\ngini = 0.397\\nsamples = 11\\nvalue = [3, 8]'),\n",
              " Text(0.7692307692307693, 0.08333333333333333, 'gini = 0.0\\nsamples = 8\\nvalue = [0, 8]'),\n",
              " Text(0.9230769230769231, 0.08333333333333333, 'gini = 0.0\\nsamples = 3\\nvalue = [3, 0]'),\n",
              " Text(0.8461538461538461, 0.4166666666666667, 'gini = 0.0\\nsamples = 96\\nvalue = [96, 0]')]"
            ]
          },
          "metadata": {},
          "execution_count": 57
        },
        {
          "output_type": "display_data",
          "data": {
            "text/plain": [
              "<Figure size 640x480 with 1 Axes>"
            ],
            "image/png": "[encoded data removed]"
          },
          "metadata": {}
        }
      ]
    },
    {
      "cell_type": "code",
      "source": [
        "b_test11 = bt[[\"varianza imagen\",\"sesgo imagen\",\"curtosis\",\"entropias\"]]\n",
        "b_test1y = bt[[\"clasificación\"]]\n",
        "Xtest = b_test11.to_numpy()\n",
        "ytest = b_test1y.to_numpy()\n",
        "ypredict = clf.predict(Xtest)\n",
        "ypredict\n",
        "list_2 = ypredict.tolist()\n",
        "print(list_2)\n",
        "list_1 = bt[\"clasificación\"].values.tolist()\n",
        "print(list_1)\n",
        "testeo = pd.DataFrame({'valor_verdadero':list_1, 'valor_estimado':list_2})\n",
        "testeo\n",
        "filtro1 = testeo['valor_verdadero']==-1\n",
        "testeo.loc[filtro1, 'valor_verdadero'] ='billete bueno'\n",
        "filtro1 = testeo['valor_verdadero']==1\n",
        "testeo.loc[filtro1, 'valor_verdadero'] ='billete falso'\n",
        "filtro2 = testeo['valor_verdadero'] == testeo['valor_estimado']\n",
        "filtro3 = testeo['valor_verdadero'] != testeo['valor_estimado']\n",
        "testeo.loc[filtro2, 'resultado'] = 'acerto'\n",
        "testeo.loc[filtro3, 'resultado'] = 'no acerto'\n",
        "filtro1 = testeo['valor_verdadero']=='billete bueno'\n",
        "testeo.loc[filtro1, 'valor_verdadero'] =-1\n",
        "filtro1 = testeo['valor_verdadero']=='billete falso'\n",
        "testeo.loc[filtro1, 'valor_verdadero'] =1\n",
        "#valor estimado\n",
        "filtro1 = testeo['valor_estimado']=='billete bueno'\n",
        "testeo.loc[filtro1, 'valor_estimado'] =-1\n",
        "filtro1 = testeo['valor_estimado']=='billete falso'\n",
        "testeo.loc[filtro1, 'valor_estimado'] =1\n",
        "testeo"
      ],
      "metadata": {
        "colab": {
          "base_uri": "https://localhost:8080/",
          "height": 480
        },
        "id": "jV8gtovrxJ2g",
        "outputId": "74cee2f3-5cb9-42af-cfcc-494dbf135c4c"
      },
      "execution_count": 58,
      "outputs": [
        {
          "output_type": "stream",
          "name": "stdout",
          "text": [
            "['billete bueno', 'billete bueno', 'billete bueno', 'billete bueno', 'billete bueno', 'billete bueno', 'billete bueno', 'billete bueno', 'billete bueno', 'billete bueno', 'billete bueno', 'billete bueno', 'billete bueno', 'billete bueno', 'billete bueno', 'billete bueno', 'billete bueno', 'billete bueno', 'billete bueno', 'billete bueno', 'billete bueno', 'billete bueno', 'billete bueno', 'billete bueno', 'billete bueno', 'billete bueno', 'billete bueno', 'billete bueno', 'billete bueno', 'billete bueno', 'billete bueno', 'billete bueno', 'billete bueno', 'billete bueno', 'billete bueno', 'billete bueno', 'billete bueno', 'billete bueno', 'billete bueno', 'billete bueno', 'billete bueno', 'billete bueno', 'billete bueno', 'billete bueno', 'billete bueno', 'billete bueno', 'billete bueno', 'billete bueno', 'billete bueno', 'billete bueno', 'billete bueno', 'billete bueno', 'billete bueno', 'billete bueno', 'billete bueno', 'billete bueno', 'billete bueno', 'billete bueno', 'billete bueno', 'billete bueno', 'billete bueno', 'billete bueno', 'billete bueno', 'billete bueno', 'billete bueno', 'billete bueno', 'billete bueno', 'billete bueno', 'billete bueno', 'billete bueno', 'billete bueno', 'billete bueno', 'billete bueno', 'billete bueno', 'billete bueno', 'billete bueno', 'billete bueno', 'billete bueno', 'billete bueno', 'billete bueno', 'billete bueno', 'billete bueno', 'billete bueno', 'billete bueno', 'billete bueno', 'billete bueno', 'billete bueno', 'billete bueno', 'billete bueno', 'billete bueno', 'billete bueno', 'billete bueno', 'billete bueno', 'billete bueno', 'billete bueno', 'billete bueno', 'billete bueno', 'billete bueno', 'billete bueno', 'billete bueno', 'billete bueno', 'billete bueno', 'billete bueno', 'billete bueno', 'billete bueno', 'billete bueno', 'billete bueno', 'billete bueno', 'billete bueno', 'billete bueno', 'billete bueno', 'billete bueno', 'billete bueno', 'billete bueno', 'billete bueno', 'billete bueno', 'billete bueno', 'billete bueno', 'billete bueno', 'billete bueno', 'billete bueno', 'billete bueno', 'billete bueno', 'billete bueno', 'billete bueno', 'billete bueno', 'billete bueno', 'billete bueno', 'billete bueno', 'billete bueno', 'billete bueno', 'billete bueno', 'billete bueno', 'billete bueno', 'billete bueno', 'billete bueno', 'billete bueno', 'billete bueno', 'billete bueno', 'billete bueno', 'billete bueno', 'billete bueno', 'billete bueno', 'billete bueno', 'billete bueno', 'billete bueno', 'billete bueno', 'billete bueno', 'billete bueno', 'billete bueno', 'billete bueno', 'billete bueno', 'billete bueno', 'billete bueno', 'billete falso', 'billete falso', 'billete falso', 'billete falso', 'billete falso', 'billete falso', 'billete falso', 'billete falso', 'billete falso', 'billete falso', 'billete falso', 'billete falso', 'billete falso', 'billete falso', 'billete falso', 'billete falso', 'billete falso', 'billete falso', 'billete falso', 'billete falso', 'billete falso', 'billete falso', 'billete falso', 'billete falso', 'billete falso', 'billete falso', 'billete falso', 'billete falso', 'billete falso', 'billete falso', 'billete falso', 'billete falso', 'billete falso', 'billete falso', 'billete falso', 'billete falso', 'billete falso', 'billete falso', 'billete falso', 'billete falso', 'billete falso', 'billete falso', 'billete falso', 'billete falso', 'billete falso', 'billete falso', 'billete falso', 'billete falso', 'billete falso', 'billete falso', 'billete falso', 'billete falso', 'billete falso', 'billete falso', 'billete falso', 'billete falso', 'billete falso', 'billete falso', 'billete falso', 'billete falso', 'billete falso', 'billete falso', 'billete falso', 'billete falso', 'billete falso', 'billete falso', 'billete falso', 'billete falso', 'billete falso', 'billete falso', 'billete falso', 'billete falso', 'billete falso', 'billete falso', 'billete falso', 'billete falso', 'billete falso', 'billete falso', 'billete falso', 'billete falso', 'billete falso', 'billete falso', 'billete falso', 'billete falso', 'billete falso', 'billete falso', 'billete falso', 'billete falso', 'billete falso', 'billete falso', 'billete falso', 'billete falso', 'billete falso', 'billete falso', 'billete falso', 'billete falso', 'billete falso', 'billete falso', 'billete falso', 'billete falso', 'billete falso', 'billete falso', 'billete falso', 'billete falso', 'billete falso', 'billete falso', 'billete falso', 'billete falso', 'billete falso', 'billete falso', 'billete falso', 'billete falso', 'billete falso', 'billete falso', 'billete falso', 'billete falso', 'billete falso', 'billete falso', 'billete falso']\n",
            "[-1, -1, -1, -1, -1, -1, -1, -1, -1, -1, -1, -1, -1, -1, -1, -1, -1, -1, -1, -1, -1, -1, -1, -1, -1, -1, -1, -1, -1, -1, -1, -1, -1, -1, -1, -1, -1, -1, -1, -1, -1, -1, -1, -1, -1, -1, -1, -1, -1, -1, -1, -1, -1, -1, -1, -1, -1, -1, -1, -1, -1, -1, -1, -1, -1, -1, -1, -1, -1, -1, -1, -1, -1, -1, -1, -1, -1, -1, -1, -1, -1, -1, -1, -1, -1, -1, -1, -1, -1, -1, -1, -1, -1, -1, -1, -1, -1, -1, -1, -1, -1, -1, -1, -1, -1, -1, -1, -1, -1, -1, -1, -1, -1, -1, -1, -1, -1, -1, -1, -1, -1, -1, -1, -1, -1, -1, -1, -1, -1, -1, -1, -1, -1, -1, -1, -1, -1, -1, -1, -1, -1, -1, -1, -1, -1, -1, -1, -1, -1, -1, -1, -1, -1, -1, 1, 1, 1, 1, 1, 1, 1, 1, 1, 1, 1, 1, 1, 1, 1, 1, 1, 1, 1, 1, 1, 1, 1, 1, 1, 1, 1, 1, 1, 1, 1, 1, 1, 1, 1, 1, 1, 1, 1, 1, 1, 1, 1, 1, 1, 1, 1, 1, 1, 1, 1, 1, 1, 1, 1, 1, 1, 1, 1, 1, 1, 1, 1, 1, 1, 1, 1, 1, 1, 1, 1, 1, 1, 1, 1, 1, 1, 1, 1, 1, 1, 1, 1, 1, 1, 1, 1, 1, 1, 1, 1, 1, 1, 1, 1, 1, 1, 1, 1, 1, 1, 1, 1, 1, 1, 1, 1, 1, 1, 1, 1, 1, 1, 1, 1, 1, 1, 1, 1]\n"
          ]
        },
        {
          "output_type": "execute_result",
          "data": {
            "text/plain": [
              "    valor_verdadero valor_estimado resultado\n",
              "0                -1             -1    acerto\n",
              "1                -1             -1    acerto\n",
              "2                -1             -1    acerto\n",
              "3                -1             -1    acerto\n",
              "4                -1             -1    acerto\n",
              "..              ...            ...       ...\n",
              "268               1              1    acerto\n",
              "269               1              1    acerto\n",
              "270               1              1    acerto\n",
              "271               1              1    acerto\n",
              "272               1              1    acerto\n",
              "\n",
              "[273 rows x 3 columns]"
            ],
            "text/html": [
              "\n",
              "  <div id=\"df-aa03db63-d7bd-4716-a84a-acded21ee1f1\">\n",
              "    <div class=\"colab-df-container\">\n",
              "      <div>\n",
              "<style scoped>\n",
              "    .dataframe tbody tr th:only-of-type {\n",
              "        vertical-align: middle;\n",
              "    }\n",
              "\n",
              "    .dataframe tbody tr th {\n",
              "        vertical-align: top;\n",
              "    }\n",
              "\n",
              "    .dataframe thead th {\n",
              "        text-align: right;\n",
              "    }\n",
              "</style>\n",
              "<table border=\"1\" class=\"dataframe\">\n",
              "  <thead>\n",
              "    <tr style=\"text-align: right;\">\n",
              "      <th></th>\n",
              "      <th>valor_verdadero</th>\n",
              "      <th>valor_estimado</th>\n",
              "      <th>resultado</th>\n",
              "    </tr>\n",
              "  </thead>\n",
              "  <tbody>\n",
              "    <tr>\n",
              "      <th>0</th>\n",
              "      <td>-1</td>\n",
              "      <td>-1</td>\n",
              "      <td>acerto</td>\n",
              "    </tr>\n",
              "    <tr>\n",
              "      <th>1</th>\n",
              "      <td>-1</td>\n",
              "      <td>-1</td>\n",
              "      <td>acerto</td>\n",
              "    </tr>\n",
              "    <tr>\n",
              "      <th>2</th>\n",
              "      <td>-1</td>\n",
              "      <td>-1</td>\n",
              "      <td>acerto</td>\n",
              "    </tr>\n",
              "    <tr>\n",
              "      <th>3</th>\n",
              "      <td>-1</td>\n",
              "      <td>-1</td>\n",
              "      <td>acerto</td>\n",
              "    </tr>\n",
              "    <tr>\n",
              "      <th>4</th>\n",
              "      <td>-1</td>\n",
              "      <td>-1</td>\n",
              "      <td>acerto</td>\n",
              "    </tr>\n",
              "    <tr>\n",
              "      <th>...</th>\n",
              "      <td>...</td>\n",
              "      <td>...</td>\n",
              "      <td>...</td>\n",
              "    </tr>\n",
              "    <tr>\n",
              "      <th>268</th>\n",
              "      <td>1</td>\n",
              "      <td>1</td>\n",
              "      <td>acerto</td>\n",
              "    </tr>\n",
              "    <tr>\n",
              "      <th>269</th>\n",
              "      <td>1</td>\n",
              "      <td>1</td>\n",
              "      <td>acerto</td>\n",
              "    </tr>\n",
              "    <tr>\n",
              "      <th>270</th>\n",
              "      <td>1</td>\n",
              "      <td>1</td>\n",
              "      <td>acerto</td>\n",
              "    </tr>\n",
              "    <tr>\n",
              "      <th>271</th>\n",
              "      <td>1</td>\n",
              "      <td>1</td>\n",
              "      <td>acerto</td>\n",
              "    </tr>\n",
              "    <tr>\n",
              "      <th>272</th>\n",
              "      <td>1</td>\n",
              "      <td>1</td>\n",
              "      <td>acerto</td>\n",
              "    </tr>\n",
              "  </tbody>\n",
              "</table>\n",
              "<p>273 rows × 3 columns</p>\n",
              "</div>\n",
              "      <button class=\"colab-df-convert\" onclick=\"convertToInteractive('df-aa03db63-d7bd-4716-a84a-acded21ee1f1')\"\n",
              "              title=\"Convert this dataframe to an interactive table.\"\n",
              "              style=\"display:none;\">\n",
              "        \n",
              "  <svg xmlns=\"http://www.w3.org/2000/svg\" height=\"24px\"viewBox=\"0 0 24 24\"\n",
              "       width=\"24px\">\n",
              "    <path d=\"M0 0h24v24H0V0z\" fill=\"none\"/>\n",
              "    <path d=\"M18.56 5.44l.94 2.06.94-2.06 2.06-.94-2.06-.94-.94-2.06-.94 2.06-2.06.94zm-11 1L8.5 8.5l.94-2.06 2.06-.94-2.06-.94L8.5 2.5l-.94 2.06-2.06.94zm10 10l.94 2.06.94-2.06 2.06-.94-2.06-.94-.94-2.06-.94 2.06-2.06.94z\"/><path d=\"M17.41 7.96l-1.37-1.37c-.4-.4-.92-.59-1.43-.59-.52 0-1.04.2-1.43.59L10.3 9.45l-7.72 7.72c-.78.78-.78 2.05 0 2.83L4 21.41c.39.39.9.59 1.41.59.51 0 1.02-.2 1.41-.59l7.78-7.78 2.81-2.81c.8-.78.8-2.07 0-2.86zM5.41 20L4 18.59l7.72-7.72 1.47 1.35L5.41 20z\"/>\n",
              "  </svg>\n",
              "      </button>\n",
              "      \n",
              "  <style>\n",
              "    .colab-df-container {\n",
              "      display:flex;\n",
              "      flex-wrap:wrap;\n",
              "      gap: 12px;\n",
              "    }\n",
              "\n",
              "    .colab-df-convert {\n",
              "      background-color: #E8F0FE;\n",
              "      border: none;\n",
              "      border-radius: 50%;\n",
              "      cursor: pointer;\n",
              "      display: none;\n",
              "      fill: #1967D2;\n",
              "      height: 32px;\n",
              "      padding: 0 0 0 0;\n",
              "      width: 32px;\n",
              "    }\n",
              "\n",
              "    .colab-df-convert:hover {\n",
              "      background-color: #E2EBFA;\n",
              "      box-shadow: 0px 1px 2px rgba(60, 64, 67, 0.3), 0px 1px 3px 1px rgba(60, 64, 67, 0.15);\n",
              "      fill: #174EA6;\n",
              "    }\n",
              "\n",
              "    [theme=dark] .colab-df-convert {\n",
              "      background-color: #3B4455;\n",
              "      fill: #D2E3FC;\n",
              "    }\n",
              "\n",
              "    [theme=dark] .colab-df-convert:hover {\n",
              "      background-color: #434B5C;\n",
              "      box-shadow: 0px 1px 3px 1px rgba(0, 0, 0, 0.15);\n",
              "      filter: drop-shadow(0px 1px 2px rgba(0, 0, 0, 0.3));\n",
              "      fill: #FFFFFF;\n",
              "    }\n",
              "  </style>\n",
              "\n",
              "      <script>\n",
              "        const buttonEl =\n",
              "          document.querySelector('#df-aa03db63-d7bd-4716-a84a-acded21ee1f1 button.colab-df-convert');\n",
              "        buttonEl.style.display =\n",
              "          google.colab.kernel.accessAllowed ? 'block' : 'none';\n",
              "\n",
              "        async function convertToInteractive(key) {\n",
              "          const element = document.querySelector('#df-aa03db63-d7bd-4716-a84a-acded21ee1f1');\n",
              "          const dataTable =\n",
              "            await google.colab.kernel.invokeFunction('convertToInteractive',\n",
              "                                                     [key], {});\n",
              "          if (!dataTable) return;\n",
              "\n",
              "          const docLinkHtml = 'Like what you see? Visit the ' +\n",
              "            '<a target=\"_blank\" href=https://colab.research.google.com/notebooks/data_table.ipynb>data table notebook</a>'\n",
              "            + ' to learn more about interactive tables.';\n",
              "          element.innerHTML = '';\n",
              "          dataTable['output_type'] = 'display_data';\n",
              "          await google.colab.output.renderOutput(dataTable, element);\n",
              "          const docLink = document.createElement('div');\n",
              "          docLink.innerHTML = docLinkHtml;\n",
              "          element.appendChild(docLink);\n",
              "        }\n",
              "      </script>\n",
              "    </div>\n",
              "  </div>\n",
              "  "
            ]
          },
          "metadata": {},
          "execution_count": 58
        }
      ]
    },
    {
      "cell_type": "code",
      "source": [
        "metricas_cal(testeo)"
      ],
      "metadata": {
        "colab": {
          "base_uri": "https://localhost:8080/"
        },
        "id": "XrBMlFNLxVYu",
        "outputId": "6ead1f74-575a-483d-8f09-5cd17134f0c0"
      },
      "execution_count": 59,
      "outputs": [
        {
          "output_type": "stream",
          "name": "stdout",
          "text": [
            "la exactitud del spv es de: 100.0%\n",
            "los valores verdaderos negativos son 56.41% de la población de testeo \n",
            "los valores falsos negativos son 0.0% de la población de testeo \n",
            "los valores falsos positivos son 0.0% de la población de testeo \n",
            "los valores verdaderos positivos son 43.59% de la población de testeo \n"
          ]
        }
      ]
    },
    {
      "cell_type": "code",
      "source": [
        "import graphviz \n",
        "dot_data = tree.export_graphviz(clf, feature_names=b_test11.columns, out_file=None, class_names=clf.classes_,\n",
        "                                filled=True, rounded=True, \n",
        "                                special_characters=True) \n",
        "graph = graphviz.Source(dot_data)\n",
        "graph"
      ],
      "metadata": {
        "colab": {
          "base_uri": "https://localhost:8080/",
          "height": 917
        },
        "id": "eZoJH3_ZhdgY",
        "outputId": "fd3ace38-51fe-4b5b-bc9a-d2c443e3e26b"
      },
      "execution_count": 60,
      "outputs": [
        {
          "output_type": "execute_result",
          "data": {
            "image/svg+xml": "<?xml version=\"1.0\" encoding=\"UTF-8\" standalone=\"no\"?>\n<!DOCTYPE svg PUBLIC \"-//W3C//DTD SVG 1.1//EN\"\n \"http://www.w3.org/Graphics/SVG/1.1/DTD/svg11.dtd\">\n<!-- Generated by graphviz version 2.43.0 (0)\n -->\n<!-- Title: Tree Pages: 1 -->\n<svg width=\"1026pt\" height=\"671pt\"\n viewBox=\"0.00 0.00 1025.50 671.00\" xmlns=\"http://www.w3.org/2000/svg\" xmlns:xlink=\"http://www.w3.org/1999/xlink\">\n<g id=\"graph0\" class=\"graph\" transform=\"scale(1 1) rotate(0) translate(4 667)\">\n<title>Tree</title>\n<polygon fill=\"white\" stroke=\"transparent\" points=\"-4,4 -4,-667 1021.5,-667 1021.5,4 -4,4\"/>\n<!-- 0 -->\n<g id=\"node1\" class=\"node\">\n<title>0</title>\n<path fill=\"#f9e2d2\" stroke=\"black\" d=\"M548,-663C548,-663 407,-663 407,-663 401,-663 395,-657 395,-651 395,-651 395,-592 395,-592 395,-586 401,-580 407,-580 407,-580 548,-580 548,-580 554,-580 560,-586 560,-592 560,-592 560,-651 560,-651 560,-657 554,-663 548,-663\"/>\n<text text-anchor=\"start\" x=\"403\" y=\"-647.8\" font-family=\"Helvetica,sans-Serif\" font-size=\"14.00\">varianza imagen ≤ 0.274</text>\n<text text-anchor=\"start\" x=\"442\" y=\"-632.8\" font-family=\"Helvetica,sans-Serif\" font-size=\"14.00\">gini = 0.492</text>\n<text text-anchor=\"start\" x=\"432.5\" y=\"-617.8\" font-family=\"Helvetica,sans-Serif\" font-size=\"14.00\">samples = 273</text>\n<text text-anchor=\"start\" x=\"423\" y=\"-602.8\" font-family=\"Helvetica,sans-Serif\" font-size=\"14.00\">value = [154, 119]</text>\n<text text-anchor=\"start\" x=\"415.5\" y=\"-587.8\" font-family=\"Helvetica,sans-Serif\" font-size=\"14.00\">class = billete bueno</text>\n</g>\n<!-- 1 -->\n<g id=\"node2\" class=\"node\">\n<title>1</title>\n<path fill=\"#69b5eb\" stroke=\"black\" d=\"M456.5,-544C456.5,-544 330.5,-544 330.5,-544 324.5,-544 318.5,-538 318.5,-532 318.5,-532 318.5,-473 318.5,-473 318.5,-467 324.5,-461 330.5,-461 330.5,-461 456.5,-461 456.5,-461 462.5,-461 468.5,-467 468.5,-473 468.5,-473 468.5,-532 468.5,-532 468.5,-538 462.5,-544 456.5,-544\"/>\n<text text-anchor=\"start\" x=\"326.5\" y=\"-528.8\" font-family=\"Helvetica,sans-Serif\" font-size=\"14.00\">sesgo imagen ≤ 6.591</text>\n<text text-anchor=\"start\" x=\"358\" y=\"-513.8\" font-family=\"Helvetica,sans-Serif\" font-size=\"14.00\">gini = 0.313</text>\n<text text-anchor=\"start\" x=\"348.5\" y=\"-498.8\" font-family=\"Helvetica,sans-Serif\" font-size=\"14.00\">samples = 134</text>\n<text text-anchor=\"start\" x=\"343\" y=\"-483.8\" font-family=\"Helvetica,sans-Serif\" font-size=\"14.00\">value = [26, 108]</text>\n<text text-anchor=\"start\" x=\"336\" y=\"-468.8\" font-family=\"Helvetica,sans-Serif\" font-size=\"14.00\">class = billete falso</text>\n</g>\n<!-- 0&#45;&gt;1 -->\n<g id=\"edge1\" class=\"edge\">\n<title>0&#45;&gt;1</title>\n<path fill=\"none\" stroke=\"black\" d=\"M448.36,-579.91C441.97,-571.01 435.15,-561.51 428.56,-552.33\"/>\n<polygon fill=\"black\" stroke=\"black\" points=\"431.27,-550.1 422.59,-544.02 425.58,-554.19 431.27,-550.1\"/>\n<text text-anchor=\"middle\" x=\"418.54\" y=\"-564.99\" font-family=\"Helvetica,sans-Serif\" font-size=\"14.00\">True</text>\n</g>\n<!-- 10 -->\n<g id=\"node11\" class=\"node\">\n<title>10</title>\n<path fill=\"#e78c4a\" stroke=\"black\" d=\"M620.5,-544C620.5,-544 504.5,-544 504.5,-544 498.5,-544 492.5,-538 492.5,-532 492.5,-532 492.5,-473 492.5,-473 492.5,-467 498.5,-461 504.5,-461 504.5,-461 620.5,-461 620.5,-461 626.5,-461 632.5,-467 632.5,-473 632.5,-473 632.5,-532 632.5,-532 632.5,-538 626.5,-544 620.5,-544\"/>\n<text text-anchor=\"start\" x=\"512.5\" y=\"-528.8\" font-family=\"Helvetica,sans-Serif\" font-size=\"14.00\">curtosis ≤ &#45;4.346</text>\n<text text-anchor=\"start\" x=\"527\" y=\"-513.8\" font-family=\"Helvetica,sans-Serif\" font-size=\"14.00\">gini = 0.146</text>\n<text text-anchor=\"start\" x=\"517.5\" y=\"-498.8\" font-family=\"Helvetica,sans-Serif\" font-size=\"14.00\">samples = 139</text>\n<text text-anchor=\"start\" x=\"512\" y=\"-483.8\" font-family=\"Helvetica,sans-Serif\" font-size=\"14.00\">value = [128, 11]</text>\n<text text-anchor=\"start\" x=\"500.5\" y=\"-468.8\" font-family=\"Helvetica,sans-Serif\" font-size=\"14.00\">class = billete bueno</text>\n</g>\n<!-- 0&#45;&gt;10 -->\n<g id=\"edge10\" class=\"edge\">\n<title>0&#45;&gt;10</title>\n<path fill=\"none\" stroke=\"black\" d=\"M506.99,-579.91C513.45,-571.01 520.36,-561.51 527.02,-552.33\"/>\n<polygon fill=\"black\" stroke=\"black\" points=\"530.02,-554.17 533.06,-544.02 524.35,-550.05 530.02,-554.17\"/>\n<text text-anchor=\"middle\" x=\"536.97\" y=\"-565.01\" font-family=\"Helvetica,sans-Serif\" font-size=\"14.00\">False</text>\n</g>\n<!-- 2 -->\n<g id=\"node3\" class=\"node\">\n<title>2</title>\n<path fill=\"#41a1e6\" stroke=\"black\" d=\"M278,-425C278,-425 171,-425 171,-425 165,-425 159,-419 159,-413 159,-413 159,-354 159,-354 159,-348 165,-342 171,-342 171,-342 278,-342 278,-342 284,-342 290,-348 290,-354 290,-354 290,-413 290,-413 290,-419 284,-425 278,-425\"/>\n<text text-anchor=\"start\" x=\"176.5\" y=\"-409.8\" font-family=\"Helvetica,sans-Serif\" font-size=\"14.00\">curtosis ≤ 4.866</text>\n<text text-anchor=\"start\" x=\"189\" y=\"-394.8\" font-family=\"Helvetica,sans-Serif\" font-size=\"14.00\">gini = 0.072</text>\n<text text-anchor=\"start\" x=\"179.5\" y=\"-379.8\" font-family=\"Helvetica,sans-Serif\" font-size=\"14.00\">samples = 107</text>\n<text text-anchor=\"start\" x=\"177.5\" y=\"-364.8\" font-family=\"Helvetica,sans-Serif\" font-size=\"14.00\">value = [4, 103]</text>\n<text text-anchor=\"start\" x=\"167\" y=\"-349.8\" font-family=\"Helvetica,sans-Serif\" font-size=\"14.00\">class = billete falso</text>\n</g>\n<!-- 1&#45;&gt;2 -->\n<g id=\"edge2\" class=\"edge\">\n<title>1&#45;&gt;2</title>\n<path fill=\"none\" stroke=\"black\" d=\"M334.87,-460.91C320.84,-451.2 305.76,-440.76 291.39,-430.81\"/>\n<polygon fill=\"black\" stroke=\"black\" points=\"293.24,-427.84 283.03,-425.02 289.26,-433.59 293.24,-427.84\"/>\n</g>\n<!-- 7 -->\n<g id=\"node8\" class=\"node\">\n<title>7</title>\n<path fill=\"#eb9e66\" stroke=\"black\" d=\"M466.5,-425C466.5,-425 320.5,-425 320.5,-425 314.5,-425 308.5,-419 308.5,-413 308.5,-413 308.5,-354 308.5,-354 308.5,-348 314.5,-342 320.5,-342 320.5,-342 466.5,-342 466.5,-342 472.5,-342 478.5,-348 478.5,-354 478.5,-354 478.5,-413 478.5,-413 478.5,-419 472.5,-425 466.5,-425\"/>\n<text text-anchor=\"start\" x=\"316.5\" y=\"-409.8\" font-family=\"Helvetica,sans-Serif\" font-size=\"14.00\">varianza imagen ≤ &#45;3.596</text>\n<text text-anchor=\"start\" x=\"358\" y=\"-394.8\" font-family=\"Helvetica,sans-Serif\" font-size=\"14.00\">gini = 0.302</text>\n<text text-anchor=\"start\" x=\"352.5\" y=\"-379.8\" font-family=\"Helvetica,sans-Serif\" font-size=\"14.00\">samples = 27</text>\n<text text-anchor=\"start\" x=\"350.5\" y=\"-364.8\" font-family=\"Helvetica,sans-Serif\" font-size=\"14.00\">value = [22, 5]</text>\n<text text-anchor=\"start\" x=\"331.5\" y=\"-349.8\" font-family=\"Helvetica,sans-Serif\" font-size=\"14.00\">class = billete bueno</text>\n</g>\n<!-- 1&#45;&gt;7 -->\n<g id=\"edge7\" class=\"edge\">\n<title>1&#45;&gt;7</title>\n<path fill=\"none\" stroke=\"black\" d=\"M393.5,-460.91C393.5,-452.65 393.5,-443.86 393.5,-435.3\"/>\n<polygon fill=\"black\" stroke=\"black\" points=\"397,-435.02 393.5,-425.02 390,-435.02 397,-435.02\"/>\n</g>\n<!-- 3 -->\n<g id=\"node4\" class=\"node\">\n<title>3</title>\n<path fill=\"#399de5\" stroke=\"black\" d=\"M119,-298.5C119,-298.5 12,-298.5 12,-298.5 6,-298.5 0,-292.5 0,-286.5 0,-286.5 0,-242.5 0,-242.5 0,-236.5 6,-230.5 12,-230.5 12,-230.5 119,-230.5 119,-230.5 125,-230.5 131,-236.5 131,-242.5 131,-242.5 131,-286.5 131,-286.5 131,-292.5 125,-298.5 119,-298.5\"/>\n<text text-anchor=\"start\" x=\"37.5\" y=\"-283.3\" font-family=\"Helvetica,sans-Serif\" font-size=\"14.00\">gini = 0.0</text>\n<text text-anchor=\"start\" x=\"24.5\" y=\"-268.3\" font-family=\"Helvetica,sans-Serif\" font-size=\"14.00\">samples = 69</text>\n<text text-anchor=\"start\" x=\"22.5\" y=\"-253.3\" font-family=\"Helvetica,sans-Serif\" font-size=\"14.00\">value = [0, 69]</text>\n<text text-anchor=\"start\" x=\"8\" y=\"-238.3\" font-family=\"Helvetica,sans-Serif\" font-size=\"14.00\">class = billete falso</text>\n</g>\n<!-- 2&#45;&gt;3 -->\n<g id=\"edge3\" class=\"edge\">\n<title>2&#45;&gt;3</title>\n<path fill=\"none\" stroke=\"black\" d=\"M169.34,-341.91C152.99,-329.88 135.13,-316.73 118.9,-304.79\"/>\n<polygon fill=\"black\" stroke=\"black\" points=\"120.7,-301.77 110.57,-298.67 116.55,-307.41 120.7,-301.77\"/>\n</g>\n<!-- 4 -->\n<g id=\"node5\" class=\"node\">\n<title>4</title>\n<path fill=\"#50a9e8\" stroke=\"black\" d=\"M292,-306C292,-306 161,-306 161,-306 155,-306 149,-300 149,-294 149,-294 149,-235 149,-235 149,-229 155,-223 161,-223 161,-223 292,-223 292,-223 298,-223 304,-229 304,-235 304,-235 304,-294 304,-294 304,-300 298,-306 292,-306\"/>\n<text text-anchor=\"start\" x=\"157\" y=\"-290.8\" font-family=\"Helvetica,sans-Serif\" font-size=\"14.00\">sesgo imagen ≤ &#45;2.984</text>\n<text text-anchor=\"start\" x=\"191\" y=\"-275.8\" font-family=\"Helvetica,sans-Serif\" font-size=\"14.00\">gini = 0.188</text>\n<text text-anchor=\"start\" x=\"185.5\" y=\"-260.8\" font-family=\"Helvetica,sans-Serif\" font-size=\"14.00\">samples = 38</text>\n<text text-anchor=\"start\" x=\"183.5\" y=\"-245.8\" font-family=\"Helvetica,sans-Serif\" font-size=\"14.00\">value = [4, 34]</text>\n<text text-anchor=\"start\" x=\"169\" y=\"-230.8\" font-family=\"Helvetica,sans-Serif\" font-size=\"14.00\">class = billete falso</text>\n</g>\n<!-- 2&#45;&gt;4 -->\n<g id=\"edge4\" class=\"edge\">\n<title>2&#45;&gt;4</title>\n<path fill=\"none\" stroke=\"black\" d=\"M225.19,-341.91C225.34,-333.56 225.49,-324.67 225.64,-316.02\"/>\n<polygon fill=\"black\" stroke=\"black\" points=\"229.14,-316.08 225.81,-306.02 222.14,-315.96 229.14,-316.08\"/>\n</g>\n<!-- 5 -->\n<g id=\"node6\" class=\"node\">\n<title>5</title>\n<path fill=\"#399de5\" stroke=\"black\" d=\"M203,-179.5C203,-179.5 96,-179.5 96,-179.5 90,-179.5 84,-173.5 84,-167.5 84,-167.5 84,-123.5 84,-123.5 84,-117.5 90,-111.5 96,-111.5 96,-111.5 203,-111.5 203,-111.5 209,-111.5 215,-117.5 215,-123.5 215,-123.5 215,-167.5 215,-167.5 215,-173.5 209,-179.5 203,-179.5\"/>\n<text text-anchor=\"start\" x=\"121.5\" y=\"-164.3\" font-family=\"Helvetica,sans-Serif\" font-size=\"14.00\">gini = 0.0</text>\n<text text-anchor=\"start\" x=\"108.5\" y=\"-149.3\" font-family=\"Helvetica,sans-Serif\" font-size=\"14.00\">samples = 34</text>\n<text text-anchor=\"start\" x=\"106.5\" y=\"-134.3\" font-family=\"Helvetica,sans-Serif\" font-size=\"14.00\">value = [0, 34]</text>\n<text text-anchor=\"start\" x=\"92\" y=\"-119.3\" font-family=\"Helvetica,sans-Serif\" font-size=\"14.00\">class = billete falso</text>\n</g>\n<!-- 4&#45;&gt;5 -->\n<g id=\"edge5\" class=\"edge\">\n<title>4&#45;&gt;5</title>\n<path fill=\"none\" stroke=\"black\" d=\"M199.79,-222.91C192.38,-211.65 184.33,-199.42 176.88,-188.11\"/>\n<polygon fill=\"black\" stroke=\"black\" points=\"179.75,-186.1 171.33,-179.67 173.9,-189.94 179.75,-186.1\"/>\n</g>\n<!-- 6 -->\n<g id=\"node7\" class=\"node\">\n<title>6</title>\n<path fill=\"#e58139\" stroke=\"black\" d=\"M361.5,-179.5C361.5,-179.5 245.5,-179.5 245.5,-179.5 239.5,-179.5 233.5,-173.5 233.5,-167.5 233.5,-167.5 233.5,-123.5 233.5,-123.5 233.5,-117.5 239.5,-111.5 245.5,-111.5 245.5,-111.5 361.5,-111.5 361.5,-111.5 367.5,-111.5 373.5,-117.5 373.5,-123.5 373.5,-123.5 373.5,-167.5 373.5,-167.5 373.5,-173.5 367.5,-179.5 361.5,-179.5\"/>\n<text text-anchor=\"start\" x=\"275.5\" y=\"-164.3\" font-family=\"Helvetica,sans-Serif\" font-size=\"14.00\">gini = 0.0</text>\n<text text-anchor=\"start\" x=\"266\" y=\"-149.3\" font-family=\"Helvetica,sans-Serif\" font-size=\"14.00\">samples = 4</text>\n<text text-anchor=\"start\" x=\"264\" y=\"-134.3\" font-family=\"Helvetica,sans-Serif\" font-size=\"14.00\">value = [4, 0]</text>\n<text text-anchor=\"start\" x=\"241.5\" y=\"-119.3\" font-family=\"Helvetica,sans-Serif\" font-size=\"14.00\">class = billete bueno</text>\n</g>\n<!-- 4&#45;&gt;6 -->\n<g id=\"edge6\" class=\"edge\">\n<title>4&#45;&gt;6</title>\n<path fill=\"none\" stroke=\"black\" d=\"M253.21,-222.91C260.62,-211.65 268.67,-199.42 276.12,-188.11\"/>\n<polygon fill=\"black\" stroke=\"black\" points=\"279.1,-189.94 281.67,-179.67 273.25,-186.1 279.1,-189.94\"/>\n</g>\n<!-- 8 -->\n<g id=\"node9\" class=\"node\">\n<title>8</title>\n<path fill=\"#399de5\" stroke=\"black\" d=\"M445,-298.5C445,-298.5 338,-298.5 338,-298.5 332,-298.5 326,-292.5 326,-286.5 326,-286.5 326,-242.5 326,-242.5 326,-236.5 332,-230.5 338,-230.5 338,-230.5 445,-230.5 445,-230.5 451,-230.5 457,-236.5 457,-242.5 457,-242.5 457,-286.5 457,-286.5 457,-292.5 451,-298.5 445,-298.5\"/>\n<text text-anchor=\"start\" x=\"363.5\" y=\"-283.3\" font-family=\"Helvetica,sans-Serif\" font-size=\"14.00\">gini = 0.0</text>\n<text text-anchor=\"start\" x=\"354\" y=\"-268.3\" font-family=\"Helvetica,sans-Serif\" font-size=\"14.00\">samples = 5</text>\n<text text-anchor=\"start\" x=\"352\" y=\"-253.3\" font-family=\"Helvetica,sans-Serif\" font-size=\"14.00\">value = [0, 5]</text>\n<text text-anchor=\"start\" x=\"334\" y=\"-238.3\" font-family=\"Helvetica,sans-Serif\" font-size=\"14.00\">class = billete falso</text>\n</g>\n<!-- 7&#45;&gt;8 -->\n<g id=\"edge8\" class=\"edge\">\n<title>7&#45;&gt;8</title>\n<path fill=\"none\" stroke=\"black\" d=\"M392.81,-341.91C392.62,-331.2 392.43,-319.62 392.24,-308.78\"/>\n<polygon fill=\"black\" stroke=\"black\" points=\"395.74,-308.61 392.07,-298.67 388.74,-308.73 395.74,-308.61\"/>\n</g>\n<!-- 9 -->\n<g id=\"node10\" class=\"node\">\n<title>9</title>\n<path fill=\"#e58139\" stroke=\"black\" d=\"M603.5,-298.5C603.5,-298.5 487.5,-298.5 487.5,-298.5 481.5,-298.5 475.5,-292.5 475.5,-286.5 475.5,-286.5 475.5,-242.5 475.5,-242.5 475.5,-236.5 481.5,-230.5 487.5,-230.5 487.5,-230.5 603.5,-230.5 603.5,-230.5 609.5,-230.5 615.5,-236.5 615.5,-242.5 615.5,-242.5 615.5,-286.5 615.5,-286.5 615.5,-292.5 609.5,-298.5 603.5,-298.5\"/>\n<text text-anchor=\"start\" x=\"517.5\" y=\"-283.3\" font-family=\"Helvetica,sans-Serif\" font-size=\"14.00\">gini = 0.0</text>\n<text text-anchor=\"start\" x=\"504.5\" y=\"-268.3\" font-family=\"Helvetica,sans-Serif\" font-size=\"14.00\">samples = 22</text>\n<text text-anchor=\"start\" x=\"502.5\" y=\"-253.3\" font-family=\"Helvetica,sans-Serif\" font-size=\"14.00\">value = [22, 0]</text>\n<text text-anchor=\"start\" x=\"483.5\" y=\"-238.3\" font-family=\"Helvetica,sans-Serif\" font-size=\"14.00\">class = billete bueno</text>\n</g>\n<!-- 7&#45;&gt;9 -->\n<g id=\"edge9\" class=\"edge\">\n<title>7&#45;&gt;9</title>\n<path fill=\"none\" stroke=\"black\" d=\"M446.24,-341.91C461.86,-329.88 478.94,-316.73 494.46,-304.79\"/>\n<polygon fill=\"black\" stroke=\"black\" points=\"496.62,-307.54 502.41,-298.67 492.35,-301.99 496.62,-307.54\"/>\n</g>\n<!-- 11 -->\n<g id=\"node12\" class=\"node\">\n<title>11</title>\n<path fill=\"#399de5\" stroke=\"black\" d=\"M616,-417.5C616,-417.5 509,-417.5 509,-417.5 503,-417.5 497,-411.5 497,-405.5 497,-405.5 497,-361.5 497,-361.5 497,-355.5 503,-349.5 509,-349.5 509,-349.5 616,-349.5 616,-349.5 622,-349.5 628,-355.5 628,-361.5 628,-361.5 628,-405.5 628,-405.5 628,-411.5 622,-417.5 616,-417.5\"/>\n<text text-anchor=\"start\" x=\"534.5\" y=\"-402.3\" font-family=\"Helvetica,sans-Serif\" font-size=\"14.00\">gini = 0.0</text>\n<text text-anchor=\"start\" x=\"525\" y=\"-387.3\" font-family=\"Helvetica,sans-Serif\" font-size=\"14.00\">samples = 2</text>\n<text text-anchor=\"start\" x=\"523\" y=\"-372.3\" font-family=\"Helvetica,sans-Serif\" font-size=\"14.00\">value = [0, 2]</text>\n<text text-anchor=\"start\" x=\"505\" y=\"-357.3\" font-family=\"Helvetica,sans-Serif\" font-size=\"14.00\">class = billete falso</text>\n</g>\n<!-- 10&#45;&gt;11 -->\n<g id=\"edge11\" class=\"edge\">\n<title>10&#45;&gt;11</title>\n<path fill=\"none\" stroke=\"black\" d=\"M562.5,-460.91C562.5,-450.2 562.5,-438.62 562.5,-427.78\"/>\n<polygon fill=\"black\" stroke=\"black\" points=\"566,-427.67 562.5,-417.67 559,-427.67 566,-427.67\"/>\n</g>\n<!-- 12 -->\n<g id=\"node13\" class=\"node\">\n<title>12</title>\n<path fill=\"#e78a47\" stroke=\"black\" d=\"M799,-425C799,-425 658,-425 658,-425 652,-425 646,-419 646,-413 646,-413 646,-354 646,-354 646,-348 652,-342 658,-342 658,-342 799,-342 799,-342 805,-342 811,-348 811,-354 811,-354 811,-413 811,-413 811,-419 805,-425 799,-425\"/>\n<text text-anchor=\"start\" x=\"654\" y=\"-409.8\" font-family=\"Helvetica,sans-Serif\" font-size=\"14.00\">varianza imagen ≤ 1.617</text>\n<text text-anchor=\"start\" x=\"693\" y=\"-394.8\" font-family=\"Helvetica,sans-Serif\" font-size=\"14.00\">gini = 0.123</text>\n<text text-anchor=\"start\" x=\"683.5\" y=\"-379.8\" font-family=\"Helvetica,sans-Serif\" font-size=\"14.00\">samples = 137</text>\n<text text-anchor=\"start\" x=\"681.5\" y=\"-364.8\" font-family=\"Helvetica,sans-Serif\" font-size=\"14.00\">value = [128, 9]</text>\n<text text-anchor=\"start\" x=\"666.5\" y=\"-349.8\" font-family=\"Helvetica,sans-Serif\" font-size=\"14.00\">class = billete bueno</text>\n</g>\n<!-- 10&#45;&gt;12 -->\n<g id=\"edge12\" class=\"edge\">\n<title>10&#45;&gt;12</title>\n<path fill=\"none\" stroke=\"black\" d=\"M620.09,-460.91C633.87,-451.2 648.68,-440.76 662.79,-430.81\"/>\n<polygon fill=\"black\" stroke=\"black\" points=\"664.85,-433.64 671.01,-425.02 660.82,-427.92 664.85,-433.64\"/>\n</g>\n<!-- 13 -->\n<g id=\"node14\" class=\"node\">\n<title>13</title>\n<path fill=\"#eca471\" stroke=\"black\" d=\"M774.5,-306C774.5,-306 658.5,-306 658.5,-306 652.5,-306 646.5,-300 646.5,-294 646.5,-294 646.5,-235 646.5,-235 646.5,-229 652.5,-223 658.5,-223 658.5,-223 774.5,-223 774.5,-223 780.5,-223 786.5,-229 786.5,-235 786.5,-235 786.5,-294 786.5,-294 786.5,-300 780.5,-306 774.5,-306\"/>\n<text text-anchor=\"start\" x=\"662\" y=\"-290.8\" font-family=\"Helvetica,sans-Serif\" font-size=\"14.00\">entropias ≤ &#45;0.158</text>\n<text text-anchor=\"start\" x=\"681\" y=\"-275.8\" font-family=\"Helvetica,sans-Serif\" font-size=\"14.00\">gini = 0.343</text>\n<text text-anchor=\"start\" x=\"675.5\" y=\"-260.8\" font-family=\"Helvetica,sans-Serif\" font-size=\"14.00\">samples = 41</text>\n<text text-anchor=\"start\" x=\"673.5\" y=\"-245.8\" font-family=\"Helvetica,sans-Serif\" font-size=\"14.00\">value = [32, 9]</text>\n<text text-anchor=\"start\" x=\"654.5\" y=\"-230.8\" font-family=\"Helvetica,sans-Serif\" font-size=\"14.00\">class = billete bueno</text>\n</g>\n<!-- 12&#45;&gt;13 -->\n<g id=\"edge13\" class=\"edge\">\n<title>12&#45;&gt;13</title>\n<path fill=\"none\" stroke=\"black\" d=\"M724.34,-341.91C723.48,-333.56 722.57,-324.67 721.68,-316.02\"/>\n<polygon fill=\"black\" stroke=\"black\" points=\"725.16,-315.61 720.66,-306.02 718.19,-316.33 725.16,-315.61\"/>\n</g>\n<!-- 20 -->\n<g id=\"node21\" class=\"node\">\n<title>20</title>\n<path fill=\"#e58139\" stroke=\"black\" d=\"M932.5,-298.5C932.5,-298.5 816.5,-298.5 816.5,-298.5 810.5,-298.5 804.5,-292.5 804.5,-286.5 804.5,-286.5 804.5,-242.5 804.5,-242.5 804.5,-236.5 810.5,-230.5 816.5,-230.5 816.5,-230.5 932.5,-230.5 932.5,-230.5 938.5,-230.5 944.5,-236.5 944.5,-242.5 944.5,-242.5 944.5,-286.5 944.5,-286.5 944.5,-292.5 938.5,-298.5 932.5,-298.5\"/>\n<text text-anchor=\"start\" x=\"846.5\" y=\"-283.3\" font-family=\"Helvetica,sans-Serif\" font-size=\"14.00\">gini = 0.0</text>\n<text text-anchor=\"start\" x=\"833.5\" y=\"-268.3\" font-family=\"Helvetica,sans-Serif\" font-size=\"14.00\">samples = 96</text>\n<text text-anchor=\"start\" x=\"831.5\" y=\"-253.3\" font-family=\"Helvetica,sans-Serif\" font-size=\"14.00\">value = [96, 0]</text>\n<text text-anchor=\"start\" x=\"812.5\" y=\"-238.3\" font-family=\"Helvetica,sans-Serif\" font-size=\"14.00\">class = billete bueno</text>\n</g>\n<!-- 12&#45;&gt;20 -->\n<g id=\"edge20\" class=\"edge\">\n<title>12&#45;&gt;20</title>\n<path fill=\"none\" stroke=\"black\" d=\"M779.15,-341.91C794.03,-329.99 810.27,-316.98 825.06,-305.12\"/>\n<polygon fill=\"black\" stroke=\"black\" points=\"827.5,-307.65 833.11,-298.67 823.12,-302.19 827.5,-307.65\"/>\n</g>\n<!-- 14 -->\n<g id=\"node15\" class=\"node\">\n<title>14</title>\n<path fill=\"#e68540\" stroke=\"black\" d=\"M697.5,-187C697.5,-187 581.5,-187 581.5,-187 575.5,-187 569.5,-181 569.5,-175 569.5,-175 569.5,-116 569.5,-116 569.5,-110 575.5,-104 581.5,-104 581.5,-104 697.5,-104 697.5,-104 703.5,-104 709.5,-110 709.5,-116 709.5,-116 709.5,-175 709.5,-175 709.5,-181 703.5,-187 697.5,-187\"/>\n<text text-anchor=\"start\" x=\"589.5\" y=\"-171.8\" font-family=\"Helvetica,sans-Serif\" font-size=\"14.00\">curtosis ≤ &#45;3.682</text>\n<text text-anchor=\"start\" x=\"604\" y=\"-156.8\" font-family=\"Helvetica,sans-Serif\" font-size=\"14.00\">gini = 0.064</text>\n<text text-anchor=\"start\" x=\"598.5\" y=\"-141.8\" font-family=\"Helvetica,sans-Serif\" font-size=\"14.00\">samples = 30</text>\n<text text-anchor=\"start\" x=\"596.5\" y=\"-126.8\" font-family=\"Helvetica,sans-Serif\" font-size=\"14.00\">value = [29, 1]</text>\n<text text-anchor=\"start\" x=\"577.5\" y=\"-111.8\" font-family=\"Helvetica,sans-Serif\" font-size=\"14.00\">class = billete bueno</text>\n</g>\n<!-- 13&#45;&gt;14 -->\n<g id=\"edge14\" class=\"edge\">\n<title>13&#45;&gt;14</title>\n<path fill=\"none\" stroke=\"black\" d=\"M689.79,-222.91C683.99,-214.1 677.8,-204.7 671.82,-195.61\"/>\n<polygon fill=\"black\" stroke=\"black\" points=\"674.59,-193.45 666.17,-187.02 668.74,-197.3 674.59,-193.45\"/>\n</g>\n<!-- 17 -->\n<g id=\"node18\" class=\"node\">\n<title>17</title>\n<path fill=\"#83c2ef\" stroke=\"black\" d=\"M847,-187C847,-187 740,-187 740,-187 734,-187 728,-181 728,-175 728,-175 728,-116 728,-116 728,-110 734,-104 740,-104 740,-104 847,-104 847,-104 853,-104 859,-110 859,-116 859,-116 859,-175 859,-175 859,-181 853,-187 847,-187\"/>\n<text text-anchor=\"start\" x=\"745.5\" y=\"-171.8\" font-family=\"Helvetica,sans-Serif\" font-size=\"14.00\">curtosis ≤ 0.741</text>\n<text text-anchor=\"start\" x=\"758\" y=\"-156.8\" font-family=\"Helvetica,sans-Serif\" font-size=\"14.00\">gini = 0.397</text>\n<text text-anchor=\"start\" x=\"752.5\" y=\"-141.8\" font-family=\"Helvetica,sans-Serif\" font-size=\"14.00\">samples = 11</text>\n<text text-anchor=\"start\" x=\"754\" y=\"-126.8\" font-family=\"Helvetica,sans-Serif\" font-size=\"14.00\">value = [3, 8]</text>\n<text text-anchor=\"start\" x=\"736\" y=\"-111.8\" font-family=\"Helvetica,sans-Serif\" font-size=\"14.00\">class = billete falso</text>\n</g>\n<!-- 13&#45;&gt;17 -->\n<g id=\"edge17\" class=\"edge\">\n<title>13&#45;&gt;17</title>\n<path fill=\"none\" stroke=\"black\" d=\"M743.21,-222.91C749.01,-214.1 755.2,-204.7 761.18,-195.61\"/>\n<polygon fill=\"black\" stroke=\"black\" points=\"764.26,-197.3 766.83,-187.02 758.41,-193.45 764.26,-197.3\"/>\n</g>\n<!-- 15 -->\n<g id=\"node16\" class=\"node\">\n<title>15</title>\n<path fill=\"#399de5\" stroke=\"black\" d=\"M539,-68C539,-68 432,-68 432,-68 426,-68 420,-62 420,-56 420,-56 420,-12 420,-12 420,-6 426,0 432,0 432,0 539,0 539,0 545,0 551,-6 551,-12 551,-12 551,-56 551,-56 551,-62 545,-68 539,-68\"/>\n<text text-anchor=\"start\" x=\"457.5\" y=\"-52.8\" font-family=\"Helvetica,sans-Serif\" font-size=\"14.00\">gini = 0.0</text>\n<text text-anchor=\"start\" x=\"448\" y=\"-37.8\" font-family=\"Helvetica,sans-Serif\" font-size=\"14.00\">samples = 1</text>\n<text text-anchor=\"start\" x=\"446\" y=\"-22.8\" font-family=\"Helvetica,sans-Serif\" font-size=\"14.00\">value = [0, 1]</text>\n<text text-anchor=\"start\" x=\"428\" y=\"-7.8\" font-family=\"Helvetica,sans-Serif\" font-size=\"14.00\">class = billete falso</text>\n</g>\n<!-- 14&#45;&gt;15 -->\n<g id=\"edge15\" class=\"edge\">\n<title>14&#45;&gt;15</title>\n<path fill=\"none\" stroke=\"black\" d=\"M582.16,-103.73C568.56,-94.06 554.09,-83.77 540.59,-74.17\"/>\n<polygon fill=\"black\" stroke=\"black\" points=\"542.51,-71.24 532.33,-68.3 538.45,-76.95 542.51,-71.24\"/>\n</g>\n<!-- 16 -->\n<g id=\"node17\" class=\"node\">\n<title>16</title>\n<path fill=\"#e58139\" stroke=\"black\" d=\"M697.5,-68C697.5,-68 581.5,-68 581.5,-68 575.5,-68 569.5,-62 569.5,-56 569.5,-56 569.5,-12 569.5,-12 569.5,-6 575.5,0 581.5,0 581.5,0 697.5,0 697.5,0 703.5,0 709.5,-6 709.5,-12 709.5,-12 709.5,-56 709.5,-56 709.5,-62 703.5,-68 697.5,-68\"/>\n<text text-anchor=\"start\" x=\"611.5\" y=\"-52.8\" font-family=\"Helvetica,sans-Serif\" font-size=\"14.00\">gini = 0.0</text>\n<text text-anchor=\"start\" x=\"598.5\" y=\"-37.8\" font-family=\"Helvetica,sans-Serif\" font-size=\"14.00\">samples = 29</text>\n<text text-anchor=\"start\" x=\"596.5\" y=\"-22.8\" font-family=\"Helvetica,sans-Serif\" font-size=\"14.00\">value = [29, 0]</text>\n<text text-anchor=\"start\" x=\"577.5\" y=\"-7.8\" font-family=\"Helvetica,sans-Serif\" font-size=\"14.00\">class = billete bueno</text>\n</g>\n<!-- 14&#45;&gt;16 -->\n<g id=\"edge16\" class=\"edge\">\n<title>14&#45;&gt;16</title>\n<path fill=\"none\" stroke=\"black\" d=\"M639.5,-103.73C639.5,-95.52 639.5,-86.86 639.5,-78.56\"/>\n<polygon fill=\"black\" stroke=\"black\" points=\"643,-78.3 639.5,-68.3 636,-78.3 643,-78.3\"/>\n</g>\n<!-- 18 -->\n<g id=\"node19\" class=\"node\">\n<title>18</title>\n<path fill=\"#399de5\" stroke=\"black\" d=\"M847,-68C847,-68 740,-68 740,-68 734,-68 728,-62 728,-56 728,-56 728,-12 728,-12 728,-6 734,0 740,0 740,0 847,0 847,0 853,0 859,-6 859,-12 859,-12 859,-56 859,-56 859,-62 853,-68 847,-68\"/>\n<text text-anchor=\"start\" x=\"765.5\" y=\"-52.8\" font-family=\"Helvetica,sans-Serif\" font-size=\"14.00\">gini = 0.0</text>\n<text text-anchor=\"start\" x=\"756\" y=\"-37.8\" font-family=\"Helvetica,sans-Serif\" font-size=\"14.00\">samples = 8</text>\n<text text-anchor=\"start\" x=\"754\" y=\"-22.8\" font-family=\"Helvetica,sans-Serif\" font-size=\"14.00\">value = [0, 8]</text>\n<text text-anchor=\"start\" x=\"736\" y=\"-7.8\" font-family=\"Helvetica,sans-Serif\" font-size=\"14.00\">class = billete falso</text>\n</g>\n<!-- 17&#45;&gt;18 -->\n<g id=\"edge18\" class=\"edge\">\n<title>17&#45;&gt;18</title>\n<path fill=\"none\" stroke=\"black\" d=\"M793.5,-103.73C793.5,-95.52 793.5,-86.86 793.5,-78.56\"/>\n<polygon fill=\"black\" stroke=\"black\" points=\"797,-78.3 793.5,-68.3 790,-78.3 797,-78.3\"/>\n</g>\n<!-- 19 -->\n<g id=\"node20\" class=\"node\">\n<title>19</title>\n<path fill=\"#e58139\" stroke=\"black\" d=\"M1005.5,-68C1005.5,-68 889.5,-68 889.5,-68 883.5,-68 877.5,-62 877.5,-56 877.5,-56 877.5,-12 877.5,-12 877.5,-6 883.5,0 889.5,0 889.5,0 1005.5,0 1005.5,0 1011.5,0 1017.5,-6 1017.5,-12 1017.5,-12 1017.5,-56 1017.5,-56 1017.5,-62 1011.5,-68 1005.5,-68\"/>\n<text text-anchor=\"start\" x=\"919.5\" y=\"-52.8\" font-family=\"Helvetica,sans-Serif\" font-size=\"14.00\">gini = 0.0</text>\n<text text-anchor=\"start\" x=\"910\" y=\"-37.8\" font-family=\"Helvetica,sans-Serif\" font-size=\"14.00\">samples = 3</text>\n<text text-anchor=\"start\" x=\"908\" y=\"-22.8\" font-family=\"Helvetica,sans-Serif\" font-size=\"14.00\">value = [3, 0]</text>\n<text text-anchor=\"start\" x=\"885.5\" y=\"-7.8\" font-family=\"Helvetica,sans-Serif\" font-size=\"14.00\">class = billete bueno</text>\n</g>\n<!-- 17&#45;&gt;19 -->\n<g id=\"edge19\" class=\"edge\">\n<title>17&#45;&gt;19</title>\n<path fill=\"none\" stroke=\"black\" d=\"M850.84,-103.73C864.44,-94.06 878.91,-83.77 892.41,-74.17\"/>\n<polygon fill=\"black\" stroke=\"black\" points=\"894.55,-76.95 900.67,-68.3 890.49,-71.24 894.55,-76.95\"/>\n</g>\n</g>\n</svg>\n",
            "text/plain": [
              "<graphviz.sources.Source at 0x7ff885846580>"
            ]
          },
          "metadata": {},
          "execution_count": 60
        }
      ]
    },
    {
      "cell_type": "markdown",
      "source": [
        "# Occupancy Detection evaluación tecnicas\n"
      ],
      "metadata": {
        "id": "-P-xCHuildlr"
      }
    },
    {
      "cell_type": "markdown",
      "source": [
        "**2.1 ¿qué problema de machine learning estamos resolviendo?**"
      ],
      "metadata": {
        "id": "XM24Rf10mIlg"
      }
    },
    {
      "cell_type": "markdown",
      "source": [
        "Para este problema el objetivo sera agrupar por medio de las caracteristicas de ciertas fotografias si existe o no ocupación dentro de un terreno, clasifiucando la información en dichos grupos."
      ],
      "metadata": {
        "id": "gAIVqyrzmR8v"
      }
    },
    {
      "cell_type": "markdown",
      "source": [
        "**2.2 Caracteristicas y etiquetas**"
      ],
      "metadata": {
        "id": "Qj3Yqjyn1j21"
      }
    },
    {
      "cell_type": "code",
      "source": [
        "a = pd.read_csv(r'/content/drive/Shareddrives/Python universe/DATA/1datatraining.txt', sep = \",\")\n",
        "a1 = pd.read_csv(r'/content/drive/Shareddrives/Python universe/DATA/1datatest.txt', sep = \",\")\n",
        "a"
      ],
      "metadata": {
        "colab": {
          "base_uri": "https://localhost:8080/",
          "height": 423
        },
        "id": "4kBmGMY811Vt",
        "outputId": "8e2f9e65-4da8-4b15-dbe9-29400d1b6141"
      },
      "execution_count": 61,
      "outputs": [
        {
          "output_type": "execute_result",
          "data": {
            "text/plain": [
              "                     date  Temperature  Humidity  Light         CO2  \\\n",
              "1     2015-02-04 17:51:00        23.18   27.2720  426.0  721.250000   \n",
              "2     2015-02-04 17:51:59        23.15   27.2675  429.5  714.000000   \n",
              "3     2015-02-04 17:53:00        23.15   27.2450  426.0  713.500000   \n",
              "4     2015-02-04 17:54:00        23.15   27.2000  426.0  708.250000   \n",
              "5     2015-02-04 17:55:00        23.10   27.2000  426.0  704.500000   \n",
              "...                   ...          ...       ...    ...         ...   \n",
              "8139  2015-02-10 09:29:00        21.05   36.0975  433.0  787.250000   \n",
              "8140  2015-02-10 09:29:59        21.05   35.9950  433.0  789.500000   \n",
              "8141  2015-02-10 09:30:59        21.10   36.0950  433.0  798.500000   \n",
              "8142  2015-02-10 09:32:00        21.10   36.2600  433.0  820.333333   \n",
              "8143  2015-02-10 09:33:00        21.10   36.2000  447.0  821.000000   \n",
              "\n",
              "      HumidityRatio  Occupancy  \n",
              "1          0.004793          1  \n",
              "2          0.004783          1  \n",
              "3          0.004779          1  \n",
              "4          0.004772          1  \n",
              "5          0.004757          1  \n",
              "...             ...        ...  \n",
              "8139       0.005579          1  \n",
              "8140       0.005563          1  \n",
              "8141       0.005596          1  \n",
              "8142       0.005621          1  \n",
              "8143       0.005612          1  \n",
              "\n",
              "[8143 rows x 7 columns]"
            ],
            "text/html": [
              "\n",
              "  <div id=\"df-6404fb6c-dc97-41f6-9036-834bebdf839b\">\n",
              "    <div class=\"colab-df-container\">\n",
              "      <div>\n",
              "<style scoped>\n",
              "    .dataframe tbody tr th:only-of-type {\n",
              "        vertical-align: middle;\n",
              "    }\n",
              "\n",
              "    .dataframe tbody tr th {\n",
              "        vertical-align: top;\n",
              "    }\n",
              "\n",
              "    .dataframe thead th {\n",
              "        text-align: right;\n",
              "    }\n",
              "</style>\n",
              "<table border=\"1\" class=\"dataframe\">\n",
              "  <thead>\n",
              "    <tr style=\"text-align: right;\">\n",
              "      <th></th>\n",
              "      <th>date</th>\n",
              "      <th>Temperature</th>\n",
              "      <th>Humidity</th>\n",
              "      <th>Light</th>\n",
              "      <th>CO2</th>\n",
              "      <th>HumidityRatio</th>\n",
              "      <th>Occupancy</th>\n",
              "    </tr>\n",
              "  </thead>\n",
              "  <tbody>\n",
              "    <tr>\n",
              "      <th>1</th>\n",
              "      <td>2015-02-04 17:51:00</td>\n",
              "      <td>23.18</td>\n",
              "      <td>27.2720</td>\n",
              "      <td>426.0</td>\n",
              "      <td>721.250000</td>\n",
              "      <td>0.004793</td>\n",
              "      <td>1</td>\n",
              "    </tr>\n",
              "    <tr>\n",
              "      <th>2</th>\n",
              "      <td>2015-02-04 17:51:59</td>\n",
              "      <td>23.15</td>\n",
              "      <td>27.2675</td>\n",
              "      <td>429.5</td>\n",
              "      <td>714.000000</td>\n",
              "      <td>0.004783</td>\n",
              "      <td>1</td>\n",
              "    </tr>\n",
              "    <tr>\n",
              "      <th>3</th>\n",
              "      <td>2015-02-04 17:53:00</td>\n",
              "      <td>23.15</td>\n",
              "      <td>27.2450</td>\n",
              "      <td>426.0</td>\n",
              "      <td>713.500000</td>\n",
              "      <td>0.004779</td>\n",
              "      <td>1</td>\n",
              "    </tr>\n",
              "    <tr>\n",
              "      <th>4</th>\n",
              "      <td>2015-02-04 17:54:00</td>\n",
              "      <td>23.15</td>\n",
              "      <td>27.2000</td>\n",
              "      <td>426.0</td>\n",
              "      <td>708.250000</td>\n",
              "      <td>0.004772</td>\n",
              "      <td>1</td>\n",
              "    </tr>\n",
              "    <tr>\n",
              "      <th>5</th>\n",
              "      <td>2015-02-04 17:55:00</td>\n",
              "      <td>23.10</td>\n",
              "      <td>27.2000</td>\n",
              "      <td>426.0</td>\n",
              "      <td>704.500000</td>\n",
              "      <td>0.004757</td>\n",
              "      <td>1</td>\n",
              "    </tr>\n",
              "    <tr>\n",
              "      <th>...</th>\n",
              "      <td>...</td>\n",
              "      <td>...</td>\n",
              "      <td>...</td>\n",
              "      <td>...</td>\n",
              "      <td>...</td>\n",
              "      <td>...</td>\n",
              "      <td>...</td>\n",
              "    </tr>\n",
              "    <tr>\n",
              "      <th>8139</th>\n",
              "      <td>2015-02-10 09:29:00</td>\n",
              "      <td>21.05</td>\n",
              "      <td>36.0975</td>\n",
              "      <td>433.0</td>\n",
              "      <td>787.250000</td>\n",
              "      <td>0.005579</td>\n",
              "      <td>1</td>\n",
              "    </tr>\n",
              "    <tr>\n",
              "      <th>8140</th>\n",
              "      <td>2015-02-10 09:29:59</td>\n",
              "      <td>21.05</td>\n",
              "      <td>35.9950</td>\n",
              "      <td>433.0</td>\n",
              "      <td>789.500000</td>\n",
              "      <td>0.005563</td>\n",
              "      <td>1</td>\n",
              "    </tr>\n",
              "    <tr>\n",
              "      <th>8141</th>\n",
              "      <td>2015-02-10 09:30:59</td>\n",
              "      <td>21.10</td>\n",
              "      <td>36.0950</td>\n",
              "      <td>433.0</td>\n",
              "      <td>798.500000</td>\n",
              "      <td>0.005596</td>\n",
              "      <td>1</td>\n",
              "    </tr>\n",
              "    <tr>\n",
              "      <th>8142</th>\n",
              "      <td>2015-02-10 09:32:00</td>\n",
              "      <td>21.10</td>\n",
              "      <td>36.2600</td>\n",
              "      <td>433.0</td>\n",
              "      <td>820.333333</td>\n",
              "      <td>0.005621</td>\n",
              "      <td>1</td>\n",
              "    </tr>\n",
              "    <tr>\n",
              "      <th>8143</th>\n",
              "      <td>2015-02-10 09:33:00</td>\n",
              "      <td>21.10</td>\n",
              "      <td>36.2000</td>\n",
              "      <td>447.0</td>\n",
              "      <td>821.000000</td>\n",
              "      <td>0.005612</td>\n",
              "      <td>1</td>\n",
              "    </tr>\n",
              "  </tbody>\n",
              "</table>\n",
              "<p>8143 rows × 7 columns</p>\n",
              "</div>\n",
              "      <button class=\"colab-df-convert\" onclick=\"convertToInteractive('df-6404fb6c-dc97-41f6-9036-834bebdf839b')\"\n",
              "              title=\"Convert this dataframe to an interactive table.\"\n",
              "              style=\"display:none;\">\n",
              "        \n",
              "  <svg xmlns=\"http://www.w3.org/2000/svg\" height=\"24px\"viewBox=\"0 0 24 24\"\n",
              "       width=\"24px\">\n",
              "    <path d=\"M0 0h24v24H0V0z\" fill=\"none\"/>\n",
              "    <path d=\"M18.56 5.44l.94 2.06.94-2.06 2.06-.94-2.06-.94-.94-2.06-.94 2.06-2.06.94zm-11 1L8.5 8.5l.94-2.06 2.06-.94-2.06-.94L8.5 2.5l-.94 2.06-2.06.94zm10 10l.94 2.06.94-2.06 2.06-.94-2.06-.94-.94-2.06-.94 2.06-2.06.94z\"/><path d=\"M17.41 7.96l-1.37-1.37c-.4-.4-.92-.59-1.43-.59-.52 0-1.04.2-1.43.59L10.3 9.45l-7.72 7.72c-.78.78-.78 2.05 0 2.83L4 21.41c.39.39.9.59 1.41.59.51 0 1.02-.2 1.41-.59l7.78-7.78 2.81-2.81c.8-.78.8-2.07 0-2.86zM5.41 20L4 18.59l7.72-7.72 1.47 1.35L5.41 20z\"/>\n",
              "  </svg>\n",
              "      </button>\n",
              "      \n",
              "  <style>\n",
              "    .colab-df-container {\n",
              "      display:flex;\n",
              "      flex-wrap:wrap;\n",
              "      gap: 12px;\n",
              "    }\n",
              "\n",
              "    .colab-df-convert {\n",
              "      background-color: #E8F0FE;\n",
              "      border: none;\n",
              "      border-radius: 50%;\n",
              "      cursor: pointer;\n",
              "      display: none;\n",
              "      fill: #1967D2;\n",
              "      height: 32px;\n",
              "      padding: 0 0 0 0;\n",
              "      width: 32px;\n",
              "    }\n",
              "\n",
              "    .colab-df-convert:hover {\n",
              "      background-color: #E2EBFA;\n",
              "      box-shadow: 0px 1px 2px rgba(60, 64, 67, 0.3), 0px 1px 3px 1px rgba(60, 64, 67, 0.15);\n",
              "      fill: #174EA6;\n",
              "    }\n",
              "\n",
              "    [theme=dark] .colab-df-convert {\n",
              "      background-color: #3B4455;\n",
              "      fill: #D2E3FC;\n",
              "    }\n",
              "\n",
              "    [theme=dark] .colab-df-convert:hover {\n",
              "      background-color: #434B5C;\n",
              "      box-shadow: 0px 1px 3px 1px rgba(0, 0, 0, 0.15);\n",
              "      filter: drop-shadow(0px 1px 2px rgba(0, 0, 0, 0.3));\n",
              "      fill: #FFFFFF;\n",
              "    }\n",
              "  </style>\n",
              "\n",
              "      <script>\n",
              "        const buttonEl =\n",
              "          document.querySelector('#df-6404fb6c-dc97-41f6-9036-834bebdf839b button.colab-df-convert');\n",
              "        buttonEl.style.display =\n",
              "          google.colab.kernel.accessAllowed ? 'block' : 'none';\n",
              "\n",
              "        async function convertToInteractive(key) {\n",
              "          const element = document.querySelector('#df-6404fb6c-dc97-41f6-9036-834bebdf839b');\n",
              "          const dataTable =\n",
              "            await google.colab.kernel.invokeFunction('convertToInteractive',\n",
              "                                                     [key], {});\n",
              "          if (!dataTable) return;\n",
              "\n",
              "          const docLinkHtml = 'Like what you see? Visit the ' +\n",
              "            '<a target=\"_blank\" href=https://colab.research.google.com/notebooks/data_table.ipynb>data table notebook</a>'\n",
              "            + ' to learn more about interactive tables.';\n",
              "          element.innerHTML = '';\n",
              "          dataTable['output_type'] = 'display_data';\n",
              "          await google.colab.output.renderOutput(dataTable, element);\n",
              "          const docLink = document.createElement('div');\n",
              "          docLink.innerHTML = docLinkHtml;\n",
              "          element.appendChild(docLink);\n",
              "        }\n",
              "      </script>\n",
              "    </div>\n",
              "  </div>\n",
              "  "
            ]
          },
          "metadata": {},
          "execution_count": 61
        }
      ]
    },
    {
      "cell_type": "code",
      "source": [
        "a['date'] = pd.to_datetime(a['date'], format=\"%Y-%m-%d %H:%M:%S\")\n",
        "a1['date'] = pd.to_datetime(a1['date'], format=\"%Y-%m-%d %H:%M:%S\")"
      ],
      "metadata": {
        "id": "0wi3lhcGKGGy"
      },
      "execution_count": 62,
      "outputs": []
    },
    {
      "cell_type": "code",
      "source": [
        "a['day']= a['date'].dt.day\n",
        "a['hour']= a['date'].dt.hour\n",
        "a['minuto']= a['date'].dt.minute\n",
        "\n",
        "a1['day']= a1['date'].dt.day\n",
        "a1['hour']= a1['date'].dt.hour\n",
        "a1['minuto']= a1['date'].dt.minute"
      ],
      "metadata": {
        "id": "7cZiKsP1MmCT"
      },
      "execution_count": 63,
      "outputs": []
    },
    {
      "cell_type": "code",
      "source": [
        "a"
      ],
      "metadata": {
        "colab": {
          "base_uri": "https://localhost:8080/",
          "height": 423
        },
        "id": "ycnelwkCNtJG",
        "outputId": "74b39053-37a0-4b36-cd55-5aa216da5f1e"
      },
      "execution_count": 64,
      "outputs": [
        {
          "output_type": "execute_result",
          "data": {
            "text/plain": [
              "                    date  Temperature  Humidity  Light         CO2  \\\n",
              "1    2015-02-04 17:51:00        23.18   27.2720  426.0  721.250000   \n",
              "2    2015-02-04 17:51:59        23.15   27.2675  429.5  714.000000   \n",
              "3    2015-02-04 17:53:00        23.15   27.2450  426.0  713.500000   \n",
              "4    2015-02-04 17:54:00        23.15   27.2000  426.0  708.250000   \n",
              "5    2015-02-04 17:55:00        23.10   27.2000  426.0  704.500000   \n",
              "...                  ...          ...       ...    ...         ...   \n",
              "8139 2015-02-10 09:29:00        21.05   36.0975  433.0  787.250000   \n",
              "8140 2015-02-10 09:29:59        21.05   35.9950  433.0  789.500000   \n",
              "8141 2015-02-10 09:30:59        21.10   36.0950  433.0  798.500000   \n",
              "8142 2015-02-10 09:32:00        21.10   36.2600  433.0  820.333333   \n",
              "8143 2015-02-10 09:33:00        21.10   36.2000  447.0  821.000000   \n",
              "\n",
              "      HumidityRatio  Occupancy  day  hour  minuto  \n",
              "1          0.004793          1    4    17      51  \n",
              "2          0.004783          1    4    17      51  \n",
              "3          0.004779          1    4    17      53  \n",
              "4          0.004772          1    4    17      54  \n",
              "5          0.004757          1    4    17      55  \n",
              "...             ...        ...  ...   ...     ...  \n",
              "8139       0.005579          1   10     9      29  \n",
              "8140       0.005563          1   10     9      29  \n",
              "8141       0.005596          1   10     9      30  \n",
              "8142       0.005621          1   10     9      32  \n",
              "8143       0.005612          1   10     9      33  \n",
              "\n",
              "[8143 rows x 10 columns]"
            ],
            "text/html": [
              "\n",
              "  <div id=\"df-082bfaea-3df0-4c9a-8938-30a5effac8bc\">\n",
              "    <div class=\"colab-df-container\">\n",
              "      <div>\n",
              "<style scoped>\n",
              "    .dataframe tbody tr th:only-of-type {\n",
              "        vertical-align: middle;\n",
              "    }\n",
              "\n",
              "    .dataframe tbody tr th {\n",
              "        vertical-align: top;\n",
              "    }\n",
              "\n",
              "    .dataframe thead th {\n",
              "        text-align: right;\n",
              "    }\n",
              "</style>\n",
              "<table border=\"1\" class=\"dataframe\">\n",
              "  <thead>\n",
              "    <tr style=\"text-align: right;\">\n",
              "      <th></th>\n",
              "      <th>date</th>\n",
              "      <th>Temperature</th>\n",
              "      <th>Humidity</th>\n",
              "      <th>Light</th>\n",
              "      <th>CO2</th>\n",
              "      <th>HumidityRatio</th>\n",
              "      <th>Occupancy</th>\n",
              "      <th>day</th>\n",
              "      <th>hour</th>\n",
              "      <th>minuto</th>\n",
              "    </tr>\n",
              "  </thead>\n",
              "  <tbody>\n",
              "    <tr>\n",
              "      <th>1</th>\n",
              "      <td>2015-02-04 17:51:00</td>\n",
              "      <td>23.18</td>\n",
              "      <td>27.2720</td>\n",
              "      <td>426.0</td>\n",
              "      <td>721.250000</td>\n",
              "      <td>0.004793</td>\n",
              "      <td>1</td>\n",
              "      <td>4</td>\n",
              "      <td>17</td>\n",
              "      <td>51</td>\n",
              "    </tr>\n",
              "    <tr>\n",
              "      <th>2</th>\n",
              "      <td>2015-02-04 17:51:59</td>\n",
              "      <td>23.15</td>\n",
              "      <td>27.2675</td>\n",
              "      <td>429.5</td>\n",
              "      <td>714.000000</td>\n",
              "      <td>0.004783</td>\n",
              "      <td>1</td>\n",
              "      <td>4</td>\n",
              "      <td>17</td>\n",
              "      <td>51</td>\n",
              "    </tr>\n",
              "    <tr>\n",
              "      <th>3</th>\n",
              "      <td>2015-02-04 17:53:00</td>\n",
              "      <td>23.15</td>\n",
              "      <td>27.2450</td>\n",
              "      <td>426.0</td>\n",
              "      <td>713.500000</td>\n",
              "      <td>0.004779</td>\n",
              "      <td>1</td>\n",
              "      <td>4</td>\n",
              "      <td>17</td>\n",
              "      <td>53</td>\n",
              "    </tr>\n",
              "    <tr>\n",
              "      <th>4</th>\n",
              "      <td>2015-02-04 17:54:00</td>\n",
              "      <td>23.15</td>\n",
              "      <td>27.2000</td>\n",
              "      <td>426.0</td>\n",
              "      <td>708.250000</td>\n",
              "      <td>0.004772</td>\n",
              "      <td>1</td>\n",
              "      <td>4</td>\n",
              "      <td>17</td>\n",
              "      <td>54</td>\n",
              "    </tr>\n",
              "    <tr>\n",
              "      <th>5</th>\n",
              "      <td>2015-02-04 17:55:00</td>\n",
              "      <td>23.10</td>\n",
              "      <td>27.2000</td>\n",
              "      <td>426.0</td>\n",
              "      <td>704.500000</td>\n",
              "      <td>0.004757</td>\n",
              "      <td>1</td>\n",
              "      <td>4</td>\n",
              "      <td>17</td>\n",
              "      <td>55</td>\n",
              "    </tr>\n",
              "    <tr>\n",
              "      <th>...</th>\n",
              "      <td>...</td>\n",
              "      <td>...</td>\n",
              "      <td>...</td>\n",
              "      <td>...</td>\n",
              "      <td>...</td>\n",
              "      <td>...</td>\n",
              "      <td>...</td>\n",
              "      <td>...</td>\n",
              "      <td>...</td>\n",
              "      <td>...</td>\n",
              "    </tr>\n",
              "    <tr>\n",
              "      <th>8139</th>\n",
              "      <td>2015-02-10 09:29:00</td>\n",
              "      <td>21.05</td>\n",
              "      <td>36.0975</td>\n",
              "      <td>433.0</td>\n",
              "      <td>787.250000</td>\n",
              "      <td>0.005579</td>\n",
              "      <td>1</td>\n",
              "      <td>10</td>\n",
              "      <td>9</td>\n",
              "      <td>29</td>\n",
              "    </tr>\n",
              "    <tr>\n",
              "      <th>8140</th>\n",
              "      <td>2015-02-10 09:29:59</td>\n",
              "      <td>21.05</td>\n",
              "      <td>35.9950</td>\n",
              "      <td>433.0</td>\n",
              "      <td>789.500000</td>\n",
              "      <td>0.005563</td>\n",
              "      <td>1</td>\n",
              "      <td>10</td>\n",
              "      <td>9</td>\n",
              "      <td>29</td>\n",
              "    </tr>\n",
              "    <tr>\n",
              "      <th>8141</th>\n",
              "      <td>2015-02-10 09:30:59</td>\n",
              "      <td>21.10</td>\n",
              "      <td>36.0950</td>\n",
              "      <td>433.0</td>\n",
              "      <td>798.500000</td>\n",
              "      <td>0.005596</td>\n",
              "      <td>1</td>\n",
              "      <td>10</td>\n",
              "      <td>9</td>\n",
              "      <td>30</td>\n",
              "    </tr>\n",
              "    <tr>\n",
              "      <th>8142</th>\n",
              "      <td>2015-02-10 09:32:00</td>\n",
              "      <td>21.10</td>\n",
              "      <td>36.2600</td>\n",
              "      <td>433.0</td>\n",
              "      <td>820.333333</td>\n",
              "      <td>0.005621</td>\n",
              "      <td>1</td>\n",
              "      <td>10</td>\n",
              "      <td>9</td>\n",
              "      <td>32</td>\n",
              "    </tr>\n",
              "    <tr>\n",
              "      <th>8143</th>\n",
              "      <td>2015-02-10 09:33:00</td>\n",
              "      <td>21.10</td>\n",
              "      <td>36.2000</td>\n",
              "      <td>447.0</td>\n",
              "      <td>821.000000</td>\n",
              "      <td>0.005612</td>\n",
              "      <td>1</td>\n",
              "      <td>10</td>\n",
              "      <td>9</td>\n",
              "      <td>33</td>\n",
              "    </tr>\n",
              "  </tbody>\n",
              "</table>\n",
              "<p>8143 rows × 10 columns</p>\n",
              "</div>\n",
              "      <button class=\"colab-df-convert\" onclick=\"convertToInteractive('df-082bfaea-3df0-4c9a-8938-30a5effac8bc')\"\n",
              "              title=\"Convert this dataframe to an interactive table.\"\n",
              "              style=\"display:none;\">\n",
              "        \n",
              "  <svg xmlns=\"http://www.w3.org/2000/svg\" height=\"24px\"viewBox=\"0 0 24 24\"\n",
              "       width=\"24px\">\n",
              "    <path d=\"M0 0h24v24H0V0z\" fill=\"none\"/>\n",
              "    <path d=\"M18.56 5.44l.94 2.06.94-2.06 2.06-.94-2.06-.94-.94-2.06-.94 2.06-2.06.94zm-11 1L8.5 8.5l.94-2.06 2.06-.94-2.06-.94L8.5 2.5l-.94 2.06-2.06.94zm10 10l.94 2.06.94-2.06 2.06-.94-2.06-.94-.94-2.06-.94 2.06-2.06.94z\"/><path d=\"M17.41 7.96l-1.37-1.37c-.4-.4-.92-.59-1.43-.59-.52 0-1.04.2-1.43.59L10.3 9.45l-7.72 7.72c-.78.78-.78 2.05 0 2.83L4 21.41c.39.39.9.59 1.41.59.51 0 1.02-.2 1.41-.59l7.78-7.78 2.81-2.81c.8-.78.8-2.07 0-2.86zM5.41 20L4 18.59l7.72-7.72 1.47 1.35L5.41 20z\"/>\n",
              "  </svg>\n",
              "      </button>\n",
              "      \n",
              "  <style>\n",
              "    .colab-df-container {\n",
              "      display:flex;\n",
              "      flex-wrap:wrap;\n",
              "      gap: 12px;\n",
              "    }\n",
              "\n",
              "    .colab-df-convert {\n",
              "      background-color: #E8F0FE;\n",
              "      border: none;\n",
              "      border-radius: 50%;\n",
              "      cursor: pointer;\n",
              "      display: none;\n",
              "      fill: #1967D2;\n",
              "      height: 32px;\n",
              "      padding: 0 0 0 0;\n",
              "      width: 32px;\n",
              "    }\n",
              "\n",
              "    .colab-df-convert:hover {\n",
              "      background-color: #E2EBFA;\n",
              "      box-shadow: 0px 1px 2px rgba(60, 64, 67, 0.3), 0px 1px 3px 1px rgba(60, 64, 67, 0.15);\n",
              "      fill: #174EA6;\n",
              "    }\n",
              "\n",
              "    [theme=dark] .colab-df-convert {\n",
              "      background-color: #3B4455;\n",
              "      fill: #D2E3FC;\n",
              "    }\n",
              "\n",
              "    [theme=dark] .colab-df-convert:hover {\n",
              "      background-color: #434B5C;\n",
              "      box-shadow: 0px 1px 3px 1px rgba(0, 0, 0, 0.15);\n",
              "      filter: drop-shadow(0px 1px 2px rgba(0, 0, 0, 0.3));\n",
              "      fill: #FFFFFF;\n",
              "    }\n",
              "  </style>\n",
              "\n",
              "      <script>\n",
              "        const buttonEl =\n",
              "          document.querySelector('#df-082bfaea-3df0-4c9a-8938-30a5effac8bc button.colab-df-convert');\n",
              "        buttonEl.style.display =\n",
              "          google.colab.kernel.accessAllowed ? 'block' : 'none';\n",
              "\n",
              "        async function convertToInteractive(key) {\n",
              "          const element = document.querySelector('#df-082bfaea-3df0-4c9a-8938-30a5effac8bc');\n",
              "          const dataTable =\n",
              "            await google.colab.kernel.invokeFunction('convertToInteractive',\n",
              "                                                     [key], {});\n",
              "          if (!dataTable) return;\n",
              "\n",
              "          const docLinkHtml = 'Like what you see? Visit the ' +\n",
              "            '<a target=\"_blank\" href=https://colab.research.google.com/notebooks/data_table.ipynb>data table notebook</a>'\n",
              "            + ' to learn more about interactive tables.';\n",
              "          element.innerHTML = '';\n",
              "          dataTable['output_type'] = 'display_data';\n",
              "          await google.colab.output.renderOutput(dataTable, element);\n",
              "          const docLink = document.createElement('div');\n",
              "          docLink.innerHTML = docLinkHtml;\n",
              "          element.appendChild(docLink);\n",
              "        }\n",
              "      </script>\n",
              "    </div>\n",
              "  </div>\n",
              "  "
            ]
          },
          "metadata": {},
          "execution_count": 64
        }
      ]
    },
    {
      "cell_type": "code",
      "source": [
        "a.describe()"
      ],
      "metadata": {
        "colab": {
          "base_uri": "https://localhost:8080/",
          "height": 300
        },
        "id": "J_6Zpknx__Ub",
        "outputId": "84269f68-0064-4918-90d1-3e29b5a47e9a"
      },
      "execution_count": 65,
      "outputs": [
        {
          "output_type": "execute_result",
          "data": {
            "text/plain": [
              "       Temperature     Humidity        Light          CO2  HumidityRatio  \\\n",
              "count  8143.000000  8143.000000  8143.000000  8143.000000    8143.000000   \n",
              "mean     20.619084    25.731507   119.519375   606.546243       0.003863   \n",
              "std       1.016916     5.531211   194.755805   314.320877       0.000852   \n",
              "min      19.000000    16.745000     0.000000   412.750000       0.002674   \n",
              "25%      19.700000    20.200000     0.000000   439.000000       0.003078   \n",
              "50%      20.390000    26.222500     0.000000   453.500000       0.003801   \n",
              "75%      21.390000    30.533333   256.375000   638.833333       0.004352   \n",
              "max      23.180000    39.117500  1546.333333  2028.500000       0.006476   \n",
              "\n",
              "         Occupancy          day         hour       minuto  \n",
              "count  8143.000000  8143.000000  8143.000000  8143.000000  \n",
              "mean      0.212330     7.075525    11.390642    29.494290  \n",
              "std       0.408982     1.674896     7.092195    17.314343  \n",
              "min       0.000000     4.000000     0.000000     0.000000  \n",
              "25%       0.000000     6.000000     5.000000    14.000000  \n",
              "50%       0.000000     7.000000    11.000000    29.000000  \n",
              "75%       0.000000     8.000000    18.000000    44.000000  \n",
              "max       1.000000    10.000000    23.000000    59.000000  "
            ],
            "text/html": [
              "\n",
              "  <div id=\"df-88bb8e78-00ba-42b0-bc65-a5153cd92824\">\n",
              "    <div class=\"colab-df-container\">\n",
              "      <div>\n",
              "<style scoped>\n",
              "    .dataframe tbody tr th:only-of-type {\n",
              "        vertical-align: middle;\n",
              "    }\n",
              "\n",
              "    .dataframe tbody tr th {\n",
              "        vertical-align: top;\n",
              "    }\n",
              "\n",
              "    .dataframe thead th {\n",
              "        text-align: right;\n",
              "    }\n",
              "</style>\n",
              "<table border=\"1\" class=\"dataframe\">\n",
              "  <thead>\n",
              "    <tr style=\"text-align: right;\">\n",
              "      <th></th>\n",
              "      <th>Temperature</th>\n",
              "      <th>Humidity</th>\n",
              "      <th>Light</th>\n",
              "      <th>CO2</th>\n",
              "      <th>HumidityRatio</th>\n",
              "      <th>Occupancy</th>\n",
              "      <th>day</th>\n",
              "      <th>hour</th>\n",
              "      <th>minuto</th>\n",
              "    </tr>\n",
              "  </thead>\n",
              "  <tbody>\n",
              "    <tr>\n",
              "      <th>count</th>\n",
              "      <td>8143.000000</td>\n",
              "      <td>8143.000000</td>\n",
              "      <td>8143.000000</td>\n",
              "      <td>8143.000000</td>\n",
              "      <td>8143.000000</td>\n",
              "      <td>8143.000000</td>\n",
              "      <td>8143.000000</td>\n",
              "      <td>8143.000000</td>\n",
              "      <td>8143.000000</td>\n",
              "    </tr>\n",
              "    <tr>\n",
              "      <th>mean</th>\n",
              "      <td>20.619084</td>\n",
              "      <td>25.731507</td>\n",
              "      <td>119.519375</td>\n",
              "      <td>606.546243</td>\n",
              "      <td>0.003863</td>\n",
              "      <td>0.212330</td>\n",
              "      <td>7.075525</td>\n",
              "      <td>11.390642</td>\n",
              "      <td>29.494290</td>\n",
              "    </tr>\n",
              "    <tr>\n",
              "      <th>std</th>\n",
              "      <td>1.016916</td>\n",
              "      <td>5.531211</td>\n",
              "      <td>194.755805</td>\n",
              "      <td>314.320877</td>\n",
              "      <td>0.000852</td>\n",
              "      <td>0.408982</td>\n",
              "      <td>1.674896</td>\n",
              "      <td>7.092195</td>\n",
              "      <td>17.314343</td>\n",
              "    </tr>\n",
              "    <tr>\n",
              "      <th>min</th>\n",
              "      <td>19.000000</td>\n",
              "      <td>16.745000</td>\n",
              "      <td>0.000000</td>\n",
              "      <td>412.750000</td>\n",
              "      <td>0.002674</td>\n",
              "      <td>0.000000</td>\n",
              "      <td>4.000000</td>\n",
              "      <td>0.000000</td>\n",
              "      <td>0.000000</td>\n",
              "    </tr>\n",
              "    <tr>\n",
              "      <th>25%</th>\n",
              "      <td>19.700000</td>\n",
              "      <td>20.200000</td>\n",
              "      <td>0.000000</td>\n",
              "      <td>439.000000</td>\n",
              "      <td>0.003078</td>\n",
              "      <td>0.000000</td>\n",
              "      <td>6.000000</td>\n",
              "      <td>5.000000</td>\n",
              "      <td>14.000000</td>\n",
              "    </tr>\n",
              "    <tr>\n",
              "      <th>50%</th>\n",
              "      <td>20.390000</td>\n",
              "      <td>26.222500</td>\n",
              "      <td>0.000000</td>\n",
              "      <td>453.500000</td>\n",
              "      <td>0.003801</td>\n",
              "      <td>0.000000</td>\n",
              "      <td>7.000000</td>\n",
              "      <td>11.000000</td>\n",
              "      <td>29.000000</td>\n",
              "    </tr>\n",
              "    <tr>\n",
              "      <th>75%</th>\n",
              "      <td>21.390000</td>\n",
              "      <td>30.533333</td>\n",
              "      <td>256.375000</td>\n",
              "      <td>638.833333</td>\n",
              "      <td>0.004352</td>\n",
              "      <td>0.000000</td>\n",
              "      <td>8.000000</td>\n",
              "      <td>18.000000</td>\n",
              "      <td>44.000000</td>\n",
              "    </tr>\n",
              "    <tr>\n",
              "      <th>max</th>\n",
              "      <td>23.180000</td>\n",
              "      <td>39.117500</td>\n",
              "      <td>1546.333333</td>\n",
              "      <td>2028.500000</td>\n",
              "      <td>0.006476</td>\n",
              "      <td>1.000000</td>\n",
              "      <td>10.000000</td>\n",
              "      <td>23.000000</td>\n",
              "      <td>59.000000</td>\n",
              "    </tr>\n",
              "  </tbody>\n",
              "</table>\n",
              "</div>\n",
              "      <button class=\"colab-df-convert\" onclick=\"convertToInteractive('df-88bb8e78-00ba-42b0-bc65-a5153cd92824')\"\n",
              "              title=\"Convert this dataframe to an interactive table.\"\n",
              "              style=\"display:none;\">\n",
              "        \n",
              "  <svg xmlns=\"http://www.w3.org/2000/svg\" height=\"24px\"viewBox=\"0 0 24 24\"\n",
              "       width=\"24px\">\n",
              "    <path d=\"M0 0h24v24H0V0z\" fill=\"none\"/>\n",
              "    <path d=\"M18.56 5.44l.94 2.06.94-2.06 2.06-.94-2.06-.94-.94-2.06-.94 2.06-2.06.94zm-11 1L8.5 8.5l.94-2.06 2.06-.94-2.06-.94L8.5 2.5l-.94 2.06-2.06.94zm10 10l.94 2.06.94-2.06 2.06-.94-2.06-.94-.94-2.06-.94 2.06-2.06.94z\"/><path d=\"M17.41 7.96l-1.37-1.37c-.4-.4-.92-.59-1.43-.59-.52 0-1.04.2-1.43.59L10.3 9.45l-7.72 7.72c-.78.78-.78 2.05 0 2.83L4 21.41c.39.39.9.59 1.41.59.51 0 1.02-.2 1.41-.59l7.78-7.78 2.81-2.81c.8-.78.8-2.07 0-2.86zM5.41 20L4 18.59l7.72-7.72 1.47 1.35L5.41 20z\"/>\n",
              "  </svg>\n",
              "      </button>\n",
              "      \n",
              "  <style>\n",
              "    .colab-df-container {\n",
              "      display:flex;\n",
              "      flex-wrap:wrap;\n",
              "      gap: 12px;\n",
              "    }\n",
              "\n",
              "    .colab-df-convert {\n",
              "      background-color: #E8F0FE;\n",
              "      border: none;\n",
              "      border-radius: 50%;\n",
              "      cursor: pointer;\n",
              "      display: none;\n",
              "      fill: #1967D2;\n",
              "      height: 32px;\n",
              "      padding: 0 0 0 0;\n",
              "      width: 32px;\n",
              "    }\n",
              "\n",
              "    .colab-df-convert:hover {\n",
              "      background-color: #E2EBFA;\n",
              "      box-shadow: 0px 1px 2px rgba(60, 64, 67, 0.3), 0px 1px 3px 1px rgba(60, 64, 67, 0.15);\n",
              "      fill: #174EA6;\n",
              "    }\n",
              "\n",
              "    [theme=dark] .colab-df-convert {\n",
              "      background-color: #3B4455;\n",
              "      fill: #D2E3FC;\n",
              "    }\n",
              "\n",
              "    [theme=dark] .colab-df-convert:hover {\n",
              "      background-color: #434B5C;\n",
              "      box-shadow: 0px 1px 3px 1px rgba(0, 0, 0, 0.15);\n",
              "      filter: drop-shadow(0px 1px 2px rgba(0, 0, 0, 0.3));\n",
              "      fill: #FFFFFF;\n",
              "    }\n",
              "  </style>\n",
              "\n",
              "      <script>\n",
              "        const buttonEl =\n",
              "          document.querySelector('#df-88bb8e78-00ba-42b0-bc65-a5153cd92824 button.colab-df-convert');\n",
              "        buttonEl.style.display =\n",
              "          google.colab.kernel.accessAllowed ? 'block' : 'none';\n",
              "\n",
              "        async function convertToInteractive(key) {\n",
              "          const element = document.querySelector('#df-88bb8e78-00ba-42b0-bc65-a5153cd92824');\n",
              "          const dataTable =\n",
              "            await google.colab.kernel.invokeFunction('convertToInteractive',\n",
              "                                                     [key], {});\n",
              "          if (!dataTable) return;\n",
              "\n",
              "          const docLinkHtml = 'Like what you see? Visit the ' +\n",
              "            '<a target=\"_blank\" href=https://colab.research.google.com/notebooks/data_table.ipynb>data table notebook</a>'\n",
              "            + ' to learn more about interactive tables.';\n",
              "          element.innerHTML = '';\n",
              "          dataTable['output_type'] = 'display_data';\n",
              "          await google.colab.output.renderOutput(dataTable, element);\n",
              "          const docLink = document.createElement('div');\n",
              "          docLink.innerHTML = docLinkHtml;\n",
              "          element.appendChild(docLink);\n",
              "        }\n",
              "      </script>\n",
              "    </div>\n",
              "  </div>\n",
              "  "
            ]
          },
          "metadata": {},
          "execution_count": 65
        }
      ]
    },
    {
      "cell_type": "markdown",
      "source": [
        "**Ocupación**\n",
        "\n",
        "toma el valor de 1 para evaluar si un terreno esta ocupado o 0 en caso contrario."
      ],
      "metadata": {
        "id": "NzR6MzNj_n7r"
      }
    },
    {
      "cell_type": "markdown",
      "source": [
        "**date**\n",
        "\n",
        "Hace referencia a la fecha en la que se tomo la fotografia del terreno. Para este caso separaremos los datos en Dia, hora y minuto. *El mes y el año no aportan valor al SVM, porque fueron tomados en el 2015 para el mes de febrero.*\n",
        "\n",
        "**temperatura**\n",
        "hace referencia a la temperatura del territorio, se esperaría que aumentara cuando existe ocupación.\n",
        "\n",
        "**humedad y humidityRatio**\n",
        "Hace referencia a la humedad del espacio, se esperaría que aumentara cuando existe ocupación. \n",
        "\n",
        "**luminocidad**\n",
        "\n",
        "Hace referencia a ciertas caracteristicas de la lumnocidad. este puede tener muchos impactos en generar falsos positivos. Porque comunmente en horas diurnas la luminocidad va a ser alta, pero puede que en algunos casos este vacio.\n",
        "\n",
        "**CO2**\n",
        "\n",
        "Hace referencia a una medida de ambiente. Se espera que fuera diferente cuando existe ocupación.\n",
        "\n"
      ],
      "metadata": {
        "id": "ub8Tvyqv3NwO"
      }
    },
    {
      "cell_type": "markdown",
      "source": [
        "3) Please answer the following questions: a) Are these datasets linearly separable? b) Are these datasets randomly chosen and c) The sample size is enough to guarantee generalization.\n",
        "\n",
        "**2.3.A son estos datos linealmente separables**\n",
        "\n",
        "Para este modelo usaremos SVM para evaluar si los datos son linealmente separables\n",
        "\n",
        "**2.3.B son estos datos aleatoriamente elegidos**\n",
        "\n",
        "Para este caso no necesariamente son datos aleatoriamente escogidos. Pues se tomaron en una cierta fecha. lo cual ya implica una limitación de los limites superior e inferior de la selección. Esto implica de Dendencia en los factores ambientales, con los cuales se definio la muestra. Razon por la cual, no permite considerar una aleatoriedad en el muestreo y reduce el poder de usar una herramienta de clasificación.\n",
        "\n",
        "**2.3.C la muestra garantiza generalización**\n",
        "\n",
        "la prueba garantiza generalización unicamente para este espacio y para esta epoca de febrero. cuando cambien las condiciones ambientales o se presente un cambio de estación, posiblemente el modelo ya no generalize de la misma manera."
      ],
      "metadata": {
        "id": "5PKnXMEED6Qx"
      }
    },
    {
      "cell_type": "markdown",
      "source": [
        "**2.4 uso de SVM para construir un identificador**"
      ],
      "metadata": {
        "id": "NfQznpJFI9Jm"
      }
    },
    {
      "cell_type": "code",
      "source": [
        "a_t1x = a[[\"Temperature\",\t\"Humidity\",\t\"Light\",\t\"CO2\",\t\"HumidityRatio\", \"day\",\t\"hour\",\t\"minuto\"]]\n",
        "a_t1y = a[[\"Occupancy\"]]\n",
        "X = a_t1x.to_numpy()\n",
        "y = np.ravel(a_t1y)\n",
        "clf = make_pipeline(StandardScaler(), LinearSVC(random_state=0, tol=1e-5))\n",
        "clf.fit(X, y)"
      ],
      "metadata": {
        "colab": {
          "base_uri": "https://localhost:8080/",
          "height": 164
        },
        "id": "s5J9w3-lJNp0",
        "outputId": "62a799ed-0095-474b-d624-74b5b9d674f0"
      },
      "execution_count": 66,
      "outputs": [
        {
          "output_type": "stream",
          "name": "stderr",
          "text": [
            "/usr/local/lib/python3.9/dist-packages/sklearn/svm/_base.py:1244: ConvergenceWarning: Liblinear failed to converge, increase the number of iterations.\n",
            "  warnings.warn(\n"
          ]
        },
        {
          "output_type": "execute_result",
          "data": {
            "text/plain": [
              "Pipeline(steps=[('standardscaler', StandardScaler()),\n",
              "                ('linearsvc', LinearSVC(random_state=0, tol=1e-05))])"
            ],
            "text/html": [
              "<style>#sk-container-id-3 {color: black;background-color: white;}#sk-container-id-3 pre{padding: 0;}#sk-container-id-3 div.sk-toggleable {background-color: white;}#sk-container-id-3 label.sk-toggleable__label {cursor: pointer;display: block;width: 100%;margin-bottom: 0;padding: 0.3em;box-sizing: border-box;text-align: center;}#sk-container-id-3 label.sk-toggleable__label-arrow:before {content: \"▸\";float: left;margin-right: 0.25em;color: #696969;}#sk-container-id-3 label.sk-toggleable__label-arrow:hover:before {color: black;}#sk-container-id-3 div.sk-estimator:hover label.sk-toggleable__label-arrow:before {color: black;}#sk-container-id-3 div.sk-toggleable__content {max-height: 0;max-width: 0;overflow: hidden;text-align: left;background-color: #f0f8ff;}#sk-container-id-3 div.sk-toggleable__content pre {margin: 0.2em;color: black;border-radius: 0.25em;background-color: #f0f8ff;}#sk-container-id-3 input.sk-toggleable__control:checked~div.sk-toggleable__content {max-height: 200px;max-width: 100%;overflow: auto;}#sk-container-id-3 input.sk-toggleable__control:checked~label.sk-toggleable__label-arrow:before {content: \"▾\";}#sk-container-id-3 div.sk-estimator input.sk-toggleable__control:checked~label.sk-toggleable__label {background-color: #d4ebff;}#sk-container-id-3 div.sk-label input.sk-toggleable__control:checked~label.sk-toggleable__label {background-color: #d4ebff;}#sk-container-id-3 input.sk-hidden--visually {border: 0;clip: rect(1px 1px 1px 1px);clip: rect(1px, 1px, 1px, 1px);height: 1px;margin: -1px;overflow: hidden;padding: 0;position: absolute;width: 1px;}#sk-container-id-3 div.sk-estimator {font-family: monospace;background-color: #f0f8ff;border: 1px dotted black;border-radius: 0.25em;box-sizing: border-box;margin-bottom: 0.5em;}#sk-container-id-3 div.sk-estimator:hover {background-color: #d4ebff;}#sk-container-id-3 div.sk-parallel-item::after {content: \"\";width: 100%;border-bottom: 1px solid gray;flex-grow: 1;}#sk-container-id-3 div.sk-label:hover label.sk-toggleable__label {background-color: #d4ebff;}#sk-container-id-3 div.sk-serial::before {content: \"\";position: absolute;border-left: 1px solid gray;box-sizing: border-box;top: 0;bottom: 0;left: 50%;z-index: 0;}#sk-container-id-3 div.sk-serial {display: flex;flex-direction: column;align-items: center;background-color: white;padding-right: 0.2em;padding-left: 0.2em;position: relative;}#sk-container-id-3 div.sk-item {position: relative;z-index: 1;}#sk-container-id-3 div.sk-parallel {display: flex;align-items: stretch;justify-content: center;background-color: white;position: relative;}#sk-container-id-3 div.sk-item::before, #sk-container-id-3 div.sk-parallel-item::before {content: \"\";position: absolute;border-left: 1px solid gray;box-sizing: border-box;top: 0;bottom: 0;left: 50%;z-index: -1;}#sk-container-id-3 div.sk-parallel-item {display: flex;flex-direction: column;z-index: 1;position: relative;background-color: white;}#sk-container-id-3 div.sk-parallel-item:first-child::after {align-self: flex-end;width: 50%;}#sk-container-id-3 div.sk-parallel-item:last-child::after {align-self: flex-start;width: 50%;}#sk-container-id-3 div.sk-parallel-item:only-child::after {width: 0;}#sk-container-id-3 div.sk-dashed-wrapped {border: 1px dashed gray;margin: 0 0.4em 0.5em 0.4em;box-sizing: border-box;padding-bottom: 0.4em;background-color: white;}#sk-container-id-3 div.sk-label label {font-family: monospace;font-weight: bold;display: inline-block;line-height: 1.2em;}#sk-container-id-3 div.sk-label-container {text-align: center;}#sk-container-id-3 div.sk-container {/* jupyter's `normalize.less` sets `[hidden] { display: none; }` but bootstrap.min.css set `[hidden] { display: none !important; }` so we also need the `!important` here to be able to override the default hidden behavior on the sphinx rendered scikit-learn.org. See: https://github.com/scikit-learn/scikit-learn/issues/21755 */display: inline-block !important;position: relative;}#sk-container-id-3 div.sk-text-repr-fallback {display: none;}</style><div id=\"sk-container-id-3\" class=\"sk-top-container\"><div class=\"sk-text-repr-fallback\"><pre>Pipeline(steps=[(&#x27;standardscaler&#x27;, StandardScaler()),\n",
              "                (&#x27;linearsvc&#x27;, LinearSVC(random_state=0, tol=1e-05))])</pre><b>In a Jupyter environment, please rerun this cell to show the HTML representation or trust the notebook. <br />On GitHub, the HTML representation is unable to render, please try loading this page with nbviewer.org.</b></div><div class=\"sk-container\" hidden><div class=\"sk-item sk-dashed-wrapped\"><div class=\"sk-label-container\"><div class=\"sk-label sk-toggleable\"><input class=\"sk-toggleable__control sk-hidden--visually\" id=\"sk-estimator-id-7\" type=\"checkbox\" ><label for=\"sk-estimator-id-7\" class=\"sk-toggleable__label sk-toggleable__label-arrow\">Pipeline</label><div class=\"sk-toggleable__content\"><pre>Pipeline(steps=[(&#x27;standardscaler&#x27;, StandardScaler()),\n",
              "                (&#x27;linearsvc&#x27;, LinearSVC(random_state=0, tol=1e-05))])</pre></div></div></div><div class=\"sk-serial\"><div class=\"sk-item\"><div class=\"sk-estimator sk-toggleable\"><input class=\"sk-toggleable__control sk-hidden--visually\" id=\"sk-estimator-id-8\" type=\"checkbox\" ><label for=\"sk-estimator-id-8\" class=\"sk-toggleable__label sk-toggleable__label-arrow\">StandardScaler</label><div class=\"sk-toggleable__content\"><pre>StandardScaler()</pre></div></div></div><div class=\"sk-item\"><div class=\"sk-estimator sk-toggleable\"><input class=\"sk-toggleable__control sk-hidden--visually\" id=\"sk-estimator-id-9\" type=\"checkbox\" ><label for=\"sk-estimator-id-9\" class=\"sk-toggleable__label sk-toggleable__label-arrow\">LinearSVC</label><div class=\"sk-toggleable__content\"><pre>LinearSVC(random_state=0, tol=1e-05)</pre></div></div></div></div></div></div></div>"
            ]
          },
          "metadata": {},
          "execution_count": 66
        }
      ]
    },
    {
      "cell_type": "code",
      "source": [
        "a_test11 = a1[[\"Temperature\",\t\"Humidity\",\t\"Light\",\t\"CO2\",\t\"HumidityRatio\", \"day\",\t\"hour\",\t\"minuto\"]]\n",
        "a_test1y = a1[[\"Occupancy\"]]\n",
        "Xtest = a_test11.to_numpy()\n",
        "ytest = a_test1y.to_numpy()\n",
        "ypredict = clf.predict(Xtest)"
      ],
      "metadata": {
        "id": "GRQyqWwLQ_oR"
      },
      "execution_count": 67,
      "outputs": []
    },
    {
      "cell_type": "code",
      "source": [
        "list_2 = ypredict.tolist()\n",
        "print(list_2)\n",
        "list_1 = a1[\"Occupancy\"].values.tolist()\n",
        "print(list_1)\n",
        "testeo = pd.DataFrame({'valor_verdadero':list_1, 'valor_estimado':list_2})\n",
        "testeo\n",
        "filtro2 = testeo['valor_verdadero'] == testeo['valor_estimado']\n",
        "filtro3 = testeo['valor_verdadero'] != testeo['valor_estimado']\n",
        "testeo.loc[filtro2, 'resultado'] = 'acerto'\n",
        "testeo.loc[filtro3, 'resultado'] = 'no acerto'\n",
        "testeo"
      ],
      "metadata": {
        "colab": {
          "base_uri": "https://localhost:8080/",
          "height": 480
        },
        "id": "1WOYYXbbRksH",
        "outputId": "8db761b6-cda0-4922-a958-20d25e152309"
      },
      "execution_count": 68,
      "outputs": [
        {
          "output_type": "stream",
          "name": "stdout",
          "text": [
            "[1, 1, 1, 1, 1, 1, 1, 1, 1, 1, 1, 1, 1, 1, 1, 1, 1, 1, 1, 1, 1, 1, 1, 1, 1, 1, 1, 1, 1, 1, 1, 1, 1, 1, 1, 1, 1, 1, 1, 1, 1, 1, 1, 1, 1, 1, 1, 1, 1, 1, 1, 1, 1, 1, 1, 1, 1, 1, 1, 1, 1, 1, 1, 1, 1, 1, 1, 1, 1, 1, 1, 1, 1, 1, 1, 1, 1, 1, 1, 1, 1, 1, 1, 1, 1, 1, 1, 1, 1, 1, 1, 1, 1, 1, 1, 1, 1, 1, 1, 1, 1, 1, 1, 1, 1, 1, 1, 1, 1, 1, 1, 1, 1, 1, 1, 1, 1, 1, 1, 1, 1, 1, 1, 1, 1, 1, 1, 1, 1, 1, 1, 1, 1, 1, 1, 1, 1, 1, 1, 1, 1, 1, 1, 1, 1, 1, 1, 1, 1, 1, 1, 1, 1, 1, 1, 1, 1, 1, 1, 1, 1, 1, 1, 1, 1, 1, 1, 1, 1, 1, 1, 1, 1, 1, 1, 1, 1, 1, 1, 1, 1, 1, 1, 1, 1, 1, 1, 1, 1, 1, 1, 1, 1, 1, 1, 1, 1, 1, 1, 1, 1, 1, 1, 1, 1, 1, 1, 1, 1, 1, 1, 1, 1, 1, 1, 1, 1, 1, 1, 1, 1, 1, 1, 1, 1, 1, 0, 0, 0, 0, 0, 0, 0, 0, 0, 0, 0, 0, 0, 0, 0, 0, 0, 0, 0, 0, 0, 0, 0, 0, 0, 0, 0, 0, 0, 0, 0, 0, 0, 0, 0, 0, 0, 0, 0, 0, 0, 0, 0, 0, 0, 0, 0, 0, 0, 0, 0, 0, 0, 0, 0, 0, 0, 0, 0, 0, 0, 0, 0, 0, 0, 0, 0, 0, 0, 0, 0, 0, 0, 0, 0, 0, 0, 0, 0, 0, 0, 0, 0, 0, 0, 0, 0, 0, 0, 0, 0, 0, 0, 0, 0, 0, 0, 0, 0, 0, 0, 0, 0, 0, 0, 0, 0, 0, 0, 0, 0, 0, 0, 0, 0, 0, 0, 0, 0, 0, 0, 0, 0, 0, 0, 0, 0, 0, 0, 0, 0, 0, 0, 0, 0, 0, 0, 0, 0, 0, 0, 0, 0, 0, 0, 0, 0, 0, 0, 0, 0, 0, 0, 0, 0, 0, 0, 0, 0, 0, 0, 0, 0, 0, 0, 0, 0, 0, 0, 0, 0, 0, 0, 0, 0, 0, 0, 0, 0, 0, 0, 0, 0, 0, 0, 0, 0, 0, 0, 0, 0, 0, 0, 0, 0, 0, 0, 0, 0, 0, 0, 0, 0, 0, 0, 0, 0, 0, 0, 0, 0, 0, 0, 0, 0, 0, 0, 0, 0, 0, 0, 0, 0, 0, 0, 0, 0, 0, 0, 0, 0, 0, 0, 0, 0, 0, 0, 0, 0, 0, 0, 0, 0, 0, 0, 0, 0, 0, 0, 0, 0, 0, 0, 0, 0, 0, 0, 0, 0, 0, 0, 0, 0, 0, 0, 0, 0, 0, 0, 0, 0, 0, 0, 0, 0, 0, 0, 0, 0, 0, 0, 0, 0, 0, 0, 0, 0, 0, 0, 0, 0, 0, 0, 0, 0, 0, 0, 0, 0, 0, 0, 0, 0, 0, 0, 0, 0, 0, 0, 0, 0, 0, 0, 0, 0, 0, 0, 0, 0, 0, 0, 0, 0, 0, 0, 0, 0, 0, 0, 0, 0, 0, 0, 0, 0, 0, 0, 0, 0, 0, 0, 0, 0, 0, 0, 0, 0, 0, 0, 0, 0, 0, 0, 0, 0, 0, 0, 0, 0, 0, 0, 0, 0, 0, 0, 0, 0, 0, 0, 0, 0, 0, 0, 0, 0, 0, 0, 0, 0, 0, 0, 0, 0, 0, 0, 0, 0, 0, 0, 0, 0, 0, 0, 0, 0, 0, 0, 0, 0, 0, 0, 0, 0, 0, 0, 0, 0, 0, 0, 0, 0, 0, 0, 0, 0, 0, 0, 0, 0, 0, 0, 0, 0, 0, 0, 0, 0, 0, 0, 0, 0, 0, 0, 0, 0, 0, 0, 0, 0, 0, 0, 0, 0, 0, 0, 0, 0, 0, 0, 0, 0, 0, 0, 0, 0, 0, 0, 0, 0, 0, 0, 0, 0, 0, 0, 0, 0, 0, 0, 0, 0, 0, 0, 0, 0, 0, 0, 0, 0, 0, 0, 0, 0, 0, 0, 0, 0, 0, 0, 0, 0, 0, 0, 0, 0, 0, 0, 0, 0, 0, 0, 0, 0, 0, 0, 0, 0, 0, 0, 0, 0, 0, 0, 0, 0, 0, 0, 0, 0, 0, 0, 0, 0, 0, 0, 0, 0, 0, 0, 0, 0, 0, 0, 0, 0, 0, 0, 0, 0, 0, 0, 0, 0, 0, 0, 0, 0, 0, 0, 0, 0, 0, 0, 0, 0, 0, 0, 0, 0, 0, 0, 0, 0, 0, 0, 0, 0, 0, 0, 0, 0, 0, 0, 0, 0, 0, 0, 0, 0, 0, 0, 0, 0, 0, 0, 0, 0, 0, 0, 0, 0, 0, 0, 0, 0, 0, 0, 0, 0, 0, 0, 0, 0, 0, 0, 0, 0, 0, 0, 0, 0, 0, 0, 0, 0, 0, 0, 0, 0, 0, 0, 0, 0, 0, 0, 0, 0, 0, 0, 0, 0, 0, 0, 0, 0, 0, 0, 0, 0, 0, 0, 0, 0, 0, 0, 0, 0, 0, 0, 0, 0, 0, 0, 0, 0, 0, 0, 0, 0, 0, 0, 0, 0, 0, 0, 0, 0, 0, 0, 0, 0, 0, 0, 0, 0, 0, 0, 0, 0, 0, 0, 0, 0, 0, 0, 0, 0, 0, 0, 0, 0, 0, 0, 0, 0, 0, 0, 0, 0, 0, 0, 0, 0, 0, 0, 0, 0, 0, 0, 0, 0, 0, 0, 0, 0, 0, 0, 0, 0, 0, 0, 0, 0, 0, 0, 0, 0, 0, 0, 0, 0, 0, 0, 0, 0, 0, 0, 0, 0, 0, 0, 0, 0, 0, 0, 0, 0, 0, 0, 0, 0, 0, 0, 0, 0, 0, 0, 0, 0, 0, 0, 0, 0, 0, 0, 0, 0, 0, 0, 0, 0, 0, 0, 0, 0, 0, 0, 0, 0, 0, 0, 0, 0, 0, 0, 0, 0, 0, 0, 0, 0, 0, 0, 0, 0, 0, 0, 0, 0, 0, 0, 0, 0, 0, 0, 0, 0, 0, 0, 0, 0, 1, 1, 1, 1, 1, 1, 1, 1, 1, 1, 1, 1, 1, 1, 1, 1, 1, 1, 1, 1, 1, 1, 1, 1, 1, 1, 1, 1, 1, 1, 1, 1, 1, 1, 1, 1, 1, 1, 1, 1, 1, 1, 1, 1, 1, 1, 1, 1, 1, 1, 1, 1, 1, 1, 1, 1, 1, 1, 1, 1, 1, 1, 1, 1, 1, 1, 1, 1, 1, 1, 1, 1, 1, 1, 1, 1, 1, 1, 1, 1, 1, 1, 1, 1, 1, 1, 1, 1, 1, 1, 1, 1, 1, 1, 1, 1, 1, 1, 1, 1, 1, 1, 1, 1, 1, 1, 1, 1, 1, 1, 1, 1, 1, 1, 1, 1, 1, 1, 1, 1, 1, 1, 1, 1, 1, 1, 1, 1, 1, 1, 1, 1, 1, 1, 1, 1, 1, 1, 1, 1, 1, 1, 1, 1, 1, 1, 1, 1, 1, 1, 1, 1, 1, 1, 1, 1, 1, 1, 1, 1, 1, 1, 1, 1, 1, 1, 1, 1, 1, 1, 1, 1, 1, 1, 1, 1, 1, 1, 1, 1, 1, 1, 1, 1, 1, 1, 1, 1, 1, 1, 1, 1, 1, 1, 1, 1, 1, 1, 1, 1, 1, 1, 1, 1, 1, 1, 1, 1, 1, 1, 1, 1, 1, 1, 1, 1, 1, 1, 1, 1, 1, 1, 1, 1, 1, 1, 1, 1, 1, 1, 1, 1, 1, 1, 1, 1, 1, 1, 1, 1, 1, 1, 1, 1, 1, 1, 1, 1, 1, 1, 1, 1, 1, 1, 1, 1, 1, 1, 1, 1, 1, 1, 1, 1, 1, 1, 1, 1, 1, 1, 1, 1, 1, 1, 1, 1, 1, 1, 1, 1, 1, 1, 1, 1, 1, 1, 1, 1, 1, 1, 1, 1, 1, 1, 1, 1, 1, 1, 1, 1, 1, 1, 1, 1, 1, 1, 1, 1, 1, 1, 1, 1, 1, 1, 1, 1, 1, 1, 1, 1, 1, 1, 1, 1, 1, 1, 1, 1, 1, 1, 1, 1, 1, 1, 1, 0, 0, 0, 0, 0, 0, 0, 0, 0, 0, 0, 0, 0, 0, 0, 0, 0, 0, 0, 0, 0, 0, 1, 1, 1, 1, 1, 1, 1, 1, 1, 1, 1, 1, 1, 1, 1, 1, 1, 1, 1, 1, 1, 1, 1, 1, 1, 1, 1, 1, 1, 1, 1, 1, 1, 1, 1, 1, 1, 1, 1, 1, 1, 1, 1, 1, 1, 1, 1, 1, 1, 1, 1, 1, 1, 1, 1, 1, 1, 1, 1, 1, 1, 1, 1, 1, 1, 1, 1, 1, 1, 1, 1, 1, 1, 1, 1, 1, 1, 1, 1, 1, 1, 1, 1, 1, 1, 1, 1, 1, 1, 1, 1, 1, 1, 1, 1, 1, 1, 1, 1, 1, 1, 1, 1, 1, 1, 1, 1, 1, 1, 1, 1, 1, 1, 1, 1, 1, 1, 1, 1, 1, 1, 1, 1, 1, 1, 1, 1, 1, 1, 1, 1, 1, 1, 1, 1, 1, 1, 1, 1, 1, 1, 1, 1, 1, 1, 1, 1, 1, 1, 1, 1, 1, 1, 1, 1, 1, 1, 1, 1, 1, 1, 1, 1, 1, 1, 1, 1, 1, 1, 1, 1, 1, 1, 1, 1, 1, 1, 1, 1, 1, 1, 1, 1, 1, 1, 1, 1, 1, 1, 1, 1, 1, 1, 1, 1, 1, 1, 1, 1, 1, 1, 1, 1, 1, 1, 1, 1, 1, 1, 1, 1, 1, 1, 1, 1, 1, 1, 1, 1, 1, 1, 1, 1, 1, 1, 1, 1, 1, 1, 1, 1, 1, 1, 1, 1, 1, 1, 1, 1, 1, 1, 1, 1, 1, 1, 1, 1, 1, 1, 1, 1, 1, 1, 1, 1, 1, 1, 1, 1, 1, 1, 1, 1, 1, 1, 1, 1, 1, 1, 1, 1, 1, 1, 1, 1, 1, 1, 1, 1, 1, 0, 0, 0, 0, 0, 0, 0, 0, 0, 0, 0, 0, 0, 0, 0, 0, 0, 0, 0, 0, 0, 0, 0, 0, 0, 0, 0, 0, 0, 0, 0, 0, 0, 0, 0, 0, 0, 0, 0, 0, 0, 0, 0, 0, 0, 0, 0, 0, 0, 0, 0, 0, 0, 0, 0, 0, 0, 0, 0, 0, 0, 0, 0, 0, 0, 0, 0, 0, 0, 0, 0, 0, 0, 0, 0, 0, 0, 0, 0, 0, 0, 0, 0, 0, 0, 0, 0, 0, 0, 0, 0, 0, 0, 0, 0, 0, 0, 0, 0, 0, 0, 0, 0, 0, 0, 0, 0, 0, 0, 0, 0, 0, 0, 0, 0, 0, 0, 0, 0, 0, 0, 0, 0, 0, 0, 0, 0, 0, 0, 0, 0, 0, 0, 0, 0, 0, 0, 0, 0, 0, 0, 0, 0, 0, 0, 0, 0, 0, 0, 0, 0, 0, 0, 0, 0, 0, 0, 0, 0, 0, 0, 0, 0, 0, 0, 0, 0, 0, 0, 0, 0, 0, 0, 0, 0, 0, 0, 0, 0, 0, 0, 0, 0, 0, 0, 0, 0, 0, 0, 0, 0, 0, 0, 0, 0, 0, 0, 0, 0, 0, 0, 0, 0, 0, 0, 0, 0, 0, 0, 0, 0, 0, 0, 0, 0, 0, 0, 0, 0, 0, 0, 0, 0, 0, 0, 0, 0, 0, 0, 0, 0, 0, 0, 0, 0, 0, 0, 0, 0, 0, 0, 0, 0, 0, 0, 0, 0, 0, 0, 0, 0, 0, 0, 0, 0, 0, 0, 0, 0, 0, 0, 0, 0, 0, 0, 0, 0, 0, 0, 0, 0, 0, 0, 0, 0, 0, 0, 0, 0, 0, 0, 0, 0, 0, 0, 0, 0, 0, 0, 0, 0, 0, 0, 0, 0, 0, 0, 0, 0, 0, 0, 0, 0, 0, 0, 0, 0, 0, 0, 0, 0, 0, 0, 0, 0, 0, 0, 0, 0, 0, 0, 0, 0, 0, 0, 0, 0, 0, 0, 0, 0, 0, 0, 0, 0, 0, 0, 0, 0, 0, 0, 0, 0, 0, 0, 0, 0, 0, 0, 0, 0, 0, 0, 0, 0, 0, 0, 0, 0, 0, 0, 0, 0, 0, 0, 0, 0, 0, 0, 0, 0, 0, 0, 0, 0, 0, 0, 0, 0, 0, 0, 0, 0, 0, 0, 0, 0, 0, 0, 0, 0, 0, 0, 0, 0, 0, 0, 0, 0, 0, 0, 0, 0, 0, 0, 0, 0, 0, 0, 0, 0, 0, 0, 0, 0, 0, 0, 0, 0, 0, 0, 0, 0, 0, 0, 0, 0, 0, 0, 0, 0, 0, 0, 0, 0, 0, 0, 0, 0, 0, 0, 0, 0, 0, 0, 0, 0, 0, 0, 0, 0, 0, 0, 0, 0, 0, 0, 0, 0, 0, 0, 0, 0, 0, 0, 0, 0, 0, 0, 0, 0, 0, 0, 0, 0, 0, 0, 0, 0, 0, 0, 0, 0, 0, 0, 0, 0, 0, 0, 0, 0, 0, 0, 0, 0, 0, 0, 0, 0, 0, 0, 0, 0, 0, 0, 0, 0, 0, 0, 0, 0, 0, 0, 0, 0, 0, 0, 0, 0, 0, 0, 0, 0, 0, 0, 0, 0, 0, 0, 0, 0, 0, 0, 0, 0, 0, 0, 0, 0, 0, 0, 0, 0, 0, 0, 0, 0, 0, 0, 0, 0, 0, 0, 0, 0, 0, 0, 0, 0, 0, 0, 0, 0, 0, 0, 0, 0, 0, 0, 0, 0, 0, 0, 0, 0, 0, 0, 0, 0, 0, 0, 0, 0, 0, 0, 0, 0, 0, 0, 0, 0, 0, 0, 0, 0, 0, 0, 0, 0, 0, 0, 0, 0, 0, 0, 0, 0, 0, 0, 0, 0, 0, 0, 0, 0, 0, 0, 0, 0, 0, 0, 0, 0, 0, 0, 0, 0, 0, 0, 0, 0, 0, 0, 0, 0, 0, 0, 0, 0, 0, 0, 0, 0, 0, 0, 0, 0, 0, 0, 0, 0, 0, 0, 0, 0, 0, 0, 0, 0, 0, 0, 0, 0, 0, 0, 0, 0, 0, 0, 0, 0, 0, 0, 0, 0, 0, 0, 0, 0, 0, 0, 0, 0, 0, 0, 0, 0, 0, 0, 0, 0, 0, 0, 0, 0, 0, 0, 0, 0, 0, 0, 0, 0, 0, 0, 0, 0, 0, 0, 0, 0, 0, 0, 0, 0, 0, 0, 0, 0, 0, 0, 0, 0, 0, 0, 0, 0, 0, 0, 0, 0, 0, 0, 0, 0, 0, 0, 0, 0, 0, 0, 0, 0, 0, 0, 0, 0, 0, 0, 0, 0, 0, 0, 0, 0, 0, 0, 0, 0, 0, 0, 0, 0, 0, 0, 0, 0, 0, 0, 0, 0, 0, 0, 0, 0, 0, 0, 0, 0, 0, 0, 0, 0, 0, 0, 0, 0, 0, 0, 0, 0, 0, 0, 0, 0, 0, 0, 0, 0, 0, 0, 0, 0, 0, 0, 1, 1, 1, 1, 1, 1, 1, 1, 1, 1, 1, 1, 1, 1, 1, 1, 1, 1, 1, 1, 1, 1, 1, 1, 1, 1, 1, 1, 1, 1, 1, 1, 1, 1, 1, 1, 1, 1, 1, 1, 1, 1, 1, 1, 1, 1, 1, 1, 1, 1, 1, 1, 1, 1, 1, 1, 1, 1, 1, 1, 1, 1, 1, 1, 1, 1, 1, 1, 1, 1, 1, 1, 1, 1, 1, 1, 1, 1, 1, 1, 1, 1, 1, 1, 1, 1, 1, 1, 1, 1, 1, 1, 1, 1, 1, 1, 1, 1, 1, 1, 1, 1, 1, 1, 1, 1, 1, 1, 1, 1, 1, 1, 1, 1, 1, 1, 1, 1, 1, 1, 1, 1, 1, 1, 1, 1, 1, 1, 1, 1, 1, 1, 1, 1, 1, 1, 1, 1, 1, 1, 1, 1, 1, 1, 1, 1, 1, 1, 1, 1, 1, 1, 1, 1, 1, 1, 1, 1, 1, 1, 1, 1, 1, 1, 1, 1, 1, 1, 1, 1, 1, 1, 1, 1, 1, 1, 1, 1, 1, 1, 1, 1, 1, 1, 1, 1]\n",
            "[1, 1, 1, 1, 1, 1, 1, 1, 1, 1, 1, 1, 1, 1, 1, 1, 1, 1, 1, 1, 1, 1, 1, 1, 1, 1, 1, 1, 1, 1, 1, 1, 1, 1, 1, 1, 1, 1, 1, 1, 1, 1, 1, 1, 1, 1, 1, 1, 1, 1, 1, 1, 1, 1, 1, 1, 1, 1, 1, 1, 1, 1, 1, 1, 1, 1, 1, 1, 1, 1, 1, 1, 1, 1, 1, 1, 1, 1, 1, 1, 1, 1, 1, 1, 1, 1, 1, 1, 1, 1, 1, 1, 1, 1, 1, 1, 1, 1, 1, 1, 1, 1, 1, 1, 1, 1, 1, 1, 1, 1, 1, 1, 1, 1, 1, 1, 1, 1, 1, 1, 1, 1, 1, 1, 1, 1, 1, 1, 1, 1, 1, 1, 1, 1, 1, 1, 1, 1, 1, 1, 1, 1, 1, 1, 1, 1, 1, 1, 1, 1, 1, 1, 1, 1, 1, 1, 1, 1, 1, 1, 1, 1, 1, 1, 1, 1, 1, 1, 1, 1, 1, 1, 1, 1, 1, 1, 1, 1, 1, 1, 1, 1, 1, 1, 1, 1, 1, 1, 1, 1, 1, 1, 1, 1, 1, 0, 0, 0, 0, 0, 0, 0, 0, 0, 0, 0, 0, 0, 0, 0, 0, 0, 0, 0, 0, 0, 0, 0, 1, 1, 1, 1, 1, 1, 1, 1, 0, 0, 0, 0, 0, 0, 0, 0, 0, 0, 0, 0, 0, 0, 0, 0, 0, 0, 0, 0, 0, 0, 0, 0, 0, 0, 0, 0, 0, 0, 0, 0, 0, 0, 0, 0, 0, 0, 0, 0, 0, 0, 0, 0, 0, 0, 0, 0, 0, 0, 0, 0, 0, 0, 0, 0, 0, 0, 0, 0, 0, 0, 0, 0, 0, 0, 0, 0, 0, 0, 0, 0, 0, 0, 0, 0, 0, 0, 0, 0, 0, 0, 0, 0, 0, 0, 0, 0, 0, 0, 0, 0, 0, 0, 0, 0, 0, 0, 0, 0, 0, 0, 0, 0, 0, 0, 0, 0, 0, 0, 0, 0, 0, 0, 0, 0, 0, 0, 0, 0, 0, 0, 0, 0, 0, 0, 0, 0, 0, 0, 0, 0, 0, 0, 0, 0, 0, 0, 0, 0, 0, 0, 0, 0, 0, 0, 0, 0, 0, 0, 0, 0, 0, 0, 0, 0, 0, 0, 0, 0, 0, 0, 0, 0, 0, 0, 0, 0, 0, 0, 0, 0, 0, 0, 0, 0, 0, 0, 0, 0, 0, 0, 0, 0, 0, 0, 0, 0, 0, 0, 0, 0, 0, 0, 0, 0, 0, 0, 0, 0, 0, 0, 0, 0, 0, 0, 0, 0, 0, 0, 0, 0, 0, 0, 0, 0, 0, 0, 0, 0, 0, 0, 0, 0, 0, 0, 0, 0, 0, 0, 0, 0, 0, 0, 0, 0, 0, 0, 0, 0, 0, 0, 0, 0, 0, 0, 0, 0, 0, 0, 0, 0, 0, 0, 0, 0, 0, 0, 0, 0, 0, 0, 0, 0, 0, 0, 0, 0, 0, 0, 0, 0, 0, 0, 0, 0, 0, 0, 0, 0, 0, 0, 0, 0, 0, 0, 0, 0, 0, 0, 0, 0, 0, 0, 0, 0, 0, 0, 0, 0, 0, 0, 0, 0, 0, 0, 0, 0, 0, 0, 0, 0, 0, 0, 0, 0, 0, 0, 0, 0, 0, 0, 0, 0, 0, 0, 0, 0, 0, 0, 0, 0, 0, 0, 0, 0, 0, 0, 0, 0, 0, 0, 0, 0, 0, 0, 0, 0, 0, 0, 0, 0, 0, 0, 0, 0, 0, 0, 0, 0, 0, 0, 0, 0, 0, 0, 0, 0, 0, 0, 0, 0, 0, 0, 0, 0, 0, 0, 0, 0, 0, 0, 0, 0, 0, 0, 0, 0, 0, 0, 0, 0, 0, 0, 0, 0, 0, 0, 0, 0, 0, 0, 0, 0, 0, 0, 0, 0, 0, 0, 0, 0, 0, 0, 0, 0, 0, 0, 0, 0, 0, 0, 0, 0, 0, 0, 0, 0, 0, 0, 0, 0, 0, 0, 0, 0, 0, 0, 0, 0, 0, 0, 0, 0, 0, 0, 0, 0, 0, 0, 0, 0, 0, 0, 0, 0, 0, 0, 0, 0, 0, 0, 0, 0, 0, 0, 0, 0, 0, 0, 0, 0, 0, 0, 0, 0, 0, 0, 0, 0, 0, 0, 0, 0, 0, 0, 0, 0, 0, 0, 0, 0, 0, 0, 0, 0, 0, 0, 0, 0, 0, 0, 0, 0, 0, 0, 0, 0, 0, 0, 0, 0, 0, 0, 0, 0, 0, 0, 0, 0, 0, 0, 0, 0, 0, 0, 0, 0, 0, 0, 0, 0, 0, 0, 0, 0, 0, 0, 0, 0, 0, 0, 0, 0, 0, 0, 0, 0, 0, 0, 0, 0, 0, 0, 0, 0, 0, 0, 0, 0, 0, 0, 0, 0, 0, 0, 0, 0, 0, 0, 0, 0, 0, 0, 0, 0, 0, 0, 0, 0, 0, 0, 0, 0, 0, 0, 0, 0, 0, 0, 0, 0, 0, 0, 0, 0, 0, 0, 0, 0, 0, 0, 0, 0, 0, 0, 0, 0, 0, 0, 0, 0, 0, 0, 0, 0, 0, 0, 0, 0, 0, 0, 0, 0, 0, 0, 0, 0, 0, 0, 0, 0, 0, 0, 0, 0, 0, 0, 0, 0, 0, 0, 0, 0, 0, 0, 0, 0, 0, 0, 0, 0, 0, 0, 0, 0, 0, 0, 0, 0, 0, 0, 0, 0, 0, 0, 0, 0, 0, 0, 0, 0, 0, 0, 0, 0, 0, 0, 0, 0, 0, 0, 0, 0, 0, 0, 0, 0, 0, 0, 0, 0, 0, 0, 0, 0, 0, 0, 0, 0, 0, 0, 0, 0, 0, 0, 0, 0, 0, 0, 0, 0, 0, 0, 0, 0, 0, 0, 0, 0, 0, 0, 0, 0, 0, 0, 0, 0, 0, 0, 0, 0, 0, 0, 0, 0, 0, 0, 0, 0, 0, 0, 0, 0, 0, 0, 0, 0, 0, 0, 0, 0, 0, 0, 0, 0, 0, 0, 0, 0, 0, 0, 0, 0, 0, 0, 0, 0, 0, 0, 0, 0, 0, 0, 0, 0, 0, 0, 0, 0, 0, 0, 0, 0, 0, 0, 0, 0, 0, 0, 0, 0, 0, 0, 0, 0, 0, 0, 0, 0, 0, 0, 0, 0, 0, 0, 0, 0, 0, 0, 0, 1, 1, 1, 0, 0, 0, 0, 1, 1, 1, 1, 1, 1, 1, 1, 1, 1, 1, 1, 1, 1, 1, 1, 1, 1, 1, 1, 1, 1, 1, 1, 1, 1, 1, 1, 1, 1, 1, 1, 1, 1, 1, 1, 1, 1, 1, 1, 1, 1, 1, 1, 1, 1, 1, 1, 1, 1, 1, 1, 1, 1, 1, 1, 1, 1, 1, 1, 1, 1, 1, 1, 1, 1, 1, 1, 1, 1, 1, 1, 1, 1, 1, 1, 1, 1, 1, 1, 1, 1, 1, 1, 1, 1, 1, 0, 0, 1, 1, 1, 1, 1, 1, 1, 1, 1, 1, 1, 1, 1, 1, 1, 1, 1, 1, 1, 1, 1, 1, 1, 1, 1, 1, 1, 1, 1, 1, 1, 1, 1, 1, 1, 1, 1, 1, 1, 1, 1, 1, 1, 1, 1, 1, 1, 1, 1, 1, 1, 1, 1, 1, 1, 1, 1, 1, 1, 1, 1, 1, 1, 1, 1, 1, 1, 1, 1, 1, 1, 1, 1, 1, 1, 1, 1, 1, 1, 1, 1, 1, 1, 1, 1, 1, 1, 1, 1, 1, 1, 1, 1, 1, 1, 1, 1, 1, 1, 1, 1, 1, 1, 1, 1, 1, 1, 1, 1, 1, 1, 1, 1, 1, 1, 1, 1, 1, 1, 1, 1, 1, 1, 1, 1, 1, 1, 1, 1, 1, 1, 1, 1, 1, 1, 1, 1, 1, 1, 1, 1, 1, 1, 1, 1, 1, 1, 1, 1, 1, 1, 1, 1, 1, 1, 1, 0, 1, 1, 1, 1, 1, 1, 1, 1, 1, 1, 1, 1, 1, 1, 1, 1, 1, 1, 1, 1, 1, 1, 1, 1, 1, 1, 1, 1, 1, 1, 0, 0, 0, 1, 1, 1, 1, 1, 1, 1, 1, 1, 1, 1, 1, 1, 1, 1, 1, 1, 1, 1, 1, 1, 1, 1, 1, 1, 1, 1, 1, 1, 1, 1, 1, 1, 1, 1, 1, 1, 1, 1, 1, 1, 1, 1, 1, 1, 1, 1, 1, 0, 0, 0, 0, 0, 0, 0, 0, 0, 0, 0, 0, 0, 0, 0, 0, 0, 0, 0, 0, 0, 0, 0, 1, 0, 0, 0, 0, 0, 1, 1, 1, 1, 1, 1, 1, 1, 1, 1, 1, 1, 1, 1, 1, 1, 1, 1, 1, 1, 1, 1, 1, 1, 1, 1, 1, 1, 1, 1, 1, 1, 1, 1, 1, 1, 1, 1, 1, 1, 1, 1, 1, 1, 1, 1, 1, 1, 1, 1, 1, 1, 1, 1, 1, 1, 1, 1, 1, 1, 1, 1, 1, 1, 1, 1, 1, 1, 1, 1, 1, 1, 1, 1, 1, 1, 1, 1, 1, 1, 1, 1, 1, 1, 1, 1, 1, 1, 1, 1, 1, 1, 1, 1, 1, 1, 1, 1, 1, 1, 1, 1, 1, 1, 1, 1, 1, 1, 1, 1, 1, 1, 1, 1, 1, 1, 1, 1, 1, 1, 1, 1, 1, 1, 1, 1, 1, 1, 1, 1, 1, 1, 1, 1, 1, 1, 1, 1, 1, 1, 1, 1, 1, 1, 1, 1, 1, 1, 1, 1, 1, 1, 1, 1, 1, 1, 1, 1, 1, 1, 1, 1, 1, 1, 1, 1, 1, 1, 1, 1, 1, 1, 1, 1, 1, 1, 1, 1, 1, 1, 1, 1, 1, 1, 1, 1, 1, 1, 1, 1, 1, 1, 1, 1, 1, 1, 1, 1, 1, 1, 1, 1, 1, 1, 1, 1, 1, 1, 1, 1, 1, 1, 1, 1, 1, 1, 1, 1, 1, 1, 1, 1, 1, 1, 1, 1, 1, 1, 1, 1, 1, 1, 1, 1, 1, 1, 1, 1, 1, 1, 1, 1, 1, 1, 1, 1, 1, 1, 1, 1, 1, 1, 1, 1, 1, 1, 1, 1, 1, 1, 1, 1, 1, 1, 1, 1, 1, 1, 1, 1, 1, 1, 1, 1, 0, 0, 0, 0, 0, 0, 0, 0, 0, 0, 0, 0, 0, 0, 0, 0, 0, 0, 0, 0, 0, 0, 0, 0, 0, 0, 0, 0, 0, 0, 0, 0, 0, 0, 0, 0, 0, 0, 0, 0, 0, 0, 0, 0, 0, 0, 0, 0, 0, 0, 0, 0, 0, 0, 0, 0, 0, 0, 0, 0, 0, 0, 0, 0, 0, 0, 0, 0, 0, 0, 0, 0, 0, 0, 0, 0, 0, 0, 0, 0, 0, 0, 0, 0, 0, 0, 0, 0, 0, 0, 0, 0, 0, 0, 0, 0, 0, 0, 0, 0, 0, 0, 0, 0, 0, 0, 0, 0, 0, 0, 0, 0, 0, 0, 0, 0, 0, 0, 0, 0, 0, 0, 0, 0, 0, 0, 0, 0, 0, 0, 0, 0, 0, 0, 0, 0, 0, 0, 0, 0, 0, 0, 0, 0, 0, 0, 0, 0, 0, 0, 0, 0, 0, 0, 0, 0, 0, 0, 0, 0, 0, 0, 0, 0, 0, 0, 0, 0, 0, 0, 0, 0, 0, 0, 0, 0, 0, 0, 0, 0, 0, 0, 0, 0, 0, 0, 0, 0, 0, 0, 0, 0, 0, 0, 0, 0, 0, 0, 0, 0, 0, 0, 0, 0, 0, 0, 0, 0, 0, 0, 0, 0, 0, 0, 0, 0, 0, 0, 0, 0, 0, 0, 0, 0, 0, 0, 0, 0, 0, 0, 0, 0, 0, 0, 0, 0, 0, 0, 0, 0, 0, 0, 0, 0, 0, 0, 0, 0, 0, 0, 0, 0, 0, 0, 0, 0, 0, 0, 0, 0, 0, 0, 0, 0, 0, 0, 0, 0, 0, 0, 0, 0, 0, 0, 0, 0, 0, 0, 0, 0, 0, 0, 0, 0, 0, 0, 0, 0, 0, 0, 0, 0, 0, 0, 0, 0, 0, 0, 0, 0, 0, 0, 0, 0, 0, 0, 0, 0, 0, 0, 0, 0, 0, 0, 0, 0, 0, 0, 0, 0, 0, 0, 0, 0, 0, 0, 0, 0, 0, 0, 0, 0, 0, 0, 0, 0, 0, 0, 0, 0, 0, 0, 0, 0, 0, 0, 0, 0, 0, 0, 0, 0, 0, 0, 0, 0, 0, 0, 0, 0, 0, 0, 0, 0, 0, 0, 0, 0, 0, 0, 0, 0, 0, 0, 0, 0, 0, 0, 0, 0, 0, 0, 0, 0, 0, 0, 0, 0, 0, 0, 0, 0, 0, 0, 0, 0, 0, 0, 0, 0, 0, 0, 0, 0, 0, 0, 0, 0, 0, 0, 0, 0, 0, 0, 0, 0, 0, 0, 0, 0, 0, 0, 0, 0, 0, 0, 0, 0, 0, 0, 0, 0, 0, 0, 0, 0, 0, 0, 0, 0, 0, 0, 0, 0, 0, 0, 0, 0, 0, 0, 0, 0, 0, 0, 0, 0, 0, 0, 0, 0, 0, 0, 0, 0, 0, 0, 0, 0, 0, 0, 0, 0, 0, 0, 0, 0, 0, 0, 0, 0, 0, 0, 0, 0, 0, 0, 0, 0, 0, 0, 0, 0, 0, 0, 0, 0, 0, 0, 0, 0, 0, 0, 0, 0, 0, 0, 0, 0, 0, 0, 0, 0, 0, 0, 0, 0, 0, 0, 0, 0, 0, 0, 0, 0, 0, 0, 0, 0, 0, 0, 0, 0, 0, 0, 0, 0, 0, 0, 0, 0, 0, 0, 0, 0, 0, 0, 0, 0, 0, 0, 0, 0, 0, 0, 0, 0, 0, 0, 0, 0, 0, 0, 0, 0, 0, 0, 0, 0, 0, 0, 0, 0, 0, 0, 0, 0, 0, 0, 0, 0, 0, 0, 0, 0, 0, 0, 0, 0, 0, 0, 0, 0, 0, 0, 0, 0, 0, 0, 0, 0, 0, 0, 0, 0, 0, 0, 0, 0, 0, 0, 0, 0, 0, 0, 0, 0, 0, 0, 0, 0, 0, 0, 0, 0, 0, 0, 0, 0, 0, 0, 0, 0, 0, 0, 0, 0, 0, 0, 0, 0, 0, 0, 0, 0, 0, 0, 0, 0, 0, 0, 0, 0, 0, 0, 0, 0, 0, 0, 0, 0, 0, 0, 0, 0, 0, 0, 0, 0, 0, 0, 0, 0, 0, 0, 0, 0, 0, 0, 0, 0, 0, 0, 0, 0, 0, 0, 0, 0, 0, 0, 0, 0, 0, 0, 0, 0, 0, 0, 0, 0, 0, 0, 0, 0, 0, 0, 0, 0, 0, 0, 0, 0, 0, 0, 0, 0, 0, 0, 0, 0, 0, 0, 0, 0, 0, 0, 0, 0, 0, 0, 0, 0, 0, 0, 0, 0, 0, 0, 0, 0, 0, 0, 0, 0, 0, 0, 0, 0, 0, 0, 0, 0, 0, 0, 0, 0, 0, 0, 0, 0, 0, 0, 0, 0, 0, 0, 0, 0, 0, 0, 0, 0, 0, 0, 0, 0, 0, 0, 0, 0, 0, 0, 0, 0, 0, 0, 0, 0, 0, 0, 0, 0, 0, 0, 0, 0, 0, 0, 0, 0, 0, 0, 0, 0, 0, 1, 1, 1, 1, 1, 1, 1, 1, 1, 1, 0, 0, 0, 0, 0, 1, 1, 1, 1, 1, 1, 1, 1, 1, 1, 1, 1, 1, 1, 1, 1, 1, 1, 1, 1, 1, 1, 1, 1, 1, 1, 1, 1, 1, 1, 1, 1, 1, 1, 1, 1, 1, 1, 1, 1, 0, 0, 0, 0, 0, 0, 0, 1, 1, 1, 1, 1, 1, 1, 1, 1, 1, 1, 1, 1, 1, 1, 1, 1, 0, 0, 1, 1, 1, 1, 1, 1, 1, 1, 1, 1, 1, 1, 1, 1, 1, 1, 1, 1, 1, 1, 1, 1, 1, 1, 1, 1, 1, 1, 1, 0, 0, 1, 1, 1, 1, 1, 1, 1, 1, 1, 1, 1, 1, 1, 1, 1, 1, 1, 1, 1, 1, 1, 1, 1, 1, 1, 1, 1, 1, 1, 1, 1, 1, 1, 1, 1, 1, 1, 1, 1, 1, 1, 1, 1, 1, 1, 1, 1, 1, 1, 1, 1, 1, 1, 1, 1, 1, 1, 1, 1, 1, 1, 1, 1, 1, 1, 1, 1, 1, 1, 1, 1, 1, 1, 1]\n"
          ]
        },
        {
          "output_type": "execute_result",
          "data": {
            "text/plain": [
              "      valor_verdadero  valor_estimado resultado\n",
              "0                   1               1    acerto\n",
              "1                   1               1    acerto\n",
              "2                   1               1    acerto\n",
              "3                   1               1    acerto\n",
              "4                   1               1    acerto\n",
              "...               ...             ...       ...\n",
              "2660                1               1    acerto\n",
              "2661                1               1    acerto\n",
              "2662                1               1    acerto\n",
              "2663                1               1    acerto\n",
              "2664                1               1    acerto\n",
              "\n",
              "[2665 rows x 3 columns]"
            ],
            "text/html": [
              "\n",
              "  <div id=\"df-6d947061-e482-4b58-96b3-3e7a4e9c2b2c\">\n",
              "    <div class=\"colab-df-container\">\n",
              "      <div>\n",
              "<style scoped>\n",
              "    .dataframe tbody tr th:only-of-type {\n",
              "        vertical-align: middle;\n",
              "    }\n",
              "\n",
              "    .dataframe tbody tr th {\n",
              "        vertical-align: top;\n",
              "    }\n",
              "\n",
              "    .dataframe thead th {\n",
              "        text-align: right;\n",
              "    }\n",
              "</style>\n",
              "<table border=\"1\" class=\"dataframe\">\n",
              "  <thead>\n",
              "    <tr style=\"text-align: right;\">\n",
              "      <th></th>\n",
              "      <th>valor_verdadero</th>\n",
              "      <th>valor_estimado</th>\n",
              "      <th>resultado</th>\n",
              "    </tr>\n",
              "  </thead>\n",
              "  <tbody>\n",
              "    <tr>\n",
              "      <th>0</th>\n",
              "      <td>1</td>\n",
              "      <td>1</td>\n",
              "      <td>acerto</td>\n",
              "    </tr>\n",
              "    <tr>\n",
              "      <th>1</th>\n",
              "      <td>1</td>\n",
              "      <td>1</td>\n",
              "      <td>acerto</td>\n",
              "    </tr>\n",
              "    <tr>\n",
              "      <th>2</th>\n",
              "      <td>1</td>\n",
              "      <td>1</td>\n",
              "      <td>acerto</td>\n",
              "    </tr>\n",
              "    <tr>\n",
              "      <th>3</th>\n",
              "      <td>1</td>\n",
              "      <td>1</td>\n",
              "      <td>acerto</td>\n",
              "    </tr>\n",
              "    <tr>\n",
              "      <th>4</th>\n",
              "      <td>1</td>\n",
              "      <td>1</td>\n",
              "      <td>acerto</td>\n",
              "    </tr>\n",
              "    <tr>\n",
              "      <th>...</th>\n",
              "      <td>...</td>\n",
              "      <td>...</td>\n",
              "      <td>...</td>\n",
              "    </tr>\n",
              "    <tr>\n",
              "      <th>2660</th>\n",
              "      <td>1</td>\n",
              "      <td>1</td>\n",
              "      <td>acerto</td>\n",
              "    </tr>\n",
              "    <tr>\n",
              "      <th>2661</th>\n",
              "      <td>1</td>\n",
              "      <td>1</td>\n",
              "      <td>acerto</td>\n",
              "    </tr>\n",
              "    <tr>\n",
              "      <th>2662</th>\n",
              "      <td>1</td>\n",
              "      <td>1</td>\n",
              "      <td>acerto</td>\n",
              "    </tr>\n",
              "    <tr>\n",
              "      <th>2663</th>\n",
              "      <td>1</td>\n",
              "      <td>1</td>\n",
              "      <td>acerto</td>\n",
              "    </tr>\n",
              "    <tr>\n",
              "      <th>2664</th>\n",
              "      <td>1</td>\n",
              "      <td>1</td>\n",
              "      <td>acerto</td>\n",
              "    </tr>\n",
              "  </tbody>\n",
              "</table>\n",
              "<p>2665 rows × 3 columns</p>\n",
              "</div>\n",
              "      <button class=\"colab-df-convert\" onclick=\"convertToInteractive('df-6d947061-e482-4b58-96b3-3e7a4e9c2b2c')\"\n",
              "              title=\"Convert this dataframe to an interactive table.\"\n",
              "              style=\"display:none;\">\n",
              "        \n",
              "  <svg xmlns=\"http://www.w3.org/2000/svg\" height=\"24px\"viewBox=\"0 0 24 24\"\n",
              "       width=\"24px\">\n",
              "    <path d=\"M0 0h24v24H0V0z\" fill=\"none\"/>\n",
              "    <path d=\"M18.56 5.44l.94 2.06.94-2.06 2.06-.94-2.06-.94-.94-2.06-.94 2.06-2.06.94zm-11 1L8.5 8.5l.94-2.06 2.06-.94-2.06-.94L8.5 2.5l-.94 2.06-2.06.94zm10 10l.94 2.06.94-2.06 2.06-.94-2.06-.94-.94-2.06-.94 2.06-2.06.94z\"/><path d=\"M17.41 7.96l-1.37-1.37c-.4-.4-.92-.59-1.43-.59-.52 0-1.04.2-1.43.59L10.3 9.45l-7.72 7.72c-.78.78-.78 2.05 0 2.83L4 21.41c.39.39.9.59 1.41.59.51 0 1.02-.2 1.41-.59l7.78-7.78 2.81-2.81c.8-.78.8-2.07 0-2.86zM5.41 20L4 18.59l7.72-7.72 1.47 1.35L5.41 20z\"/>\n",
              "  </svg>\n",
              "      </button>\n",
              "      \n",
              "  <style>\n",
              "    .colab-df-container {\n",
              "      display:flex;\n",
              "      flex-wrap:wrap;\n",
              "      gap: 12px;\n",
              "    }\n",
              "\n",
              "    .colab-df-convert {\n",
              "      background-color: #E8F0FE;\n",
              "      border: none;\n",
              "      border-radius: 50%;\n",
              "      cursor: pointer;\n",
              "      display: none;\n",
              "      fill: #1967D2;\n",
              "      height: 32px;\n",
              "      padding: 0 0 0 0;\n",
              "      width: 32px;\n",
              "    }\n",
              "\n",
              "    .colab-df-convert:hover {\n",
              "      background-color: #E2EBFA;\n",
              "      box-shadow: 0px 1px 2px rgba(60, 64, 67, 0.3), 0px 1px 3px 1px rgba(60, 64, 67, 0.15);\n",
              "      fill: #174EA6;\n",
              "    }\n",
              "\n",
              "    [theme=dark] .colab-df-convert {\n",
              "      background-color: #3B4455;\n",
              "      fill: #D2E3FC;\n",
              "    }\n",
              "\n",
              "    [theme=dark] .colab-df-convert:hover {\n",
              "      background-color: #434B5C;\n",
              "      box-shadow: 0px 1px 3px 1px rgba(0, 0, 0, 0.15);\n",
              "      filter: drop-shadow(0px 1px 2px rgba(0, 0, 0, 0.3));\n",
              "      fill: #FFFFFF;\n",
              "    }\n",
              "  </style>\n",
              "\n",
              "      <script>\n",
              "        const buttonEl =\n",
              "          document.querySelector('#df-6d947061-e482-4b58-96b3-3e7a4e9c2b2c button.colab-df-convert');\n",
              "        buttonEl.style.display =\n",
              "          google.colab.kernel.accessAllowed ? 'block' : 'none';\n",
              "\n",
              "        async function convertToInteractive(key) {\n",
              "          const element = document.querySelector('#df-6d947061-e482-4b58-96b3-3e7a4e9c2b2c');\n",
              "          const dataTable =\n",
              "            await google.colab.kernel.invokeFunction('convertToInteractive',\n",
              "                                                     [key], {});\n",
              "          if (!dataTable) return;\n",
              "\n",
              "          const docLinkHtml = 'Like what you see? Visit the ' +\n",
              "            '<a target=\"_blank\" href=https://colab.research.google.com/notebooks/data_table.ipynb>data table notebook</a>'\n",
              "            + ' to learn more about interactive tables.';\n",
              "          element.innerHTML = '';\n",
              "          dataTable['output_type'] = 'display_data';\n",
              "          await google.colab.output.renderOutput(dataTable, element);\n",
              "          const docLink = document.createElement('div');\n",
              "          docLink.innerHTML = docLinkHtml;\n",
              "          element.appendChild(docLink);\n",
              "        }\n",
              "      </script>\n",
              "    </div>\n",
              "  </div>\n",
              "  "
            ]
          },
          "metadata": {},
          "execution_count": 68
        }
      ]
    },
    {
      "cell_type": "code",
      "source": [
        "def metricas_cal(data):\n",
        "  df2 = len(data[data[\"resultado\"]==\"acerto\"])\n",
        "  #print(df2)\n",
        "  df3 = len(data[data[\"resultado\"]==\"no acerto\"])\n",
        "  #print(df2)\n",
        "  total = df2+df3\n",
        "  # precisión\n",
        "  exactitud = df2/total*100\n",
        "  exactitud = round(exactitud, 3)\n",
        "  a = str(exactitud)\n",
        "  print('la exactitud del spv es de: '+a+'%')\n",
        "  \n",
        "  # verdaderos negativos\n",
        "  df2 = len(data[(data[\"valor_verdadero\"]==0) & (data[\"valor_estimado\"]==0)])\n",
        "  exactitud = df2/total*100\n",
        "  exactitud = round(exactitud, 3)\n",
        "  a = str(exactitud)\n",
        "  print('los valores verdaderos negativos son '+a+'% de la población de testeo ')\n",
        "  # falsos negativo\n",
        "  df2 = len(data[(data[\"valor_verdadero\"]==1) & (data[\"valor_estimado\"]==0)])\n",
        "  exactitud = df2/total*100\n",
        "  exactitud = round(exactitud, 3)\n",
        "  a = str(exactitud)\n",
        "  print('los valores falsos negativos son '+a+'% de la población de testeo ')\n",
        "  # falsos positivos\n",
        "  df2 = len(data[(data[\"valor_verdadero\"]==0) & (data[\"valor_estimado\"]==1)])\n",
        "  exactitud = df2/total*100\n",
        "  exactitud = round(exactitud, 3)\n",
        "  a = str(exactitud)\n",
        "  print('los valores falsos positivos son '+a+'% de la población de testeo ')\n",
        "  # verdaderos positivos\n",
        "  df2 = len(data[(data[\"valor_verdadero\"]==1) & (data[\"valor_estimado\"]==1)])\n",
        "  exactitud = df2/total*100\n",
        "  exactitud = round(exactitud, 3)\n",
        "  a = str(exactitud)\n",
        "  print('los valores verdaderos positivos son '+a+'% de la población de testeo ')"
      ],
      "metadata": {
        "id": "n9hq4kT3TL-x"
      },
      "execution_count": 69,
      "outputs": []
    },
    {
      "cell_type": "code",
      "source": [
        "metricas_cal(testeo)"
      ],
      "metadata": {
        "colab": {
          "base_uri": "https://localhost:8080/"
        },
        "id": "O7D9E3K8dcDT",
        "outputId": "4ac3c796-0bfc-425c-edbf-223d500c7b49"
      },
      "execution_count": 70,
      "outputs": [
        {
          "output_type": "stream",
          "name": "stdout",
          "text": [
            "la exactitud del spv es de: 97.936%\n",
            "los valores verdaderos negativos son 61.463% de la población de testeo \n",
            "los valores falsos negativos son 0.0% de la población de testeo \n",
            "los valores falsos positivos son 2.064% de la población de testeo \n",
            "los valores verdaderos positivos son 36.473% de la población de testeo \n"
          ]
        }
      ]
    },
    {
      "cell_type": "markdown",
      "source": [
        "# Creación de codigo y testeo de otros algoritmos para estimar el modelo."
      ],
      "metadata": {
        "id": "ax1nt2tEV9bJ"
      }
    },
    {
      "cell_type": "markdown",
      "source": [
        "**SVM revisitado**"
      ],
      "metadata": {
        "id": "Wftnb4eMWCxh"
      }
    },
    {
      "cell_type": "code",
      "source": [
        "from sklearn import svm\n",
        "from sklearn.metrics import hinge_loss\n",
        "a_t1x = a[[\"Temperature\",\t\"Humidity\",\t\"Light\",\t\"CO2\",\t\"HumidityRatio\", \"day\",\t\"hour\",\t\"minuto\"]]\n",
        "a_t1y = a[[\"Occupancy\"]]\n",
        "X = a_t1x.to_numpy()\n",
        "y = np.ravel(a_t1y)\n",
        "clf = make_pipeline(StandardScaler(), LinearSVC(random_state=0, tol=1e-5, loss=\"hinge\"))\n",
        "clf.fit(X, y)\n",
        "\n",
        "a_test11 = a1[[\"Temperature\",\t\"Humidity\",\t\"Light\",\t\"CO2\",\t\"HumidityRatio\", \"day\",\t\"hour\",\t\"minuto\"]]\n",
        "a_test1y = a1[[\"Occupancy\"]]\n",
        "Xtest = a_test11.to_numpy()\n",
        "ytest = a_test1y.to_numpy()\n",
        "ypredict = clf.predict(Xtest)\n",
        "\n",
        "list_2 = ypredict.tolist()\n",
        "print(list_2)\n",
        "list_1 = a1[\"Occupancy\"].values.tolist()\n",
        "print(list_1)\n",
        "testeo = pd.DataFrame({'valor_verdadero':list_1, 'valor_estimado':list_2})\n",
        "\n",
        "testeo\n",
        "filtro2 = testeo['valor_verdadero'] == testeo['valor_estimado']\n",
        "filtro3 = testeo['valor_verdadero'] != testeo['valor_estimado']\n",
        "testeo.loc[filtro2, 'resultado'] = 'acerto'\n",
        "testeo.loc[filtro3, 'resultado'] = 'no acerto'\n",
        "testeo\n",
        "\n",
        "metricas_cal(testeo)"
      ],
      "metadata": {
        "colab": {
          "base_uri": "https://localhost:8080/"
        },
        "id": "g3cwmcvmdYBz",
        "outputId": "5b6845e9-d805-44b5-ab7d-abedd08e2020"
      },
      "execution_count": 71,
      "outputs": [
        {
          "output_type": "stream",
          "name": "stdout",
          "text": [
            "[1, 1, 1, 1, 1, 1, 1, 1, 1, 1, 1, 1, 1, 1, 1, 1, 1, 1, 1, 1, 1, 1, 1, 1, 1, 1, 1, 1, 1, 1, 1, 1, 1, 1, 1, 1, 1, 1, 1, 1, 1, 1, 1, 1, 1, 1, 1, 1, 1, 1, 1, 1, 1, 1, 1, 1, 1, 1, 1, 1, 1, 1, 1, 1, 1, 1, 1, 1, 1, 1, 1, 1, 1, 1, 1, 1, 1, 1, 1, 1, 1, 1, 1, 1, 1, 1, 1, 1, 1, 1, 1, 1, 1, 1, 1, 1, 1, 1, 1, 1, 1, 1, 1, 1, 1, 1, 1, 1, 1, 1, 1, 1, 1, 1, 1, 1, 1, 1, 1, 1, 1, 1, 1, 1, 1, 1, 1, 1, 1, 1, 1, 1, 1, 1, 1, 1, 1, 1, 1, 1, 1, 1, 1, 1, 1, 1, 1, 1, 1, 1, 1, 1, 1, 1, 1, 1, 1, 1, 1, 1, 1, 1, 1, 1, 1, 1, 1, 1, 1, 1, 1, 1, 1, 1, 1, 1, 1, 1, 1, 1, 1, 1, 1, 1, 1, 1, 1, 1, 1, 1, 1, 1, 1, 1, 1, 1, 1, 1, 1, 1, 1, 1, 1, 1, 1, 1, 1, 1, 1, 1, 1, 1, 1, 1, 1, 1, 1, 1, 1, 1, 1, 1, 1, 1, 1, 1, 0, 0, 0, 0, 0, 0, 0, 0, 0, 0, 0, 0, 0, 0, 0, 0, 0, 0, 0, 0, 0, 0, 0, 0, 0, 0, 0, 0, 0, 0, 0, 0, 0, 0, 0, 0, 0, 0, 0, 0, 0, 0, 0, 0, 0, 0, 0, 0, 0, 0, 0, 0, 0, 0, 0, 0, 0, 0, 0, 0, 0, 0, 0, 0, 0, 0, 0, 0, 0, 0, 0, 0, 0, 0, 0, 0, 0, 0, 0, 0, 0, 0, 0, 0, 0, 0, 0, 0, 0, 0, 0, 0, 0, 0, 0, 0, 0, 0, 0, 0, 0, 0, 0, 0, 0, 0, 0, 0, 0, 0, 0, 0, 0, 0, 0, 0, 0, 0, 0, 0, 0, 0, 0, 0, 0, 0, 0, 0, 0, 0, 0, 0, 0, 0, 0, 0, 0, 0, 0, 0, 0, 0, 0, 0, 0, 0, 0, 0, 0, 0, 0, 0, 0, 0, 0, 0, 0, 0, 0, 0, 0, 0, 0, 0, 0, 0, 0, 0, 0, 0, 0, 0, 0, 0, 0, 0, 0, 0, 0, 0, 0, 0, 0, 0, 0, 0, 0, 0, 0, 0, 0, 0, 0, 0, 0, 0, 0, 0, 0, 0, 0, 0, 0, 0, 0, 0, 0, 0, 0, 0, 0, 0, 0, 0, 0, 0, 0, 0, 0, 0, 0, 0, 0, 0, 0, 0, 0, 0, 0, 0, 0, 0, 0, 0, 0, 0, 0, 0, 0, 0, 0, 0, 0, 0, 0, 0, 0, 0, 0, 0, 0, 0, 0, 0, 0, 0, 0, 0, 0, 0, 0, 0, 0, 0, 0, 0, 0, 0, 0, 0, 0, 0, 0, 0, 0, 0, 0, 0, 0, 0, 0, 0, 0, 0, 0, 0, 0, 0, 0, 0, 0, 0, 0, 0, 0, 0, 0, 0, 0, 0, 0, 0, 0, 0, 0, 0, 0, 0, 0, 0, 0, 0, 0, 0, 0, 0, 0, 0, 0, 0, 0, 0, 0, 0, 0, 0, 0, 0, 0, 0, 0, 0, 0, 0, 0, 0, 0, 0, 0, 0, 0, 0, 0, 0, 0, 0, 0, 0, 0, 0, 0, 0, 0, 0, 0, 0, 0, 0, 0, 0, 0, 0, 0, 0, 0, 0, 0, 0, 0, 0, 0, 0, 0, 0, 0, 0, 0, 0, 0, 0, 0, 0, 0, 0, 0, 0, 0, 0, 0, 0, 0, 0, 0, 0, 0, 0, 0, 0, 0, 0, 0, 0, 0, 0, 0, 0, 0, 0, 0, 0, 0, 0, 0, 0, 0, 0, 0, 0, 0, 0, 0, 0, 0, 0, 0, 0, 0, 0, 0, 0, 0, 0, 0, 0, 0, 0, 0, 0, 0, 0, 0, 0, 0, 0, 0, 0, 0, 0, 0, 0, 0, 0, 0, 0, 0, 0, 0, 0, 0, 0, 0, 0, 0, 0, 0, 0, 0, 0, 0, 0, 0, 0, 0, 0, 0, 0, 0, 0, 0, 0, 0, 0, 0, 0, 0, 0, 0, 0, 0, 0, 0, 0, 0, 0, 0, 0, 0, 0, 0, 0, 0, 0, 0, 0, 0, 0, 0, 0, 0, 0, 0, 0, 0, 0, 0, 0, 0, 0, 0, 0, 0, 0, 0, 0, 0, 0, 0, 0, 0, 0, 0, 0, 0, 0, 0, 0, 0, 0, 0, 0, 0, 0, 0, 0, 0, 0, 0, 0, 0, 0, 0, 0, 0, 0, 0, 0, 0, 0, 0, 0, 0, 0, 0, 0, 0, 0, 0, 0, 0, 0, 0, 0, 0, 0, 0, 0, 0, 0, 0, 0, 0, 0, 0, 0, 0, 0, 0, 0, 0, 0, 0, 0, 0, 0, 0, 0, 0, 0, 0, 0, 0, 0, 0, 0, 0, 0, 0, 0, 0, 0, 0, 0, 0, 0, 0, 0, 0, 0, 0, 0, 0, 0, 0, 0, 0, 0, 0, 0, 0, 0, 0, 0, 0, 0, 0, 0, 0, 0, 0, 0, 0, 0, 0, 0, 0, 0, 0, 0, 0, 0, 0, 0, 0, 0, 0, 0, 0, 0, 0, 0, 0, 0, 0, 0, 0, 0, 0, 0, 0, 0, 0, 0, 0, 0, 0, 0, 0, 0, 0, 0, 0, 0, 0, 0, 0, 0, 0, 0, 0, 0, 0, 0, 0, 0, 0, 0, 0, 0, 0, 0, 0, 0, 0, 0, 0, 0, 0, 0, 0, 0, 0, 0, 0, 0, 0, 0, 0, 0, 0, 0, 0, 0, 0, 0, 0, 0, 0, 0, 0, 0, 0, 0, 0, 0, 0, 0, 0, 0, 0, 0, 0, 0, 0, 0, 0, 0, 0, 0, 0, 0, 0, 0, 0, 0, 0, 0, 0, 0, 0, 0, 0, 0, 0, 0, 0, 0, 0, 0, 0, 0, 0, 0, 0, 0, 0, 0, 0, 0, 0, 0, 0, 0, 0, 0, 0, 0, 0, 0, 0, 0, 0, 0, 0, 0, 0, 0, 0, 0, 0, 0, 0, 0, 0, 0, 0, 0, 0, 0, 0, 0, 0, 0, 1, 1, 1, 1, 1, 1, 1, 1, 1, 1, 1, 1, 1, 1, 1, 1, 1, 1, 1, 1, 1, 1, 1, 1, 1, 1, 1, 1, 1, 1, 1, 1, 1, 1, 1, 1, 1, 1, 1, 1, 1, 1, 1, 1, 1, 1, 1, 1, 1, 1, 1, 1, 1, 1, 1, 1, 1, 1, 1, 1, 1, 1, 1, 1, 1, 1, 1, 1, 1, 1, 1, 1, 1, 1, 1, 1, 1, 1, 1, 1, 1, 1, 1, 1, 1, 1, 1, 1, 1, 1, 1, 1, 1, 1, 1, 1, 1, 1, 1, 1, 1, 1, 1, 1, 1, 1, 1, 1, 1, 1, 1, 1, 1, 1, 1, 1, 1, 1, 1, 1, 1, 1, 1, 1, 1, 1, 1, 1, 1, 1, 1, 1, 1, 1, 1, 1, 1, 1, 1, 1, 1, 1, 1, 1, 1, 1, 1, 1, 1, 1, 1, 1, 1, 1, 1, 1, 1, 1, 1, 1, 1, 1, 1, 1, 1, 1, 1, 1, 1, 1, 1, 1, 1, 1, 1, 1, 1, 1, 1, 1, 1, 1, 1, 1, 1, 1, 1, 1, 1, 1, 1, 1, 1, 1, 1, 1, 1, 1, 1, 1, 1, 1, 1, 1, 1, 1, 1, 1, 1, 1, 1, 1, 1, 1, 1, 1, 1, 1, 1, 1, 1, 1, 1, 1, 1, 1, 1, 1, 1, 1, 1, 1, 1, 1, 1, 1, 1, 1, 1, 1, 1, 1, 1, 1, 1, 1, 1, 1, 1, 1, 1, 1, 1, 1, 1, 1, 1, 1, 1, 1, 1, 1, 1, 1, 1, 1, 1, 1, 1, 1, 1, 1, 1, 1, 1, 1, 1, 1, 1, 1, 1, 1, 1, 1, 1, 1, 1, 1, 1, 1, 1, 1, 1, 1, 1, 1, 1, 1, 1, 1, 1, 1, 1, 1, 1, 1, 1, 1, 1, 1, 1, 1, 1, 1, 1, 1, 1, 1, 1, 1, 1, 1, 1, 1, 1, 1, 1, 1, 1, 1, 1, 1, 1, 1, 0, 0, 0, 0, 0, 0, 0, 0, 0, 0, 0, 0, 0, 0, 0, 0, 0, 0, 0, 0, 0, 0, 1, 1, 1, 1, 1, 1, 1, 1, 1, 1, 1, 1, 1, 1, 1, 1, 1, 1, 1, 1, 1, 1, 1, 1, 1, 1, 1, 1, 1, 1, 1, 1, 1, 1, 1, 1, 1, 1, 1, 1, 1, 1, 1, 1, 1, 1, 1, 1, 1, 1, 1, 1, 1, 1, 1, 1, 1, 1, 1, 1, 1, 1, 1, 1, 1, 1, 1, 1, 1, 1, 1, 1, 1, 1, 1, 1, 1, 1, 1, 1, 1, 1, 1, 1, 1, 1, 1, 1, 1, 1, 1, 1, 1, 1, 1, 1, 1, 1, 1, 1, 1, 1, 1, 1, 1, 1, 1, 1, 1, 1, 1, 1, 1, 1, 1, 1, 1, 1, 1, 1, 1, 1, 1, 1, 1, 1, 1, 1, 1, 1, 1, 1, 1, 1, 1, 1, 1, 1, 1, 1, 1, 1, 1, 1, 1, 1, 1, 1, 1, 1, 1, 1, 1, 1, 1, 1, 1, 1, 1, 1, 1, 1, 1, 1, 1, 1, 1, 1, 1, 1, 1, 1, 1, 1, 1, 1, 1, 1, 1, 1, 1, 1, 1, 1, 1, 1, 1, 1, 1, 1, 1, 1, 1, 1, 1, 1, 1, 1, 1, 1, 1, 1, 1, 1, 1, 1, 1, 1, 1, 1, 1, 1, 1, 1, 1, 1, 1, 1, 1, 1, 1, 1, 1, 1, 1, 1, 1, 1, 1, 1, 1, 1, 1, 1, 1, 1, 1, 1, 1, 1, 1, 1, 1, 1, 1, 1, 1, 1, 1, 1, 1, 1, 1, 1, 1, 1, 1, 1, 1, 1, 1, 1, 1, 1, 1, 1, 1, 1, 1, 1, 1, 1, 1, 1, 1, 1, 1, 1, 1, 1, 0, 0, 0, 0, 0, 0, 0, 0, 0, 0, 0, 0, 0, 0, 0, 0, 0, 0, 0, 0, 0, 0, 0, 0, 0, 0, 0, 0, 0, 0, 0, 0, 0, 0, 0, 0, 0, 0, 0, 0, 0, 0, 0, 0, 0, 0, 0, 0, 0, 0, 0, 0, 0, 0, 0, 0, 0, 0, 0, 0, 0, 0, 0, 0, 0, 0, 0, 0, 0, 0, 0, 0, 0, 0, 0, 0, 0, 0, 0, 0, 0, 0, 0, 0, 0, 0, 0, 0, 0, 0, 0, 0, 0, 0, 0, 0, 0, 0, 0, 0, 0, 0, 0, 0, 0, 0, 0, 0, 0, 0, 0, 0, 0, 0, 0, 0, 0, 0, 0, 0, 0, 0, 0, 0, 0, 0, 0, 0, 0, 0, 0, 0, 0, 0, 0, 0, 0, 0, 0, 0, 0, 0, 0, 0, 0, 0, 0, 0, 0, 0, 0, 0, 0, 0, 0, 0, 0, 0, 0, 0, 0, 0, 0, 0, 0, 0, 0, 0, 0, 0, 0, 0, 0, 0, 0, 0, 0, 0, 0, 0, 0, 0, 0, 0, 0, 0, 0, 0, 0, 0, 0, 0, 0, 0, 0, 0, 0, 0, 0, 0, 0, 0, 0, 0, 0, 0, 0, 0, 0, 0, 0, 0, 0, 0, 0, 0, 0, 0, 0, 0, 0, 0, 0, 0, 0, 0, 0, 0, 0, 0, 0, 0, 0, 0, 0, 0, 0, 0, 0, 0, 0, 0, 0, 0, 0, 0, 0, 0, 0, 0, 0, 0, 0, 0, 0, 0, 0, 0, 0, 0, 0, 0, 0, 0, 0, 0, 0, 0, 0, 0, 0, 0, 0, 0, 0, 0, 0, 0, 0, 0, 0, 0, 0, 0, 0, 0, 0, 0, 0, 0, 0, 0, 0, 0, 0, 0, 0, 0, 0, 0, 0, 0, 0, 0, 0, 0, 0, 0, 0, 0, 0, 0, 0, 0, 0, 0, 0, 0, 0, 0, 0, 0, 0, 0, 0, 0, 0, 0, 0, 0, 0, 0, 0, 0, 0, 0, 0, 0, 0, 0, 0, 0, 0, 0, 0, 0, 0, 0, 0, 0, 0, 0, 0, 0, 0, 0, 0, 0, 0, 0, 0, 0, 0, 0, 0, 0, 0, 0, 0, 0, 0, 0, 0, 0, 0, 0, 0, 0, 0, 0, 0, 0, 0, 0, 0, 0, 0, 0, 0, 0, 0, 0, 0, 0, 0, 0, 0, 0, 0, 0, 0, 0, 0, 0, 0, 0, 0, 0, 0, 0, 0, 0, 0, 0, 0, 0, 0, 0, 0, 0, 0, 0, 0, 0, 0, 0, 0, 0, 0, 0, 0, 0, 0, 0, 0, 0, 0, 0, 0, 0, 0, 0, 0, 0, 0, 0, 0, 0, 0, 0, 0, 0, 0, 0, 0, 0, 0, 0, 0, 0, 0, 0, 0, 0, 0, 0, 0, 0, 0, 0, 0, 0, 0, 0, 0, 0, 0, 0, 0, 0, 0, 0, 0, 0, 0, 0, 0, 0, 0, 0, 0, 0, 0, 0, 0, 0, 0, 0, 0, 0, 0, 0, 0, 0, 0, 0, 0, 0, 0, 0, 0, 0, 0, 0, 0, 0, 0, 0, 0, 0, 0, 0, 0, 0, 0, 0, 0, 0, 0, 0, 0, 0, 0, 0, 0, 0, 0, 0, 0, 0, 0, 0, 0, 0, 0, 0, 0, 0, 0, 0, 0, 0, 0, 0, 0, 0, 0, 0, 0, 0, 0, 0, 0, 0, 0, 0, 0, 0, 0, 0, 0, 0, 0, 0, 0, 0, 0, 0, 0, 0, 0, 0, 0, 0, 0, 0, 0, 0, 0, 0, 0, 0, 0, 0, 0, 0, 0, 0, 0, 0, 0, 0, 0, 0, 0, 0, 0, 0, 0, 0, 0, 0, 0, 0, 0, 0, 0, 0, 0, 0, 0, 0, 0, 0, 0, 0, 0, 0, 0, 0, 0, 0, 0, 0, 0, 0, 0, 0, 0, 0, 0, 0, 0, 0, 0, 0, 0, 0, 0, 0, 0, 0, 0, 0, 0, 0, 0, 0, 0, 0, 0, 0, 0, 0, 0, 0, 0, 0, 0, 0, 0, 0, 0, 0, 0, 0, 0, 0, 0, 0, 0, 0, 0, 0, 0, 0, 0, 0, 0, 0, 0, 0, 0, 0, 0, 0, 0, 0, 0, 0, 0, 0, 0, 0, 0, 0, 0, 0, 0, 0, 0, 0, 0, 0, 0, 0, 0, 0, 0, 0, 0, 0, 0, 0, 0, 0, 0, 0, 0, 0, 0, 0, 0, 0, 0, 0, 0, 0, 0, 0, 0, 0, 0, 0, 0, 0, 0, 0, 0, 0, 0, 0, 0, 0, 0, 0, 0, 0, 0, 0, 0, 0, 0, 0, 0, 0, 0, 0, 0, 0, 0, 0, 0, 0, 0, 0, 0, 0, 0, 0, 0, 0, 0, 0, 0, 0, 0, 0, 0, 0, 0, 0, 0, 0, 0, 0, 0, 0, 0, 0, 0, 0, 0, 0, 0, 1, 1, 1, 1, 1, 1, 1, 1, 1, 1, 1, 1, 1, 1, 1, 1, 1, 1, 1, 1, 1, 1, 1, 1, 1, 1, 1, 1, 1, 1, 1, 1, 1, 1, 1, 1, 1, 1, 1, 1, 1, 1, 1, 1, 1, 1, 1, 1, 1, 1, 1, 1, 1, 1, 1, 1, 1, 1, 1, 1, 1, 1, 1, 1, 1, 1, 1, 1, 1, 1, 1, 1, 1, 1, 1, 1, 1, 1, 1, 1, 1, 1, 1, 1, 1, 1, 1, 1, 1, 1, 1, 1, 1, 1, 1, 1, 1, 1, 1, 1, 1, 1, 1, 1, 1, 1, 1, 1, 1, 1, 1, 1, 1, 1, 1, 1, 1, 1, 1, 1, 1, 1, 1, 1, 1, 1, 1, 1, 1, 1, 1, 1, 1, 1, 1, 1, 1, 1, 1, 1, 1, 1, 1, 1, 1, 1, 1, 1, 1, 1, 1, 1, 1, 1, 1, 1, 1, 1, 1, 1, 1, 1, 1, 1, 1, 1, 1, 1, 1, 1, 1, 1, 1, 1, 1, 1, 1, 1, 1, 1, 1, 1, 1, 1, 1, 1]\n",
            "[1, 1, 1, 1, 1, 1, 1, 1, 1, 1, 1, 1, 1, 1, 1, 1, 1, 1, 1, 1, 1, 1, 1, 1, 1, 1, 1, 1, 1, 1, 1, 1, 1, 1, 1, 1, 1, 1, 1, 1, 1, 1, 1, 1, 1, 1, 1, 1, 1, 1, 1, 1, 1, 1, 1, 1, 1, 1, 1, 1, 1, 1, 1, 1, 1, 1, 1, 1, 1, 1, 1, 1, 1, 1, 1, 1, 1, 1, 1, 1, 1, 1, 1, 1, 1, 1, 1, 1, 1, 1, 1, 1, 1, 1, 1, 1, 1, 1, 1, 1, 1, 1, 1, 1, 1, 1, 1, 1, 1, 1, 1, 1, 1, 1, 1, 1, 1, 1, 1, 1, 1, 1, 1, 1, 1, 1, 1, 1, 1, 1, 1, 1, 1, 1, 1, 1, 1, 1, 1, 1, 1, 1, 1, 1, 1, 1, 1, 1, 1, 1, 1, 1, 1, 1, 1, 1, 1, 1, 1, 1, 1, 1, 1, 1, 1, 1, 1, 1, 1, 1, 1, 1, 1, 1, 1, 1, 1, 1, 1, 1, 1, 1, 1, 1, 1, 1, 1, 1, 1, 1, 1, 1, 1, 1, 1, 0, 0, 0, 0, 0, 0, 0, 0, 0, 0, 0, 0, 0, 0, 0, 0, 0, 0, 0, 0, 0, 0, 0, 1, 1, 1, 1, 1, 1, 1, 1, 0, 0, 0, 0, 0, 0, 0, 0, 0, 0, 0, 0, 0, 0, 0, 0, 0, 0, 0, 0, 0, 0, 0, 0, 0, 0, 0, 0, 0, 0, 0, 0, 0, 0, 0, 0, 0, 0, 0, 0, 0, 0, 0, 0, 0, 0, 0, 0, 0, 0, 0, 0, 0, 0, 0, 0, 0, 0, 0, 0, 0, 0, 0, 0, 0, 0, 0, 0, 0, 0, 0, 0, 0, 0, 0, 0, 0, 0, 0, 0, 0, 0, 0, 0, 0, 0, 0, 0, 0, 0, 0, 0, 0, 0, 0, 0, 0, 0, 0, 0, 0, 0, 0, 0, 0, 0, 0, 0, 0, 0, 0, 0, 0, 0, 0, 0, 0, 0, 0, 0, 0, 0, 0, 0, 0, 0, 0, 0, 0, 0, 0, 0, 0, 0, 0, 0, 0, 0, 0, 0, 0, 0, 0, 0, 0, 0, 0, 0, 0, 0, 0, 0, 0, 0, 0, 0, 0, 0, 0, 0, 0, 0, 0, 0, 0, 0, 0, 0, 0, 0, 0, 0, 0, 0, 0, 0, 0, 0, 0, 0, 0, 0, 0, 0, 0, 0, 0, 0, 0, 0, 0, 0, 0, 0, 0, 0, 0, 0, 0, 0, 0, 0, 0, 0, 0, 0, 0, 0, 0, 0, 0, 0, 0, 0, 0, 0, 0, 0, 0, 0, 0, 0, 0, 0, 0, 0, 0, 0, 0, 0, 0, 0, 0, 0, 0, 0, 0, 0, 0, 0, 0, 0, 0, 0, 0, 0, 0, 0, 0, 0, 0, 0, 0, 0, 0, 0, 0, 0, 0, 0, 0, 0, 0, 0, 0, 0, 0, 0, 0, 0, 0, 0, 0, 0, 0, 0, 0, 0, 0, 0, 0, 0, 0, 0, 0, 0, 0, 0, 0, 0, 0, 0, 0, 0, 0, 0, 0, 0, 0, 0, 0, 0, 0, 0, 0, 0, 0, 0, 0, 0, 0, 0, 0, 0, 0, 0, 0, 0, 0, 0, 0, 0, 0, 0, 0, 0, 0, 0, 0, 0, 0, 0, 0, 0, 0, 0, 0, 0, 0, 0, 0, 0, 0, 0, 0, 0, 0, 0, 0, 0, 0, 0, 0, 0, 0, 0, 0, 0, 0, 0, 0, 0, 0, 0, 0, 0, 0, 0, 0, 0, 0, 0, 0, 0, 0, 0, 0, 0, 0, 0, 0, 0, 0, 0, 0, 0, 0, 0, 0, 0, 0, 0, 0, 0, 0, 0, 0, 0, 0, 0, 0, 0, 0, 0, 0, 0, 0, 0, 0, 0, 0, 0, 0, 0, 0, 0, 0, 0, 0, 0, 0, 0, 0, 0, 0, 0, 0, 0, 0, 0, 0, 0, 0, 0, 0, 0, 0, 0, 0, 0, 0, 0, 0, 0, 0, 0, 0, 0, 0, 0, 0, 0, 0, 0, 0, 0, 0, 0, 0, 0, 0, 0, 0, 0, 0, 0, 0, 0, 0, 0, 0, 0, 0, 0, 0, 0, 0, 0, 0, 0, 0, 0, 0, 0, 0, 0, 0, 0, 0, 0, 0, 0, 0, 0, 0, 0, 0, 0, 0, 0, 0, 0, 0, 0, 0, 0, 0, 0, 0, 0, 0, 0, 0, 0, 0, 0, 0, 0, 0, 0, 0, 0, 0, 0, 0, 0, 0, 0, 0, 0, 0, 0, 0, 0, 0, 0, 0, 0, 0, 0, 0, 0, 0, 0, 0, 0, 0, 0, 0, 0, 0, 0, 0, 0, 0, 0, 0, 0, 0, 0, 0, 0, 0, 0, 0, 0, 0, 0, 0, 0, 0, 0, 0, 0, 0, 0, 0, 0, 0, 0, 0, 0, 0, 0, 0, 0, 0, 0, 0, 0, 0, 0, 0, 0, 0, 0, 0, 0, 0, 0, 0, 0, 0, 0, 0, 0, 0, 0, 0, 0, 0, 0, 0, 0, 0, 0, 0, 0, 0, 0, 0, 0, 0, 0, 0, 0, 0, 0, 0, 0, 0, 0, 0, 0, 0, 0, 0, 0, 0, 0, 0, 0, 0, 0, 0, 0, 0, 0, 0, 0, 0, 0, 0, 0, 0, 0, 0, 0, 0, 0, 0, 0, 0, 0, 0, 0, 0, 0, 0, 0, 0, 0, 0, 0, 0, 0, 0, 0, 0, 0, 0, 0, 0, 0, 0, 0, 0, 0, 0, 0, 0, 0, 0, 0, 0, 0, 0, 0, 0, 0, 0, 0, 0, 0, 0, 0, 0, 0, 0, 0, 0, 0, 0, 0, 0, 0, 0, 0, 0, 0, 0, 0, 0, 0, 0, 0, 0, 0, 0, 0, 0, 0, 0, 0, 0, 0, 0, 0, 0, 0, 0, 0, 0, 0, 0, 0, 0, 0, 0, 0, 0, 0, 0, 0, 0, 0, 0, 0, 0, 0, 0, 0, 0, 0, 0, 0, 0, 0, 0, 0, 0, 0, 0, 0, 0, 0, 0, 0, 0, 0, 0, 0, 0, 0, 0, 0, 0, 0, 0, 0, 0, 0, 0, 0, 0, 0, 0, 0, 0, 0, 0, 0, 0, 0, 0, 0, 0, 0, 0, 0, 0, 1, 1, 1, 0, 0, 0, 0, 1, 1, 1, 1, 1, 1, 1, 1, 1, 1, 1, 1, 1, 1, 1, 1, 1, 1, 1, 1, 1, 1, 1, 1, 1, 1, 1, 1, 1, 1, 1, 1, 1, 1, 1, 1, 1, 1, 1, 1, 1, 1, 1, 1, 1, 1, 1, 1, 1, 1, 1, 1, 1, 1, 1, 1, 1, 1, 1, 1, 1, 1, 1, 1, 1, 1, 1, 1, 1, 1, 1, 1, 1, 1, 1, 1, 1, 1, 1, 1, 1, 1, 1, 1, 1, 1, 1, 0, 0, 1, 1, 1, 1, 1, 1, 1, 1, 1, 1, 1, 1, 1, 1, 1, 1, 1, 1, 1, 1, 1, 1, 1, 1, 1, 1, 1, 1, 1, 1, 1, 1, 1, 1, 1, 1, 1, 1, 1, 1, 1, 1, 1, 1, 1, 1, 1, 1, 1, 1, 1, 1, 1, 1, 1, 1, 1, 1, 1, 1, 1, 1, 1, 1, 1, 1, 1, 1, 1, 1, 1, 1, 1, 1, 1, 1, 1, 1, 1, 1, 1, 1, 1, 1, 1, 1, 1, 1, 1, 1, 1, 1, 1, 1, 1, 1, 1, 1, 1, 1, 1, 1, 1, 1, 1, 1, 1, 1, 1, 1, 1, 1, 1, 1, 1, 1, 1, 1, 1, 1, 1, 1, 1, 1, 1, 1, 1, 1, 1, 1, 1, 1, 1, 1, 1, 1, 1, 1, 1, 1, 1, 1, 1, 1, 1, 1, 1, 1, 1, 1, 1, 1, 1, 1, 1, 1, 0, 1, 1, 1, 1, 1, 1, 1, 1, 1, 1, 1, 1, 1, 1, 1, 1, 1, 1, 1, 1, 1, 1, 1, 1, 1, 1, 1, 1, 1, 1, 0, 0, 0, 1, 1, 1, 1, 1, 1, 1, 1, 1, 1, 1, 1, 1, 1, 1, 1, 1, 1, 1, 1, 1, 1, 1, 1, 1, 1, 1, 1, 1, 1, 1, 1, 1, 1, 1, 1, 1, 1, 1, 1, 1, 1, 1, 1, 1, 1, 1, 1, 0, 0, 0, 0, 0, 0, 0, 0, 0, 0, 0, 0, 0, 0, 0, 0, 0, 0, 0, 0, 0, 0, 0, 1, 0, 0, 0, 0, 0, 1, 1, 1, 1, 1, 1, 1, 1, 1, 1, 1, 1, 1, 1, 1, 1, 1, 1, 1, 1, 1, 1, 1, 1, 1, 1, 1, 1, 1, 1, 1, 1, 1, 1, 1, 1, 1, 1, 1, 1, 1, 1, 1, 1, 1, 1, 1, 1, 1, 1, 1, 1, 1, 1, 1, 1, 1, 1, 1, 1, 1, 1, 1, 1, 1, 1, 1, 1, 1, 1, 1, 1, 1, 1, 1, 1, 1, 1, 1, 1, 1, 1, 1, 1, 1, 1, 1, 1, 1, 1, 1, 1, 1, 1, 1, 1, 1, 1, 1, 1, 1, 1, 1, 1, 1, 1, 1, 1, 1, 1, 1, 1, 1, 1, 1, 1, 1, 1, 1, 1, 1, 1, 1, 1, 1, 1, 1, 1, 1, 1, 1, 1, 1, 1, 1, 1, 1, 1, 1, 1, 1, 1, 1, 1, 1, 1, 1, 1, 1, 1, 1, 1, 1, 1, 1, 1, 1, 1, 1, 1, 1, 1, 1, 1, 1, 1, 1, 1, 1, 1, 1, 1, 1, 1, 1, 1, 1, 1, 1, 1, 1, 1, 1, 1, 1, 1, 1, 1, 1, 1, 1, 1, 1, 1, 1, 1, 1, 1, 1, 1, 1, 1, 1, 1, 1, 1, 1, 1, 1, 1, 1, 1, 1, 1, 1, 1, 1, 1, 1, 1, 1, 1, 1, 1, 1, 1, 1, 1, 1, 1, 1, 1, 1, 1, 1, 1, 1, 1, 1, 1, 1, 1, 1, 1, 1, 1, 1, 1, 1, 1, 1, 1, 1, 1, 1, 1, 1, 1, 1, 1, 1, 1, 1, 1, 1, 1, 1, 1, 1, 1, 1, 1, 1, 1, 0, 0, 0, 0, 0, 0, 0, 0, 0, 0, 0, 0, 0, 0, 0, 0, 0, 0, 0, 0, 0, 0, 0, 0, 0, 0, 0, 0, 0, 0, 0, 0, 0, 0, 0, 0, 0, 0, 0, 0, 0, 0, 0, 0, 0, 0, 0, 0, 0, 0, 0, 0, 0, 0, 0, 0, 0, 0, 0, 0, 0, 0, 0, 0, 0, 0, 0, 0, 0, 0, 0, 0, 0, 0, 0, 0, 0, 0, 0, 0, 0, 0, 0, 0, 0, 0, 0, 0, 0, 0, 0, 0, 0, 0, 0, 0, 0, 0, 0, 0, 0, 0, 0, 0, 0, 0, 0, 0, 0, 0, 0, 0, 0, 0, 0, 0, 0, 0, 0, 0, 0, 0, 0, 0, 0, 0, 0, 0, 0, 0, 0, 0, 0, 0, 0, 0, 0, 0, 0, 0, 0, 0, 0, 0, 0, 0, 0, 0, 0, 0, 0, 0, 0, 0, 0, 0, 0, 0, 0, 0, 0, 0, 0, 0, 0, 0, 0, 0, 0, 0, 0, 0, 0, 0, 0, 0, 0, 0, 0, 0, 0, 0, 0, 0, 0, 0, 0, 0, 0, 0, 0, 0, 0, 0, 0, 0, 0, 0, 0, 0, 0, 0, 0, 0, 0, 0, 0, 0, 0, 0, 0, 0, 0, 0, 0, 0, 0, 0, 0, 0, 0, 0, 0, 0, 0, 0, 0, 0, 0, 0, 0, 0, 0, 0, 0, 0, 0, 0, 0, 0, 0, 0, 0, 0, 0, 0, 0, 0, 0, 0, 0, 0, 0, 0, 0, 0, 0, 0, 0, 0, 0, 0, 0, 0, 0, 0, 0, 0, 0, 0, 0, 0, 0, 0, 0, 0, 0, 0, 0, 0, 0, 0, 0, 0, 0, 0, 0, 0, 0, 0, 0, 0, 0, 0, 0, 0, 0, 0, 0, 0, 0, 0, 0, 0, 0, 0, 0, 0, 0, 0, 0, 0, 0, 0, 0, 0, 0, 0, 0, 0, 0, 0, 0, 0, 0, 0, 0, 0, 0, 0, 0, 0, 0, 0, 0, 0, 0, 0, 0, 0, 0, 0, 0, 0, 0, 0, 0, 0, 0, 0, 0, 0, 0, 0, 0, 0, 0, 0, 0, 0, 0, 0, 0, 0, 0, 0, 0, 0, 0, 0, 0, 0, 0, 0, 0, 0, 0, 0, 0, 0, 0, 0, 0, 0, 0, 0, 0, 0, 0, 0, 0, 0, 0, 0, 0, 0, 0, 0, 0, 0, 0, 0, 0, 0, 0, 0, 0, 0, 0, 0, 0, 0, 0, 0, 0, 0, 0, 0, 0, 0, 0, 0, 0, 0, 0, 0, 0, 0, 0, 0, 0, 0, 0, 0, 0, 0, 0, 0, 0, 0, 0, 0, 0, 0, 0, 0, 0, 0, 0, 0, 0, 0, 0, 0, 0, 0, 0, 0, 0, 0, 0, 0, 0, 0, 0, 0, 0, 0, 0, 0, 0, 0, 0, 0, 0, 0, 0, 0, 0, 0, 0, 0, 0, 0, 0, 0, 0, 0, 0, 0, 0, 0, 0, 0, 0, 0, 0, 0, 0, 0, 0, 0, 0, 0, 0, 0, 0, 0, 0, 0, 0, 0, 0, 0, 0, 0, 0, 0, 0, 0, 0, 0, 0, 0, 0, 0, 0, 0, 0, 0, 0, 0, 0, 0, 0, 0, 0, 0, 0, 0, 0, 0, 0, 0, 0, 0, 0, 0, 0, 0, 0, 0, 0, 0, 0, 0, 0, 0, 0, 0, 0, 0, 0, 0, 0, 0, 0, 0, 0, 0, 0, 0, 0, 0, 0, 0, 0, 0, 0, 0, 0, 0, 0, 0, 0, 0, 0, 0, 0, 0, 0, 0, 0, 0, 0, 0, 0, 0, 0, 0, 0, 0, 0, 0, 0, 0, 0, 0, 0, 0, 0, 0, 0, 0, 0, 0, 0, 0, 0, 0, 0, 0, 0, 0, 0, 0, 0, 0, 0, 0, 0, 0, 0, 0, 0, 0, 0, 0, 0, 0, 0, 0, 0, 0, 0, 0, 0, 0, 0, 0, 0, 0, 0, 0, 0, 0, 0, 0, 0, 0, 0, 0, 0, 0, 0, 0, 0, 0, 0, 0, 0, 0, 0, 0, 0, 0, 0, 0, 0, 0, 0, 0, 0, 0, 0, 0, 0, 0, 0, 0, 0, 0, 0, 0, 0, 0, 0, 0, 0, 0, 0, 0, 0, 0, 0, 0, 0, 0, 0, 0, 0, 0, 0, 0, 0, 0, 0, 0, 0, 0, 0, 0, 0, 0, 0, 0, 0, 0, 0, 0, 0, 0, 0, 0, 0, 0, 0, 0, 0, 0, 0, 0, 0, 0, 0, 0, 0, 0, 0, 0, 0, 0, 0, 0, 0, 0, 0, 0, 0, 0, 0, 0, 0, 0, 0, 0, 0, 0, 0, 0, 0, 0, 0, 0, 0, 0, 0, 0, 0, 0, 0, 0, 0, 0, 0, 0, 0, 0, 0, 0, 0, 0, 0, 0, 0, 0, 0, 0, 0, 0, 0, 0, 0, 0, 0, 1, 1, 1, 1, 1, 1, 1, 1, 1, 1, 0, 0, 0, 0, 0, 1, 1, 1, 1, 1, 1, 1, 1, 1, 1, 1, 1, 1, 1, 1, 1, 1, 1, 1, 1, 1, 1, 1, 1, 1, 1, 1, 1, 1, 1, 1, 1, 1, 1, 1, 1, 1, 1, 1, 1, 0, 0, 0, 0, 0, 0, 0, 1, 1, 1, 1, 1, 1, 1, 1, 1, 1, 1, 1, 1, 1, 1, 1, 1, 0, 0, 1, 1, 1, 1, 1, 1, 1, 1, 1, 1, 1, 1, 1, 1, 1, 1, 1, 1, 1, 1, 1, 1, 1, 1, 1, 1, 1, 1, 1, 0, 0, 1, 1, 1, 1, 1, 1, 1, 1, 1, 1, 1, 1, 1, 1, 1, 1, 1, 1, 1, 1, 1, 1, 1, 1, 1, 1, 1, 1, 1, 1, 1, 1, 1, 1, 1, 1, 1, 1, 1, 1, 1, 1, 1, 1, 1, 1, 1, 1, 1, 1, 1, 1, 1, 1, 1, 1, 1, 1, 1, 1, 1, 1, 1, 1, 1, 1, 1, 1, 1, 1, 1, 1, 1, 1]\n",
            "la exactitud del spv es de: 97.899%\n",
            "los valores verdaderos negativos son 61.463% de la población de testeo \n",
            "los valores falsos negativos son 0.038% de la población de testeo \n",
            "los valores falsos positivos son 2.064% de la población de testeo \n",
            "los valores verdaderos positivos son 36.435% de la población de testeo \n"
          ]
        },
        {
          "output_type": "stream",
          "name": "stderr",
          "text": [
            "/usr/local/lib/python3.9/dist-packages/sklearn/svm/_base.py:1244: ConvergenceWarning: Liblinear failed to converge, increase the number of iterations.\n",
            "  warnings.warn(\n"
          ]
        }
      ]
    },
    {
      "cell_type": "markdown",
      "source": [
        "**Regresión lineal**"
      ],
      "metadata": {
        "id": "oMoDGG3o8umD"
      }
    },
    {
      "cell_type": "code",
      "source": [
        "a_t1x = a[[\"Temperature\",\t\"Humidity\",\t\"Light\",\t\"CO2\",\t\"HumidityRatio\", \"day\",\t\"hour\",\t\"minuto\"]]\n",
        "a_t1y = a[[\"Occupancy\"]]\n",
        "X = a_t1x.to_numpy()\n",
        "y = np.ravel(a_t1y)\n",
        "reg = LinearRegression().fit(X, y)\n",
        "reg\n",
        "print(reg.coef_)\n",
        "print(reg.intercept_)\n",
        "\n",
        "a_test11 = a1[[\"Temperature\",\t\"Humidity\",\t\"Light\",\t\"CO2\",\t\"HumidityRatio\", \"day\",\t\"hour\",\t\"minuto\"]]\n",
        "a_test1y = a1[[\"Occupancy\"]]\n",
        "Xtest = a_test11.to_numpy()\n",
        "ytest = a_test1y.to_numpy()\n",
        "ypredict = reg.predict(Xtest)\n",
        "ypredict"
      ],
      "metadata": {
        "colab": {
          "base_uri": "https://localhost:8080/"
        },
        "id": "pvHs9txJ8wEE",
        "outputId": "ad4931e2-5eb1-42eb-d85d-d9f412315c55"
      },
      "execution_count": 73,
      "outputs": [
        {
          "output_type": "stream",
          "name": "stdout",
          "text": [
            "[-1.15665929e-01 -9.43593473e-03  1.81801820e-03  3.32786251e-04\n",
            "  9.04411226e+01 -4.10697231e-02 -1.54743009e-03 -1.51595350e-04]\n",
            "2.3842750696082096\n"
          ]
        },
        {
          "output_type": "execute_result",
          "data": {
            "text/plain": [
              "array([1.03251187, 1.02239328, 1.0132497 , ..., 1.43957778, 1.42884338,\n",
              "       1.39685312])"
            ]
          },
          "metadata": {},
          "execution_count": 73
        }
      ]
    },
    {
      "cell_type": "markdown",
      "source": [
        "**regla planteada para regresión lineal de clasificación**\n",
        "\n",
        "En las siguientes lineas cuando la regresión estime un valor menor que 0.5 este tomara el valor de -1 y cuando estime un valor mayor a 0.5 tomara el valor de 1"
      ],
      "metadata": {
        "id": "6iuZYpIK9fOX"
      }
    },
    {
      "cell_type": "code",
      "source": [
        "list_2 = ypredict.tolist()\n",
        "print(list_2)\n",
        "list_1 = a1[\"Occupancy\"].values.tolist()\n",
        "print(list_1)\n",
        "testeo = pd.DataFrame({'valor_verdadero':list_1, 'valor_estimado':list_2})\n",
        "testeo\n",
        "testeo['valor_estimado_exacto'] = testeo['valor_estimado']\n",
        "filtro2 = testeo['valor_estimado'] > 0.5\n",
        "testeo.loc[filtro2, 'valor_estimado'] = 1\n",
        "filtro2 = testeo['valor_estimado'] <= 0.5\n",
        "testeo.loc[filtro2, 'valor_estimado'] = 0\n",
        "testeo\n",
        "\n",
        "filtro2 = testeo['valor_verdadero'] == testeo['valor_estimado']\n",
        "filtro3 = testeo['valor_verdadero'] != testeo['valor_estimado']\n",
        "testeo.loc[filtro2, 'resultado'] = 'acerto'\n",
        "testeo.loc[filtro3, 'resultado'] = 'no acerto'\n",
        "testeo\n",
        "\n"
      ],
      "metadata": {
        "colab": {
          "base_uri": "https://localhost:8080/",
          "height": 480
        },
        "id": "fH3Y6YZq9Qqw",
        "outputId": "af99abd8-3e2c-4ef0-dfed-8e2394f67d89"
      },
      "execution_count": 80,
      "outputs": [
        {
          "output_type": "stream",
          "name": "stdout",
          "text": [
            "[1.0325118687787653, 1.0223932832510108, 1.013249700690611, 0.871242541598999, 0.8608552468921715, 1.0099704792462492, 0.9564448311349845, 0.9042727980028324, 0.846618599147132, 0.9119521850809877, 0.8616553924217274, 0.8697960477710767, 0.8606824528524712, 0.8544663806741226, 0.8481013956457419, 0.8514832644352046, 0.8418779157791092, 0.8518806640999665, 0.858242045296185, 0.869596188609431, 0.8899605276100433, 0.8804803955909251, 0.9456449657928698, 1.0050819952390906, 1.013721141799068, 1.0011669657409799, 0.9564711542732338, 0.9912989441163833, 0.9621728245180488, 1.0026928387107017, 1.0046205247953768, 0.9770608569629615, 0.9476108330863675, 0.9934118987497085, 0.9932416196725378, 0.9753462827183155, 0.975692523951748, 0.9471304579904705, 0.9507523154290185, 0.932801443860038, 0.9294889695030568, 0.9561185498116904, 0.9273322239484716, 0.9498962853814632, 0.9398954753088156, 0.9242970520454827, 0.9262633410737471, 0.9243649430246297, 0.9246293304875641, 0.9088976190284184, 0.8986218037061167, 0.9078694578568638, 0.9339862886986723, 0.9411278090042083, 0.9378507855159488, 0.9393631214187987, 0.9457369703991998, 0.9460711102162611, 0.9543701453668796, 0.9684941880144238, 0.9644496330475751, 0.9687518433322784, 0.9848897961399978, 0.9984154816706039, 0.9866973598289681, 0.9892959392849106, 0.9835234929593986, 0.9807016983163428, 0.9903969360737377, 0.9927890681799125, 0.988115917985253, 0.9762132912188592, 0.9856625084215311, 0.9940234228300384, 0.9881382695146197, 0.9884309741288824, 0.9561690742536926, 0.9791764864784329, 0.990226252669171, 1.003446000671901, 1.0021275328505315, 1.0038241708222795, 0.9977923458152169, 0.9858507361201827, 0.9855476535895176, 0.9733510886259817, 0.9746670677818736, 0.9873897518618766, 0.992127667325863, 0.9802868250657779, 0.9688050399485748, 0.9763135456736973, 0.977297636195904, 0.9830593406879147, 0.9830915947693826, 0.9791896134994229, 0.9636499120037536, 0.9492219739460586, 0.9193707110248226, 0.9190213640815748, 0.9188192455270927, 0.9270741135312792, 0.9272707396203574, 0.9246489961800999, 0.926170082780744, 0.9307124437968817, 0.9352488164387953, 0.9342926853077038, 0.9397975283275999, 0.9360135475033591, 0.9386666534172956, 0.9350615788131653, 0.9408821524405202, 0.9352885346736373, 0.9416924210184214, 0.9432626181344186, 0.9450466122423438, 0.9471067745195847, 0.9520844248747655, 0.93064420781322, 0.9315611203747056, 0.9357851034796392, 0.936158129025586, 0.940566260658388, 0.9493491483160295, 0.9324865434318164, 0.9261564964629918, 0.9209887237848888, 0.9295549390184208, 0.9284886863391975, 0.9182327277593794, 0.9184417406042344, 0.9193625834683756, 0.9349216781334415, 0.9331222371181829, 0.9247638849882147, 0.9272255073917963, 0.9254353739284822, 0.9183318485342491, 0.908555069752931, 0.9111576355233395, 0.9083819774637099, 0.905249348184441, 0.9032595444110125, 0.9073697124117759, 0.8928166941308806, 0.8869265736362415, 0.885183931630237, 0.8856564036736172, 0.8778829968464079, 0.8882570197321829, 0.8924485440769048, 0.9044200626825512, 0.9072196331423386, 0.8900286987941768, 0.8978908868060853, 0.8899544005317508, 0.8894100465011099, 0.8825724461439854, 0.8718212117610391, 0.8879862571839565, 0.8631733494938221, 0.873787505251777, 0.8719108933729305, 0.8664013180915628, 0.8726650050182887, 0.8739277512331554, 0.8638349987091125, 0.8603819987144354, 0.8589749372654527, 0.8656117768486742, 0.8751490732185414, 0.8705846897179743, 0.8696309857684961, 0.870557900561105, 0.8739433151063178, 0.8658433985933067, 0.866660226220084, 0.8680640878497949, 0.8738929573378875, 0.8729440754202824, 0.8736653088919835, 0.8720082153787763, 0.8716557781672729, 0.8657530696157174, 0.8574204595084491, 0.8689693007589485, 0.8730680227866419, 0.8709938385633484, 0.8722058510418458, 0.8735694627347299, 0.876894550577322, 0.8667890643544183, 0.8582400166800179, 0.8768528373354714, 0.8658014368802796, 0.857065228410874, 0.8590346542935503, 0.8655341832419019, 0.8710054968518737, 0.858043398989587, 0.8628959177288265, 0.8542965084555973, 0.8465552606900719, 0.849731527846143, 0.8477163294921646, 0.8439353101561886, 0.8434208459676349, 0.8432174911420862, 0.8421340942899116, 0.8417694820586088, 0.8444837886628556, 0.8385983222425177, 0.8437392716932925, 0.8394524029508617, 0.8435120728889274, 0.8406577302633536, 0.8405650730331455, 0.8370811640016855, 0.8372743765041022, 0.8373159938967021, 0.8441083571634838, 0.8389655825445379, 0.8477544715046252, 0.8475496570597307, 0.6602353783352257, 0.09449370589857242, 0.09307230507078579, 0.09150029791922032, 0.08780477370730733, 0.09229398390919918, 0.09421591806660246, 0.09331927854923805, 0.09261782333260804, 0.09189069287502472, 0.09256501109189497, 0.08949261716139656, 0.09444793294398934, 0.09428153981866716, 0.09249514865483777, 0.09094260626197137, 0.09526830247877838, 0.09741629807267005, 0.09240215609971303, 0.09525505080583141, 0.09436762080411354, 0.08933734106698799, 0.09025218599591467, 0.08630169447392833, 0.09162292186820498, 0.08983512745216649, 0.09500352484706376, 0.09614938364177705, 0.09569608228611948, 0.0991094165639983, 0.09736046800132314, 0.10041719515372227, 0.09798628960716904, 0.09577298541965451, 0.09621856378286253, 0.10348570399305679, 0.10104761885024605, 0.10345378686137963, 0.10273461334733236, 0.10248502365934886, 0.10377846606299235, 0.10093199820374821, 0.09819207862233803, 0.10189190157963512, 0.10143525216617366, 0.10236521213039618, 0.1001189049385478, 0.1041663565899591, 0.10686532061985776, 0.10631438176871422, 0.10607904472737406, 0.11424808341473991, 0.11408787681823673, 0.1083906274765214, 0.11016656732291397, 0.10923847072103987, 0.11605279036691751, 0.11592892720409997, 0.11548576580928938, 0.1153754896421999, 0.11216098203436875, 0.1117179150266856, 0.10986107382976229, 0.10966816847592842, 0.10915605468735956, 0.10793583843499732, 0.10636990151938885, 0.10912141931321129, 0.11734231687750407, 0.11233610770525271, 0.11471404619232972, 0.11186649484859146, 0.1120155188351788, 0.1133126918723728, 0.11885995782584047, 0.11660918838483036, 0.11699485450450942, 0.11336388868883018, 0.10891067466805326, 0.11564369372947603, 0.1169610431993755, 0.11577649225385711, 0.11410543901178771, 0.11442167846222961, 0.11341399768529437, 0.11292961608427898, 0.1167487580594484, 0.11801646990903158, 0.11707765802596137, 0.11851929056768817, 0.11912201071877737, 0.11914419646882024, 0.11745439639039423, 0.11724733666491538, 0.11596362968743223, 0.11411048476529251, 0.11265775548510115, 0.11106609509099385, 0.11331309275699031, 0.11429781133889838, 0.11432877755971926, 0.11652801558439219, 0.11880740715346194, 0.11343160075037328, 0.11626153445031484, 0.11244994774682393, 0.11588994496186311, 0.11324245273166111, 0.11383962644523926, 0.11335524484422432, 0.112823685218848, 0.11189709561275585, 0.11181188332517955, 0.11215946735077509, 0.1115526111034022, 0.1100698707504546, 0.10751946911336763, 0.11483200851735997, 0.1095754333617327, 0.11535015419095718, 0.11615069395322308, 0.11471187207924016, 0.11522584923015744, 0.11456027672886915, 0.11364143146443562, 0.11052803848333159, 0.11017121178352518, 0.10925790653732204, 0.10840007208550606, 0.10559767693642952, 0.10891404923642378, 0.10861085853568175, 0.10712811818273416, 0.10702737582064703, 0.10707451716997518, 0.10689057824522763, 0.10825964614068884, 0.10882825292621545, 0.1083756606608044, 0.10700251862852861, 0.11153403669995043, 0.11135235648005137, 0.11163955357633482, 0.11537682530126459, 0.11474084834987863, 0.11369390744183772, 0.11241585510274144, 0.11310249605754574, 0.11453565198674909, 0.11391260944796544, 0.11349848999700907, 0.1102686218281792, 0.10970104366450295, 0.11084955154727538, 0.10873228046247263, 0.11219549432480314, 0.11233878868031777, 0.1092203887881853, 0.11931019748661154, 0.11888687319074087, 0.11930098949772328, 0.11736088157730107, 0.1156829142315936, 0.11377121312428695, 0.11393574318824307, 0.1132849684619055, 0.11238460404758532, 0.11281538463584129, 0.11217754432210647, 0.11201296769266422, 0.10886629608649523, 0.11010130299720577, 0.1118484308130876, 0.11193349073809733, 0.11387474386685481, 0.1131130403903029, 0.11797317249482075, 0.11840395308307716, 0.11816916117004528, 0.10852459166717887, 0.11389659813014141, 0.11836514984526936, 0.1186720657953444, 0.11752211169304072, 0.11343875342107479, 0.1127406207596846, 0.1157361961739456, 0.11432077306177124, 0.10984449439186506, 0.11306283511853854, 0.11457517102138848, 0.11149392081754073, 0.11244723911340371, 0.11234191411494487, 0.10957053813376882, 0.11202461340662895, 0.10589526451334308, 0.11081849775697883, 0.10987933950971307, 0.10823020603144329, 0.10773102665547718, 0.10791221755575009, 0.10844099248161854, 0.10912136275785844, 0.10963533990877572, 0.11162665692811302, 0.10856858236913336, 0.10514462174258155, 0.10628347193947718, 0.10851687757387651, 0.10783833780483221, 0.1075758137042464, 0.10770161019163682, 0.10836718269292511, 0.10521321008121642, 0.10483981757539595, 0.10570866077136776, 0.10495993731807074, 0.10579376630703008, 0.10671362845660992, 0.10622924685559454, 0.10472887212973614, 0.10313520302657375, 0.10188545773383684, 0.10331591973672483, 0.10375445031041863, 0.10161570037503465, 0.10031415092235996, 0.10411809040760422, 0.10716906524565228, 0.10954374391633559, 0.11020672627994887, 0.10714856381503335, 0.10834018880127294, 0.10822755926979699, 0.10898580004746661, 0.11574909202305461, 0.11624606368283974, 0.11656368653224503, 0.11597726638585604, 0.11484211005850398, 0.1144806441704902, 0.11520449185905024, 0.1147456135962126, 0.12060918440289159, 0.11423572865701992, 0.1141340512442457, 0.11391960354367558, 0.1193866462237878, 0.11784262770224485, 0.11900941995759329, 0.11801106120566107, 0.11677791054069608, 0.11441977528865133, 0.11677420003512795, 0.1146813399401565, 0.11775406716033254, 0.11560575430609665, 0.1125890333074917, 0.11371074352457589, 0.11815765538319534, 0.11950359816072353, 0.11106748971673674, 0.11468433968935487, 0.11873450670907948, 0.11559465643613454, 0.11652704640457356, 0.11651411199197126, 0.11402140201467725, 0.1172924766058232, 0.11423107128014065, 0.11431219812497684, 0.115284688051704, 0.11494627598224927, 0.11678408954195119, 0.11554792958458782, 0.11365221571073425, 0.11379087664850251, 0.11383340661100716, 0.1143541039646081, 0.11529214150109857, 0.1122654916428778, 0.11296629688907256, 0.11128414933457531, 0.11425674264222208, 0.109128956626654, 0.10971531332173212, 0.10791060373664063, 0.10449576751249134, 0.10532486306540445, 0.10324353151699839, 0.10620786924561232, 0.10759046713573328, 0.10703300108668934, 0.10940838353545601, 0.10393848215260348, 0.10503390968045245, 0.11504617411103712, 0.11157923927558988, 0.11534505599712341, 0.11498908150743503, 0.11583584490899668, 0.11306693597195094, 0.11582710823002573, 0.11582058027638631, 0.11648581156587534, 0.11592243943814484, 0.11699138909834605, 0.1168310570690041, 0.1155360521747415, 0.11521806369904875, 0.11436022924723321, 0.114800921483043, 0.11544364792417516, 0.11268522694375838, 0.11331013284489044, 0.11380931222085655, 0.11300694214414886, 0.11238944604287582, 0.11226003644254812, 0.11237096519276246, 0.11323252636927528, 0.11414768855854662, 0.11368683310913985, 0.11586476379729316, 0.11471480969498948, 0.11239135305475934, 0.11428070310856686, 0.11348408621889972, 0.11385855206578377, 0.11726989011924571, 0.11321049106806003, 0.11555277529670427, 0.11683180201866339, 0.11709487639444971, 0.1110953936891308, 0.11193853716528768, 0.11696889814992328, 0.11156694767683639, 0.11432479727534739, 0.11235518315155923, 0.1121780687991012, 0.11548592471543806, 0.1147167361823267, 0.11140412733774374, 0.11042056636076225, 0.11234888507691743, 0.1155524285336349, 0.1121140931638851, 0.11397359564889209, 0.11651874857960376, 0.11783141273206788, 0.11701037246356716, 0.11597521952831924, 0.11486593202617223, 0.11472526203391098, 0.11985836032784025, 0.12095471341738495, 0.12080311806701438, 0.11635181555148888, 0.11908558580103445, 0.11833681673708485, 0.1170352672844106, 0.11655088568339522, 0.11692620189654424, 0.11814641814890603, 0.11919803970153442, 0.11677259749168067, 0.1196497267957981, 0.11942099353163282, 0.11791698643003379, 0.11733624986429536, 0.11668406565795575, 0.11927637806380353, 0.1231619976886833, 0.11747722804675842, 0.11649366706977693, 0.11853666883572078, 0.11665103293914081, 0.11395896695213814, 0.11665404299364779, 0.11526373181290284, 0.11508491559158518, 0.1152952481594145, 0.11386656270157136, 0.11383144253892663, 0.11418641453961342, 0.11381296168881327, 0.11342657442540993, 0.11413467688920287, 0.11654496710238282, 0.11538448869146745, 0.11423453458916377, 0.11398494490118072, 0.11369267955854889, 0.11320829795753351, 0.11196422193445921, 0.11304809689922113, 0.11425760480342495, 0.11232660373500547, 0.11445410161283931, 0.11341307716840188, 0.11320601744292347, 0.1164610083242974, 0.11680859234989249, 0.11946975812048244, 0.11356677544972671, 0.11111689568849181, 0.11544149315312291, 0.11537700641148829, 0.11329062226666586, 0.11895979332569606, 0.11286498002337009, 0.11433593237567319, 0.11901183208161026, 0.11196805778299446, 0.11910256505512429, 0.12111669995944574, 0.11726016186987342, 0.12206815525425352, 0.12276332330544415, 0.11776306797053682, 0.12479271646244516, 0.12431784085268793, 0.12573293451693024, 0.12774788954192173, 0.127300270992309, 0.12446022851515348, 0.11646546332845675, 0.12538210518613102, 0.1157003413174098, 0.11923840563434718, 0.1159815356097873, 0.11813654395227235, 0.11765216235125697, 0.11511105129612265, 0.11865390619460703, 0.11440051285559427, 0.11505515667811839, 0.11482423718192747, 0.11907209400354057, 0.11455432510624997, 0.1149092971069372, 0.1128686855985146, 0.1119906190851836, 0.11203951407856572, 0.11162539462760845, 0.11105145143305561, 0.11071209580068553, 0.11316868615827547, 0.11339665818145672, 0.11124087072655442, 0.11384242033839165, 0.11041284027477927, 0.1115026312328542, 0.11173138379242387, 0.10900015362175175, 0.11010944112389875, 0.11098469497864683, 0.10939870035392651, 0.10781139628164071, 0.11056634685950995, 0.11033155494647762, 0.10889557322421561, 0.1114694180820921, 0.11274015585479402, 0.11180275238745407, 0.11519694089359023, 0.11148106481638553, 0.10789140854118218, 0.11414008092534411, 0.10936989725255852, 0.10832405249178745, 0.10792286745343294, 0.11143673696583489, 0.11322091985495009, 0.1067599789385274, 0.11634140233585333, 0.11407534132271957, 0.11607234337733763, 0.1193500746198417, 0.11638288340866865, 0.11311936684114832, 0.12038320480668618, 0.11820120414841906, 0.11323603137055249, 0.1146783896740966, 0.12113186414435528, 0.11959022770502425, 0.12163740609672935, 0.11986412115921619, 0.12115488785806283, 0.12067050625704745, 0.12093489371998212, 0.12006226149321542, 0.11979973739262961, 0.12190738364670928, 0.12099408481978635, 0.11961118034203189, 0.1189437663031625, 0.12052450099372214, 0.11947254122903139, 0.11862393628988865, 0.11951507119153604, 0.11818578955130787, 0.11745181826230944, 0.11824311728876369, 0.11823018287616138, 0.11823018287616138, 0.118550034714203, 0.11841323713878316, 0.11720781866137209, 0.11747220612430631, 0.11680479208543693, 0.11680849698536733, 0.11802026325251314, 0.12008964943375089, 0.11784721289150912, 0.11770204809132467, 0.11881769553097898, 0.11714926770259959, 0.11583741705013262, 0.11626819763838903, 0.11472310195563251, 0.11337700085583746, 0.1115273137640922, 0.11470358092016308, 0.11444547063414934, 0.11402748053358636, 0.11438986233413262, 0.11479291073483555, 0.11525142351064588, 0.11579521479837451, 0.11403427412912404, 0.11353389124466595, 0.11849441480377498, 0.12220813081898907, 0.12041792987563671, 0.11989278681034143, 0.11906532986242624, 0.11960503191364014, 0.11900071063664619, 0.1194127699631129, 0.1198990149264767, 0.11879897876177026, 0.117917095197563, 0.11947196106291758, 0.1202484623144211, 0.12079539667131778, 0.12168006043322332, 0.11943203604079766, 0.11818707274754292, 0.12496302100174228, 0.11761949458386667, 0.11990905149148867, 0.12495194995148795, 0.12377834547989686, 0.12279057669362681, 0.12170635635123794, 0.12384408136119074, 0.11947020682440668, 0.12546635659286265, 0.12078998081121606, 0.11688049948373047, 0.11497275121878081, 0.11617157250778698, 0.11874185927832004, 0.12054593540351766, 0.11540764144471671, 0.11487598050223857, 0.11455799202654537, 0.11479464730192612, 0.11558594632838037, 0.11591873257902474, 0.11515576108245007, 0.11324900828529039, 0.11448038555093021, 0.1179062760508498, 0.11547621697375465, 0.11464746206706611, 0.11291631199766972, 0.11280724660980379, 0.11540577793718132, 0.11611505840006231, 0.11371863087206124, 0.11174633912150522, 0.11940725637306393, 0.11978247264485065, 0.12125367533168996, 0.12118527654397981, 0.12218363529591247, 0.12296199990976397, 0.12204683772049263, 0.12258565612779737, 0.12083210266280808, 0.12058341401118922, 0.12927797597320634, 0.12982523174918814, 0.1295146312485871, 0.128586534646713, 0.13016913269962194, 0.12951835797328437, 0.13078110418815125, 0.1297143466485089, 0.1284811959835439, 0.1284811959835439, 0.12863465469626378, 0.12777682024444825, 0.1299080704743294, 0.12664166391709575, 0.12599088919075863, 0.1273220341933352, 0.1272536354056255, 0.12633479014119153, 0.1266796315928418, 0.12736274444302653, 0.126994838029737, 0.12666021024151153, 0.12717602893001034, 0.12737201760523442, 0.1273868153801856, 0.12670902394901606, 0.12728239539346609, 0.12651604651576775, 0.12521818013825525, 0.12431226928642403, 0.12516273758791518, 0.12437610578737512, 0.12441654736903596, 0.12527368816289775, 0.12429012718591625, 0.12409671735576167, 0.12426569415959898, 0.12365237857930733, 0.12293497672048304, 0.12285178015782172, 0.1228813757077245, 0.1236701169266623, 0.12411638973503747, 0.12245986828167599, 0.12229443748233848, 0.12157019100368327, 0.12173885323004807, 0.1243567717351155, 0.12320681763281183, 0.12368012818357288, 0.12261337064393052, 0.12231202148076958, 0.12270959332631959, 0.12196517476266333, 0.12129888677865397, 0.12067584423986988, 0.12078863635243309, 0.12155220319133386, 0.12098462502765761, 0.12041704686398136, 0.12271881843093713, 0.13029300001578603, 0.12800973112371095, 0.12852370827462822, 0.12778973698563023, 0.12905248320049711, 0.12831851191149912, 0.12740334972222733, 0.12675073345830912, 0.12686536710845342, 0.1296378969647738, 0.12638098550743804, 0.12649377762000125, 0.12566181199339077, 0.12526062695503715, 0.12495743625429512, 0.12463944777860192, 0.12565260430548575, 0.1263884389568326, 0.1261259148562468, 0.12877271818740166, 0.12722157904674436, 0.13029221049646988, 0.13183194224720163, 0.13233112162316818, 0.12940241098368244, 0.13110133881732722, 0.12817697770759118, 0.13494635524096488, 0.13376312251359712, 0.13394431341387047, 0.13072622714951176, 0.13369288218830633, 0.12979813054763767, 0.13292194919908118, 0.13494838968870626, 0.13488496684805362, 0.13400948874505536, 0.13255832475234675, 0.13295766825311972, 0.1327228763400874, 0.13327938345350976, 0.13384882497953488, 0.13125465916228185, 0.13165558538335498, 0.1325472755268602, 0.13168743843994068, 0.1319260963504254, 0.13360482537859752, 0.13162290564968337, 0.13128998012628346, 0.12945952042068765, 0.13065414244765305, 0.13101652424819932, 0.1310313220231505, 0.13087972667277992, 0.13079653011011905, 0.13096478659778965, 0.1291621944068, 0.12803997249205024, 0.13625569929056347, 0.13935135970198376, 0.139091081564783, 0.13425345717395532, 0.13689726632899513, 0.13700819507920992, 0.13634448594027004, 0.1365256768405434, 0.1357085089888841, 0.1363792085504758, 0.13766947671153185, 0.1390188655642759, 0.1348377401244658, 0.13295381473316414, 0.13478229757412663, 0.13764580117690262, 0.13656071709428197, 0.13464808638703207, 0.1364072041204225, 0.1348657209920483, 0.1330727899271653, 0.13366825213474787, 0.1336693706463521, 0.13368416842130326, 0.1345993306105746, 0.13499517424191065, 0.13431606474508762, 0.13199623170522523, 0.13244240306282506, 0.1316149715021262, 0.13352336538302678, 0.12917104408500268, 0.12322336865801375, 0.120817413806805, 0.12199696345901057, 0.12309331654855526, 0.12191563025869812, 0.12094500369431893, 0.12235488585286758, 0.12109224830658372, 0.12168640660794461, 0.12230760760914716, 0.12086739721870376, 0.1203511883668642, 0.12138137436962149, 0.12319776668497484, 0.12796573473142914, 0.1313821520752807, 0.1315684732319924, 0.13217591704701626, 0.1290976442285574, 0.12868352477760103, 0.12964121692937702, 0.12973921126698906, 0.1328391492763532, 0.12971552459800506, 0.13297541404368207, 0.13349111579909456, 0.13291998840567576, 0.1290836089498506, 0.14624996276005708, 0.14167994675728757, 0.13904750274627187, 0.1433122142417158, 0.14083902388700764, 0.1382734762280986, 0.14278902940289262, 0.14096932822578445, 0.14331780432876107, 0.14398337683004936, 0.14233006877826337, 0.14436055640554724, 0.14503736906721842, 0.14092850745763874, 0.1425437789937365, 0.14437410337227963, 0.14513767021117996, 0.14594376701258582, 0.14421698340916578, 0.14408757380883763, 0.14006170063806023, 0.1344870883004914, 0.13501181770779036, 0.134320376381297, 0.13300402915367115, 0.13351800630458843, 0.13335161317926625, 0.13304842247852466, 0.13120999624897234, 0.1282475674877812, 0.1289884745307912, 0.12774925327952458, 0.12844969548514085, 0.1292964588867025, 0.13248643440189412, 0.13182086190060627, 0.5275892546888166, 0.8852343537839948, 0.9215973380858513, 0.8987804974016931, 0.8985356565550702, 0.9050533772601008, 0.8964172281037583, 0.8955297895664036, 0.8902884803513487, 0.8831531100948775, 0.8879548213072148, 0.869992850815897, 0.8639373760922253, 0.8692311267497346, 0.8666528220035206, 0.8703553766696224, 0.875985451309385, 0.8780626649471588, 0.8827964741777463, 0.8917584895329644, 0.8951782329951679, 0.8993372699982463, 0.8953807838872865, 0.8973269898479646, 0.8970888903264005, 0.8969434161894565, 0.9000325286483442, 0.8986267077274661, 0.9009710092569265, 0.8948386791664245, 0.9096299372001062, 0.9185022727580452, 0.9228574436443462, 0.9214679279560722, 0.9148636682572047, 0.9116533906786453, 0.9136322435759154, 0.9146084165778048, 0.9165090031064065, 0.9130842112653168, 0.9150335159998244, 0.9191192547249725, 0.9165205614803629, 0.9154160699271743, 0.9176764497435237, 0.9191957499850714, 0.9227302961666446, 0.9229106918906, 0.9268291207600523, 0.9280814111121862, 0.9372632129311815, 0.9480771893416367, 0.9516613774231106, 0.9518654279862371, 0.9542097295156977, 0.9543354560408635, 0.9543909204159708, 0.954805061691695, 0.9544353137408244, 0.9558367208934595, 0.9557128577306422, 0.9577077336969264, 0.9567319432627999, 0.9733771778758264, 0.9578859657228265, 0.9651572927391245, 0.9737692139603453, 0.9716765350326089, 0.9673231220606928, 0.9681411915711435, 0.9720941943427586, 0.9702216625862439, 0.9678405669432921, 0.9740940277273413, 0.9621285779169844, 0.9621059978900617, 0.9503729243329859, 0.9450084895659663, 0.9509837689017326, 0.9509990567144753, 0.9610009716962296, 0.953757842744124, 0.965800417000904, 0.9663457415601377, 0.9849648517436995, 0.9794923162943232, 0.9893363496862535, 0.9796098302863991, 0.9831170842987886, 0.9829059461771021, 0.9815938508341595, 0.9761490007314122, 0.9726447039913861, 0.9722453604906129, 0.9706676472175861, 0.9670830685404717, 0.9676199684611466, 0.9735443399721735, 0.9796265522535115, 0.9886886982618033, 0.9793223185628266, 0.9972496895438545, 0.9929114991372747, 0.9902285410471308, 1.0013149587039645, 1.0062747339305949, 1.000951227490871, 1.0249672776382666, 0.9949813243757815, 0.9937291375235358, 0.9951363193505902, 0.996703857185818, 1.0011551885861154, 1.017170120041323, 1.0272200171534638, 1.0267339622522411, 1.029511833781881, 1.0287559390972083, 1.0309145460286393, 1.033985606375889, 1.0341647534413478, 1.036595106255106, 1.0371769633775094, 1.032306767817074, 1.053712034278251, 1.0487629804455962, 1.0516925385710212, 1.05573250748581, 1.0708993712119725, 1.050900079197852, 1.0561032976828453, 1.0559809620996226, 1.062047071071255, 1.0644541630673707, 1.0607993032449219, 1.0458783433191523, 1.0455766265864856, 1.0386985055212519, 1.0531265762589153, 1.05854295121924, 1.0615232004709205, 1.0698886274766282, 1.0651966716701422, 1.0636030025669807, 1.0769488069710027, 1.086840118591472, 1.098721173407783, 1.0994951067110657, 1.1027132214429098, 1.0918143704840324, 1.090093002713165, 1.0968939296290925, 1.0941761339718996, 1.1011937573563189, 1.09008429208493, 1.0978002181091773, 1.0943949747124924, 1.0945281965261615, 1.0963243038450148, 1.0991072769595753, 1.1167232993921394, 1.1049912729066607, 1.1115300858248007, 1.1235656043638924, 1.1258741084721087, 1.1238881646904693, 1.1084931965629714, 1.1071220318343336, 1.1373278052880273, 1.1187414420299922, 1.118224198728424, 1.1152663685362603, 1.1209683932484835, 1.1156041223097277, 1.1247855393088677, 1.1217777818274968, 1.1432831300119044, 1.1545491874810656, 1.1488359385197398, 1.1491706159147497, 1.1461289848662735, 1.132310999872146, 1.1603667679803547, 1.1395848325728817, 1.1379138232822066, 1.134222905268943, 1.1380791068088232, 1.1436776674545932, 1.1670292113959135, 1.1544424072871355, 1.1696135916373371, 1.1758028364045006, 1.1640845271037519, 1.1653917553035538, 1.1653957964281199, 1.1778523341690659, 1.1869737700859229, 1.1840699765166318, 1.188819913799036, 1.1848318589261055, 1.187190958230517, 1.1803665016456173, 1.1920305000191456, 1.1747561933389719, 1.1730472454081746, 1.1946885813722594, 1.2059558644339177, 1.2078695885833557, 1.2116836435338678, 1.217787560662046, 1.2172944727195256, 1.2087605421015366, 1.1987089649973157, 1.2028452118716355, 1.2146552274044886, 1.2247138230489898, 1.2218156970723777, 1.2178526922399597, 1.2091258462375436, 1.2350808737417602, 1.2299813635522467, 1.2133117279331735, 1.2107635231359706, 1.214495800088333, 1.2113219580808745, 1.2125605796020806, 1.215454306925287, 1.2364344472902542, 1.2470568075672421, 1.2408747437743526, 1.2259279903419817, 1.2296349539514742, 1.2425276905478777, 1.2405232726909272, 1.237740321937972, 1.2292387052969818, 1.2377049404442322, 1.2319819939651975, 1.2243007036330908, 1.2263882994079651, 1.2239585799305992, 1.220013926039218, 1.2042763879689602, 1.1904871645242694, 1.1987915495867099, 1.2096309356221673, 1.1930787407754186, 1.2016335362197086, 1.1958151753408104, 1.1941756589649148, 1.1941238282722706, 1.1994734539433527, 1.1746192916786757, 1.1864195234867532, 1.1726863279725082, 1.1892185899062593, 1.179030969586349, 1.1636655975132448, 1.186272857318882, 1.1851568878027243, 1.1744328329966311, 1.1832433002903697, 1.1927213958127836, 1.1927635374197698, 1.197483146290773, 1.1971738683843505, 1.2031812138315214, 1.189469874900982, 1.1897735592981946, 1.1986887332592322, 1.2122094704273363, 1.2051373975486837, 1.1796242240186738, 1.1937320924251926, 1.1950434938579209, 1.1898807090471912, 1.1866691487688055, 1.2039220706480411, 1.220350697984146, 1.240243430917378, 1.2531858218879872, 1.2518287819676193, 1.2790300191531538, 1.2571250969055914, 1.2279884123680291, 1.199810080325148, 1.2051811705987472, 1.2121085744515776, 1.2551904173174464, 1.2830178256609979, 1.2887413770595115, 1.2606393599517614, 1.2734203581195582, 1.302111139518486, 1.3357703195435298, 1.2990606641624511, 1.3149607100843443, 1.323203922095238, 1.3241770402557804, 1.3400154313254442, 1.3037956789005194, 1.3026525113460559, 1.3001795769367694, 1.3045886751196123, 1.2912384120019076, 1.3106725719610224, 1.2876307802893752, 1.2775592821719326, 1.2855452738278266, 1.2863581273762064, 1.2797786246433394, 1.2880013061169873, 1.3050972229433173, 1.3028524929559464, 1.2934814557078962, 1.288898967890607, 1.296180717672416, 1.278304492725987, 1.2561427486539114, 1.2590318113576395, 1.257977988230602, 1.2521409473213723, 1.2564303502927396, 1.263250317468581, 1.2577507827101584, 1.2659250832858446, 1.2562803485359992, 1.2603306032716564, 1.248380741144547, 1.2390263264842392, 1.2414887786534872, 1.2421210674465597, 1.2421425742521066, 1.2514579547335074, 0.6650365874409825, 0.40590922540082275, 0.38342488548080134, 0.3604127099624068, 0.3984102920810215, 0.3951818660900881, 0.36934922779127843, 0.37917176118450335, 0.3816474751472678, 0.3628161804976333, 0.36020768263605385, 0.3455984758571411, 0.3504320875697866, 0.34428671375201647, 0.33996191528962605, 0.3437262060246251, 0.3498877780177274, 0.3479886122429585, 0.34846619442820037, 0.33495526782549945, 0.33257568982723074, 0.3305105735356557, 0.50692563765661, 1.003511808699534, 1.1663457570115587, 1.1904577035010544, 1.1767617852091883, 1.1595910469157455, 1.0286436877077128, 1.0120769274468944, 1.0015192847060788, 1.0324399346407984, 1.1003158492690148, 1.0264808381867452, 1.091983133529538, 1.1140796573493204, 1.0723005534509065, 1.0919602297573472, 1.0920384381132668, 1.1163741306503832, 1.1193517539376376, 1.1187279199296647, 1.1289328221204038, 1.112962239828168, 1.112264061069409, 1.0942383195127872, 1.0866037496366152, 1.0703520860324407, 1.0682737016419166, 1.0838565780445726, 1.0724107677334471, 1.0773466650188361, 1.0627769539215386, 1.042796417566114, 1.0309565831170975, 1.040741087786341, 1.0458250442153876, 1.0393909485860915, 1.0375619136891612, 1.0377431045894343, 1.0366079479028265, 1.035624648830336, 1.0499815231449698, 1.0291534459001332, 1.033046459698237, 1.027155756067758, 1.0328110260357133, 1.0307402366194611, 1.0249344115983208, 1.0313765186987491, 1.0284865941354786, 1.0271293441611102, 1.0393075385130048, 1.0268430171516818, 1.0217578883429197, 1.0250251801452213, 1.0161938589196078, 0.9917642127011135, 0.9676253367195715, 0.9890303986866098, 0.9804506344025286, 1.012822388994283, 1.0251464795708674, 1.0380991967963902, 1.0243851250700815, 1.0214112406051234, 1.004391939836511, 1.005060910029702, 1.001478993151209, 0.9722416431908476, 0.9786147022803722, 0.9776218113387936, 0.9842458186588141, 0.9726179556298904, 0.9740806180386672, 0.9694423561267205, 0.9711176326567947, 0.9743338610715, 0.984802476649419, 0.9829827058277951, 0.9684073926022516, 0.9649414660954792, 0.9698999048115333, 0.9697903038125264, 0.9537674594887633, 0.9772747130927757, 0.9791882340339797, 0.9739381568356322, 0.9793295472258794, 0.9816007881472375, 1.0057347059661657, 1.0080804506416539, 1.0018260576243225, 1.0058082894247518, 1.0082948255042907, 1.013280341925296, 1.0105736096948077, 1.0182834871696942, 1.0194173861372309, 1.0206653345771466, 1.0176989828288017, 1.0168554543984425, 1.0293923646149414, 1.0177113319200215, 1.027230778527975, 1.0220034996328384, 1.0272394016316018, 1.0252039598885672, 1.0250811676424454, 1.0313434802111816, 1.0283400585022617, 1.0443565088116649, 1.032821139840716, 1.0348857738069381, 1.0355353924966797, 1.0460210224251307, 1.0430701611197422, 1.0498151487385472, 1.0543555123233153, 1.0584310853312235, 1.0619422713843882, 1.062017385354483, 1.0649171982214902, 1.0598998021232848, 1.0596759463336625, 1.0410838346673177, 1.0327158506590064, 1.0385386552209115, 1.0387753104102972, 1.0425827405197516, 1.045575730159031, 1.0445331165555956, 1.0505654780336666, 1.049151136468429, 1.052243492080709, 1.0535673476536351, 1.052855117916451, 1.0529202778272286, 1.054044363104326, 1.0543919471299212, 1.0515961203056534, 1.0524255023676239, 1.0760293377900094, 1.080445411241853, 1.0876456836791724, 1.0895943466077906, 1.0892856832913878, 1.0710610070140563, 1.0585851193623406, 1.0562375764834973, 1.0657973826971898, 1.0452470570143158, 1.0554098083039603, 1.0580695502769972, 1.0589643900785743, 1.0667356726139627, 1.0449031040793095, 1.0441602077082983, 1.0432623959815694, 1.0456780145305018, 1.0478432321350735, 1.047743942585764, 1.0478664914371043, 1.04965614921549, 1.0486498808740925, 1.0505821474386352, 1.0468015972598117, 1.0483564631251654, 1.04545938120698, 1.0471794317191359, 1.043409062690356, 1.0448028762224926, 1.0472876802273037, 1.048727493896625, 1.0503171779049962, 1.0460581913619236, 1.0489313351396214, 1.0471942140347132, 1.0407250444416412, 1.0573335774443378, 1.0454760712654239, 1.046789431999094, 1.053154217637582, 1.055688880283133, 1.0458096811793902, 1.0494625111441855, 1.0489484459341205, 1.0524956831942982, 1.0537205680341457, 1.0484681998545706, 1.0482539705503897, 1.0488860460302256, 1.0473478413021695, 1.0534489337726294, 1.0430437353587605, 1.0520816944947995, 1.0706590372303713, 1.0606750693759324, 1.070728716186202, 1.064805077760875, 1.06794442638058, 1.0679925027805954, 1.0661991619270474, 1.0618988313186448, 1.0651601365749577, 1.0531309050770372, 1.067566694644747, 1.0568514931875108, 1.0520188906424168, 1.0553868969901692, 1.0596672895799006, 1.0545788703579313, 1.0504198469769408, 1.051937716394733, 1.049794015276499, 1.0445218663195506, 1.045396361908665, 1.0471157575369943, 1.0439180283694447, 1.043381377835387, 1.043757367645272, 1.0400387248444463, 1.037642709573366, 1.0361683172679625, 1.0335461634657288, 1.0317200962091195, 1.0332324321119695, 1.034046697211517, 1.031981580919942, 1.027919747124502, 1.0321049564940377, 1.031443598306168, 1.0309314845176003, 1.026495981860224, 1.0236503660148628, 1.0229519670494838, 1.0204003101792356, 1.0175896353821674, 1.0227127688229622, 1.025749016520301, 1.0286324859008253, 1.0231977433037636, 1.0231509995377706, 1.0261785730098696, 1.023031652001503, 1.0154676252030308, 1.0129395497195857, 1.014430686548537, 1.016176146907461, 1.0111303328944015, 1.0020598118598087, 1.009260844366387, 0.9938203220721631, 0.9922898015574391, 0.9926966040354441, 1.0068345021434029, 0.9889741865704869, 0.9889518903529659, 0.9836398316226582, 0.9867780914546453, 0.9799320943231, 0.9791149264714409, 0.9793228000429357, 0.9753462719439354, 0.974032481818973, 0.9709819093124814, 0.9674322901800148, 0.9664356939160259, 0.9684948391505293, 0.965997356522335, 0.9733783629941581, 0.9849927885880456, 0.9770488217641242, 0.9789557865689464, 0.9651143296597777, 0.9628928103973422, 0.9621312059392513, 0.9634859634638828, 0.9610958854870919, 0.9628929312405705, 0.9543297952120169, 0.9597998677025443, 0.9582949563689378, 0.1965445243142847, 0.19797440460878146, 0.2019940663313129, 0.2001230753526122, 0.19762717847278077, 0.20403902949735198, 0.20749547751144037, 0.2055764709787682, 0.2023871746892385, 0.20174642850564295, 0.20136222166992557, 0.20084422786766076, 0.2011086552363932, 0.2025273629473916, 0.20453146395573985, 0.20094401168153242, 0.19908422377968682, 0.20230830008346956, 0.2027859774915619, 0.19932024956747396, 0.1974204746439039, 0.19679515245168133, 0.20063359348148202, 0.19856486020059094, 0.19539015278941818, 0.19259106520884473, 0.19666268705696943, 0.19659599376613413, 0.1880268956421154, 0.1914375743060721, 0.19153741018126524, 0.1918960870818811, 0.18767301016483806, 0.18689322227196659, 0.18344149660270626, 0.18933775347731885, 0.18291857119461286, 0.18320288657469952, 0.18291404531113953, 0.18340855175621407, 0.187317871560579, 0.18725859345345475, 0.18482002431107913, 0.18183371151302596, 0.18068375741072273, 0.17915158699987455, 0.17709382068304702, 0.18204130613951675, 0.18251054269596434, 0.183309324229187, 0.18782435137086573, 0.1880079739717817, 0.18681922062670875, 0.18717600827244985, 0.18330457913714726, 0.18140585597089443, 0.18101869794173675, 0.17761023183006763, 0.17531032362546073, 0.1747815705243596, 0.17312134417106861, 0.17236940818015167, 0.17235798452195272, 0.17070391637523663, 0.1692914381723476, 0.1693251552849242, 0.16637046627712282, 0.16686721859362397, 0.16744487939695674, 0.16785863424378045, 0.16802507407007328, 0.16582752142223134, 0.1654934595775348, 0.16305744825344837, 0.16163064292694695, 0.1611717063670599, 0.1596889660141123, 0.1592193821880481, 0.15856772683755027, 0.1579589884027528, 0.1550041115046561, 0.15434107382992135, 0.1589383860588045, 0.15923362096715765, 0.15809831131578633, 0.15856991182821778, 0.15888605876632989, 0.15773980956395572, 0.15680194953400672, 0.1534366346254492, 0.1527951505718086, 0.16144725980120667, 0.16173857871889874, 0.16008944524062896, 0.15568908786578817, 0.16065888676665407, 0.1591354798135498, 0.15731995320995784, 0.15384049535314492, 0.15235775500019733, 0.15253894590047112, 0.15109935175128397, 0.1492258811689804, 0.15223811878230542, 0.1538458394721114, 0.15184464927130614, 0.1534410968611164, 0.15385707967442164, 0.1609335969772956, 0.16072622854557705, 0.1580787363153746, 0.154896785932364, 0.1546140762335133, 0.15377880401681798, 0.15232467487612222, 0.1528201711769266, 0.15390269633404952, 0.15271665222657083, 0.1535847078583572, 0.1503595015728565, 0.14857713665730055, 0.14792636193096342, 0.14805188970668626, 0.14593130904000384, 0.14347239568516645, 0.14449544887389187, 0.14348850952447156, 0.1400774504553688, 0.13920060221834518, 0.13791198717827324, 0.14000669901975105, 0.13818915995388448, 0.13689016969144907, 0.13382214072612175, 0.13308816943712332, 0.13367240873809916, 0.13435815072924528, 0.13292343012515762, 0.1313574932095487, 0.1306919207082604, 0.13026300348235242, 0.1286563999665873, 0.12845488667861993, 0.1285343186032768, 0.126932054648218, 0.12644767304720306, 0.12739056742402788, 0.12660661516213612, 0.12488722193512025, 0.1260626163999432, 0.12127835447797919, 0.12486689660529926, 0.12334533413190263, 0.12720365509810527, 0.12209415898942311, 0.12465065143505338, 0.11710524784434373, 0.12227981968281076, 0.12778145559849952, 0.12490710946801853, 0.12375476485877401, 0.12338703704533138, 0.12530146038909384, 0.12310544057781847, 0.12330142925304344, 0.1221366773757886, 0.12073713358550187, 0.12631830256641496, 0.12633310034136613, 0.1273462568682504, 0.1252811405766754, 0.12418147823118275, 0.1253133296787441, 0.12145009561498643, 0.12179767964058197, 0.12580710902373138, 0.12355960523141496, 0.12559680085602043, 0.1240164649807487, 0.12182993671564901, 0.12170054965783894, 0.1203448835419878, 0.12172295537823619, 0.11904333408931356, 0.12484765624415184, 0.12286573651523769, 0.12033515509324921, 0.12119767738771525, 0.11916910395454483, 0.12156005918826152, 0.12074289133660221, 0.11747124101364026, 0.1210365194601386, 0.12108742112922499, 0.12068421051024014, 0.11945471037061406, 0.11969616676965655, 0.11822400458953153, 0.11699085392456698, 0.1171036460371302, 0.1166691823737116, 0.11645453408527207, 0.1154753643005213, 0.11418674926044936, 0.11482723005053685, 0.11313769977765942, 0.11350719974774881, 0.11368839064802216, 0.11262347464596045, 0.11338519994728058, 0.11088930306744915, 0.11111437770397403, 0.11339028044572519, 0.1124067194687437, 0.1106743894278126, 0.10891432719932848, 0.10962242966312141, 0.10987201935110447, 0.10832088021044672, 0.10738660073920592, 0.10743531357107772, 0.1076017066963999, 0.10679838699028243, 0.10790705813377244, 0.10831010653447493, 0.11010145817776973, 0.10452745797692087, 0.11203508231164028, 0.11110698570976618, 0.11707809371676747, 0.11504665020729732, 0.11404648940044515, 0.11024243152956004, 0.10917567398991723, 0.11204723767409863, 0.11124468467365256, 0.11356589743328316, 0.1115879204570005, 0.11036956756698668, 0.11486636653700044, 0.113353300254321, 0.11551038200650376, 0.10815354655880105, 0.11509215301024955, 0.11199565122837152, 0.11219693445441292, 0.11293276910575978, 0.11358540719444532, 0.11376659809471867, 0.11278487865531828, 0.10947267991009602, 0.11189747047836818, 0.11241144762928545, 0.11151292475254637, 0.11285702599249303, 0.11340612330605593, 0.1122322267848137, 0.11269353096338275, 0.10944793697919142, 0.10982325319234043, 0.11144231275926675, 0.10802252436370008, 0.10927047280361579, 0.10957611746264329, 0.10685097510729058, 0.10705393602272162, 0.10722032914804336, 0.10666754875931872, 0.1069504170723663, 0.10609997059564247, 0.10937451765178352, 0.10527312084341656, 0.10383897219212646, 0.1054737666443386, 0.10424202059282939, 0.10593184249602317, 0.10656045329708475, 0.10466173013083191, 0.10346185809093145, 0.10520873358038108, 0.10538992448065443, 0.10561385402033485, 0.10480411779329746, 0.10281449556375266, 0.10098397029101402, 0.10183895508408414, 0.10113309593460329, 0.1011049837950857, 0.11025462992069723, 0.10761611274022131, 0.10694836038645317, 0.1059441000860879, 0.10569152074876342, 0.10542899664817806, 0.10734251758938207, 0.10325340367146119, 0.10648705547853465, 0.10530075698437757, 0.10550349450155405, 0.10480128826468338, 0.10119767150606718, 0.10321838407189787, 0.10283199680849453, 0.10262493708301612, 0.10349388623462108, 0.10229401419472106, 0.10179299328117386, 0.10261386603276268, 0.10245762883996212, 0.10322342145386054, 0.0991112863203889, 0.09874982525664366, 0.09911220705719037, 0.10245164711341959, 0.1014680861364381, 0.10024973324642517, 0.0996097763961572, 0.09939224637632105, 0.09979494719531212, 0.09930658569541562, 0.0991622037766855, 0.0984957549040213, 0.09569329297006535, 0.09615214055109611, 0.09710916735110464, 0.09748481411080112, 0.09745675137670018, 0.0977211388396344, 0.09783393095219761, 0.0976823356018266, 0.0976139368141169, 0.09679676896245759, 0.09621439302383017, 0.09631238736144221, 0.09692435884997197, 0.09555254724723872, 0.09387568158141546, 0.09651358561641032, 0.098404985126193, 0.09603404854612485, 0.09231495424555058, 0.09420409436939803, 0.09181104666317674, 0.09164465353785456, 0.09275580440235043, 0.0935877700289609, 0.0921050296760133, 0.09680209947981044, 0.09626160683343699, 0.09660983752928365, 0.0995439519863126, 0.09226098629308677, 0.09779788056433292, 0.09375553294733674, 0.09752248773716987, 0.09669217396513163, 0.09682176015402266, 0.09975497304820147, 0.09468586826605918, 0.09794814991812872, 0.09742172592911791, 0.09485440742432072, 0.09487826073318129, 0.09255863681009657, 0.09293450012108373, 0.0931092408074985, 0.09341240933667816, 0.09022047246552001, 0.0911625527451645, 0.09535343245978867, 0.09197781120484327, 0.09000882588853187, 0.08979915142280603, 0.09190264215526378, 0.0924707078934488, 0.0941220080261056, 0.0926542775638386, 0.08701933971978004, 0.09108596857483198, 0.09275922658295421, 0.09113706282039447, 0.09272826643859444, 0.09390781609080046, 0.09495140058072327, 0.09785447734293662, 0.0901375865380798, 0.08917013802052498, 0.09124064724505265, 0.0949276569728772, 0.09450447273598739, 0.09488632274882036, 0.09394987440624458, 0.09388329355955216, 0.09401585956300496, 0.09506484880801525, 0.09274376031004872, 0.09192659245838986, 0.08712359354531118, 0.09188963075816314, 0.09147180640727681, 0.08840588102875513, 0.09123701449424448, 0.09181570735770972, 0.09223723660852556, 0.0901166559418436, 0.09056223430505117, 0.09018878145425058, 0.09705856547523561, 0.09657418387422023, 0.09640779074889849, 0.09550742633457832, 0.09537062875915847, 0.09600191717869855, 0.0930483541017133, 0.09283826090095193, 0.0943114523036428, 0.09399412862457979, 0.092967895451185, 0.09366306350237563, 0.09295630183820913, 0.09280522905055966, 0.09171073932336338, 0.09084165361829877, 0.09130955428500931, 0.09330813515122349, 0.09284188821105266, 0.09060846173153836, 0.0900673381660484, 0.09067678149559955, 0.09097276059470216, 0.09084556054599169, 0.0898065351939028, 0.08921122484267308, 0.08853605481467541, 0.08925492432053739, 0.08949896757100984, 0.09084950106107437, 0.0897678476386008, 0.0931983523471498, 0.09183647497175551, 0.08918898274155351, 0.08870460114053857, 0.0869957263656218, 0.08802368066745636, 0.08950536718755053, 0.08716584621564127, 0.09059732453891467, 0.09259395729173381, 0.09071011665147788, 0.09230118162244727, 0.09462224084477233, 0.089947301765124, 0.09031776712431006, 0.09214675239876247, 0.09060988677479775, 0.09179354130193085, 0.09198952997715537, 0.09172700587657001, 0.09118715990044723, 0.09195072673934757, 0.09249243607781876, 0.09121675545034913, 0.09089876697465638, 0.09059557627391479, 0.09094316029950988, 0.09129074432510498, 0.09014079022280175, 0.09178251866618892, 0.09539836838814253, 0.09743263859343321, 0.09591794787893937, 0.09576635252856835, 0.09386762936231552, 0.0955219427916858, 0.09644881762644664, 0.09374562956184684, 0.09351083764881496, 0.09369202854908831, 0.09177850760788386, 0.09132556309435236, 0.09576980977476568, 0.09787213077575263, 0.09843985071963912, 0.09587987160066902, 0.09443339797268502, 0.09006656542895008, 0.08911073663952207, 0.08924939757729078, 0.09036054844178665, 0.09532564738241467, 0.09063973367967204, 0.09289453668091863, 0.08919952328922909, 0.08992905597502299, 0.08652429887147317, 0.0920636548657141, 0.08723426469761542, 0.08783143841119356, 0.08762437868571515, 0.08716792900200288, 0.0862675645876827, 0.0862971601375846, 0.08747670978979061, 0.08632675568748738, 0.08559278439848894, 0.08635635123738972, 0.08642290848751832, 0.08612155932435739, 0.08648394112490365, 0.08516759389727824, 0.08310247760570366, 0.0852249216347345, 0.08569636882314713, 0.08396403878221603, 0.08382724120679619, 0.0835924492937643, 0.08610314394854646, 0.08620113828615894, 0.08389564569081465, 0.08125648006275332, 0.07930552782821287, 0.07873794966453707, 0.08022951027421188, 0.07918678002219348, 0.07945480719009446, 0.0806750234424567, 0.0797529737554763, 0.08566088207214051, 0.08515632859071065, 0.08670397362324245, 0.08679060878574818, 0.08550956237038676, 0.0859449527989935, 0.08720687972390584, 0.08619558655937087, 0.08496243589440633, 0.08446325651844022, 0.07973293107982382, 0.08623997988422394, 0.08545054422011855, 0.08323937901568357, 0.08477390066857637, 0.08433389056764717, 0.08291770746482818, 0.08474803184337132, 0.08509561586896641, 0.08268477891414516, 0.08231132606334457, 0.08267103151233712, 0.08324285954094934, 0.07995311965836471, 0.08073532201809863, 0.08191829682631724, 0.08145980587527468, 0.08092376957847014, 0.08002340516414996, 0.07924542348716557, 0.07896810161162904, 0.07973166845052981, 0.08005867791396559, 0.07982388600093371, 0.07988152924195546, 0.07898616021978944, 0.07986827932578722, 0.08091031536990467, 0.07990966380667652, 0.07811772060920807, 0.07804932182149793, 0.0783821080721423, 0.07641913489961016, 0.07681570526504533, 0.07676257014377441, 0.07687536225633806, 0.07726120433177153, 0.07562927717877121, 0.076697898080762, 0.07626898085485401, 0.07584466846409832, 0.07572034924755977, 0.07483974608553723, 0.07605085007912216, 0.07682735133062524, 0.07446088587588928, 0.07497115812687705, 0.07412625808766382, 0.07448863988821053, 0.07480849172625215, 0.08156734699702284, 0.08000141008141393, 0.07970190245583408, 0.08059858379499207, 0.08060044715734094, 0.0796279790553811, 0.07741310895101616, 0.07692872735000122, 0.07652754231164671, 0.07844106325285072, 0.07845586102780189, 0.07981660158028081, 0.07841705778999453, 0.07759988993833522, 0.07601004714702864, 0.07469040602737165, 0.07642872603650597, 0.07738558547445873, 0.07838936925197615, 0.07742668490728066, 0.07594394455433306, 0.07851423019007786, 0.07576650379144256, 0.07499410573310872, 0.0754331617082884, 0.07486558354461259, 0.07652951479783354, 0.07652723677079365, 0.07671310148027954, 0.07581273706595892, 0.07592552917852213, 0.07485877163887977, 0.07345922784859349, 0.074389187812816, 0.07340562683583451, 0.07307284058519015, 0.07393440176170296, 0.07315051253510774, 0.07200055843280495, 0.07069159918027079, 0.06994469347867005, 0.07074892691772705, 0.07142929719396651, 0.07179167899451278, 0.07242213133315545, 0.07129436298089509, 0.07158648263138323, 0.07000574794082315, 0.07110210103036785, 0.07104850001760932, 0.07208938873204618, 0.07071757712931337, 0.07023319552829843, 0.06830674017449168, 0.06869499080024344, 0.06984126182738493, 0.06896124162552653, 0.06883737846270899, 0.07001692811491456, 0.0677299543229104, 0.0747151714637897, 0.07676284897308294, 0.07679244452298484, 0.07881472457117411, 0.08019240681884199, 0.08261534630852463, 0.07277500405239845, 0.07644411372839954, 0.07836580916499614, 0.07706242207296521, 0.07616205765864459, 0.07667200180398304, 0.07269739757678284, 0.07595282828993621, 0.07364399685353806, 0.08053969645586179, 0.07604375885988102, 0.081544741331955, 0.07607335440978336, 0.07480846427467869, 0.07655718931251698, 0.07116664629812242, 0.07602161675937325, 0.07668293766245071, 0.07948705666500722, 0.0731627727586801, 0.0754236111680533, 0.07955918217741376, 0.08055940429169484, 0.08024141581600208, 0.08010645977816289, 0.07952224230195526, 0.07725952563364213, 0.08009168382797993, 0.07713752583317346, 0.07846996103853243, 0.07517040387921048, 0.07435323602755117, 0.07840561047425076, 0.07896025422532471, 0.07989021418954723, 0.07850546817421167, 0.07818747969851847, 0.07815880387315355, 0.07830027181108168, 0.07963141681365915, 0.07896400277478932, 0.07699178128023654, 0.07606968211872234, 0.07695991912059963, 0.07670338835444612, 0.07562202844694577, 0.07220516785287856, 0.0720776778898422, 0.06869852451748937, 0.07403272457935195, 0.07342261645317105, 0.07361860512839558, 0.07312351463867772, 0.07410847481496718, 0.07938096500958203, 0.08039412153646586, 0.08051984806163182, 0.08098945371246336, 0.08027212173599718, 0.0815200701759129, 0.0781944708481821, 0.0815644635007664, 0.08066409908644578, 0.08156262196318487, 0.08127607057497555, 0.08119287401231468, 0.08012611647267232, 0.0833711503692176, 0.08114113636190412, 0.07960293163384913, 0.07803699471824066, 0.07936813972081769, 0.08151682052781828, 0.08396741026350263, 0.08344620134828906, 0.08016167006238506, 0.0819895889026605, 0.08618611692314149, 0.08447031636416646, 0.08417096494938248, 0.07943292090766763, 0.07728099864838045, 0.0771945016158182, 0.07847534607553719, 0.07237291424069703, 0.07782457134920007, 0.07760457721111935, 0.0777857681113927, 0.07663581400908903, 0.07515307365614143, 0.07355703477342068, 0.07455150286841761, 0.07287531132106606, 0.07608404859252627, 0.07454484350943069, 0.07497392912018519, 0.07479729691480275, 0.07561363279626887, 0.07603402399968973, 0.07683352256877285, 0.0833898751458868, 0.07801241720167384, 0.08175553944256819, 0.08072077144644796, 0.08474038133679818, 0.08455954235581675, 0.08248030304366116, 0.08509975646932322, 0.0844619161555884, 0.08274438388960847, 0.08094396167795503, 0.0787943597421763, 0.08348695193367472, 0.07677564893584998, 0.09055456616746538, 0.08947116931529031, 0.08669573537824737, 0.08954143146534888, 0.08951556264014382, 0.09008500416616894, 0.0918746619445554, 0.08858156778143256, 0.09029579061634418, 0.09060639111694524, 0.08958955151489967, 0.08945275393947938, 0.08980033796507536, 0.09298676496691893, 0.0883128238901425, 0.09047646562769662, 0.0948991329537745, 0.09075147053914412, 0.09277442536204594, 0.08899369510091226, 0.0901900911513942, 0.09195208589406567, 0.08516297014334162, 0.09536261360203291, 0.08800304962866878, 0.08813122458986644, 0.09184732295047349, 0.09441260785860983, 0.09103535771659743, 0.09145041255118569, 0.09092939822673651, 0.09396246403561737, 0.09328739615177639, 0.09347510524594727, 0.08806649785827014, 0.09603800622680758, 0.09059382761610735, 0.19449025919699503, 0.6631139607879979, 0.8678584540907119, 0.875273968438927, 0.8615063015992277, 0.8537449848181577, 0.8529758933665139, 0.8515597102636949, 0.8425032286755474, 0.837197497763227, 0.8476424725956433, 0.8381435796175245, 0.8432373904415498, 0.8330383686961429, 0.8324702951182159, 0.8202094575511352, 0.8179927051591864, 0.8301151781534037, 0.8472735725946197, 0.8396381010848744, 0.8373863843712155, 0.8325842115268056, 0.8304221146770501, 0.8341860686674678, 0.8444233677693846, 0.8457088372068462, 0.8488072066141814, 0.859477058346612, 0.8637980599768287, 0.8692910607993014, 0.8702822778661725, 0.8719386976188852, 0.8737229917332678, 0.8734955128707942, 0.8700805288285038, 0.8740779964195706, 0.871524497232768, 0.8727879100907276, 0.8984740919659484, 0.8988133033815255, 0.9028931175614423, 0.9067016061582773, 0.9022731452690147, 0.907350285272833, 0.9106189377021892, 0.9154927874500274, 0.9250547969924496, 0.9318299445948264, 0.9226857085582285, 0.9268160497795366, 0.9053356962082195, 0.9070732854383403, 0.908580229099446, 0.9162110688189422, 0.9316294025233103, 0.9333459184921236, 0.9372559353913856, 0.9338043139572625, 0.9339690960333096, 0.9325859610672493, 0.9314507907600009, 0.935981692392333, 0.9540336823611337, 0.959395269683321, 0.9481781058552088, 0.9428482611514026, 0.9421481578252409, 0.9463082996928467, 0.9395407245249849, 0.9527622661330708, 0.948096975348772, 0.9480545857132732, 0.9361096962456665, 0.936295601727634, 0.9342853743251944, 0.9342246455902896, 0.941130557136566, 0.9637406954162793, 0.9715547808797096, 0.9707079781517072, 0.9606994363920784, 0.9664301971901335, 0.9636466323254602, 0.9853895668598567, 0.991864882363136, 0.9815168201252538, 0.9951441948719661, 1.0073768590025778, 1.0397006998124076, 1.051104316784529, 1.0885163850313475, 1.0836838374285567, 1.093014025017649, 1.09855441418911, 1.1209112743790197, 1.1044126426229486, 1.1290039296735463, 1.1111642407507432, 1.1207127609643317, 1.1392972246095372, 1.1551431773041145, 1.126491307831246, 1.1429975381422453, 1.1465713288434387, 1.164501240845381, 1.1625148110963974, 1.1665077675372397, 1.155859730227618, 1.183350117665671, 1.1812313700009325, 1.1925397774982058, 1.1984350013423775, 1.188380188967651, 1.1933308599159727, 1.1932783593681675, 1.2013678894797957, 1.2080128427381733, 1.2179836067150793, 1.2176217999294987, 1.245420780422932, 1.2309046725094743, 1.2331568931407368, 1.447244390892528, 2.6313637575427933, 3.1295603464163326, 2.2450753571838313, 1.2892629131405056, 1.2812060882418836, 1.2707673744300396, 1.2760715538215428, 1.286186997088986, 1.2866621838055514, 1.2769500858077614, 1.2842674395920903, 1.268687110438401, 1.292782157520523, 1.279695414582394, 1.2749017616246456, 1.2801199609116636, 1.304461680274085, 1.328311599699997, 1.3423675765206051, 1.35011046827422, 1.327355865097525, 1.3304597271455785, 1.3431942066502065, 1.357637971226226, 1.3552279581989601, 1.3484121843827834, 1.3493539075323118, 1.3663333990451425, 1.3673956768242816, 1.372445698824893, 1.3574944191764067, 1.3699890940803727, 1.3550835104014611, 1.3842077319474289, 1.408894662557712, 1.4009771969884723, 1.3893574025979873, 1.3934556727095209, 1.4186198795921077, 1.4033891183133393, 1.4184848818092128, 1.4136985157073292, 1.404573599683842, 1.384363887309977, 1.422629694424681, 1.4121535559775673, 1.4191001753802477, 1.4253761021136548, 1.438232815376586, 1.4346142577950372, 1.398171372165697, 1.4044547943633052, 1.4202895949018437, 1.4271281140152678, 1.4081369172554599, 1.4391403304054227, 1.4201371539761352, 1.4086312568148225, 1.4212509694748467, 1.4352257107409554, 1.427897876679562, 1.4395777827751848, 1.428843378862139, 1.396853116971534]\n",
            "[1, 1, 1, 1, 1, 1, 1, 1, 1, 1, 1, 1, 1, 1, 1, 1, 1, 1, 1, 1, 1, 1, 1, 1, 1, 1, 1, 1, 1, 1, 1, 1, 1, 1, 1, 1, 1, 1, 1, 1, 1, 1, 1, 1, 1, 1, 1, 1, 1, 1, 1, 1, 1, 1, 1, 1, 1, 1, 1, 1, 1, 1, 1, 1, 1, 1, 1, 1, 1, 1, 1, 1, 1, 1, 1, 1, 1, 1, 1, 1, 1, 1, 1, 1, 1, 1, 1, 1, 1, 1, 1, 1, 1, 1, 1, 1, 1, 1, 1, 1, 1, 1, 1, 1, 1, 1, 1, 1, 1, 1, 1, 1, 1, 1, 1, 1, 1, 1, 1, 1, 1, 1, 1, 1, 1, 1, 1, 1, 1, 1, 1, 1, 1, 1, 1, 1, 1, 1, 1, 1, 1, 1, 1, 1, 1, 1, 1, 1, 1, 1, 1, 1, 1, 1, 1, 1, 1, 1, 1, 1, 1, 1, 1, 1, 1, 1, 1, 1, 1, 1, 1, 1, 1, 1, 1, 1, 1, 1, 1, 1, 1, 1, 1, 1, 1, 1, 1, 1, 1, 1, 1, 1, 1, 1, 1, 0, 0, 0, 0, 0, 0, 0, 0, 0, 0, 0, 0, 0, 0, 0, 0, 0, 0, 0, 0, 0, 0, 0, 1, 1, 1, 1, 1, 1, 1, 1, 0, 0, 0, 0, 0, 0, 0, 0, 0, 0, 0, 0, 0, 0, 0, 0, 0, 0, 0, 0, 0, 0, 0, 0, 0, 0, 0, 0, 0, 0, 0, 0, 0, 0, 0, 0, 0, 0, 0, 0, 0, 0, 0, 0, 0, 0, 0, 0, 0, 0, 0, 0, 0, 0, 0, 0, 0, 0, 0, 0, 0, 0, 0, 0, 0, 0, 0, 0, 0, 0, 0, 0, 0, 0, 0, 0, 0, 0, 0, 0, 0, 0, 0, 0, 0, 0, 0, 0, 0, 0, 0, 0, 0, 0, 0, 0, 0, 0, 0, 0, 0, 0, 0, 0, 0, 0, 0, 0, 0, 0, 0, 0, 0, 0, 0, 0, 0, 0, 0, 0, 0, 0, 0, 0, 0, 0, 0, 0, 0, 0, 0, 0, 0, 0, 0, 0, 0, 0, 0, 0, 0, 0, 0, 0, 0, 0, 0, 0, 0, 0, 0, 0, 0, 0, 0, 0, 0, 0, 0, 0, 0, 0, 0, 0, 0, 0, 0, 0, 0, 0, 0, 0, 0, 0, 0, 0, 0, 0, 0, 0, 0, 0, 0, 0, 0, 0, 0, 0, 0, 0, 0, 0, 0, 0, 0, 0, 0, 0, 0, 0, 0, 0, 0, 0, 0, 0, 0, 0, 0, 0, 0, 0, 0, 0, 0, 0, 0, 0, 0, 0, 0, 0, 0, 0, 0, 0, 0, 0, 0, 0, 0, 0, 0, 0, 0, 0, 0, 0, 0, 0, 0, 0, 0, 0, 0, 0, 0, 0, 0, 0, 0, 0, 0, 0, 0, 0, 0, 0, 0, 0, 0, 0, 0, 0, 0, 0, 0, 0, 0, 0, 0, 0, 0, 0, 0, 0, 0, 0, 0, 0, 0, 0, 0, 0, 0, 0, 0, 0, 0, 0, 0, 0, 0, 0, 0, 0, 0, 0, 0, 0, 0, 0, 0, 0, 0, 0, 0, 0, 0, 0, 0, 0, 0, 0, 0, 0, 0, 0, 0, 0, 0, 0, 0, 0, 0, 0, 0, 0, 0, 0, 0, 0, 0, 0, 0, 0, 0, 0, 0, 0, 0, 0, 0, 0, 0, 0, 0, 0, 0, 0, 0, 0, 0, 0, 0, 0, 0, 0, 0, 0, 0, 0, 0, 0, 0, 0, 0, 0, 0, 0, 0, 0, 0, 0, 0, 0, 0, 0, 0, 0, 0, 0, 0, 0, 0, 0, 0, 0, 0, 0, 0, 0, 0, 0, 0, 0, 0, 0, 0, 0, 0, 0, 0, 0, 0, 0, 0, 0, 0, 0, 0, 0, 0, 0, 0, 0, 0, 0, 0, 0, 0, 0, 0, 0, 0, 0, 0, 0, 0, 0, 0, 0, 0, 0, 0, 0, 0, 0, 0, 0, 0, 0, 0, 0, 0, 0, 0, 0, 0, 0, 0, 0, 0, 0, 0, 0, 0, 0, 0, 0, 0, 0, 0, 0, 0, 0, 0, 0, 0, 0, 0, 0, 0, 0, 0, 0, 0, 0, 0, 0, 0, 0, 0, 0, 0, 0, 0, 0, 0, 0, 0, 0, 0, 0, 0, 0, 0, 0, 0, 0, 0, 0, 0, 0, 0, 0, 0, 0, 0, 0, 0, 0, 0, 0, 0, 0, 0, 0, 0, 0, 0, 0, 0, 0, 0, 0, 0, 0, 0, 0, 0, 0, 0, 0, 0, 0, 0, 0, 0, 0, 0, 0, 0, 0, 0, 0, 0, 0, 0, 0, 0, 0, 0, 0, 0, 0, 0, 0, 0, 0, 0, 0, 0, 0, 0, 0, 0, 0, 0, 0, 0, 0, 0, 0, 0, 0, 0, 0, 0, 0, 0, 0, 0, 0, 0, 0, 0, 0, 0, 0, 0, 0, 0, 0, 0, 0, 0, 0, 0, 0, 0, 0, 0, 0, 0, 0, 0, 0, 0, 0, 0, 0, 0, 0, 0, 0, 0, 0, 0, 0, 0, 0, 0, 0, 0, 0, 0, 0, 0, 0, 0, 0, 0, 0, 0, 0, 0, 0, 0, 0, 0, 0, 0, 0, 0, 0, 0, 0, 0, 0, 0, 0, 0, 0, 0, 0, 0, 0, 0, 0, 0, 0, 0, 0, 0, 0, 0, 0, 0, 0, 0, 0, 0, 0, 0, 0, 0, 0, 0, 0, 0, 0, 0, 0, 0, 0, 0, 0, 0, 0, 0, 0, 0, 0, 0, 0, 0, 0, 0, 0, 0, 0, 0, 0, 0, 0, 0, 0, 0, 0, 0, 0, 0, 0, 0, 0, 0, 0, 0, 0, 0, 0, 0, 0, 0, 0, 0, 0, 0, 0, 0, 0, 0, 0, 0, 0, 0, 0, 0, 0, 0, 0, 0, 0, 0, 0, 0, 0, 0, 0, 0, 0, 0, 0, 0, 0, 0, 0, 0, 0, 0, 0, 0, 0, 0, 0, 0, 0, 0, 0, 0, 0, 0, 0, 0, 0, 0, 0, 0, 0, 0, 0, 0, 0, 0, 0, 0, 0, 0, 0, 0, 0, 0, 0, 0, 0, 0, 0, 0, 0, 0, 0, 0, 0, 0, 0, 0, 0, 0, 0, 0, 1, 1, 1, 0, 0, 0, 0, 1, 1, 1, 1, 1, 1, 1, 1, 1, 1, 1, 1, 1, 1, 1, 1, 1, 1, 1, 1, 1, 1, 1, 1, 1, 1, 1, 1, 1, 1, 1, 1, 1, 1, 1, 1, 1, 1, 1, 1, 1, 1, 1, 1, 1, 1, 1, 1, 1, 1, 1, 1, 1, 1, 1, 1, 1, 1, 1, 1, 1, 1, 1, 1, 1, 1, 1, 1, 1, 1, 1, 1, 1, 1, 1, 1, 1, 1, 1, 1, 1, 1, 1, 1, 1, 1, 1, 0, 0, 1, 1, 1, 1, 1, 1, 1, 1, 1, 1, 1, 1, 1, 1, 1, 1, 1, 1, 1, 1, 1, 1, 1, 1, 1, 1, 1, 1, 1, 1, 1, 1, 1, 1, 1, 1, 1, 1, 1, 1, 1, 1, 1, 1, 1, 1, 1, 1, 1, 1, 1, 1, 1, 1, 1, 1, 1, 1, 1, 1, 1, 1, 1, 1, 1, 1, 1, 1, 1, 1, 1, 1, 1, 1, 1, 1, 1, 1, 1, 1, 1, 1, 1, 1, 1, 1, 1, 1, 1, 1, 1, 1, 1, 1, 1, 1, 1, 1, 1, 1, 1, 1, 1, 1, 1, 1, 1, 1, 1, 1, 1, 1, 1, 1, 1, 1, 1, 1, 1, 1, 1, 1, 1, 1, 1, 1, 1, 1, 1, 1, 1, 1, 1, 1, 1, 1, 1, 1, 1, 1, 1, 1, 1, 1, 1, 1, 1, 1, 1, 1, 1, 1, 1, 1, 1, 1, 0, 1, 1, 1, 1, 1, 1, 1, 1, 1, 1, 1, 1, 1, 1, 1, 1, 1, 1, 1, 1, 1, 1, 1, 1, 1, 1, 1, 1, 1, 1, 0, 0, 0, 1, 1, 1, 1, 1, 1, 1, 1, 1, 1, 1, 1, 1, 1, 1, 1, 1, 1, 1, 1, 1, 1, 1, 1, 1, 1, 1, 1, 1, 1, 1, 1, 1, 1, 1, 1, 1, 1, 1, 1, 1, 1, 1, 1, 1, 1, 1, 1, 0, 0, 0, 0, 0, 0, 0, 0, 0, 0, 0, 0, 0, 0, 0, 0, 0, 0, 0, 0, 0, 0, 0, 1, 0, 0, 0, 0, 0, 1, 1, 1, 1, 1, 1, 1, 1, 1, 1, 1, 1, 1, 1, 1, 1, 1, 1, 1, 1, 1, 1, 1, 1, 1, 1, 1, 1, 1, 1, 1, 1, 1, 1, 1, 1, 1, 1, 1, 1, 1, 1, 1, 1, 1, 1, 1, 1, 1, 1, 1, 1, 1, 1, 1, 1, 1, 1, 1, 1, 1, 1, 1, 1, 1, 1, 1, 1, 1, 1, 1, 1, 1, 1, 1, 1, 1, 1, 1, 1, 1, 1, 1, 1, 1, 1, 1, 1, 1, 1, 1, 1, 1, 1, 1, 1, 1, 1, 1, 1, 1, 1, 1, 1, 1, 1, 1, 1, 1, 1, 1, 1, 1, 1, 1, 1, 1, 1, 1, 1, 1, 1, 1, 1, 1, 1, 1, 1, 1, 1, 1, 1, 1, 1, 1, 1, 1, 1, 1, 1, 1, 1, 1, 1, 1, 1, 1, 1, 1, 1, 1, 1, 1, 1, 1, 1, 1, 1, 1, 1, 1, 1, 1, 1, 1, 1, 1, 1, 1, 1, 1, 1, 1, 1, 1, 1, 1, 1, 1, 1, 1, 1, 1, 1, 1, 1, 1, 1, 1, 1, 1, 1, 1, 1, 1, 1, 1, 1, 1, 1, 1, 1, 1, 1, 1, 1, 1, 1, 1, 1, 1, 1, 1, 1, 1, 1, 1, 1, 1, 1, 1, 1, 1, 1, 1, 1, 1, 1, 1, 1, 1, 1, 1, 1, 1, 1, 1, 1, 1, 1, 1, 1, 1, 1, 1, 1, 1, 1, 1, 1, 1, 1, 1, 1, 1, 1, 1, 1, 1, 1, 1, 1, 1, 1, 1, 1, 1, 1, 1, 1, 1, 1, 1, 1, 0, 0, 0, 0, 0, 0, 0, 0, 0, 0, 0, 0, 0, 0, 0, 0, 0, 0, 0, 0, 0, 0, 0, 0, 0, 0, 0, 0, 0, 0, 0, 0, 0, 0, 0, 0, 0, 0, 0, 0, 0, 0, 0, 0, 0, 0, 0, 0, 0, 0, 0, 0, 0, 0, 0, 0, 0, 0, 0, 0, 0, 0, 0, 0, 0, 0, 0, 0, 0, 0, 0, 0, 0, 0, 0, 0, 0, 0, 0, 0, 0, 0, 0, 0, 0, 0, 0, 0, 0, 0, 0, 0, 0, 0, 0, 0, 0, 0, 0, 0, 0, 0, 0, 0, 0, 0, 0, 0, 0, 0, 0, 0, 0, 0, 0, 0, 0, 0, 0, 0, 0, 0, 0, 0, 0, 0, 0, 0, 0, 0, 0, 0, 0, 0, 0, 0, 0, 0, 0, 0, 0, 0, 0, 0, 0, 0, 0, 0, 0, 0, 0, 0, 0, 0, 0, 0, 0, 0, 0, 0, 0, 0, 0, 0, 0, 0, 0, 0, 0, 0, 0, 0, 0, 0, 0, 0, 0, 0, 0, 0, 0, 0, 0, 0, 0, 0, 0, 0, 0, 0, 0, 0, 0, 0, 0, 0, 0, 0, 0, 0, 0, 0, 0, 0, 0, 0, 0, 0, 0, 0, 0, 0, 0, 0, 0, 0, 0, 0, 0, 0, 0, 0, 0, 0, 0, 0, 0, 0, 0, 0, 0, 0, 0, 0, 0, 0, 0, 0, 0, 0, 0, 0, 0, 0, 0, 0, 0, 0, 0, 0, 0, 0, 0, 0, 0, 0, 0, 0, 0, 0, 0, 0, 0, 0, 0, 0, 0, 0, 0, 0, 0, 0, 0, 0, 0, 0, 0, 0, 0, 0, 0, 0, 0, 0, 0, 0, 0, 0, 0, 0, 0, 0, 0, 0, 0, 0, 0, 0, 0, 0, 0, 0, 0, 0, 0, 0, 0, 0, 0, 0, 0, 0, 0, 0, 0, 0, 0, 0, 0, 0, 0, 0, 0, 0, 0, 0, 0, 0, 0, 0, 0, 0, 0, 0, 0, 0, 0, 0, 0, 0, 0, 0, 0, 0, 0, 0, 0, 0, 0, 0, 0, 0, 0, 0, 0, 0, 0, 0, 0, 0, 0, 0, 0, 0, 0, 0, 0, 0, 0, 0, 0, 0, 0, 0, 0, 0, 0, 0, 0, 0, 0, 0, 0, 0, 0, 0, 0, 0, 0, 0, 0, 0, 0, 0, 0, 0, 0, 0, 0, 0, 0, 0, 0, 0, 0, 0, 0, 0, 0, 0, 0, 0, 0, 0, 0, 0, 0, 0, 0, 0, 0, 0, 0, 0, 0, 0, 0, 0, 0, 0, 0, 0, 0, 0, 0, 0, 0, 0, 0, 0, 0, 0, 0, 0, 0, 0, 0, 0, 0, 0, 0, 0, 0, 0, 0, 0, 0, 0, 0, 0, 0, 0, 0, 0, 0, 0, 0, 0, 0, 0, 0, 0, 0, 0, 0, 0, 0, 0, 0, 0, 0, 0, 0, 0, 0, 0, 0, 0, 0, 0, 0, 0, 0, 0, 0, 0, 0, 0, 0, 0, 0, 0, 0, 0, 0, 0, 0, 0, 0, 0, 0, 0, 0, 0, 0, 0, 0, 0, 0, 0, 0, 0, 0, 0, 0, 0, 0, 0, 0, 0, 0, 0, 0, 0, 0, 0, 0, 0, 0, 0, 0, 0, 0, 0, 0, 0, 0, 0, 0, 0, 0, 0, 0, 0, 0, 0, 0, 0, 0, 0, 0, 0, 0, 0, 0, 0, 0, 0, 0, 0, 0, 0, 0, 0, 0, 0, 0, 0, 0, 0, 0, 0, 0, 0, 0, 0, 0, 0, 0, 0, 0, 0, 0, 0, 0, 0, 0, 0, 0, 0, 0, 0, 0, 0, 0, 0, 0, 0, 0, 0, 0, 0, 0, 0, 0, 0, 0, 0, 0, 0, 0, 0, 0, 0, 0, 0, 0, 0, 0, 0, 0, 0, 0, 0, 0, 0, 0, 0, 0, 0, 0, 0, 0, 0, 0, 0, 0, 0, 0, 0, 0, 0, 0, 0, 0, 0, 0, 0, 0, 0, 0, 0, 0, 0, 0, 0, 0, 0, 0, 0, 0, 0, 0, 0, 0, 0, 0, 0, 0, 0, 0, 0, 0, 0, 0, 0, 0, 0, 0, 0, 0, 0, 0, 0, 0, 0, 0, 0, 0, 0, 0, 0, 0, 0, 0, 0, 0, 0, 0, 0, 0, 0, 0, 0, 0, 0, 0, 0, 0, 0, 0, 0, 0, 0, 0, 0, 0, 0, 0, 0, 0, 0, 0, 0, 0, 0, 0, 0, 0, 0, 0, 0, 0, 0, 0, 0, 0, 0, 0, 0, 0, 0, 0, 0, 0, 0, 0, 0, 0, 0, 0, 0, 0, 0, 0, 0, 0, 0, 0, 0, 0, 0, 0, 0, 0, 0, 0, 0, 0, 0, 0, 0, 0, 0, 0, 0, 0, 0, 0, 0, 0, 0, 0, 0, 0, 0, 0, 0, 0, 0, 0, 0, 0, 0, 0, 1, 1, 1, 1, 1, 1, 1, 1, 1, 1, 0, 0, 0, 0, 0, 1, 1, 1, 1, 1, 1, 1, 1, 1, 1, 1, 1, 1, 1, 1, 1, 1, 1, 1, 1, 1, 1, 1, 1, 1, 1, 1, 1, 1, 1, 1, 1, 1, 1, 1, 1, 1, 1, 1, 1, 0, 0, 0, 0, 0, 0, 0, 1, 1, 1, 1, 1, 1, 1, 1, 1, 1, 1, 1, 1, 1, 1, 1, 1, 0, 0, 1, 1, 1, 1, 1, 1, 1, 1, 1, 1, 1, 1, 1, 1, 1, 1, 1, 1, 1, 1, 1, 1, 1, 1, 1, 1, 1, 1, 1, 0, 0, 1, 1, 1, 1, 1, 1, 1, 1, 1, 1, 1, 1, 1, 1, 1, 1, 1, 1, 1, 1, 1, 1, 1, 1, 1, 1, 1, 1, 1, 1, 1, 1, 1, 1, 1, 1, 1, 1, 1, 1, 1, 1, 1, 1, 1, 1, 1, 1, 1, 1, 1, 1, 1, 1, 1, 1, 1, 1, 1, 1, 1, 1, 1, 1, 1, 1, 1, 1, 1, 1, 1, 1, 1, 1]\n"
          ]
        },
        {
          "output_type": "execute_result",
          "data": {
            "text/plain": [
              "      valor_verdadero  valor_estimado  valor_estimado_exacto resultado\n",
              "0                   1             1.0               1.032512    acerto\n",
              "1                   1             1.0               1.022393    acerto\n",
              "2                   1             1.0               1.013250    acerto\n",
              "3                   1             1.0               0.871243    acerto\n",
              "4                   1             1.0               0.860855    acerto\n",
              "...               ...             ...                    ...       ...\n",
              "2660                1             1.0               1.435226    acerto\n",
              "2661                1             1.0               1.427898    acerto\n",
              "2662                1             1.0               1.439578    acerto\n",
              "2663                1             1.0               1.428843    acerto\n",
              "2664                1             1.0               1.396853    acerto\n",
              "\n",
              "[2665 rows x 4 columns]"
            ],
            "text/html": [
              "\n",
              "  <div id=\"df-2835c0b5-d8b3-45c2-a7f0-912e3677bf92\">\n",
              "    <div class=\"colab-df-container\">\n",
              "      <div>\n",
              "<style scoped>\n",
              "    .dataframe tbody tr th:only-of-type {\n",
              "        vertical-align: middle;\n",
              "    }\n",
              "\n",
              "    .dataframe tbody tr th {\n",
              "        vertical-align: top;\n",
              "    }\n",
              "\n",
              "    .dataframe thead th {\n",
              "        text-align: right;\n",
              "    }\n",
              "</style>\n",
              "<table border=\"1\" class=\"dataframe\">\n",
              "  <thead>\n",
              "    <tr style=\"text-align: right;\">\n",
              "      <th></th>\n",
              "      <th>valor_verdadero</th>\n",
              "      <th>valor_estimado</th>\n",
              "      <th>valor_estimado_exacto</th>\n",
              "      <th>resultado</th>\n",
              "    </tr>\n",
              "  </thead>\n",
              "  <tbody>\n",
              "    <tr>\n",
              "      <th>0</th>\n",
              "      <td>1</td>\n",
              "      <td>1.0</td>\n",
              "      <td>1.032512</td>\n",
              "      <td>acerto</td>\n",
              "    </tr>\n",
              "    <tr>\n",
              "      <th>1</th>\n",
              "      <td>1</td>\n",
              "      <td>1.0</td>\n",
              "      <td>1.022393</td>\n",
              "      <td>acerto</td>\n",
              "    </tr>\n",
              "    <tr>\n",
              "      <th>2</th>\n",
              "      <td>1</td>\n",
              "      <td>1.0</td>\n",
              "      <td>1.013250</td>\n",
              "      <td>acerto</td>\n",
              "    </tr>\n",
              "    <tr>\n",
              "      <th>3</th>\n",
              "      <td>1</td>\n",
              "      <td>1.0</td>\n",
              "      <td>0.871243</td>\n",
              "      <td>acerto</td>\n",
              "    </tr>\n",
              "    <tr>\n",
              "      <th>4</th>\n",
              "      <td>1</td>\n",
              "      <td>1.0</td>\n",
              "      <td>0.860855</td>\n",
              "      <td>acerto</td>\n",
              "    </tr>\n",
              "    <tr>\n",
              "      <th>...</th>\n",
              "      <td>...</td>\n",
              "      <td>...</td>\n",
              "      <td>...</td>\n",
              "      <td>...</td>\n",
              "    </tr>\n",
              "    <tr>\n",
              "      <th>2660</th>\n",
              "      <td>1</td>\n",
              "      <td>1.0</td>\n",
              "      <td>1.435226</td>\n",
              "      <td>acerto</td>\n",
              "    </tr>\n",
              "    <tr>\n",
              "      <th>2661</th>\n",
              "      <td>1</td>\n",
              "      <td>1.0</td>\n",
              "      <td>1.427898</td>\n",
              "      <td>acerto</td>\n",
              "    </tr>\n",
              "    <tr>\n",
              "      <th>2662</th>\n",
              "      <td>1</td>\n",
              "      <td>1.0</td>\n",
              "      <td>1.439578</td>\n",
              "      <td>acerto</td>\n",
              "    </tr>\n",
              "    <tr>\n",
              "      <th>2663</th>\n",
              "      <td>1</td>\n",
              "      <td>1.0</td>\n",
              "      <td>1.428843</td>\n",
              "      <td>acerto</td>\n",
              "    </tr>\n",
              "    <tr>\n",
              "      <th>2664</th>\n",
              "      <td>1</td>\n",
              "      <td>1.0</td>\n",
              "      <td>1.396853</td>\n",
              "      <td>acerto</td>\n",
              "    </tr>\n",
              "  </tbody>\n",
              "</table>\n",
              "<p>2665 rows × 4 columns</p>\n",
              "</div>\n",
              "      <button class=\"colab-df-convert\" onclick=\"convertToInteractive('df-2835c0b5-d8b3-45c2-a7f0-912e3677bf92')\"\n",
              "              title=\"Convert this dataframe to an interactive table.\"\n",
              "              style=\"display:none;\">\n",
              "        \n",
              "  <svg xmlns=\"http://www.w3.org/2000/svg\" height=\"24px\"viewBox=\"0 0 24 24\"\n",
              "       width=\"24px\">\n",
              "    <path d=\"M0 0h24v24H0V0z\" fill=\"none\"/>\n",
              "    <path d=\"M18.56 5.44l.94 2.06.94-2.06 2.06-.94-2.06-.94-.94-2.06-.94 2.06-2.06.94zm-11 1L8.5 8.5l.94-2.06 2.06-.94-2.06-.94L8.5 2.5l-.94 2.06-2.06.94zm10 10l.94 2.06.94-2.06 2.06-.94-2.06-.94-.94-2.06-.94 2.06-2.06.94z\"/><path d=\"M17.41 7.96l-1.37-1.37c-.4-.4-.92-.59-1.43-.59-.52 0-1.04.2-1.43.59L10.3 9.45l-7.72 7.72c-.78.78-.78 2.05 0 2.83L4 21.41c.39.39.9.59 1.41.59.51 0 1.02-.2 1.41-.59l7.78-7.78 2.81-2.81c.8-.78.8-2.07 0-2.86zM5.41 20L4 18.59l7.72-7.72 1.47 1.35L5.41 20z\"/>\n",
              "  </svg>\n",
              "      </button>\n",
              "      \n",
              "  <style>\n",
              "    .colab-df-container {\n",
              "      display:flex;\n",
              "      flex-wrap:wrap;\n",
              "      gap: 12px;\n",
              "    }\n",
              "\n",
              "    .colab-df-convert {\n",
              "      background-color: #E8F0FE;\n",
              "      border: none;\n",
              "      border-radius: 50%;\n",
              "      cursor: pointer;\n",
              "      display: none;\n",
              "      fill: #1967D2;\n",
              "      height: 32px;\n",
              "      padding: 0 0 0 0;\n",
              "      width: 32px;\n",
              "    }\n",
              "\n",
              "    .colab-df-convert:hover {\n",
              "      background-color: #E2EBFA;\n",
              "      box-shadow: 0px 1px 2px rgba(60, 64, 67, 0.3), 0px 1px 3px 1px rgba(60, 64, 67, 0.15);\n",
              "      fill: #174EA6;\n",
              "    }\n",
              "\n",
              "    [theme=dark] .colab-df-convert {\n",
              "      background-color: #3B4455;\n",
              "      fill: #D2E3FC;\n",
              "    }\n",
              "\n",
              "    [theme=dark] .colab-df-convert:hover {\n",
              "      background-color: #434B5C;\n",
              "      box-shadow: 0px 1px 3px 1px rgba(0, 0, 0, 0.15);\n",
              "      filter: drop-shadow(0px 1px 2px rgba(0, 0, 0, 0.3));\n",
              "      fill: #FFFFFF;\n",
              "    }\n",
              "  </style>\n",
              "\n",
              "      <script>\n",
              "        const buttonEl =\n",
              "          document.querySelector('#df-2835c0b5-d8b3-45c2-a7f0-912e3677bf92 button.colab-df-convert');\n",
              "        buttonEl.style.display =\n",
              "          google.colab.kernel.accessAllowed ? 'block' : 'none';\n",
              "\n",
              "        async function convertToInteractive(key) {\n",
              "          const element = document.querySelector('#df-2835c0b5-d8b3-45c2-a7f0-912e3677bf92');\n",
              "          const dataTable =\n",
              "            await google.colab.kernel.invokeFunction('convertToInteractive',\n",
              "                                                     [key], {});\n",
              "          if (!dataTable) return;\n",
              "\n",
              "          const docLinkHtml = 'Like what you see? Visit the ' +\n",
              "            '<a target=\"_blank\" href=https://colab.research.google.com/notebooks/data_table.ipynb>data table notebook</a>'\n",
              "            + ' to learn more about interactive tables.';\n",
              "          element.innerHTML = '';\n",
              "          dataTable['output_type'] = 'display_data';\n",
              "          await google.colab.output.renderOutput(dataTable, element);\n",
              "          const docLink = document.createElement('div');\n",
              "          docLink.innerHTML = docLinkHtml;\n",
              "          element.appendChild(docLink);\n",
              "        }\n",
              "      </script>\n",
              "    </div>\n",
              "  </div>\n",
              "  "
            ]
          },
          "metadata": {},
          "execution_count": 80
        }
      ]
    },
    {
      "cell_type": "code",
      "source": [
        "metricas_cal(testeo)"
      ],
      "metadata": {
        "colab": {
          "base_uri": "https://localhost:8080/"
        },
        "id": "d3zsr0ya-D9L",
        "outputId": "48962751-d9d3-48fc-8321-959f8981effa"
      },
      "execution_count": 81,
      "outputs": [
        {
          "output_type": "stream",
          "name": "stdout",
          "text": [
            "la exactitud del spv es de: 97.899%\n",
            "los valores verdaderos negativos son 61.426% de la población de testeo \n",
            "los valores falsos negativos son 0.0% de la población de testeo \n",
            "los valores falsos positivos son 2.101% de la población de testeo \n",
            "los valores verdaderos positivos son 36.473% de la población de testeo \n"
          ]
        }
      ]
    },
    {
      "cell_type": "markdown",
      "source": [
        "**Regresión logistica**"
      ],
      "metadata": {
        "id": "oDELc-ps-iww"
      }
    },
    {
      "cell_type": "code",
      "source": [
        "a_t1x = a[[\"Temperature\",\t\"Humidity\",\t\"Light\",\t\"CO2\",\t\"HumidityRatio\", \"day\",\t\"hour\",\t\"minuto\"]]\n",
        "a_t1y = a[[\"Occupancy\"]]\n",
        "X = a_t1x.to_numpy()\n",
        "y = np.ravel(a_t1y)\n",
        "lreg = LogisticRegression(random_state=0, max_iter=1000).fit(X, y)\n",
        "lreg\n",
        "print(lreg.coef_)\n",
        "print(lreg.intercept_)"
      ],
      "metadata": {
        "colab": {
          "base_uri": "https://localhost:8080/"
        },
        "id": "DPJSx0sg-f1P",
        "outputId": "697490e8-7e35-438a-aea4-6d1005a446e0"
      },
      "execution_count": 89,
      "outputs": [
        {
          "output_type": "stream",
          "name": "stdout",
          "text": [
            "[[-1.58451847 -0.01512762  0.02087126  0.00593549 -0.11843582 -0.14471956\n",
            "   0.02662029 -0.01112988]]\n",
            "[23.71323757]\n"
          ]
        }
      ]
    },
    {
      "cell_type": "code",
      "source": [
        "a_test11 = a1[[\"Temperature\",\t\"Humidity\",\t\"Light\",\t\"CO2\",\t\"HumidityRatio\", \"day\",\t\"hour\",\t\"minuto\"]]\n",
        "a_test1y = a1[[\"Occupancy\"]]\n",
        "Xtest = a_test11.to_numpy()\n",
        "ytest = a_test1y.to_numpy()\n",
        "ypredict = lreg.predict(Xtest)\n",
        "ypredict\n",
        "list_2 = ypredict.tolist()\n",
        "print(list_2)\n",
        "list_1 = a1[\"Occupancy\"].values.tolist()\n",
        "print(list_1)\n",
        "testeo = pd.DataFrame({'valor_verdadero':list_1, 'valor_estimado':list_2})\n",
        "testeo\n",
        "filtro2 = testeo['valor_verdadero'] == testeo['valor_estimado']\n",
        "filtro3 = testeo['valor_verdadero'] != testeo['valor_estimado']\n",
        "testeo.loc[filtro2, 'resultado'] = 'acerto'\n",
        "testeo.loc[filtro3, 'resultado'] = 'no acerto'\n",
        "testeo"
      ],
      "metadata": {
        "colab": {
          "base_uri": "https://localhost:8080/",
          "height": 480
        },
        "id": "QdEG0WeN-9YT",
        "outputId": "71a1a4fd-0e2f-4d45-afc0-aa09f1910832"
      },
      "execution_count": 90,
      "outputs": [
        {
          "output_type": "stream",
          "name": "stdout",
          "text": [
            "[1, 1, 1, 1, 1, 1, 1, 1, 1, 1, 1, 1, 1, 1, 1, 1, 1, 1, 1, 1, 1, 1, 1, 1, 1, 1, 1, 1, 1, 1, 1, 1, 1, 1, 1, 1, 1, 1, 1, 1, 1, 1, 1, 1, 1, 1, 1, 1, 1, 1, 1, 1, 1, 1, 1, 1, 1, 1, 1, 1, 1, 1, 1, 1, 1, 1, 1, 1, 1, 1, 1, 1, 1, 1, 1, 1, 1, 1, 1, 1, 1, 1, 1, 1, 1, 1, 1, 1, 1, 1, 1, 1, 1, 1, 1, 1, 1, 1, 1, 1, 1, 1, 1, 1, 1, 1, 1, 1, 1, 1, 1, 1, 1, 1, 1, 1, 1, 1, 1, 1, 1, 1, 1, 1, 1, 1, 1, 1, 1, 1, 1, 1, 1, 1, 1, 1, 1, 1, 1, 1, 1, 1, 1, 1, 1, 1, 1, 1, 1, 1, 1, 1, 1, 1, 1, 1, 1, 1, 1, 1, 1, 1, 1, 1, 1, 1, 1, 1, 1, 1, 1, 1, 1, 1, 1, 1, 1, 1, 1, 1, 1, 1, 1, 1, 1, 1, 1, 1, 1, 1, 1, 1, 1, 1, 1, 1, 1, 1, 1, 1, 1, 1, 1, 1, 1, 1, 1, 1, 1, 1, 1, 1, 1, 1, 1, 1, 1, 1, 1, 1, 1, 1, 1, 1, 1, 0, 0, 0, 0, 0, 0, 0, 0, 0, 0, 0, 0, 0, 0, 0, 0, 0, 0, 0, 0, 0, 0, 0, 0, 0, 0, 0, 0, 0, 0, 0, 0, 0, 0, 0, 0, 0, 0, 0, 0, 0, 0, 0, 0, 0, 0, 0, 0, 0, 0, 0, 0, 0, 0, 0, 0, 0, 0, 0, 0, 0, 0, 0, 0, 0, 0, 0, 0, 0, 0, 0, 0, 0, 0, 0, 0, 0, 0, 0, 0, 0, 0, 0, 0, 0, 0, 0, 0, 0, 0, 0, 0, 0, 0, 0, 0, 0, 0, 0, 0, 0, 0, 0, 0, 0, 0, 0, 0, 0, 0, 0, 0, 0, 0, 0, 0, 0, 0, 0, 0, 0, 0, 0, 0, 0, 0, 0, 0, 0, 0, 0, 0, 0, 0, 0, 0, 0, 0, 0, 0, 0, 0, 0, 0, 0, 0, 0, 0, 0, 0, 0, 0, 0, 0, 0, 0, 0, 0, 0, 0, 0, 0, 0, 0, 0, 0, 0, 0, 0, 0, 0, 0, 0, 0, 0, 0, 0, 0, 0, 0, 0, 0, 0, 0, 0, 0, 0, 0, 0, 0, 0, 0, 0, 0, 0, 0, 0, 0, 0, 0, 0, 0, 0, 0, 0, 0, 0, 0, 0, 0, 0, 0, 0, 0, 0, 0, 0, 0, 0, 0, 0, 0, 0, 0, 0, 0, 0, 0, 0, 0, 0, 0, 0, 0, 0, 0, 0, 0, 0, 0, 0, 0, 0, 0, 0, 0, 0, 0, 0, 0, 0, 0, 0, 0, 0, 0, 0, 0, 0, 0, 0, 0, 0, 0, 0, 0, 0, 0, 0, 0, 0, 0, 0, 0, 0, 0, 0, 0, 0, 0, 0, 0, 0, 0, 0, 0, 0, 0, 0, 0, 0, 0, 0, 0, 0, 0, 0, 0, 0, 0, 0, 0, 0, 0, 0, 0, 0, 0, 0, 0, 0, 0, 0, 0, 0, 0, 0, 0, 0, 0, 0, 0, 0, 0, 0, 0, 0, 0, 0, 0, 0, 0, 0, 0, 0, 0, 0, 0, 0, 0, 0, 0, 0, 0, 0, 0, 0, 0, 0, 0, 0, 0, 0, 0, 0, 0, 0, 0, 0, 0, 0, 0, 0, 0, 0, 0, 0, 0, 0, 0, 0, 0, 0, 0, 0, 0, 0, 0, 0, 0, 0, 0, 0, 0, 0, 0, 0, 0, 0, 0, 0, 0, 0, 0, 0, 0, 0, 0, 0, 0, 0, 0, 0, 0, 0, 0, 0, 0, 0, 0, 0, 0, 0, 0, 0, 0, 0, 0, 0, 0, 0, 0, 0, 0, 0, 0, 0, 0, 0, 0, 0, 0, 0, 0, 0, 0, 0, 0, 0, 0, 0, 0, 0, 0, 0, 0, 0, 0, 0, 0, 0, 0, 0, 0, 0, 0, 0, 0, 0, 0, 0, 0, 0, 0, 0, 0, 0, 0, 0, 0, 0, 0, 0, 0, 0, 0, 0, 0, 0, 0, 0, 0, 0, 0, 0, 0, 0, 0, 0, 0, 0, 0, 0, 0, 0, 0, 0, 0, 0, 0, 0, 0, 0, 0, 0, 0, 0, 0, 0, 0, 0, 0, 0, 0, 0, 0, 0, 0, 0, 0, 0, 0, 0, 0, 0, 0, 0, 0, 0, 0, 0, 0, 0, 0, 0, 0, 0, 0, 0, 0, 0, 0, 0, 0, 0, 0, 0, 0, 0, 0, 0, 0, 0, 0, 0, 0, 0, 0, 0, 0, 0, 0, 0, 0, 0, 0, 0, 0, 0, 0, 0, 0, 0, 0, 0, 0, 0, 0, 0, 0, 0, 0, 0, 0, 0, 0, 0, 0, 0, 0, 0, 0, 0, 0, 0, 0, 0, 0, 0, 0, 0, 0, 0, 0, 0, 0, 0, 0, 0, 0, 0, 0, 0, 0, 0, 0, 0, 0, 0, 0, 0, 0, 0, 0, 0, 0, 0, 0, 0, 0, 0, 0, 0, 0, 0, 0, 0, 0, 0, 0, 0, 0, 0, 0, 0, 0, 0, 0, 0, 0, 0, 0, 0, 0, 0, 0, 0, 0, 0, 0, 0, 0, 0, 0, 0, 0, 0, 0, 0, 0, 0, 0, 0, 0, 0, 0, 0, 0, 0, 0, 0, 0, 0, 0, 0, 0, 0, 0, 0, 0, 0, 0, 0, 0, 0, 0, 0, 0, 0, 0, 0, 0, 0, 0, 0, 0, 0, 0, 0, 0, 0, 0, 0, 0, 0, 0, 0, 0, 0, 0, 0, 0, 0, 0, 0, 0, 0, 0, 0, 0, 0, 0, 0, 0, 0, 0, 0, 0, 0, 0, 0, 0, 0, 0, 0, 0, 0, 0, 0, 0, 0, 0, 0, 0, 0, 0, 0, 0, 0, 0, 0, 0, 0, 0, 0, 0, 0, 0, 0, 0, 0, 0, 0, 0, 0, 0, 0, 0, 0, 0, 0, 0, 0, 0, 0, 0, 0, 0, 0, 0, 0, 0, 0, 0, 0, 0, 0, 0, 0, 0, 0, 0, 0, 0, 0, 0, 0, 0, 0, 0, 0, 0, 0, 1, 1, 1, 1, 1, 1, 1, 1, 1, 1, 1, 1, 1, 1, 1, 1, 1, 1, 1, 1, 1, 1, 1, 1, 1, 1, 1, 1, 1, 1, 1, 1, 1, 1, 1, 1, 1, 1, 1, 1, 1, 1, 1, 1, 1, 1, 1, 1, 1, 1, 1, 1, 1, 1, 1, 1, 1, 1, 1, 1, 1, 1, 1, 1, 1, 1, 1, 1, 1, 1, 1, 1, 1, 1, 1, 1, 1, 1, 1, 1, 1, 1, 1, 1, 1, 1, 1, 1, 1, 1, 1, 1, 1, 1, 1, 1, 1, 1, 1, 1, 1, 1, 1, 1, 1, 1, 1, 1, 1, 1, 1, 1, 1, 1, 1, 1, 1, 1, 1, 1, 1, 1, 1, 1, 1, 1, 1, 1, 1, 1, 1, 1, 1, 1, 1, 1, 1, 1, 1, 1, 1, 1, 1, 1, 1, 1, 1, 1, 1, 1, 1, 1, 1, 1, 1, 1, 1, 1, 1, 1, 1, 1, 1, 1, 1, 1, 1, 1, 1, 1, 1, 1, 1, 1, 1, 1, 1, 1, 1, 1, 1, 1, 1, 1, 1, 1, 1, 1, 1, 1, 1, 1, 1, 1, 1, 1, 1, 1, 1, 1, 1, 1, 1, 1, 1, 1, 1, 1, 1, 1, 1, 1, 1, 1, 1, 1, 1, 1, 1, 1, 1, 1, 1, 1, 1, 1, 1, 1, 1, 1, 1, 1, 1, 1, 1, 1, 1, 1, 1, 1, 1, 1, 1, 1, 1, 1, 1, 1, 1, 1, 1, 1, 1, 1, 1, 1, 1, 1, 1, 1, 1, 1, 1, 1, 1, 1, 1, 1, 1, 1, 1, 1, 1, 1, 1, 1, 1, 1, 1, 1, 1, 1, 1, 1, 1, 1, 1, 1, 1, 1, 1, 1, 1, 1, 1, 1, 1, 1, 1, 1, 1, 1, 1, 1, 1, 1, 1, 1, 1, 1, 1, 1, 1, 1, 1, 1, 1, 1, 1, 1, 1, 1, 1, 1, 1, 1, 1, 1, 1, 1, 1, 1, 1, 0, 0, 0, 0, 0, 0, 0, 0, 0, 0, 0, 0, 0, 0, 0, 0, 0, 0, 0, 0, 0, 0, 0, 1, 1, 1, 1, 1, 1, 1, 1, 1, 1, 1, 1, 1, 1, 1, 1, 1, 1, 1, 1, 1, 1, 1, 1, 1, 1, 1, 1, 1, 1, 1, 1, 1, 1, 1, 1, 1, 1, 1, 1, 1, 1, 1, 1, 1, 1, 1, 1, 1, 1, 1, 1, 1, 1, 1, 1, 1, 1, 1, 1, 1, 1, 1, 1, 1, 1, 1, 1, 1, 1, 1, 1, 1, 1, 1, 1, 1, 1, 1, 1, 1, 1, 1, 1, 1, 1, 1, 1, 1, 1, 1, 1, 1, 1, 1, 1, 1, 1, 1, 1, 1, 1, 1, 1, 1, 1, 1, 1, 1, 1, 1, 1, 1, 1, 1, 1, 1, 1, 1, 1, 1, 1, 1, 1, 1, 1, 1, 1, 1, 1, 1, 1, 1, 1, 1, 1, 1, 1, 1, 1, 1, 1, 1, 1, 1, 1, 1, 1, 1, 1, 1, 1, 1, 1, 1, 1, 1, 1, 1, 1, 1, 1, 1, 1, 1, 1, 1, 1, 1, 1, 1, 1, 1, 1, 1, 1, 1, 1, 1, 1, 1, 1, 1, 1, 1, 1, 1, 1, 1, 1, 1, 1, 1, 1, 1, 1, 1, 1, 1, 1, 1, 1, 1, 1, 1, 1, 1, 1, 1, 1, 1, 1, 1, 1, 1, 1, 1, 1, 1, 1, 1, 1, 1, 1, 1, 1, 1, 1, 1, 1, 1, 1, 1, 1, 1, 1, 1, 1, 1, 1, 1, 1, 1, 1, 1, 1, 1, 1, 1, 1, 1, 1, 1, 1, 1, 1, 1, 1, 1, 1, 1, 1, 1, 1, 1, 1, 1, 1, 1, 1, 1, 1, 1, 1, 1, 1, 1, 1, 1, 1, 0, 0, 0, 0, 0, 0, 0, 0, 0, 0, 0, 0, 0, 0, 0, 0, 0, 0, 0, 0, 0, 0, 0, 0, 0, 0, 0, 0, 0, 0, 0, 0, 0, 0, 0, 0, 0, 0, 0, 0, 0, 0, 0, 0, 0, 0, 0, 0, 0, 0, 0, 0, 0, 0, 0, 0, 0, 0, 0, 0, 0, 0, 0, 0, 0, 0, 0, 0, 0, 0, 0, 0, 0, 0, 0, 0, 0, 0, 0, 0, 0, 0, 0, 0, 0, 0, 0, 0, 0, 0, 0, 0, 0, 0, 0, 0, 0, 0, 0, 0, 0, 0, 0, 0, 0, 0, 0, 0, 0, 0, 0, 0, 0, 0, 0, 0, 0, 0, 0, 0, 0, 0, 0, 0, 0, 0, 0, 0, 0, 0, 0, 0, 0, 0, 0, 0, 0, 0, 0, 0, 0, 0, 0, 0, 0, 0, 0, 0, 0, 0, 0, 0, 0, 0, 0, 0, 0, 0, 0, 0, 0, 0, 0, 0, 0, 0, 0, 0, 0, 0, 0, 0, 0, 0, 0, 0, 0, 0, 0, 0, 0, 0, 0, 0, 0, 0, 0, 0, 0, 0, 0, 0, 0, 0, 0, 0, 0, 0, 0, 0, 0, 0, 0, 0, 0, 0, 0, 0, 0, 0, 0, 0, 0, 0, 0, 0, 0, 0, 0, 0, 0, 0, 0, 0, 0, 0, 0, 0, 0, 0, 0, 0, 0, 0, 0, 0, 0, 0, 0, 0, 0, 0, 0, 0, 0, 0, 0, 0, 0, 0, 0, 0, 0, 0, 0, 0, 0, 0, 0, 0, 0, 0, 0, 0, 0, 0, 0, 0, 0, 0, 0, 0, 0, 0, 0, 0, 0, 0, 0, 0, 0, 0, 0, 0, 0, 0, 0, 0, 0, 0, 0, 0, 0, 0, 0, 0, 0, 0, 0, 0, 0, 0, 0, 0, 0, 0, 0, 0, 0, 0, 0, 0, 0, 0, 0, 0, 0, 0, 0, 0, 0, 0, 0, 0, 0, 0, 0, 0, 0, 0, 0, 0, 0, 0, 0, 0, 0, 0, 0, 0, 0, 0, 0, 0, 0, 0, 0, 0, 0, 0, 0, 0, 0, 0, 0, 0, 0, 0, 0, 0, 0, 0, 0, 0, 0, 0, 0, 0, 0, 0, 0, 0, 0, 0, 0, 0, 0, 0, 0, 0, 0, 0, 0, 0, 0, 0, 0, 0, 0, 0, 0, 0, 0, 0, 0, 0, 0, 0, 0, 0, 0, 0, 0, 0, 0, 0, 0, 0, 0, 0, 0, 0, 0, 0, 0, 0, 0, 0, 0, 0, 0, 0, 0, 0, 0, 0, 0, 0, 0, 0, 0, 0, 0, 0, 0, 0, 0, 0, 0, 0, 0, 0, 0, 0, 0, 0, 0, 0, 0, 0, 0, 0, 0, 0, 0, 0, 0, 0, 0, 0, 0, 0, 0, 0, 0, 0, 0, 0, 0, 0, 0, 0, 0, 0, 0, 0, 0, 0, 0, 0, 0, 0, 0, 0, 0, 0, 0, 0, 0, 0, 0, 0, 0, 0, 0, 0, 0, 0, 0, 0, 0, 0, 0, 0, 0, 0, 0, 0, 0, 0, 0, 0, 0, 0, 0, 0, 0, 0, 0, 0, 0, 0, 0, 0, 0, 0, 0, 0, 0, 0, 0, 0, 0, 0, 0, 0, 0, 0, 0, 0, 0, 0, 0, 0, 0, 0, 0, 0, 0, 0, 0, 0, 0, 0, 0, 0, 0, 0, 0, 0, 0, 0, 0, 0, 0, 0, 0, 0, 0, 0, 0, 0, 0, 0, 0, 0, 0, 0, 0, 0, 0, 0, 0, 0, 0, 0, 0, 0, 0, 0, 0, 0, 0, 0, 0, 0, 0, 0, 0, 0, 0, 0, 0, 0, 0, 0, 0, 0, 0, 0, 0, 0, 0, 0, 0, 0, 0, 0, 0, 0, 0, 0, 0, 0, 0, 0, 0, 0, 0, 0, 0, 0, 0, 0, 0, 0, 0, 0, 0, 0, 0, 0, 0, 0, 0, 0, 0, 0, 0, 0, 0, 0, 0, 0, 0, 0, 0, 0, 0, 0, 0, 0, 0, 0, 0, 0, 0, 0, 0, 0, 0, 0, 0, 0, 0, 0, 0, 0, 0, 0, 0, 0, 0, 0, 0, 0, 0, 0, 0, 0, 0, 0, 0, 0, 0, 0, 0, 0, 0, 0, 0, 0, 0, 0, 0, 0, 0, 0, 0, 0, 0, 0, 0, 0, 0, 0, 0, 0, 0, 0, 0, 0, 0, 0, 0, 0, 0, 0, 0, 0, 0, 0, 0, 0, 0, 0, 0, 0, 0, 0, 0, 0, 0, 0, 0, 0, 0, 0, 0, 0, 0, 0, 0, 0, 0, 0, 0, 0, 0, 0, 0, 0, 0, 0, 0, 0, 0, 0, 0, 0, 0, 0, 0, 0, 0, 0, 0, 0, 0, 0, 0, 0, 0, 0, 0, 0, 0, 0, 0, 0, 0, 0, 0, 0, 0, 0, 0, 0, 0, 0, 0, 0, 0, 0, 0, 0, 1, 1, 1, 1, 1, 1, 1, 1, 1, 1, 1, 1, 1, 1, 1, 1, 1, 1, 1, 1, 1, 1, 1, 1, 1, 1, 1, 1, 1, 1, 1, 1, 1, 1, 1, 1, 1, 1, 1, 1, 1, 1, 1, 1, 1, 1, 1, 1, 1, 1, 1, 1, 1, 1, 1, 1, 1, 1, 1, 1, 1, 1, 1, 1, 1, 1, 1, 1, 1, 1, 1, 1, 1, 1, 1, 1, 1, 1, 1, 1, 1, 1, 1, 1, 1, 1, 1, 1, 1, 1, 1, 1, 1, 1, 1, 1, 1, 1, 1, 1, 1, 1, 1, 1, 1, 1, 1, 1, 1, 1, 1, 1, 1, 1, 1, 1, 1, 1, 1, 1, 1, 1, 1, 1, 1, 1, 1, 1, 1, 1, 1, 1, 1, 1, 1, 1, 1, 1, 1, 1, 1, 1, 1, 1, 1, 1, 1, 1, 1, 1, 1, 1, 1, 1, 1, 1, 1, 1, 1, 1, 1, 1, 1, 1, 1, 1, 1, 1, 1, 1, 1, 1, 1, 1, 1, 1, 1, 1, 1, 1, 1, 1, 1, 1, 1]\n",
            "[1, 1, 1, 1, 1, 1, 1, 1, 1, 1, 1, 1, 1, 1, 1, 1, 1, 1, 1, 1, 1, 1, 1, 1, 1, 1, 1, 1, 1, 1, 1, 1, 1, 1, 1, 1, 1, 1, 1, 1, 1, 1, 1, 1, 1, 1, 1, 1, 1, 1, 1, 1, 1, 1, 1, 1, 1, 1, 1, 1, 1, 1, 1, 1, 1, 1, 1, 1, 1, 1, 1, 1, 1, 1, 1, 1, 1, 1, 1, 1, 1, 1, 1, 1, 1, 1, 1, 1, 1, 1, 1, 1, 1, 1, 1, 1, 1, 1, 1, 1, 1, 1, 1, 1, 1, 1, 1, 1, 1, 1, 1, 1, 1, 1, 1, 1, 1, 1, 1, 1, 1, 1, 1, 1, 1, 1, 1, 1, 1, 1, 1, 1, 1, 1, 1, 1, 1, 1, 1, 1, 1, 1, 1, 1, 1, 1, 1, 1, 1, 1, 1, 1, 1, 1, 1, 1, 1, 1, 1, 1, 1, 1, 1, 1, 1, 1, 1, 1, 1, 1, 1, 1, 1, 1, 1, 1, 1, 1, 1, 1, 1, 1, 1, 1, 1, 1, 1, 1, 1, 1, 1, 1, 1, 1, 1, 0, 0, 0, 0, 0, 0, 0, 0, 0, 0, 0, 0, 0, 0, 0, 0, 0, 0, 0, 0, 0, 0, 0, 1, 1, 1, 1, 1, 1, 1, 1, 0, 0, 0, 0, 0, 0, 0, 0, 0, 0, 0, 0, 0, 0, 0, 0, 0, 0, 0, 0, 0, 0, 0, 0, 0, 0, 0, 0, 0, 0, 0, 0, 0, 0, 0, 0, 0, 0, 0, 0, 0, 0, 0, 0, 0, 0, 0, 0, 0, 0, 0, 0, 0, 0, 0, 0, 0, 0, 0, 0, 0, 0, 0, 0, 0, 0, 0, 0, 0, 0, 0, 0, 0, 0, 0, 0, 0, 0, 0, 0, 0, 0, 0, 0, 0, 0, 0, 0, 0, 0, 0, 0, 0, 0, 0, 0, 0, 0, 0, 0, 0, 0, 0, 0, 0, 0, 0, 0, 0, 0, 0, 0, 0, 0, 0, 0, 0, 0, 0, 0, 0, 0, 0, 0, 0, 0, 0, 0, 0, 0, 0, 0, 0, 0, 0, 0, 0, 0, 0, 0, 0, 0, 0, 0, 0, 0, 0, 0, 0, 0, 0, 0, 0, 0, 0, 0, 0, 0, 0, 0, 0, 0, 0, 0, 0, 0, 0, 0, 0, 0, 0, 0, 0, 0, 0, 0, 0, 0, 0, 0, 0, 0, 0, 0, 0, 0, 0, 0, 0, 0, 0, 0, 0, 0, 0, 0, 0, 0, 0, 0, 0, 0, 0, 0, 0, 0, 0, 0, 0, 0, 0, 0, 0, 0, 0, 0, 0, 0, 0, 0, 0, 0, 0, 0, 0, 0, 0, 0, 0, 0, 0, 0, 0, 0, 0, 0, 0, 0, 0, 0, 0, 0, 0, 0, 0, 0, 0, 0, 0, 0, 0, 0, 0, 0, 0, 0, 0, 0, 0, 0, 0, 0, 0, 0, 0, 0, 0, 0, 0, 0, 0, 0, 0, 0, 0, 0, 0, 0, 0, 0, 0, 0, 0, 0, 0, 0, 0, 0, 0, 0, 0, 0, 0, 0, 0, 0, 0, 0, 0, 0, 0, 0, 0, 0, 0, 0, 0, 0, 0, 0, 0, 0, 0, 0, 0, 0, 0, 0, 0, 0, 0, 0, 0, 0, 0, 0, 0, 0, 0, 0, 0, 0, 0, 0, 0, 0, 0, 0, 0, 0, 0, 0, 0, 0, 0, 0, 0, 0, 0, 0, 0, 0, 0, 0, 0, 0, 0, 0, 0, 0, 0, 0, 0, 0, 0, 0, 0, 0, 0, 0, 0, 0, 0, 0, 0, 0, 0, 0, 0, 0, 0, 0, 0, 0, 0, 0, 0, 0, 0, 0, 0, 0, 0, 0, 0, 0, 0, 0, 0, 0, 0, 0, 0, 0, 0, 0, 0, 0, 0, 0, 0, 0, 0, 0, 0, 0, 0, 0, 0, 0, 0, 0, 0, 0, 0, 0, 0, 0, 0, 0, 0, 0, 0, 0, 0, 0, 0, 0, 0, 0, 0, 0, 0, 0, 0, 0, 0, 0, 0, 0, 0, 0, 0, 0, 0, 0, 0, 0, 0, 0, 0, 0, 0, 0, 0, 0, 0, 0, 0, 0, 0, 0, 0, 0, 0, 0, 0, 0, 0, 0, 0, 0, 0, 0, 0, 0, 0, 0, 0, 0, 0, 0, 0, 0, 0, 0, 0, 0, 0, 0, 0, 0, 0, 0, 0, 0, 0, 0, 0, 0, 0, 0, 0, 0, 0, 0, 0, 0, 0, 0, 0, 0, 0, 0, 0, 0, 0, 0, 0, 0, 0, 0, 0, 0, 0, 0, 0, 0, 0, 0, 0, 0, 0, 0, 0, 0, 0, 0, 0, 0, 0, 0, 0, 0, 0, 0, 0, 0, 0, 0, 0, 0, 0, 0, 0, 0, 0, 0, 0, 0, 0, 0, 0, 0, 0, 0, 0, 0, 0, 0, 0, 0, 0, 0, 0, 0, 0, 0, 0, 0, 0, 0, 0, 0, 0, 0, 0, 0, 0, 0, 0, 0, 0, 0, 0, 0, 0, 0, 0, 0, 0, 0, 0, 0, 0, 0, 0, 0, 0, 0, 0, 0, 0, 0, 0, 0, 0, 0, 0, 0, 0, 0, 0, 0, 0, 0, 0, 0, 0, 0, 0, 0, 0, 0, 0, 0, 0, 0, 0, 0, 0, 0, 0, 0, 0, 0, 0, 0, 0, 0, 0, 0, 0, 0, 0, 0, 0, 0, 0, 0, 0, 0, 0, 0, 0, 0, 0, 0, 0, 0, 0, 0, 0, 0, 0, 0, 0, 0, 0, 0, 0, 0, 0, 0, 0, 0, 0, 0, 0, 0, 0, 0, 0, 0, 0, 0, 0, 0, 0, 0, 0, 0, 0, 0, 0, 0, 0, 0, 0, 0, 0, 0, 0, 0, 0, 0, 0, 0, 0, 0, 0, 0, 0, 0, 0, 0, 0, 0, 0, 0, 0, 0, 0, 0, 0, 0, 0, 0, 0, 0, 0, 0, 0, 0, 0, 0, 0, 0, 0, 0, 0, 0, 0, 0, 0, 0, 0, 0, 0, 0, 0, 0, 0, 0, 0, 0, 0, 0, 0, 0, 0, 0, 0, 0, 0, 0, 0, 0, 0, 0, 0, 0, 0, 0, 0, 0, 0, 0, 0, 0, 0, 0, 0, 0, 0, 0, 0, 0, 0, 0, 0, 1, 1, 1, 0, 0, 0, 0, 1, 1, 1, 1, 1, 1, 1, 1, 1, 1, 1, 1, 1, 1, 1, 1, 1, 1, 1, 1, 1, 1, 1, 1, 1, 1, 1, 1, 1, 1, 1, 1, 1, 1, 1, 1, 1, 1, 1, 1, 1, 1, 1, 1, 1, 1, 1, 1, 1, 1, 1, 1, 1, 1, 1, 1, 1, 1, 1, 1, 1, 1, 1, 1, 1, 1, 1, 1, 1, 1, 1, 1, 1, 1, 1, 1, 1, 1, 1, 1, 1, 1, 1, 1, 1, 1, 1, 0, 0, 1, 1, 1, 1, 1, 1, 1, 1, 1, 1, 1, 1, 1, 1, 1, 1, 1, 1, 1, 1, 1, 1, 1, 1, 1, 1, 1, 1, 1, 1, 1, 1, 1, 1, 1, 1, 1, 1, 1, 1, 1, 1, 1, 1, 1, 1, 1, 1, 1, 1, 1, 1, 1, 1, 1, 1, 1, 1, 1, 1, 1, 1, 1, 1, 1, 1, 1, 1, 1, 1, 1, 1, 1, 1, 1, 1, 1, 1, 1, 1, 1, 1, 1, 1, 1, 1, 1, 1, 1, 1, 1, 1, 1, 1, 1, 1, 1, 1, 1, 1, 1, 1, 1, 1, 1, 1, 1, 1, 1, 1, 1, 1, 1, 1, 1, 1, 1, 1, 1, 1, 1, 1, 1, 1, 1, 1, 1, 1, 1, 1, 1, 1, 1, 1, 1, 1, 1, 1, 1, 1, 1, 1, 1, 1, 1, 1, 1, 1, 1, 1, 1, 1, 1, 1, 1, 1, 0, 1, 1, 1, 1, 1, 1, 1, 1, 1, 1, 1, 1, 1, 1, 1, 1, 1, 1, 1, 1, 1, 1, 1, 1, 1, 1, 1, 1, 1, 1, 0, 0, 0, 1, 1, 1, 1, 1, 1, 1, 1, 1, 1, 1, 1, 1, 1, 1, 1, 1, 1, 1, 1, 1, 1, 1, 1, 1, 1, 1, 1, 1, 1, 1, 1, 1, 1, 1, 1, 1, 1, 1, 1, 1, 1, 1, 1, 1, 1, 1, 1, 0, 0, 0, 0, 0, 0, 0, 0, 0, 0, 0, 0, 0, 0, 0, 0, 0, 0, 0, 0, 0, 0, 0, 1, 0, 0, 0, 0, 0, 1, 1, 1, 1, 1, 1, 1, 1, 1, 1, 1, 1, 1, 1, 1, 1, 1, 1, 1, 1, 1, 1, 1, 1, 1, 1, 1, 1, 1, 1, 1, 1, 1, 1, 1, 1, 1, 1, 1, 1, 1, 1, 1, 1, 1, 1, 1, 1, 1, 1, 1, 1, 1, 1, 1, 1, 1, 1, 1, 1, 1, 1, 1, 1, 1, 1, 1, 1, 1, 1, 1, 1, 1, 1, 1, 1, 1, 1, 1, 1, 1, 1, 1, 1, 1, 1, 1, 1, 1, 1, 1, 1, 1, 1, 1, 1, 1, 1, 1, 1, 1, 1, 1, 1, 1, 1, 1, 1, 1, 1, 1, 1, 1, 1, 1, 1, 1, 1, 1, 1, 1, 1, 1, 1, 1, 1, 1, 1, 1, 1, 1, 1, 1, 1, 1, 1, 1, 1, 1, 1, 1, 1, 1, 1, 1, 1, 1, 1, 1, 1, 1, 1, 1, 1, 1, 1, 1, 1, 1, 1, 1, 1, 1, 1, 1, 1, 1, 1, 1, 1, 1, 1, 1, 1, 1, 1, 1, 1, 1, 1, 1, 1, 1, 1, 1, 1, 1, 1, 1, 1, 1, 1, 1, 1, 1, 1, 1, 1, 1, 1, 1, 1, 1, 1, 1, 1, 1, 1, 1, 1, 1, 1, 1, 1, 1, 1, 1, 1, 1, 1, 1, 1, 1, 1, 1, 1, 1, 1, 1, 1, 1, 1, 1, 1, 1, 1, 1, 1, 1, 1, 1, 1, 1, 1, 1, 1, 1, 1, 1, 1, 1, 1, 1, 1, 1, 1, 1, 1, 1, 1, 1, 1, 1, 1, 1, 1, 1, 1, 1, 1, 1, 1, 1, 1, 0, 0, 0, 0, 0, 0, 0, 0, 0, 0, 0, 0, 0, 0, 0, 0, 0, 0, 0, 0, 0, 0, 0, 0, 0, 0, 0, 0, 0, 0, 0, 0, 0, 0, 0, 0, 0, 0, 0, 0, 0, 0, 0, 0, 0, 0, 0, 0, 0, 0, 0, 0, 0, 0, 0, 0, 0, 0, 0, 0, 0, 0, 0, 0, 0, 0, 0, 0, 0, 0, 0, 0, 0, 0, 0, 0, 0, 0, 0, 0, 0, 0, 0, 0, 0, 0, 0, 0, 0, 0, 0, 0, 0, 0, 0, 0, 0, 0, 0, 0, 0, 0, 0, 0, 0, 0, 0, 0, 0, 0, 0, 0, 0, 0, 0, 0, 0, 0, 0, 0, 0, 0, 0, 0, 0, 0, 0, 0, 0, 0, 0, 0, 0, 0, 0, 0, 0, 0, 0, 0, 0, 0, 0, 0, 0, 0, 0, 0, 0, 0, 0, 0, 0, 0, 0, 0, 0, 0, 0, 0, 0, 0, 0, 0, 0, 0, 0, 0, 0, 0, 0, 0, 0, 0, 0, 0, 0, 0, 0, 0, 0, 0, 0, 0, 0, 0, 0, 0, 0, 0, 0, 0, 0, 0, 0, 0, 0, 0, 0, 0, 0, 0, 0, 0, 0, 0, 0, 0, 0, 0, 0, 0, 0, 0, 0, 0, 0, 0, 0, 0, 0, 0, 0, 0, 0, 0, 0, 0, 0, 0, 0, 0, 0, 0, 0, 0, 0, 0, 0, 0, 0, 0, 0, 0, 0, 0, 0, 0, 0, 0, 0, 0, 0, 0, 0, 0, 0, 0, 0, 0, 0, 0, 0, 0, 0, 0, 0, 0, 0, 0, 0, 0, 0, 0, 0, 0, 0, 0, 0, 0, 0, 0, 0, 0, 0, 0, 0, 0, 0, 0, 0, 0, 0, 0, 0, 0, 0, 0, 0, 0, 0, 0, 0, 0, 0, 0, 0, 0, 0, 0, 0, 0, 0, 0, 0, 0, 0, 0, 0, 0, 0, 0, 0, 0, 0, 0, 0, 0, 0, 0, 0, 0, 0, 0, 0, 0, 0, 0, 0, 0, 0, 0, 0, 0, 0, 0, 0, 0, 0, 0, 0, 0, 0, 0, 0, 0, 0, 0, 0, 0, 0, 0, 0, 0, 0, 0, 0, 0, 0, 0, 0, 0, 0, 0, 0, 0, 0, 0, 0, 0, 0, 0, 0, 0, 0, 0, 0, 0, 0, 0, 0, 0, 0, 0, 0, 0, 0, 0, 0, 0, 0, 0, 0, 0, 0, 0, 0, 0, 0, 0, 0, 0, 0, 0, 0, 0, 0, 0, 0, 0, 0, 0, 0, 0, 0, 0, 0, 0, 0, 0, 0, 0, 0, 0, 0, 0, 0, 0, 0, 0, 0, 0, 0, 0, 0, 0, 0, 0, 0, 0, 0, 0, 0, 0, 0, 0, 0, 0, 0, 0, 0, 0, 0, 0, 0, 0, 0, 0, 0, 0, 0, 0, 0, 0, 0, 0, 0, 0, 0, 0, 0, 0, 0, 0, 0, 0, 0, 0, 0, 0, 0, 0, 0, 0, 0, 0, 0, 0, 0, 0, 0, 0, 0, 0, 0, 0, 0, 0, 0, 0, 0, 0, 0, 0, 0, 0, 0, 0, 0, 0, 0, 0, 0, 0, 0, 0, 0, 0, 0, 0, 0, 0, 0, 0, 0, 0, 0, 0, 0, 0, 0, 0, 0, 0, 0, 0, 0, 0, 0, 0, 0, 0, 0, 0, 0, 0, 0, 0, 0, 0, 0, 0, 0, 0, 0, 0, 0, 0, 0, 0, 0, 0, 0, 0, 0, 0, 0, 0, 0, 0, 0, 0, 0, 0, 0, 0, 0, 0, 0, 0, 0, 0, 0, 0, 0, 0, 0, 0, 0, 0, 0, 0, 0, 0, 0, 0, 0, 0, 0, 0, 0, 0, 0, 0, 0, 0, 0, 0, 0, 0, 0, 0, 0, 0, 0, 0, 0, 0, 0, 0, 0, 0, 0, 0, 0, 0, 0, 0, 0, 0, 0, 0, 0, 0, 0, 0, 0, 0, 0, 0, 0, 0, 0, 0, 0, 0, 0, 0, 0, 0, 0, 0, 0, 0, 0, 0, 0, 0, 0, 0, 0, 0, 0, 0, 0, 0, 0, 0, 0, 0, 0, 0, 0, 0, 0, 0, 0, 0, 0, 0, 0, 0, 0, 0, 0, 0, 0, 0, 0, 0, 0, 0, 0, 0, 0, 0, 0, 0, 0, 0, 0, 0, 0, 0, 0, 0, 0, 0, 0, 0, 0, 0, 0, 0, 0, 0, 0, 0, 0, 0, 0, 0, 0, 0, 0, 0, 0, 0, 0, 0, 0, 0, 0, 0, 0, 0, 0, 0, 0, 0, 0, 0, 0, 0, 0, 0, 0, 0, 0, 0, 0, 0, 0, 0, 0, 0, 0, 0, 0, 0, 0, 0, 0, 0, 0, 0, 0, 0, 0, 0, 0, 0, 0, 0, 0, 0, 0, 0, 0, 0, 0, 0, 0, 0, 0, 0, 0, 0, 0, 0, 0, 0, 0, 0, 0, 1, 1, 1, 1, 1, 1, 1, 1, 1, 1, 0, 0, 0, 0, 0, 1, 1, 1, 1, 1, 1, 1, 1, 1, 1, 1, 1, 1, 1, 1, 1, 1, 1, 1, 1, 1, 1, 1, 1, 1, 1, 1, 1, 1, 1, 1, 1, 1, 1, 1, 1, 1, 1, 1, 1, 0, 0, 0, 0, 0, 0, 0, 1, 1, 1, 1, 1, 1, 1, 1, 1, 1, 1, 1, 1, 1, 1, 1, 1, 0, 0, 1, 1, 1, 1, 1, 1, 1, 1, 1, 1, 1, 1, 1, 1, 1, 1, 1, 1, 1, 1, 1, 1, 1, 1, 1, 1, 1, 1, 1, 0, 0, 1, 1, 1, 1, 1, 1, 1, 1, 1, 1, 1, 1, 1, 1, 1, 1, 1, 1, 1, 1, 1, 1, 1, 1, 1, 1, 1, 1, 1, 1, 1, 1, 1, 1, 1, 1, 1, 1, 1, 1, 1, 1, 1, 1, 1, 1, 1, 1, 1, 1, 1, 1, 1, 1, 1, 1, 1, 1, 1, 1, 1, 1, 1, 1, 1, 1, 1, 1, 1, 1, 1, 1, 1, 1]\n"
          ]
        },
        {
          "output_type": "execute_result",
          "data": {
            "text/plain": [
              "      valor_verdadero  valor_estimado resultado\n",
              "0                   1               1    acerto\n",
              "1                   1               1    acerto\n",
              "2                   1               1    acerto\n",
              "3                   1               1    acerto\n",
              "4                   1               1    acerto\n",
              "...               ...             ...       ...\n",
              "2660                1               1    acerto\n",
              "2661                1               1    acerto\n",
              "2662                1               1    acerto\n",
              "2663                1               1    acerto\n",
              "2664                1               1    acerto\n",
              "\n",
              "[2665 rows x 3 columns]"
            ],
            "text/html": [
              "\n",
              "  <div id=\"df-0d5d80ec-e81c-440c-a835-60982e29f36d\">\n",
              "    <div class=\"colab-df-container\">\n",
              "      <div>\n",
              "<style scoped>\n",
              "    .dataframe tbody tr th:only-of-type {\n",
              "        vertical-align: middle;\n",
              "    }\n",
              "\n",
              "    .dataframe tbody tr th {\n",
              "        vertical-align: top;\n",
              "    }\n",
              "\n",
              "    .dataframe thead th {\n",
              "        text-align: right;\n",
              "    }\n",
              "</style>\n",
              "<table border=\"1\" class=\"dataframe\">\n",
              "  <thead>\n",
              "    <tr style=\"text-align: right;\">\n",
              "      <th></th>\n",
              "      <th>valor_verdadero</th>\n",
              "      <th>valor_estimado</th>\n",
              "      <th>resultado</th>\n",
              "    </tr>\n",
              "  </thead>\n",
              "  <tbody>\n",
              "    <tr>\n",
              "      <th>0</th>\n",
              "      <td>1</td>\n",
              "      <td>1</td>\n",
              "      <td>acerto</td>\n",
              "    </tr>\n",
              "    <tr>\n",
              "      <th>1</th>\n",
              "      <td>1</td>\n",
              "      <td>1</td>\n",
              "      <td>acerto</td>\n",
              "    </tr>\n",
              "    <tr>\n",
              "      <th>2</th>\n",
              "      <td>1</td>\n",
              "      <td>1</td>\n",
              "      <td>acerto</td>\n",
              "    </tr>\n",
              "    <tr>\n",
              "      <th>3</th>\n",
              "      <td>1</td>\n",
              "      <td>1</td>\n",
              "      <td>acerto</td>\n",
              "    </tr>\n",
              "    <tr>\n",
              "      <th>4</th>\n",
              "      <td>1</td>\n",
              "      <td>1</td>\n",
              "      <td>acerto</td>\n",
              "    </tr>\n",
              "    <tr>\n",
              "      <th>...</th>\n",
              "      <td>...</td>\n",
              "      <td>...</td>\n",
              "      <td>...</td>\n",
              "    </tr>\n",
              "    <tr>\n",
              "      <th>2660</th>\n",
              "      <td>1</td>\n",
              "      <td>1</td>\n",
              "      <td>acerto</td>\n",
              "    </tr>\n",
              "    <tr>\n",
              "      <th>2661</th>\n",
              "      <td>1</td>\n",
              "      <td>1</td>\n",
              "      <td>acerto</td>\n",
              "    </tr>\n",
              "    <tr>\n",
              "      <th>2662</th>\n",
              "      <td>1</td>\n",
              "      <td>1</td>\n",
              "      <td>acerto</td>\n",
              "    </tr>\n",
              "    <tr>\n",
              "      <th>2663</th>\n",
              "      <td>1</td>\n",
              "      <td>1</td>\n",
              "      <td>acerto</td>\n",
              "    </tr>\n",
              "    <tr>\n",
              "      <th>2664</th>\n",
              "      <td>1</td>\n",
              "      <td>1</td>\n",
              "      <td>acerto</td>\n",
              "    </tr>\n",
              "  </tbody>\n",
              "</table>\n",
              "<p>2665 rows × 3 columns</p>\n",
              "</div>\n",
              "      <button class=\"colab-df-convert\" onclick=\"convertToInteractive('df-0d5d80ec-e81c-440c-a835-60982e29f36d')\"\n",
              "              title=\"Convert this dataframe to an interactive table.\"\n",
              "              style=\"display:none;\">\n",
              "        \n",
              "  <svg xmlns=\"http://www.w3.org/2000/svg\" height=\"24px\"viewBox=\"0 0 24 24\"\n",
              "       width=\"24px\">\n",
              "    <path d=\"M0 0h24v24H0V0z\" fill=\"none\"/>\n",
              "    <path d=\"M18.56 5.44l.94 2.06.94-2.06 2.06-.94-2.06-.94-.94-2.06-.94 2.06-2.06.94zm-11 1L8.5 8.5l.94-2.06 2.06-.94-2.06-.94L8.5 2.5l-.94 2.06-2.06.94zm10 10l.94 2.06.94-2.06 2.06-.94-2.06-.94-.94-2.06-.94 2.06-2.06.94z\"/><path d=\"M17.41 7.96l-1.37-1.37c-.4-.4-.92-.59-1.43-.59-.52 0-1.04.2-1.43.59L10.3 9.45l-7.72 7.72c-.78.78-.78 2.05 0 2.83L4 21.41c.39.39.9.59 1.41.59.51 0 1.02-.2 1.41-.59l7.78-7.78 2.81-2.81c.8-.78.8-2.07 0-2.86zM5.41 20L4 18.59l7.72-7.72 1.47 1.35L5.41 20z\"/>\n",
              "  </svg>\n",
              "      </button>\n",
              "      \n",
              "  <style>\n",
              "    .colab-df-container {\n",
              "      display:flex;\n",
              "      flex-wrap:wrap;\n",
              "      gap: 12px;\n",
              "    }\n",
              "\n",
              "    .colab-df-convert {\n",
              "      background-color: #E8F0FE;\n",
              "      border: none;\n",
              "      border-radius: 50%;\n",
              "      cursor: pointer;\n",
              "      display: none;\n",
              "      fill: #1967D2;\n",
              "      height: 32px;\n",
              "      padding: 0 0 0 0;\n",
              "      width: 32px;\n",
              "    }\n",
              "\n",
              "    .colab-df-convert:hover {\n",
              "      background-color: #E2EBFA;\n",
              "      box-shadow: 0px 1px 2px rgba(60, 64, 67, 0.3), 0px 1px 3px 1px rgba(60, 64, 67, 0.15);\n",
              "      fill: #174EA6;\n",
              "    }\n",
              "\n",
              "    [theme=dark] .colab-df-convert {\n",
              "      background-color: #3B4455;\n",
              "      fill: #D2E3FC;\n",
              "    }\n",
              "\n",
              "    [theme=dark] .colab-df-convert:hover {\n",
              "      background-color: #434B5C;\n",
              "      box-shadow: 0px 1px 3px 1px rgba(0, 0, 0, 0.15);\n",
              "      filter: drop-shadow(0px 1px 2px rgba(0, 0, 0, 0.3));\n",
              "      fill: #FFFFFF;\n",
              "    }\n",
              "  </style>\n",
              "\n",
              "      <script>\n",
              "        const buttonEl =\n",
              "          document.querySelector('#df-0d5d80ec-e81c-440c-a835-60982e29f36d button.colab-df-convert');\n",
              "        buttonEl.style.display =\n",
              "          google.colab.kernel.accessAllowed ? 'block' : 'none';\n",
              "\n",
              "        async function convertToInteractive(key) {\n",
              "          const element = document.querySelector('#df-0d5d80ec-e81c-440c-a835-60982e29f36d');\n",
              "          const dataTable =\n",
              "            await google.colab.kernel.invokeFunction('convertToInteractive',\n",
              "                                                     [key], {});\n",
              "          if (!dataTable) return;\n",
              "\n",
              "          const docLinkHtml = 'Like what you see? Visit the ' +\n",
              "            '<a target=\"_blank\" href=https://colab.research.google.com/notebooks/data_table.ipynb>data table notebook</a>'\n",
              "            + ' to learn more about interactive tables.';\n",
              "          element.innerHTML = '';\n",
              "          dataTable['output_type'] = 'display_data';\n",
              "          await google.colab.output.renderOutput(dataTable, element);\n",
              "          const docLink = document.createElement('div');\n",
              "          docLink.innerHTML = docLinkHtml;\n",
              "          element.appendChild(docLink);\n",
              "        }\n",
              "      </script>\n",
              "    </div>\n",
              "  </div>\n",
              "  "
            ]
          },
          "metadata": {},
          "execution_count": 90
        }
      ]
    },
    {
      "cell_type": "code",
      "source": [
        "metricas_cal(testeo)"
      ],
      "metadata": {
        "colab": {
          "base_uri": "https://localhost:8080/"
        },
        "id": "QJEEq0O1D46g",
        "outputId": "11a2f9d5-b140-459b-fb3e-fbf5bab9442c"
      },
      "execution_count": 91,
      "outputs": [
        {
          "output_type": "stream",
          "name": "stdout",
          "text": [
            "la exactitud del spv es de: 97.861%\n",
            "los valores verdaderos negativos son 61.501% de la población de testeo \n",
            "los valores falsos negativos son 0.113% de la población de testeo \n",
            "los valores falsos positivos son 2.026% de la población de testeo \n",
            "los valores verdaderos positivos son 36.36% de la población de testeo \n"
          ]
        }
      ]
    },
    {
      "cell_type": "markdown",
      "source": [
        "**Vecino más cercano**"
      ],
      "metadata": {
        "id": "XySKahN3ETh6"
      }
    },
    {
      "cell_type": "code",
      "source": [
        "a_t1x = a[[\"Temperature\",\t\"Humidity\",\t\"Light\",\t\"CO2\",\t\"HumidityRatio\", \"day\",\t\"hour\",\t\"minuto\"]]\n",
        "a_t1y = a[[\"Occupancy\"]]\n",
        "X = a_t1x.to_numpy()\n",
        "y = np.ravel(a_t1y)\n",
        "neigh = KNeighborsClassifier()\n",
        "neigh = neigh.fit(X, y)\n"
      ],
      "metadata": {
        "id": "yGzuQsZfEd4P"
      },
      "execution_count": 98,
      "outputs": []
    },
    {
      "cell_type": "code",
      "source": [
        "a_test11 = a1[[\"Temperature\",\t\"Humidity\",\t\"Light\",\t\"CO2\",\t\"HumidityRatio\", \"day\",\t\"hour\",\t\"minuto\"]]\n",
        "a_test1y = a1[[\"Occupancy\"]]\n",
        "Xtest = a_test11.to_numpy()\n",
        "ytest = a_test1y.to_numpy()\n",
        "ypredict = neigh.predict(Xtest)\n",
        "ypredict\n",
        "list_2 = ypredict.tolist()\n",
        "print(list_2)\n",
        "list_1 = a1[\"Occupancy\"].values.tolist()\n",
        "print(list_1)\n",
        "testeo = pd.DataFrame({'valor_verdadero':list_1, 'valor_estimado':list_2})\n",
        "filtro2 = testeo['valor_verdadero'] == testeo['valor_estimado']\n",
        "filtro3 = testeo['valor_verdadero'] != testeo['valor_estimado']\n",
        "testeo.loc[filtro2, 'resultado'] = 'acerto'\n",
        "testeo.loc[filtro3, 'resultado'] = 'no acerto'\n",
        "testeo"
      ],
      "metadata": {
        "colab": {
          "base_uri": "https://localhost:8080/",
          "height": 480
        },
        "id": "_9IOkj_YD7XQ",
        "outputId": "1411fcb0-38b8-45c4-9592-1708b3b9a2b8"
      },
      "execution_count": 102,
      "outputs": [
        {
          "output_type": "stream",
          "name": "stdout",
          "text": [
            "[1, 1, 1, 1, 1, 1, 1, 1, 1, 1, 1, 1, 1, 1, 1, 0, 1, 1, 1, 1, 1, 1, 1, 1, 1, 1, 1, 1, 1, 1, 1, 1, 1, 1, 1, 1, 1, 1, 1, 1, 1, 1, 1, 1, 1, 1, 1, 1, 1, 1, 1, 1, 1, 1, 1, 1, 1, 1, 1, 1, 1, 1, 1, 1, 1, 1, 1, 1, 1, 1, 1, 1, 1, 1, 1, 1, 1, 1, 1, 1, 1, 1, 1, 1, 1, 1, 1, 1, 1, 1, 1, 1, 1, 1, 1, 1, 1, 1, 1, 1, 1, 1, 1, 1, 1, 1, 1, 1, 1, 1, 1, 1, 1, 1, 1, 1, 1, 1, 1, 1, 1, 1, 1, 1, 1, 1, 1, 1, 1, 1, 1, 1, 1, 1, 1, 1, 1, 1, 1, 1, 1, 1, 1, 1, 1, 1, 1, 1, 1, 1, 1, 1, 1, 1, 1, 1, 1, 1, 1, 1, 1, 1, 1, 1, 1, 1, 1, 1, 1, 1, 1, 1, 1, 1, 1, 1, 1, 1, 1, 1, 1, 1, 1, 1, 1, 1, 1, 1, 1, 1, 1, 1, 1, 1, 1, 1, 1, 1, 1, 1, 1, 1, 1, 1, 1, 1, 1, 1, 1, 1, 1, 1, 1, 1, 1, 1, 1, 1, 1, 1, 1, 1, 1, 1, 1, 1, 0, 0, 0, 0, 0, 0, 0, 0, 0, 0, 0, 0, 0, 0, 0, 0, 0, 0, 0, 0, 0, 0, 0, 0, 0, 0, 0, 0, 0, 0, 0, 0, 0, 0, 0, 0, 0, 0, 0, 0, 0, 0, 0, 0, 0, 0, 0, 0, 0, 0, 0, 0, 0, 0, 0, 0, 0, 0, 0, 0, 0, 0, 0, 0, 0, 0, 0, 0, 0, 0, 0, 0, 0, 0, 0, 0, 0, 0, 0, 0, 0, 0, 0, 0, 0, 0, 0, 0, 0, 0, 0, 0, 0, 0, 0, 0, 0, 0, 0, 0, 0, 0, 0, 0, 0, 0, 0, 0, 0, 0, 0, 0, 0, 0, 0, 0, 0, 0, 0, 0, 0, 0, 0, 0, 0, 0, 0, 0, 0, 0, 0, 0, 0, 0, 0, 0, 0, 0, 0, 0, 0, 0, 0, 0, 0, 0, 0, 0, 0, 0, 0, 0, 0, 0, 0, 0, 0, 0, 0, 0, 0, 0, 0, 0, 0, 0, 0, 0, 0, 0, 0, 0, 0, 0, 0, 0, 0, 0, 0, 0, 0, 0, 0, 0, 0, 0, 0, 0, 0, 0, 0, 0, 0, 0, 0, 0, 0, 0, 0, 0, 0, 0, 0, 0, 0, 0, 0, 0, 0, 0, 0, 0, 0, 0, 0, 0, 0, 0, 0, 0, 0, 0, 0, 0, 0, 0, 0, 0, 0, 0, 0, 0, 0, 0, 0, 0, 0, 0, 0, 0, 0, 0, 0, 0, 0, 0, 0, 0, 0, 0, 0, 0, 0, 0, 0, 0, 0, 0, 0, 0, 0, 0, 0, 0, 0, 0, 0, 0, 0, 0, 0, 0, 0, 0, 0, 0, 0, 0, 0, 0, 0, 0, 0, 0, 0, 0, 0, 0, 0, 0, 0, 0, 0, 0, 0, 0, 0, 0, 0, 0, 0, 0, 0, 0, 0, 0, 0, 0, 0, 0, 0, 0, 0, 0, 0, 0, 0, 0, 0, 0, 0, 0, 0, 0, 0, 0, 0, 0, 0, 0, 0, 0, 0, 0, 0, 0, 0, 0, 0, 0, 0, 0, 0, 0, 0, 0, 0, 0, 0, 0, 0, 0, 0, 0, 0, 0, 0, 0, 0, 0, 0, 0, 0, 0, 0, 0, 0, 0, 0, 0, 0, 0, 0, 0, 0, 0, 0, 0, 0, 0, 0, 0, 0, 0, 0, 0, 0, 0, 0, 0, 0, 0, 0, 0, 0, 0, 0, 0, 0, 0, 0, 0, 0, 0, 0, 0, 0, 0, 0, 0, 0, 0, 0, 0, 0, 0, 0, 0, 0, 0, 0, 0, 0, 0, 0, 0, 0, 0, 0, 0, 0, 0, 0, 0, 0, 0, 0, 0, 0, 0, 0, 0, 0, 0, 0, 0, 0, 0, 0, 0, 0, 0, 0, 0, 0, 0, 0, 0, 0, 0, 0, 0, 0, 0, 0, 0, 0, 0, 0, 0, 0, 0, 0, 0, 0, 0, 0, 0, 0, 0, 0, 0, 0, 0, 0, 0, 0, 0, 0, 0, 0, 0, 0, 0, 0, 0, 0, 0, 0, 0, 0, 0, 0, 0, 0, 0, 0, 0, 0, 0, 0, 0, 0, 0, 0, 0, 0, 0, 0, 0, 0, 0, 0, 0, 0, 0, 0, 0, 0, 0, 0, 0, 0, 0, 0, 0, 0, 0, 0, 0, 0, 0, 0, 0, 0, 0, 0, 0, 0, 0, 0, 0, 0, 0, 0, 0, 0, 0, 0, 0, 0, 0, 0, 0, 0, 0, 0, 0, 0, 0, 0, 0, 0, 0, 0, 0, 0, 0, 0, 0, 0, 0, 0, 0, 0, 0, 0, 0, 0, 0, 0, 0, 0, 0, 0, 0, 0, 0, 0, 0, 0, 0, 0, 0, 0, 0, 0, 0, 0, 0, 0, 0, 0, 0, 0, 0, 0, 0, 0, 0, 0, 0, 0, 0, 0, 0, 0, 0, 0, 0, 0, 0, 0, 0, 0, 0, 0, 0, 0, 0, 0, 0, 0, 0, 0, 0, 0, 0, 0, 0, 0, 0, 0, 0, 0, 0, 0, 0, 0, 0, 0, 0, 0, 0, 0, 0, 0, 0, 0, 0, 0, 0, 0, 0, 0, 0, 0, 0, 0, 0, 0, 0, 0, 0, 0, 0, 0, 0, 0, 0, 0, 0, 0, 0, 0, 0, 0, 0, 0, 0, 0, 0, 0, 0, 0, 0, 0, 0, 0, 0, 0, 0, 0, 0, 0, 0, 0, 0, 0, 0, 0, 0, 0, 0, 0, 0, 0, 0, 0, 0, 0, 0, 0, 0, 0, 0, 0, 0, 0, 0, 0, 0, 0, 0, 0, 0, 0, 0, 0, 0, 0, 0, 0, 0, 0, 0, 0, 0, 0, 0, 0, 0, 0, 0, 0, 0, 0, 0, 0, 0, 0, 0, 0, 0, 0, 0, 0, 0, 0, 0, 0, 0, 0, 0, 0, 0, 0, 0, 0, 0, 0, 0, 0, 0, 0, 0, 0, 0, 0, 0, 0, 0, 0, 0, 0, 0, 0, 0, 0, 0, 0, 0, 0, 0, 0, 0, 1, 1, 1, 1, 1, 1, 1, 0, 1, 1, 1, 1, 1, 1, 1, 1, 1, 1, 1, 1, 1, 1, 1, 1, 1, 1, 1, 1, 1, 1, 1, 1, 1, 1, 1, 1, 1, 1, 1, 1, 1, 1, 1, 1, 1, 1, 1, 1, 1, 1, 1, 1, 1, 1, 1, 1, 1, 1, 1, 1, 1, 1, 1, 1, 1, 1, 1, 1, 1, 1, 1, 1, 1, 1, 1, 1, 1, 1, 1, 1, 1, 1, 1, 1, 1, 1, 1, 1, 1, 1, 1, 1, 1, 1, 1, 1, 0, 1, 1, 0, 0, 1, 1, 1, 1, 1, 1, 1, 1, 1, 1, 1, 1, 1, 1, 1, 1, 1, 1, 1, 1, 1, 1, 1, 1, 1, 1, 1, 1, 1, 1, 1, 1, 1, 1, 1, 1, 1, 1, 1, 1, 1, 1, 1, 1, 1, 1, 1, 1, 1, 1, 1, 1, 1, 1, 1, 1, 1, 1, 1, 1, 1, 1, 1, 1, 1, 1, 1, 1, 1, 1, 1, 1, 1, 1, 1, 1, 1, 1, 1, 1, 1, 1, 1, 1, 1, 1, 1, 1, 1, 1, 1, 1, 1, 1, 1, 1, 1, 1, 1, 1, 1, 1, 1, 1, 1, 1, 1, 1, 1, 1, 1, 1, 1, 1, 1, 1, 1, 1, 1, 1, 1, 1, 1, 1, 1, 1, 1, 1, 1, 0, 0, 0, 0, 0, 0, 0, 0, 1, 1, 0, 0, 0, 0, 0, 0, 0, 1, 0, 0, 0, 0, 0, 0, 0, 0, 0, 1, 1, 1, 1, 1, 1, 1, 1, 1, 1, 1, 1, 1, 1, 1, 1, 1, 1, 1, 1, 1, 1, 1, 1, 1, 1, 1, 1, 1, 1, 1, 0, 1, 0, 1, 1, 1, 1, 1, 1, 1, 1, 1, 1, 1, 1, 1, 1, 1, 1, 1, 1, 1, 1, 1, 1, 1, 1, 1, 1, 1, 1, 0, 0, 0, 0, 0, 0, 0, 0, 0, 0, 1, 0, 0, 0, 0, 0, 0, 0, 0, 0, 0, 0, 0, 0, 0, 0, 0, 0, 0, 0, 0, 0, 1, 1, 0, 0, 0, 0, 0, 0, 0, 0, 0, 0, 0, 0, 0, 0, 0, 0, 0, 0, 0, 0, 0, 0, 0, 0, 0, 0, 0, 0, 0, 0, 1, 0, 0, 1, 1, 1, 1, 1, 1, 1, 1, 1, 1, 1, 1, 1, 1, 1, 1, 1, 1, 1, 1, 1, 1, 1, 1, 0, 0, 0, 0, 1, 1, 1, 1, 1, 1, 1, 1, 1, 1, 1, 1, 1, 1, 1, 1, 1, 1, 1, 1, 1, 1, 1, 1, 1, 1, 1, 1, 1, 1, 1, 1, 1, 1, 1, 1, 1, 1, 1, 1, 1, 1, 1, 1, 1, 1, 1, 1, 1, 1, 1, 1, 1, 1, 1, 1, 1, 1, 1, 1, 1, 1, 1, 1, 1, 1, 1, 1, 1, 1, 1, 1, 1, 1, 1, 1, 1, 1, 1, 1, 1, 1, 1, 1, 1, 1, 1, 1, 1, 1, 1, 1, 1, 1, 1, 1, 1, 1, 1, 1, 1, 1, 1, 1, 1, 1, 1, 1, 1, 1, 1, 1, 1, 1, 1, 1, 1, 1, 1, 1, 1, 1, 1, 1, 1, 1, 1, 1, 1, 1, 1, 1, 1, 1, 1, 1, 1, 1, 1, 1, 1, 1, 1, 1, 1, 1, 1, 1, 1, 1, 1, 1, 1, 1, 1, 1, 1, 1, 1, 1, 1, 1, 1, 1, 1, 1, 1, 1, 1, 1, 1, 1, 1, 1, 1, 1, 1, 1, 1, 1, 1, 1, 1, 1, 1, 1, 1, 1, 1, 1, 1, 1, 1, 1, 1, 1, 1, 1, 1, 1, 1, 1, 1, 1, 1, 1, 1, 1, 1, 1, 1, 1, 1, 1, 1, 1, 1, 1, 0, 0, 0, 0, 0, 0, 0, 0, 0, 0, 0, 0, 0, 0, 0, 0, 0, 0, 0, 0, 0, 0, 0, 0, 0, 0, 0, 0, 0, 0, 0, 0, 0, 0, 0, 0, 0, 0, 0, 0, 0, 0, 0, 0, 0, 0, 0, 0, 0, 0, 0, 0, 0, 0, 0, 0, 0, 0, 0, 0, 0, 0, 0, 0, 0, 0, 0, 0, 0, 0, 0, 0, 0, 0, 0, 0, 0, 0, 0, 0, 0, 0, 0, 0, 0, 0, 0, 0, 0, 0, 0, 0, 0, 0, 0, 0, 0, 0, 0, 0, 0, 0, 0, 0, 0, 0, 0, 0, 0, 0, 0, 0, 0, 0, 0, 0, 0, 0, 0, 0, 0, 0, 0, 0, 0, 0, 0, 0, 0, 0, 0, 0, 0, 0, 0, 0, 0, 0, 0, 0, 0, 0, 0, 0, 0, 0, 0, 0, 0, 0, 0, 0, 0, 0, 0, 0, 0, 0, 0, 0, 0, 0, 0, 0, 0, 0, 0, 0, 0, 0, 0, 0, 0, 0, 0, 0, 0, 0, 0, 0, 0, 0, 0, 0, 0, 0, 0, 0, 0, 0, 0, 0, 0, 0, 0, 0, 0, 0, 0, 0, 0, 0, 0, 0, 0, 0, 0, 0, 0, 0, 0, 0, 0, 0, 0, 0, 0, 0, 0, 0, 0, 0, 0, 0, 0, 0, 0, 0, 0, 0, 0, 0, 0, 0, 0, 0, 0, 0, 0, 0, 0, 0, 0, 0, 0, 0, 0, 0, 0, 0, 0, 0, 0, 0, 0, 0, 0, 0, 0, 0, 0, 0, 0, 0, 0, 0, 0, 0, 0, 0, 0, 0, 0, 0, 0, 0, 0, 0, 0, 0, 0, 0, 0, 0, 0, 0, 0, 0, 0, 0, 0, 0, 0, 0, 0, 0, 0, 0, 0, 0, 0, 0, 0, 0, 0, 0, 0, 0, 0, 0, 0, 0, 0, 0, 0, 0, 0, 0, 0, 0, 0, 0, 0, 0, 0, 0, 0, 0, 0, 0, 0, 0, 0, 0, 0, 0, 0, 0, 0, 0, 0, 0, 0, 0, 0, 0, 0, 0, 0, 0, 0, 0, 0, 0, 0, 0, 0, 0, 0, 0, 0, 0, 0, 0, 0, 0, 0, 0, 0, 0, 0, 0, 0, 0, 0, 0, 0, 0, 0, 0, 0, 0, 0, 0, 0, 0, 0, 0, 0, 0, 0, 0, 0, 0, 0, 0, 0, 0, 0, 0, 0, 0, 0, 0, 0, 0, 0, 0, 0, 0, 0, 0, 0, 0, 0, 0, 0, 0, 0, 0, 0, 0, 0, 0, 0, 0, 0, 0, 0, 0, 0, 0, 0, 0, 0, 0, 0, 0, 0, 0, 0, 0, 0, 0, 0, 0, 0, 0, 0, 0, 0, 0, 0, 0, 0, 0, 0, 0, 0, 0, 0, 0, 0, 0, 0, 0, 0, 0, 0, 0, 0, 0, 0, 0, 0, 0, 0, 0, 0, 0, 0, 0, 0, 0, 0, 0, 0, 0, 0, 0, 0, 0, 0, 0, 0, 0, 0, 0, 0, 0, 0, 0, 0, 0, 0, 0, 0, 0, 0, 0, 0, 0, 0, 0, 0, 0, 0, 0, 0, 0, 0, 0, 0, 0, 0, 0, 0, 0, 0, 0, 0, 0, 0, 0, 0, 0, 0, 0, 0, 0, 0, 0, 0, 0, 0, 0, 0, 0, 0, 0, 0, 0, 0, 0, 0, 0, 0, 0, 0, 0, 0, 0, 0, 0, 0, 0, 0, 0, 0, 0, 0, 0, 0, 0, 0, 0, 0, 0, 0, 0, 0, 0, 0, 0, 0, 0, 0, 0, 0, 0, 0, 0, 0, 0, 0, 0, 0, 0, 0, 0, 0, 0, 0, 0, 0, 0, 0, 0, 0, 0, 0, 0, 0, 0, 0, 0, 0, 0, 0, 0, 0, 0, 0, 0, 0, 0, 0, 0, 0, 0, 0, 0, 0, 0, 0, 0, 0, 0, 0, 0, 0, 0, 0, 0, 0, 0, 0, 0, 0, 0, 0, 0, 0, 0, 0, 0, 0, 0, 0, 0, 0, 0, 0, 0, 0, 0, 0, 0, 0, 0, 0, 0, 0, 0, 0, 0, 0, 0, 0, 0, 0, 0, 0, 0, 0, 0, 0, 0, 0, 0, 0, 0, 0, 0, 0, 0, 0, 0, 0, 0, 0, 0, 0, 0, 0, 0, 0, 0, 0, 0, 0, 0, 0, 0, 0, 0, 0, 0, 0, 0, 0, 0, 0, 0, 0, 0, 0, 0, 0, 0, 0, 0, 0, 0, 0, 0, 0, 0, 0, 0, 0, 0, 0, 0, 0, 0, 0, 0, 0, 0, 0, 0, 0, 0, 0, 0, 0, 0, 0, 0, 0, 0, 0, 0, 0, 0, 0, 0, 0, 0, 0, 0, 0, 0, 0, 0, 0, 0, 0, 0, 0, 0, 0, 0, 0, 0, 0, 0, 0, 0, 0, 0, 0, 0, 0, 0, 0, 0, 0, 0, 0, 0, 0, 0, 0, 0, 1, 0, 1, 1, 1, 1, 1, 1, 1, 1, 1, 1, 1, 1, 1, 1, 1, 1, 1, 1, 1, 1, 1, 1, 1, 1, 1, 1, 1, 1, 1, 1, 1, 1, 1, 1, 1, 1, 1, 1, 1, 1, 1, 1, 1, 1, 1, 1, 1, 1, 1, 1, 1, 1, 1, 1, 1, 1, 1, 1, 1, 1, 1, 1, 1, 1, 1, 1, 1, 1, 1, 1, 1, 1, 1, 1, 1, 1, 1, 1, 1, 1, 1, 1, 1, 1, 1, 1, 1, 1, 1, 1, 1, 1, 0, 1, 1, 0, 0, 1, 1, 1, 1, 0, 0, 0, 0, 0, 0, 0, 0, 0, 0, 0, 0, 0, 0, 0, 0, 0, 1, 1, 1, 1, 0, 0, 0, 1, 1, 1, 1, 1, 1, 1, 1, 1, 1, 1, 1, 1, 1, 1, 1, 1, 1, 1, 1, 1, 1, 1, 1, 1, 1, 1, 1, 1, 1, 1, 1, 1, 1, 1, 1, 1, 1, 1, 1, 1, 1, 1, 1, 1, 1, 1, 1, 1, 1, 1, 1, 1, 1, 1, 1, 1, 1]\n",
            "[1, 1, 1, 1, 1, 1, 1, 1, 1, 1, 1, 1, 1, 1, 1, 1, 1, 1, 1, 1, 1, 1, 1, 1, 1, 1, 1, 1, 1, 1, 1, 1, 1, 1, 1, 1, 1, 1, 1, 1, 1, 1, 1, 1, 1, 1, 1, 1, 1, 1, 1, 1, 1, 1, 1, 1, 1, 1, 1, 1, 1, 1, 1, 1, 1, 1, 1, 1, 1, 1, 1, 1, 1, 1, 1, 1, 1, 1, 1, 1, 1, 1, 1, 1, 1, 1, 1, 1, 1, 1, 1, 1, 1, 1, 1, 1, 1, 1, 1, 1, 1, 1, 1, 1, 1, 1, 1, 1, 1, 1, 1, 1, 1, 1, 1, 1, 1, 1, 1, 1, 1, 1, 1, 1, 1, 1, 1, 1, 1, 1, 1, 1, 1, 1, 1, 1, 1, 1, 1, 1, 1, 1, 1, 1, 1, 1, 1, 1, 1, 1, 1, 1, 1, 1, 1, 1, 1, 1, 1, 1, 1, 1, 1, 1, 1, 1, 1, 1, 1, 1, 1, 1, 1, 1, 1, 1, 1, 1, 1, 1, 1, 1, 1, 1, 1, 1, 1, 1, 1, 1, 1, 1, 1, 1, 1, 0, 0, 0, 0, 0, 0, 0, 0, 0, 0, 0, 0, 0, 0, 0, 0, 0, 0, 0, 0, 0, 0, 0, 1, 1, 1, 1, 1, 1, 1, 1, 0, 0, 0, 0, 0, 0, 0, 0, 0, 0, 0, 0, 0, 0, 0, 0, 0, 0, 0, 0, 0, 0, 0, 0, 0, 0, 0, 0, 0, 0, 0, 0, 0, 0, 0, 0, 0, 0, 0, 0, 0, 0, 0, 0, 0, 0, 0, 0, 0, 0, 0, 0, 0, 0, 0, 0, 0, 0, 0, 0, 0, 0, 0, 0, 0, 0, 0, 0, 0, 0, 0, 0, 0, 0, 0, 0, 0, 0, 0, 0, 0, 0, 0, 0, 0, 0, 0, 0, 0, 0, 0, 0, 0, 0, 0, 0, 0, 0, 0, 0, 0, 0, 0, 0, 0, 0, 0, 0, 0, 0, 0, 0, 0, 0, 0, 0, 0, 0, 0, 0, 0, 0, 0, 0, 0, 0, 0, 0, 0, 0, 0, 0, 0, 0, 0, 0, 0, 0, 0, 0, 0, 0, 0, 0, 0, 0, 0, 0, 0, 0, 0, 0, 0, 0, 0, 0, 0, 0, 0, 0, 0, 0, 0, 0, 0, 0, 0, 0, 0, 0, 0, 0, 0, 0, 0, 0, 0, 0, 0, 0, 0, 0, 0, 0, 0, 0, 0, 0, 0, 0, 0, 0, 0, 0, 0, 0, 0, 0, 0, 0, 0, 0, 0, 0, 0, 0, 0, 0, 0, 0, 0, 0, 0, 0, 0, 0, 0, 0, 0, 0, 0, 0, 0, 0, 0, 0, 0, 0, 0, 0, 0, 0, 0, 0, 0, 0, 0, 0, 0, 0, 0, 0, 0, 0, 0, 0, 0, 0, 0, 0, 0, 0, 0, 0, 0, 0, 0, 0, 0, 0, 0, 0, 0, 0, 0, 0, 0, 0, 0, 0, 0, 0, 0, 0, 0, 0, 0, 0, 0, 0, 0, 0, 0, 0, 0, 0, 0, 0, 0, 0, 0, 0, 0, 0, 0, 0, 0, 0, 0, 0, 0, 0, 0, 0, 0, 0, 0, 0, 0, 0, 0, 0, 0, 0, 0, 0, 0, 0, 0, 0, 0, 0, 0, 0, 0, 0, 0, 0, 0, 0, 0, 0, 0, 0, 0, 0, 0, 0, 0, 0, 0, 0, 0, 0, 0, 0, 0, 0, 0, 0, 0, 0, 0, 0, 0, 0, 0, 0, 0, 0, 0, 0, 0, 0, 0, 0, 0, 0, 0, 0, 0, 0, 0, 0, 0, 0, 0, 0, 0, 0, 0, 0, 0, 0, 0, 0, 0, 0, 0, 0, 0, 0, 0, 0, 0, 0, 0, 0, 0, 0, 0, 0, 0, 0, 0, 0, 0, 0, 0, 0, 0, 0, 0, 0, 0, 0, 0, 0, 0, 0, 0, 0, 0, 0, 0, 0, 0, 0, 0, 0, 0, 0, 0, 0, 0, 0, 0, 0, 0, 0, 0, 0, 0, 0, 0, 0, 0, 0, 0, 0, 0, 0, 0, 0, 0, 0, 0, 0, 0, 0, 0, 0, 0, 0, 0, 0, 0, 0, 0, 0, 0, 0, 0, 0, 0, 0, 0, 0, 0, 0, 0, 0, 0, 0, 0, 0, 0, 0, 0, 0, 0, 0, 0, 0, 0, 0, 0, 0, 0, 0, 0, 0, 0, 0, 0, 0, 0, 0, 0, 0, 0, 0, 0, 0, 0, 0, 0, 0, 0, 0, 0, 0, 0, 0, 0, 0, 0, 0, 0, 0, 0, 0, 0, 0, 0, 0, 0, 0, 0, 0, 0, 0, 0, 0, 0, 0, 0, 0, 0, 0, 0, 0, 0, 0, 0, 0, 0, 0, 0, 0, 0, 0, 0, 0, 0, 0, 0, 0, 0, 0, 0, 0, 0, 0, 0, 0, 0, 0, 0, 0, 0, 0, 0, 0, 0, 0, 0, 0, 0, 0, 0, 0, 0, 0, 0, 0, 0, 0, 0, 0, 0, 0, 0, 0, 0, 0, 0, 0, 0, 0, 0, 0, 0, 0, 0, 0, 0, 0, 0, 0, 0, 0, 0, 0, 0, 0, 0, 0, 0, 0, 0, 0, 0, 0, 0, 0, 0, 0, 0, 0, 0, 0, 0, 0, 0, 0, 0, 0, 0, 0, 0, 0, 0, 0, 0, 0, 0, 0, 0, 0, 0, 0, 0, 0, 0, 0, 0, 0, 0, 0, 0, 0, 0, 0, 0, 0, 0, 0, 0, 0, 0, 0, 0, 0, 0, 0, 0, 0, 0, 0, 0, 0, 0, 0, 0, 0, 0, 0, 0, 0, 0, 0, 0, 0, 0, 0, 0, 0, 0, 0, 0, 0, 0, 0, 0, 0, 0, 0, 0, 0, 0, 0, 0, 0, 0, 0, 0, 0, 0, 0, 0, 0, 0, 0, 0, 0, 0, 0, 0, 0, 0, 0, 0, 0, 0, 0, 0, 0, 0, 0, 0, 0, 0, 0, 0, 0, 0, 0, 0, 0, 0, 0, 0, 0, 0, 0, 0, 0, 0, 0, 0, 0, 0, 0, 0, 0, 0, 0, 0, 0, 0, 0, 0, 0, 0, 0, 0, 0, 0, 0, 0, 0, 0, 0, 0, 0, 0, 0, 0, 0, 0, 0, 0, 0, 0, 0, 0, 0, 0, 0, 0, 1, 1, 1, 0, 0, 0, 0, 1, 1, 1, 1, 1, 1, 1, 1, 1, 1, 1, 1, 1, 1, 1, 1, 1, 1, 1, 1, 1, 1, 1, 1, 1, 1, 1, 1, 1, 1, 1, 1, 1, 1, 1, 1, 1, 1, 1, 1, 1, 1, 1, 1, 1, 1, 1, 1, 1, 1, 1, 1, 1, 1, 1, 1, 1, 1, 1, 1, 1, 1, 1, 1, 1, 1, 1, 1, 1, 1, 1, 1, 1, 1, 1, 1, 1, 1, 1, 1, 1, 1, 1, 1, 1, 1, 1, 0, 0, 1, 1, 1, 1, 1, 1, 1, 1, 1, 1, 1, 1, 1, 1, 1, 1, 1, 1, 1, 1, 1, 1, 1, 1, 1, 1, 1, 1, 1, 1, 1, 1, 1, 1, 1, 1, 1, 1, 1, 1, 1, 1, 1, 1, 1, 1, 1, 1, 1, 1, 1, 1, 1, 1, 1, 1, 1, 1, 1, 1, 1, 1, 1, 1, 1, 1, 1, 1, 1, 1, 1, 1, 1, 1, 1, 1, 1, 1, 1, 1, 1, 1, 1, 1, 1, 1, 1, 1, 1, 1, 1, 1, 1, 1, 1, 1, 1, 1, 1, 1, 1, 1, 1, 1, 1, 1, 1, 1, 1, 1, 1, 1, 1, 1, 1, 1, 1, 1, 1, 1, 1, 1, 1, 1, 1, 1, 1, 1, 1, 1, 1, 1, 1, 1, 1, 1, 1, 1, 1, 1, 1, 1, 1, 1, 1, 1, 1, 1, 1, 1, 1, 1, 1, 1, 1, 1, 0, 1, 1, 1, 1, 1, 1, 1, 1, 1, 1, 1, 1, 1, 1, 1, 1, 1, 1, 1, 1, 1, 1, 1, 1, 1, 1, 1, 1, 1, 1, 0, 0, 0, 1, 1, 1, 1, 1, 1, 1, 1, 1, 1, 1, 1, 1, 1, 1, 1, 1, 1, 1, 1, 1, 1, 1, 1, 1, 1, 1, 1, 1, 1, 1, 1, 1, 1, 1, 1, 1, 1, 1, 1, 1, 1, 1, 1, 1, 1, 1, 1, 0, 0, 0, 0, 0, 0, 0, 0, 0, 0, 0, 0, 0, 0, 0, 0, 0, 0, 0, 0, 0, 0, 0, 1, 0, 0, 0, 0, 0, 1, 1, 1, 1, 1, 1, 1, 1, 1, 1, 1, 1, 1, 1, 1, 1, 1, 1, 1, 1, 1, 1, 1, 1, 1, 1, 1, 1, 1, 1, 1, 1, 1, 1, 1, 1, 1, 1, 1, 1, 1, 1, 1, 1, 1, 1, 1, 1, 1, 1, 1, 1, 1, 1, 1, 1, 1, 1, 1, 1, 1, 1, 1, 1, 1, 1, 1, 1, 1, 1, 1, 1, 1, 1, 1, 1, 1, 1, 1, 1, 1, 1, 1, 1, 1, 1, 1, 1, 1, 1, 1, 1, 1, 1, 1, 1, 1, 1, 1, 1, 1, 1, 1, 1, 1, 1, 1, 1, 1, 1, 1, 1, 1, 1, 1, 1, 1, 1, 1, 1, 1, 1, 1, 1, 1, 1, 1, 1, 1, 1, 1, 1, 1, 1, 1, 1, 1, 1, 1, 1, 1, 1, 1, 1, 1, 1, 1, 1, 1, 1, 1, 1, 1, 1, 1, 1, 1, 1, 1, 1, 1, 1, 1, 1, 1, 1, 1, 1, 1, 1, 1, 1, 1, 1, 1, 1, 1, 1, 1, 1, 1, 1, 1, 1, 1, 1, 1, 1, 1, 1, 1, 1, 1, 1, 1, 1, 1, 1, 1, 1, 1, 1, 1, 1, 1, 1, 1, 1, 1, 1, 1, 1, 1, 1, 1, 1, 1, 1, 1, 1, 1, 1, 1, 1, 1, 1, 1, 1, 1, 1, 1, 1, 1, 1, 1, 1, 1, 1, 1, 1, 1, 1, 1, 1, 1, 1, 1, 1, 1, 1, 1, 1, 1, 1, 1, 1, 1, 1, 1, 1, 1, 1, 1, 1, 1, 1, 1, 1, 1, 1, 1, 1, 1, 1, 0, 0, 0, 0, 0, 0, 0, 0, 0, 0, 0, 0, 0, 0, 0, 0, 0, 0, 0, 0, 0, 0, 0, 0, 0, 0, 0, 0, 0, 0, 0, 0, 0, 0, 0, 0, 0, 0, 0, 0, 0, 0, 0, 0, 0, 0, 0, 0, 0, 0, 0, 0, 0, 0, 0, 0, 0, 0, 0, 0, 0, 0, 0, 0, 0, 0, 0, 0, 0, 0, 0, 0, 0, 0, 0, 0, 0, 0, 0, 0, 0, 0, 0, 0, 0, 0, 0, 0, 0, 0, 0, 0, 0, 0, 0, 0, 0, 0, 0, 0, 0, 0, 0, 0, 0, 0, 0, 0, 0, 0, 0, 0, 0, 0, 0, 0, 0, 0, 0, 0, 0, 0, 0, 0, 0, 0, 0, 0, 0, 0, 0, 0, 0, 0, 0, 0, 0, 0, 0, 0, 0, 0, 0, 0, 0, 0, 0, 0, 0, 0, 0, 0, 0, 0, 0, 0, 0, 0, 0, 0, 0, 0, 0, 0, 0, 0, 0, 0, 0, 0, 0, 0, 0, 0, 0, 0, 0, 0, 0, 0, 0, 0, 0, 0, 0, 0, 0, 0, 0, 0, 0, 0, 0, 0, 0, 0, 0, 0, 0, 0, 0, 0, 0, 0, 0, 0, 0, 0, 0, 0, 0, 0, 0, 0, 0, 0, 0, 0, 0, 0, 0, 0, 0, 0, 0, 0, 0, 0, 0, 0, 0, 0, 0, 0, 0, 0, 0, 0, 0, 0, 0, 0, 0, 0, 0, 0, 0, 0, 0, 0, 0, 0, 0, 0, 0, 0, 0, 0, 0, 0, 0, 0, 0, 0, 0, 0, 0, 0, 0, 0, 0, 0, 0, 0, 0, 0, 0, 0, 0, 0, 0, 0, 0, 0, 0, 0, 0, 0, 0, 0, 0, 0, 0, 0, 0, 0, 0, 0, 0, 0, 0, 0, 0, 0, 0, 0, 0, 0, 0, 0, 0, 0, 0, 0, 0, 0, 0, 0, 0, 0, 0, 0, 0, 0, 0, 0, 0, 0, 0, 0, 0, 0, 0, 0, 0, 0, 0, 0, 0, 0, 0, 0, 0, 0, 0, 0, 0, 0, 0, 0, 0, 0, 0, 0, 0, 0, 0, 0, 0, 0, 0, 0, 0, 0, 0, 0, 0, 0, 0, 0, 0, 0, 0, 0, 0, 0, 0, 0, 0, 0, 0, 0, 0, 0, 0, 0, 0, 0, 0, 0, 0, 0, 0, 0, 0, 0, 0, 0, 0, 0, 0, 0, 0, 0, 0, 0, 0, 0, 0, 0, 0, 0, 0, 0, 0, 0, 0, 0, 0, 0, 0, 0, 0, 0, 0, 0, 0, 0, 0, 0, 0, 0, 0, 0, 0, 0, 0, 0, 0, 0, 0, 0, 0, 0, 0, 0, 0, 0, 0, 0, 0, 0, 0, 0, 0, 0, 0, 0, 0, 0, 0, 0, 0, 0, 0, 0, 0, 0, 0, 0, 0, 0, 0, 0, 0, 0, 0, 0, 0, 0, 0, 0, 0, 0, 0, 0, 0, 0, 0, 0, 0, 0, 0, 0, 0, 0, 0, 0, 0, 0, 0, 0, 0, 0, 0, 0, 0, 0, 0, 0, 0, 0, 0, 0, 0, 0, 0, 0, 0, 0, 0, 0, 0, 0, 0, 0, 0, 0, 0, 0, 0, 0, 0, 0, 0, 0, 0, 0, 0, 0, 0, 0, 0, 0, 0, 0, 0, 0, 0, 0, 0, 0, 0, 0, 0, 0, 0, 0, 0, 0, 0, 0, 0, 0, 0, 0, 0, 0, 0, 0, 0, 0, 0, 0, 0, 0, 0, 0, 0, 0, 0, 0, 0, 0, 0, 0, 0, 0, 0, 0, 0, 0, 0, 0, 0, 0, 0, 0, 0, 0, 0, 0, 0, 0, 0, 0, 0, 0, 0, 0, 0, 0, 0, 0, 0, 0, 0, 0, 0, 0, 0, 0, 0, 0, 0, 0, 0, 0, 0, 0, 0, 0, 0, 0, 0, 0, 0, 0, 0, 0, 0, 0, 0, 0, 0, 0, 0, 0, 0, 0, 0, 0, 0, 0, 0, 0, 0, 0, 0, 0, 0, 0, 0, 0, 0, 0, 0, 0, 0, 0, 0, 0, 0, 0, 0, 0, 0, 0, 0, 0, 0, 0, 0, 0, 0, 0, 0, 0, 0, 0, 0, 0, 0, 0, 0, 0, 0, 0, 0, 0, 0, 0, 0, 0, 0, 0, 0, 0, 0, 0, 0, 0, 0, 0, 0, 0, 0, 0, 0, 0, 0, 0, 0, 0, 0, 0, 0, 0, 0, 0, 0, 0, 0, 0, 0, 0, 0, 0, 0, 0, 0, 0, 0, 0, 0, 0, 0, 0, 0, 0, 0, 0, 0, 0, 0, 0, 0, 0, 0, 0, 0, 0, 0, 0, 0, 0, 0, 0, 0, 0, 0, 0, 0, 0, 0, 0, 0, 0, 0, 0, 0, 0, 0, 0, 0, 0, 0, 0, 0, 0, 0, 0, 0, 0, 0, 0, 0, 0, 0, 0, 0, 0, 0, 0, 0, 1, 1, 1, 1, 1, 1, 1, 1, 1, 1, 0, 0, 0, 0, 0, 1, 1, 1, 1, 1, 1, 1, 1, 1, 1, 1, 1, 1, 1, 1, 1, 1, 1, 1, 1, 1, 1, 1, 1, 1, 1, 1, 1, 1, 1, 1, 1, 1, 1, 1, 1, 1, 1, 1, 1, 0, 0, 0, 0, 0, 0, 0, 1, 1, 1, 1, 1, 1, 1, 1, 1, 1, 1, 1, 1, 1, 1, 1, 1, 0, 0, 1, 1, 1, 1, 1, 1, 1, 1, 1, 1, 1, 1, 1, 1, 1, 1, 1, 1, 1, 1, 1, 1, 1, 1, 1, 1, 1, 1, 1, 0, 0, 1, 1, 1, 1, 1, 1, 1, 1, 1, 1, 1, 1, 1, 1, 1, 1, 1, 1, 1, 1, 1, 1, 1, 1, 1, 1, 1, 1, 1, 1, 1, 1, 1, 1, 1, 1, 1, 1, 1, 1, 1, 1, 1, 1, 1, 1, 1, 1, 1, 1, 1, 1, 1, 1, 1, 1, 1, 1, 1, 1, 1, 1, 1, 1, 1, 1, 1, 1, 1, 1, 1, 1, 1, 1]\n"
          ]
        },
        {
          "output_type": "execute_result",
          "data": {
            "text/plain": [
              "      valor_verdadero  valor_estimado resultado\n",
              "0                   1               1    acerto\n",
              "1                   1               1    acerto\n",
              "2                   1               1    acerto\n",
              "3                   1               1    acerto\n",
              "4                   1               1    acerto\n",
              "...               ...             ...       ...\n",
              "2660                1               1    acerto\n",
              "2661                1               1    acerto\n",
              "2662                1               1    acerto\n",
              "2663                1               1    acerto\n",
              "2664                1               1    acerto\n",
              "\n",
              "[2665 rows x 3 columns]"
            ],
            "text/html": [
              "\n",
              "  <div id=\"df-dfef0558-9e70-4f87-abd3-4797b039e5cf\">\n",
              "    <div class=\"colab-df-container\">\n",
              "      <div>\n",
              "<style scoped>\n",
              "    .dataframe tbody tr th:only-of-type {\n",
              "        vertical-align: middle;\n",
              "    }\n",
              "\n",
              "    .dataframe tbody tr th {\n",
              "        vertical-align: top;\n",
              "    }\n",
              "\n",
              "    .dataframe thead th {\n",
              "        text-align: right;\n",
              "    }\n",
              "</style>\n",
              "<table border=\"1\" class=\"dataframe\">\n",
              "  <thead>\n",
              "    <tr style=\"text-align: right;\">\n",
              "      <th></th>\n",
              "      <th>valor_verdadero</th>\n",
              "      <th>valor_estimado</th>\n",
              "      <th>resultado</th>\n",
              "    </tr>\n",
              "  </thead>\n",
              "  <tbody>\n",
              "    <tr>\n",
              "      <th>0</th>\n",
              "      <td>1</td>\n",
              "      <td>1</td>\n",
              "      <td>acerto</td>\n",
              "    </tr>\n",
              "    <tr>\n",
              "      <th>1</th>\n",
              "      <td>1</td>\n",
              "      <td>1</td>\n",
              "      <td>acerto</td>\n",
              "    </tr>\n",
              "    <tr>\n",
              "      <th>2</th>\n",
              "      <td>1</td>\n",
              "      <td>1</td>\n",
              "      <td>acerto</td>\n",
              "    </tr>\n",
              "    <tr>\n",
              "      <th>3</th>\n",
              "      <td>1</td>\n",
              "      <td>1</td>\n",
              "      <td>acerto</td>\n",
              "    </tr>\n",
              "    <tr>\n",
              "      <th>4</th>\n",
              "      <td>1</td>\n",
              "      <td>1</td>\n",
              "      <td>acerto</td>\n",
              "    </tr>\n",
              "    <tr>\n",
              "      <th>...</th>\n",
              "      <td>...</td>\n",
              "      <td>...</td>\n",
              "      <td>...</td>\n",
              "    </tr>\n",
              "    <tr>\n",
              "      <th>2660</th>\n",
              "      <td>1</td>\n",
              "      <td>1</td>\n",
              "      <td>acerto</td>\n",
              "    </tr>\n",
              "    <tr>\n",
              "      <th>2661</th>\n",
              "      <td>1</td>\n",
              "      <td>1</td>\n",
              "      <td>acerto</td>\n",
              "    </tr>\n",
              "    <tr>\n",
              "      <th>2662</th>\n",
              "      <td>1</td>\n",
              "      <td>1</td>\n",
              "      <td>acerto</td>\n",
              "    </tr>\n",
              "    <tr>\n",
              "      <th>2663</th>\n",
              "      <td>1</td>\n",
              "      <td>1</td>\n",
              "      <td>acerto</td>\n",
              "    </tr>\n",
              "    <tr>\n",
              "      <th>2664</th>\n",
              "      <td>1</td>\n",
              "      <td>1</td>\n",
              "      <td>acerto</td>\n",
              "    </tr>\n",
              "  </tbody>\n",
              "</table>\n",
              "<p>2665 rows × 3 columns</p>\n",
              "</div>\n",
              "      <button class=\"colab-df-convert\" onclick=\"convertToInteractive('df-dfef0558-9e70-4f87-abd3-4797b039e5cf')\"\n",
              "              title=\"Convert this dataframe to an interactive table.\"\n",
              "              style=\"display:none;\">\n",
              "        \n",
              "  <svg xmlns=\"http://www.w3.org/2000/svg\" height=\"24px\"viewBox=\"0 0 24 24\"\n",
              "       width=\"24px\">\n",
              "    <path d=\"M0 0h24v24H0V0z\" fill=\"none\"/>\n",
              "    <path d=\"M18.56 5.44l.94 2.06.94-2.06 2.06-.94-2.06-.94-.94-2.06-.94 2.06-2.06.94zm-11 1L8.5 8.5l.94-2.06 2.06-.94-2.06-.94L8.5 2.5l-.94 2.06-2.06.94zm10 10l.94 2.06.94-2.06 2.06-.94-2.06-.94-.94-2.06-.94 2.06-2.06.94z\"/><path d=\"M17.41 7.96l-1.37-1.37c-.4-.4-.92-.59-1.43-.59-.52 0-1.04.2-1.43.59L10.3 9.45l-7.72 7.72c-.78.78-.78 2.05 0 2.83L4 21.41c.39.39.9.59 1.41.59.51 0 1.02-.2 1.41-.59l7.78-7.78 2.81-2.81c.8-.78.8-2.07 0-2.86zM5.41 20L4 18.59l7.72-7.72 1.47 1.35L5.41 20z\"/>\n",
              "  </svg>\n",
              "      </button>\n",
              "      \n",
              "  <style>\n",
              "    .colab-df-container {\n",
              "      display:flex;\n",
              "      flex-wrap:wrap;\n",
              "      gap: 12px;\n",
              "    }\n",
              "\n",
              "    .colab-df-convert {\n",
              "      background-color: #E8F0FE;\n",
              "      border: none;\n",
              "      border-radius: 50%;\n",
              "      cursor: pointer;\n",
              "      display: none;\n",
              "      fill: #1967D2;\n",
              "      height: 32px;\n",
              "      padding: 0 0 0 0;\n",
              "      width: 32px;\n",
              "    }\n",
              "\n",
              "    .colab-df-convert:hover {\n",
              "      background-color: #E2EBFA;\n",
              "      box-shadow: 0px 1px 2px rgba(60, 64, 67, 0.3), 0px 1px 3px 1px rgba(60, 64, 67, 0.15);\n",
              "      fill: #174EA6;\n",
              "    }\n",
              "\n",
              "    [theme=dark] .colab-df-convert {\n",
              "      background-color: #3B4455;\n",
              "      fill: #D2E3FC;\n",
              "    }\n",
              "\n",
              "    [theme=dark] .colab-df-convert:hover {\n",
              "      background-color: #434B5C;\n",
              "      box-shadow: 0px 1px 3px 1px rgba(0, 0, 0, 0.15);\n",
              "      filter: drop-shadow(0px 1px 2px rgba(0, 0, 0, 0.3));\n",
              "      fill: #FFFFFF;\n",
              "    }\n",
              "  </style>\n",
              "\n",
              "      <script>\n",
              "        const buttonEl =\n",
              "          document.querySelector('#df-dfef0558-9e70-4f87-abd3-4797b039e5cf button.colab-df-convert');\n",
              "        buttonEl.style.display =\n",
              "          google.colab.kernel.accessAllowed ? 'block' : 'none';\n",
              "\n",
              "        async function convertToInteractive(key) {\n",
              "          const element = document.querySelector('#df-dfef0558-9e70-4f87-abd3-4797b039e5cf');\n",
              "          const dataTable =\n",
              "            await google.colab.kernel.invokeFunction('convertToInteractive',\n",
              "                                                     [key], {});\n",
              "          if (!dataTable) return;\n",
              "\n",
              "          const docLinkHtml = 'Like what you see? Visit the ' +\n",
              "            '<a target=\"_blank\" href=https://colab.research.google.com/notebooks/data_table.ipynb>data table notebook</a>'\n",
              "            + ' to learn more about interactive tables.';\n",
              "          element.innerHTML = '';\n",
              "          dataTable['output_type'] = 'display_data';\n",
              "          await google.colab.output.renderOutput(dataTable, element);\n",
              "          const docLink = document.createElement('div');\n",
              "          docLink.innerHTML = docLinkHtml;\n",
              "          element.appendChild(docLink);\n",
              "        }\n",
              "      </script>\n",
              "    </div>\n",
              "  </div>\n",
              "  "
            ]
          },
          "metadata": {},
          "execution_count": 102
        }
      ]
    },
    {
      "cell_type": "code",
      "source": [
        "metricas_cal(testeo)"
      ],
      "metadata": {
        "colab": {
          "base_uri": "https://localhost:8080/"
        },
        "id": "ulxGdiKZJpEO",
        "outputId": "d906e90c-1327-4de9-e1a0-cd5deca18cf5"
      },
      "execution_count": 103,
      "outputs": [
        {
          "output_type": "stream",
          "name": "stdout",
          "text": [
            "la exactitud del spv es de: 94.559%\n",
            "los valores verdaderos negativos son 61.764% de la población de testeo \n",
            "los valores falsos negativos son 3.677% de la población de testeo \n",
            "los valores falsos positivos son 1.764% de la población de testeo \n",
            "los valores verdaderos positivos son 32.795% de la población de testeo \n"
          ]
        }
      ]
    },
    {
      "cell_type": "markdown",
      "source": [
        "**ARBOL DE DECISIÓN**"
      ],
      "metadata": {
        "id": "OGEjPgZNKfyW"
      }
    },
    {
      "cell_type": "code",
      "source": [
        "a_t1x = a[[\"Temperature\",\t\"Humidity\",\t\"Light\",\t\"CO2\",\t\"HumidityRatio\", \"day\",\t\"hour\",\t\"minuto\"]]\n",
        "a_t1y = a[[\"Occupancy\"]]\n",
        "filtro1 = a_test1y[\"Occupancy\"]==0\n",
        "a_test1y.loc[filtro1, \"Occupancy\"] ='No ocupación'\n",
        "filtro1 = a_test1y[\"Occupancy\"]==1\n",
        "a_test1y.loc[filtro1, \"Occupancy\"] ='Sí ocupación'\n",
        "Xtest = a_test11.to_numpy()\n",
        "ytest = a_test1y.to_numpy()\n",
        "clf = tree.DecisionTreeClassifier()\n",
        "clf = clf.fit(Xtest, ytest)\n",
        "ypredict = clf.predict(Xtest)\n",
        "\n",
        "tree.plot_tree(clf)"
      ],
      "metadata": {
        "colab": {
          "base_uri": "https://localhost:8080/",
          "height": 1000
        },
        "id": "ZQlHx3-zKyd9",
        "outputId": "85120169-d19b-4520-d28c-7da833fcf4d7"
      },
      "execution_count": 106,
      "outputs": [
        {
          "output_type": "stream",
          "name": "stderr",
          "text": [
            "<ipython-input-106-1426c82f4b0c>:4: SettingWithCopyWarning: \n",
            "A value is trying to be set on a copy of a slice from a DataFrame\n",
            "\n",
            "See the caveats in the documentation: https://pandas.pydata.org/pandas-docs/stable/user_guide/indexing.html#returning-a-view-versus-a-copy\n",
            "  a_test1y.loc[filtro1, \"Occupancy\"] ='No ocupación'\n",
            "<ipython-input-106-1426c82f4b0c>:6: SettingWithCopyWarning: \n",
            "A value is trying to be set on a copy of a slice from a DataFrame\n",
            "\n",
            "See the caveats in the documentation: https://pandas.pydata.org/pandas-docs/stable/user_guide/indexing.html#returning-a-view-versus-a-copy\n",
            "  a_test1y.loc[filtro1, \"Occupancy\"] ='Sí ocupación'\n"
          ]
        },
        {
          "output_type": "execute_result",
          "data": {
            "text/plain": [
              "[Text(0.3968253968253968, 0.9615384615384616, 'x[2] <= 207.183\\ngini = 0.463\\nsamples = 2665\\nvalue = [1693, 972]'),\n",
              " Text(0.36507936507936506, 0.8846153846153846, 'gini = 0.0\\nsamples = 1637\\nvalue = [1637, 0]'),\n",
              " Text(0.42857142857142855, 0.8846153846153846, 'x[2] <= 428.667\\ngini = 0.103\\nsamples = 1028\\nvalue = [56, 972]'),\n",
              " Text(0.1746031746031746, 0.8076923076923077, 'x[5] <= 2.5\\ngini = 0.341\\nsamples = 156\\nvalue = [34, 122]'),\n",
              " Text(0.06349206349206349, 0.7307692307692307, 'x[7] <= 32.5\\ngini = 0.478\\nsamples = 38\\nvalue = [23, 15]'),\n",
              " Text(0.031746031746031744, 0.6538461538461539, 'gini = 0.0\\nsamples = 11\\nvalue = [0, 11]'),\n",
              " Text(0.09523809523809523, 0.6538461538461539, 'x[7] <= 56.0\\ngini = 0.252\\nsamples = 27\\nvalue = [23, 4]'),\n",
              " Text(0.06349206349206349, 0.5769230769230769, 'gini = 0.0\\nsamples = 23\\nvalue = [23, 0]'),\n",
              " Text(0.12698412698412698, 0.5769230769230769, 'gini = 0.0\\nsamples = 4\\nvalue = [0, 4]'),\n",
              " Text(0.2857142857142857, 0.7307692307692307, 'x[3] <= 470.6\\ngini = 0.169\\nsamples = 118\\nvalue = [11, 107]'),\n",
              " Text(0.2222222222222222, 0.6538461538461539, 'x[7] <= 37.5\\ngini = 0.444\\nsamples = 6\\nvalue = [4, 2]'),\n",
              " Text(0.19047619047619047, 0.5769230769230769, 'gini = 0.0\\nsamples = 2\\nvalue = [0, 2]'),\n",
              " Text(0.25396825396825395, 0.5769230769230769, 'gini = 0.0\\nsamples = 4\\nvalue = [4, 0]'),\n",
              " Text(0.3492063492063492, 0.6538461538461539, 'x[0] <= 22.943\\ngini = 0.117\\nsamples = 112\\nvalue = [7, 105]'),\n",
              " Text(0.31746031746031744, 0.5769230769230769, 'x[3] <= 529.667\\ngini = 0.087\\nsamples = 110\\nvalue = [5, 105]'),\n",
              " Text(0.2857142857142857, 0.5, 'x[4] <= 0.004\\ngini = 0.302\\nsamples = 27\\nvalue = [5, 22]'),\n",
              " Text(0.25396825396825395, 0.4230769230769231, 'gini = 0.0\\nsamples = 22\\nvalue = [0, 22]'),\n",
              " Text(0.31746031746031744, 0.4230769230769231, 'gini = 0.0\\nsamples = 5\\nvalue = [5, 0]'),\n",
              " Text(0.3492063492063492, 0.5, 'gini = 0.0\\nsamples = 83\\nvalue = [0, 83]'),\n",
              " Text(0.38095238095238093, 0.5769230769230769, 'gini = 0.0\\nsamples = 2\\nvalue = [2, 0]'),\n",
              " Text(0.6825396825396826, 0.8076923076923077, 'x[4] <= 0.004\\ngini = 0.049\\nsamples = 872\\nvalue = [22, 850]'),\n",
              " Text(0.5396825396825397, 0.7307692307692307, 'x[1] <= 25.283\\ngini = 0.205\\nsamples = 95\\nvalue = [11, 84]'),\n",
              " Text(0.47619047619047616, 0.6538461538461539, 'x[3] <= 745.25\\ngini = 0.053\\nsamples = 73\\nvalue = [2, 71]'),\n",
              " Text(0.4444444444444444, 0.5769230769230769, 'gini = 0.0\\nsamples = 62\\nvalue = [0, 62]'),\n",
              " Text(0.5079365079365079, 0.5769230769230769, 'x[1] <= 24.874\\ngini = 0.298\\nsamples = 11\\nvalue = [2, 9]'),\n",
              " Text(0.47619047619047616, 0.5, 'gini = 0.0\\nsamples = 2\\nvalue = [2, 0]'),\n",
              " Text(0.5396825396825397, 0.5, 'gini = 0.0\\nsamples = 9\\nvalue = [0, 9]'),\n",
              " Text(0.6031746031746031, 0.6538461538461539, 'x[7] <= 31.5\\ngini = 0.483\\nsamples = 22\\nvalue = [9, 13]'),\n",
              " Text(0.5714285714285714, 0.5769230769230769, 'gini = 0.0\\nsamples = 13\\nvalue = [0, 13]'),\n",
              " Text(0.6349206349206349, 0.5769230769230769, 'gini = 0.0\\nsamples = 9\\nvalue = [9, 0]'),\n",
              " Text(0.8253968253968254, 0.7307692307692307, 'x[2] <= 557.167\\ngini = 0.028\\nsamples = 777\\nvalue = [11, 766]'),\n",
              " Text(0.7301587301587301, 0.6538461538461539, 'x[2] <= 535.357\\ngini = 0.003\\nsamples = 582\\nvalue = [1, 581]'),\n",
              " Text(0.6984126984126984, 0.5769230769230769, 'gini = 0.0\\nsamples = 517\\nvalue = [0, 517]'),\n",
              " Text(0.7619047619047619, 0.5769230769230769, 'x[2] <= 536.024\\ngini = 0.03\\nsamples = 65\\nvalue = [1, 64]'),\n",
              " Text(0.7301587301587301, 0.5, 'gini = 0.0\\nsamples = 1\\nvalue = [1, 0]'),\n",
              " Text(0.7936507936507936, 0.5, 'gini = 0.0\\nsamples = 64\\nvalue = [0, 64]'),\n",
              " Text(0.9206349206349206, 0.6538461538461539, 'x[2] <= 639.667\\ngini = 0.097\\nsamples = 195\\nvalue = [10, 185]'),\n",
              " Text(0.8888888888888888, 0.5769230769230769, 'x[2] <= 633.25\\ngini = 0.206\\nsamples = 86\\nvalue = [10, 76]'),\n",
              " Text(0.8571428571428571, 0.5, 'x[2] <= 626.633\\ngini = 0.172\\nsamples = 84\\nvalue = [8, 76]'),\n",
              " Text(0.7777777777777778, 0.4230769230769231, 'x[3] <= 945.25\\ngini = 0.14\\nsamples = 79\\nvalue = [6, 73]'),\n",
              " Text(0.7142857142857143, 0.34615384615384615, 'x[2] <= 557.983\\ngini = 0.04\\nsamples = 49\\nvalue = [1, 48]'),\n",
              " Text(0.6825396825396826, 0.2692307692307692, 'gini = 0.0\\nsamples = 1\\nvalue = [1, 0]'),\n",
              " Text(0.746031746031746, 0.2692307692307692, 'gini = 0.0\\nsamples = 48\\nvalue = [0, 48]'),\n",
              " Text(0.8412698412698413, 0.34615384615384615, 'x[7] <= 18.0\\ngini = 0.278\\nsamples = 30\\nvalue = [5, 25]'),\n",
              " Text(0.8095238095238095, 0.2692307692307692, 'gini = 0.0\\nsamples = 16\\nvalue = [0, 16]'),\n",
              " Text(0.873015873015873, 0.2692307692307692, 'x[7] <= 21.5\\ngini = 0.459\\nsamples = 14\\nvalue = [5, 9]'),\n",
              " Text(0.8412698412698413, 0.19230769230769232, 'gini = 0.0\\nsamples = 3\\nvalue = [3, 0]'),\n",
              " Text(0.9047619047619048, 0.19230769230769232, 'x[3] <= 993.292\\ngini = 0.298\\nsamples = 11\\nvalue = [2, 9]'),\n",
              " Text(0.873015873015873, 0.11538461538461539, 'x[1] <= 25.885\\ngini = 0.444\\nsamples = 3\\nvalue = [2, 1]'),\n",
              " Text(0.8412698412698413, 0.038461538461538464, 'gini = 0.0\\nsamples = 1\\nvalue = [0, 1]'),\n",
              " Text(0.9047619047619048, 0.038461538461538464, 'gini = 0.0\\nsamples = 2\\nvalue = [2, 0]'),\n",
              " Text(0.9365079365079365, 0.11538461538461539, 'gini = 0.0\\nsamples = 8\\nvalue = [0, 8]'),\n",
              " Text(0.9365079365079365, 0.4230769230769231, 'x[3] <= 932.1\\ngini = 0.48\\nsamples = 5\\nvalue = [2, 3]'),\n",
              " Text(0.9047619047619048, 0.34615384615384615, 'gini = 0.0\\nsamples = 2\\nvalue = [2, 0]'),\n",
              " Text(0.9682539682539683, 0.34615384615384615, 'gini = 0.0\\nsamples = 3\\nvalue = [0, 3]'),\n",
              " Text(0.9206349206349206, 0.5, 'gini = 0.0\\nsamples = 2\\nvalue = [2, 0]'),\n",
              " Text(0.9523809523809523, 0.5769230769230769, 'gini = 0.0\\nsamples = 109\\nvalue = [0, 109]')]"
            ]
          },
          "metadata": {},
          "execution_count": 106
        },
        {
          "output_type": "display_data",
          "data": {
            "text/plain": [
              "<Figure size 640x480 with 1 Axes>"
            ],
            "image/png": "[encoded data removed]"
          },
          "metadata": {}
        }
      ]
    },
    {
      "cell_type": "code",
      "source": [
        "a_test11 = a1[[\"Temperature\",\t\"Humidity\",\t\"Light\",\t\"CO2\",\t\"HumidityRatio\", \"day\",\t\"hour\",\t\"minuto\"]]\n",
        "a_test1y = a1[[\"Occupancy\"]]\n",
        "Xtest = a_test11.to_numpy()\n",
        "ytest = a_test1y.to_numpy()\n",
        "ypredict = clf.predict(Xtest)\n",
        "ypredict\n",
        "list_2 = ypredict.tolist()\n",
        "print(list_2)\n",
        "list_1 = a1[\"Occupancy\"].values.tolist()\n",
        "print(list_1)\n",
        "testeo = pd.DataFrame({'valor_verdadero':list_1, 'valor_estimado':list_2})\n",
        "testeo\n",
        "filtro1 = testeo['valor_verdadero']==0\n",
        "testeo.loc[filtro1, 'valor_verdadero'] ='No ocupación'\n",
        "filtro1 = testeo['valor_verdadero']==1\n",
        "testeo.loc[filtro1, 'valor_verdadero'] ='Sí ocupación'\n",
        "filtro2 = testeo['valor_verdadero'] == testeo['valor_estimado']\n",
        "filtro3 = testeo['valor_verdadero'] != testeo['valor_estimado']\n",
        "testeo.loc[filtro2, 'resultado'] = 'acerto'\n",
        "testeo.loc[filtro3, 'resultado'] = 'no acerto'\n",
        "filtro1 = testeo['valor_verdadero']=='No ocupación'\n",
        "testeo.loc[filtro1, 'valor_verdadero'] =0\n",
        "filtro1 = testeo['valor_verdadero']=='Sí ocupación'\n",
        "testeo.loc[filtro1, 'valor_verdadero'] =1\n",
        "#valor estimado\n",
        "filtro1 = testeo['valor_estimado']=='No ocupación'\n",
        "testeo.loc[filtro1, 'valor_estimado'] =0\n",
        "filtro1 = testeo['valor_estimado']=='Sí ocupación'\n",
        "testeo.loc[filtro1, 'valor_estimado'] =1\n",
        "testeo"
      ],
      "metadata": {
        "colab": {
          "base_uri": "https://localhost:8080/",
          "height": 480
        },
        "id": "Mm1x7S2hMOhp",
        "outputId": "213779b2-4725-4122-a1b8-cada01ccf514"
      },
      "execution_count": 108,
      "outputs": [
        {
          "output_type": "stream",
          "name": "stdout",
          "text": [
            "['Sí ocupación', 'Sí ocupación', 'Sí ocupación', 'Sí ocupación', 'Sí ocupación', 'Sí ocupación', 'Sí ocupación', 'Sí ocupación', 'Sí ocupación', 'Sí ocupación', 'Sí ocupación', 'Sí ocupación', 'Sí ocupación', 'Sí ocupación', 'Sí ocupación', 'Sí ocupación', 'Sí ocupación', 'Sí ocupación', 'Sí ocupación', 'Sí ocupación', 'Sí ocupación', 'Sí ocupación', 'Sí ocupación', 'Sí ocupación', 'Sí ocupación', 'Sí ocupación', 'Sí ocupación', 'Sí ocupación', 'Sí ocupación', 'Sí ocupación', 'Sí ocupación', 'Sí ocupación', 'Sí ocupación', 'Sí ocupación', 'Sí ocupación', 'Sí ocupación', 'Sí ocupación', 'Sí ocupación', 'Sí ocupación', 'Sí ocupación', 'Sí ocupación', 'Sí ocupación', 'Sí ocupación', 'Sí ocupación', 'Sí ocupación', 'Sí ocupación', 'Sí ocupación', 'Sí ocupación', 'Sí ocupación', 'Sí ocupación', 'Sí ocupación', 'Sí ocupación', 'Sí ocupación', 'Sí ocupación', 'Sí ocupación', 'Sí ocupación', 'Sí ocupación', 'Sí ocupación', 'Sí ocupación', 'Sí ocupación', 'Sí ocupación', 'Sí ocupación', 'Sí ocupación', 'Sí ocupación', 'Sí ocupación', 'Sí ocupación', 'Sí ocupación', 'Sí ocupación', 'Sí ocupación', 'Sí ocupación', 'Sí ocupación', 'Sí ocupación', 'Sí ocupación', 'Sí ocupación', 'Sí ocupación', 'Sí ocupación', 'Sí ocupación', 'Sí ocupación', 'Sí ocupación', 'Sí ocupación', 'Sí ocupación', 'Sí ocupación', 'Sí ocupación', 'Sí ocupación', 'Sí ocupación', 'Sí ocupación', 'Sí ocupación', 'Sí ocupación', 'Sí ocupación', 'Sí ocupación', 'Sí ocupación', 'Sí ocupación', 'Sí ocupación', 'Sí ocupación', 'Sí ocupación', 'Sí ocupación', 'Sí ocupación', 'Sí ocupación', 'Sí ocupación', 'Sí ocupación', 'Sí ocupación', 'Sí ocupación', 'Sí ocupación', 'Sí ocupación', 'Sí ocupación', 'Sí ocupación', 'Sí ocupación', 'Sí ocupación', 'Sí ocupación', 'Sí ocupación', 'Sí ocupación', 'Sí ocupación', 'Sí ocupación', 'Sí ocupación', 'Sí ocupación', 'Sí ocupación', 'Sí ocupación', 'Sí ocupación', 'Sí ocupación', 'Sí ocupación', 'Sí ocupación', 'Sí ocupación', 'Sí ocupación', 'Sí ocupación', 'Sí ocupación', 'Sí ocupación', 'Sí ocupación', 'Sí ocupación', 'Sí ocupación', 'Sí ocupación', 'Sí ocupación', 'Sí ocupación', 'Sí ocupación', 'Sí ocupación', 'Sí ocupación', 'Sí ocupación', 'Sí ocupación', 'Sí ocupación', 'Sí ocupación', 'Sí ocupación', 'Sí ocupación', 'Sí ocupación', 'Sí ocupación', 'Sí ocupación', 'Sí ocupación', 'Sí ocupación', 'Sí ocupación', 'Sí ocupación', 'Sí ocupación', 'Sí ocupación', 'Sí ocupación', 'Sí ocupación', 'Sí ocupación', 'Sí ocupación', 'Sí ocupación', 'Sí ocupación', 'Sí ocupación', 'Sí ocupación', 'Sí ocupación', 'Sí ocupación', 'Sí ocupación', 'Sí ocupación', 'Sí ocupación', 'Sí ocupación', 'Sí ocupación', 'Sí ocupación', 'Sí ocupación', 'Sí ocupación', 'Sí ocupación', 'Sí ocupación', 'Sí ocupación', 'Sí ocupación', 'Sí ocupación', 'Sí ocupación', 'Sí ocupación', 'Sí ocupación', 'Sí ocupación', 'Sí ocupación', 'Sí ocupación', 'Sí ocupación', 'Sí ocupación', 'Sí ocupación', 'Sí ocupación', 'Sí ocupación', 'Sí ocupación', 'Sí ocupación', 'Sí ocupación', 'Sí ocupación', 'Sí ocupación', 'Sí ocupación', 'Sí ocupación', 'Sí ocupación', 'Sí ocupación', 'Sí ocupación', 'Sí ocupación', 'No ocupación', 'No ocupación', 'No ocupación', 'No ocupación', 'No ocupación', 'No ocupación', 'No ocupación', 'No ocupación', 'No ocupación', 'No ocupación', 'No ocupación', 'No ocupación', 'No ocupación', 'No ocupación', 'No ocupación', 'No ocupación', 'No ocupación', 'No ocupación', 'No ocupación', 'No ocupación', 'No ocupación', 'No ocupación', 'No ocupación', 'Sí ocupación', 'Sí ocupación', 'Sí ocupación', 'Sí ocupación', 'Sí ocupación', 'Sí ocupación', 'Sí ocupación', 'Sí ocupación', 'No ocupación', 'No ocupación', 'No ocupación', 'No ocupación', 'No ocupación', 'No ocupación', 'No ocupación', 'No ocupación', 'No ocupación', 'No ocupación', 'No ocupación', 'No ocupación', 'No ocupación', 'No ocupación', 'No ocupación', 'No ocupación', 'No ocupación', 'No ocupación', 'No ocupación', 'No ocupación', 'No ocupación', 'No ocupación', 'No ocupación', 'No ocupación', 'No ocupación', 'No ocupación', 'No ocupación', 'No ocupación', 'No ocupación', 'No ocupación', 'No ocupación', 'No ocupación', 'No ocupación', 'No ocupación', 'No ocupación', 'No ocupación', 'No ocupación', 'No ocupación', 'No ocupación', 'No ocupación', 'No ocupación', 'No ocupación', 'No ocupación', 'No ocupación', 'No ocupación', 'No ocupación', 'No ocupación', 'No ocupación', 'No ocupación', 'No ocupación', 'No ocupación', 'No ocupación', 'No ocupación', 'No ocupación', 'No ocupación', 'No ocupación', 'No ocupación', 'No ocupación', 'No ocupación', 'No ocupación', 'No ocupación', 'No ocupación', 'No ocupación', 'No ocupación', 'No ocupación', 'No ocupación', 'No ocupación', 'No ocupación', 'No ocupación', 'No ocupación', 'No ocupación', 'No ocupación', 'No ocupación', 'No ocupación', 'No ocupación', 'No ocupación', 'No ocupación', 'No ocupación', 'No ocupación', 'No ocupación', 'No ocupación', 'No ocupación', 'No ocupación', 'No ocupación', 'No ocupación', 'No ocupación', 'No ocupación', 'No ocupación', 'No ocupación', 'No ocupación', 'No ocupación', 'No ocupación', 'No ocupación', 'No ocupación', 'No ocupación', 'No ocupación', 'No ocupación', 'No ocupación', 'No ocupación', 'No ocupación', 'No ocupación', 'No ocupación', 'No ocupación', 'No ocupación', 'No ocupación', 'No ocupación', 'No ocupación', 'No ocupación', 'No ocupación', 'No ocupación', 'No ocupación', 'No ocupación', 'No ocupación', 'No ocupación', 'No ocupación', 'No ocupación', 'No ocupación', 'No ocupación', 'No ocupación', 'No ocupación', 'No ocupación', 'No ocupación', 'No ocupación', 'No ocupación', 'No ocupación', 'No ocupación', 'No ocupación', 'No ocupación', 'No ocupación', 'No ocupación', 'No ocupación', 'No ocupación', 'No ocupación', 'No ocupación', 'No ocupación', 'No ocupación', 'No ocupación', 'No ocupación', 'No ocupación', 'No ocupación', 'No ocupación', 'No ocupación', 'No ocupación', 'No ocupación', 'No ocupación', 'No ocupación', 'No ocupación', 'No ocupación', 'No ocupación', 'No ocupación', 'No ocupación', 'No ocupación', 'No ocupación', 'No ocupación', 'No ocupación', 'No ocupación', 'No ocupación', 'No ocupación', 'No ocupación', 'No ocupación', 'No ocupación', 'No ocupación', 'No ocupación', 'No ocupación', 'No ocupación', 'No ocupación', 'No ocupación', 'No ocupación', 'No ocupación', 'No ocupación', 'No ocupación', 'No ocupación', 'No ocupación', 'No ocupación', 'No ocupación', 'No ocupación', 'No ocupación', 'No ocupación', 'No ocupación', 'No ocupación', 'No ocupación', 'No ocupación', 'No ocupación', 'No ocupación', 'No ocupación', 'No ocupación', 'No ocupación', 'No ocupación', 'No ocupación', 'No ocupación', 'No ocupación', 'No ocupación', 'No ocupación', 'No ocupación', 'No ocupación', 'No ocupación', 'No ocupación', 'No ocupación', 'No ocupación', 'No ocupación', 'No ocupación', 'No ocupación', 'No ocupación', 'No ocupación', 'No ocupación', 'No ocupación', 'No ocupación', 'No ocupación', 'No ocupación', 'No ocupación', 'No ocupación', 'No ocupación', 'No ocupación', 'No ocupación', 'No ocupación', 'No ocupación', 'No ocupación', 'No ocupación', 'No ocupación', 'No ocupación', 'No ocupación', 'No ocupación', 'No ocupación', 'No ocupación', 'No ocupación', 'No ocupación', 'No ocupación', 'No ocupación', 'No ocupación', 'No ocupación', 'No ocupación', 'No ocupación', 'No ocupación', 'No ocupación', 'No ocupación', 'No ocupación', 'No ocupación', 'No ocupación', 'No ocupación', 'No ocupación', 'No ocupación', 'No ocupación', 'No ocupación', 'No ocupación', 'No ocupación', 'No ocupación', 'No ocupación', 'No ocupación', 'No ocupación', 'No ocupación', 'No ocupación', 'No ocupación', 'No ocupación', 'No ocupación', 'No ocupación', 'No ocupación', 'No ocupación', 'No ocupación', 'No ocupación', 'No ocupación', 'No ocupación', 'No ocupación', 'No ocupación', 'No ocupación', 'No ocupación', 'No ocupación', 'No ocupación', 'No ocupación', 'No ocupación', 'No ocupación', 'No ocupación', 'No ocupación', 'No ocupación', 'No ocupación', 'No ocupación', 'No ocupación', 'No ocupación', 'No ocupación', 'No ocupación', 'No ocupación', 'No ocupación', 'No ocupación', 'No ocupación', 'No ocupación', 'No ocupación', 'No ocupación', 'No ocupación', 'No ocupación', 'No ocupación', 'No ocupación', 'No ocupación', 'No ocupación', 'No ocupación', 'No ocupación', 'No ocupación', 'No ocupación', 'No ocupación', 'No ocupación', 'No ocupación', 'No ocupación', 'No ocupación', 'No ocupación', 'No ocupación', 'No ocupación', 'No ocupación', 'No ocupación', 'No ocupación', 'No ocupación', 'No ocupación', 'No ocupación', 'No ocupación', 'No ocupación', 'No ocupación', 'No ocupación', 'No ocupación', 'No ocupación', 'No ocupación', 'No ocupación', 'No ocupación', 'No ocupación', 'No ocupación', 'No ocupación', 'No ocupación', 'No ocupación', 'No ocupación', 'No ocupación', 'No ocupación', 'No ocupación', 'No ocupación', 'No ocupación', 'No ocupación', 'No ocupación', 'No ocupación', 'No ocupación', 'No ocupación', 'No ocupación', 'No ocupación', 'No ocupación', 'No ocupación', 'No ocupación', 'No ocupación', 'No ocupación', 'No ocupación', 'No ocupación', 'No ocupación', 'No ocupación', 'No ocupación', 'No ocupación', 'No ocupación', 'No ocupación', 'No ocupación', 'No ocupación', 'No ocupación', 'No ocupación', 'No ocupación', 'No ocupación', 'No ocupación', 'No ocupación', 'No ocupación', 'No ocupación', 'No ocupación', 'No ocupación', 'No ocupación', 'No ocupación', 'No ocupación', 'No ocupación', 'No ocupación', 'No ocupación', 'No ocupación', 'No ocupación', 'No ocupación', 'No ocupación', 'No ocupación', 'No ocupación', 'No ocupación', 'No ocupación', 'No ocupación', 'No ocupación', 'No ocupación', 'No ocupación', 'No ocupación', 'No ocupación', 'No ocupación', 'No ocupación', 'No ocupación', 'No ocupación', 'No ocupación', 'No ocupación', 'No ocupación', 'No ocupación', 'No ocupación', 'No ocupación', 'No ocupación', 'No ocupación', 'No ocupación', 'No ocupación', 'No ocupación', 'No ocupación', 'No ocupación', 'No ocupación', 'No ocupación', 'No ocupación', 'No ocupación', 'No ocupación', 'No ocupación', 'No ocupación', 'No ocupación', 'No ocupación', 'No ocupación', 'No ocupación', 'No ocupación', 'No ocupación', 'No ocupación', 'No ocupación', 'No ocupación', 'No ocupación', 'No ocupación', 'No ocupación', 'No ocupación', 'No ocupación', 'No ocupación', 'No ocupación', 'No ocupación', 'No ocupación', 'No ocupación', 'No ocupación', 'No ocupación', 'No ocupación', 'No ocupación', 'No ocupación', 'No ocupación', 'No ocupación', 'No ocupación', 'No ocupación', 'No ocupación', 'No ocupación', 'No ocupación', 'No ocupación', 'No ocupación', 'No ocupación', 'No ocupación', 'No ocupación', 'No ocupación', 'No ocupación', 'No ocupación', 'No ocupación', 'No ocupación', 'No ocupación', 'No ocupación', 'No ocupación', 'No ocupación', 'No ocupación', 'No ocupación', 'No ocupación', 'No ocupación', 'No ocupación', 'No ocupación', 'No ocupación', 'No ocupación', 'No ocupación', 'No ocupación', 'No ocupación', 'No ocupación', 'No ocupación', 'No ocupación', 'No ocupación', 'No ocupación', 'No ocupación', 'No ocupación', 'No ocupación', 'No ocupación', 'No ocupación', 'No ocupación', 'No ocupación', 'No ocupación', 'No ocupación', 'No ocupación', 'No ocupación', 'No ocupación', 'No ocupación', 'No ocupación', 'No ocupación', 'No ocupación', 'No ocupación', 'No ocupación', 'No ocupación', 'No ocupación', 'No ocupación', 'No ocupación', 'No ocupación', 'No ocupación', 'No ocupación', 'No ocupación', 'No ocupación', 'No ocupación', 'No ocupación', 'No ocupación', 'No ocupación', 'No ocupación', 'No ocupación', 'No ocupación', 'No ocupación', 'No ocupación', 'No ocupación', 'No ocupación', 'No ocupación', 'No ocupación', 'No ocupación', 'No ocupación', 'No ocupación', 'No ocupación', 'No ocupación', 'No ocupación', 'No ocupación', 'No ocupación', 'No ocupación', 'No ocupación', 'No ocupación', 'No ocupación', 'No ocupación', 'No ocupación', 'No ocupación', 'No ocupación', 'No ocupación', 'No ocupación', 'No ocupación', 'No ocupación', 'No ocupación', 'No ocupación', 'No ocupación', 'No ocupación', 'No ocupación', 'No ocupación', 'No ocupación', 'No ocupación', 'No ocupación', 'No ocupación', 'No ocupación', 'No ocupación', 'No ocupación', 'No ocupación', 'No ocupación', 'No ocupación', 'No ocupación', 'No ocupación', 'No ocupación', 'No ocupación', 'No ocupación', 'No ocupación', 'No ocupación', 'No ocupación', 'No ocupación', 'No ocupación', 'No ocupación', 'No ocupación', 'No ocupación', 'No ocupación', 'No ocupación', 'No ocupación', 'No ocupación', 'No ocupación', 'No ocupación', 'No ocupación', 'No ocupación', 'No ocupación', 'No ocupación', 'No ocupación', 'No ocupación', 'No ocupación', 'No ocupación', 'No ocupación', 'No ocupación', 'No ocupación', 'No ocupación', 'No ocupación', 'No ocupación', 'No ocupación', 'No ocupación', 'No ocupación', 'No ocupación', 'No ocupación', 'No ocupación', 'No ocupación', 'No ocupación', 'No ocupación', 'No ocupación', 'No ocupación', 'No ocupación', 'No ocupación', 'No ocupación', 'No ocupación', 'No ocupación', 'No ocupación', 'No ocupación', 'No ocupación', 'No ocupación', 'No ocupación', 'No ocupación', 'No ocupación', 'No ocupación', 'No ocupación', 'No ocupación', 'No ocupación', 'No ocupación', 'No ocupación', 'No ocupación', 'No ocupación', 'No ocupación', 'No ocupación', 'No ocupación', 'No ocupación', 'No ocupación', 'No ocupación', 'No ocupación', 'No ocupación', 'No ocupación', 'No ocupación', 'No ocupación', 'No ocupación', 'No ocupación', 'No ocupación', 'No ocupación', 'No ocupación', 'No ocupación', 'No ocupación', 'No ocupación', 'No ocupación', 'No ocupación', 'No ocupación', 'No ocupación', 'No ocupación', 'No ocupación', 'No ocupación', 'No ocupación', 'No ocupación', 'No ocupación', 'No ocupación', 'No ocupación', 'No ocupación', 'No ocupación', 'No ocupación', 'No ocupación', 'No ocupación', 'No ocupación', 'No ocupación', 'No ocupación', 'No ocupación', 'No ocupación', 'No ocupación', 'No ocupación', 'No ocupación', 'No ocupación', 'No ocupación', 'No ocupación', 'No ocupación', 'No ocupación', 'No ocupación', 'No ocupación', 'No ocupación', 'No ocupación', 'No ocupación', 'No ocupación', 'No ocupación', 'No ocupación', 'No ocupación', 'No ocupación', 'No ocupación', 'No ocupación', 'No ocupación', 'No ocupación', 'No ocupación', 'No ocupación', 'No ocupación', 'No ocupación', 'No ocupación', 'No ocupación', 'No ocupación', 'No ocupación', 'No ocupación', 'No ocupación', 'No ocupación', 'No ocupación', 'No ocupación', 'No ocupación', 'No ocupación', 'No ocupación', 'No ocupación', 'No ocupación', 'No ocupación', 'No ocupación', 'No ocupación', 'No ocupación', 'No ocupación', 'No ocupación', 'No ocupación', 'No ocupación', 'No ocupación', 'No ocupación', 'No ocupación', 'No ocupación', 'No ocupación', 'No ocupación', 'No ocupación', 'No ocupación', 'No ocupación', 'No ocupación', 'No ocupación', 'No ocupación', 'No ocupación', 'No ocupación', 'No ocupación', 'No ocupación', 'No ocupación', 'No ocupación', 'No ocupación', 'No ocupación', 'No ocupación', 'No ocupación', 'No ocupación', 'No ocupación', 'No ocupación', 'No ocupación', 'No ocupación', 'No ocupación', 'No ocupación', 'No ocupación', 'No ocupación', 'No ocupación', 'No ocupación', 'No ocupación', 'No ocupación', 'No ocupación', 'No ocupación', 'No ocupación', 'No ocupación', 'No ocupación', 'No ocupación', 'No ocupación', 'No ocupación', 'No ocupación', 'No ocupación', 'No ocupación', 'No ocupación', 'No ocupación', 'No ocupación', 'No ocupación', 'No ocupación', 'No ocupación', 'No ocupación', 'No ocupación', 'No ocupación', 'No ocupación', 'No ocupación', 'No ocupación', 'No ocupación', 'No ocupación', 'No ocupación', 'No ocupación', 'No ocupación', 'No ocupación', 'No ocupación', 'No ocupación', 'No ocupación', 'No ocupación', 'No ocupación', 'No ocupación', 'No ocupación', 'No ocupación', 'No ocupación', 'No ocupación', 'No ocupación', 'No ocupación', 'No ocupación', 'No ocupación', 'No ocupación', 'No ocupación', 'No ocupación', 'No ocupación', 'No ocupación', 'No ocupación', 'No ocupación', 'No ocupación', 'No ocupación', 'No ocupación', 'No ocupación', 'No ocupación', 'No ocupación', 'No ocupación', 'No ocupación', 'No ocupación', 'No ocupación', 'No ocupación', 'No ocupación', 'No ocupación', 'No ocupación', 'No ocupación', 'No ocupación', 'No ocupación', 'No ocupación', 'No ocupación', 'No ocupación', 'No ocupación', 'No ocupación', 'No ocupación', 'No ocupación', 'No ocupación', 'No ocupación', 'No ocupación', 'No ocupación', 'No ocupación', 'No ocupación', 'Sí ocupación', 'Sí ocupación', 'Sí ocupación', 'No ocupación', 'No ocupación', 'No ocupación', 'No ocupación', 'Sí ocupación', 'Sí ocupación', 'Sí ocupación', 'Sí ocupación', 'Sí ocupación', 'Sí ocupación', 'Sí ocupación', 'Sí ocupación', 'Sí ocupación', 'Sí ocupación', 'Sí ocupación', 'Sí ocupación', 'Sí ocupación', 'Sí ocupación', 'Sí ocupación', 'Sí ocupación', 'Sí ocupación', 'Sí ocupación', 'Sí ocupación', 'Sí ocupación', 'Sí ocupación', 'Sí ocupación', 'Sí ocupación', 'Sí ocupación', 'Sí ocupación', 'Sí ocupación', 'Sí ocupación', 'Sí ocupación', 'Sí ocupación', 'Sí ocupación', 'Sí ocupación', 'Sí ocupación', 'Sí ocupación', 'Sí ocupación', 'Sí ocupación', 'Sí ocupación', 'Sí ocupación', 'Sí ocupación', 'Sí ocupación', 'Sí ocupación', 'Sí ocupación', 'Sí ocupación', 'Sí ocupación', 'Sí ocupación', 'Sí ocupación', 'Sí ocupación', 'Sí ocupación', 'Sí ocupación', 'Sí ocupación', 'Sí ocupación', 'Sí ocupación', 'Sí ocupación', 'Sí ocupación', 'Sí ocupación', 'Sí ocupación', 'Sí ocupación', 'Sí ocupación', 'Sí ocupación', 'Sí ocupación', 'Sí ocupación', 'Sí ocupación', 'Sí ocupación', 'Sí ocupación', 'Sí ocupación', 'Sí ocupación', 'Sí ocupación', 'Sí ocupación', 'Sí ocupación', 'Sí ocupación', 'Sí ocupación', 'Sí ocupación', 'Sí ocupación', 'Sí ocupación', 'Sí ocupación', 'Sí ocupación', 'Sí ocupación', 'Sí ocupación', 'Sí ocupación', 'Sí ocupación', 'Sí ocupación', 'Sí ocupación', 'Sí ocupación', 'Sí ocupación', 'Sí ocupación', 'Sí ocupación', 'Sí ocupación', 'Sí ocupación', 'No ocupación', 'No ocupación', 'Sí ocupación', 'Sí ocupación', 'Sí ocupación', 'Sí ocupación', 'Sí ocupación', 'Sí ocupación', 'Sí ocupación', 'Sí ocupación', 'Sí ocupación', 'Sí ocupación', 'Sí ocupación', 'Sí ocupación', 'Sí ocupación', 'Sí ocupación', 'Sí ocupación', 'Sí ocupación', 'Sí ocupación', 'Sí ocupación', 'Sí ocupación', 'Sí ocupación', 'Sí ocupación', 'Sí ocupación', 'Sí ocupación', 'Sí ocupación', 'Sí ocupación', 'Sí ocupación', 'Sí ocupación', 'Sí ocupación', 'Sí ocupación', 'Sí ocupación', 'Sí ocupación', 'Sí ocupación', 'Sí ocupación', 'Sí ocupación', 'Sí ocupación', 'Sí ocupación', 'Sí ocupación', 'Sí ocupación', 'Sí ocupación', 'Sí ocupación', 'Sí ocupación', 'Sí ocupación', 'Sí ocupación', 'Sí ocupación', 'Sí ocupación', 'Sí ocupación', 'Sí ocupación', 'Sí ocupación', 'Sí ocupación', 'Sí ocupación', 'Sí ocupación', 'Sí ocupación', 'Sí ocupación', 'Sí ocupación', 'Sí ocupación', 'Sí ocupación', 'Sí ocupación', 'Sí ocupación', 'Sí ocupación', 'Sí ocupación', 'Sí ocupación', 'Sí ocupación', 'Sí ocupación', 'Sí ocupación', 'Sí ocupación', 'Sí ocupación', 'Sí ocupación', 'Sí ocupación', 'Sí ocupación', 'Sí ocupación', 'Sí ocupación', 'Sí ocupación', 'Sí ocupación', 'Sí ocupación', 'Sí ocupación', 'Sí ocupación', 'Sí ocupación', 'Sí ocupación', 'Sí ocupación', 'Sí ocupación', 'Sí ocupación', 'Sí ocupación', 'Sí ocupación', 'Sí ocupación', 'Sí ocupación', 'Sí ocupación', 'Sí ocupación', 'Sí ocupación', 'Sí ocupación', 'Sí ocupación', 'Sí ocupación', 'Sí ocupación', 'Sí ocupación', 'Sí ocupación', 'Sí ocupación', 'Sí ocupación', 'Sí ocupación', 'Sí ocupación', 'Sí ocupación', 'Sí ocupación', 'Sí ocupación', 'Sí ocupación', 'Sí ocupación', 'Sí ocupación', 'Sí ocupación', 'Sí ocupación', 'Sí ocupación', 'Sí ocupación', 'Sí ocupación', 'Sí ocupación', 'Sí ocupación', 'Sí ocupación', 'Sí ocupación', 'Sí ocupación', 'Sí ocupación', 'Sí ocupación', 'Sí ocupación', 'Sí ocupación', 'Sí ocupación', 'Sí ocupación', 'Sí ocupación', 'Sí ocupación', 'Sí ocupación', 'Sí ocupación', 'Sí ocupación', 'Sí ocupación', 'Sí ocupación', 'Sí ocupación', 'Sí ocupación', 'Sí ocupación', 'Sí ocupación', 'Sí ocupación', 'Sí ocupación', 'Sí ocupación', 'Sí ocupación', 'Sí ocupación', 'Sí ocupación', 'Sí ocupación', 'Sí ocupación', 'Sí ocupación', 'Sí ocupación', 'Sí ocupación', 'Sí ocupación', 'Sí ocupación', 'Sí ocupación', 'Sí ocupación', 'Sí ocupación', 'Sí ocupación', 'Sí ocupación', 'Sí ocupación', 'Sí ocupación', 'Sí ocupación', 'Sí ocupación', 'Sí ocupación', 'Sí ocupación', 'Sí ocupación', 'No ocupación', 'Sí ocupación', 'Sí ocupación', 'Sí ocupación', 'Sí ocupación', 'Sí ocupación', 'Sí ocupación', 'Sí ocupación', 'Sí ocupación', 'Sí ocupación', 'Sí ocupación', 'Sí ocupación', 'Sí ocupación', 'Sí ocupación', 'Sí ocupación', 'Sí ocupación', 'Sí ocupación', 'Sí ocupación', 'Sí ocupación', 'Sí ocupación', 'Sí ocupación', 'Sí ocupación', 'Sí ocupación', 'Sí ocupación', 'Sí ocupación', 'Sí ocupación', 'Sí ocupación', 'Sí ocupación', 'Sí ocupación', 'Sí ocupación', 'Sí ocupación', 'No ocupación', 'No ocupación', 'No ocupación', 'Sí ocupación', 'Sí ocupación', 'Sí ocupación', 'Sí ocupación', 'Sí ocupación', 'Sí ocupación', 'Sí ocupación', 'Sí ocupación', 'Sí ocupación', 'Sí ocupación', 'Sí ocupación', 'Sí ocupación', 'Sí ocupación', 'Sí ocupación', 'Sí ocupación', 'Sí ocupación', 'Sí ocupación', 'Sí ocupación', 'Sí ocupación', 'Sí ocupación', 'Sí ocupación', 'Sí ocupación', 'Sí ocupación', 'Sí ocupación', 'Sí ocupación', 'Sí ocupación', 'Sí ocupación', 'Sí ocupación', 'Sí ocupación', 'Sí ocupación', 'Sí ocupación', 'Sí ocupación', 'Sí ocupación', 'Sí ocupación', 'Sí ocupación', 'Sí ocupación', 'Sí ocupación', 'Sí ocupación', 'Sí ocupación', 'Sí ocupación', 'Sí ocupación', 'Sí ocupación', 'Sí ocupación', 'Sí ocupación', 'Sí ocupación', 'Sí ocupación', 'Sí ocupación', 'Sí ocupación', 'No ocupación', 'No ocupación', 'No ocupación', 'No ocupación', 'No ocupación', 'No ocupación', 'No ocupación', 'No ocupación', 'No ocupación', 'No ocupación', 'No ocupación', 'No ocupación', 'No ocupación', 'No ocupación', 'No ocupación', 'No ocupación', 'No ocupación', 'No ocupación', 'No ocupación', 'No ocupación', 'No ocupación', 'No ocupación', 'No ocupación', 'Sí ocupación', 'No ocupación', 'No ocupación', 'No ocupación', 'No ocupación', 'No ocupación', 'Sí ocupación', 'Sí ocupación', 'Sí ocupación', 'Sí ocupación', 'Sí ocupación', 'Sí ocupación', 'Sí ocupación', 'Sí ocupación', 'Sí ocupación', 'Sí ocupación', 'Sí ocupación', 'Sí ocupación', 'Sí ocupación', 'Sí ocupación', 'Sí ocupación', 'Sí ocupación', 'Sí ocupación', 'Sí ocupación', 'Sí ocupación', 'Sí ocupación', 'Sí ocupación', 'Sí ocupación', 'Sí ocupación', 'Sí ocupación', 'Sí ocupación', 'Sí ocupación', 'Sí ocupación', 'Sí ocupación', 'Sí ocupación', 'Sí ocupación', 'Sí ocupación', 'Sí ocupación', 'Sí ocupación', 'Sí ocupación', 'Sí ocupación', 'Sí ocupación', 'Sí ocupación', 'Sí ocupación', 'Sí ocupación', 'Sí ocupación', 'Sí ocupación', 'Sí ocupación', 'Sí ocupación', 'Sí ocupación', 'Sí ocupación', 'Sí ocupación', 'Sí ocupación', 'Sí ocupación', 'Sí ocupación', 'Sí ocupación', 'Sí ocupación', 'Sí ocupación', 'Sí ocupación', 'Sí ocupación', 'Sí ocupación', 'Sí ocupación', 'Sí ocupación', 'Sí ocupación', 'Sí ocupación', 'Sí ocupación', 'Sí ocupación', 'Sí ocupación', 'Sí ocupación', 'Sí ocupación', 'Sí ocupación', 'Sí ocupación', 'Sí ocupación', 'Sí ocupación', 'Sí ocupación', 'Sí ocupación', 'Sí ocupación', 'Sí ocupación', 'Sí ocupación', 'Sí ocupación', 'Sí ocupación', 'Sí ocupación', 'Sí ocupación', 'Sí ocupación', 'Sí ocupación', 'Sí ocupación', 'Sí ocupación', 'Sí ocupación', 'Sí ocupación', 'Sí ocupación', 'Sí ocupación', 'Sí ocupación', 'Sí ocupación', 'Sí ocupación', 'Sí ocupación', 'Sí ocupación', 'Sí ocupación', 'Sí ocupación', 'Sí ocupación', 'Sí ocupación', 'Sí ocupación', 'Sí ocupación', 'Sí ocupación', 'Sí ocupación', 'Sí ocupación', 'Sí ocupación', 'Sí ocupación', 'Sí ocupación', 'Sí ocupación', 'Sí ocupación', 'Sí ocupación', 'Sí ocupación', 'Sí ocupación', 'Sí ocupación', 'Sí ocupación', 'Sí ocupación', 'Sí ocupación', 'Sí ocupación', 'Sí ocupación', 'Sí ocupación', 'Sí ocupación', 'Sí ocupación', 'Sí ocupación', 'Sí ocupación', 'Sí ocupación', 'Sí ocupación', 'Sí ocupación', 'Sí ocupación', 'Sí ocupación', 'Sí ocupación', 'Sí ocupación', 'Sí ocupación', 'Sí ocupación', 'Sí ocupación', 'Sí ocupación', 'Sí ocupación', 'Sí ocupación', 'Sí ocupación', 'Sí ocupación', 'Sí ocupación', 'Sí ocupación', 'Sí ocupación', 'Sí ocupación', 'Sí ocupación', 'Sí ocupación', 'Sí ocupación', 'Sí ocupación', 'Sí ocupación', 'Sí ocupación', 'Sí ocupación', 'Sí ocupación', 'Sí ocupación', 'Sí ocupación', 'Sí ocupación', 'Sí ocupación', 'Sí ocupación', 'Sí ocupación', 'Sí ocupación', 'Sí ocupación', 'Sí ocupación', 'Sí ocupación', 'Sí ocupación', 'Sí ocupación', 'Sí ocupación', 'Sí ocupación', 'Sí ocupación', 'Sí ocupación', 'Sí ocupación', 'Sí ocupación', 'Sí ocupación', 'Sí ocupación', 'Sí ocupación', 'Sí ocupación', 'Sí ocupación', 'Sí ocupación', 'Sí ocupación', 'Sí ocupación', 'Sí ocupación', 'Sí ocupación', 'Sí ocupación', 'Sí ocupación', 'Sí ocupación', 'Sí ocupación', 'Sí ocupación', 'Sí ocupación', 'Sí ocupación', 'Sí ocupación', 'Sí ocupación', 'Sí ocupación', 'Sí ocupación', 'Sí ocupación', 'Sí ocupación', 'Sí ocupación', 'Sí ocupación', 'Sí ocupación', 'Sí ocupación', 'Sí ocupación', 'Sí ocupación', 'Sí ocupación', 'Sí ocupación', 'Sí ocupación', 'Sí ocupación', 'Sí ocupación', 'Sí ocupación', 'Sí ocupación', 'Sí ocupación', 'Sí ocupación', 'Sí ocupación', 'Sí ocupación', 'Sí ocupación', 'Sí ocupación', 'Sí ocupación', 'Sí ocupación', 'Sí ocupación', 'Sí ocupación', 'Sí ocupación', 'Sí ocupación', 'Sí ocupación', 'Sí ocupación', 'Sí ocupación', 'Sí ocupación', 'Sí ocupación', 'Sí ocupación', 'Sí ocupación', 'Sí ocupación', 'Sí ocupación', 'Sí ocupación', 'Sí ocupación', 'Sí ocupación', 'Sí ocupación', 'Sí ocupación', 'Sí ocupación', 'Sí ocupación', 'Sí ocupación', 'Sí ocupación', 'Sí ocupación', 'Sí ocupación', 'Sí ocupación', 'Sí ocupación', 'Sí ocupación', 'Sí ocupación', 'Sí ocupación', 'Sí ocupación', 'Sí ocupación', 'Sí ocupación', 'Sí ocupación', 'Sí ocupación', 'Sí ocupación', 'Sí ocupación', 'Sí ocupación', 'Sí ocupación', 'Sí ocupación', 'Sí ocupación', 'Sí ocupación', 'Sí ocupación', 'Sí ocupación', 'Sí ocupación', 'Sí ocupación', 'Sí ocupación', 'Sí ocupación', 'Sí ocupación', 'Sí ocupación', 'Sí ocupación', 'Sí ocupación', 'Sí ocupación', 'Sí ocupación', 'Sí ocupación', 'Sí ocupación', 'Sí ocupación', 'Sí ocupación', 'Sí ocupación', 'Sí ocupación', 'Sí ocupación', 'Sí ocupación', 'Sí ocupación', 'Sí ocupación', 'Sí ocupación', 'Sí ocupación', 'Sí ocupación', 'Sí ocupación', 'No ocupación', 'No ocupación', 'No ocupación', 'No ocupación', 'No ocupación', 'No ocupación', 'No ocupación', 'No ocupación', 'No ocupación', 'No ocupación', 'No ocupación', 'No ocupación', 'No ocupación', 'No ocupación', 'No ocupación', 'No ocupación', 'No ocupación', 'No ocupación', 'No ocupación', 'No ocupación', 'No ocupación', 'No ocupación', 'No ocupación', 'No ocupación', 'No ocupación', 'No ocupación', 'No ocupación', 'No ocupación', 'No ocupación', 'No ocupación', 'No ocupación', 'No ocupación', 'No ocupación', 'No ocupación', 'No ocupación', 'No ocupación', 'No ocupación', 'No ocupación', 'No ocupación', 'No ocupación', 'No ocupación', 'No ocupación', 'No ocupación', 'No ocupación', 'No ocupación', 'No ocupación', 'No ocupación', 'No ocupación', 'No ocupación', 'No ocupación', 'No ocupación', 'No ocupación', 'No ocupación', 'No ocupación', 'No ocupación', 'No ocupación', 'No ocupación', 'No ocupación', 'No ocupación', 'No ocupación', 'No ocupación', 'No ocupación', 'No ocupación', 'No ocupación', 'No ocupación', 'No ocupación', 'No ocupación', 'No ocupación', 'No ocupación', 'No ocupación', 'No ocupación', 'No ocupación', 'No ocupación', 'No ocupación', 'No ocupación', 'No ocupación', 'No ocupación', 'No ocupación', 'No ocupación', 'No ocupación', 'No ocupación', 'No ocupación', 'No ocupación', 'No ocupación', 'No ocupación', 'No ocupación', 'No ocupación', 'No ocupación', 'No ocupación', 'No ocupación', 'No ocupación', 'No ocupación', 'No ocupación', 'No ocupación', 'No ocupación', 'No ocupación', 'No ocupación', 'No ocupación', 'No ocupación', 'No ocupación', 'No ocupación', 'No ocupación', 'No ocupación', 'No ocupación', 'No ocupación', 'No ocupación', 'No ocupación', 'No ocupación', 'No ocupación', 'No ocupación', 'No ocupación', 'No ocupación', 'No ocupación', 'No ocupación', 'No ocupación', 'No ocupación', 'No ocupación', 'No ocupación', 'No ocupación', 'No ocupación', 'No ocupación', 'No ocupación', 'No ocupación', 'No ocupación', 'No ocupación', 'No ocupación', 'No ocupación', 'No ocupación', 'No ocupación', 'No ocupación', 'No ocupación', 'No ocupación', 'No ocupación', 'No ocupación', 'No ocupación', 'No ocupación', 'No ocupación', 'No ocupación', 'No ocupación', 'No ocupación', 'No ocupación', 'No ocupación', 'No ocupación', 'No ocupación', 'No ocupación', 'No ocupación', 'No ocupación', 'No ocupación', 'No ocupación', 'No ocupación', 'No ocupación', 'No ocupación', 'No ocupación', 'No ocupación', 'No ocupación', 'No ocupación', 'No ocupación', 'No ocupación', 'No ocupación', 'No ocupación', 'No ocupación', 'No ocupación', 'No ocupación', 'No ocupación', 'No ocupación', 'No ocupación', 'No ocupación', 'No ocupación', 'No ocupación', 'No ocupación', 'No ocupación', 'No ocupación', 'No ocupación', 'No ocupación', 'No ocupación', 'No ocupación', 'No ocupación', 'No ocupación', 'No ocupación', 'No ocupación', 'No ocupación', 'No ocupación', 'No ocupación', 'No ocupación', 'No ocupación', 'No ocupación', 'No ocupación', 'No ocupación', 'No ocupación', 'No ocupación', 'No ocupación', 'No ocupación', 'No ocupación', 'No ocupación', 'No ocupación', 'No ocupación', 'No ocupación', 'No ocupación', 'No ocupación', 'No ocupación', 'No ocupación', 'No ocupación', 'No ocupación', 'No ocupación', 'No ocupación', 'No ocupación', 'No ocupación', 'No ocupación', 'No ocupación', 'No ocupación', 'No ocupación', 'No ocupación', 'No ocupación', 'No ocupación', 'No ocupación', 'No ocupación', 'No ocupación', 'No ocupación', 'No ocupación', 'No ocupación', 'No ocupación', 'No ocupación', 'No ocupación', 'No ocupación', 'No ocupación', 'No ocupación', 'No ocupación', 'No ocupación', 'No ocupación', 'No ocupación', 'No ocupación', 'No ocupación', 'No ocupación', 'No ocupación', 'No ocupación', 'No ocupación', 'No ocupación', 'No ocupación', 'No ocupación', 'No ocupación', 'No ocupación', 'No ocupación', 'No ocupación', 'No ocupación', 'No ocupación', 'No ocupación', 'No ocupación', 'No ocupación', 'No ocupación', 'No ocupación', 'No ocupación', 'No ocupación', 'No ocupación', 'No ocupación', 'No ocupación', 'No ocupación', 'No ocupación', 'No ocupación', 'No ocupación', 'No ocupación', 'No ocupación', 'No ocupación', 'No ocupación', 'No ocupación', 'No ocupación', 'No ocupación', 'No ocupación', 'No ocupación', 'No ocupación', 'No ocupación', 'No ocupación', 'No ocupación', 'No ocupación', 'No ocupación', 'No ocupación', 'No ocupación', 'No ocupación', 'No ocupación', 'No ocupación', 'No ocupación', 'No ocupación', 'No ocupación', 'No ocupación', 'No ocupación', 'No ocupación', 'No ocupación', 'No ocupación', 'No ocupación', 'No ocupación', 'No ocupación', 'No ocupación', 'No ocupación', 'No ocupación', 'No ocupación', 'No ocupación', 'No ocupación', 'No ocupación', 'No ocupación', 'No ocupación', 'No ocupación', 'No ocupación', 'No ocupación', 'No ocupación', 'No ocupación', 'No ocupación', 'No ocupación', 'No ocupación', 'No ocupación', 'No ocupación', 'No ocupación', 'No ocupación', 'No ocupación', 'No ocupación', 'No ocupación', 'No ocupación', 'No ocupación', 'No ocupación', 'No ocupación', 'No ocupación', 'No ocupación', 'No ocupación', 'No ocupación', 'No ocupación', 'No ocupación', 'No ocupación', 'No ocupación', 'No ocupación', 'No ocupación', 'No ocupación', 'No ocupación', 'No ocupación', 'No ocupación', 'No ocupación', 'No ocupación', 'No ocupación', 'No ocupación', 'No ocupación', 'No ocupación', 'No ocupación', 'No ocupación', 'No ocupación', 'No ocupación', 'No ocupación', 'No ocupación', 'No ocupación', 'No ocupación', 'No ocupación', 'No ocupación', 'No ocupación', 'No ocupación', 'No ocupación', 'No ocupación', 'No ocupación', 'No ocupación', 'No ocupación', 'No ocupación', 'No ocupación', 'No ocupación', 'No ocupación', 'No ocupación', 'No ocupación', 'No ocupación', 'No ocupación', 'No ocupación', 'No ocupación', 'No ocupación', 'No ocupación', 'No ocupación', 'No ocupación', 'No ocupación', 'No ocupación', 'No ocupación', 'No ocupación', 'No ocupación', 'No ocupación', 'No ocupación', 'No ocupación', 'No ocupación', 'No ocupación', 'No ocupación', 'No ocupación', 'No ocupación', 'No ocupación', 'No ocupación', 'No ocupación', 'No ocupación', 'No ocupación', 'No ocupación', 'No ocupación', 'No ocupación', 'No ocupación', 'No ocupación', 'No ocupación', 'No ocupación', 'No ocupación', 'No ocupación', 'No ocupación', 'No ocupación', 'No ocupación', 'No ocupación', 'No ocupación', 'No ocupación', 'No ocupación', 'No ocupación', 'No ocupación', 'No ocupación', 'No ocupación', 'No ocupación', 'No ocupación', 'No ocupación', 'No ocupación', 'No ocupación', 'No ocupación', 'No ocupación', 'No ocupación', 'No ocupación', 'No ocupación', 'No ocupación', 'No ocupación', 'No ocupación', 'No ocupación', 'No ocupación', 'No ocupación', 'No ocupación', 'No ocupación', 'No ocupación', 'No ocupación', 'No ocupación', 'No ocupación', 'No ocupación', 'No ocupación', 'No ocupación', 'No ocupación', 'No ocupación', 'No ocupación', 'No ocupación', 'No ocupación', 'No ocupación', 'No ocupación', 'No ocupación', 'No ocupación', 'No ocupación', 'No ocupación', 'No ocupación', 'No ocupación', 'No ocupación', 'No ocupación', 'No ocupación', 'No ocupación', 'No ocupación', 'No ocupación', 'No ocupación', 'No ocupación', 'No ocupación', 'No ocupación', 'No ocupación', 'No ocupación', 'No ocupación', 'No ocupación', 'No ocupación', 'No ocupación', 'No ocupación', 'No ocupación', 'No ocupación', 'No ocupación', 'No ocupación', 'No ocupación', 'No ocupación', 'No ocupación', 'No ocupación', 'No ocupación', 'No ocupación', 'No ocupación', 'No ocupación', 'No ocupación', 'No ocupación', 'No ocupación', 'No ocupación', 'No ocupación', 'No ocupación', 'No ocupación', 'No ocupación', 'No ocupación', 'No ocupación', 'No ocupación', 'No ocupación', 'No ocupación', 'No ocupación', 'No ocupación', 'No ocupación', 'No ocupación', 'No ocupación', 'No ocupación', 'No ocupación', 'No ocupación', 'No ocupación', 'No ocupación', 'No ocupación', 'No ocupación', 'No ocupación', 'No ocupación', 'No ocupación', 'No ocupación', 'No ocupación', 'No ocupación', 'No ocupación', 'No ocupación', 'No ocupación', 'No ocupación', 'No ocupación', 'No ocupación', 'No ocupación', 'No ocupación', 'No ocupación', 'No ocupación', 'No ocupación', 'No ocupación', 'No ocupación', 'No ocupación', 'No ocupación', 'No ocupación', 'No ocupación', 'No ocupación', 'No ocupación', 'No ocupación', 'No ocupación', 'No ocupación', 'No ocupación', 'No ocupación', 'No ocupación', 'No ocupación', 'No ocupación', 'No ocupación', 'No ocupación', 'No ocupación', 'No ocupación', 'No ocupación', 'No ocupación', 'No ocupación', 'No ocupación', 'No ocupación', 'No ocupación', 'No ocupación', 'No ocupación', 'No ocupación', 'No ocupación', 'No ocupación', 'No ocupación', 'No ocupación', 'No ocupación', 'No ocupación', 'No ocupación', 'No ocupación', 'No ocupación', 'No ocupación', 'No ocupación', 'No ocupación', 'No ocupación', 'No ocupación', 'No ocupación', 'No ocupación', 'No ocupación', 'No ocupación', 'No ocupación', 'No ocupación', 'No ocupación', 'No ocupación', 'No ocupación', 'No ocupación', 'No ocupación', 'No ocupación', 'No ocupación', 'No ocupación', 'No ocupación', 'No ocupación', 'No ocupación', 'No ocupación', 'No ocupación', 'No ocupación', 'No ocupación', 'No ocupación', 'No ocupación', 'No ocupación', 'No ocupación', 'No ocupación', 'No ocupación', 'No ocupación', 'No ocupación', 'No ocupación', 'No ocupación', 'No ocupación', 'No ocupación', 'No ocupación', 'No ocupación', 'No ocupación', 'No ocupación', 'No ocupación', 'No ocupación', 'No ocupación', 'No ocupación', 'No ocupación', 'No ocupación', 'No ocupación', 'No ocupación', 'No ocupación', 'No ocupación', 'No ocupación', 'No ocupación', 'No ocupación', 'No ocupación', 'No ocupación', 'No ocupación', 'No ocupación', 'No ocupación', 'No ocupación', 'No ocupación', 'No ocupación', 'No ocupación', 'No ocupación', 'No ocupación', 'No ocupación', 'No ocupación', 'No ocupación', 'No ocupación', 'No ocupación', 'No ocupación', 'No ocupación', 'No ocupación', 'No ocupación', 'No ocupación', 'No ocupación', 'No ocupación', 'No ocupación', 'No ocupación', 'No ocupación', 'No ocupación', 'No ocupación', 'No ocupación', 'No ocupación', 'No ocupación', 'No ocupación', 'No ocupación', 'No ocupación', 'No ocupación', 'No ocupación', 'No ocupación', 'No ocupación', 'No ocupación', 'No ocupación', 'No ocupación', 'No ocupación', 'No ocupación', 'No ocupación', 'No ocupación', 'No ocupación', 'No ocupación', 'No ocupación', 'No ocupación', 'No ocupación', 'No ocupación', 'No ocupación', 'No ocupación', 'No ocupación', 'No ocupación', 'No ocupación', 'No ocupación', 'No ocupación', 'No ocupación', 'No ocupación', 'No ocupación', 'No ocupación', 'No ocupación', 'No ocupación', 'No ocupación', 'No ocupación', 'No ocupación', 'No ocupación', 'No ocupación', 'No ocupación', 'No ocupación', 'No ocupación', 'No ocupación', 'No ocupación', 'No ocupación', 'No ocupación', 'No ocupación', 'No ocupación', 'No ocupación', 'No ocupación', 'No ocupación', 'No ocupación', 'No ocupación', 'No ocupación', 'No ocupación', 'No ocupación', 'No ocupación', 'No ocupación', 'No ocupación', 'No ocupación', 'No ocupación', 'No ocupación', 'No ocupación', 'No ocupación', 'No ocupación', 'No ocupación', 'No ocupación', 'No ocupación', 'No ocupación', 'No ocupación', 'No ocupación', 'No ocupación', 'No ocupación', 'No ocupación', 'No ocupación', 'No ocupación', 'No ocupación', 'No ocupación', 'No ocupación', 'No ocupación', 'No ocupación', 'No ocupación', 'No ocupación', 'No ocupación', 'No ocupación', 'No ocupación', 'No ocupación', 'No ocupación', 'No ocupación', 'No ocupación', 'No ocupación', 'No ocupación', 'No ocupación', 'No ocupación', 'No ocupación', 'No ocupación', 'No ocupación', 'No ocupación', 'No ocupación', 'No ocupación', 'No ocupación', 'No ocupación', 'No ocupación', 'No ocupación', 'No ocupación', 'No ocupación', 'No ocupación', 'No ocupación', 'No ocupación', 'No ocupación', 'No ocupación', 'No ocupación', 'No ocupación', 'No ocupación', 'No ocupación', 'No ocupación', 'No ocupación', 'No ocupación', 'No ocupación', 'No ocupación', 'No ocupación', 'No ocupación', 'No ocupación', 'No ocupación', 'No ocupación', 'No ocupación', 'No ocupación', 'No ocupación', 'No ocupación', 'No ocupación', 'No ocupación', 'No ocupación', 'No ocupación', 'No ocupación', 'No ocupación', 'No ocupación', 'No ocupación', 'No ocupación', 'No ocupación', 'No ocupación', 'No ocupación', 'No ocupación', 'No ocupación', 'No ocupación', 'No ocupación', 'No ocupación', 'No ocupación', 'No ocupación', 'No ocupación', 'No ocupación', 'No ocupación', 'No ocupación', 'No ocupación', 'No ocupación', 'No ocupación', 'No ocupación', 'No ocupación', 'No ocupación', 'No ocupación', 'No ocupación', 'No ocupación', 'No ocupación', 'No ocupación', 'No ocupación', 'No ocupación', 'No ocupación', 'Sí ocupación', 'Sí ocupación', 'Sí ocupación', 'Sí ocupación', 'Sí ocupación', 'Sí ocupación', 'Sí ocupación', 'Sí ocupación', 'Sí ocupación', 'Sí ocupación', 'No ocupación', 'No ocupación', 'No ocupación', 'No ocupación', 'No ocupación', 'Sí ocupación', 'Sí ocupación', 'Sí ocupación', 'Sí ocupación', 'Sí ocupación', 'Sí ocupación', 'Sí ocupación', 'Sí ocupación', 'Sí ocupación', 'Sí ocupación', 'Sí ocupación', 'Sí ocupación', 'Sí ocupación', 'Sí ocupación', 'Sí ocupación', 'Sí ocupación', 'Sí ocupación', 'Sí ocupación', 'Sí ocupación', 'Sí ocupación', 'Sí ocupación', 'Sí ocupación', 'Sí ocupación', 'Sí ocupación', 'Sí ocupación', 'Sí ocupación', 'Sí ocupación', 'Sí ocupación', 'Sí ocupación', 'Sí ocupación', 'Sí ocupación', 'Sí ocupación', 'Sí ocupación', 'Sí ocupación', 'Sí ocupación', 'Sí ocupación', 'Sí ocupación', 'Sí ocupación', 'Sí ocupación', 'Sí ocupación', 'No ocupación', 'No ocupación', 'No ocupación', 'No ocupación', 'No ocupación', 'No ocupación', 'No ocupación', 'Sí ocupación', 'Sí ocupación', 'Sí ocupación', 'Sí ocupación', 'Sí ocupación', 'Sí ocupación', 'Sí ocupación', 'Sí ocupación', 'Sí ocupación', 'Sí ocupación', 'Sí ocupación', 'Sí ocupación', 'Sí ocupación', 'Sí ocupación', 'Sí ocupación', 'Sí ocupación', 'Sí ocupación', 'No ocupación', 'No ocupación', 'Sí ocupación', 'Sí ocupación', 'Sí ocupación', 'Sí ocupación', 'Sí ocupación', 'Sí ocupación', 'Sí ocupación', 'Sí ocupación', 'Sí ocupación', 'Sí ocupación', 'Sí ocupación', 'Sí ocupación', 'Sí ocupación', 'Sí ocupación', 'Sí ocupación', 'Sí ocupación', 'Sí ocupación', 'Sí ocupación', 'Sí ocupación', 'Sí ocupación', 'Sí ocupación', 'Sí ocupación', 'Sí ocupación', 'Sí ocupación', 'Sí ocupación', 'Sí ocupación', 'Sí ocupación', 'Sí ocupación', 'Sí ocupación', 'No ocupación', 'No ocupación', 'Sí ocupación', 'Sí ocupación', 'Sí ocupación', 'Sí ocupación', 'Sí ocupación', 'Sí ocupación', 'Sí ocupación', 'Sí ocupación', 'Sí ocupación', 'Sí ocupación', 'Sí ocupación', 'Sí ocupación', 'Sí ocupación', 'Sí ocupación', 'Sí ocupación', 'Sí ocupación', 'Sí ocupación', 'Sí ocupación', 'Sí ocupación', 'Sí ocupación', 'Sí ocupación', 'Sí ocupación', 'Sí ocupación', 'Sí ocupación', 'Sí ocupación', 'Sí ocupación', 'Sí ocupación', 'Sí ocupación', 'Sí ocupación', 'Sí ocupación', 'Sí ocupación', 'Sí ocupación', 'Sí ocupación', 'Sí ocupación', 'Sí ocupación', 'Sí ocupación', 'Sí ocupación', 'Sí ocupación', 'Sí ocupación', 'Sí ocupación', 'Sí ocupación', 'Sí ocupación', 'Sí ocupación', 'Sí ocupación', 'Sí ocupación', 'Sí ocupación', 'Sí ocupación', 'Sí ocupación', 'Sí ocupación', 'Sí ocupación', 'Sí ocupación', 'Sí ocupación', 'Sí ocupación', 'Sí ocupación', 'Sí ocupación', 'Sí ocupación', 'Sí ocupación', 'Sí ocupación', 'Sí ocupación', 'Sí ocupación', 'Sí ocupación', 'Sí ocupación', 'Sí ocupación', 'Sí ocupación', 'Sí ocupación', 'Sí ocupación', 'Sí ocupación', 'Sí ocupación', 'Sí ocupación', 'Sí ocupación', 'Sí ocupación', 'Sí ocupación', 'Sí ocupación', 'Sí ocupación']\n",
            "[1, 1, 1, 1, 1, 1, 1, 1, 1, 1, 1, 1, 1, 1, 1, 1, 1, 1, 1, 1, 1, 1, 1, 1, 1, 1, 1, 1, 1, 1, 1, 1, 1, 1, 1, 1, 1, 1, 1, 1, 1, 1, 1, 1, 1, 1, 1, 1, 1, 1, 1, 1, 1, 1, 1, 1, 1, 1, 1, 1, 1, 1, 1, 1, 1, 1, 1, 1, 1, 1, 1, 1, 1, 1, 1, 1, 1, 1, 1, 1, 1, 1, 1, 1, 1, 1, 1, 1, 1, 1, 1, 1, 1, 1, 1, 1, 1, 1, 1, 1, 1, 1, 1, 1, 1, 1, 1, 1, 1, 1, 1, 1, 1, 1, 1, 1, 1, 1, 1, 1, 1, 1, 1, 1, 1, 1, 1, 1, 1, 1, 1, 1, 1, 1, 1, 1, 1, 1, 1, 1, 1, 1, 1, 1, 1, 1, 1, 1, 1, 1, 1, 1, 1, 1, 1, 1, 1, 1, 1, 1, 1, 1, 1, 1, 1, 1, 1, 1, 1, 1, 1, 1, 1, 1, 1, 1, 1, 1, 1, 1, 1, 1, 1, 1, 1, 1, 1, 1, 1, 1, 1, 1, 1, 1, 1, 0, 0, 0, 0, 0, 0, 0, 0, 0, 0, 0, 0, 0, 0, 0, 0, 0, 0, 0, 0, 0, 0, 0, 1, 1, 1, 1, 1, 1, 1, 1, 0, 0, 0, 0, 0, 0, 0, 0, 0, 0, 0, 0, 0, 0, 0, 0, 0, 0, 0, 0, 0, 0, 0, 0, 0, 0, 0, 0, 0, 0, 0, 0, 0, 0, 0, 0, 0, 0, 0, 0, 0, 0, 0, 0, 0, 0, 0, 0, 0, 0, 0, 0, 0, 0, 0, 0, 0, 0, 0, 0, 0, 0, 0, 0, 0, 0, 0, 0, 0, 0, 0, 0, 0, 0, 0, 0, 0, 0, 0, 0, 0, 0, 0, 0, 0, 0, 0, 0, 0, 0, 0, 0, 0, 0, 0, 0, 0, 0, 0, 0, 0, 0, 0, 0, 0, 0, 0, 0, 0, 0, 0, 0, 0, 0, 0, 0, 0, 0, 0, 0, 0, 0, 0, 0, 0, 0, 0, 0, 0, 0, 0, 0, 0, 0, 0, 0, 0, 0, 0, 0, 0, 0, 0, 0, 0, 0, 0, 0, 0, 0, 0, 0, 0, 0, 0, 0, 0, 0, 0, 0, 0, 0, 0, 0, 0, 0, 0, 0, 0, 0, 0, 0, 0, 0, 0, 0, 0, 0, 0, 0, 0, 0, 0, 0, 0, 0, 0, 0, 0, 0, 0, 0, 0, 0, 0, 0, 0, 0, 0, 0, 0, 0, 0, 0, 0, 0, 0, 0, 0, 0, 0, 0, 0, 0, 0, 0, 0, 0, 0, 0, 0, 0, 0, 0, 0, 0, 0, 0, 0, 0, 0, 0, 0, 0, 0, 0, 0, 0, 0, 0, 0, 0, 0, 0, 0, 0, 0, 0, 0, 0, 0, 0, 0, 0, 0, 0, 0, 0, 0, 0, 0, 0, 0, 0, 0, 0, 0, 0, 0, 0, 0, 0, 0, 0, 0, 0, 0, 0, 0, 0, 0, 0, 0, 0, 0, 0, 0, 0, 0, 0, 0, 0, 0, 0, 0, 0, 0, 0, 0, 0, 0, 0, 0, 0, 0, 0, 0, 0, 0, 0, 0, 0, 0, 0, 0, 0, 0, 0, 0, 0, 0, 0, 0, 0, 0, 0, 0, 0, 0, 0, 0, 0, 0, 0, 0, 0, 0, 0, 0, 0, 0, 0, 0, 0, 0, 0, 0, 0, 0, 0, 0, 0, 0, 0, 0, 0, 0, 0, 0, 0, 0, 0, 0, 0, 0, 0, 0, 0, 0, 0, 0, 0, 0, 0, 0, 0, 0, 0, 0, 0, 0, 0, 0, 0, 0, 0, 0, 0, 0, 0, 0, 0, 0, 0, 0, 0, 0, 0, 0, 0, 0, 0, 0, 0, 0, 0, 0, 0, 0, 0, 0, 0, 0, 0, 0, 0, 0, 0, 0, 0, 0, 0, 0, 0, 0, 0, 0, 0, 0, 0, 0, 0, 0, 0, 0, 0, 0, 0, 0, 0, 0, 0, 0, 0, 0, 0, 0, 0, 0, 0, 0, 0, 0, 0, 0, 0, 0, 0, 0, 0, 0, 0, 0, 0, 0, 0, 0, 0, 0, 0, 0, 0, 0, 0, 0, 0, 0, 0, 0, 0, 0, 0, 0, 0, 0, 0, 0, 0, 0, 0, 0, 0, 0, 0, 0, 0, 0, 0, 0, 0, 0, 0, 0, 0, 0, 0, 0, 0, 0, 0, 0, 0, 0, 0, 0, 0, 0, 0, 0, 0, 0, 0, 0, 0, 0, 0, 0, 0, 0, 0, 0, 0, 0, 0, 0, 0, 0, 0, 0, 0, 0, 0, 0, 0, 0, 0, 0, 0, 0, 0, 0, 0, 0, 0, 0, 0, 0, 0, 0, 0, 0, 0, 0, 0, 0, 0, 0, 0, 0, 0, 0, 0, 0, 0, 0, 0, 0, 0, 0, 0, 0, 0, 0, 0, 0, 0, 0, 0, 0, 0, 0, 0, 0, 0, 0, 0, 0, 0, 0, 0, 0, 0, 0, 0, 0, 0, 0, 0, 0, 0, 0, 0, 0, 0, 0, 0, 0, 0, 0, 0, 0, 0, 0, 0, 0, 0, 0, 0, 0, 0, 0, 0, 0, 0, 0, 0, 0, 0, 0, 0, 0, 0, 0, 0, 0, 0, 0, 0, 0, 0, 0, 0, 0, 0, 0, 0, 0, 0, 0, 0, 0, 0, 0, 0, 0, 0, 0, 0, 0, 0, 0, 0, 0, 0, 0, 0, 0, 0, 0, 0, 0, 0, 0, 0, 0, 0, 0, 0, 0, 0, 0, 0, 0, 0, 0, 0, 0, 0, 0, 0, 0, 0, 0, 0, 0, 0, 0, 0, 0, 0, 0, 0, 0, 0, 0, 0, 0, 0, 0, 0, 0, 0, 0, 0, 0, 0, 0, 0, 0, 0, 0, 0, 0, 0, 0, 0, 0, 0, 0, 0, 0, 0, 0, 0, 0, 0, 0, 0, 0, 0, 0, 0, 0, 0, 0, 0, 0, 0, 0, 0, 0, 0, 0, 0, 0, 0, 0, 0, 0, 0, 0, 0, 0, 0, 0, 0, 0, 0, 0, 0, 0, 0, 0, 0, 0, 0, 0, 0, 0, 0, 0, 0, 0, 0, 0, 0, 0, 0, 0, 0, 0, 0, 0, 0, 0, 0, 0, 0, 0, 0, 0, 1, 1, 1, 0, 0, 0, 0, 1, 1, 1, 1, 1, 1, 1, 1, 1, 1, 1, 1, 1, 1, 1, 1, 1, 1, 1, 1, 1, 1, 1, 1, 1, 1, 1, 1, 1, 1, 1, 1, 1, 1, 1, 1, 1, 1, 1, 1, 1, 1, 1, 1, 1, 1, 1, 1, 1, 1, 1, 1, 1, 1, 1, 1, 1, 1, 1, 1, 1, 1, 1, 1, 1, 1, 1, 1, 1, 1, 1, 1, 1, 1, 1, 1, 1, 1, 1, 1, 1, 1, 1, 1, 1, 1, 1, 0, 0, 1, 1, 1, 1, 1, 1, 1, 1, 1, 1, 1, 1, 1, 1, 1, 1, 1, 1, 1, 1, 1, 1, 1, 1, 1, 1, 1, 1, 1, 1, 1, 1, 1, 1, 1, 1, 1, 1, 1, 1, 1, 1, 1, 1, 1, 1, 1, 1, 1, 1, 1, 1, 1, 1, 1, 1, 1, 1, 1, 1, 1, 1, 1, 1, 1, 1, 1, 1, 1, 1, 1, 1, 1, 1, 1, 1, 1, 1, 1, 1, 1, 1, 1, 1, 1, 1, 1, 1, 1, 1, 1, 1, 1, 1, 1, 1, 1, 1, 1, 1, 1, 1, 1, 1, 1, 1, 1, 1, 1, 1, 1, 1, 1, 1, 1, 1, 1, 1, 1, 1, 1, 1, 1, 1, 1, 1, 1, 1, 1, 1, 1, 1, 1, 1, 1, 1, 1, 1, 1, 1, 1, 1, 1, 1, 1, 1, 1, 1, 1, 1, 1, 1, 1, 1, 1, 1, 0, 1, 1, 1, 1, 1, 1, 1, 1, 1, 1, 1, 1, 1, 1, 1, 1, 1, 1, 1, 1, 1, 1, 1, 1, 1, 1, 1, 1, 1, 1, 0, 0, 0, 1, 1, 1, 1, 1, 1, 1, 1, 1, 1, 1, 1, 1, 1, 1, 1, 1, 1, 1, 1, 1, 1, 1, 1, 1, 1, 1, 1, 1, 1, 1, 1, 1, 1, 1, 1, 1, 1, 1, 1, 1, 1, 1, 1, 1, 1, 1, 1, 0, 0, 0, 0, 0, 0, 0, 0, 0, 0, 0, 0, 0, 0, 0, 0, 0, 0, 0, 0, 0, 0, 0, 1, 0, 0, 0, 0, 0, 1, 1, 1, 1, 1, 1, 1, 1, 1, 1, 1, 1, 1, 1, 1, 1, 1, 1, 1, 1, 1, 1, 1, 1, 1, 1, 1, 1, 1, 1, 1, 1, 1, 1, 1, 1, 1, 1, 1, 1, 1, 1, 1, 1, 1, 1, 1, 1, 1, 1, 1, 1, 1, 1, 1, 1, 1, 1, 1, 1, 1, 1, 1, 1, 1, 1, 1, 1, 1, 1, 1, 1, 1, 1, 1, 1, 1, 1, 1, 1, 1, 1, 1, 1, 1, 1, 1, 1, 1, 1, 1, 1, 1, 1, 1, 1, 1, 1, 1, 1, 1, 1, 1, 1, 1, 1, 1, 1, 1, 1, 1, 1, 1, 1, 1, 1, 1, 1, 1, 1, 1, 1, 1, 1, 1, 1, 1, 1, 1, 1, 1, 1, 1, 1, 1, 1, 1, 1, 1, 1, 1, 1, 1, 1, 1, 1, 1, 1, 1, 1, 1, 1, 1, 1, 1, 1, 1, 1, 1, 1, 1, 1, 1, 1, 1, 1, 1, 1, 1, 1, 1, 1, 1, 1, 1, 1, 1, 1, 1, 1, 1, 1, 1, 1, 1, 1, 1, 1, 1, 1, 1, 1, 1, 1, 1, 1, 1, 1, 1, 1, 1, 1, 1, 1, 1, 1, 1, 1, 1, 1, 1, 1, 1, 1, 1, 1, 1, 1, 1, 1, 1, 1, 1, 1, 1, 1, 1, 1, 1, 1, 1, 1, 1, 1, 1, 1, 1, 1, 1, 1, 1, 1, 1, 1, 1, 1, 1, 1, 1, 1, 1, 1, 1, 1, 1, 1, 1, 1, 1, 1, 1, 1, 1, 1, 1, 1, 1, 1, 1, 1, 1, 1, 1, 1, 0, 0, 0, 0, 0, 0, 0, 0, 0, 0, 0, 0, 0, 0, 0, 0, 0, 0, 0, 0, 0, 0, 0, 0, 0, 0, 0, 0, 0, 0, 0, 0, 0, 0, 0, 0, 0, 0, 0, 0, 0, 0, 0, 0, 0, 0, 0, 0, 0, 0, 0, 0, 0, 0, 0, 0, 0, 0, 0, 0, 0, 0, 0, 0, 0, 0, 0, 0, 0, 0, 0, 0, 0, 0, 0, 0, 0, 0, 0, 0, 0, 0, 0, 0, 0, 0, 0, 0, 0, 0, 0, 0, 0, 0, 0, 0, 0, 0, 0, 0, 0, 0, 0, 0, 0, 0, 0, 0, 0, 0, 0, 0, 0, 0, 0, 0, 0, 0, 0, 0, 0, 0, 0, 0, 0, 0, 0, 0, 0, 0, 0, 0, 0, 0, 0, 0, 0, 0, 0, 0, 0, 0, 0, 0, 0, 0, 0, 0, 0, 0, 0, 0, 0, 0, 0, 0, 0, 0, 0, 0, 0, 0, 0, 0, 0, 0, 0, 0, 0, 0, 0, 0, 0, 0, 0, 0, 0, 0, 0, 0, 0, 0, 0, 0, 0, 0, 0, 0, 0, 0, 0, 0, 0, 0, 0, 0, 0, 0, 0, 0, 0, 0, 0, 0, 0, 0, 0, 0, 0, 0, 0, 0, 0, 0, 0, 0, 0, 0, 0, 0, 0, 0, 0, 0, 0, 0, 0, 0, 0, 0, 0, 0, 0, 0, 0, 0, 0, 0, 0, 0, 0, 0, 0, 0, 0, 0, 0, 0, 0, 0, 0, 0, 0, 0, 0, 0, 0, 0, 0, 0, 0, 0, 0, 0, 0, 0, 0, 0, 0, 0, 0, 0, 0, 0, 0, 0, 0, 0, 0, 0, 0, 0, 0, 0, 0, 0, 0, 0, 0, 0, 0, 0, 0, 0, 0, 0, 0, 0, 0, 0, 0, 0, 0, 0, 0, 0, 0, 0, 0, 0, 0, 0, 0, 0, 0, 0, 0, 0, 0, 0, 0, 0, 0, 0, 0, 0, 0, 0, 0, 0, 0, 0, 0, 0, 0, 0, 0, 0, 0, 0, 0, 0, 0, 0, 0, 0, 0, 0, 0, 0, 0, 0, 0, 0, 0, 0, 0, 0, 0, 0, 0, 0, 0, 0, 0, 0, 0, 0, 0, 0, 0, 0, 0, 0, 0, 0, 0, 0, 0, 0, 0, 0, 0, 0, 0, 0, 0, 0, 0, 0, 0, 0, 0, 0, 0, 0, 0, 0, 0, 0, 0, 0, 0, 0, 0, 0, 0, 0, 0, 0, 0, 0, 0, 0, 0, 0, 0, 0, 0, 0, 0, 0, 0, 0, 0, 0, 0, 0, 0, 0, 0, 0, 0, 0, 0, 0, 0, 0, 0, 0, 0, 0, 0, 0, 0, 0, 0, 0, 0, 0, 0, 0, 0, 0, 0, 0, 0, 0, 0, 0, 0, 0, 0, 0, 0, 0, 0, 0, 0, 0, 0, 0, 0, 0, 0, 0, 0, 0, 0, 0, 0, 0, 0, 0, 0, 0, 0, 0, 0, 0, 0, 0, 0, 0, 0, 0, 0, 0, 0, 0, 0, 0, 0, 0, 0, 0, 0, 0, 0, 0, 0, 0, 0, 0, 0, 0, 0, 0, 0, 0, 0, 0, 0, 0, 0, 0, 0, 0, 0, 0, 0, 0, 0, 0, 0, 0, 0, 0, 0, 0, 0, 0, 0, 0, 0, 0, 0, 0, 0, 0, 0, 0, 0, 0, 0, 0, 0, 0, 0, 0, 0, 0, 0, 0, 0, 0, 0, 0, 0, 0, 0, 0, 0, 0, 0, 0, 0, 0, 0, 0, 0, 0, 0, 0, 0, 0, 0, 0, 0, 0, 0, 0, 0, 0, 0, 0, 0, 0, 0, 0, 0, 0, 0, 0, 0, 0, 0, 0, 0, 0, 0, 0, 0, 0, 0, 0, 0, 0, 0, 0, 0, 0, 0, 0, 0, 0, 0, 0, 0, 0, 0, 0, 0, 0, 0, 0, 0, 0, 0, 0, 0, 0, 0, 0, 0, 0, 0, 0, 0, 0, 0, 0, 0, 0, 0, 0, 0, 0, 0, 0, 0, 0, 0, 0, 0, 0, 0, 0, 0, 0, 0, 0, 0, 0, 0, 0, 0, 0, 0, 0, 0, 0, 0, 0, 0, 0, 0, 0, 0, 0, 0, 0, 0, 0, 0, 0, 0, 0, 0, 0, 0, 0, 0, 0, 0, 0, 0, 0, 0, 0, 0, 0, 0, 0, 0, 0, 0, 0, 0, 0, 0, 0, 0, 0, 0, 0, 0, 0, 0, 0, 0, 0, 0, 0, 0, 0, 0, 0, 0, 0, 0, 0, 0, 0, 0, 0, 0, 0, 0, 0, 0, 0, 0, 0, 0, 0, 0, 0, 0, 0, 0, 0, 0, 0, 0, 0, 0, 0, 0, 0, 0, 0, 0, 0, 0, 0, 0, 0, 0, 0, 0, 0, 0, 0, 0, 0, 0, 0, 0, 0, 0, 0, 0, 0, 0, 0, 0, 0, 0, 0, 0, 0, 0, 0, 0, 1, 1, 1, 1, 1, 1, 1, 1, 1, 1, 0, 0, 0, 0, 0, 1, 1, 1, 1, 1, 1, 1, 1, 1, 1, 1, 1, 1, 1, 1, 1, 1, 1, 1, 1, 1, 1, 1, 1, 1, 1, 1, 1, 1, 1, 1, 1, 1, 1, 1, 1, 1, 1, 1, 1, 0, 0, 0, 0, 0, 0, 0, 1, 1, 1, 1, 1, 1, 1, 1, 1, 1, 1, 1, 1, 1, 1, 1, 1, 0, 0, 1, 1, 1, 1, 1, 1, 1, 1, 1, 1, 1, 1, 1, 1, 1, 1, 1, 1, 1, 1, 1, 1, 1, 1, 1, 1, 1, 1, 1, 0, 0, 1, 1, 1, 1, 1, 1, 1, 1, 1, 1, 1, 1, 1, 1, 1, 1, 1, 1, 1, 1, 1, 1, 1, 1, 1, 1, 1, 1, 1, 1, 1, 1, 1, 1, 1, 1, 1, 1, 1, 1, 1, 1, 1, 1, 1, 1, 1, 1, 1, 1, 1, 1, 1, 1, 1, 1, 1, 1, 1, 1, 1, 1, 1, 1, 1, 1, 1, 1, 1, 1, 1, 1, 1, 1]\n"
          ]
        },
        {
          "output_type": "execute_result",
          "data": {
            "text/plain": [
              "     valor_verdadero valor_estimado resultado\n",
              "0                  1              1    acerto\n",
              "1                  1              1    acerto\n",
              "2                  1              1    acerto\n",
              "3                  1              1    acerto\n",
              "4                  1              1    acerto\n",
              "...              ...            ...       ...\n",
              "2660               1              1    acerto\n",
              "2661               1              1    acerto\n",
              "2662               1              1    acerto\n",
              "2663               1              1    acerto\n",
              "2664               1              1    acerto\n",
              "\n",
              "[2665 rows x 3 columns]"
            ],
            "text/html": [
              "\n",
              "  <div id=\"df-82cd1c83-5ad8-47e3-97de-df095aecc700\">\n",
              "    <div class=\"colab-df-container\">\n",
              "      <div>\n",
              "<style scoped>\n",
              "    .dataframe tbody tr th:only-of-type {\n",
              "        vertical-align: middle;\n",
              "    }\n",
              "\n",
              "    .dataframe tbody tr th {\n",
              "        vertical-align: top;\n",
              "    }\n",
              "\n",
              "    .dataframe thead th {\n",
              "        text-align: right;\n",
              "    }\n",
              "</style>\n",
              "<table border=\"1\" class=\"dataframe\">\n",
              "  <thead>\n",
              "    <tr style=\"text-align: right;\">\n",
              "      <th></th>\n",
              "      <th>valor_verdadero</th>\n",
              "      <th>valor_estimado</th>\n",
              "      <th>resultado</th>\n",
              "    </tr>\n",
              "  </thead>\n",
              "  <tbody>\n",
              "    <tr>\n",
              "      <th>0</th>\n",
              "      <td>1</td>\n",
              "      <td>1</td>\n",
              "      <td>acerto</td>\n",
              "    </tr>\n",
              "    <tr>\n",
              "      <th>1</th>\n",
              "      <td>1</td>\n",
              "      <td>1</td>\n",
              "      <td>acerto</td>\n",
              "    </tr>\n",
              "    <tr>\n",
              "      <th>2</th>\n",
              "      <td>1</td>\n",
              "      <td>1</td>\n",
              "      <td>acerto</td>\n",
              "    </tr>\n",
              "    <tr>\n",
              "      <th>3</th>\n",
              "      <td>1</td>\n",
              "      <td>1</td>\n",
              "      <td>acerto</td>\n",
              "    </tr>\n",
              "    <tr>\n",
              "      <th>4</th>\n",
              "      <td>1</td>\n",
              "      <td>1</td>\n",
              "      <td>acerto</td>\n",
              "    </tr>\n",
              "    <tr>\n",
              "      <th>...</th>\n",
              "      <td>...</td>\n",
              "      <td>...</td>\n",
              "      <td>...</td>\n",
              "    </tr>\n",
              "    <tr>\n",
              "      <th>2660</th>\n",
              "      <td>1</td>\n",
              "      <td>1</td>\n",
              "      <td>acerto</td>\n",
              "    </tr>\n",
              "    <tr>\n",
              "      <th>2661</th>\n",
              "      <td>1</td>\n",
              "      <td>1</td>\n",
              "      <td>acerto</td>\n",
              "    </tr>\n",
              "    <tr>\n",
              "      <th>2662</th>\n",
              "      <td>1</td>\n",
              "      <td>1</td>\n",
              "      <td>acerto</td>\n",
              "    </tr>\n",
              "    <tr>\n",
              "      <th>2663</th>\n",
              "      <td>1</td>\n",
              "      <td>1</td>\n",
              "      <td>acerto</td>\n",
              "    </tr>\n",
              "    <tr>\n",
              "      <th>2664</th>\n",
              "      <td>1</td>\n",
              "      <td>1</td>\n",
              "      <td>acerto</td>\n",
              "    </tr>\n",
              "  </tbody>\n",
              "</table>\n",
              "<p>2665 rows × 3 columns</p>\n",
              "</div>\n",
              "      <button class=\"colab-df-convert\" onclick=\"convertToInteractive('df-82cd1c83-5ad8-47e3-97de-df095aecc700')\"\n",
              "              title=\"Convert this dataframe to an interactive table.\"\n",
              "              style=\"display:none;\">\n",
              "        \n",
              "  <svg xmlns=\"http://www.w3.org/2000/svg\" height=\"24px\"viewBox=\"0 0 24 24\"\n",
              "       width=\"24px\">\n",
              "    <path d=\"M0 0h24v24H0V0z\" fill=\"none\"/>\n",
              "    <path d=\"M18.56 5.44l.94 2.06.94-2.06 2.06-.94-2.06-.94-.94-2.06-.94 2.06-2.06.94zm-11 1L8.5 8.5l.94-2.06 2.06-.94-2.06-.94L8.5 2.5l-.94 2.06-2.06.94zm10 10l.94 2.06.94-2.06 2.06-.94-2.06-.94-.94-2.06-.94 2.06-2.06.94z\"/><path d=\"M17.41 7.96l-1.37-1.37c-.4-.4-.92-.59-1.43-.59-.52 0-1.04.2-1.43.59L10.3 9.45l-7.72 7.72c-.78.78-.78 2.05 0 2.83L4 21.41c.39.39.9.59 1.41.59.51 0 1.02-.2 1.41-.59l7.78-7.78 2.81-2.81c.8-.78.8-2.07 0-2.86zM5.41 20L4 18.59l7.72-7.72 1.47 1.35L5.41 20z\"/>\n",
              "  </svg>\n",
              "      </button>\n",
              "      \n",
              "  <style>\n",
              "    .colab-df-container {\n",
              "      display:flex;\n",
              "      flex-wrap:wrap;\n",
              "      gap: 12px;\n",
              "    }\n",
              "\n",
              "    .colab-df-convert {\n",
              "      background-color: #E8F0FE;\n",
              "      border: none;\n",
              "      border-radius: 50%;\n",
              "      cursor: pointer;\n",
              "      display: none;\n",
              "      fill: #1967D2;\n",
              "      height: 32px;\n",
              "      padding: 0 0 0 0;\n",
              "      width: 32px;\n",
              "    }\n",
              "\n",
              "    .colab-df-convert:hover {\n",
              "      background-color: #E2EBFA;\n",
              "      box-shadow: 0px 1px 2px rgba(60, 64, 67, 0.3), 0px 1px 3px 1px rgba(60, 64, 67, 0.15);\n",
              "      fill: #174EA6;\n",
              "    }\n",
              "\n",
              "    [theme=dark] .colab-df-convert {\n",
              "      background-color: #3B4455;\n",
              "      fill: #D2E3FC;\n",
              "    }\n",
              "\n",
              "    [theme=dark] .colab-df-convert:hover {\n",
              "      background-color: #434B5C;\n",
              "      box-shadow: 0px 1px 3px 1px rgba(0, 0, 0, 0.15);\n",
              "      filter: drop-shadow(0px 1px 2px rgba(0, 0, 0, 0.3));\n",
              "      fill: #FFFFFF;\n",
              "    }\n",
              "  </style>\n",
              "\n",
              "      <script>\n",
              "        const buttonEl =\n",
              "          document.querySelector('#df-82cd1c83-5ad8-47e3-97de-df095aecc700 button.colab-df-convert');\n",
              "        buttonEl.style.display =\n",
              "          google.colab.kernel.accessAllowed ? 'block' : 'none';\n",
              "\n",
              "        async function convertToInteractive(key) {\n",
              "          const element = document.querySelector('#df-82cd1c83-5ad8-47e3-97de-df095aecc700');\n",
              "          const dataTable =\n",
              "            await google.colab.kernel.invokeFunction('convertToInteractive',\n",
              "                                                     [key], {});\n",
              "          if (!dataTable) return;\n",
              "\n",
              "          const docLinkHtml = 'Like what you see? Visit the ' +\n",
              "            '<a target=\"_blank\" href=https://colab.research.google.com/notebooks/data_table.ipynb>data table notebook</a>'\n",
              "            + ' to learn more about interactive tables.';\n",
              "          element.innerHTML = '';\n",
              "          dataTable['output_type'] = 'display_data';\n",
              "          await google.colab.output.renderOutput(dataTable, element);\n",
              "          const docLink = document.createElement('div');\n",
              "          docLink.innerHTML = docLinkHtml;\n",
              "          element.appendChild(docLink);\n",
              "        }\n",
              "      </script>\n",
              "    </div>\n",
              "  </div>\n",
              "  "
            ]
          },
          "metadata": {},
          "execution_count": 108
        }
      ]
    },
    {
      "cell_type": "code",
      "source": [
        "metricas_cal(testeo)"
      ],
      "metadata": {
        "colab": {
          "base_uri": "https://localhost:8080/"
        },
        "id": "ZoTtViPwNr8d",
        "outputId": "907b9918-f0ee-4c15-ae15-7d2f58296bb7"
      },
      "execution_count": 109,
      "outputs": [
        {
          "output_type": "stream",
          "name": "stdout",
          "text": [
            "la exactitud del spv es de: 100.0%\n",
            "los valores verdaderos negativos son 63.527% de la población de testeo \n",
            "los valores falsos negativos son 0.0% de la población de testeo \n",
            "los valores falsos positivos son 0.0% de la población de testeo \n",
            "los valores verdaderos positivos son 36.473% de la población de testeo \n"
          ]
        }
      ]
    },
    {
      "cell_type": "code",
      "source": [
        "import graphviz \n",
        "dot_data = tree.export_graphviz(clf, feature_names=a_test11.columns, out_file=None, class_names=clf.classes_,\n",
        "                                filled=True, rounded=True, \n",
        "                                special_characters=True) \n",
        "graph = graphviz.Source(dot_data)\n",
        "graph\n"
      ],
      "metadata": {
        "colab": {
          "base_uri": "https://localhost:8080/",
          "height": 1000
        },
        "id": "fJPqoX_RN0vU",
        "outputId": "5ee2474d-ddbd-4aae-9433-d6d5cbf91bea"
      },
      "execution_count": 111,
      "outputs": [
        {
          "output_type": "execute_result",
          "data": {
            "image/svg+xml": "<?xml version=\"1.0\" encoding=\"UTF-8\" standalone=\"no\"?>\n<!DOCTYPE svg PUBLIC \"-//W3C//DTD SVG 1.1//EN\"\n \"http://www.w3.org/Graphics/SVG/1.1/DTD/svg11.dtd\">\n<!-- Generated by graphviz version 2.43.0 (0)\n -->\n<!-- Title: Tree Pages: 1 -->\n<svg width=\"2324pt\" height=\"1504pt\"\n viewBox=\"0.00 0.00 2323.50 1504.00\" xmlns=\"http://www.w3.org/2000/svg\" xmlns:xlink=\"http://www.w3.org/1999/xlink\">\n<g id=\"graph0\" class=\"graph\" transform=\"scale(1 1) rotate(0) translate(4 1500)\">\n<title>Tree</title>\n<polygon fill=\"white\" stroke=\"transparent\" points=\"-4,4 -4,-1500 2319.5,-1500 2319.5,4 -4,4\"/>\n<!-- 0 -->\n<g id=\"node1\" class=\"node\">\n<title>0</title>\n<path fill=\"#f4c9ab\" stroke=\"black\" d=\"M939,-1496C939,-1496 817,-1496 817,-1496 811,-1496 805,-1490 805,-1484 805,-1484 805,-1425 805,-1425 805,-1419 811,-1413 817,-1413 817,-1413 939,-1413 939,-1413 945,-1413 951,-1419 951,-1425 951,-1425 951,-1484 951,-1484 951,-1490 945,-1496 939,-1496\"/>\n<text text-anchor=\"start\" x=\"831\" y=\"-1480.8\" font-family=\"Helvetica,sans-Serif\" font-size=\"14.00\">Light ≤ 207.183</text>\n<text text-anchor=\"start\" x=\"842.5\" y=\"-1465.8\" font-family=\"Helvetica,sans-Serif\" font-size=\"14.00\">gini = 0.463</text>\n<text text-anchor=\"start\" x=\"829.5\" y=\"-1450.8\" font-family=\"Helvetica,sans-Serif\" font-size=\"14.00\">samples = 2665</text>\n<text text-anchor=\"start\" x=\"820\" y=\"-1435.8\" font-family=\"Helvetica,sans-Serif\" font-size=\"14.00\">value = [1693, 972]</text>\n<text text-anchor=\"start\" x=\"813\" y=\"-1420.8\" font-family=\"Helvetica,sans-Serif\" font-size=\"14.00\">class = No ocupación</text>\n</g>\n<!-- 1 -->\n<g id=\"node2\" class=\"node\">\n<title>1</title>\n<path fill=\"#e58139\" stroke=\"black\" d=\"M858,-1369.5C858,-1369.5 736,-1369.5 736,-1369.5 730,-1369.5 724,-1363.5 724,-1357.5 724,-1357.5 724,-1313.5 724,-1313.5 724,-1307.5 730,-1301.5 736,-1301.5 736,-1301.5 858,-1301.5 858,-1301.5 864,-1301.5 870,-1307.5 870,-1313.5 870,-1313.5 870,-1357.5 870,-1357.5 870,-1363.5 864,-1369.5 858,-1369.5\"/>\n<text text-anchor=\"start\" x=\"769\" y=\"-1354.3\" font-family=\"Helvetica,sans-Serif\" font-size=\"14.00\">gini = 0.0</text>\n<text text-anchor=\"start\" x=\"748.5\" y=\"-1339.3\" font-family=\"Helvetica,sans-Serif\" font-size=\"14.00\">samples = 1637</text>\n<text text-anchor=\"start\" x=\"746.5\" y=\"-1324.3\" font-family=\"Helvetica,sans-Serif\" font-size=\"14.00\">value = [1637, 0]</text>\n<text text-anchor=\"start\" x=\"732\" y=\"-1309.3\" font-family=\"Helvetica,sans-Serif\" font-size=\"14.00\">class = No ocupación</text>\n</g>\n<!-- 0&#45;&gt;1 -->\n<g id=\"edge1\" class=\"edge\">\n<title>0&#45;&gt;1</title>\n<path fill=\"none\" stroke=\"black\" d=\"M849.9,-1412.91C842.11,-1401.65 833.64,-1389.42 825.8,-1378.11\"/>\n<polygon fill=\"black\" stroke=\"black\" points=\"828.53,-1375.9 819.96,-1369.67 822.78,-1379.88 828.53,-1375.9\"/>\n<text text-anchor=\"middle\" x=\"815.49\" y=\"-1390.56\" font-family=\"Helvetica,sans-Serif\" font-size=\"14.00\">True</text>\n</g>\n<!-- 2 -->\n<g id=\"node3\" class=\"node\">\n<title>2</title>\n<path fill=\"#44a3e6\" stroke=\"black\" d=\"M1017.5,-1377C1017.5,-1377 900.5,-1377 900.5,-1377 894.5,-1377 888.5,-1371 888.5,-1365 888.5,-1365 888.5,-1306 888.5,-1306 888.5,-1300 894.5,-1294 900.5,-1294 900.5,-1294 1017.5,-1294 1017.5,-1294 1023.5,-1294 1029.5,-1300 1029.5,-1306 1029.5,-1306 1029.5,-1365 1029.5,-1365 1029.5,-1371 1023.5,-1377 1017.5,-1377\"/>\n<text text-anchor=\"start\" x=\"912\" y=\"-1361.8\" font-family=\"Helvetica,sans-Serif\" font-size=\"14.00\">Light ≤ 428.667</text>\n<text text-anchor=\"start\" x=\"923.5\" y=\"-1346.8\" font-family=\"Helvetica,sans-Serif\" font-size=\"14.00\">gini = 0.103</text>\n<text text-anchor=\"start\" x=\"910.5\" y=\"-1331.8\" font-family=\"Helvetica,sans-Serif\" font-size=\"14.00\">samples = 1028</text>\n<text text-anchor=\"start\" x=\"908.5\" y=\"-1316.8\" font-family=\"Helvetica,sans-Serif\" font-size=\"14.00\">value = [56, 972]</text>\n<text text-anchor=\"start\" x=\"896.5\" y=\"-1301.8\" font-family=\"Helvetica,sans-Serif\" font-size=\"14.00\">class = Sí ocupación</text>\n</g>\n<!-- 0&#45;&gt;2 -->\n<g id=\"edge2\" class=\"edge\">\n<title>0&#45;&gt;2</title>\n<path fill=\"none\" stroke=\"black\" d=\"M906.1,-1412.91C912.26,-1404.01 918.84,-1394.51 925.19,-1385.33\"/>\n<polygon fill=\"black\" stroke=\"black\" points=\"928.13,-1387.24 930.95,-1377.02 922.38,-1383.25 928.13,-1387.24\"/>\n<text text-anchor=\"middle\" x=\"935.42\" y=\"-1397.92\" font-family=\"Helvetica,sans-Serif\" font-size=\"14.00\">False</text>\n</g>\n<!-- 3 -->\n<g id=\"node4\" class=\"node\">\n<title>3</title>\n<path fill=\"#70b8ec\" stroke=\"black\" d=\"M695.5,-1258C695.5,-1258 578.5,-1258 578.5,-1258 572.5,-1258 566.5,-1252 566.5,-1246 566.5,-1246 566.5,-1187 566.5,-1187 566.5,-1181 572.5,-1175 578.5,-1175 578.5,-1175 695.5,-1175 695.5,-1175 701.5,-1175 707.5,-1181 707.5,-1187 707.5,-1187 707.5,-1246 707.5,-1246 707.5,-1252 701.5,-1258 695.5,-1258\"/>\n<text text-anchor=\"start\" x=\"609\" y=\"-1242.8\" font-family=\"Helvetica,sans-Serif\" font-size=\"14.00\">day ≤ 2.5</text>\n<text text-anchor=\"start\" x=\"601.5\" y=\"-1227.8\" font-family=\"Helvetica,sans-Serif\" font-size=\"14.00\">gini = 0.341</text>\n<text text-anchor=\"start\" x=\"592\" y=\"-1212.8\" font-family=\"Helvetica,sans-Serif\" font-size=\"14.00\">samples = 156</text>\n<text text-anchor=\"start\" x=\"586.5\" y=\"-1197.8\" font-family=\"Helvetica,sans-Serif\" font-size=\"14.00\">value = [34, 122]</text>\n<text text-anchor=\"start\" x=\"574.5\" y=\"-1182.8\" font-family=\"Helvetica,sans-Serif\" font-size=\"14.00\">class = Sí ocupación</text>\n</g>\n<!-- 2&#45;&gt;3 -->\n<g id=\"edge3\" class=\"edge\">\n<title>2&#45;&gt;3</title>\n<path fill=\"none\" stroke=\"black\" d=\"M888.18,-1297.9C885.1,-1296.54 882.03,-1295.24 879,-1294 826.23,-1272.47 765.01,-1253.17 717.35,-1239.34\"/>\n<polygon fill=\"black\" stroke=\"black\" points=\"718.28,-1235.96 707.7,-1236.56 716.34,-1242.69 718.28,-1235.96\"/>\n</g>\n<!-- 20 -->\n<g id=\"node21\" class=\"node\">\n<title>20</title>\n<path fill=\"#3ea0e6\" stroke=\"black\" d=\"M1343,-1258C1343,-1258 1217,-1258 1217,-1258 1211,-1258 1205,-1252 1205,-1246 1205,-1246 1205,-1187 1205,-1187 1205,-1181 1211,-1175 1217,-1175 1217,-1175 1343,-1175 1343,-1175 1349,-1175 1355,-1181 1355,-1187 1355,-1187 1355,-1246 1355,-1246 1355,-1252 1349,-1258 1343,-1258\"/>\n<text text-anchor=\"start\" x=\"1213\" y=\"-1242.8\" font-family=\"Helvetica,sans-Serif\" font-size=\"14.00\">HumidityRatio ≤ 0.004</text>\n<text text-anchor=\"start\" x=\"1244.5\" y=\"-1227.8\" font-family=\"Helvetica,sans-Serif\" font-size=\"14.00\">gini = 0.049</text>\n<text text-anchor=\"start\" x=\"1235\" y=\"-1212.8\" font-family=\"Helvetica,sans-Serif\" font-size=\"14.00\">samples = 872</text>\n<text text-anchor=\"start\" x=\"1229.5\" y=\"-1197.8\" font-family=\"Helvetica,sans-Serif\" font-size=\"14.00\">value = [22, 850]</text>\n<text text-anchor=\"start\" x=\"1217.5\" y=\"-1182.8\" font-family=\"Helvetica,sans-Serif\" font-size=\"14.00\">class = Sí ocupación</text>\n</g>\n<!-- 2&#45;&gt;20 -->\n<g id=\"edge20\" class=\"edge\">\n<title>2&#45;&gt;20</title>\n<path fill=\"none\" stroke=\"black\" d=\"M1029.84,-1308.68C1078.68,-1290.88 1143.83,-1267.13 1195.4,-1248.33\"/>\n<polygon fill=\"black\" stroke=\"black\" points=\"1196.67,-1251.6 1204.87,-1244.88 1194.27,-1245.02 1196.67,-1251.6\"/>\n</g>\n<!-- 4 -->\n<g id=\"node5\" class=\"node\">\n<title>4</title>\n<path fill=\"#f6d3ba\" stroke=\"black\" d=\"M296,-1139C296,-1139 174,-1139 174,-1139 168,-1139 162,-1133 162,-1127 162,-1127 162,-1068 162,-1068 162,-1062 168,-1056 174,-1056 174,-1056 296,-1056 296,-1056 302,-1056 308,-1062 308,-1068 308,-1068 308,-1127 308,-1127 308,-1133 302,-1139 296,-1139\"/>\n<text text-anchor=\"start\" x=\"193.5\" y=\"-1123.8\" font-family=\"Helvetica,sans-Serif\" font-size=\"14.00\">minuto ≤ 32.5</text>\n<text text-anchor=\"start\" x=\"199.5\" y=\"-1108.8\" font-family=\"Helvetica,sans-Serif\" font-size=\"14.00\">gini = 0.478</text>\n<text text-anchor=\"start\" x=\"194\" y=\"-1093.8\" font-family=\"Helvetica,sans-Serif\" font-size=\"14.00\">samples = 38</text>\n<text text-anchor=\"start\" x=\"188\" y=\"-1078.8\" font-family=\"Helvetica,sans-Serif\" font-size=\"14.00\">value = [23, 15]</text>\n<text text-anchor=\"start\" x=\"170\" y=\"-1063.8\" font-family=\"Helvetica,sans-Serif\" font-size=\"14.00\">class = No ocupación</text>\n</g>\n<!-- 3&#45;&gt;4 -->\n<g id=\"edge4\" class=\"edge\">\n<title>3&#45;&gt;4</title>\n<path fill=\"none\" stroke=\"black\" d=\"M566.06,-1194.85C496.7,-1174.67 391.15,-1143.95 317.95,-1122.64\"/>\n<polygon fill=\"black\" stroke=\"black\" points=\"318.87,-1119.26 308.29,-1119.83 316.91,-1125.99 318.87,-1119.26\"/>\n</g>\n<!-- 9 -->\n<g id=\"node10\" class=\"node\">\n<title>9</title>\n<path fill=\"#4da7e8\" stroke=\"black\" d=\"M695.5,-1139C695.5,-1139 578.5,-1139 578.5,-1139 572.5,-1139 566.5,-1133 566.5,-1127 566.5,-1127 566.5,-1068 566.5,-1068 566.5,-1062 572.5,-1056 578.5,-1056 578.5,-1056 695.5,-1056 695.5,-1056 701.5,-1056 707.5,-1062 707.5,-1068 707.5,-1068 707.5,-1127 707.5,-1127 707.5,-1133 701.5,-1139 695.5,-1139\"/>\n<text text-anchor=\"start\" x=\"598\" y=\"-1123.8\" font-family=\"Helvetica,sans-Serif\" font-size=\"14.00\">CO2 ≤ 470.6</text>\n<text text-anchor=\"start\" x=\"601.5\" y=\"-1108.8\" font-family=\"Helvetica,sans-Serif\" font-size=\"14.00\">gini = 0.169</text>\n<text text-anchor=\"start\" x=\"592\" y=\"-1093.8\" font-family=\"Helvetica,sans-Serif\" font-size=\"14.00\">samples = 118</text>\n<text text-anchor=\"start\" x=\"586.5\" y=\"-1078.8\" font-family=\"Helvetica,sans-Serif\" font-size=\"14.00\">value = [11, 107]</text>\n<text text-anchor=\"start\" x=\"574.5\" y=\"-1063.8\" font-family=\"Helvetica,sans-Serif\" font-size=\"14.00\">class = Sí ocupación</text>\n</g>\n<!-- 3&#45;&gt;9 -->\n<g id=\"edge9\" class=\"edge\">\n<title>3&#45;&gt;9</title>\n<path fill=\"none\" stroke=\"black\" d=\"M637,-1174.91C637,-1166.65 637,-1157.86 637,-1149.3\"/>\n<polygon fill=\"black\" stroke=\"black\" points=\"640.5,-1149.02 637,-1139.02 633.5,-1149.02 640.5,-1149.02\"/>\n</g>\n<!-- 5 -->\n<g id=\"node6\" class=\"node\">\n<title>5</title>\n<path fill=\"#399de5\" stroke=\"black\" d=\"M131.5,-1012.5C131.5,-1012.5 14.5,-1012.5 14.5,-1012.5 8.5,-1012.5 2.5,-1006.5 2.5,-1000.5 2.5,-1000.5 2.5,-956.5 2.5,-956.5 2.5,-950.5 8.5,-944.5 14.5,-944.5 14.5,-944.5 131.5,-944.5 131.5,-944.5 137.5,-944.5 143.5,-950.5 143.5,-956.5 143.5,-956.5 143.5,-1000.5 143.5,-1000.5 143.5,-1006.5 137.5,-1012.5 131.5,-1012.5\"/>\n<text text-anchor=\"start\" x=\"45\" y=\"-997.3\" font-family=\"Helvetica,sans-Serif\" font-size=\"14.00\">gini = 0.0</text>\n<text text-anchor=\"start\" x=\"32\" y=\"-982.3\" font-family=\"Helvetica,sans-Serif\" font-size=\"14.00\">samples = 11</text>\n<text text-anchor=\"start\" x=\"30\" y=\"-967.3\" font-family=\"Helvetica,sans-Serif\" font-size=\"14.00\">value = [0, 11]</text>\n<text text-anchor=\"start\" x=\"10.5\" y=\"-952.3\" font-family=\"Helvetica,sans-Serif\" font-size=\"14.00\">class = Sí ocupación</text>\n</g>\n<!-- 4&#45;&gt;5 -->\n<g id=\"edge5\" class=\"edge\">\n<title>4&#45;&gt;5</title>\n<path fill=\"none\" stroke=\"black\" d=\"M178.79,-1055.91C162.14,-1043.88 143.94,-1030.73 127.4,-1018.79\"/>\n<polygon fill=\"black\" stroke=\"black\" points=\"129.08,-1015.68 118.92,-1012.67 124.98,-1021.36 129.08,-1015.68\"/>\n</g>\n<!-- 6 -->\n<g id=\"node7\" class=\"node\">\n<title>6</title>\n<path fill=\"#ea975b\" stroke=\"black\" d=\"M296,-1020C296,-1020 174,-1020 174,-1020 168,-1020 162,-1014 162,-1008 162,-1008 162,-949 162,-949 162,-943 168,-937 174,-937 174,-937 296,-937 296,-937 302,-937 308,-943 308,-949 308,-949 308,-1008 308,-1008 308,-1014 302,-1020 296,-1020\"/>\n<text text-anchor=\"start\" x=\"193.5\" y=\"-1004.8\" font-family=\"Helvetica,sans-Serif\" font-size=\"14.00\">minuto ≤ 56.0</text>\n<text text-anchor=\"start\" x=\"199.5\" y=\"-989.8\" font-family=\"Helvetica,sans-Serif\" font-size=\"14.00\">gini = 0.252</text>\n<text text-anchor=\"start\" x=\"194\" y=\"-974.8\" font-family=\"Helvetica,sans-Serif\" font-size=\"14.00\">samples = 27</text>\n<text text-anchor=\"start\" x=\"192\" y=\"-959.8\" font-family=\"Helvetica,sans-Serif\" font-size=\"14.00\">value = [23, 4]</text>\n<text text-anchor=\"start\" x=\"170\" y=\"-944.8\" font-family=\"Helvetica,sans-Serif\" font-size=\"14.00\">class = No ocupación</text>\n</g>\n<!-- 4&#45;&gt;6 -->\n<g id=\"edge6\" class=\"edge\">\n<title>4&#45;&gt;6</title>\n<path fill=\"none\" stroke=\"black\" d=\"M235,-1055.91C235,-1047.65 235,-1038.86 235,-1030.3\"/>\n<polygon fill=\"black\" stroke=\"black\" points=\"238.5,-1030.02 235,-1020.02 231.5,-1030.02 238.5,-1030.02\"/>\n</g>\n<!-- 7 -->\n<g id=\"node8\" class=\"node\">\n<title>7</title>\n<path fill=\"#e58139\" stroke=\"black\" d=\"M134,-893.5C134,-893.5 12,-893.5 12,-893.5 6,-893.5 0,-887.5 0,-881.5 0,-881.5 0,-837.5 0,-837.5 0,-831.5 6,-825.5 12,-825.5 12,-825.5 134,-825.5 134,-825.5 140,-825.5 146,-831.5 146,-837.5 146,-837.5 146,-881.5 146,-881.5 146,-887.5 140,-893.5 134,-893.5\"/>\n<text text-anchor=\"start\" x=\"45\" y=\"-878.3\" font-family=\"Helvetica,sans-Serif\" font-size=\"14.00\">gini = 0.0</text>\n<text text-anchor=\"start\" x=\"32\" y=\"-863.3\" font-family=\"Helvetica,sans-Serif\" font-size=\"14.00\">samples = 23</text>\n<text text-anchor=\"start\" x=\"30\" y=\"-848.3\" font-family=\"Helvetica,sans-Serif\" font-size=\"14.00\">value = [23, 0]</text>\n<text text-anchor=\"start\" x=\"8\" y=\"-833.3\" font-family=\"Helvetica,sans-Serif\" font-size=\"14.00\">class = No ocupación</text>\n</g>\n<!-- 6&#45;&gt;7 -->\n<g id=\"edge7\" class=\"edge\">\n<title>6&#45;&gt;7</title>\n<path fill=\"none\" stroke=\"black\" d=\"M178.79,-936.91C162.14,-924.88 143.94,-911.73 127.4,-899.79\"/>\n<polygon fill=\"black\" stroke=\"black\" points=\"129.08,-896.68 118.92,-893.67 124.98,-902.36 129.08,-896.68\"/>\n</g>\n<!-- 8 -->\n<g id=\"node9\" class=\"node\">\n<title>8</title>\n<path fill=\"#399de5\" stroke=\"black\" d=\"M293.5,-893.5C293.5,-893.5 176.5,-893.5 176.5,-893.5 170.5,-893.5 164.5,-887.5 164.5,-881.5 164.5,-881.5 164.5,-837.5 164.5,-837.5 164.5,-831.5 170.5,-825.5 176.5,-825.5 176.5,-825.5 293.5,-825.5 293.5,-825.5 299.5,-825.5 305.5,-831.5 305.5,-837.5 305.5,-837.5 305.5,-881.5 305.5,-881.5 305.5,-887.5 299.5,-893.5 293.5,-893.5\"/>\n<text text-anchor=\"start\" x=\"207\" y=\"-878.3\" font-family=\"Helvetica,sans-Serif\" font-size=\"14.00\">gini = 0.0</text>\n<text text-anchor=\"start\" x=\"197.5\" y=\"-863.3\" font-family=\"Helvetica,sans-Serif\" font-size=\"14.00\">samples = 4</text>\n<text text-anchor=\"start\" x=\"195.5\" y=\"-848.3\" font-family=\"Helvetica,sans-Serif\" font-size=\"14.00\">value = [0, 4]</text>\n<text text-anchor=\"start\" x=\"172.5\" y=\"-833.3\" font-family=\"Helvetica,sans-Serif\" font-size=\"14.00\">class = Sí ocupación</text>\n</g>\n<!-- 6&#45;&gt;8 -->\n<g id=\"edge8\" class=\"edge\">\n<title>6&#45;&gt;8</title>\n<path fill=\"none\" stroke=\"black\" d=\"M235,-936.91C235,-926.2 235,-914.62 235,-903.78\"/>\n<polygon fill=\"black\" stroke=\"black\" points=\"238.5,-903.67 235,-893.67 231.5,-903.67 238.5,-903.67\"/>\n</g>\n<!-- 10 -->\n<g id=\"node11\" class=\"node\">\n<title>10</title>\n<path fill=\"#f2c09c\" stroke=\"black\" d=\"M615,-1020C615,-1020 493,-1020 493,-1020 487,-1020 481,-1014 481,-1008 481,-1008 481,-949 481,-949 481,-943 487,-937 493,-937 493,-937 615,-937 615,-937 621,-937 627,-943 627,-949 627,-949 627,-1008 627,-1008 627,-1014 621,-1020 615,-1020\"/>\n<text text-anchor=\"start\" x=\"512.5\" y=\"-1004.8\" font-family=\"Helvetica,sans-Serif\" font-size=\"14.00\">minuto ≤ 37.5</text>\n<text text-anchor=\"start\" x=\"518.5\" y=\"-989.8\" font-family=\"Helvetica,sans-Serif\" font-size=\"14.00\">gini = 0.444</text>\n<text text-anchor=\"start\" x=\"516.5\" y=\"-974.8\" font-family=\"Helvetica,sans-Serif\" font-size=\"14.00\">samples = 6</text>\n<text text-anchor=\"start\" x=\"514.5\" y=\"-959.8\" font-family=\"Helvetica,sans-Serif\" font-size=\"14.00\">value = [4, 2]</text>\n<text text-anchor=\"start\" x=\"489\" y=\"-944.8\" font-family=\"Helvetica,sans-Serif\" font-size=\"14.00\">class = No ocupación</text>\n</g>\n<!-- 9&#45;&gt;10 -->\n<g id=\"edge10\" class=\"edge\">\n<title>9&#45;&gt;10</title>\n<path fill=\"none\" stroke=\"black\" d=\"M608.2,-1055.91C601.89,-1047.01 595.15,-1037.51 588.64,-1028.33\"/>\n<polygon fill=\"black\" stroke=\"black\" points=\"591.39,-1026.15 582.75,-1020.02 585.68,-1030.2 591.39,-1026.15\"/>\n</g>\n<!-- 13 -->\n<g id=\"node14\" class=\"node\">\n<title>13</title>\n<path fill=\"#46a4e7\" stroke=\"black\" d=\"M782.5,-1020C782.5,-1020 657.5,-1020 657.5,-1020 651.5,-1020 645.5,-1014 645.5,-1008 645.5,-1008 645.5,-949 645.5,-949 645.5,-943 651.5,-937 657.5,-937 657.5,-937 782.5,-937 782.5,-937 788.5,-937 794.5,-943 794.5,-949 794.5,-949 794.5,-1008 794.5,-1008 794.5,-1014 788.5,-1020 782.5,-1020\"/>\n<text text-anchor=\"start\" x=\"653.5\" y=\"-1004.8\" font-family=\"Helvetica,sans-Serif\" font-size=\"14.00\">Temperature ≤ 22.943</text>\n<text text-anchor=\"start\" x=\"684.5\" y=\"-989.8\" font-family=\"Helvetica,sans-Serif\" font-size=\"14.00\">gini = 0.117</text>\n<text text-anchor=\"start\" x=\"675\" y=\"-974.8\" font-family=\"Helvetica,sans-Serif\" font-size=\"14.00\">samples = 112</text>\n<text text-anchor=\"start\" x=\"673\" y=\"-959.8\" font-family=\"Helvetica,sans-Serif\" font-size=\"14.00\">value = [7, 105]</text>\n<text text-anchor=\"start\" x=\"657.5\" y=\"-944.8\" font-family=\"Helvetica,sans-Serif\" font-size=\"14.00\">class = Sí ocupación</text>\n</g>\n<!-- 9&#45;&gt;13 -->\n<g id=\"edge13\" class=\"edge\">\n<title>9&#45;&gt;13</title>\n<path fill=\"none\" stroke=\"black\" d=\"M665.8,-1055.91C672.11,-1047.01 678.85,-1037.51 685.36,-1028.33\"/>\n<polygon fill=\"black\" stroke=\"black\" points=\"688.32,-1030.2 691.25,-1020.02 682.61,-1026.15 688.32,-1030.2\"/>\n</g>\n<!-- 11 -->\n<g id=\"node12\" class=\"node\">\n<title>11</title>\n<path fill=\"#399de5\" stroke=\"black\" d=\"M452.5,-893.5C452.5,-893.5 335.5,-893.5 335.5,-893.5 329.5,-893.5 323.5,-887.5 323.5,-881.5 323.5,-881.5 323.5,-837.5 323.5,-837.5 323.5,-831.5 329.5,-825.5 335.5,-825.5 335.5,-825.5 452.5,-825.5 452.5,-825.5 458.5,-825.5 464.5,-831.5 464.5,-837.5 464.5,-837.5 464.5,-881.5 464.5,-881.5 464.5,-887.5 458.5,-893.5 452.5,-893.5\"/>\n<text text-anchor=\"start\" x=\"366\" y=\"-878.3\" font-family=\"Helvetica,sans-Serif\" font-size=\"14.00\">gini = 0.0</text>\n<text text-anchor=\"start\" x=\"356.5\" y=\"-863.3\" font-family=\"Helvetica,sans-Serif\" font-size=\"14.00\">samples = 2</text>\n<text text-anchor=\"start\" x=\"354.5\" y=\"-848.3\" font-family=\"Helvetica,sans-Serif\" font-size=\"14.00\">value = [0, 2]</text>\n<text text-anchor=\"start\" x=\"331.5\" y=\"-833.3\" font-family=\"Helvetica,sans-Serif\" font-size=\"14.00\">class = Sí ocupación</text>\n</g>\n<!-- 10&#45;&gt;11 -->\n<g id=\"edge11\" class=\"edge\">\n<title>10&#45;&gt;11</title>\n<path fill=\"none\" stroke=\"black\" d=\"M498.49,-936.91C482.04,-924.88 464.06,-911.73 447.73,-899.79\"/>\n<polygon fill=\"black\" stroke=\"black\" points=\"449.49,-896.74 439.36,-893.67 445.36,-902.39 449.49,-896.74\"/>\n</g>\n<!-- 12 -->\n<g id=\"node13\" class=\"node\">\n<title>12</title>\n<path fill=\"#e58139\" stroke=\"black\" d=\"M617,-893.5C617,-893.5 495,-893.5 495,-893.5 489,-893.5 483,-887.5 483,-881.5 483,-881.5 483,-837.5 483,-837.5 483,-831.5 489,-825.5 495,-825.5 495,-825.5 617,-825.5 617,-825.5 623,-825.5 629,-831.5 629,-837.5 629,-837.5 629,-881.5 629,-881.5 629,-887.5 623,-893.5 617,-893.5\"/>\n<text text-anchor=\"start\" x=\"528\" y=\"-878.3\" font-family=\"Helvetica,sans-Serif\" font-size=\"14.00\">gini = 0.0</text>\n<text text-anchor=\"start\" x=\"518.5\" y=\"-863.3\" font-family=\"Helvetica,sans-Serif\" font-size=\"14.00\">samples = 4</text>\n<text text-anchor=\"start\" x=\"516.5\" y=\"-848.3\" font-family=\"Helvetica,sans-Serif\" font-size=\"14.00\">value = [4, 0]</text>\n<text text-anchor=\"start\" x=\"491\" y=\"-833.3\" font-family=\"Helvetica,sans-Serif\" font-size=\"14.00\">class = No ocupación</text>\n</g>\n<!-- 10&#45;&gt;12 -->\n<g id=\"edge12\" class=\"edge\">\n<title>10&#45;&gt;12</title>\n<path fill=\"none\" stroke=\"black\" d=\"M554.69,-936.91C554.88,-926.2 555.07,-914.62 555.26,-903.78\"/>\n<polygon fill=\"black\" stroke=\"black\" points=\"558.76,-903.73 555.43,-893.67 551.76,-903.61 558.76,-903.73\"/>\n</g>\n<!-- 14 -->\n<g id=\"node15\" class=\"node\">\n<title>14</title>\n<path fill=\"#42a2e6\" stroke=\"black\" d=\"M776.5,-901C776.5,-901 659.5,-901 659.5,-901 653.5,-901 647.5,-895 647.5,-889 647.5,-889 647.5,-830 647.5,-830 647.5,-824 653.5,-818 659.5,-818 659.5,-818 776.5,-818 776.5,-818 782.5,-818 788.5,-824 788.5,-830 788.5,-830 788.5,-889 788.5,-889 788.5,-895 782.5,-901 776.5,-901\"/>\n<text text-anchor=\"start\" x=\"671.5\" y=\"-885.8\" font-family=\"Helvetica,sans-Serif\" font-size=\"14.00\">CO2 ≤ 529.667</text>\n<text text-anchor=\"start\" x=\"682.5\" y=\"-870.8\" font-family=\"Helvetica,sans-Serif\" font-size=\"14.00\">gini = 0.087</text>\n<text text-anchor=\"start\" x=\"673\" y=\"-855.8\" font-family=\"Helvetica,sans-Serif\" font-size=\"14.00\">samples = 110</text>\n<text text-anchor=\"start\" x=\"671\" y=\"-840.8\" font-family=\"Helvetica,sans-Serif\" font-size=\"14.00\">value = [5, 105]</text>\n<text text-anchor=\"start\" x=\"655.5\" y=\"-825.8\" font-family=\"Helvetica,sans-Serif\" font-size=\"14.00\">class = Sí ocupación</text>\n</g>\n<!-- 13&#45;&gt;14 -->\n<g id=\"edge14\" class=\"edge\">\n<title>13&#45;&gt;14</title>\n<path fill=\"none\" stroke=\"black\" d=\"M719.31,-936.91C719.16,-928.56 719.01,-919.67 718.86,-911.02\"/>\n<polygon fill=\"black\" stroke=\"black\" points=\"722.36,-910.96 718.69,-901.02 715.36,-911.08 722.36,-910.96\"/>\n</g>\n<!-- 19 -->\n<g id=\"node20\" class=\"node\">\n<title>19</title>\n<path fill=\"#e58139\" stroke=\"black\" d=\"M941,-893.5C941,-893.5 819,-893.5 819,-893.5 813,-893.5 807,-887.5 807,-881.5 807,-881.5 807,-837.5 807,-837.5 807,-831.5 813,-825.5 819,-825.5 819,-825.5 941,-825.5 941,-825.5 947,-825.5 953,-831.5 953,-837.5 953,-837.5 953,-881.5 953,-881.5 953,-887.5 947,-893.5 941,-893.5\"/>\n<text text-anchor=\"start\" x=\"852\" y=\"-878.3\" font-family=\"Helvetica,sans-Serif\" font-size=\"14.00\">gini = 0.0</text>\n<text text-anchor=\"start\" x=\"842.5\" y=\"-863.3\" font-family=\"Helvetica,sans-Serif\" font-size=\"14.00\">samples = 2</text>\n<text text-anchor=\"start\" x=\"840.5\" y=\"-848.3\" font-family=\"Helvetica,sans-Serif\" font-size=\"14.00\">value = [2, 0]</text>\n<text text-anchor=\"start\" x=\"815\" y=\"-833.3\" font-family=\"Helvetica,sans-Serif\" font-size=\"14.00\">class = No ocupación</text>\n</g>\n<!-- 13&#45;&gt;19 -->\n<g id=\"edge19\" class=\"edge\">\n<title>13&#45;&gt;19</title>\n<path fill=\"none\" stroke=\"black\" d=\"M775.51,-936.91C791.96,-924.88 809.94,-911.73 826.27,-899.79\"/>\n<polygon fill=\"black\" stroke=\"black\" points=\"828.64,-902.39 834.64,-893.67 824.51,-896.74 828.64,-902.39\"/>\n</g>\n<!-- 15 -->\n<g id=\"node16\" class=\"node\">\n<title>15</title>\n<path fill=\"#66b3eb\" stroke=\"black\" d=\"M699,-782C699,-782 573,-782 573,-782 567,-782 561,-776 561,-770 561,-770 561,-711 561,-711 561,-705 567,-699 573,-699 573,-699 699,-699 699,-699 705,-699 711,-705 711,-711 711,-711 711,-770 711,-770 711,-776 705,-782 699,-782\"/>\n<text text-anchor=\"start\" x=\"569\" y=\"-766.8\" font-family=\"Helvetica,sans-Serif\" font-size=\"14.00\">HumidityRatio ≤ 0.004</text>\n<text text-anchor=\"start\" x=\"600.5\" y=\"-751.8\" font-family=\"Helvetica,sans-Serif\" font-size=\"14.00\">gini = 0.302</text>\n<text text-anchor=\"start\" x=\"595\" y=\"-736.8\" font-family=\"Helvetica,sans-Serif\" font-size=\"14.00\">samples = 27</text>\n<text text-anchor=\"start\" x=\"593\" y=\"-721.8\" font-family=\"Helvetica,sans-Serif\" font-size=\"14.00\">value = [5, 22]</text>\n<text text-anchor=\"start\" x=\"573.5\" y=\"-706.8\" font-family=\"Helvetica,sans-Serif\" font-size=\"14.00\">class = Sí ocupación</text>\n</g>\n<!-- 14&#45;&gt;15 -->\n<g id=\"edge15\" class=\"edge\">\n<title>14&#45;&gt;15</title>\n<path fill=\"none\" stroke=\"black\" d=\"M689.55,-817.91C683.32,-809.01 676.66,-799.51 670.22,-790.33\"/>\n<polygon fill=\"black\" stroke=\"black\" points=\"673,-788.2 664.4,-782.02 667.27,-792.22 673,-788.2\"/>\n</g>\n<!-- 18 -->\n<g id=\"node19\" class=\"node\">\n<title>18</title>\n<path fill=\"#399de5\" stroke=\"black\" d=\"M858.5,-774.5C858.5,-774.5 741.5,-774.5 741.5,-774.5 735.5,-774.5 729.5,-768.5 729.5,-762.5 729.5,-762.5 729.5,-718.5 729.5,-718.5 729.5,-712.5 735.5,-706.5 741.5,-706.5 741.5,-706.5 858.5,-706.5 858.5,-706.5 864.5,-706.5 870.5,-712.5 870.5,-718.5 870.5,-718.5 870.5,-762.5 870.5,-762.5 870.5,-768.5 864.5,-774.5 858.5,-774.5\"/>\n<text text-anchor=\"start\" x=\"772\" y=\"-759.3\" font-family=\"Helvetica,sans-Serif\" font-size=\"14.00\">gini = 0.0</text>\n<text text-anchor=\"start\" x=\"759\" y=\"-744.3\" font-family=\"Helvetica,sans-Serif\" font-size=\"14.00\">samples = 83</text>\n<text text-anchor=\"start\" x=\"757\" y=\"-729.3\" font-family=\"Helvetica,sans-Serif\" font-size=\"14.00\">value = [0, 83]</text>\n<text text-anchor=\"start\" x=\"737.5\" y=\"-714.3\" font-family=\"Helvetica,sans-Serif\" font-size=\"14.00\">class = Sí ocupación</text>\n</g>\n<!-- 14&#45;&gt;18 -->\n<g id=\"edge18\" class=\"edge\">\n<title>14&#45;&gt;18</title>\n<path fill=\"none\" stroke=\"black\" d=\"M746.45,-817.91C754.34,-806.65 762.91,-794.42 770.84,-783.11\"/>\n<polygon fill=\"black\" stroke=\"black\" points=\"773.88,-784.86 776.75,-774.67 768.15,-780.85 773.88,-784.86\"/>\n</g>\n<!-- 16 -->\n<g id=\"node17\" class=\"node\">\n<title>16</title>\n<path fill=\"#399de5\" stroke=\"black\" d=\"M613.5,-655.5C613.5,-655.5 496.5,-655.5 496.5,-655.5 490.5,-655.5 484.5,-649.5 484.5,-643.5 484.5,-643.5 484.5,-599.5 484.5,-599.5 484.5,-593.5 490.5,-587.5 496.5,-587.5 496.5,-587.5 613.5,-587.5 613.5,-587.5 619.5,-587.5 625.5,-593.5 625.5,-599.5 625.5,-599.5 625.5,-643.5 625.5,-643.5 625.5,-649.5 619.5,-655.5 613.5,-655.5\"/>\n<text text-anchor=\"start\" x=\"527\" y=\"-640.3\" font-family=\"Helvetica,sans-Serif\" font-size=\"14.00\">gini = 0.0</text>\n<text text-anchor=\"start\" x=\"514\" y=\"-625.3\" font-family=\"Helvetica,sans-Serif\" font-size=\"14.00\">samples = 22</text>\n<text text-anchor=\"start\" x=\"512\" y=\"-610.3\" font-family=\"Helvetica,sans-Serif\" font-size=\"14.00\">value = [0, 22]</text>\n<text text-anchor=\"start\" x=\"492.5\" y=\"-595.3\" font-family=\"Helvetica,sans-Serif\" font-size=\"14.00\">class = Sí ocupación</text>\n</g>\n<!-- 15&#45;&gt;16 -->\n<g id=\"edge16\" class=\"edge\">\n<title>15&#45;&gt;16</title>\n<path fill=\"none\" stroke=\"black\" d=\"M607.9,-698.91C600.11,-687.65 591.64,-675.42 583.8,-664.11\"/>\n<polygon fill=\"black\" stroke=\"black\" points=\"586.53,-661.9 577.96,-655.67 580.78,-665.88 586.53,-661.9\"/>\n</g>\n<!-- 17 -->\n<g id=\"node18\" class=\"node\">\n<title>17</title>\n<path fill=\"#e58139\" stroke=\"black\" d=\"M778,-655.5C778,-655.5 656,-655.5 656,-655.5 650,-655.5 644,-649.5 644,-643.5 644,-643.5 644,-599.5 644,-599.5 644,-593.5 650,-587.5 656,-587.5 656,-587.5 778,-587.5 778,-587.5 784,-587.5 790,-593.5 790,-599.5 790,-599.5 790,-643.5 790,-643.5 790,-649.5 784,-655.5 778,-655.5\"/>\n<text text-anchor=\"start\" x=\"689\" y=\"-640.3\" font-family=\"Helvetica,sans-Serif\" font-size=\"14.00\">gini = 0.0</text>\n<text text-anchor=\"start\" x=\"679.5\" y=\"-625.3\" font-family=\"Helvetica,sans-Serif\" font-size=\"14.00\">samples = 5</text>\n<text text-anchor=\"start\" x=\"677.5\" y=\"-610.3\" font-family=\"Helvetica,sans-Serif\" font-size=\"14.00\">value = [5, 0]</text>\n<text text-anchor=\"start\" x=\"652\" y=\"-595.3\" font-family=\"Helvetica,sans-Serif\" font-size=\"14.00\">class = No ocupación</text>\n</g>\n<!-- 15&#45;&gt;17 -->\n<g id=\"edge17\" class=\"edge\">\n<title>15&#45;&gt;17</title>\n<path fill=\"none\" stroke=\"black\" d=\"M664.1,-698.91C671.89,-687.65 680.36,-675.42 688.2,-664.11\"/>\n<polygon fill=\"black\" stroke=\"black\" points=\"691.22,-665.88 694.04,-655.67 685.47,-661.9 691.22,-665.88\"/>\n</g>\n<!-- 21 -->\n<g id=\"node22\" class=\"node\">\n<title>21</title>\n<path fill=\"#53aae8\" stroke=\"black\" d=\"M1338.5,-1139C1338.5,-1139 1221.5,-1139 1221.5,-1139 1215.5,-1139 1209.5,-1133 1209.5,-1127 1209.5,-1127 1209.5,-1068 1209.5,-1068 1209.5,-1062 1215.5,-1056 1221.5,-1056 1221.5,-1056 1338.5,-1056 1338.5,-1056 1344.5,-1056 1350.5,-1062 1350.5,-1068 1350.5,-1068 1350.5,-1127 1350.5,-1127 1350.5,-1133 1344.5,-1139 1338.5,-1139\"/>\n<text text-anchor=\"start\" x=\"1225\" y=\"-1123.8\" font-family=\"Helvetica,sans-Serif\" font-size=\"14.00\">Humidity ≤ 25.283</text>\n<text text-anchor=\"start\" x=\"1244.5\" y=\"-1108.8\" font-family=\"Helvetica,sans-Serif\" font-size=\"14.00\">gini = 0.205</text>\n<text text-anchor=\"start\" x=\"1239\" y=\"-1093.8\" font-family=\"Helvetica,sans-Serif\" font-size=\"14.00\">samples = 95</text>\n<text text-anchor=\"start\" x=\"1233\" y=\"-1078.8\" font-family=\"Helvetica,sans-Serif\" font-size=\"14.00\">value = [11, 84]</text>\n<text text-anchor=\"start\" x=\"1217.5\" y=\"-1063.8\" font-family=\"Helvetica,sans-Serif\" font-size=\"14.00\">class = Sí ocupación</text>\n</g>\n<!-- 20&#45;&gt;21 -->\n<g id=\"edge21\" class=\"edge\">\n<title>20&#45;&gt;21</title>\n<path fill=\"none\" stroke=\"black\" d=\"M1280,-1174.91C1280,-1166.65 1280,-1157.86 1280,-1149.3\"/>\n<polygon fill=\"black\" stroke=\"black\" points=\"1283.5,-1149.02 1280,-1139.02 1276.5,-1149.02 1283.5,-1149.02\"/>\n</g>\n<!-- 30 -->\n<g id=\"node31\" class=\"node\">\n<title>30</title>\n<path fill=\"#3c9ee5\" stroke=\"black\" d=\"M1821.5,-1139C1821.5,-1139 1704.5,-1139 1704.5,-1139 1698.5,-1139 1692.5,-1133 1692.5,-1127 1692.5,-1127 1692.5,-1068 1692.5,-1068 1692.5,-1062 1698.5,-1056 1704.5,-1056 1704.5,-1056 1821.5,-1056 1821.5,-1056 1827.5,-1056 1833.5,-1062 1833.5,-1068 1833.5,-1068 1833.5,-1127 1833.5,-1127 1833.5,-1133 1827.5,-1139 1821.5,-1139\"/>\n<text text-anchor=\"start\" x=\"1716\" y=\"-1123.8\" font-family=\"Helvetica,sans-Serif\" font-size=\"14.00\">Light ≤ 557.167</text>\n<text text-anchor=\"start\" x=\"1727.5\" y=\"-1108.8\" font-family=\"Helvetica,sans-Serif\" font-size=\"14.00\">gini = 0.028</text>\n<text text-anchor=\"start\" x=\"1718\" y=\"-1093.8\" font-family=\"Helvetica,sans-Serif\" font-size=\"14.00\">samples = 777</text>\n<text text-anchor=\"start\" x=\"1712.5\" y=\"-1078.8\" font-family=\"Helvetica,sans-Serif\" font-size=\"14.00\">value = [11, 766]</text>\n<text text-anchor=\"start\" x=\"1700.5\" y=\"-1063.8\" font-family=\"Helvetica,sans-Serif\" font-size=\"14.00\">class = Sí ocupación</text>\n</g>\n<!-- 20&#45;&gt;30 -->\n<g id=\"edge30\" class=\"edge\">\n<title>20&#45;&gt;30</title>\n<path fill=\"none\" stroke=\"black\" d=\"M1355.2,-1197.28C1444.1,-1175.75 1591.45,-1140.06 1682.57,-1117.98\"/>\n<polygon fill=\"black\" stroke=\"black\" points=\"1683.4,-1121.38 1692.3,-1115.63 1681.75,-1114.58 1683.4,-1121.38\"/>\n</g>\n<!-- 22 -->\n<g id=\"node23\" class=\"node\">\n<title>22</title>\n<path fill=\"#3fa0e6\" stroke=\"black\" d=\"M1259.5,-1020C1259.5,-1020 1142.5,-1020 1142.5,-1020 1136.5,-1020 1130.5,-1014 1130.5,-1008 1130.5,-1008 1130.5,-949 1130.5,-949 1130.5,-943 1136.5,-937 1142.5,-937 1142.5,-937 1259.5,-937 1259.5,-937 1265.5,-937 1271.5,-943 1271.5,-949 1271.5,-949 1271.5,-1008 1271.5,-1008 1271.5,-1014 1265.5,-1020 1259.5,-1020\"/>\n<text text-anchor=\"start\" x=\"1158.5\" y=\"-1004.8\" font-family=\"Helvetica,sans-Serif\" font-size=\"14.00\">CO2 ≤ 745.25</text>\n<text text-anchor=\"start\" x=\"1165.5\" y=\"-989.8\" font-family=\"Helvetica,sans-Serif\" font-size=\"14.00\">gini = 0.053</text>\n<text text-anchor=\"start\" x=\"1160\" y=\"-974.8\" font-family=\"Helvetica,sans-Serif\" font-size=\"14.00\">samples = 73</text>\n<text text-anchor=\"start\" x=\"1158\" y=\"-959.8\" font-family=\"Helvetica,sans-Serif\" font-size=\"14.00\">value = [2, 71]</text>\n<text text-anchor=\"start\" x=\"1138.5\" y=\"-944.8\" font-family=\"Helvetica,sans-Serif\" font-size=\"14.00\">class = Sí ocupación</text>\n</g>\n<!-- 21&#45;&gt;22 -->\n<g id=\"edge22\" class=\"edge\">\n<title>21&#45;&gt;22</title>\n<path fill=\"none\" stroke=\"black\" d=\"M1252.59,-1055.91C1246.59,-1047.01 1240.17,-1037.51 1233.97,-1028.33\"/>\n<polygon fill=\"black\" stroke=\"black\" points=\"1236.86,-1026.35 1228.36,-1020.02 1231.06,-1030.27 1236.86,-1026.35\"/>\n</g>\n<!-- 27 -->\n<g id=\"node28\" class=\"node\">\n<title>27</title>\n<path fill=\"#c2e1f7\" stroke=\"black\" d=\"M1418.5,-1020C1418.5,-1020 1301.5,-1020 1301.5,-1020 1295.5,-1020 1289.5,-1014 1289.5,-1008 1289.5,-1008 1289.5,-949 1289.5,-949 1289.5,-943 1295.5,-937 1301.5,-937 1301.5,-937 1418.5,-937 1418.5,-937 1424.5,-937 1430.5,-943 1430.5,-949 1430.5,-949 1430.5,-1008 1430.5,-1008 1430.5,-1014 1424.5,-1020 1418.5,-1020\"/>\n<text text-anchor=\"start\" x=\"1318.5\" y=\"-1004.8\" font-family=\"Helvetica,sans-Serif\" font-size=\"14.00\">minuto ≤ 31.5</text>\n<text text-anchor=\"start\" x=\"1324.5\" y=\"-989.8\" font-family=\"Helvetica,sans-Serif\" font-size=\"14.00\">gini = 0.483</text>\n<text text-anchor=\"start\" x=\"1319\" y=\"-974.8\" font-family=\"Helvetica,sans-Serif\" font-size=\"14.00\">samples = 22</text>\n<text text-anchor=\"start\" x=\"1317\" y=\"-959.8\" font-family=\"Helvetica,sans-Serif\" font-size=\"14.00\">value = [9, 13]</text>\n<text text-anchor=\"start\" x=\"1297.5\" y=\"-944.8\" font-family=\"Helvetica,sans-Serif\" font-size=\"14.00\">class = Sí ocupación</text>\n</g>\n<!-- 21&#45;&gt;27 -->\n<g id=\"edge27\" class=\"edge\">\n<title>21&#45;&gt;27</title>\n<path fill=\"none\" stroke=\"black\" d=\"M1307.76,-1055.91C1313.84,-1047.01 1320.34,-1037.51 1326.61,-1028.33\"/>\n<polygon fill=\"black\" stroke=\"black\" points=\"1329.54,-1030.25 1332.29,-1020.02 1323.76,-1026.3 1329.54,-1030.25\"/>\n</g>\n<!-- 23 -->\n<g id=\"node24\" class=\"node\">\n<title>23</title>\n<path fill=\"#399de5\" stroke=\"black\" d=\"M1100.5,-893.5C1100.5,-893.5 983.5,-893.5 983.5,-893.5 977.5,-893.5 971.5,-887.5 971.5,-881.5 971.5,-881.5 971.5,-837.5 971.5,-837.5 971.5,-831.5 977.5,-825.5 983.5,-825.5 983.5,-825.5 1100.5,-825.5 1100.5,-825.5 1106.5,-825.5 1112.5,-831.5 1112.5,-837.5 1112.5,-837.5 1112.5,-881.5 1112.5,-881.5 1112.5,-887.5 1106.5,-893.5 1100.5,-893.5\"/>\n<text text-anchor=\"start\" x=\"1014\" y=\"-878.3\" font-family=\"Helvetica,sans-Serif\" font-size=\"14.00\">gini = 0.0</text>\n<text text-anchor=\"start\" x=\"1001\" y=\"-863.3\" font-family=\"Helvetica,sans-Serif\" font-size=\"14.00\">samples = 62</text>\n<text text-anchor=\"start\" x=\"999\" y=\"-848.3\" font-family=\"Helvetica,sans-Serif\" font-size=\"14.00\">value = [0, 62]</text>\n<text text-anchor=\"start\" x=\"979.5\" y=\"-833.3\" font-family=\"Helvetica,sans-Serif\" font-size=\"14.00\">class = Sí ocupación</text>\n</g>\n<!-- 22&#45;&gt;23 -->\n<g id=\"edge23\" class=\"edge\">\n<title>22&#45;&gt;23</title>\n<path fill=\"none\" stroke=\"black\" d=\"M1145.84,-936.91C1129.49,-924.88 1111.63,-911.73 1095.4,-899.79\"/>\n<polygon fill=\"black\" stroke=\"black\" points=\"1097.2,-896.77 1087.07,-893.67 1093.05,-902.41 1097.2,-896.77\"/>\n</g>\n<!-- 24 -->\n<g id=\"node25\" class=\"node\">\n<title>24</title>\n<path fill=\"#65b3eb\" stroke=\"black\" d=\"M1259.5,-901C1259.5,-901 1142.5,-901 1142.5,-901 1136.5,-901 1130.5,-895 1130.5,-889 1130.5,-889 1130.5,-830 1130.5,-830 1130.5,-824 1136.5,-818 1142.5,-818 1142.5,-818 1259.5,-818 1259.5,-818 1265.5,-818 1271.5,-824 1271.5,-830 1271.5,-830 1271.5,-889 1271.5,-889 1271.5,-895 1265.5,-901 1259.5,-901\"/>\n<text text-anchor=\"start\" x=\"1146\" y=\"-885.8\" font-family=\"Helvetica,sans-Serif\" font-size=\"14.00\">Humidity ≤ 24.874</text>\n<text text-anchor=\"start\" x=\"1165.5\" y=\"-870.8\" font-family=\"Helvetica,sans-Serif\" font-size=\"14.00\">gini = 0.298</text>\n<text text-anchor=\"start\" x=\"1160\" y=\"-855.8\" font-family=\"Helvetica,sans-Serif\" font-size=\"14.00\">samples = 11</text>\n<text text-anchor=\"start\" x=\"1161.5\" y=\"-840.8\" font-family=\"Helvetica,sans-Serif\" font-size=\"14.00\">value = [2, 9]</text>\n<text text-anchor=\"start\" x=\"1138.5\" y=\"-825.8\" font-family=\"Helvetica,sans-Serif\" font-size=\"14.00\">class = Sí ocupación</text>\n</g>\n<!-- 22&#45;&gt;24 -->\n<g id=\"edge24\" class=\"edge\">\n<title>22&#45;&gt;24</title>\n<path fill=\"none\" stroke=\"black\" d=\"M1201,-936.91C1201,-928.65 1201,-919.86 1201,-911.3\"/>\n<polygon fill=\"black\" stroke=\"black\" points=\"1204.5,-911.02 1201,-901.02 1197.5,-911.02 1204.5,-911.02\"/>\n</g>\n<!-- 25 -->\n<g id=\"node26\" class=\"node\">\n<title>25</title>\n<path fill=\"#e58139\" stroke=\"black\" d=\"M1181,-774.5C1181,-774.5 1059,-774.5 1059,-774.5 1053,-774.5 1047,-768.5 1047,-762.5 1047,-762.5 1047,-718.5 1047,-718.5 1047,-712.5 1053,-706.5 1059,-706.5 1059,-706.5 1181,-706.5 1181,-706.5 1187,-706.5 1193,-712.5 1193,-718.5 1193,-718.5 1193,-762.5 1193,-762.5 1193,-768.5 1187,-774.5 1181,-774.5\"/>\n<text text-anchor=\"start\" x=\"1092\" y=\"-759.3\" font-family=\"Helvetica,sans-Serif\" font-size=\"14.00\">gini = 0.0</text>\n<text text-anchor=\"start\" x=\"1082.5\" y=\"-744.3\" font-family=\"Helvetica,sans-Serif\" font-size=\"14.00\">samples = 2</text>\n<text text-anchor=\"start\" x=\"1080.5\" y=\"-729.3\" font-family=\"Helvetica,sans-Serif\" font-size=\"14.00\">value = [2, 0]</text>\n<text text-anchor=\"start\" x=\"1055\" y=\"-714.3\" font-family=\"Helvetica,sans-Serif\" font-size=\"14.00\">class = No ocupación</text>\n</g>\n<!-- 24&#45;&gt;25 -->\n<g id=\"edge25\" class=\"edge\">\n<title>24&#45;&gt;25</title>\n<path fill=\"none\" stroke=\"black\" d=\"M1172.9,-817.91C1165.11,-806.65 1156.64,-794.42 1148.8,-783.11\"/>\n<polygon fill=\"black\" stroke=\"black\" points=\"1151.53,-780.9 1142.96,-774.67 1145.78,-784.88 1151.53,-780.9\"/>\n</g>\n<!-- 26 -->\n<g id=\"node27\" class=\"node\">\n<title>26</title>\n<path fill=\"#399de5\" stroke=\"black\" d=\"M1340.5,-774.5C1340.5,-774.5 1223.5,-774.5 1223.5,-774.5 1217.5,-774.5 1211.5,-768.5 1211.5,-762.5 1211.5,-762.5 1211.5,-718.5 1211.5,-718.5 1211.5,-712.5 1217.5,-706.5 1223.5,-706.5 1223.5,-706.5 1340.5,-706.5 1340.5,-706.5 1346.5,-706.5 1352.5,-712.5 1352.5,-718.5 1352.5,-718.5 1352.5,-762.5 1352.5,-762.5 1352.5,-768.5 1346.5,-774.5 1340.5,-774.5\"/>\n<text text-anchor=\"start\" x=\"1254\" y=\"-759.3\" font-family=\"Helvetica,sans-Serif\" font-size=\"14.00\">gini = 0.0</text>\n<text text-anchor=\"start\" x=\"1244.5\" y=\"-744.3\" font-family=\"Helvetica,sans-Serif\" font-size=\"14.00\">samples = 9</text>\n<text text-anchor=\"start\" x=\"1242.5\" y=\"-729.3\" font-family=\"Helvetica,sans-Serif\" font-size=\"14.00\">value = [0, 9]</text>\n<text text-anchor=\"start\" x=\"1219.5\" y=\"-714.3\" font-family=\"Helvetica,sans-Serif\" font-size=\"14.00\">class = Sí ocupación</text>\n</g>\n<!-- 24&#45;&gt;26 -->\n<g id=\"edge26\" class=\"edge\">\n<title>24&#45;&gt;26</title>\n<path fill=\"none\" stroke=\"black\" d=\"M1229.1,-817.91C1236.89,-806.65 1245.36,-794.42 1253.2,-783.11\"/>\n<polygon fill=\"black\" stroke=\"black\" points=\"1256.22,-784.88 1259.04,-774.67 1250.47,-780.9 1256.22,-784.88\"/>\n</g>\n<!-- 28 -->\n<g id=\"node29\" class=\"node\">\n<title>28</title>\n<path fill=\"#399de5\" stroke=\"black\" d=\"M1418.5,-893.5C1418.5,-893.5 1301.5,-893.5 1301.5,-893.5 1295.5,-893.5 1289.5,-887.5 1289.5,-881.5 1289.5,-881.5 1289.5,-837.5 1289.5,-837.5 1289.5,-831.5 1295.5,-825.5 1301.5,-825.5 1301.5,-825.5 1418.5,-825.5 1418.5,-825.5 1424.5,-825.5 1430.5,-831.5 1430.5,-837.5 1430.5,-837.5 1430.5,-881.5 1430.5,-881.5 1430.5,-887.5 1424.5,-893.5 1418.5,-893.5\"/>\n<text text-anchor=\"start\" x=\"1332\" y=\"-878.3\" font-family=\"Helvetica,sans-Serif\" font-size=\"14.00\">gini = 0.0</text>\n<text text-anchor=\"start\" x=\"1319\" y=\"-863.3\" font-family=\"Helvetica,sans-Serif\" font-size=\"14.00\">samples = 13</text>\n<text text-anchor=\"start\" x=\"1317\" y=\"-848.3\" font-family=\"Helvetica,sans-Serif\" font-size=\"14.00\">value = [0, 13]</text>\n<text text-anchor=\"start\" x=\"1297.5\" y=\"-833.3\" font-family=\"Helvetica,sans-Serif\" font-size=\"14.00\">class = Sí ocupación</text>\n</g>\n<!-- 27&#45;&gt;28 -->\n<g id=\"edge28\" class=\"edge\">\n<title>27&#45;&gt;28</title>\n<path fill=\"none\" stroke=\"black\" d=\"M1360,-936.91C1360,-926.2 1360,-914.62 1360,-903.78\"/>\n<polygon fill=\"black\" stroke=\"black\" points=\"1363.5,-903.67 1360,-893.67 1356.5,-903.67 1363.5,-903.67\"/>\n</g>\n<!-- 29 -->\n<g id=\"node30\" class=\"node\">\n<title>29</title>\n<path fill=\"#e58139\" stroke=\"black\" d=\"M1583,-893.5C1583,-893.5 1461,-893.5 1461,-893.5 1455,-893.5 1449,-887.5 1449,-881.5 1449,-881.5 1449,-837.5 1449,-837.5 1449,-831.5 1455,-825.5 1461,-825.5 1461,-825.5 1583,-825.5 1583,-825.5 1589,-825.5 1595,-831.5 1595,-837.5 1595,-837.5 1595,-881.5 1595,-881.5 1595,-887.5 1589,-893.5 1583,-893.5\"/>\n<text text-anchor=\"start\" x=\"1494\" y=\"-878.3\" font-family=\"Helvetica,sans-Serif\" font-size=\"14.00\">gini = 0.0</text>\n<text text-anchor=\"start\" x=\"1484.5\" y=\"-863.3\" font-family=\"Helvetica,sans-Serif\" font-size=\"14.00\">samples = 9</text>\n<text text-anchor=\"start\" x=\"1482.5\" y=\"-848.3\" font-family=\"Helvetica,sans-Serif\" font-size=\"14.00\">value = [9, 0]</text>\n<text text-anchor=\"start\" x=\"1457\" y=\"-833.3\" font-family=\"Helvetica,sans-Serif\" font-size=\"14.00\">class = No ocupación</text>\n</g>\n<!-- 27&#45;&gt;29 -->\n<g id=\"edge29\" class=\"edge\">\n<title>27&#45;&gt;29</title>\n<path fill=\"none\" stroke=\"black\" d=\"M1416.21,-936.91C1432.86,-924.88 1451.06,-911.73 1467.6,-899.79\"/>\n<polygon fill=\"black\" stroke=\"black\" points=\"1470.02,-902.36 1476.08,-893.67 1465.92,-896.68 1470.02,-902.36\"/>\n</g>\n<!-- 31 -->\n<g id=\"node32\" class=\"node\">\n<title>31</title>\n<path fill=\"#399de5\" stroke=\"black\" d=\"M1821.5,-1020C1821.5,-1020 1704.5,-1020 1704.5,-1020 1698.5,-1020 1692.5,-1014 1692.5,-1008 1692.5,-1008 1692.5,-949 1692.5,-949 1692.5,-943 1698.5,-937 1704.5,-937 1704.5,-937 1821.5,-937 1821.5,-937 1827.5,-937 1833.5,-943 1833.5,-949 1833.5,-949 1833.5,-1008 1833.5,-1008 1833.5,-1014 1827.5,-1020 1821.5,-1020\"/>\n<text text-anchor=\"start\" x=\"1716\" y=\"-1004.8\" font-family=\"Helvetica,sans-Serif\" font-size=\"14.00\">Light ≤ 535.357</text>\n<text text-anchor=\"start\" x=\"1727.5\" y=\"-989.8\" font-family=\"Helvetica,sans-Serif\" font-size=\"14.00\">gini = 0.003</text>\n<text text-anchor=\"start\" x=\"1718\" y=\"-974.8\" font-family=\"Helvetica,sans-Serif\" font-size=\"14.00\">samples = 582</text>\n<text text-anchor=\"start\" x=\"1716\" y=\"-959.8\" font-family=\"Helvetica,sans-Serif\" font-size=\"14.00\">value = [1, 581]</text>\n<text text-anchor=\"start\" x=\"1700.5\" y=\"-944.8\" font-family=\"Helvetica,sans-Serif\" font-size=\"14.00\">class = Sí ocupación</text>\n</g>\n<!-- 30&#45;&gt;31 -->\n<g id=\"edge31\" class=\"edge\">\n<title>30&#45;&gt;31</title>\n<path fill=\"none\" stroke=\"black\" d=\"M1763,-1055.91C1763,-1047.65 1763,-1038.86 1763,-1030.3\"/>\n<polygon fill=\"black\" stroke=\"black\" points=\"1766.5,-1030.02 1763,-1020.02 1759.5,-1030.02 1766.5,-1030.02\"/>\n</g>\n<!-- 36 -->\n<g id=\"node37\" class=\"node\">\n<title>36</title>\n<path fill=\"#44a2e6\" stroke=\"black\" d=\"M2060.5,-1020C2060.5,-1020 1943.5,-1020 1943.5,-1020 1937.5,-1020 1931.5,-1014 1931.5,-1008 1931.5,-1008 1931.5,-949 1931.5,-949 1931.5,-943 1937.5,-937 1943.5,-937 1943.5,-937 2060.5,-937 2060.5,-937 2066.5,-937 2072.5,-943 2072.5,-949 2072.5,-949 2072.5,-1008 2072.5,-1008 2072.5,-1014 2066.5,-1020 2060.5,-1020\"/>\n<text text-anchor=\"start\" x=\"1955\" y=\"-1004.8\" font-family=\"Helvetica,sans-Serif\" font-size=\"14.00\">Light ≤ 639.667</text>\n<text text-anchor=\"start\" x=\"1966.5\" y=\"-989.8\" font-family=\"Helvetica,sans-Serif\" font-size=\"14.00\">gini = 0.097</text>\n<text text-anchor=\"start\" x=\"1957\" y=\"-974.8\" font-family=\"Helvetica,sans-Serif\" font-size=\"14.00\">samples = 195</text>\n<text text-anchor=\"start\" x=\"1951.5\" y=\"-959.8\" font-family=\"Helvetica,sans-Serif\" font-size=\"14.00\">value = [10, 185]</text>\n<text text-anchor=\"start\" x=\"1939.5\" y=\"-944.8\" font-family=\"Helvetica,sans-Serif\" font-size=\"14.00\">class = Sí ocupación</text>\n</g>\n<!-- 30&#45;&gt;36 -->\n<g id=\"edge36\" class=\"edge\">\n<title>30&#45;&gt;36</title>\n<path fill=\"none\" stroke=\"black\" d=\"M1833.74,-1061.87C1861.56,-1048.25 1893.64,-1032.55 1922.28,-1018.53\"/>\n<polygon fill=\"black\" stroke=\"black\" points=\"1924,-1021.58 1931.44,-1014.04 1920.92,-1015.29 1924,-1021.58\"/>\n</g>\n<!-- 32 -->\n<g id=\"node33\" class=\"node\">\n<title>32</title>\n<path fill=\"#399de5\" stroke=\"black\" d=\"M1742.5,-893.5C1742.5,-893.5 1625.5,-893.5 1625.5,-893.5 1619.5,-893.5 1613.5,-887.5 1613.5,-881.5 1613.5,-881.5 1613.5,-837.5 1613.5,-837.5 1613.5,-831.5 1619.5,-825.5 1625.5,-825.5 1625.5,-825.5 1742.5,-825.5 1742.5,-825.5 1748.5,-825.5 1754.5,-831.5 1754.5,-837.5 1754.5,-837.5 1754.5,-881.5 1754.5,-881.5 1754.5,-887.5 1748.5,-893.5 1742.5,-893.5\"/>\n<text text-anchor=\"start\" x=\"1656\" y=\"-878.3\" font-family=\"Helvetica,sans-Serif\" font-size=\"14.00\">gini = 0.0</text>\n<text text-anchor=\"start\" x=\"1639\" y=\"-863.3\" font-family=\"Helvetica,sans-Serif\" font-size=\"14.00\">samples = 517</text>\n<text text-anchor=\"start\" x=\"1637\" y=\"-848.3\" font-family=\"Helvetica,sans-Serif\" font-size=\"14.00\">value = [0, 517]</text>\n<text text-anchor=\"start\" x=\"1621.5\" y=\"-833.3\" font-family=\"Helvetica,sans-Serif\" font-size=\"14.00\">class = Sí ocupación</text>\n</g>\n<!-- 31&#45;&gt;32 -->\n<g id=\"edge32\" class=\"edge\">\n<title>31&#45;&gt;32</title>\n<path fill=\"none\" stroke=\"black\" d=\"M1735.59,-936.91C1727.99,-925.65 1719.73,-913.42 1712.09,-902.11\"/>\n<polygon fill=\"black\" stroke=\"black\" points=\"1714.89,-900 1706.39,-893.67 1709.09,-903.91 1714.89,-900\"/>\n</g>\n<!-- 33 -->\n<g id=\"node34\" class=\"node\">\n<title>33</title>\n<path fill=\"#3c9fe5\" stroke=\"black\" d=\"M1901.5,-901C1901.5,-901 1784.5,-901 1784.5,-901 1778.5,-901 1772.5,-895 1772.5,-889 1772.5,-889 1772.5,-830 1772.5,-830 1772.5,-824 1778.5,-818 1784.5,-818 1784.5,-818 1901.5,-818 1901.5,-818 1907.5,-818 1913.5,-824 1913.5,-830 1913.5,-830 1913.5,-889 1913.5,-889 1913.5,-895 1907.5,-901 1901.5,-901\"/>\n<text text-anchor=\"start\" x=\"1796\" y=\"-885.8\" font-family=\"Helvetica,sans-Serif\" font-size=\"14.00\">Light ≤ 536.024</text>\n<text text-anchor=\"start\" x=\"1811\" y=\"-870.8\" font-family=\"Helvetica,sans-Serif\" font-size=\"14.00\">gini = 0.03</text>\n<text text-anchor=\"start\" x=\"1802\" y=\"-855.8\" font-family=\"Helvetica,sans-Serif\" font-size=\"14.00\">samples = 65</text>\n<text text-anchor=\"start\" x=\"1800\" y=\"-840.8\" font-family=\"Helvetica,sans-Serif\" font-size=\"14.00\">value = [1, 64]</text>\n<text text-anchor=\"start\" x=\"1780.5\" y=\"-825.8\" font-family=\"Helvetica,sans-Serif\" font-size=\"14.00\">class = Sí ocupación</text>\n</g>\n<!-- 31&#45;&gt;33 -->\n<g id=\"edge33\" class=\"edge\">\n<title>31&#45;&gt;33</title>\n<path fill=\"none\" stroke=\"black\" d=\"M1790.76,-936.91C1796.84,-928.01 1803.34,-918.51 1809.61,-909.33\"/>\n<polygon fill=\"black\" stroke=\"black\" points=\"1812.54,-911.25 1815.29,-901.02 1806.76,-907.3 1812.54,-911.25\"/>\n</g>\n<!-- 34 -->\n<g id=\"node35\" class=\"node\">\n<title>34</title>\n<path fill=\"#e58139\" stroke=\"black\" d=\"M1742,-774.5C1742,-774.5 1620,-774.5 1620,-774.5 1614,-774.5 1608,-768.5 1608,-762.5 1608,-762.5 1608,-718.5 1608,-718.5 1608,-712.5 1614,-706.5 1620,-706.5 1620,-706.5 1742,-706.5 1742,-706.5 1748,-706.5 1754,-712.5 1754,-718.5 1754,-718.5 1754,-762.5 1754,-762.5 1754,-768.5 1748,-774.5 1742,-774.5\"/>\n<text text-anchor=\"start\" x=\"1653\" y=\"-759.3\" font-family=\"Helvetica,sans-Serif\" font-size=\"14.00\">gini = 0.0</text>\n<text text-anchor=\"start\" x=\"1643.5\" y=\"-744.3\" font-family=\"Helvetica,sans-Serif\" font-size=\"14.00\">samples = 1</text>\n<text text-anchor=\"start\" x=\"1641.5\" y=\"-729.3\" font-family=\"Helvetica,sans-Serif\" font-size=\"14.00\">value = [1, 0]</text>\n<text text-anchor=\"start\" x=\"1616\" y=\"-714.3\" font-family=\"Helvetica,sans-Serif\" font-size=\"14.00\">class = No ocupación</text>\n</g>\n<!-- 33&#45;&gt;34 -->\n<g id=\"edge34\" class=\"edge\">\n<title>33&#45;&gt;34</title>\n<path fill=\"none\" stroke=\"black\" d=\"M1786.79,-817.91C1770.14,-805.88 1751.94,-792.73 1735.4,-780.79\"/>\n<polygon fill=\"black\" stroke=\"black\" points=\"1737.08,-777.68 1726.92,-774.67 1732.98,-783.36 1737.08,-777.68\"/>\n</g>\n<!-- 35 -->\n<g id=\"node36\" class=\"node\">\n<title>35</title>\n<path fill=\"#399de5\" stroke=\"black\" d=\"M1901.5,-774.5C1901.5,-774.5 1784.5,-774.5 1784.5,-774.5 1778.5,-774.5 1772.5,-768.5 1772.5,-762.5 1772.5,-762.5 1772.5,-718.5 1772.5,-718.5 1772.5,-712.5 1778.5,-706.5 1784.5,-706.5 1784.5,-706.5 1901.5,-706.5 1901.5,-706.5 1907.5,-706.5 1913.5,-712.5 1913.5,-718.5 1913.5,-718.5 1913.5,-762.5 1913.5,-762.5 1913.5,-768.5 1907.5,-774.5 1901.5,-774.5\"/>\n<text text-anchor=\"start\" x=\"1815\" y=\"-759.3\" font-family=\"Helvetica,sans-Serif\" font-size=\"14.00\">gini = 0.0</text>\n<text text-anchor=\"start\" x=\"1802\" y=\"-744.3\" font-family=\"Helvetica,sans-Serif\" font-size=\"14.00\">samples = 64</text>\n<text text-anchor=\"start\" x=\"1800\" y=\"-729.3\" font-family=\"Helvetica,sans-Serif\" font-size=\"14.00\">value = [0, 64]</text>\n<text text-anchor=\"start\" x=\"1780.5\" y=\"-714.3\" font-family=\"Helvetica,sans-Serif\" font-size=\"14.00\">class = Sí ocupación</text>\n</g>\n<!-- 33&#45;&gt;35 -->\n<g id=\"edge35\" class=\"edge\">\n<title>33&#45;&gt;35</title>\n<path fill=\"none\" stroke=\"black\" d=\"M1843,-817.91C1843,-807.2 1843,-795.62 1843,-784.78\"/>\n<polygon fill=\"black\" stroke=\"black\" points=\"1846.5,-784.67 1843,-774.67 1839.5,-784.67 1846.5,-784.67\"/>\n</g>\n<!-- 37 -->\n<g id=\"node38\" class=\"node\">\n<title>37</title>\n<path fill=\"#53aae8\" stroke=\"black\" d=\"M2060.5,-901C2060.5,-901 1943.5,-901 1943.5,-901 1937.5,-901 1931.5,-895 1931.5,-889 1931.5,-889 1931.5,-830 1931.5,-830 1931.5,-824 1937.5,-818 1943.5,-818 1943.5,-818 2060.5,-818 2060.5,-818 2066.5,-818 2072.5,-824 2072.5,-830 2072.5,-830 2072.5,-889 2072.5,-889 2072.5,-895 2066.5,-901 2060.5,-901\"/>\n<text text-anchor=\"start\" x=\"1959\" y=\"-885.8\" font-family=\"Helvetica,sans-Serif\" font-size=\"14.00\">Light ≤ 633.25</text>\n<text text-anchor=\"start\" x=\"1966.5\" y=\"-870.8\" font-family=\"Helvetica,sans-Serif\" font-size=\"14.00\">gini = 0.206</text>\n<text text-anchor=\"start\" x=\"1961\" y=\"-855.8\" font-family=\"Helvetica,sans-Serif\" font-size=\"14.00\">samples = 86</text>\n<text text-anchor=\"start\" x=\"1955\" y=\"-840.8\" font-family=\"Helvetica,sans-Serif\" font-size=\"14.00\">value = [10, 76]</text>\n<text text-anchor=\"start\" x=\"1939.5\" y=\"-825.8\" font-family=\"Helvetica,sans-Serif\" font-size=\"14.00\">class = Sí ocupación</text>\n</g>\n<!-- 36&#45;&gt;37 -->\n<g id=\"edge37\" class=\"edge\">\n<title>36&#45;&gt;37</title>\n<path fill=\"none\" stroke=\"black\" d=\"M2002,-936.91C2002,-928.65 2002,-919.86 2002,-911.3\"/>\n<polygon fill=\"black\" stroke=\"black\" points=\"2005.5,-911.02 2002,-901.02 1998.5,-911.02 2005.5,-911.02\"/>\n</g>\n<!-- 56 -->\n<g id=\"node57\" class=\"node\">\n<title>56</title>\n<path fill=\"#399de5\" stroke=\"black\" d=\"M2219.5,-893.5C2219.5,-893.5 2102.5,-893.5 2102.5,-893.5 2096.5,-893.5 2090.5,-887.5 2090.5,-881.5 2090.5,-881.5 2090.5,-837.5 2090.5,-837.5 2090.5,-831.5 2096.5,-825.5 2102.5,-825.5 2102.5,-825.5 2219.5,-825.5 2219.5,-825.5 2225.5,-825.5 2231.5,-831.5 2231.5,-837.5 2231.5,-837.5 2231.5,-881.5 2231.5,-881.5 2231.5,-887.5 2225.5,-893.5 2219.5,-893.5\"/>\n<text text-anchor=\"start\" x=\"2133\" y=\"-878.3\" font-family=\"Helvetica,sans-Serif\" font-size=\"14.00\">gini = 0.0</text>\n<text text-anchor=\"start\" x=\"2116\" y=\"-863.3\" font-family=\"Helvetica,sans-Serif\" font-size=\"14.00\">samples = 109</text>\n<text text-anchor=\"start\" x=\"2114\" y=\"-848.3\" font-family=\"Helvetica,sans-Serif\" font-size=\"14.00\">value = [0, 109]</text>\n<text text-anchor=\"start\" x=\"2098.5\" y=\"-833.3\" font-family=\"Helvetica,sans-Serif\" font-size=\"14.00\">class = Sí ocupación</text>\n</g>\n<!-- 36&#45;&gt;56 -->\n<g id=\"edge56\" class=\"edge\">\n<title>36&#45;&gt;56</title>\n<path fill=\"none\" stroke=\"black\" d=\"M2057.16,-936.91C2073.51,-924.88 2091.37,-911.73 2107.6,-899.79\"/>\n<polygon fill=\"black\" stroke=\"black\" points=\"2109.95,-902.41 2115.93,-893.67 2105.8,-896.77 2109.95,-902.41\"/>\n</g>\n<!-- 38 -->\n<g id=\"node39\" class=\"node\">\n<title>38</title>\n<path fill=\"#4ea7e8\" stroke=\"black\" d=\"M2060.5,-782C2060.5,-782 1943.5,-782 1943.5,-782 1937.5,-782 1931.5,-776 1931.5,-770 1931.5,-770 1931.5,-711 1931.5,-711 1931.5,-705 1937.5,-699 1943.5,-699 1943.5,-699 2060.5,-699 2060.5,-699 2066.5,-699 2072.5,-705 2072.5,-711 2072.5,-711 2072.5,-770 2072.5,-770 2072.5,-776 2066.5,-782 2060.5,-782\"/>\n<text text-anchor=\"start\" x=\"1955\" y=\"-766.8\" font-family=\"Helvetica,sans-Serif\" font-size=\"14.00\">Light ≤ 626.633</text>\n<text text-anchor=\"start\" x=\"1966.5\" y=\"-751.8\" font-family=\"Helvetica,sans-Serif\" font-size=\"14.00\">gini = 0.172</text>\n<text text-anchor=\"start\" x=\"1961\" y=\"-736.8\" font-family=\"Helvetica,sans-Serif\" font-size=\"14.00\">samples = 84</text>\n<text text-anchor=\"start\" x=\"1959\" y=\"-721.8\" font-family=\"Helvetica,sans-Serif\" font-size=\"14.00\">value = [8, 76]</text>\n<text text-anchor=\"start\" x=\"1939.5\" y=\"-706.8\" font-family=\"Helvetica,sans-Serif\" font-size=\"14.00\">class = Sí ocupación</text>\n</g>\n<!-- 37&#45;&gt;38 -->\n<g id=\"edge38\" class=\"edge\">\n<title>37&#45;&gt;38</title>\n<path fill=\"none\" stroke=\"black\" d=\"M2002,-817.91C2002,-809.65 2002,-800.86 2002,-792.3\"/>\n<polygon fill=\"black\" stroke=\"black\" points=\"2005.5,-792.02 2002,-782.02 1998.5,-792.02 2005.5,-792.02\"/>\n</g>\n<!-- 55 -->\n<g id=\"node56\" class=\"node\">\n<title>55</title>\n<path fill=\"#e58139\" stroke=\"black\" d=\"M2225,-774.5C2225,-774.5 2103,-774.5 2103,-774.5 2097,-774.5 2091,-768.5 2091,-762.5 2091,-762.5 2091,-718.5 2091,-718.5 2091,-712.5 2097,-706.5 2103,-706.5 2103,-706.5 2225,-706.5 2225,-706.5 2231,-706.5 2237,-712.5 2237,-718.5 2237,-718.5 2237,-762.5 2237,-762.5 2237,-768.5 2231,-774.5 2225,-774.5\"/>\n<text text-anchor=\"start\" x=\"2136\" y=\"-759.3\" font-family=\"Helvetica,sans-Serif\" font-size=\"14.00\">gini = 0.0</text>\n<text text-anchor=\"start\" x=\"2126.5\" y=\"-744.3\" font-family=\"Helvetica,sans-Serif\" font-size=\"14.00\">samples = 2</text>\n<text text-anchor=\"start\" x=\"2124.5\" y=\"-729.3\" font-family=\"Helvetica,sans-Serif\" font-size=\"14.00\">value = [2, 0]</text>\n<text text-anchor=\"start\" x=\"2099\" y=\"-714.3\" font-family=\"Helvetica,sans-Serif\" font-size=\"14.00\">class = No ocupación</text>\n</g>\n<!-- 37&#45;&gt;55 -->\n<g id=\"edge55\" class=\"edge\">\n<title>37&#45;&gt;55</title>\n<path fill=\"none\" stroke=\"black\" d=\"M2058.21,-817.91C2074.86,-805.88 2093.06,-792.73 2109.6,-780.79\"/>\n<polygon fill=\"black\" stroke=\"black\" points=\"2112.02,-783.36 2118.08,-774.67 2107.92,-777.68 2112.02,-783.36\"/>\n</g>\n<!-- 39 -->\n<g id=\"node40\" class=\"node\">\n<title>39</title>\n<path fill=\"#49a5e7\" stroke=\"black\" d=\"M1979.5,-663C1979.5,-663 1862.5,-663 1862.5,-663 1856.5,-663 1850.5,-657 1850.5,-651 1850.5,-651 1850.5,-592 1850.5,-592 1850.5,-586 1856.5,-580 1862.5,-580 1862.5,-580 1979.5,-580 1979.5,-580 1985.5,-580 1991.5,-586 1991.5,-592 1991.5,-592 1991.5,-651 1991.5,-651 1991.5,-657 1985.5,-663 1979.5,-663\"/>\n<text text-anchor=\"start\" x=\"1878.5\" y=\"-647.8\" font-family=\"Helvetica,sans-Serif\" font-size=\"14.00\">CO2 ≤ 945.25</text>\n<text text-anchor=\"start\" x=\"1889\" y=\"-632.8\" font-family=\"Helvetica,sans-Serif\" font-size=\"14.00\">gini = 0.14</text>\n<text text-anchor=\"start\" x=\"1880\" y=\"-617.8\" font-family=\"Helvetica,sans-Serif\" font-size=\"14.00\">samples = 79</text>\n<text text-anchor=\"start\" x=\"1878\" y=\"-602.8\" font-family=\"Helvetica,sans-Serif\" font-size=\"14.00\">value = [6, 73]</text>\n<text text-anchor=\"start\" x=\"1858.5\" y=\"-587.8\" font-family=\"Helvetica,sans-Serif\" font-size=\"14.00\">class = Sí ocupación</text>\n</g>\n<!-- 38&#45;&gt;39 -->\n<g id=\"edge39\" class=\"edge\">\n<title>38&#45;&gt;39</title>\n<path fill=\"none\" stroke=\"black\" d=\"M1973.9,-698.91C1967.74,-690.01 1961.16,-680.51 1954.81,-671.33\"/>\n<polygon fill=\"black\" stroke=\"black\" points=\"1957.62,-669.25 1949.05,-663.02 1951.87,-673.24 1957.62,-669.25\"/>\n</g>\n<!-- 52 -->\n<g id=\"node53\" class=\"node\">\n<title>52</title>\n<path fill=\"#bddef6\" stroke=\"black\" d=\"M2141.5,-663C2141.5,-663 2024.5,-663 2024.5,-663 2018.5,-663 2012.5,-657 2012.5,-651 2012.5,-651 2012.5,-592 2012.5,-592 2012.5,-586 2018.5,-580 2024.5,-580 2024.5,-580 2141.5,-580 2141.5,-580 2147.5,-580 2153.5,-586 2153.5,-592 2153.5,-592 2153.5,-651 2153.5,-651 2153.5,-657 2147.5,-663 2141.5,-663\"/>\n<text text-anchor=\"start\" x=\"2044\" y=\"-647.8\" font-family=\"Helvetica,sans-Serif\" font-size=\"14.00\">CO2 ≤ 932.1</text>\n<text text-anchor=\"start\" x=\"2051\" y=\"-632.8\" font-family=\"Helvetica,sans-Serif\" font-size=\"14.00\">gini = 0.48</text>\n<text text-anchor=\"start\" x=\"2045.5\" y=\"-617.8\" font-family=\"Helvetica,sans-Serif\" font-size=\"14.00\">samples = 5</text>\n<text text-anchor=\"start\" x=\"2043.5\" y=\"-602.8\" font-family=\"Helvetica,sans-Serif\" font-size=\"14.00\">value = [2, 3]</text>\n<text text-anchor=\"start\" x=\"2020.5\" y=\"-587.8\" font-family=\"Helvetica,sans-Serif\" font-size=\"14.00\">class = Sí ocupación</text>\n</g>\n<!-- 38&#45;&gt;52 -->\n<g id=\"edge52\" class=\"edge\">\n<title>38&#45;&gt;52</title>\n<path fill=\"none\" stroke=\"black\" d=\"M2030.1,-698.91C2036.26,-690.01 2042.84,-680.51 2049.19,-671.33\"/>\n<polygon fill=\"black\" stroke=\"black\" points=\"2052.13,-673.24 2054.95,-663.02 2046.38,-669.25 2052.13,-673.24\"/>\n</g>\n<!-- 40 -->\n<g id=\"node41\" class=\"node\">\n<title>40</title>\n<path fill=\"#3d9fe6\" stroke=\"black\" d=\"M1820.5,-544C1820.5,-544 1703.5,-544 1703.5,-544 1697.5,-544 1691.5,-538 1691.5,-532 1691.5,-532 1691.5,-473 1691.5,-473 1691.5,-467 1697.5,-461 1703.5,-461 1703.5,-461 1820.5,-461 1820.5,-461 1826.5,-461 1832.5,-467 1832.5,-473 1832.5,-473 1832.5,-532 1832.5,-532 1832.5,-538 1826.5,-544 1820.5,-544\"/>\n<text text-anchor=\"start\" x=\"1715\" y=\"-528.8\" font-family=\"Helvetica,sans-Serif\" font-size=\"14.00\">Light ≤ 557.983</text>\n<text text-anchor=\"start\" x=\"1730\" y=\"-513.8\" font-family=\"Helvetica,sans-Serif\" font-size=\"14.00\">gini = 0.04</text>\n<text text-anchor=\"start\" x=\"1721\" y=\"-498.8\" font-family=\"Helvetica,sans-Serif\" font-size=\"14.00\">samples = 49</text>\n<text text-anchor=\"start\" x=\"1719\" y=\"-483.8\" font-family=\"Helvetica,sans-Serif\" font-size=\"14.00\">value = [1, 48]</text>\n<text text-anchor=\"start\" x=\"1699.5\" y=\"-468.8\" font-family=\"Helvetica,sans-Serif\" font-size=\"14.00\">class = Sí ocupación</text>\n</g>\n<!-- 39&#45;&gt;40 -->\n<g id=\"edge40\" class=\"edge\">\n<title>39&#45;&gt;40</title>\n<path fill=\"none\" stroke=\"black\" d=\"M1865.84,-579.91C1852.76,-570.29 1838.72,-559.95 1825.32,-550.09\"/>\n<polygon fill=\"black\" stroke=\"black\" points=\"1827.2,-547.13 1817.07,-544.02 1823.05,-552.77 1827.2,-547.13\"/>\n</g>\n<!-- 43 -->\n<g id=\"node44\" class=\"node\">\n<title>43</title>\n<path fill=\"#61b1ea\" stroke=\"black\" d=\"M1979.5,-544C1979.5,-544 1862.5,-544 1862.5,-544 1856.5,-544 1850.5,-538 1850.5,-532 1850.5,-532 1850.5,-473 1850.5,-473 1850.5,-467 1856.5,-461 1862.5,-461 1862.5,-461 1979.5,-461 1979.5,-461 1985.5,-461 1991.5,-467 1991.5,-473 1991.5,-473 1991.5,-532 1991.5,-532 1991.5,-538 1985.5,-544 1979.5,-544\"/>\n<text text-anchor=\"start\" x=\"1879.5\" y=\"-528.8\" font-family=\"Helvetica,sans-Serif\" font-size=\"14.00\">minuto ≤ 18.0</text>\n<text text-anchor=\"start\" x=\"1885.5\" y=\"-513.8\" font-family=\"Helvetica,sans-Serif\" font-size=\"14.00\">gini = 0.278</text>\n<text text-anchor=\"start\" x=\"1880\" y=\"-498.8\" font-family=\"Helvetica,sans-Serif\" font-size=\"14.00\">samples = 30</text>\n<text text-anchor=\"start\" x=\"1878\" y=\"-483.8\" font-family=\"Helvetica,sans-Serif\" font-size=\"14.00\">value = [5, 25]</text>\n<text text-anchor=\"start\" x=\"1858.5\" y=\"-468.8\" font-family=\"Helvetica,sans-Serif\" font-size=\"14.00\">class = Sí ocupación</text>\n</g>\n<!-- 39&#45;&gt;43 -->\n<g id=\"edge43\" class=\"edge\">\n<title>39&#45;&gt;43</title>\n<path fill=\"none\" stroke=\"black\" d=\"M1921,-579.91C1921,-571.65 1921,-562.86 1921,-554.3\"/>\n<polygon fill=\"black\" stroke=\"black\" points=\"1924.5,-554.02 1921,-544.02 1917.5,-554.02 1924.5,-554.02\"/>\n</g>\n<!-- 41 -->\n<g id=\"node42\" class=\"node\">\n<title>41</title>\n<path fill=\"#e58139\" stroke=\"black\" d=\"M1661,-417.5C1661,-417.5 1539,-417.5 1539,-417.5 1533,-417.5 1527,-411.5 1527,-405.5 1527,-405.5 1527,-361.5 1527,-361.5 1527,-355.5 1533,-349.5 1539,-349.5 1539,-349.5 1661,-349.5 1661,-349.5 1667,-349.5 1673,-355.5 1673,-361.5 1673,-361.5 1673,-405.5 1673,-405.5 1673,-411.5 1667,-417.5 1661,-417.5\"/>\n<text text-anchor=\"start\" x=\"1572\" y=\"-402.3\" font-family=\"Helvetica,sans-Serif\" font-size=\"14.00\">gini = 0.0</text>\n<text text-anchor=\"start\" x=\"1562.5\" y=\"-387.3\" font-family=\"Helvetica,sans-Serif\" font-size=\"14.00\">samples = 1</text>\n<text text-anchor=\"start\" x=\"1560.5\" y=\"-372.3\" font-family=\"Helvetica,sans-Serif\" font-size=\"14.00\">value = [1, 0]</text>\n<text text-anchor=\"start\" x=\"1535\" y=\"-357.3\" font-family=\"Helvetica,sans-Serif\" font-size=\"14.00\">class = No ocupación</text>\n</g>\n<!-- 40&#45;&gt;41 -->\n<g id=\"edge41\" class=\"edge\">\n<title>40&#45;&gt;41</title>\n<path fill=\"none\" stroke=\"black\" d=\"M1705.79,-460.91C1689.14,-448.88 1670.94,-435.73 1654.4,-423.79\"/>\n<polygon fill=\"black\" stroke=\"black\" points=\"1656.08,-420.68 1645.92,-417.67 1651.98,-426.36 1656.08,-420.68\"/>\n</g>\n<!-- 42 -->\n<g id=\"node43\" class=\"node\">\n<title>42</title>\n<path fill=\"#399de5\" stroke=\"black\" d=\"M1820.5,-417.5C1820.5,-417.5 1703.5,-417.5 1703.5,-417.5 1697.5,-417.5 1691.5,-411.5 1691.5,-405.5 1691.5,-405.5 1691.5,-361.5 1691.5,-361.5 1691.5,-355.5 1697.5,-349.5 1703.5,-349.5 1703.5,-349.5 1820.5,-349.5 1820.5,-349.5 1826.5,-349.5 1832.5,-355.5 1832.5,-361.5 1832.5,-361.5 1832.5,-405.5 1832.5,-405.5 1832.5,-411.5 1826.5,-417.5 1820.5,-417.5\"/>\n<text text-anchor=\"start\" x=\"1734\" y=\"-402.3\" font-family=\"Helvetica,sans-Serif\" font-size=\"14.00\">gini = 0.0</text>\n<text text-anchor=\"start\" x=\"1721\" y=\"-387.3\" font-family=\"Helvetica,sans-Serif\" font-size=\"14.00\">samples = 48</text>\n<text text-anchor=\"start\" x=\"1719\" y=\"-372.3\" font-family=\"Helvetica,sans-Serif\" font-size=\"14.00\">value = [0, 48]</text>\n<text text-anchor=\"start\" x=\"1699.5\" y=\"-357.3\" font-family=\"Helvetica,sans-Serif\" font-size=\"14.00\">class = Sí ocupación</text>\n</g>\n<!-- 40&#45;&gt;42 -->\n<g id=\"edge42\" class=\"edge\">\n<title>40&#45;&gt;42</title>\n<path fill=\"none\" stroke=\"black\" d=\"M1762,-460.91C1762,-450.2 1762,-438.62 1762,-427.78\"/>\n<polygon fill=\"black\" stroke=\"black\" points=\"1765.5,-427.67 1762,-417.67 1758.5,-427.67 1765.5,-427.67\"/>\n</g>\n<!-- 44 -->\n<g id=\"node45\" class=\"node\">\n<title>44</title>\n<path fill=\"#399de5\" stroke=\"black\" d=\"M1979.5,-417.5C1979.5,-417.5 1862.5,-417.5 1862.5,-417.5 1856.5,-417.5 1850.5,-411.5 1850.5,-405.5 1850.5,-405.5 1850.5,-361.5 1850.5,-361.5 1850.5,-355.5 1856.5,-349.5 1862.5,-349.5 1862.5,-349.5 1979.5,-349.5 1979.5,-349.5 1985.5,-349.5 1991.5,-355.5 1991.5,-361.5 1991.5,-361.5 1991.5,-405.5 1991.5,-405.5 1991.5,-411.5 1985.5,-417.5 1979.5,-417.5\"/>\n<text text-anchor=\"start\" x=\"1893\" y=\"-402.3\" font-family=\"Helvetica,sans-Serif\" font-size=\"14.00\">gini = 0.0</text>\n<text text-anchor=\"start\" x=\"1880\" y=\"-387.3\" font-family=\"Helvetica,sans-Serif\" font-size=\"14.00\">samples = 16</text>\n<text text-anchor=\"start\" x=\"1878\" y=\"-372.3\" font-family=\"Helvetica,sans-Serif\" font-size=\"14.00\">value = [0, 16]</text>\n<text text-anchor=\"start\" x=\"1858.5\" y=\"-357.3\" font-family=\"Helvetica,sans-Serif\" font-size=\"14.00\">class = Sí ocupación</text>\n</g>\n<!-- 43&#45;&gt;44 -->\n<g id=\"edge44\" class=\"edge\">\n<title>43&#45;&gt;44</title>\n<path fill=\"none\" stroke=\"black\" d=\"M1921,-460.91C1921,-450.2 1921,-438.62 1921,-427.78\"/>\n<polygon fill=\"black\" stroke=\"black\" points=\"1924.5,-427.67 1921,-417.67 1917.5,-427.67 1924.5,-427.67\"/>\n</g>\n<!-- 45 -->\n<g id=\"node46\" class=\"node\">\n<title>45</title>\n<path fill=\"#a7d3f3\" stroke=\"black\" d=\"M2138.5,-425C2138.5,-425 2021.5,-425 2021.5,-425 2015.5,-425 2009.5,-419 2009.5,-413 2009.5,-413 2009.5,-354 2009.5,-354 2009.5,-348 2015.5,-342 2021.5,-342 2021.5,-342 2138.5,-342 2138.5,-342 2144.5,-342 2150.5,-348 2150.5,-354 2150.5,-354 2150.5,-413 2150.5,-413 2150.5,-419 2144.5,-425 2138.5,-425\"/>\n<text text-anchor=\"start\" x=\"2038.5\" y=\"-409.8\" font-family=\"Helvetica,sans-Serif\" font-size=\"14.00\">minuto ≤ 21.5</text>\n<text text-anchor=\"start\" x=\"2044.5\" y=\"-394.8\" font-family=\"Helvetica,sans-Serif\" font-size=\"14.00\">gini = 0.459</text>\n<text text-anchor=\"start\" x=\"2039\" y=\"-379.8\" font-family=\"Helvetica,sans-Serif\" font-size=\"14.00\">samples = 14</text>\n<text text-anchor=\"start\" x=\"2040.5\" y=\"-364.8\" font-family=\"Helvetica,sans-Serif\" font-size=\"14.00\">value = [5, 9]</text>\n<text text-anchor=\"start\" x=\"2017.5\" y=\"-349.8\" font-family=\"Helvetica,sans-Serif\" font-size=\"14.00\">class = Sí ocupación</text>\n</g>\n<!-- 43&#45;&gt;45 -->\n<g id=\"edge45\" class=\"edge\">\n<title>43&#45;&gt;45</title>\n<path fill=\"none\" stroke=\"black\" d=\"M1976.16,-460.91C1989.24,-451.29 2003.28,-440.95 2016.68,-431.09\"/>\n<polygon fill=\"black\" stroke=\"black\" points=\"2018.95,-433.77 2024.93,-425.02 2014.8,-428.13 2018.95,-433.77\"/>\n</g>\n<!-- 46 -->\n<g id=\"node47\" class=\"node\">\n<title>46</title>\n<path fill=\"#e58139\" stroke=\"black\" d=\"M2060,-298.5C2060,-298.5 1938,-298.5 1938,-298.5 1932,-298.5 1926,-292.5 1926,-286.5 1926,-286.5 1926,-242.5 1926,-242.5 1926,-236.5 1932,-230.5 1938,-230.5 1938,-230.5 2060,-230.5 2060,-230.5 2066,-230.5 2072,-236.5 2072,-242.5 2072,-242.5 2072,-286.5 2072,-286.5 2072,-292.5 2066,-298.5 2060,-298.5\"/>\n<text text-anchor=\"start\" x=\"1971\" y=\"-283.3\" font-family=\"Helvetica,sans-Serif\" font-size=\"14.00\">gini = 0.0</text>\n<text text-anchor=\"start\" x=\"1961.5\" y=\"-268.3\" font-family=\"Helvetica,sans-Serif\" font-size=\"14.00\">samples = 3</text>\n<text text-anchor=\"start\" x=\"1959.5\" y=\"-253.3\" font-family=\"Helvetica,sans-Serif\" font-size=\"14.00\">value = [3, 0]</text>\n<text text-anchor=\"start\" x=\"1934\" y=\"-238.3\" font-family=\"Helvetica,sans-Serif\" font-size=\"14.00\">class = No ocupación</text>\n</g>\n<!-- 45&#45;&gt;46 -->\n<g id=\"edge46\" class=\"edge\">\n<title>45&#45;&gt;46</title>\n<path fill=\"none\" stroke=\"black\" d=\"M2051.9,-341.91C2044.11,-330.65 2035.64,-318.42 2027.8,-307.11\"/>\n<polygon fill=\"black\" stroke=\"black\" points=\"2030.53,-304.9 2021.96,-298.67 2024.78,-308.88 2030.53,-304.9\"/>\n</g>\n<!-- 47 -->\n<g id=\"node48\" class=\"node\">\n<title>47</title>\n<path fill=\"#65b3eb\" stroke=\"black\" d=\"M2219.5,-306C2219.5,-306 2102.5,-306 2102.5,-306 2096.5,-306 2090.5,-300 2090.5,-294 2090.5,-294 2090.5,-235 2090.5,-235 2090.5,-229 2096.5,-223 2102.5,-223 2102.5,-223 2219.5,-223 2219.5,-223 2225.5,-223 2231.5,-229 2231.5,-235 2231.5,-235 2231.5,-294 2231.5,-294 2231.5,-300 2225.5,-306 2219.5,-306\"/>\n<text text-anchor=\"start\" x=\"2114.5\" y=\"-290.8\" font-family=\"Helvetica,sans-Serif\" font-size=\"14.00\">CO2 ≤ 993.292</text>\n<text text-anchor=\"start\" x=\"2125.5\" y=\"-275.8\" font-family=\"Helvetica,sans-Serif\" font-size=\"14.00\">gini = 0.298</text>\n<text text-anchor=\"start\" x=\"2120\" y=\"-260.8\" font-family=\"Helvetica,sans-Serif\" font-size=\"14.00\">samples = 11</text>\n<text text-anchor=\"start\" x=\"2121.5\" y=\"-245.8\" font-family=\"Helvetica,sans-Serif\" font-size=\"14.00\">value = [2, 9]</text>\n<text text-anchor=\"start\" x=\"2098.5\" y=\"-230.8\" font-family=\"Helvetica,sans-Serif\" font-size=\"14.00\">class = Sí ocupación</text>\n</g>\n<!-- 45&#45;&gt;47 -->\n<g id=\"edge47\" class=\"edge\">\n<title>45&#45;&gt;47</title>\n<path fill=\"none\" stroke=\"black\" d=\"M2108.1,-341.91C2114.26,-333.01 2120.84,-323.51 2127.19,-314.33\"/>\n<polygon fill=\"black\" stroke=\"black\" points=\"2130.13,-316.24 2132.95,-306.02 2124.38,-312.25 2130.13,-316.24\"/>\n</g>\n<!-- 48 -->\n<g id=\"node49\" class=\"node\">\n<title>48</title>\n<path fill=\"#f2c09c\" stroke=\"black\" d=\"M2141,-187C2141,-187 2019,-187 2019,-187 2013,-187 2007,-181 2007,-175 2007,-175 2007,-116 2007,-116 2007,-110 2013,-104 2019,-104 2019,-104 2141,-104 2141,-104 2147,-104 2153,-110 2153,-116 2153,-116 2153,-175 2153,-175 2153,-181 2147,-187 2141,-187\"/>\n<text text-anchor=\"start\" x=\"2025\" y=\"-171.8\" font-family=\"Helvetica,sans-Serif\" font-size=\"14.00\">Humidity ≤ 25.885</text>\n<text text-anchor=\"start\" x=\"2044.5\" y=\"-156.8\" font-family=\"Helvetica,sans-Serif\" font-size=\"14.00\">gini = 0.444</text>\n<text text-anchor=\"start\" x=\"2042.5\" y=\"-141.8\" font-family=\"Helvetica,sans-Serif\" font-size=\"14.00\">samples = 3</text>\n<text text-anchor=\"start\" x=\"2040.5\" y=\"-126.8\" font-family=\"Helvetica,sans-Serif\" font-size=\"14.00\">value = [2, 1]</text>\n<text text-anchor=\"start\" x=\"2015\" y=\"-111.8\" font-family=\"Helvetica,sans-Serif\" font-size=\"14.00\">class = No ocupación</text>\n</g>\n<!-- 47&#45;&gt;48 -->\n<g id=\"edge48\" class=\"edge\">\n<title>47&#45;&gt;48</title>\n<path fill=\"none\" stroke=\"black\" d=\"M2132.9,-222.91C2126.74,-214.01 2120.16,-204.51 2113.81,-195.33\"/>\n<polygon fill=\"black\" stroke=\"black\" points=\"2116.62,-193.25 2108.05,-187.02 2110.87,-197.24 2116.62,-193.25\"/>\n</g>\n<!-- 51 -->\n<g id=\"node52\" class=\"node\">\n<title>51</title>\n<path fill=\"#399de5\" stroke=\"black\" d=\"M2300.5,-179.5C2300.5,-179.5 2183.5,-179.5 2183.5,-179.5 2177.5,-179.5 2171.5,-173.5 2171.5,-167.5 2171.5,-167.5 2171.5,-123.5 2171.5,-123.5 2171.5,-117.5 2177.5,-111.5 2183.5,-111.5 2183.5,-111.5 2300.5,-111.5 2300.5,-111.5 2306.5,-111.5 2312.5,-117.5 2312.5,-123.5 2312.5,-123.5 2312.5,-167.5 2312.5,-167.5 2312.5,-173.5 2306.5,-179.5 2300.5,-179.5\"/>\n<text text-anchor=\"start\" x=\"2214\" y=\"-164.3\" font-family=\"Helvetica,sans-Serif\" font-size=\"14.00\">gini = 0.0</text>\n<text text-anchor=\"start\" x=\"2204.5\" y=\"-149.3\" font-family=\"Helvetica,sans-Serif\" font-size=\"14.00\">samples = 8</text>\n<text text-anchor=\"start\" x=\"2202.5\" y=\"-134.3\" font-family=\"Helvetica,sans-Serif\" font-size=\"14.00\">value = [0, 8]</text>\n<text text-anchor=\"start\" x=\"2179.5\" y=\"-119.3\" font-family=\"Helvetica,sans-Serif\" font-size=\"14.00\">class = Sí ocupación</text>\n</g>\n<!-- 47&#45;&gt;51 -->\n<g id=\"edge51\" class=\"edge\">\n<title>47&#45;&gt;51</title>\n<path fill=\"none\" stroke=\"black\" d=\"M2189.1,-222.91C2196.89,-211.65 2205.36,-199.42 2213.2,-188.11\"/>\n<polygon fill=\"black\" stroke=\"black\" points=\"2216.22,-189.88 2219.04,-179.67 2210.47,-185.9 2216.22,-189.88\"/>\n</g>\n<!-- 49 -->\n<g id=\"node50\" class=\"node\">\n<title>49</title>\n<path fill=\"#399de5\" stroke=\"black\" d=\"M2057.5,-68C2057.5,-68 1940.5,-68 1940.5,-68 1934.5,-68 1928.5,-62 1928.5,-56 1928.5,-56 1928.5,-12 1928.5,-12 1928.5,-6 1934.5,0 1940.5,0 1940.5,0 2057.5,0 2057.5,0 2063.5,0 2069.5,-6 2069.5,-12 2069.5,-12 2069.5,-56 2069.5,-56 2069.5,-62 2063.5,-68 2057.5,-68\"/>\n<text text-anchor=\"start\" x=\"1971\" y=\"-52.8\" font-family=\"Helvetica,sans-Serif\" font-size=\"14.00\">gini = 0.0</text>\n<text text-anchor=\"start\" x=\"1961.5\" y=\"-37.8\" font-family=\"Helvetica,sans-Serif\" font-size=\"14.00\">samples = 1</text>\n<text text-anchor=\"start\" x=\"1959.5\" y=\"-22.8\" font-family=\"Helvetica,sans-Serif\" font-size=\"14.00\">value = [0, 1]</text>\n<text text-anchor=\"start\" x=\"1936.5\" y=\"-7.8\" font-family=\"Helvetica,sans-Serif\" font-size=\"14.00\">class = Sí ocupación</text>\n</g>\n<!-- 48&#45;&gt;49 -->\n<g id=\"edge49\" class=\"edge\">\n<title>48&#45;&gt;49</title>\n<path fill=\"none\" stroke=\"black\" d=\"M2049.84,-103.73C2043.23,-94.79 2036.22,-85.32 2029.59,-76.36\"/>\n<polygon fill=\"black\" stroke=\"black\" points=\"2032.39,-74.26 2023.63,-68.3 2026.77,-78.42 2032.39,-74.26\"/>\n</g>\n<!-- 50 -->\n<g id=\"node51\" class=\"node\">\n<title>50</title>\n<path fill=\"#e58139\" stroke=\"black\" d=\"M2222,-68C2222,-68 2100,-68 2100,-68 2094,-68 2088,-62 2088,-56 2088,-56 2088,-12 2088,-12 2088,-6 2094,0 2100,0 2100,0 2222,0 2222,0 2228,0 2234,-6 2234,-12 2234,-12 2234,-56 2234,-56 2234,-62 2228,-68 2222,-68\"/>\n<text text-anchor=\"start\" x=\"2133\" y=\"-52.8\" font-family=\"Helvetica,sans-Serif\" font-size=\"14.00\">gini = 0.0</text>\n<text text-anchor=\"start\" x=\"2123.5\" y=\"-37.8\" font-family=\"Helvetica,sans-Serif\" font-size=\"14.00\">samples = 2</text>\n<text text-anchor=\"start\" x=\"2121.5\" y=\"-22.8\" font-family=\"Helvetica,sans-Serif\" font-size=\"14.00\">value = [2, 0]</text>\n<text text-anchor=\"start\" x=\"2096\" y=\"-7.8\" font-family=\"Helvetica,sans-Serif\" font-size=\"14.00\">class = No ocupación</text>\n</g>\n<!-- 48&#45;&gt;50 -->\n<g id=\"edge50\" class=\"edge\">\n<title>48&#45;&gt;50</title>\n<path fill=\"none\" stroke=\"black\" d=\"M2110.16,-103.73C2116.77,-94.79 2123.78,-85.32 2130.41,-76.36\"/>\n<polygon fill=\"black\" stroke=\"black\" points=\"2133.23,-78.42 2136.37,-68.3 2127.61,-74.26 2133.23,-78.42\"/>\n</g>\n<!-- 53 -->\n<g id=\"node54\" class=\"node\">\n<title>53</title>\n<path fill=\"#e58139\" stroke=\"black\" d=\"M2144,-536.5C2144,-536.5 2022,-536.5 2022,-536.5 2016,-536.5 2010,-530.5 2010,-524.5 2010,-524.5 2010,-480.5 2010,-480.5 2010,-474.5 2016,-468.5 2022,-468.5 2022,-468.5 2144,-468.5 2144,-468.5 2150,-468.5 2156,-474.5 2156,-480.5 2156,-480.5 2156,-524.5 2156,-524.5 2156,-530.5 2150,-536.5 2144,-536.5\"/>\n<text text-anchor=\"start\" x=\"2055\" y=\"-521.3\" font-family=\"Helvetica,sans-Serif\" font-size=\"14.00\">gini = 0.0</text>\n<text text-anchor=\"start\" x=\"2045.5\" y=\"-506.3\" font-family=\"Helvetica,sans-Serif\" font-size=\"14.00\">samples = 2</text>\n<text text-anchor=\"start\" x=\"2043.5\" y=\"-491.3\" font-family=\"Helvetica,sans-Serif\" font-size=\"14.00\">value = [2, 0]</text>\n<text text-anchor=\"start\" x=\"2018\" y=\"-476.3\" font-family=\"Helvetica,sans-Serif\" font-size=\"14.00\">class = No ocupación</text>\n</g>\n<!-- 52&#45;&gt;53 -->\n<g id=\"edge53\" class=\"edge\">\n<title>52&#45;&gt;53</title>\n<path fill=\"none\" stroke=\"black\" d=\"M2083,-579.91C2083,-569.2 2083,-557.62 2083,-546.78\"/>\n<polygon fill=\"black\" stroke=\"black\" points=\"2086.5,-546.67 2083,-536.67 2079.5,-546.67 2086.5,-546.67\"/>\n</g>\n<!-- 54 -->\n<g id=\"node55\" class=\"node\">\n<title>54</title>\n<path fill=\"#399de5\" stroke=\"black\" d=\"M2303.5,-536.5C2303.5,-536.5 2186.5,-536.5 2186.5,-536.5 2180.5,-536.5 2174.5,-530.5 2174.5,-524.5 2174.5,-524.5 2174.5,-480.5 2174.5,-480.5 2174.5,-474.5 2180.5,-468.5 2186.5,-468.5 2186.5,-468.5 2303.5,-468.5 2303.5,-468.5 2309.5,-468.5 2315.5,-474.5 2315.5,-480.5 2315.5,-480.5 2315.5,-524.5 2315.5,-524.5 2315.5,-530.5 2309.5,-536.5 2303.5,-536.5\"/>\n<text text-anchor=\"start\" x=\"2217\" y=\"-521.3\" font-family=\"Helvetica,sans-Serif\" font-size=\"14.00\">gini = 0.0</text>\n<text text-anchor=\"start\" x=\"2207.5\" y=\"-506.3\" font-family=\"Helvetica,sans-Serif\" font-size=\"14.00\">samples = 3</text>\n<text text-anchor=\"start\" x=\"2205.5\" y=\"-491.3\" font-family=\"Helvetica,sans-Serif\" font-size=\"14.00\">value = [0, 3]</text>\n<text text-anchor=\"start\" x=\"2182.5\" y=\"-476.3\" font-family=\"Helvetica,sans-Serif\" font-size=\"14.00\">class = Sí ocupación</text>\n</g>\n<!-- 52&#45;&gt;54 -->\n<g id=\"edge54\" class=\"edge\">\n<title>52&#45;&gt;54</title>\n<path fill=\"none\" stroke=\"black\" d=\"M2139.21,-579.91C2155.86,-567.88 2174.06,-554.73 2190.6,-542.79\"/>\n<polygon fill=\"black\" stroke=\"black\" points=\"2193.02,-545.36 2199.08,-536.67 2188.92,-539.68 2193.02,-545.36\"/>\n</g>\n</g>\n</svg>\n",
            "text/plain": [
              "<graphviz.sources.Source at 0x7ff884595310>"
            ]
          },
          "metadata": {},
          "execution_count": 111
        }
      ]
    }
  ]
}